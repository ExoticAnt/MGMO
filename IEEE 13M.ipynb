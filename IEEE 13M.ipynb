{
 "cells": [
  {
   "cell_type": "markdown",
   "id": "north-academy",
   "metadata": {
    "id": "addressed-terrorism"
   },
   "source": [
    "## Ejemplo de Aplicación con la red IEEE 13 modificada ##\n"
   ]
  },
  {
   "cell_type": "code",
   "execution_count": 9,
   "id": "passive-polish",
   "metadata": {},
   "outputs": [
    {
     "name": "stdout",
     "output_type": "stream",
     "text": [
      "The autoreload extension is already loaded. To reload it, use:\n",
      "  %reload_ext autoreload\n"
     ]
    }
   ],
   "source": [
    "%load_ext autoreload"
   ]
  },
  {
   "cell_type": "code",
   "execution_count": 10,
   "id": "behind-estate",
   "metadata": {},
   "outputs": [],
   "source": [
    "%autoreload 2"
   ]
  },
  {
   "cell_type": "code",
   "execution_count": 11,
   "id": "exciting-isolation",
   "metadata": {},
   "outputs": [],
   "source": [
    "import math"
   ]
  },
  {
   "cell_type": "code",
   "execution_count": 12,
   "id": "twelve-european",
   "metadata": {
    "executionInfo": {
     "elapsed": 5552,
     "status": "ok",
     "timestamp": 1620005659685,
     "user": {
      "displayName": "Juan Sardón",
      "photoUrl": "https://lh3.googleusercontent.com/a-/AOh14Gh0hE4Hw8M0I17k-o2PXxLB5i6gNZV_oUTpZlyJ3Q=s64",
      "userId": "08267034058673099115"
     },
     "user_tz": 180
    },
    "id": "aboriginal-joshua"
   },
   "outputs": [],
   "source": [
    "import pandapower as pp"
   ]
  },
  {
   "cell_type": "code",
   "execution_count": 13,
   "id": "respiratory-topic",
   "metadata": {},
   "outputs": [],
   "source": [
    "import pandas as pd"
   ]
  },
  {
   "cell_type": "code",
   "execution_count": 14,
   "id": "theoretical-progress",
   "metadata": {
    "executionInfo": {
     "elapsed": 4248,
     "status": "ok",
     "timestamp": 1620005659688,
     "user": {
      "displayName": "Juan Sardón",
      "photoUrl": "https://lh3.googleusercontent.com/a-/AOh14Gh0hE4Hw8M0I17k-o2PXxLB5i6gNZV_oUTpZlyJ3Q=s64",
      "userId": "08267034058673099115"
     },
     "user_tz": 180
    },
    "id": "collectible-innocent"
   },
   "outputs": [],
   "source": [
    "import pyomo.environ as pe"
   ]
  },
  {
   "cell_type": "code",
   "execution_count": 15,
   "id": "cloudy-minutes",
   "metadata": {
    "executionInfo": {
     "elapsed": 3074,
     "status": "ok",
     "timestamp": 1620005659693,
     "user": {
      "displayName": "Juan Sardón",
      "photoUrl": "https://lh3.googleusercontent.com/a-/AOh14Gh0hE4Hw8M0I17k-o2PXxLB5i6gNZV_oUTpZlyJ3Q=s64",
      "userId": "08267034058673099115"
     },
     "user_tz": 180
    },
    "id": "united-bronze"
   },
   "outputs": [],
   "source": [
    "import matplotlib.pyplot as plt"
   ]
  },
  {
   "cell_type": "code",
   "execution_count": 16,
   "id": "pursuant-civilization",
   "metadata": {},
   "outputs": [],
   "source": [
    "import ModelWriters as mw"
   ]
  },
  {
   "cell_type": "code",
   "execution_count": 17,
   "id": "peaceful-sperm",
   "metadata": {},
   "outputs": [],
   "source": [
    "import ModelWriters.Scenes as Scenes"
   ]
  },
  {
   "cell_type": "code",
   "execution_count": 18,
   "id": "biblical-investing",
   "metadata": {},
   "outputs": [],
   "source": [
    "import ModelWriters.Resources as Resources"
   ]
  },
  {
   "cell_type": "code",
   "execution_count": 19,
   "id": "emotional-evanescence",
   "metadata": {},
   "outputs": [],
   "source": [
    "import ModelWriters.Simulation as Simulation"
   ]
  },
  {
   "cell_type": "markdown",
   "id": "southern-backup",
   "metadata": {},
   "source": [
    "Creating Network"
   ]
  },
  {
   "cell_type": "code",
   "execution_count": 123,
   "id": "institutional-school",
   "metadata": {},
   "outputs": [],
   "source": [
    "net = pp.create_empty_network() "
   ]
  },
  {
   "cell_type": "markdown",
   "id": "scientific-auction",
   "metadata": {},
   "source": [
    "Adding line parameter data:"
   ]
  },
  {
   "cell_type": "code",
   "execution_count": 124,
   "id": "adopted-daniel",
   "metadata": {},
   "outputs": [],
   "source": [
    "line_data = {\"c_nf_per_km\": 0, \"r_ohm_per_km\": 0.40, \"x_ohm_per_km\": 0.30, \"max_i_ka\": 0.300, \"type\": \"al\", \"q_mm2\": 95, \"alpha\": 4.03e-3}\n",
    "pp.create_std_type(net, line_data, \"AlAc 95\", element='line')\n",
    "\n",
    "line_data = {\"c_nf_per_km\": 0, \"r_ohm_per_km\": 0.50, \"x_ohm_per_km\": 0.35, \"max_i_ka\": 0.250, \"type\": \"al\", \"q_mm2\": 70, \"alpha\": 4.03e-3}\n",
    "pp.create_std_type(net, line_data, \"AlAc 70\", element='line')\n",
    "\n",
    "line_data = {\"c_nf_per_km\": 0, \"r_ohm_per_km\": 0.70, \"x_ohm_per_km\": 0.40, \"max_i_ka\": 0.190, \"type\": \"al\", \"q_mm2\": 50, \"alpha\": 4.03e-3}\n",
    "pp.create_std_type(net, line_data, \"AlAc 50\", element='line')\n",
    "\n",
    "line_data = {\"c_nf_per_km\": 0, \"r_ohm_per_km\": 1.20, \"x_ohm_per_km\": 0.45, \"max_i_ka\": 0.130, \"type\": \"al\", \"q_mm2\": 25, \"alpha\": 4.03e-3}\n",
    "pp.create_std_type(net, line_data, \"AlAc 25\", element='line')"
   ]
  },
  {
   "cell_type": "code",
   "execution_count": 125,
   "id": "cordless-customs",
   "metadata": {
    "colab": {
     "base_uri": "https://localhost:8080/"
    },
    "executionInfo": {
     "elapsed": 2223,
     "status": "ok",
     "timestamp": 1620005659694,
     "user": {
      "displayName": "Juan Sardón",
      "photoUrl": "https://lh3.googleusercontent.com/a-/AOh14Gh0hE4Hw8M0I17k-o2PXxLB5i6gNZV_oUTpZlyJ3Q=s64",
      "userId": "08267034058673099115"
     },
     "user_tz": 180
    },
    "id": "corrected-friendly",
    "outputId": "bdf4d701-1857-4ce0-be28-267a95d8d74a"
   },
   "outputs": [
    {
     "data": {
      "text/plain": [
       "4"
      ]
     },
     "execution_count": 125,
     "metadata": {},
     "output_type": "execute_result"
    }
   ],
   "source": [
    "\n",
    "b650 = pp.create_bus(net, name='650', vn_kv=13.2) \n",
    "\n",
    "pp.create_ext_grid(net, name='Ext Grid', bus=b650)\n",
    "\n",
    "b632 = pp.create_bus(net, name='632', vn_kv=13.2) \n",
    "b633 = pp.create_bus(net, name='633', vn_kv=13.2) \n",
    "b645 = pp.create_bus(net, name='645', vn_kv=13.2) \n",
    "b646 = pp.create_bus(net, name='646', vn_kv=13.2) \n",
    "\n",
    "b671 = pp.create_bus(net, name='671', vn_kv=13.2)  \n",
    "b675 = pp.create_bus(net, name='675', vn_kv=13.2) \n",
    "\n",
    "b611 = pp.create_bus(net, name='611', vn_kv=13.2) \n",
    "b684 = pp.create_bus(net, name='684', vn_kv=13.2) \n",
    "b652 = pp.create_bus(net, name='652', vn_kv=13.2) \n",
    "\n",
    "pp.create_line(net, name='L 650-632', from_bus=b650, to_bus=b632, length_km=2.0, std_type=\"AlAc 95\") \n",
    "pp.create_line(net, name='L 632-671', from_bus=b632, to_bus=b671, length_km=2.0, std_type=\"AlAc 95\") \n",
    "pp.create_line(net, name='L 671-684', from_bus=b671, to_bus=b684, length_km=1.5, std_type=\"AlAc 70\") \n",
    "\n",
    "pp.create_line(net, name='L 632-645', from_bus=b632, to_bus=b645, length_km=0.5, std_type=\"AlAc 50\") \n",
    "pp.create_line(net, name='L 645-646', from_bus=b645, to_bus=b646, length_km=0.5, std_type=\"AlAc 50\") \n",
    "pp.create_line(net, name='L 632-633', from_bus=b632, to_bus=b633, length_km=1.0, std_type=\"AlAc 50\") \n",
    "pp.create_line(net, name='L 671-675', from_bus=b671, to_bus=b675, length_km=1.0, std_type=\"AlAc 50\") \n",
    "pp.create_line(net, name='L 684-611', from_bus=b684, to_bus=b611, length_km=0.5, std_type=\"AlAc 25\") \n",
    "pp.create_line(net, name='L 684-652', from_bus=b684, to_bus=b652, length_km=1.0, std_type=\"AlAc 25\") \n",
    "\n",
    "pp.create_load(net, bus=b645, p_mw=1.20, q_mvar = 0.58)\n",
    "pp.create_load(net, bus=b646, p_mw=1.50, q_mvar = 0.58*1.5/1.2)\n",
    "pp.create_load(net, bus=b633, p_mw=0.80, q_mvar = math.sqrt((0.80/0.85)**2-0.8**2))\n",
    "pp.create_load(net, bus=b675, p_mw=0.90, q_mvar = math.sqrt((0.90/0.85)**2-0.9**2))\n",
    "pp.create_load(net, bus=b611, p_mw=0.50, q_mvar = math.sqrt((0.50/0.80)**2-0.5**2))\n",
    "pp.create_load(net, bus=b652, p_mw=0.60, q_mvar = math.sqrt((0.60/0.80)**2-0.6**2))\n",
    "\n",
    "\n",
    "pp.create_sgen(net, name='PV 684', bus=b684, p_mw=0.00, q_mvar=0.00, max_p_mw=0.00, max_q_mvar=0.00)\n",
    "pp.create_sgen(net, name='PV 633', bus=b633, p_mw=0.00, q_mvar=0.00, max_p_mw=0.00, max_q_mvar=0.00)\n",
    "pp.create_sgen(net, name='PV 646', bus=b646, p_mw=0.00, q_mvar=0.00, max_p_mw=0.00, max_q_mvar=0.00)\n",
    "\n",
    "pp.create_sgen(net, name='ST 684', bus=b684, p_mw=0.00, q_mvar=0.00, max_p_mw=0.00, max_q_mvar=0.00)\n",
    "pp.create_sgen(net, name='ST 632', bus=b632, p_mw=0.00, q_mvar=0.00, max_p_mw=0.00, max_q_mvar=0.00)\n",
    "#pp.create_storage(net, bus=b41, p_mw=0.5, q_mvar=0.1, max_e_mwh = 5.0)\n"
   ]
  },
  {
   "cell_type": "code",
   "execution_count": null,
   "id": "hawaiian-allocation",
   "metadata": {},
   "outputs": [],
   "source": [
    "net.bus"
   ]
  },
  {
   "cell_type": "code",
   "execution_count": null,
   "id": "worse-complex",
   "metadata": {},
   "outputs": [],
   "source": [
    "net.ext_grid"
   ]
  },
  {
   "cell_type": "code",
   "execution_count": null,
   "id": "greater-sessions",
   "metadata": {},
   "outputs": [],
   "source": [
    "net.sgen"
   ]
  },
  {
   "cell_type": "code",
   "execution_count": 110,
   "id": "passing-channel",
   "metadata": {},
   "outputs": [
    {
     "data": {
      "text/html": [
       "<div>\n",
       "<style scoped>\n",
       "    .dataframe tbody tr th:only-of-type {\n",
       "        vertical-align: middle;\n",
       "    }\n",
       "\n",
       "    .dataframe tbody tr th {\n",
       "        vertical-align: top;\n",
       "    }\n",
       "\n",
       "    .dataframe thead th {\n",
       "        text-align: right;\n",
       "    }\n",
       "</style>\n",
       "<table border=\"1\" class=\"dataframe\">\n",
       "  <thead>\n",
       "    <tr style=\"text-align: right;\">\n",
       "      <th></th>\n",
       "      <th>name</th>\n",
       "      <th>bus</th>\n",
       "      <th>p_mw</th>\n",
       "      <th>q_mvar</th>\n",
       "      <th>const_z_percent</th>\n",
       "      <th>const_i_percent</th>\n",
       "      <th>sn_mva</th>\n",
       "      <th>scaling</th>\n",
       "      <th>in_service</th>\n",
       "      <th>type</th>\n",
       "      <th>model</th>\n",
       "    </tr>\n",
       "  </thead>\n",
       "  <tbody>\n",
       "    <tr>\n",
       "      <th>0</th>\n",
       "      <td>None</td>\n",
       "      <td>3</td>\n",
       "      <td>1.2</td>\n",
       "      <td>0.580000</td>\n",
       "      <td>0.0</td>\n",
       "      <td>0.0</td>\n",
       "      <td>NaN</td>\n",
       "      <td>1.0</td>\n",
       "      <td>True</td>\n",
       "      <td>wye</td>\n",
       "      <td>None</td>\n",
       "    </tr>\n",
       "    <tr>\n",
       "      <th>1</th>\n",
       "      <td>None</td>\n",
       "      <td>4</td>\n",
       "      <td>1.5</td>\n",
       "      <td>0.725000</td>\n",
       "      <td>0.0</td>\n",
       "      <td>0.0</td>\n",
       "      <td>NaN</td>\n",
       "      <td>1.0</td>\n",
       "      <td>True</td>\n",
       "      <td>wye</td>\n",
       "      <td>None</td>\n",
       "    </tr>\n",
       "    <tr>\n",
       "      <th>2</th>\n",
       "      <td>None</td>\n",
       "      <td>2</td>\n",
       "      <td>0.8</td>\n",
       "      <td>0.495795</td>\n",
       "      <td>0.0</td>\n",
       "      <td>0.0</td>\n",
       "      <td>NaN</td>\n",
       "      <td>1.0</td>\n",
       "      <td>True</td>\n",
       "      <td>wye</td>\n",
       "      <td>None</td>\n",
       "    </tr>\n",
       "    <tr>\n",
       "      <th>3</th>\n",
       "      <td>None</td>\n",
       "      <td>6</td>\n",
       "      <td>0.9</td>\n",
       "      <td>0.557770</td>\n",
       "      <td>0.0</td>\n",
       "      <td>0.0</td>\n",
       "      <td>NaN</td>\n",
       "      <td>1.0</td>\n",
       "      <td>True</td>\n",
       "      <td>wye</td>\n",
       "      <td>None</td>\n",
       "    </tr>\n",
       "    <tr>\n",
       "      <th>4</th>\n",
       "      <td>None</td>\n",
       "      <td>7</td>\n",
       "      <td>0.5</td>\n",
       "      <td>0.375000</td>\n",
       "      <td>0.0</td>\n",
       "      <td>0.0</td>\n",
       "      <td>NaN</td>\n",
       "      <td>1.0</td>\n",
       "      <td>True</td>\n",
       "      <td>wye</td>\n",
       "      <td>None</td>\n",
       "    </tr>\n",
       "    <tr>\n",
       "      <th>5</th>\n",
       "      <td>None</td>\n",
       "      <td>9</td>\n",
       "      <td>0.6</td>\n",
       "      <td>0.450000</td>\n",
       "      <td>0.0</td>\n",
       "      <td>0.0</td>\n",
       "      <td>NaN</td>\n",
       "      <td>1.0</td>\n",
       "      <td>True</td>\n",
       "      <td>wye</td>\n",
       "      <td>None</td>\n",
       "    </tr>\n",
       "  </tbody>\n",
       "</table>\n",
       "</div>"
      ],
      "text/plain": [
       "   name  bus  p_mw    q_mvar  const_z_percent  const_i_percent  sn_mva  \\\n",
       "0  None    3   1.2  0.580000              0.0              0.0     NaN   \n",
       "1  None    4   1.5  0.725000              0.0              0.0     NaN   \n",
       "2  None    2   0.8  0.495795              0.0              0.0     NaN   \n",
       "3  None    6   0.9  0.557770              0.0              0.0     NaN   \n",
       "4  None    7   0.5  0.375000              0.0              0.0     NaN   \n",
       "5  None    9   0.6  0.450000              0.0              0.0     NaN   \n",
       "\n",
       "   scaling  in_service type model  \n",
       "0      1.0        True  wye  None  \n",
       "1      1.0        True  wye  None  \n",
       "2      1.0        True  wye  None  \n",
       "3      1.0        True  wye  None  \n",
       "4      1.0        True  wye  None  \n",
       "5      1.0        True  wye  None  "
      ]
     },
     "execution_count": 110,
     "metadata": {},
     "output_type": "execute_result"
    }
   ],
   "source": [
    "net.load"
   ]
  },
  {
   "cell_type": "code",
   "execution_count": null,
   "id": "working-aspect",
   "metadata": {},
   "outputs": [],
   "source": [
    "net.line"
   ]
  },
  {
   "cell_type": "code",
   "execution_count": null,
   "id": "headed-numbers",
   "metadata": {
    "executionInfo": {
     "elapsed": 2125,
     "status": "ok",
     "timestamp": 1620005662287,
     "user": {
      "displayName": "Juan Sardón",
      "photoUrl": "https://lh3.googleusercontent.com/a-/AOh14Gh0hE4Hw8M0I17k-o2PXxLB5i6gNZV_oUTpZlyJ3Q=s64",
      "userId": "08267034058673099115"
     },
     "user_tz": 180
    },
    "id": "junior-abraham"
   },
   "outputs": [],
   "source": [
    " pp.runpp(net)"
   ]
  },
  {
   "cell_type": "code",
   "execution_count": null,
   "id": "abstract-million",
   "metadata": {},
   "outputs": [],
   "source": [
    "net.res_bus"
   ]
  },
  {
   "cell_type": "code",
   "execution_count": null,
   "id": "eight-stock",
   "metadata": {},
   "outputs": [],
   "source": [
    "net.res_line"
   ]
  },
  {
   "cell_type": "code",
   "execution_count": null,
   "id": "announced-incidence",
   "metadata": {
    "colab": {
     "base_uri": "https://localhost:8080/"
    },
    "executionInfo": {
     "elapsed": 885,
     "status": "ok",
     "timestamp": 1620005663021,
     "user": {
      "displayName": "Juan Sardón",
      "photoUrl": "https://lh3.googleusercontent.com/a-/AOh14Gh0hE4Hw8M0I17k-o2PXxLB5i6gNZV_oUTpZlyJ3Q=s64",
      "userId": "08267034058673099115"
     },
     "user_tz": 180
    },
    "id": "norwegian-dover",
    "outputId": "f1a78284-1d03-4323-8253-e779b726a433"
   },
   "outputs": [],
   "source": [
    "print(net)"
   ]
  },
  {
   "cell_type": "markdown",
   "id": "split-freight",
   "metadata": {
    "id": "pTK9BGaY4BEu"
   },
   "source": [
    "## Construcción de Escenarios"
   ]
  },
  {
   "cell_type": "code",
   "execution_count": 195,
   "id": "nutritional-tribe",
   "metadata": {},
   "outputs": [
    {
     "data": {
      "text/html": [
       "<div>\n",
       "<style scoped>\n",
       "    .dataframe tbody tr th:only-of-type {\n",
       "        vertical-align: middle;\n",
       "    }\n",
       "\n",
       "    .dataframe tbody tr th {\n",
       "        vertical-align: top;\n",
       "    }\n",
       "\n",
       "    .dataframe thead th {\n",
       "        text-align: right;\n",
       "    }\n",
       "</style>\n",
       "<table border=\"1\" class=\"dataframe\">\n",
       "  <thead>\n",
       "    <tr style=\"text-align: right;\">\n",
       "      <th></th>\n",
       "      <th>year</th>\n",
       "      <th>day</th>\n",
       "      <th>dd</th>\n",
       "      <th>hour</th>\n",
       "      <th>dt</th>\n",
       "      <th>growth</th>\n",
       "      <th>discount</th>\n",
       "      <th>solar_irradiance</th>\n",
       "      <th>wind_speed</th>\n",
       "    </tr>\n",
       "  </thead>\n",
       "  <tbody>\n",
       "    <tr>\n",
       "      <th>0</th>\n",
       "      <td>0.0</td>\n",
       "      <td>0.0</td>\n",
       "      <td>8.690476</td>\n",
       "      <td>0.0</td>\n",
       "      <td>1.0</td>\n",
       "      <td>1.00000</td>\n",
       "      <td>1.000000</td>\n",
       "      <td>0.0</td>\n",
       "      <td>0.114231</td>\n",
       "    </tr>\n",
       "    <tr>\n",
       "      <th>1</th>\n",
       "      <td>0.0</td>\n",
       "      <td>0.0</td>\n",
       "      <td>8.690476</td>\n",
       "      <td>1.0</td>\n",
       "      <td>1.0</td>\n",
       "      <td>1.00000</td>\n",
       "      <td>1.000000</td>\n",
       "      <td>0.0</td>\n",
       "      <td>0.803253</td>\n",
       "    </tr>\n",
       "    <tr>\n",
       "      <th>2</th>\n",
       "      <td>0.0</td>\n",
       "      <td>0.0</td>\n",
       "      <td>8.690476</td>\n",
       "      <td>2.0</td>\n",
       "      <td>1.0</td>\n",
       "      <td>1.00000</td>\n",
       "      <td>1.000000</td>\n",
       "      <td>0.0</td>\n",
       "      <td>1.709110</td>\n",
       "    </tr>\n",
       "    <tr>\n",
       "      <th>3</th>\n",
       "      <td>0.0</td>\n",
       "      <td>0.0</td>\n",
       "      <td>8.690476</td>\n",
       "      <td>3.0</td>\n",
       "      <td>1.0</td>\n",
       "      <td>1.00000</td>\n",
       "      <td>1.000000</td>\n",
       "      <td>0.0</td>\n",
       "      <td>1.795637</td>\n",
       "    </tr>\n",
       "    <tr>\n",
       "      <th>4</th>\n",
       "      <td>0.0</td>\n",
       "      <td>0.0</td>\n",
       "      <td>8.690476</td>\n",
       "      <td>4.0</td>\n",
       "      <td>1.0</td>\n",
       "      <td>1.00000</td>\n",
       "      <td>1.000000</td>\n",
       "      <td>0.0</td>\n",
       "      <td>0.000000</td>\n",
       "    </tr>\n",
       "    <tr>\n",
       "      <th>...</th>\n",
       "      <td>...</td>\n",
       "      <td>...</td>\n",
       "      <td>...</td>\n",
       "      <td>...</td>\n",
       "      <td>...</td>\n",
       "      <td>...</td>\n",
       "      <td>...</td>\n",
       "      <td>...</td>\n",
       "      <td>...</td>\n",
       "    </tr>\n",
       "    <tr>\n",
       "      <th>20155</th>\n",
       "      <td>19.0</td>\n",
       "      <td>306.0</td>\n",
       "      <td>8.690476</td>\n",
       "      <td>19.0</td>\n",
       "      <td>1.0</td>\n",
       "      <td>1.59865</td>\n",
       "      <td>0.570286</td>\n",
       "      <td>0.0</td>\n",
       "      <td>5.851764</td>\n",
       "    </tr>\n",
       "    <tr>\n",
       "      <th>20156</th>\n",
       "      <td>19.0</td>\n",
       "      <td>306.0</td>\n",
       "      <td>8.690476</td>\n",
       "      <td>20.0</td>\n",
       "      <td>1.0</td>\n",
       "      <td>1.59865</td>\n",
       "      <td>0.570286</td>\n",
       "      <td>0.0</td>\n",
       "      <td>6.766975</td>\n",
       "    </tr>\n",
       "    <tr>\n",
       "      <th>20157</th>\n",
       "      <td>19.0</td>\n",
       "      <td>306.0</td>\n",
       "      <td>8.690476</td>\n",
       "      <td>21.0</td>\n",
       "      <td>1.0</td>\n",
       "      <td>1.59865</td>\n",
       "      <td>0.570286</td>\n",
       "      <td>0.0</td>\n",
       "      <td>7.592669</td>\n",
       "    </tr>\n",
       "    <tr>\n",
       "      <th>20158</th>\n",
       "      <td>19.0</td>\n",
       "      <td>306.0</td>\n",
       "      <td>8.690476</td>\n",
       "      <td>22.0</td>\n",
       "      <td>1.0</td>\n",
       "      <td>1.59865</td>\n",
       "      <td>0.570286</td>\n",
       "      <td>0.0</td>\n",
       "      <td>8.276373</td>\n",
       "    </tr>\n",
       "    <tr>\n",
       "      <th>20159</th>\n",
       "      <td>19.0</td>\n",
       "      <td>306.0</td>\n",
       "      <td>8.690476</td>\n",
       "      <td>23.0</td>\n",
       "      <td>1.0</td>\n",
       "      <td>1.59865</td>\n",
       "      <td>0.570286</td>\n",
       "      <td>0.0</td>\n",
       "      <td>8.541735</td>\n",
       "    </tr>\n",
       "  </tbody>\n",
       "</table>\n",
       "<p>20160 rows × 9 columns</p>\n",
       "</div>"
      ],
      "text/plain": [
       "       year    day        dd  hour   dt   growth  discount  solar_irradiance  \\\n",
       "0       0.0    0.0  8.690476   0.0  1.0  1.00000  1.000000               0.0   \n",
       "1       0.0    0.0  8.690476   1.0  1.0  1.00000  1.000000               0.0   \n",
       "2       0.0    0.0  8.690476   2.0  1.0  1.00000  1.000000               0.0   \n",
       "3       0.0    0.0  8.690476   3.0  1.0  1.00000  1.000000               0.0   \n",
       "4       0.0    0.0  8.690476   4.0  1.0  1.00000  1.000000               0.0   \n",
       "...     ...    ...       ...   ...  ...      ...       ...               ...   \n",
       "20155  19.0  306.0  8.690476  19.0  1.0  1.59865  0.570286               0.0   \n",
       "20156  19.0  306.0  8.690476  20.0  1.0  1.59865  0.570286               0.0   \n",
       "20157  19.0  306.0  8.690476  21.0  1.0  1.59865  0.570286               0.0   \n",
       "20158  19.0  306.0  8.690476  22.0  1.0  1.59865  0.570286               0.0   \n",
       "20159  19.0  306.0  8.690476  23.0  1.0  1.59865  0.570286               0.0   \n",
       "\n",
       "       wind_speed  \n",
       "0        0.114231  \n",
       "1        0.803253  \n",
       "2        1.709110  \n",
       "3        1.795637  \n",
       "4        0.000000  \n",
       "...           ...  \n",
       "20155    5.851764  \n",
       "20156    6.766975  \n",
       "20157    7.592669  \n",
       "20158    8.276373  \n",
       "20159    8.541735  \n",
       "\n",
       "[20160 rows x 9 columns]"
      ]
     },
     "execution_count": 195,
     "metadata": {},
     "output_type": "execute_result"
    }
   ],
   "source": [
    "#s = Scenes.SceneBuilder(years = 4, subperiods = 1, days_in_subperiods = 1, dt=24, growth_rate = 0.025, discount_rate = 0.05)\n",
    "#s = Scenes.SceneBuilder(years = 4, subperiods = 4, days_in_subperiods = 1, dt=1, growth_rate = 0.025, discount_rate = 0.05)\n",
    "#s = Scenes.SceneBuilder(years = 20, subperiods = 4, days_in_subperiods = 5, dt=2, growth_rate = 0.025, discount_rate = 0.03)\n",
    "#s = Scenes.SceneBuilder(years = 20, subperiods = 12, days_in_subperiods = 7, growth_rate = 0.025, discount_rate = 0.03)\n",
    "#s = Scenes.SceneBuilder(years = 20, subperiods = 1, days_in_subperiods = 365, dt = 1, growth_rate = 0.025, discount_rate = 0.03)\n",
    "s = Scenes.SceneBuilder(years = 20, subperiods = 6, days_in_subperiods = 7, dt = 1, growth_rate = 0.025, discount_rate = 0.03)\n",
    "scenes = s.build_scenes()\n",
    "scenes"
   ]
  },
  {
   "cell_type": "markdown",
   "id": "heard-engine",
   "metadata": {},
   "source": [
    "## External Data Loading"
   ]
  },
  {
   "cell_type": "markdown",
   "id": "banned-disclaimer",
   "metadata": {},
   "source": [
    "### Residential User, summer and winter cases"
   ]
  },
  {
   "cell_type": "code",
   "execution_count": 92,
   "id": "homeless-stupid",
   "metadata": {},
   "outputs": [],
   "source": [
    "residential_user_summer = pd.read_csv('.\\\\Data\\\\UserResSum.csv', header = None, squeeze = True) "
   ]
  },
  {
   "cell_type": "code",
   "execution_count": 93,
   "id": "restricted-tuition",
   "metadata": {},
   "outputs": [],
   "source": [
    "residential_user_winter = pd.read_csv('.\\\\Data\\\\UserResWin.csv', header = None, squeeze = True) "
   ]
  },
  {
   "cell_type": "markdown",
   "id": "printable-western",
   "metadata": {},
   "source": [
    "Data is loaded to a data syntethizer:"
   ]
  },
  {
   "cell_type": "code",
   "execution_count": 94,
   "id": "judicial-hampton",
   "metadata": {},
   "outputs": [],
   "source": [
    "Residential_Synth = Simulation.DailyInterpolator( post_random_up=0.15, post_random_down=0.15)\n",
    "\n",
    "#data is hourly, 24 hs\n",
    "hours = [h for h in range(24)]\n",
    "\n",
    "Residential_Synth.add_day(172, hours, residential_user_summer)   #north hemisfere convention, summer is June 21st\n",
    "Residential_Synth.add_day(355, hours, residential_user_winter)   #north hemisfere convention, summer is June 21st\n"
   ]
  },
  {
   "cell_type": "markdown",
   "id": "latter-adelaide",
   "metadata": {},
   "source": [
    "### Commercial User, summer and winter cases"
   ]
  },
  {
   "cell_type": "code",
   "execution_count": 98,
   "id": "consistent-strip",
   "metadata": {},
   "outputs": [],
   "source": [
    "commercial_user_summer = pd.read_csv('.\\\\Data\\\\UserComSum.csv', header = None, squeeze = True) "
   ]
  },
  {
   "cell_type": "code",
   "execution_count": 99,
   "id": "multiple-twins",
   "metadata": {},
   "outputs": [],
   "source": [
    "commercial_user_winter = pd.read_csv('.\\\\Data\\\\UserComWin.csv', header = None, squeeze = True) "
   ]
  },
  {
   "cell_type": "markdown",
   "id": "beneficial-vietnamese",
   "metadata": {},
   "source": [
    "Data is loaded to a data syntethizer:"
   ]
  },
  {
   "cell_type": "code",
   "execution_count": 100,
   "id": "electric-chemistry",
   "metadata": {},
   "outputs": [],
   "source": [
    "Commercial_Synth = Simulation.DailyInterpolator( post_random_up=0.15, post_random_down=0.15)\n",
    "Commercial_Synth.add_day(172, hours, commercial_user_summer)   #north hemisfere convention, summer is June 21st\n",
    "Commercial_Synth.add_day(355, hours, commercial_user_winter)   #north hemisfere convention, summer is June 21st\n"
   ]
  },
  {
   "cell_type": "markdown",
   "id": "raised-tyler",
   "metadata": {},
   "source": [
    "### Industrial User, summer and winter cases"
   ]
  },
  {
   "cell_type": "code",
   "execution_count": 101,
   "id": "interpreted-mobility",
   "metadata": {},
   "outputs": [],
   "source": [
    "industrial_user_summer = pd.read_csv('.\\\\Data\\\\UserIndSum.csv', header = None, squeeze = True) "
   ]
  },
  {
   "cell_type": "code",
   "execution_count": 103,
   "id": "mature-invite",
   "metadata": {},
   "outputs": [],
   "source": [
    "industrial_user_winter = pd.read_csv('.\\\\Data\\\\UserIndWin.csv', header = None, squeeze = True) "
   ]
  },
  {
   "cell_type": "markdown",
   "id": "marine-bookmark",
   "metadata": {},
   "source": [
    "Data is loaded to a data syntethizer:"
   ]
  },
  {
   "cell_type": "code",
   "execution_count": 104,
   "id": "positive-transsexual",
   "metadata": {},
   "outputs": [],
   "source": [
    "Industrial_Synth = Simulation.DailyInterpolator( post_random_up=0.05, post_random_down=0.05)\n",
    "Industrial_Synth.add_day(172, hours, industrial_user_summer)   #north hemisfere convention, summer is June 21st\n",
    "Industrial_Synth.add_day(355, hours, industrial_user_winter)   #north hemisfere convention, summer is June 21st\n"
   ]
  },
  {
   "cell_type": "markdown",
   "id": "nearby-relative",
   "metadata": {},
   "source": [
    "Example using Residential User:"
   ]
  },
  {
   "cell_type": "code",
   "execution_count": 105,
   "id": "explicit-anthony",
   "metadata": {},
   "outputs": [],
   "source": [
    "res = [Residential_Synth.simulate(scenes.iloc[i]) for i in range(len(scenes))]"
   ]
  },
  {
   "cell_type": "code",
   "execution_count": 108,
   "id": "several-cardiff",
   "metadata": {},
   "outputs": [
    {
     "name": "stderr",
     "output_type": "stream",
     "text": [
      "No handles with labels found to put in legend.\n"
     ]
    },
    {
     "data": {
      "image/png": "[encoded data removed]",
      "text/plain": [
       "<Figure size 720x432 with 1 Axes>"
      ]
     },
     "metadata": {
      "needs_background": "light"
     },
     "output_type": "display_data"
    }
   ],
   "source": [
    "fig, ax = plt.subplots(1, 1)\n",
    "\n",
    "fig.set_size_inches(10,6)\n",
    "    \n",
    "ax.plot(res[240:480])\n",
    "    \n",
    "ax.set_xlabel('scene')\n",
    "ax.set_ylabel('P[pu]')\n",
    "\n",
    "ax.legend()\n",
    "\n",
    "ax.grid(True)\n",
    "\n",
    "\n",
    "plt.show()"
   ]
  },
  {
   "cell_type": "markdown",
   "id": "ruled-marshall",
   "metadata": {
    "id": "DrtD-E834lhY"
   },
   "source": [
    "## Optimization models"
   ]
  },
  {
   "cell_type": "code",
   "execution_count": 208,
   "id": "ultimate-course",
   "metadata": {},
   "outputs": [],
   "source": [
    "#model_writer = mw.MultiBusbarModelWriter(net, scenes, overload_cost = 2.0)\n",
    "#model_writer = mw.MultiBusbarModelWriter(net, scenes, overload_cost = None)\n",
    "#model_writer = mw.MultiBusbarModelWriter(net, scenes, overload_hours = 4000)\n",
    "model_writer = mw.MultiBusbarModelWriter(net, scenes, overload_cost = None, overload_hours = None, max_i_pu = 1.2)"
   ]
  },
  {
   "cell_type": "code",
   "execution_count": 209,
   "id": "violent-fusion",
   "metadata": {},
   "outputs": [],
   "source": [
    "net.ext_grid['model'][0] = Resources.ExtGrid('SET', pr_mw = 10.0, peak_value=300, valley_value=150, rest_value=150)"
   ]
  },
  {
   "cell_type": "code",
   "execution_count": 210,
   "id": "resident-trauma",
   "metadata": {},
   "outputs": [],
   "source": [
    "net.load['model'][0] = Resources.Load('645', pr_mw = 1.20, pa_pu = Industrial_Synth)\n",
    "net.load['model'][1] = Resources.Load('646', pr_mw = 1.50, pa_pu = Industrial_Synth)\n",
    "net.load['model'][2] = Resources.Load('633', pr_mw = 0.80, pa_pu = Commercial_Synth)\n",
    "net.load['model'][3] = Resources.Load('675', pr_mw = 0.90, pa_pu = Commercial_Synth)\n",
    "net.load['model'][4] = Resources.Load('611', pr_mw = 0.50, pa_pu = Residential_Synth)\n",
    "net.load['model'][5] = Resources.Load('652', pr_mw = 0.60, pa_pu = Residential_Synth)"
   ]
  },
  {
   "cell_type": "code",
   "execution_count": 211,
   "id": "coated-roman",
   "metadata": {},
   "outputs": [],
   "source": [
    "net.sgen['model'][0] = Resources.PVGenerator('PV 684', ic_0_mu = 0.0, ic_1_mu = 1.35e6, oc_0_mu = 15.0e3/8760, oc_1_mu = 0.0)\n",
    "net.sgen['model'][1] = Resources.PVGenerator('PV 633', ic_0_mu = 0.0, ic_1_mu = 1.35e6, oc_0_mu = 15.0e3/8760, oc_1_mu = 0.0)\n",
    "net.sgen['model'][2] = Resources.PVGenerator('PV 646', ic_0_mu = 0.0, ic_1_mu = 1.35e6, oc_0_mu = 15.0e3/8760, oc_1_mu = 0.0)\n",
    "\n",
    "#net.sgen['model'][1] = Resources.WTGeneratorDiscrete('WT1', unit_size_mw = 0.19, unit_cost_mu = 541e3, oc_0_mu = 0.00, oc_1_mu = 1.70)\n",
    "#net.sgen['model'][2] = Resources.PVGeneratorDiscrete('PV2', unit_size_mw = 0.05, unit_cost_mu = 51e3, oc_0_mu = 0.03, oc_1_mu = 0.0)"
   ]
  },
  {
   "cell_type": "code",
   "execution_count": 212,
   "id": "arbitrary-exemption",
   "metadata": {},
   "outputs": [],
   "source": [
    "#net.storage['model'][0] = Resources.Storage('ST1', ic_1_mu = 554e3, ic_1_mu_cap = 330e3, oc_1_mu = 2.28*4, eta_bb = 0.8, sigma = 2.1e-3)"
   ]
  },
  {
   "cell_type": "code",
   "execution_count": 213,
   "id": "exclusive-english",
   "metadata": {},
   "outputs": [
    {
     "data": {
      "text/html": [
       "<div>\n",
       "<style scoped>\n",
       "    .dataframe tbody tr th:only-of-type {\n",
       "        vertical-align: middle;\n",
       "    }\n",
       "\n",
       "    .dataframe tbody tr th {\n",
       "        vertical-align: top;\n",
       "    }\n",
       "\n",
       "    .dataframe thead th {\n",
       "        text-align: right;\n",
       "    }\n",
       "</style>\n",
       "<table border=\"1\" class=\"dataframe\">\n",
       "  <thead>\n",
       "    <tr style=\"text-align: right;\">\n",
       "      <th></th>\n",
       "      <th>name</th>\n",
       "      <th>bus</th>\n",
       "      <th>p_mw</th>\n",
       "      <th>q_mvar</th>\n",
       "      <th>sn_mva</th>\n",
       "      <th>scaling</th>\n",
       "      <th>in_service</th>\n",
       "      <th>type</th>\n",
       "      <th>current_source</th>\n",
       "      <th>max_p_mw</th>\n",
       "      <th>max_q_mvar</th>\n",
       "      <th>model</th>\n",
       "    </tr>\n",
       "  </thead>\n",
       "  <tbody>\n",
       "    <tr>\n",
       "      <th>0</th>\n",
       "      <td>PV 684</td>\n",
       "      <td>8</td>\n",
       "      <td>0.0</td>\n",
       "      <td>0.0</td>\n",
       "      <td>NaN</td>\n",
       "      <td>1.0</td>\n",
       "      <td>True</td>\n",
       "      <td>wye</td>\n",
       "      <td>True</td>\n",
       "      <td>7.870999</td>\n",
       "      <td>3.935499</td>\n",
       "      <td>Resource: PV 684</td>\n",
       "    </tr>\n",
       "    <tr>\n",
       "      <th>1</th>\n",
       "      <td>PV 633</td>\n",
       "      <td>2</td>\n",
       "      <td>0.0</td>\n",
       "      <td>0.0</td>\n",
       "      <td>NaN</td>\n",
       "      <td>1.0</td>\n",
       "      <td>False</td>\n",
       "      <td>wye</td>\n",
       "      <td>True</td>\n",
       "      <td>0.000000</td>\n",
       "      <td>0.000000</td>\n",
       "      <td>Resource: PV 633</td>\n",
       "    </tr>\n",
       "    <tr>\n",
       "      <th>2</th>\n",
       "      <td>PV 646</td>\n",
       "      <td>4</td>\n",
       "      <td>0.0</td>\n",
       "      <td>0.0</td>\n",
       "      <td>NaN</td>\n",
       "      <td>1.0</td>\n",
       "      <td>False</td>\n",
       "      <td>wye</td>\n",
       "      <td>True</td>\n",
       "      <td>0.000000</td>\n",
       "      <td>0.000000</td>\n",
       "      <td>Resource: PV 646</td>\n",
       "    </tr>\n",
       "    <tr>\n",
       "      <th>3</th>\n",
       "      <td>ST 684</td>\n",
       "      <td>8</td>\n",
       "      <td>0.0</td>\n",
       "      <td>0.0</td>\n",
       "      <td>NaN</td>\n",
       "      <td>1.0</td>\n",
       "      <td>True</td>\n",
       "      <td>wye</td>\n",
       "      <td>True</td>\n",
       "      <td>0.000000</td>\n",
       "      <td>0.000000</td>\n",
       "      <td>None</td>\n",
       "    </tr>\n",
       "    <tr>\n",
       "      <th>4</th>\n",
       "      <td>ST 632</td>\n",
       "      <td>1</td>\n",
       "      <td>0.0</td>\n",
       "      <td>0.0</td>\n",
       "      <td>NaN</td>\n",
       "      <td>1.0</td>\n",
       "      <td>True</td>\n",
       "      <td>wye</td>\n",
       "      <td>True</td>\n",
       "      <td>0.000000</td>\n",
       "      <td>0.000000</td>\n",
       "      <td>None</td>\n",
       "    </tr>\n",
       "  </tbody>\n",
       "</table>\n",
       "</div>"
      ],
      "text/plain": [
       "     name  bus  p_mw  q_mvar  sn_mva  scaling  in_service type  \\\n",
       "0  PV 684    8   0.0     0.0     NaN      1.0        True  wye   \n",
       "1  PV 633    2   0.0     0.0     NaN      1.0       False  wye   \n",
       "2  PV 646    4   0.0     0.0     NaN      1.0       False  wye   \n",
       "3  ST 684    8   0.0     0.0     NaN      1.0        True  wye   \n",
       "4  ST 632    1   0.0     0.0     NaN      1.0        True  wye   \n",
       "\n",
       "   current_source  max_p_mw  max_q_mvar             model  \n",
       "0            True  7.870999    3.935499  Resource: PV 684  \n",
       "1            True  0.000000    0.000000  Resource: PV 633  \n",
       "2            True  0.000000    0.000000  Resource: PV 646  \n",
       "3            True  0.000000    0.000000              None  \n",
       "4            True  0.000000    0.000000              None  "
      ]
     },
     "execution_count": 213,
     "metadata": {},
     "output_type": "execute_result"
    }
   ],
   "source": [
    "net.sgen"
   ]
  },
  {
   "cell_type": "markdown",
   "id": "apparent-animal",
   "metadata": {},
   "source": [
    "## Model Creation"
   ]
  },
  {
   "cell_type": "code",
   "execution_count": 214,
   "id": "adapted-thesis",
   "metadata": {},
   "outputs": [],
   "source": [
    "model = model_writer.create_model()"
   ]
  },
  {
   "cell_type": "code",
   "execution_count": 215,
   "id": "faced-tulsa",
   "metadata": {},
   "outputs": [],
   "source": [
    "if len(scenes) < 40:\n",
    "    model.pprint()"
   ]
  },
  {
   "cell_type": "markdown",
   "id": "vietnamese-dealer",
   "metadata": {},
   "source": [
    "### Additional Constraints\n",
    "\n",
    "1) Only one PV plant\n",
    "2) Only one Storage"
   ]
  },
  {
   "cell_type": "code",
   "execution_count": 216,
   "id": "prime-microwave",
   "metadata": {},
   "outputs": [],
   "source": [
    "#model_writer.additional_constraint(\"One PV\", net.sgen['model'][0].create + net.sgen['model'][1].create + net.sgen['model'][2].create <= 1)"
   ]
  },
  {
   "cell_type": "markdown",
   "id": "third-kelly",
   "metadata": {},
   "source": [
    "## Resolution"
   ]
  },
  {
   "cell_type": "code",
   "execution_count": 217,
   "id": "cloudy-manner",
   "metadata": {},
   "outputs": [
    {
     "name": "stdout",
     "output_type": "stream",
     "text": [
      "\n",
      "Welcome to IBM(R) ILOG(R) CPLEX(R) Interactive Optimizer 20.1.0.0\n",
      "  with Simplex, Mixed Integer & Barrier Optimizers\n",
      "5725-A06 5725-A29 5724-Y48 5724-Y49 5724-Y54 5724-Y55 5655-Y21\n",
      "Copyright IBM Corp. 1988, 2020.  All Rights Reserved.\n",
      "\n",
      "Type 'help' for a list of available commands.\n",
      "Type 'help' followed by a command name for more\n",
      "information on commands.\n",
      "\n",
      "CPLEX> Logfile 'cplex.log' closed.\n",
      "Logfile 'C:\\Users\\jmsar\\AppData\\Local\\Temp\\tmplu821sxw.cplex.log' open.\n",
      "CPLEX> Problem 'C:\\Users\\jmsar\\AppData\\Local\\Temp\\tmpypdlwh2s.pyomo.lp' read.\n",
      "Read time = 0.64 sec. (26.05 ticks)\n",
      "CPLEX> Problem name         : C:\\Users\\jmsar\\AppData\\Local\\Temp\\tmpypdlwh2s.pyomo.lp\n",
      "Objective sense      : Minimize\n",
      "Variables            :  262087  [Nneg: 60484,  Box: 201600,  Binary: 3]\n",
      "Objective nonzeros   :   20163\n",
      "Linear constraints   :  262084  [Less: 60483,  Equal: 201601]\n",
      "  Nonzeros           :  534247\n",
      "  RHS nonzeros       :  120961\n",
      "\n",
      "Variables            : Min LB: -8.230705        Max UB: 10.00000       \n",
      "Objective nonzeros   : Min   : 743.4086         Max   : 1579857.       \n",
      "Linear constraints   :\n",
      "  Nonzeros           : Min   : 0.003507599      Max   : 1000.000       \n",
      "  RHS nonzeros       : Min   : 0.05298014       Max   : 1.567559       \n",
      "CPLEX> Version identifier: 20.1.0.0 | 2020-11-10 | 9bedb6d68\n",
      "Tried aggregator 2 times.\n",
      "MIP Presolve eliminated 171364 rows and 171364 columns.\n",
      "Aggregator did 50400 substitutions.\n",
      "Reduced MIP has 40320 rows, 40323 columns, and 100800 nonzeros.\n",
      "Reduced MIP has 0 binaries, 0 generals, 0 SOSs, and 0 indicators.\n",
      "Presolve time = 0.56 sec. (283.75 ticks)\n",
      "Tried aggregator 1 time.\n",
      "Detecting symmetries...\n",
      "Reduced MIP has 40320 rows, 40323 columns, and 100800 nonzeros.\n",
      "Reduced MIP has 0 binaries, 0 generals, 0 SOSs, and 0 indicators.\n",
      "Presolve time = 0.13 sec. (53.11 ticks)\n",
      "MIP emphasis: balance optimality and feasibility.\n",
      "MIP search method: dynamic search.\n",
      "Parallel mode: deterministic, using up to 4 threads.\n",
      "Root relaxation solution time = 1.23 sec. (633.93 ticks)\n",
      "\n",
      "        Nodes                                         Cuts/\n",
      "   Node  Left     Objective  IInf  Best Integer    Best Bound    ItCnt     Gap\n",
      "\n",
      "*     0     0      integral     0   6.88386e+07   6.88386e+07       25    0.00%\n",
      "Elapsed time = 2.16 sec. (1068.10 ticks, tree = 0.00 MB, solutions = 1)\n",
      "\n",
      "Root node processing (before b&c):\n",
      "  Real time             =    2.19 sec. (1075.96 ticks)\n",
      "Parallel b&c, 4 threads:\n",
      "  Real time             =    0.00 sec. (0.00 ticks)\n",
      "  Sync time (average)   =    0.00 sec.\n",
      "  Wait time (average)   =    0.00 sec.\n",
      "                          ------------\n",
      "Total (root+branch&cut) =    2.19 sec. (1075.96 ticks)\n",
      "\n",
      "Solution pool: 1 solution saved.\n",
      "\n",
      "MIP - Integer optimal solution:  Objective =  6.8838601545e+07\n",
      "Solution time =    2.19 sec.  Iterations = 25  Nodes = 0\n",
      "Deterministic time = 1076.71 ticks  (492.32 ticks/sec)\n",
      "\n",
      "CPLEX> Incumbent solution written to file 'C:\\Users\\jmsar\\AppData\\Local\\Temp\\tmpps7jan5b.cplex.sol'.\n",
      "CPLEX> "
     ]
    }
   ],
   "source": [
    "opt = pe.SolverFactory('cplex')\n",
    "result_obj= opt.solve(model, tee=True)"
   ]
  },
  {
   "cell_type": "code",
   "execution_count": 218,
   "id": "color-briefing",
   "metadata": {},
   "outputs": [],
   "source": [
    "model_writer.backconfigure_network()"
   ]
  },
  {
   "cell_type": "code",
   "execution_count": 219,
   "id": "written-elephant",
   "metadata": {},
   "outputs": [
    {
     "data": {
      "text/html": [
       "<div>\n",
       "<style scoped>\n",
       "    .dataframe tbody tr th:only-of-type {\n",
       "        vertical-align: middle;\n",
       "    }\n",
       "\n",
       "    .dataframe tbody tr th {\n",
       "        vertical-align: top;\n",
       "    }\n",
       "\n",
       "    .dataframe thead th {\n",
       "        text-align: right;\n",
       "    }\n",
       "</style>\n",
       "<table border=\"1\" class=\"dataframe\">\n",
       "  <thead>\n",
       "    <tr style=\"text-align: right;\">\n",
       "      <th></th>\n",
       "      <th>name</th>\n",
       "      <th>bus</th>\n",
       "      <th>p_mw</th>\n",
       "      <th>q_mvar</th>\n",
       "      <th>sn_mva</th>\n",
       "      <th>scaling</th>\n",
       "      <th>in_service</th>\n",
       "      <th>type</th>\n",
       "      <th>current_source</th>\n",
       "      <th>max_p_mw</th>\n",
       "      <th>max_q_mvar</th>\n",
       "      <th>model</th>\n",
       "    </tr>\n",
       "  </thead>\n",
       "  <tbody>\n",
       "    <tr>\n",
       "      <th>0</th>\n",
       "      <td>PV 684</td>\n",
       "      <td>8</td>\n",
       "      <td>0.0</td>\n",
       "      <td>0.0</td>\n",
       "      <td>NaN</td>\n",
       "      <td>1.0</td>\n",
       "      <td>True</td>\n",
       "      <td>wye</td>\n",
       "      <td>True</td>\n",
       "      <td>3.753564</td>\n",
       "      <td>1.876782</td>\n",
       "      <td>Resource: PV 684</td>\n",
       "    </tr>\n",
       "    <tr>\n",
       "      <th>1</th>\n",
       "      <td>PV 633</td>\n",
       "      <td>2</td>\n",
       "      <td>0.0</td>\n",
       "      <td>0.0</td>\n",
       "      <td>NaN</td>\n",
       "      <td>1.0</td>\n",
       "      <td>True</td>\n",
       "      <td>wye</td>\n",
       "      <td>True</td>\n",
       "      <td>1.494866</td>\n",
       "      <td>0.747433</td>\n",
       "      <td>Resource: PV 633</td>\n",
       "    </tr>\n",
       "    <tr>\n",
       "      <th>2</th>\n",
       "      <td>PV 646</td>\n",
       "      <td>4</td>\n",
       "      <td>0.0</td>\n",
       "      <td>0.0</td>\n",
       "      <td>NaN</td>\n",
       "      <td>1.0</td>\n",
       "      <td>True</td>\n",
       "      <td>wye</td>\n",
       "      <td>True</td>\n",
       "      <td>2.620030</td>\n",
       "      <td>1.310015</td>\n",
       "      <td>Resource: PV 646</td>\n",
       "    </tr>\n",
       "    <tr>\n",
       "      <th>3</th>\n",
       "      <td>ST 684</td>\n",
       "      <td>8</td>\n",
       "      <td>0.0</td>\n",
       "      <td>0.0</td>\n",
       "      <td>NaN</td>\n",
       "      <td>1.0</td>\n",
       "      <td>True</td>\n",
       "      <td>wye</td>\n",
       "      <td>True</td>\n",
       "      <td>0.000000</td>\n",
       "      <td>0.000000</td>\n",
       "      <td>None</td>\n",
       "    </tr>\n",
       "    <tr>\n",
       "      <th>4</th>\n",
       "      <td>ST 632</td>\n",
       "      <td>1</td>\n",
       "      <td>0.0</td>\n",
       "      <td>0.0</td>\n",
       "      <td>NaN</td>\n",
       "      <td>1.0</td>\n",
       "      <td>True</td>\n",
       "      <td>wye</td>\n",
       "      <td>True</td>\n",
       "      <td>0.000000</td>\n",
       "      <td>0.000000</td>\n",
       "      <td>None</td>\n",
       "    </tr>\n",
       "  </tbody>\n",
       "</table>\n",
       "</div>"
      ],
      "text/plain": [
       "     name  bus  p_mw  q_mvar  sn_mva  scaling  in_service type  \\\n",
       "0  PV 684    8   0.0     0.0     NaN      1.0        True  wye   \n",
       "1  PV 633    2   0.0     0.0     NaN      1.0        True  wye   \n",
       "2  PV 646    4   0.0     0.0     NaN      1.0        True  wye   \n",
       "3  ST 684    8   0.0     0.0     NaN      1.0        True  wye   \n",
       "4  ST 632    1   0.0     0.0     NaN      1.0        True  wye   \n",
       "\n",
       "   current_source  max_p_mw  max_q_mvar             model  \n",
       "0            True  3.753564    1.876782  Resource: PV 684  \n",
       "1            True  1.494866    0.747433  Resource: PV 633  \n",
       "2            True  2.620030    1.310015  Resource: PV 646  \n",
       "3            True  0.000000    0.000000              None  \n",
       "4            True  0.000000    0.000000              None  "
      ]
     },
     "execution_count": 219,
     "metadata": {},
     "output_type": "execute_result"
    }
   ],
   "source": [
    "model_writer.net.sgen"
   ]
  },
  {
   "cell_type": "code",
   "execution_count": 221,
   "id": "cloudy-privilege",
   "metadata": {},
   "outputs": [
    {
     "data": {
      "text/plain": [
       "7.868460149320587"
      ]
     },
     "execution_count": 221,
     "metadata": {},
     "output_type": "execute_result"
    }
   ],
   "source": [
    "net.sgen.max_p_mw[0] + net.sgen.max_p_mw[1] + net.sgen.max_p_mw[2] "
   ]
  },
  {
   "cell_type": "code",
   "execution_count": 192,
   "id": "little-award",
   "metadata": {},
   "outputs": [
    {
     "data": {
      "text/html": [
       "<div>\n",
       "<style scoped>\n",
       "    .dataframe tbody tr th:only-of-type {\n",
       "        vertical-align: middle;\n",
       "    }\n",
       "\n",
       "    .dataframe tbody tr th {\n",
       "        vertical-align: top;\n",
       "    }\n",
       "\n",
       "    .dataframe thead th {\n",
       "        text-align: right;\n",
       "    }\n",
       "</style>\n",
       "<table border=\"1\" class=\"dataframe\">\n",
       "  <thead>\n",
       "    <tr style=\"text-align: right;\">\n",
       "      <th></th>\n",
       "      <th>name</th>\n",
       "      <th>bus</th>\n",
       "      <th>p_mw</th>\n",
       "      <th>q_mvar</th>\n",
       "      <th>sn_mva</th>\n",
       "      <th>soc_percent</th>\n",
       "      <th>min_e_mwh</th>\n",
       "      <th>max_e_mwh</th>\n",
       "      <th>scaling</th>\n",
       "      <th>in_service</th>\n",
       "      <th>type</th>\n",
       "      <th>model</th>\n",
       "    </tr>\n",
       "  </thead>\n",
       "  <tbody>\n",
       "  </tbody>\n",
       "</table>\n",
       "</div>"
      ],
      "text/plain": [
       "Empty DataFrame\n",
       "Columns: [name, bus, p_mw, q_mvar, sn_mva, soc_percent, min_e_mwh, max_e_mwh, scaling, in_service, type, model]\n",
       "Index: []"
      ]
     },
     "execution_count": 192,
     "metadata": {},
     "output_type": "execute_result"
    }
   ],
   "source": [
    "model_writer.net.storage"
   ]
  },
  {
   "cell_type": "code",
   "execution_count": 193,
   "id": "national-jewelry",
   "metadata": {
    "tags": []
   },
   "outputs": [],
   "source": [
    "Resultados = model_writer.get_scenes_results()"
   ]
  },
  {
   "cell_type": "code",
   "execution_count": 194,
   "id": "identical-birmingham",
   "metadata": {
    "colab": {
     "base_uri": "https://localhost:8080/",
     "height": 424
    },
    "executionInfo": {
     "elapsed": 699,
     "status": "ok",
     "timestamp": 1619873491559,
     "user": {
      "displayName": "Juan Sardón",
      "photoUrl": "https://lh3.googleusercontent.com/a-/AOh14Gh0hE4Hw8M0I17k-o2PXxLB5i6gNZV_oUTpZlyJ3Q=s64",
      "userId": "08267034058673099115"
     },
     "user_tz": 180
    },
    "id": "tropical-completion",
    "outputId": "082e0a6f-0230-4e8e-b532-e95c63049c68"
   },
   "outputs": [
    {
     "data": {
      "text/html": [
       "<div>\n",
       "<style scoped>\n",
       "    .dataframe tbody tr th:only-of-type {\n",
       "        vertical-align: middle;\n",
       "    }\n",
       "\n",
       "    .dataframe tbody tr th {\n",
       "        vertical-align: top;\n",
       "    }\n",
       "\n",
       "    .dataframe thead th {\n",
       "        text-align: right;\n",
       "    }\n",
       "</style>\n",
       "<table border=\"1\" class=\"dataframe\">\n",
       "  <thead>\n",
       "    <tr style=\"text-align: right;\">\n",
       "      <th></th>\n",
       "      <th>SET_p_mw</th>\n",
       "      <th>645_p_mw</th>\n",
       "      <th>646_p_mw</th>\n",
       "      <th>633_p_mw</th>\n",
       "      <th>675_p_mw</th>\n",
       "      <th>611_p_mw</th>\n",
       "      <th>652_p_mw</th>\n",
       "      <th>PV 684_p_mw</th>\n",
       "      <th>L 650_632_pf_mw</th>\n",
       "      <th>L 632_671_pf_mw</th>\n",
       "      <th>L 671_684_pf_mw</th>\n",
       "      <th>L 632_645_pf_mw</th>\n",
       "      <th>L 645_646_pf_mw</th>\n",
       "      <th>L 632_633_pf_mw</th>\n",
       "      <th>L 671_675_pf_mw</th>\n",
       "      <th>L 684_611_pf_mw</th>\n",
       "      <th>L 684_652_pf_mw</th>\n",
       "    </tr>\n",
       "  </thead>\n",
       "  <tbody>\n",
       "    <tr>\n",
       "      <th>0</th>\n",
       "      <td>2.336064</td>\n",
       "      <td>-0.669424</td>\n",
       "      <td>-0.832644</td>\n",
       "      <td>-0.174123</td>\n",
       "      <td>-0.205250</td>\n",
       "      <td>-0.218194</td>\n",
       "      <td>-0.236429</td>\n",
       "      <td>0.0</td>\n",
       "      <td>-2.336064</td>\n",
       "      <td>-0.659873</td>\n",
       "      <td>-0.454623</td>\n",
       "      <td>-1.502069</td>\n",
       "      <td>-0.832644</td>\n",
       "      <td>-0.174123</td>\n",
       "      <td>-0.205250</td>\n",
       "      <td>-0.218194</td>\n",
       "      <td>-0.236429</td>\n",
       "    </tr>\n",
       "    <tr>\n",
       "      <th>1</th>\n",
       "      <td>1.969899</td>\n",
       "      <td>-0.660324</td>\n",
       "      <td>-0.830368</td>\n",
       "      <td>-0.143900</td>\n",
       "      <td>-0.147216</td>\n",
       "      <td>-0.091194</td>\n",
       "      <td>-0.096898</td>\n",
       "      <td>0.0</td>\n",
       "      <td>-1.969899</td>\n",
       "      <td>-0.335308</td>\n",
       "      <td>-0.188092</td>\n",
       "      <td>-1.490692</td>\n",
       "      <td>-0.830368</td>\n",
       "      <td>-0.143900</td>\n",
       "      <td>-0.147216</td>\n",
       "      <td>-0.091194</td>\n",
       "      <td>-0.096898</td>\n",
       "    </tr>\n",
       "    <tr>\n",
       "      <th>2</th>\n",
       "      <td>1.858336</td>\n",
       "      <td>-0.647619</td>\n",
       "      <td>-0.775725</td>\n",
       "      <td>-0.121400</td>\n",
       "      <td>-0.171351</td>\n",
       "      <td>-0.060287</td>\n",
       "      <td>-0.081954</td>\n",
       "      <td>0.0</td>\n",
       "      <td>-1.858336</td>\n",
       "      <td>-0.313592</td>\n",
       "      <td>-0.142241</td>\n",
       "      <td>-1.423344</td>\n",
       "      <td>-0.775725</td>\n",
       "      <td>-0.121400</td>\n",
       "      <td>-0.171351</td>\n",
       "      <td>-0.060287</td>\n",
       "      <td>-0.081954</td>\n",
       "    </tr>\n",
       "    <tr>\n",
       "      <th>3</th>\n",
       "      <td>1.886345</td>\n",
       "      <td>-0.668468</td>\n",
       "      <td>-0.795401</td>\n",
       "      <td>-0.122052</td>\n",
       "      <td>-0.151307</td>\n",
       "      <td>-0.069736</td>\n",
       "      <td>-0.079381</td>\n",
       "      <td>0.0</td>\n",
       "      <td>-1.886345</td>\n",
       "      <td>-0.300423</td>\n",
       "      <td>-0.149116</td>\n",
       "      <td>-1.463870</td>\n",
       "      <td>-0.795401</td>\n",
       "      <td>-0.122052</td>\n",
       "      <td>-0.151307</td>\n",
       "      <td>-0.069736</td>\n",
       "      <td>-0.079381</td>\n",
       "    </tr>\n",
       "    <tr>\n",
       "      <th>4</th>\n",
       "      <td>1.878974</td>\n",
       "      <td>-0.646305</td>\n",
       "      <td>-0.807052</td>\n",
       "      <td>-0.153209</td>\n",
       "      <td>-0.135213</td>\n",
       "      <td>-0.064954</td>\n",
       "      <td>-0.072241</td>\n",
       "      <td>0.0</td>\n",
       "      <td>-1.878974</td>\n",
       "      <td>-0.272408</td>\n",
       "      <td>-0.137195</td>\n",
       "      <td>-1.453357</td>\n",
       "      <td>-0.807052</td>\n",
       "      <td>-0.153209</td>\n",
       "      <td>-0.135213</td>\n",
       "      <td>-0.064954</td>\n",
       "      <td>-0.072241</td>\n",
       "    </tr>\n",
       "    <tr>\n",
       "      <th>...</th>\n",
       "      <td>...</td>\n",
       "      <td>...</td>\n",
       "      <td>...</td>\n",
       "      <td>...</td>\n",
       "      <td>...</td>\n",
       "      <td>...</td>\n",
       "      <td>...</td>\n",
       "      <td>...</td>\n",
       "      <td>...</td>\n",
       "      <td>...</td>\n",
       "      <td>...</td>\n",
       "      <td>...</td>\n",
       "      <td>...</td>\n",
       "      <td>...</td>\n",
       "      <td>...</td>\n",
       "      <td>...</td>\n",
       "      <td>...</td>\n",
       "    </tr>\n",
       "    <tr>\n",
       "      <th>20155</th>\n",
       "      <td>4.208057</td>\n",
       "      <td>-0.942687</td>\n",
       "      <td>-1.159250</td>\n",
       "      <td>-0.599884</td>\n",
       "      <td>-0.743094</td>\n",
       "      <td>-0.337016</td>\n",
       "      <td>-0.426126</td>\n",
       "      <td>0.0</td>\n",
       "      <td>-4.208057</td>\n",
       "      <td>-1.506235</td>\n",
       "      <td>-0.763141</td>\n",
       "      <td>-2.101937</td>\n",
       "      <td>-1.159250</td>\n",
       "      <td>-0.599884</td>\n",
       "      <td>-0.743094</td>\n",
       "      <td>-0.337016</td>\n",
       "      <td>-0.426126</td>\n",
       "    </tr>\n",
       "    <tr>\n",
       "      <th>20156</th>\n",
       "      <td>4.341969</td>\n",
       "      <td>-0.980645</td>\n",
       "      <td>-1.196684</td>\n",
       "      <td>-0.584525</td>\n",
       "      <td>-0.696189</td>\n",
       "      <td>-0.421582</td>\n",
       "      <td>-0.462344</td>\n",
       "      <td>0.0</td>\n",
       "      <td>-4.341969</td>\n",
       "      <td>-1.580115</td>\n",
       "      <td>-0.883926</td>\n",
       "      <td>-2.177329</td>\n",
       "      <td>-1.196684</td>\n",
       "      <td>-0.584525</td>\n",
       "      <td>-0.696189</td>\n",
       "      <td>-0.421582</td>\n",
       "      <td>-0.462344</td>\n",
       "    </tr>\n",
       "    <tr>\n",
       "      <th>20157</th>\n",
       "      <td>4.145658</td>\n",
       "      <td>-0.922293</td>\n",
       "      <td>-1.113158</td>\n",
       "      <td>-0.520109</td>\n",
       "      <td>-0.638720</td>\n",
       "      <td>-0.402609</td>\n",
       "      <td>-0.548770</td>\n",
       "      <td>0.0</td>\n",
       "      <td>-4.145658</td>\n",
       "      <td>-1.590098</td>\n",
       "      <td>-0.951379</td>\n",
       "      <td>-2.035450</td>\n",
       "      <td>-1.113158</td>\n",
       "      <td>-0.520109</td>\n",
       "      <td>-0.638720</td>\n",
       "      <td>-0.402609</td>\n",
       "      <td>-0.548770</td>\n",
       "    </tr>\n",
       "    <tr>\n",
       "      <th>20158</th>\n",
       "      <td>3.475080</td>\n",
       "      <td>-0.816948</td>\n",
       "      <td>-0.980338</td>\n",
       "      <td>-0.411908</td>\n",
       "      <td>-0.482009</td>\n",
       "      <td>-0.349511</td>\n",
       "      <td>-0.434365</td>\n",
       "      <td>0.0</td>\n",
       "      <td>-3.475080</td>\n",
       "      <td>-1.265885</td>\n",
       "      <td>-0.783876</td>\n",
       "      <td>-1.797286</td>\n",
       "      <td>-0.980338</td>\n",
       "      <td>-0.411908</td>\n",
       "      <td>-0.482009</td>\n",
       "      <td>-0.349511</td>\n",
       "      <td>-0.434365</td>\n",
       "    </tr>\n",
       "    <tr>\n",
       "      <th>20159</th>\n",
       "      <td>2.889590</td>\n",
       "      <td>-0.695621</td>\n",
       "      <td>-0.848023</td>\n",
       "      <td>-0.344737</td>\n",
       "      <td>-0.356083</td>\n",
       "      <td>-0.298581</td>\n",
       "      <td>-0.346545</td>\n",
       "      <td>0.0</td>\n",
       "      <td>-2.889590</td>\n",
       "      <td>-1.001209</td>\n",
       "      <td>-0.645126</td>\n",
       "      <td>-1.543644</td>\n",
       "      <td>-0.848023</td>\n",
       "      <td>-0.344737</td>\n",
       "      <td>-0.356083</td>\n",
       "      <td>-0.298581</td>\n",
       "      <td>-0.346545</td>\n",
       "    </tr>\n",
       "  </tbody>\n",
       "</table>\n",
       "<p>20160 rows × 17 columns</p>\n",
       "</div>"
      ],
      "text/plain": [
       "       SET_p_mw  645_p_mw  646_p_mw  633_p_mw  675_p_mw  611_p_mw  652_p_mw  \\\n",
       "0      2.336064 -0.669424 -0.832644 -0.174123 -0.205250 -0.218194 -0.236429   \n",
       "1      1.969899 -0.660324 -0.830368 -0.143900 -0.147216 -0.091194 -0.096898   \n",
       "2      1.858336 -0.647619 -0.775725 -0.121400 -0.171351 -0.060287 -0.081954   \n",
       "3      1.886345 -0.668468 -0.795401 -0.122052 -0.151307 -0.069736 -0.079381   \n",
       "4      1.878974 -0.646305 -0.807052 -0.153209 -0.135213 -0.064954 -0.072241   \n",
       "...         ...       ...       ...       ...       ...       ...       ...   \n",
       "20155  4.208057 -0.942687 -1.159250 -0.599884 -0.743094 -0.337016 -0.426126   \n",
       "20156  4.341969 -0.980645 -1.196684 -0.584525 -0.696189 -0.421582 -0.462344   \n",
       "20157  4.145658 -0.922293 -1.113158 -0.520109 -0.638720 -0.402609 -0.548770   \n",
       "20158  3.475080 -0.816948 -0.980338 -0.411908 -0.482009 -0.349511 -0.434365   \n",
       "20159  2.889590 -0.695621 -0.848023 -0.344737 -0.356083 -0.298581 -0.346545   \n",
       "\n",
       "       PV 684_p_mw  L 650_632_pf_mw  L 632_671_pf_mw  L 671_684_pf_mw  \\\n",
       "0              0.0        -2.336064        -0.659873        -0.454623   \n",
       "1              0.0        -1.969899        -0.335308        -0.188092   \n",
       "2              0.0        -1.858336        -0.313592        -0.142241   \n",
       "3              0.0        -1.886345        -0.300423        -0.149116   \n",
       "4              0.0        -1.878974        -0.272408        -0.137195   \n",
       "...            ...              ...              ...              ...   \n",
       "20155          0.0        -4.208057        -1.506235        -0.763141   \n",
       "20156          0.0        -4.341969        -1.580115        -0.883926   \n",
       "20157          0.0        -4.145658        -1.590098        -0.951379   \n",
       "20158          0.0        -3.475080        -1.265885        -0.783876   \n",
       "20159          0.0        -2.889590        -1.001209        -0.645126   \n",
       "\n",
       "       L 632_645_pf_mw  L 645_646_pf_mw  L 632_633_pf_mw  L 671_675_pf_mw  \\\n",
       "0            -1.502069        -0.832644        -0.174123        -0.205250   \n",
       "1            -1.490692        -0.830368        -0.143900        -0.147216   \n",
       "2            -1.423344        -0.775725        -0.121400        -0.171351   \n",
       "3            -1.463870        -0.795401        -0.122052        -0.151307   \n",
       "4            -1.453357        -0.807052        -0.153209        -0.135213   \n",
       "...                ...              ...              ...              ...   \n",
       "20155        -2.101937        -1.159250        -0.599884        -0.743094   \n",
       "20156        -2.177329        -1.196684        -0.584525        -0.696189   \n",
       "20157        -2.035450        -1.113158        -0.520109        -0.638720   \n",
       "20158        -1.797286        -0.980338        -0.411908        -0.482009   \n",
       "20159        -1.543644        -0.848023        -0.344737        -0.356083   \n",
       "\n",
       "       L 684_611_pf_mw  L 684_652_pf_mw  \n",
       "0            -0.218194        -0.236429  \n",
       "1            -0.091194        -0.096898  \n",
       "2            -0.060287        -0.081954  \n",
       "3            -0.069736        -0.079381  \n",
       "4            -0.064954        -0.072241  \n",
       "...                ...              ...  \n",
       "20155        -0.337016        -0.426126  \n",
       "20156        -0.421582        -0.462344  \n",
       "20157        -0.402609        -0.548770  \n",
       "20158        -0.349511        -0.434365  \n",
       "20159        -0.298581        -0.346545  \n",
       "\n",
       "[20160 rows x 17 columns]"
      ]
     },
     "execution_count": 194,
     "metadata": {},
     "output_type": "execute_result"
    }
   ],
   "source": [
    "Resultados"
   ]
  },
  {
   "cell_type": "code",
   "execution_count": null,
   "id": "academic-conducting",
   "metadata": {},
   "outputs": [],
   "source": []
  },
  {
   "cell_type": "code",
   "execution_count": 147,
   "id": "greenhouse-corrections",
   "metadata": {},
   "outputs": [],
   "source": [
    "def plot_results(results, a = 0, b = 240, items = None, elements = False, lines = False, l_ep = False):\n",
    "    # Set the plot curve with markers and a title\n",
    "    if not (elements or lines or l_ep or items):\n",
    "        raise Exception(\"Nothing to plot\")\n",
    "    \n",
    "    fig, ax = plt.subplots(1, 1)\n",
    "\n",
    "    fig.set_size_inches(10,6)\n",
    "    \n",
    "    for col in results:\n",
    "        p = False\n",
    "        if items and col in items:\n",
    "            p = True\n",
    "        elif col[0:2] == 'L ':\n",
    "            if col[-4:] == 'ep_h':\n",
    "                if l_ep:\n",
    "                    p = True\n",
    "            elif lines:\n",
    "                p = True\n",
    "        elif elements:\n",
    "            p = True\n",
    "\n",
    "        if p:\n",
    "            ax.plot(results[col][a:b], label = col)\n",
    "    \n",
    "    ax.set_xlabel('time')\n",
    "    ax.set_ylabel('P[mw]')\n",
    "\n",
    "    ax.legend()\n",
    "\n",
    "    ax.grid(True)\n",
    "\n",
    "\n",
    "    plt.show()\n",
    "    "
   ]
  },
  {
   "cell_type": "code",
   "execution_count": 178,
   "id": "national-waterproof",
   "metadata": {
    "colab": {
     "base_uri": "https://localhost:8080/",
     "height": 388
    },
    "executionInfo": {
     "elapsed": 1336,
     "status": "ok",
     "timestamp": 1619873495814,
     "user": {
      "displayName": "Juan Sardón",
      "photoUrl": "https://lh3.googleusercontent.com/a-/AOh14Gh0hE4Hw8M0I17k-o2PXxLB5i6gNZV_oUTpZlyJ3Q=s64",
      "userId": "08267034058673099115"
     },
     "user_tz": 180
    },
    "id": "planned-memorial",
    "outputId": "11488d44-f6a7-46f5-dd15-9afe980a328c"
   },
   "outputs": [
    {
     "data": {
      "image/png": "[encoded data removed]",
      "text/plain": [
       "<Figure size 720x432 with 1 Axes>"
      ]
     },
     "metadata": {
      "needs_background": "light"
     },
     "output_type": "display_data"
    }
   ],
   "source": [
    "plot_results(Resultados, a = 0, b = 480, elements = True, lines = False, l_ep = False)"
   ]
  },
  {
   "cell_type": "code",
   "execution_count": null,
   "id": "adverse-maryland",
   "metadata": {},
   "outputs": [],
   "source": [
    "plot_results(Resultados, a = 0, b = 240, lines = True)"
   ]
  },
  {
   "cell_type": "code",
   "execution_count": null,
   "id": "strange-hawaii",
   "metadata": {},
   "outputs": [],
   "source": [
    "plot_results(Resultados, a = 0, b = 240, l_ep = True)"
   ]
  },
  {
   "cell_type": "code",
   "execution_count": null,
   "id": "systematic-mother",
   "metadata": {},
   "outputs": [],
   "source": [
    "plot_results(Resultados, a = 0, b = 240, items = ['PV1_p_mw', 'L 1_3_pf_mw'])"
   ]
  },
  {
   "cell_type": "code",
   "execution_count": null,
   "id": "incident-zimbabwe",
   "metadata": {},
   "outputs": [],
   "source": [
    "for l in range(len(net.line)):\n",
    "    print(\"Line: {0} - TEPH: {1}\".format(net.line.model[l].name, net.line.model[l].get_tep_h()))"
   ]
  },
  {
   "cell_type": "code",
   "execution_count": null,
   "id": "lesbian-conditioning",
   "metadata": {},
   "outputs": [],
   "source": [
    "net.line['model'][0].get_tep_h()"
   ]
  },
  {
   "cell_type": "code",
   "execution_count": null,
   "id": "certain-newsletter",
   "metadata": {},
   "outputs": [],
   "source": [
    "net.line['model'][2].name"
   ]
  },
  {
   "cell_type": "code",
   "execution_count": null,
   "id": "surprising-forwarding",
   "metadata": {},
   "outputs": [],
   "source": [
    "net.line['model'][2].pr_mw"
   ]
  },
  {
   "cell_type": "code",
   "execution_count": null,
   "id": "arbitrary-shadow",
   "metadata": {},
   "outputs": [],
   "source": [
    "net.line['model'][4].name"
   ]
  },
  {
   "cell_type": "code",
   "execution_count": null,
   "id": "collectible-track",
   "metadata": {},
   "outputs": [],
   "source": [
    "net.line['model'][4].pr_mw"
   ]
  },
  {
   "cell_type": "code",
   "execution_count": 154,
   "id": "focused-reading",
   "metadata": {},
   "outputs": [
    {
     "data": {
      "text/plain": [
       "2.0"
      ]
     },
     "execution_count": 154,
     "metadata": {},
     "output_type": "execute_result"
    }
   ],
   "source": [
    "net.sgen.model[0].create.value+net.sgen.model[1].create.value+net.sgen.model[2].create.value"
   ]
  },
  {
   "cell_type": "code",
   "execution_count": null,
   "id": "modular-output",
   "metadata": {},
   "outputs": [],
   "source": []
  }
 ],
 "metadata": {
  "colab": {
   "name": "Prueba PP-Pyomo-4.ipynb",
   "provenance": []
  },
  "kernelspec": {
   "display_name": "Python 3",
   "language": "python",
   "name": "python3"
  },
  "language_info": {
   "codemirror_mode": {
    "name": "ipython",
    "version": 3
   },
   "file_extension": ".py",
   "mimetype": "text/x-python",
   "name": "python",
   "nbconvert_exporter": "python",
   "pygments_lexer": "ipython3",
   "version": "3.8.8"
  }
 },
 "nbformat": 4,
 "nbformat_minor": 5
}
