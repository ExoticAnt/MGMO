{
 "cells": [
  {
   "cell_type": "markdown",
   "id": "disturbed-memphis",
   "metadata": {
    "id": "addressed-terrorism"
   },
   "source": [
    "## Prueba de modelos ##\n",
    "\n",
    "### Version 4: Modelo con 2 DER, planificación anual, granularidad horaria ###\n",
    "\n",
    "Si el modelo tiene que optimizar el balance por horas, tiene 8640 VD, pero sigue teniendo 2 VD binarias"
   ]
  },
  {
   "cell_type": "code",
   "execution_count": 1,
   "id": "super-skating",
   "metadata": {},
   "outputs": [],
   "source": [
    "%load_ext autoreload"
   ]
  },
  {
   "cell_type": "code",
   "execution_count": 2,
   "id": "compliant-suite",
   "metadata": {},
   "outputs": [],
   "source": [
    "%autoreload 2"
   ]
  },
  {
   "cell_type": "code",
   "execution_count": 3,
   "id": "beautiful-lawyer",
   "metadata": {
    "executionInfo": {
     "elapsed": 5552,
     "status": "ok",
     "timestamp": 1620005659685,
     "user": {
      "displayName": "Juan Sardón",
      "photoUrl": "https://lh3.googleusercontent.com/a-/AOh14Gh0hE4Hw8M0I17k-o2PXxLB5i6gNZV_oUTpZlyJ3Q=s64",
      "userId": "08267034058673099115"
     },
     "user_tz": 180
    },
    "id": "aboriginal-joshua"
   },
   "outputs": [],
   "source": [
    "import pandapower as pp"
   ]
  },
  {
   "cell_type": "code",
   "execution_count": 4,
   "id": "spare-pulse",
   "metadata": {
    "executionInfo": {
     "elapsed": 4628,
     "status": "ok",
     "timestamp": 1620005659687,
     "user": {
      "displayName": "Juan Sardón",
      "photoUrl": "https://lh3.googleusercontent.com/a-/AOh14Gh0hE4Hw8M0I17k-o2PXxLB5i6gNZV_oUTpZlyJ3Q=s64",
      "userId": "08267034058673099115"
     },
     "user_tz": 180
    },
    "id": "narrative-census"
   },
   "outputs": [],
   "source": [
    "import pandas as pd"
   ]
  },
  {
   "cell_type": "code",
   "execution_count": 5,
   "id": "progressive-sequence",
   "metadata": {
    "executionInfo": {
     "elapsed": 4248,
     "status": "ok",
     "timestamp": 1620005659688,
     "user": {
      "displayName": "Juan Sardón",
      "photoUrl": "https://lh3.googleusercontent.com/a-/AOh14Gh0hE4Hw8M0I17k-o2PXxLB5i6gNZV_oUTpZlyJ3Q=s64",
      "userId": "08267034058673099115"
     },
     "user_tz": 180
    },
    "id": "collectible-innocent"
   },
   "outputs": [],
   "source": [
    "import pyomo.environ as pe"
   ]
  },
  {
   "cell_type": "code",
   "execution_count": 6,
   "id": "whole-receipt",
   "metadata": {
    "executionInfo": {
     "elapsed": 3906,
     "status": "ok",
     "timestamp": 1620005659690,
     "user": {
      "displayName": "Juan Sardón",
      "photoUrl": "https://lh3.googleusercontent.com/a-/AOh14Gh0hE4Hw8M0I17k-o2PXxLB5i6gNZV_oUTpZlyJ3Q=s64",
      "userId": "08267034058673099115"
     },
     "user_tz": 180
    },
    "id": "handled-baltimore"
   },
   "outputs": [],
   "source": [
    "import math"
   ]
  },
  {
   "cell_type": "code",
   "execution_count": 7,
   "id": "varied-championship",
   "metadata": {
    "executionInfo": {
     "elapsed": 3594,
     "status": "ok",
     "timestamp": 1620005659691,
     "user": {
      "displayName": "Juan Sardón",
      "photoUrl": "https://lh3.googleusercontent.com/a-/AOh14Gh0hE4Hw8M0I17k-o2PXxLB5i6gNZV_oUTpZlyJ3Q=s64",
      "userId": "08267034058673099115"
     },
     "user_tz": 180
    },
    "id": "substantial-payroll"
   },
   "outputs": [],
   "source": [
    "import random"
   ]
  },
  {
   "cell_type": "code",
   "execution_count": 8,
   "id": "stunning-horizon",
   "metadata": {
    "executionInfo": {
     "elapsed": 3074,
     "status": "ok",
     "timestamp": 1620005659693,
     "user": {
      "displayName": "Juan Sardón",
      "photoUrl": "https://lh3.googleusercontent.com/a-/AOh14Gh0hE4Hw8M0I17k-o2PXxLB5i6gNZV_oUTpZlyJ3Q=s64",
      "userId": "08267034058673099115"
     },
     "user_tz": 180
    },
    "id": "united-bronze"
   },
   "outputs": [],
   "source": [
    "import matplotlib.pyplot as plt"
   ]
  },
  {
   "cell_type": "code",
   "execution_count": 9,
   "id": "casual-calibration",
   "metadata": {},
   "outputs": [],
   "source": [
    "import numpy as np"
   ]
  },
  {
   "cell_type": "code",
   "execution_count": 13,
   "id": "compatible-surprise",
   "metadata": {},
   "outputs": [],
   "source": [
    "from mgmo.SimpleBusbar import SimpleModelWriter"
   ]
  },
  {
   "cell_type": "code",
   "execution_count": 20,
   "id": "integrated-arthur",
   "metadata": {},
   "outputs": [],
   "source": [
    "import mgmo as mo"
   ]
  },
  {
   "cell_type": "code",
   "execution_count": 26,
   "id": "plastic-davis",
   "metadata": {},
   "outputs": [],
   "source": [
    "import ModelWriters.Resources.ExtGrid  as ExtGrid"
   ]
  },
  {
   "cell_type": "code",
   "execution_count": 27,
   "id": "armed-posting",
   "metadata": {},
   "outputs": [],
   "source": [
    "import ModelWriters.Resources.Load  as Load"
   ]
  },
  {
   "cell_type": "code",
   "execution_count": 28,
   "id": "compressed-jones",
   "metadata": {},
   "outputs": [],
   "source": [
    "import ModelWriters.Resources.PV  as PV"
   ]
  },
  {
   "cell_type": "code",
   "execution_count": 29,
   "id": "ranking-conjunction",
   "metadata": {},
   "outputs": [],
   "source": [
    "import ModelWriters.Resources.WT  as WT"
   ]
  },
  {
   "cell_type": "code",
   "execution_count": 30,
   "id": "covered-salem",
   "metadata": {},
   "outputs": [],
   "source": [
    "import ModelWriters.Simulation.ElectricityCost as ElectricityCost"
   ]
  },
  {
   "cell_type": "code",
   "execution_count": 31,
   "id": "dutch-subdivision",
   "metadata": {},
   "outputs": [],
   "source": [
    "import ModelWriters.Simulation.Demand as Demand"
   ]
  },
  {
   "cell_type": "code",
   "execution_count": 32,
   "id": "civilian-twenty",
   "metadata": {},
   "outputs": [],
   "source": [
    "import ModelWriters.Simulation.Solar as Solar"
   ]
  },
  {
   "cell_type": "code",
   "execution_count": 33,
   "id": "overall-interval",
   "metadata": {},
   "outputs": [],
   "source": [
    "import ModelWriters.Simulation.Wind as Wind"
   ]
  },
  {
   "cell_type": "code",
   "execution_count": 22,
   "id": "running-gender",
   "metadata": {
    "colab": {
     "base_uri": "https://localhost:8080/"
    },
    "executionInfo": {
     "elapsed": 2223,
     "status": "ok",
     "timestamp": 1620005659694,
     "user": {
      "displayName": "Juan Sardón",
      "photoUrl": "https://lh3.googleusercontent.com/a-/AOh14Gh0hE4Hw8M0I17k-o2PXxLB5i6gNZV_oUTpZlyJ3Q=s64",
      "userId": "08267034058673099115"
     },
     "user_tz": 180
    },
    "id": "corrected-friendly",
    "outputId": "bdf4d701-1857-4ce0-be28-267a95d8d74a"
   },
   "outputs": [
    {
     "data": {
      "text/plain": [
       "2"
      ]
     },
     "execution_count": 22,
     "metadata": {},
     "output_type": "execute_result"
    }
   ],
   "source": [
    "net = pp.create_empty_network() \n",
    "b0 = pp.create_bus(net, vn_kv=13.2)\n",
    "\n",
    "pp.create_ext_grid(net, bus=b0)\n",
    "\n",
    "#ramal 1\n",
    "b11 = pp.create_bus(net, vn_kv=13.2)\n",
    "b12 = pp.create_bus(net, vn_kv=13.2)\n",
    "\n",
    "pp.create_line(net, from_bus=b0, to_bus=b11, length_km=0.8, std_type=\"NAYY 4x50 SE\")\n",
    "pp.create_line(net, from_bus=b11, to_bus=b12, length_km=2.1, std_type=\"NAYY 4x50 SE\")\n",
    "\n",
    "pp.create_sgen(net, b11, p_mw=0.075, q_mvar=0.025, max_p_mw=0.15, max_q_mvar=0.15)\n",
    "pp.create_load(net, bus=b12, p_mw=0.350)\n",
    "\n",
    "#ramal 2\n",
    "b21 = pp.create_bus(net, vn_kv=13.2)\n",
    "pp.create_line(net, from_bus=b0, to_bus=b21, length_km=5.0, std_type=\"NAYY 4x50 SE\")\n",
    "pp.create_sgen(net, b21, p_mw=0.15, q_mvar=0.00, max_p_mw=0.40, max_q_mvar=0.10)\n",
    "##pp.create_storage(net, bus=b21, p_mw=0.25, q_mvar=0.1, max_e_mwh = 3.0)\n",
    "\n",
    "#ramal 3\n",
    "b31 = pp.create_bus(net, vn_kv=13.2)\n",
    "b32 = pp.create_bus(net, vn_kv=13.2)\n",
    "pp.create_line(net, from_bus=b0, to_bus=b31, length_km=0.5, std_type=\"NAYY 4x50 SE\")\n",
    "pp.create_line(net, from_bus=b31, to_bus=b32, length_km=1.5, std_type=\"NAYY 4x50 SE\")\n",
    "pp.create_sgen(net, b31, p_mw=0.08, q_mvar=0.00, max_p_mw=0.30, max_q_mvar=0.10)\n",
    "pp.create_load(net, bus=b32, p_mw=0.85, q_mvar=0.33)\n",
    "\n",
    "\n",
    "#ramal 4\n",
    "b41 = pp.create_bus(net, vn_kv=13.2)\n",
    "pp.create_line(net, from_bus=b0, to_bus=b41, length_km=0.5, std_type=\"NAYY 4x50 SE\")\n",
    "pp.create_load(net, bus=b41, p_mw=0.22, q_mvar=0.05)\n",
    "##pp.create_storage(net, bus=b41, p_mw=0.5, q_mvar=0.1, max_e_mwh = 5.0)\n",
    "\n"
   ]
  },
  {
   "cell_type": "code",
   "execution_count": 23,
   "id": "purple-metabolism",
   "metadata": {
    "executionInfo": {
     "elapsed": 2125,
     "status": "ok",
     "timestamp": 1620005662287,
     "user": {
      "displayName": "Juan Sardón",
      "photoUrl": "https://lh3.googleusercontent.com/a-/AOh14Gh0hE4Hw8M0I17k-o2PXxLB5i6gNZV_oUTpZlyJ3Q=s64",
      "userId": "08267034058673099115"
     },
     "user_tz": 180
    },
    "id": "junior-abraham"
   },
   "outputs": [],
   "source": [
    " pp.runpp(net)"
   ]
  },
  {
   "cell_type": "code",
   "execution_count": 24,
   "id": "limited-button",
   "metadata": {
    "colab": {
     "base_uri": "https://localhost:8080/"
    },
    "executionInfo": {
     "elapsed": 1619,
     "status": "ok",
     "timestamp": 1620005663021,
     "user": {
      "displayName": "Juan Sardón",
      "photoUrl": "https://lh3.googleusercontent.com/a-/AOh14Gh0hE4Hw8M0I17k-o2PXxLB5i6gNZV_oUTpZlyJ3Q=s64",
      "userId": "08267034058673099115"
     },
     "user_tz": 180
    },
    "id": "biological-emergency",
    "outputId": "ff9a4063-32b3-467c-c916-afc6f5140231"
   },
   "outputs": [],
   "source": [
    "#print(net.res_bus.vm_pu)\n",
    "#print(net.res_line)"
   ]
  },
  {
   "cell_type": "code",
   "execution_count": 25,
   "id": "angry-mitchell",
   "metadata": {
    "colab": {
     "base_uri": "https://localhost:8080/"
    },
    "executionInfo": {
     "elapsed": 885,
     "status": "ok",
     "timestamp": 1620005663021,
     "user": {
      "displayName": "Juan Sardón",
      "photoUrl": "https://lh3.googleusercontent.com/a-/AOh14Gh0hE4Hw8M0I17k-o2PXxLB5i6gNZV_oUTpZlyJ3Q=s64",
      "userId": "08267034058673099115"
     },
     "user_tz": 180
    },
    "id": "norwegian-dover",
    "outputId": "f1a78284-1d03-4323-8253-e779b726a433"
   },
   "outputs": [
    {
     "name": "stdout",
     "output_type": "stream",
     "text": [
      "This pandapower network includes the following parameter tables:\n",
      "   - bus (7 elements)\n",
      "   - load (3 elements)\n",
      "   - sgen (3 elements)\n",
      "   - ext_grid (1 element)\n",
      "   - line (6 elements)\n",
      " and the following results tables:\n",
      "   - res_bus (7 elements)\n",
      "   - res_line (6 elements)\n",
      "   - res_ext_grid (1 element)\n",
      "   - res_load (3 elements)\n",
      "   - res_sgen (3 elements)\n"
     ]
    }
   ],
   "source": [
    "print(net)"
   ]
  },
  {
   "cell_type": "code",
   "execution_count": 26,
   "id": "retained-final",
   "metadata": {
    "colab": {
     "base_uri": "https://localhost:8080/",
     "height": 143
    },
    "executionInfo": {
     "elapsed": 877,
     "status": "ok",
     "timestamp": 1620005663401,
     "user": {
      "displayName": "Juan Sardón",
      "photoUrl": "https://lh3.googleusercontent.com/a-/AOh14Gh0hE4Hw8M0I17k-o2PXxLB5i6gNZV_oUTpZlyJ3Q=s64",
      "userId": "08267034058673099115"
     },
     "user_tz": 180
    },
    "id": "seven-international",
    "outputId": "bce17dc0-a6df-4860-fe28-db924addc855"
   },
   "outputs": [
    {
     "data": {
      "text/html": [
       "<div>\n",
       "<style scoped>\n",
       "    .dataframe tbody tr th:only-of-type {\n",
       "        vertical-align: middle;\n",
       "    }\n",
       "\n",
       "    .dataframe tbody tr th {\n",
       "        vertical-align: top;\n",
       "    }\n",
       "\n",
       "    .dataframe thead th {\n",
       "        text-align: right;\n",
       "    }\n",
       "</style>\n",
       "<table border=\"1\" class=\"dataframe\">\n",
       "  <thead>\n",
       "    <tr style=\"text-align: right;\">\n",
       "      <th></th>\n",
       "      <th>name</th>\n",
       "      <th>bus</th>\n",
       "      <th>p_mw</th>\n",
       "      <th>q_mvar</th>\n",
       "      <th>sn_mva</th>\n",
       "      <th>scaling</th>\n",
       "      <th>in_service</th>\n",
       "      <th>type</th>\n",
       "      <th>current_source</th>\n",
       "      <th>max_p_mw</th>\n",
       "      <th>max_q_mvar</th>\n",
       "    </tr>\n",
       "  </thead>\n",
       "  <tbody>\n",
       "    <tr>\n",
       "      <th>0</th>\n",
       "      <td>None</td>\n",
       "      <td>1</td>\n",
       "      <td>0.075</td>\n",
       "      <td>0.025</td>\n",
       "      <td>NaN</td>\n",
       "      <td>1.0</td>\n",
       "      <td>True</td>\n",
       "      <td>wye</td>\n",
       "      <td>True</td>\n",
       "      <td>0.15</td>\n",
       "      <td>0.15</td>\n",
       "    </tr>\n",
       "    <tr>\n",
       "      <th>1</th>\n",
       "      <td>None</td>\n",
       "      <td>3</td>\n",
       "      <td>0.150</td>\n",
       "      <td>0.000</td>\n",
       "      <td>NaN</td>\n",
       "      <td>1.0</td>\n",
       "      <td>True</td>\n",
       "      <td>wye</td>\n",
       "      <td>True</td>\n",
       "      <td>0.40</td>\n",
       "      <td>0.10</td>\n",
       "    </tr>\n",
       "    <tr>\n",
       "      <th>2</th>\n",
       "      <td>None</td>\n",
       "      <td>4</td>\n",
       "      <td>0.080</td>\n",
       "      <td>0.000</td>\n",
       "      <td>NaN</td>\n",
       "      <td>1.0</td>\n",
       "      <td>True</td>\n",
       "      <td>wye</td>\n",
       "      <td>True</td>\n",
       "      <td>0.30</td>\n",
       "      <td>0.10</td>\n",
       "    </tr>\n",
       "  </tbody>\n",
       "</table>\n",
       "</div>"
      ],
      "text/plain": [
       "   name  bus   p_mw  q_mvar  sn_mva  scaling  in_service type  current_source  \\\n",
       "0  None    1  0.075   0.025     NaN      1.0        True  wye            True   \n",
       "1  None    3  0.150   0.000     NaN      1.0        True  wye            True   \n",
       "2  None    4  0.080   0.000     NaN      1.0        True  wye            True   \n",
       "\n",
       "   max_p_mw  max_q_mvar  \n",
       "0      0.15        0.15  \n",
       "1      0.40        0.10  \n",
       "2      0.30        0.10  "
      ]
     },
     "execution_count": 26,
     "metadata": {},
     "output_type": "execute_result"
    }
   ],
   "source": [
    "net.sgen"
   ]
  },
  {
   "cell_type": "code",
   "execution_count": 27,
   "id": "technological-gauge",
   "metadata": {},
   "outputs": [
    {
     "data": {
      "text/html": [
       "<div>\n",
       "<style scoped>\n",
       "    .dataframe tbody tr th:only-of-type {\n",
       "        vertical-align: middle;\n",
       "    }\n",
       "\n",
       "    .dataframe tbody tr th {\n",
       "        vertical-align: top;\n",
       "    }\n",
       "\n",
       "    .dataframe thead th {\n",
       "        text-align: right;\n",
       "    }\n",
       "</style>\n",
       "<table border=\"1\" class=\"dataframe\">\n",
       "  <thead>\n",
       "    <tr style=\"text-align: right;\">\n",
       "      <th></th>\n",
       "      <th>name</th>\n",
       "      <th>bus</th>\n",
       "      <th>p_mw</th>\n",
       "      <th>q_mvar</th>\n",
       "      <th>sn_mva</th>\n",
       "      <th>soc_percent</th>\n",
       "      <th>min_e_mwh</th>\n",
       "      <th>max_e_mwh</th>\n",
       "      <th>scaling</th>\n",
       "      <th>in_service</th>\n",
       "      <th>type</th>\n",
       "    </tr>\n",
       "  </thead>\n",
       "  <tbody>\n",
       "  </tbody>\n",
       "</table>\n",
       "</div>"
      ],
      "text/plain": [
       "Empty DataFrame\n",
       "Columns: [name, bus, p_mw, q_mvar, sn_mva, soc_percent, min_e_mwh, max_e_mwh, scaling, in_service, type]\n",
       "Index: []"
      ]
     },
     "execution_count": 27,
     "metadata": {},
     "output_type": "execute_result"
    }
   ],
   "source": [
    "net.storage"
   ]
  },
  {
   "cell_type": "markdown",
   "id": "pacific-frontier",
   "metadata": {
    "id": "alike-greensboro"
   },
   "source": [
    "Agregamos los parámetros del modelo a los elementos de la red."
   ]
  },
  {
   "cell_type": "code",
   "execution_count": 32,
   "id": "surrounded-island",
   "metadata": {
    "executionInfo": {
     "elapsed": 1677,
     "status": "ok",
     "timestamp": 1620005665253,
     "user": {
      "displayName": "Juan Sardón",
      "photoUrl": "https://lh3.googleusercontent.com/a-/AOh14Gh0hE4Hw8M0I17k-o2PXxLB5i6gNZV_oUTpZlyJ3Q=s64",
      "userId": "08267034058673099115"
     },
     "user_tz": 180
    },
    "id": "circular-simpson"
   },
   "outputs": [],
   "source": [
    "def net_add_optfw(net):\n",
    "    #agregamos parámetros para el modelo de optimización\n",
    "    tables = [net.ext_grid, net.load, net.sgen, net.storage]\n",
    "\n",
    "    for t in tables: \n",
    "        #initial cost\n",
    "        t['model'] = None\n"
   ]
  },
  {
   "cell_type": "code",
   "execution_count": 33,
   "id": "given-winning",
   "metadata": {
    "executionInfo": {
     "elapsed": 500,
     "status": "ok",
     "timestamp": 1620005665256,
     "user": {
      "displayName": "Juan Sardón",
      "photoUrl": "https://lh3.googleusercontent.com/a-/AOh14Gh0hE4Hw8M0I17k-o2PXxLB5i6gNZV_oUTpZlyJ3Q=s64",
      "userId": "08267034058673099115"
     },
     "user_tz": 180
    },
    "id": "respiratory-transport"
   },
   "outputs": [],
   "source": [
    "net_add_optfw(net)"
   ]
  },
  {
   "cell_type": "markdown",
   "id": "funky-spirit",
   "metadata": {
    "id": "elder-launch"
   },
   "source": [
    "Vemos como queda por ejemplo el elemento de red externa:"
   ]
  },
  {
   "cell_type": "code",
   "execution_count": 34,
   "id": "introductory-penalty",
   "metadata": {
    "colab": {
     "base_uri": "https://localhost:8080/",
     "height": 81
    },
    "executionInfo": {
     "elapsed": 756,
     "status": "ok",
     "timestamp": 1620005667085,
     "user": {
      "displayName": "Juan Sardón",
      "photoUrl": "https://lh3.googleusercontent.com/a-/AOh14Gh0hE4Hw8M0I17k-o2PXxLB5i6gNZV_oUTpZlyJ3Q=s64",
      "userId": "08267034058673099115"
     },
     "user_tz": 180
    },
    "id": "overhead-delivery",
    "outputId": "49d17487-cbc3-4a10-e762-1965600f731a"
   },
   "outputs": [
    {
     "data": {
      "text/html": [
       "<div>\n",
       "<style scoped>\n",
       "    .dataframe tbody tr th:only-of-type {\n",
       "        vertical-align: middle;\n",
       "    }\n",
       "\n",
       "    .dataframe tbody tr th {\n",
       "        vertical-align: top;\n",
       "    }\n",
       "\n",
       "    .dataframe thead th {\n",
       "        text-align: right;\n",
       "    }\n",
       "</style>\n",
       "<table border=\"1\" class=\"dataframe\">\n",
       "  <thead>\n",
       "    <tr style=\"text-align: right;\">\n",
       "      <th></th>\n",
       "      <th>name</th>\n",
       "      <th>bus</th>\n",
       "      <th>vm_pu</th>\n",
       "      <th>va_degree</th>\n",
       "      <th>in_service</th>\n",
       "      <th>model</th>\n",
       "    </tr>\n",
       "  </thead>\n",
       "  <tbody>\n",
       "    <tr>\n",
       "      <th>0</th>\n",
       "      <td>None</td>\n",
       "      <td>0</td>\n",
       "      <td>1.0</td>\n",
       "      <td>0.0</td>\n",
       "      <td>True</td>\n",
       "      <td>None</td>\n",
       "    </tr>\n",
       "  </tbody>\n",
       "</table>\n",
       "</div>"
      ],
      "text/plain": [
       "   name  bus  vm_pu  va_degree  in_service model\n",
       "0  None    0    1.0        0.0        True  None"
      ]
     },
     "execution_count": 34,
     "metadata": {},
     "output_type": "execute_result"
    }
   ],
   "source": [
    "net.ext_grid"
   ]
  },
  {
   "cell_type": "markdown",
   "id": "documentary-teddy",
   "metadata": {
    "id": "insured-marking"
   },
   "source": [
    "Defino una función normal de Python para que nos va a dar la componente lineal del costo de la energía"
   ]
  },
  {
   "cell_type": "markdown",
   "id": "adjustable-protocol",
   "metadata": {
    "id": "fifteen-pakistan"
   },
   "source": [
    "Variables que define el modelo:\n",
    "\n",
    "y para el año\n",
    "\n",
    "d para el día del año\n",
    "\n",
    "h para la hora del día\n",
    "\n",
    "dt la granularidad del modelo, en horas\n",
    "\n",
    "\n",
    "temp la temperatura\n",
    "\n",
    "wv la velocidad del viento\n",
    "\n",
    "I la irradiación solar\n",
    "\n",
    "\n",
    "eg el crecimiento económico en pu respecto al año 0\n",
    "\n",
    "\n",
    "Estas variables llegan como parámetros en forma de diccionario en el argumento 'model_status' (ver este nombre)\n",
    "\n",
    "Todas las funciones reciben este argumento, la lógica de la función indica que valor retorna. Pr ejemplo, si la granularidad es 24 h, debe retornar el valor medio del parámetro producido."
   ]
  },
  {
   "cell_type": "code",
   "execution_count": 38,
   "id": "velvet-wrong",
   "metadata": {
    "executionInfo": {
     "elapsed": 976,
     "status": "ok",
     "timestamp": 1620005674196,
     "user": {
      "displayName": "Juan Sardón",
      "photoUrl": "https://lh3.googleusercontent.com/a-/AOh14Gh0hE4Hw8M0I17k-o2PXxLB5i6gNZV_oUTpZlyJ3Q=s64",
      "userId": "08267034058673099115"
     },
     "user_tz": 180
    },
    "id": "marine-rescue"
   },
   "outputs": [],
   "source": [
    "net.ext_grid['model'][0] = mo.Resources.ExtGrid('SET', pr_mw = 5.0, pa_pu = 1.0, \n",
    "                                                oc_1_mu = mo.Simulation.ElectricityCostSimulator)\n",
    "net.ext_grid['name'][0] = 'SET'\n"
   ]
  },
  {
   "cell_type": "code",
   "execution_count": 39,
   "id": "seeing-light",
   "metadata": {
    "colab": {
     "base_uri": "https://localhost:8080/",
     "height": 98
    },
    "executionInfo": {
     "elapsed": 728,
     "status": "ok",
     "timestamp": 1620005676371,
     "user": {
      "displayName": "Juan Sardón",
      "photoUrl": "https://lh3.googleusercontent.com/a-/AOh14Gh0hE4Hw8M0I17k-o2PXxLB5i6gNZV_oUTpZlyJ3Q=s64",
      "userId": "08267034058673099115"
     },
     "user_tz": 180
    },
    "id": "accredited-horse",
    "outputId": "f44ded0f-df37-4315-d07f-e140fb231d3a"
   },
   "outputs": [
    {
     "data": {
      "text/html": [
       "<div>\n",
       "<style scoped>\n",
       "    .dataframe tbody tr th:only-of-type {\n",
       "        vertical-align: middle;\n",
       "    }\n",
       "\n",
       "    .dataframe tbody tr th {\n",
       "        vertical-align: top;\n",
       "    }\n",
       "\n",
       "    .dataframe thead th {\n",
       "        text-align: right;\n",
       "    }\n",
       "</style>\n",
       "<table border=\"1\" class=\"dataframe\">\n",
       "  <thead>\n",
       "    <tr style=\"text-align: right;\">\n",
       "      <th></th>\n",
       "      <th>name</th>\n",
       "      <th>bus</th>\n",
       "      <th>vm_pu</th>\n",
       "      <th>va_degree</th>\n",
       "      <th>in_service</th>\n",
       "      <th>model</th>\n",
       "    </tr>\n",
       "  </thead>\n",
       "  <tbody>\n",
       "    <tr>\n",
       "      <th>0</th>\n",
       "      <td>SET</td>\n",
       "      <td>0</td>\n",
       "      <td>1.0</td>\n",
       "      <td>0.0</td>\n",
       "      <td>True</td>\n",
       "      <td>Resource: SET</td>\n",
       "    </tr>\n",
       "  </tbody>\n",
       "</table>\n",
       "</div>"
      ],
      "text/plain": [
       "  name  bus  vm_pu  va_degree  in_service          model\n",
       "0  SET    0    1.0        0.0        True  Resource: SET"
      ]
     },
     "execution_count": 39,
     "metadata": {},
     "output_type": "execute_result"
    }
   ],
   "source": [
    "net.ext_grid"
   ]
  },
  {
   "cell_type": "code",
   "execution_count": null,
   "id": "confused-remove",
   "metadata": {
    "executionInfo": {
     "elapsed": 1648,
     "status": "ok",
     "timestamp": 1620005683671,
     "user": {
      "displayName": "Juan Sardón",
      "photoUrl": "https://lh3.googleusercontent.com/a-/AOh14Gh0hE4Hw8M0I17k-o2PXxLB5i6gNZV_oUTpZlyJ3Q=s64",
      "userId": "08267034058673099115"
     },
     "user_tz": 180
    },
    "id": "secure-message"
   },
   "outputs": [],
   "source": []
  },
  {
   "cell_type": "code",
   "execution_count": 42,
   "id": "cathedral-finding",
   "metadata": {
    "executionInfo": {
     "elapsed": 945,
     "status": "ok",
     "timestamp": 1620005684448,
     "user": {
      "displayName": "Juan Sardón",
      "photoUrl": "https://lh3.googleusercontent.com/a-/AOh14Gh0hE4Hw8M0I17k-o2PXxLB5i6gNZV_oUTpZlyJ3Q=s64",
      "userId": "08267034058673099115"
     },
     "user_tz": 180
    },
    "id": "decreased-chorus"
   },
   "outputs": [],
   "source": [
    "net.load['model'][0] = mo.Resources.Load('Tornquinst', pr_mw = net.load['p_mw'][0], pa_pu = mo.Simulation.DemandSimulator)\n",
    "\n",
    "net.load['model'][1] = mo.Resources.Load('Bell Ville', pr_mw = net.load['p_mw'][1], pa_pu = mo.Simulation.DemandSimulator)\n",
    "\n",
    "net.load['model'][2] = mo.Resources.Load('City Bell', pr_mw = net.load['p_mw'][2], pa_pu = mo.Simulation.DemandSimulator)"
   ]
  },
  {
   "cell_type": "code",
   "execution_count": 43,
   "id": "physical-ending",
   "metadata": {
    "colab": {
     "base_uri": "https://localhost:8080/",
     "height": 268
    },
    "executionInfo": {
     "elapsed": 857,
     "status": "ok",
     "timestamp": 1620005686825,
     "user": {
      "displayName": "Juan Sardón",
      "photoUrl": "https://lh3.googleusercontent.com/a-/AOh14Gh0hE4Hw8M0I17k-o2PXxLB5i6gNZV_oUTpZlyJ3Q=s64",
      "userId": "08267034058673099115"
     },
     "user_tz": 180
    },
    "id": "qualified-zimbabwe",
    "outputId": "fada93b3-2839-4bad-fcba-16ba0f043a7c"
   },
   "outputs": [
    {
     "data": {
      "text/html": [
       "<div>\n",
       "<style scoped>\n",
       "    .dataframe tbody tr th:only-of-type {\n",
       "        vertical-align: middle;\n",
       "    }\n",
       "\n",
       "    .dataframe tbody tr th {\n",
       "        vertical-align: top;\n",
       "    }\n",
       "\n",
       "    .dataframe thead th {\n",
       "        text-align: right;\n",
       "    }\n",
       "</style>\n",
       "<table border=\"1\" class=\"dataframe\">\n",
       "  <thead>\n",
       "    <tr style=\"text-align: right;\">\n",
       "      <th></th>\n",
       "      <th>name</th>\n",
       "      <th>bus</th>\n",
       "      <th>p_mw</th>\n",
       "      <th>q_mvar</th>\n",
       "      <th>const_z_percent</th>\n",
       "      <th>const_i_percent</th>\n",
       "      <th>sn_mva</th>\n",
       "      <th>scaling</th>\n",
       "      <th>in_service</th>\n",
       "      <th>type</th>\n",
       "      <th>model</th>\n",
       "    </tr>\n",
       "  </thead>\n",
       "  <tbody>\n",
       "    <tr>\n",
       "      <th>0</th>\n",
       "      <td>None</td>\n",
       "      <td>2</td>\n",
       "      <td>0.35</td>\n",
       "      <td>0.00</td>\n",
       "      <td>0.0</td>\n",
       "      <td>0.0</td>\n",
       "      <td>NaN</td>\n",
       "      <td>1.0</td>\n",
       "      <td>True</td>\n",
       "      <td>wye</td>\n",
       "      <td>Resource: Tornquinst</td>\n",
       "    </tr>\n",
       "    <tr>\n",
       "      <th>1</th>\n",
       "      <td>None</td>\n",
       "      <td>5</td>\n",
       "      <td>0.85</td>\n",
       "      <td>0.33</td>\n",
       "      <td>0.0</td>\n",
       "      <td>0.0</td>\n",
       "      <td>NaN</td>\n",
       "      <td>1.0</td>\n",
       "      <td>True</td>\n",
       "      <td>wye</td>\n",
       "      <td>Resource: Bell Ville</td>\n",
       "    </tr>\n",
       "    <tr>\n",
       "      <th>2</th>\n",
       "      <td>None</td>\n",
       "      <td>6</td>\n",
       "      <td>0.22</td>\n",
       "      <td>0.05</td>\n",
       "      <td>0.0</td>\n",
       "      <td>0.0</td>\n",
       "      <td>NaN</td>\n",
       "      <td>1.0</td>\n",
       "      <td>True</td>\n",
       "      <td>wye</td>\n",
       "      <td>Resource: City Bell</td>\n",
       "    </tr>\n",
       "  </tbody>\n",
       "</table>\n",
       "</div>"
      ],
      "text/plain": [
       "   name  bus  p_mw  q_mvar  const_z_percent  const_i_percent  sn_mva  scaling  \\\n",
       "0  None    2  0.35    0.00              0.0              0.0     NaN      1.0   \n",
       "1  None    5  0.85    0.33              0.0              0.0     NaN      1.0   \n",
       "2  None    6  0.22    0.05              0.0              0.0     NaN      1.0   \n",
       "\n",
       "   in_service type                 model  \n",
       "0        True  wye  Resource: Tornquinst  \n",
       "1        True  wye  Resource: Bell Ville  \n",
       "2        True  wye   Resource: City Bell  "
      ]
     },
     "execution_count": 43,
     "metadata": {},
     "output_type": "execute_result"
    }
   ],
   "source": [
    "net.load"
   ]
  },
  {
   "cell_type": "code",
   "execution_count": 48,
   "id": "suspended-trainer",
   "metadata": {
    "executionInfo": {
     "elapsed": 675,
     "status": "ok",
     "timestamp": 1620005692160,
     "user": {
      "displayName": "Juan Sardón",
      "photoUrl": "https://lh3.googleusercontent.com/a-/AOh14Gh0hE4Hw8M0I17k-o2PXxLB5i6gNZV_oUTpZlyJ3Q=s64",
      "userId": "08267034058673099115"
     },
     "user_tz": 180
    },
    "id": "correct-patrol"
   },
   "outputs": [],
   "source": [
    "m = PV.PVGenerator('PV1')\n",
    "m.ic_0_mu = 2.0\n",
    "m.ic_1_mu = 0.75\n",
    "m.oc_0_mu = 0.0\n",
    "m.oc_1_mu = 400e-6\n",
    "\n",
    "net.sgen['name'][0] = m.name\n",
    "net.sgen['model'][0] = m\n",
    "\n",
    "m = PV.PVGenerator('PV2')\n",
    "m.ic_0_mu = 3.0\n",
    "m.ic_1_mu = 0.75\n",
    "m.oc_0_mu = 0.0\n",
    "m.oc_1_mu = 500e-6\n",
    "\n",
    "net.sgen['name'][2] = m.name\n",
    "net.sgen['model'][2] = m"
   ]
  },
  {
   "cell_type": "code",
   "execution_count": 49,
   "id": "higher-malawi",
   "metadata": {
    "executionInfo": {
     "elapsed": 813,
     "status": "ok",
     "timestamp": 1620005695507,
     "user": {
      "displayName": "Juan Sardón",
      "photoUrl": "https://lh3.googleusercontent.com/a-/AOh14Gh0hE4Hw8M0I17k-o2PXxLB5i6gNZV_oUTpZlyJ3Q=s64",
      "userId": "08267034058673099115"
     },
     "user_tz": 180
    },
    "id": "composite-absorption"
   },
   "outputs": [],
   "source": [
    "m = WT.WTGenerator('WT1')\n",
    "m.ic_0_mu = 5.0\n",
    "m.ic_1_mu = 3.0\n",
    "m.oc_0_mu = 0.0\n",
    "m.oc_1_mu = 700e-6\n",
    "\n",
    "net.sgen['name'][1] = m.name\n",
    "net.sgen['model'][1] = m"
   ]
  },
  {
   "cell_type": "code",
   "execution_count": 50,
   "id": "subsequent-round",
   "metadata": {
    "colab": {
     "base_uri": "https://localhost:8080/",
     "height": 268
    },
    "executionInfo": {
     "elapsed": 551,
     "status": "ok",
     "timestamp": 1620005696937,
     "user": {
      "displayName": "Juan Sardón",
      "photoUrl": "https://lh3.googleusercontent.com/a-/AOh14Gh0hE4Hw8M0I17k-o2PXxLB5i6gNZV_oUTpZlyJ3Q=s64",
      "userId": "08267034058673099115"
     },
     "user_tz": 180
    },
    "id": "electronic-starter",
    "outputId": "ceda59be-4d12-4cb9-c914-e3ee22ce3a80"
   },
   "outputs": [
    {
     "data": {
      "text/html": [
       "<div>\n",
       "<style scoped>\n",
       "    .dataframe tbody tr th:only-of-type {\n",
       "        vertical-align: middle;\n",
       "    }\n",
       "\n",
       "    .dataframe tbody tr th {\n",
       "        vertical-align: top;\n",
       "    }\n",
       "\n",
       "    .dataframe thead th {\n",
       "        text-align: right;\n",
       "    }\n",
       "</style>\n",
       "<table border=\"1\" class=\"dataframe\">\n",
       "  <thead>\n",
       "    <tr style=\"text-align: right;\">\n",
       "      <th></th>\n",
       "      <th>name</th>\n",
       "      <th>bus</th>\n",
       "      <th>p_mw</th>\n",
       "      <th>q_mvar</th>\n",
       "      <th>sn_mva</th>\n",
       "      <th>scaling</th>\n",
       "      <th>in_service</th>\n",
       "      <th>type</th>\n",
       "      <th>current_source</th>\n",
       "      <th>max_p_mw</th>\n",
       "      <th>max_q_mvar</th>\n",
       "      <th>model</th>\n",
       "    </tr>\n",
       "  </thead>\n",
       "  <tbody>\n",
       "    <tr>\n",
       "      <th>0</th>\n",
       "      <td>PV1</td>\n",
       "      <td>1</td>\n",
       "      <td>0.075</td>\n",
       "      <td>0.025</td>\n",
       "      <td>NaN</td>\n",
       "      <td>1.0</td>\n",
       "      <td>True</td>\n",
       "      <td>wye</td>\n",
       "      <td>True</td>\n",
       "      <td>0.15</td>\n",
       "      <td>0.15</td>\n",
       "      <td>Resource: PV1</td>\n",
       "    </tr>\n",
       "    <tr>\n",
       "      <th>1</th>\n",
       "      <td>WT1</td>\n",
       "      <td>3</td>\n",
       "      <td>0.150</td>\n",
       "      <td>0.000</td>\n",
       "      <td>NaN</td>\n",
       "      <td>1.0</td>\n",
       "      <td>True</td>\n",
       "      <td>wye</td>\n",
       "      <td>True</td>\n",
       "      <td>0.40</td>\n",
       "      <td>0.10</td>\n",
       "      <td>Resource: WT1</td>\n",
       "    </tr>\n",
       "    <tr>\n",
       "      <th>2</th>\n",
       "      <td>PV2</td>\n",
       "      <td>4</td>\n",
       "      <td>0.080</td>\n",
       "      <td>0.000</td>\n",
       "      <td>NaN</td>\n",
       "      <td>1.0</td>\n",
       "      <td>True</td>\n",
       "      <td>wye</td>\n",
       "      <td>True</td>\n",
       "      <td>0.30</td>\n",
       "      <td>0.10</td>\n",
       "      <td>Resource: PV2</td>\n",
       "    </tr>\n",
       "  </tbody>\n",
       "</table>\n",
       "</div>"
      ],
      "text/plain": [
       "  name  bus   p_mw  q_mvar  sn_mva  scaling  in_service type  current_source  \\\n",
       "0  PV1    1  0.075   0.025     NaN      1.0        True  wye            True   \n",
       "1  WT1    3  0.150   0.000     NaN      1.0        True  wye            True   \n",
       "2  PV2    4  0.080   0.000     NaN      1.0        True  wye            True   \n",
       "\n",
       "   max_p_mw  max_q_mvar          model  \n",
       "0      0.15        0.15  Resource: PV1  \n",
       "1      0.40        0.10  Resource: WT1  \n",
       "2      0.30        0.10  Resource: PV2  "
      ]
     },
     "execution_count": 50,
     "metadata": {},
     "output_type": "execute_result"
    }
   ],
   "source": [
    "net.sgen"
   ]
  },
  {
   "cell_type": "code",
   "execution_count": 51,
   "id": "arctic-asbestos",
   "metadata": {},
   "outputs": [
    {
     "data": {
      "text/plain": [
       "\"\\nnet.storage['name'][0] = 'ST1'\\nnet.storage['pa_pu'][0] = 1.0\\nnet.storage['ic_0_mu'][0] = 0.5\\nnet.storage['ic_1_mu'][0] = 1.0\\nnet.storage['ic_1_mu_cap'][0] = 0.5\\nnet.storage['oc_0_mu'][0] = 0.0\\nnet.storage['oc_1_mu'][0] = 1200e-6\\nnet.storage['sizeable'][0] = True\\n\\nnet.storage['name'][1] = 'ST2'\\nnet.storage['pa_pu'][1] = 1.0\\nnet.storage['ic_0_mu'][1] = 0.5\\nnet.storage['ic_1_mu'][1] = 2.0\\nnet.storage['ic_1_mu_cap'][1] = 7.0\\nnet.storage['oc_0_mu'][1] = 0.0\\nnet.storage['oc_1_mu'][1] = 1400e-6\\nnet.storage['sizeable'][1] = True\\n\""
      ]
     },
     "execution_count": 51,
     "metadata": {},
     "output_type": "execute_result"
    }
   ],
   "source": [
    "\"\"\"\n",
    "net.storage['name'][0] = 'ST1'\n",
    "net.storage['pa_pu'][0] = 1.0\n",
    "net.storage['ic_0_mu'][0] = 0.5\n",
    "net.storage['ic_1_mu'][0] = 1.0\n",
    "net.storage['ic_1_mu_cap'][0] = 0.5\n",
    "net.storage['oc_0_mu'][0] = 0.0\n",
    "net.storage['oc_1_mu'][0] = 1200e-6\n",
    "net.storage['sizeable'][0] = True\n",
    "\n",
    "net.storage['name'][1] = 'ST2'\n",
    "net.storage['pa_pu'][1] = 1.0\n",
    "net.storage['ic_0_mu'][1] = 0.5\n",
    "net.storage['ic_1_mu'][1] = 2.0\n",
    "net.storage['ic_1_mu_cap'][1] = 7.0\n",
    "net.storage['oc_0_mu'][1] = 0.0\n",
    "net.storage['oc_1_mu'][1] = 1400e-6\n",
    "net.storage['sizeable'][1] = True\n",
    "\"\"\""
   ]
  },
  {
   "cell_type": "code",
   "execution_count": 52,
   "id": "desirable-warner",
   "metadata": {},
   "outputs": [
    {
     "data": {
      "text/html": [
       "<div>\n",
       "<style scoped>\n",
       "    .dataframe tbody tr th:only-of-type {\n",
       "        vertical-align: middle;\n",
       "    }\n",
       "\n",
       "    .dataframe tbody tr th {\n",
       "        vertical-align: top;\n",
       "    }\n",
       "\n",
       "    .dataframe thead th {\n",
       "        text-align: right;\n",
       "    }\n",
       "</style>\n",
       "<table border=\"1\" class=\"dataframe\">\n",
       "  <thead>\n",
       "    <tr style=\"text-align: right;\">\n",
       "      <th></th>\n",
       "      <th>name</th>\n",
       "      <th>bus</th>\n",
       "      <th>p_mw</th>\n",
       "      <th>q_mvar</th>\n",
       "      <th>sn_mva</th>\n",
       "      <th>soc_percent</th>\n",
       "      <th>min_e_mwh</th>\n",
       "      <th>max_e_mwh</th>\n",
       "      <th>scaling</th>\n",
       "      <th>in_service</th>\n",
       "      <th>type</th>\n",
       "      <th>model</th>\n",
       "    </tr>\n",
       "  </thead>\n",
       "  <tbody>\n",
       "  </tbody>\n",
       "</table>\n",
       "</div>"
      ],
      "text/plain": [
       "Empty DataFrame\n",
       "Columns: [name, bus, p_mw, q_mvar, sn_mva, soc_percent, min_e_mwh, max_e_mwh, scaling, in_service, type, model]\n",
       "Index: []"
      ]
     },
     "execution_count": 52,
     "metadata": {},
     "output_type": "execute_result"
    }
   ],
   "source": [
    "net.storage"
   ]
  },
  {
   "cell_type": "markdown",
   "id": "supported-audit",
   "metadata": {
    "id": "pTK9BGaY4BEu"
   },
   "source": [
    "## Construcción de Escenarios"
   ]
  },
  {
   "cell_type": "code",
   "execution_count": 66,
   "id": "smoking-dressing",
   "metadata": {
    "executionInfo": {
     "elapsed": 1184,
     "status": "ok",
     "timestamp": 1620006589608,
     "user": {
      "displayName": "Juan Sardón",
      "photoUrl": "https://lh3.googleusercontent.com/a-/AOh14Gh0hE4Hw8M0I17k-o2PXxLB5i6gNZV_oUTpZlyJ3Q=s64",
      "userId": "08267034058673099115"
     },
     "user_tz": 180
    },
    "id": "posted-description"
   },
   "outputs": [],
   "source": [
    "dias = 365\n",
    "años = 5"
   ]
  },
  {
   "cell_type": "code",
   "execution_count": 67,
   "id": "attended-speed",
   "metadata": {
    "executionInfo": {
     "elapsed": 804,
     "status": "ok",
     "timestamp": 1620006591214,
     "user": {
      "displayName": "Juan Sardón",
      "photoUrl": "https://lh3.googleusercontent.com/a-/AOh14Gh0hE4Hw8M0I17k-o2PXxLB5i6gNZV_oUTpZlyJ3Q=s64",
      "userId": "08267034058673099115"
     },
     "user_tz": 180
    },
    "id": "intelligent-terrace"
   },
   "outputs": [],
   "source": [
    "#el rango de horas:\n",
    "T_i = range(24)\n",
    "\n",
    "#el rango de dias:\n",
    "Dias_i = range(dias)\n",
    "\n",
    "Escenarios_i = range(len(T_i)*len(Dias_i))"
   ]
  },
  {
   "cell_type": "code",
   "execution_count": null,
   "id": "supreme-delay",
   "metadata": {
    "executionInfo": {
     "elapsed": 957,
     "status": "ok",
     "timestamp": 1620006593285,
     "user": {
      "displayName": "Juan Sardón",
      "photoUrl": "https://lh3.googleusercontent.com/a-/AOh14Gh0hE4Hw8M0I17k-o2PXxLB5i6gNZV_oUTpZlyJ3Q=s64",
      "userId": "08267034058673099115"
     },
     "user_tz": 180
    },
    "id": "complimentary-harvard"
   },
   "outputs": [],
   "source": []
  },
  {
   "cell_type": "code",
   "execution_count": 68,
   "id": "lesser-preserve",
   "metadata": {
    "executionInfo": {
     "elapsed": 740,
     "status": "ok",
     "timestamp": 1620006594076,
     "user": {
      "displayName": "Juan Sardón",
      "photoUrl": "https://lh3.googleusercontent.com/a-/AOh14Gh0hE4Hw8M0I17k-o2PXxLB5i6gNZV_oUTpZlyJ3Q=s64",
      "userId": "08267034058673099115"
     },
     "user_tz": 180
    },
    "id": "rotary-traffic"
   },
   "outputs": [],
   "source": [
    "m_s_base = [{'y': 0, 'd': 0, 'dd':1.0, 'h': 0.0, 'dt': 1.0, 'temp': 20.0, 'I':1000.0, 'wv': 10.0, 'eg': 1.0}]\n",
    "\n",
    "registros = len(Dias_i)*len(T_i)\n",
    "\n",
    "Escenarios =  pd.DataFrame(m_s_base, index = Escenarios_i)\n",
    "\n",
    "reg = 0\n",
    "for d in Dias_i:\n",
    "    for h in T_i:\n",
    "        Escenarios['d'][reg] = d\n",
    "        Escenarios['h'][reg] = h\n",
    "        Escenarios['I'][reg] = Solar.solar_irradiance_seasoned_randomized(d, h)\n",
    "        Escenarios['wv'][reg] = random.uniform(1.0, 20.0)\n",
    "        reg += 1"
   ]
  },
  {
   "cell_type": "code",
   "execution_count": 69,
   "id": "periodic-comfort",
   "metadata": {
    "colab": {
     "base_uri": "https://localhost:8080/",
     "height": 424
    },
    "executionInfo": {
     "elapsed": 940,
     "status": "ok",
     "timestamp": 1620006595909,
     "user": {
      "displayName": "Juan Sardón",
      "photoUrl": "https://lh3.googleusercontent.com/a-/AOh14Gh0hE4Hw8M0I17k-o2PXxLB5i6gNZV_oUTpZlyJ3Q=s64",
      "userId": "08267034058673099115"
     },
     "user_tz": 180
    },
    "id": "rztNfB1f4udd",
    "outputId": "9d65516d-715a-4f75-a9e9-b820fa6643be"
   },
   "outputs": [
    {
     "data": {
      "text/html": [
       "<div>\n",
       "<style scoped>\n",
       "    .dataframe tbody tr th:only-of-type {\n",
       "        vertical-align: middle;\n",
       "    }\n",
       "\n",
       "    .dataframe tbody tr th {\n",
       "        vertical-align: top;\n",
       "    }\n",
       "\n",
       "    .dataframe thead th {\n",
       "        text-align: right;\n",
       "    }\n",
       "</style>\n",
       "<table border=\"1\" class=\"dataframe\">\n",
       "  <thead>\n",
       "    <tr style=\"text-align: right;\">\n",
       "      <th></th>\n",
       "      <th>y</th>\n",
       "      <th>d</th>\n",
       "      <th>dd</th>\n",
       "      <th>h</th>\n",
       "      <th>dt</th>\n",
       "      <th>temp</th>\n",
       "      <th>I</th>\n",
       "      <th>wv</th>\n",
       "      <th>eg</th>\n",
       "    </tr>\n",
       "  </thead>\n",
       "  <tbody>\n",
       "    <tr>\n",
       "      <th>0</th>\n",
       "      <td>0</td>\n",
       "      <td>0</td>\n",
       "      <td>1.0</td>\n",
       "      <td>0.0</td>\n",
       "      <td>1.0</td>\n",
       "      <td>20.0</td>\n",
       "      <td>0.000000</td>\n",
       "      <td>15.150427</td>\n",
       "      <td>1.0</td>\n",
       "    </tr>\n",
       "    <tr>\n",
       "      <th>1</th>\n",
       "      <td>0</td>\n",
       "      <td>0</td>\n",
       "      <td>1.0</td>\n",
       "      <td>1.0</td>\n",
       "      <td>1.0</td>\n",
       "      <td>20.0</td>\n",
       "      <td>0.000000</td>\n",
       "      <td>16.498661</td>\n",
       "      <td>1.0</td>\n",
       "    </tr>\n",
       "    <tr>\n",
       "      <th>2</th>\n",
       "      <td>0</td>\n",
       "      <td>0</td>\n",
       "      <td>1.0</td>\n",
       "      <td>2.0</td>\n",
       "      <td>1.0</td>\n",
       "      <td>20.0</td>\n",
       "      <td>0.000000</td>\n",
       "      <td>10.689945</td>\n",
       "      <td>1.0</td>\n",
       "    </tr>\n",
       "    <tr>\n",
       "      <th>3</th>\n",
       "      <td>0</td>\n",
       "      <td>0</td>\n",
       "      <td>1.0</td>\n",
       "      <td>3.0</td>\n",
       "      <td>1.0</td>\n",
       "      <td>20.0</td>\n",
       "      <td>0.000000</td>\n",
       "      <td>13.777055</td>\n",
       "      <td>1.0</td>\n",
       "    </tr>\n",
       "    <tr>\n",
       "      <th>4</th>\n",
       "      <td>0</td>\n",
       "      <td>0</td>\n",
       "      <td>1.0</td>\n",
       "      <td>4.0</td>\n",
       "      <td>1.0</td>\n",
       "      <td>20.0</td>\n",
       "      <td>0.000000</td>\n",
       "      <td>13.773256</td>\n",
       "      <td>1.0</td>\n",
       "    </tr>\n",
       "    <tr>\n",
       "      <th>...</th>\n",
       "      <td>...</td>\n",
       "      <td>...</td>\n",
       "      <td>...</td>\n",
       "      <td>...</td>\n",
       "      <td>...</td>\n",
       "      <td>...</td>\n",
       "      <td>...</td>\n",
       "      <td>...</td>\n",
       "      <td>...</td>\n",
       "    </tr>\n",
       "    <tr>\n",
       "      <th>8755</th>\n",
       "      <td>0</td>\n",
       "      <td>364</td>\n",
       "      <td>1.0</td>\n",
       "      <td>19.0</td>\n",
       "      <td>1.0</td>\n",
       "      <td>20.0</td>\n",
       "      <td>210.898074</td>\n",
       "      <td>4.346594</td>\n",
       "      <td>1.0</td>\n",
       "    </tr>\n",
       "    <tr>\n",
       "      <th>8756</th>\n",
       "      <td>0</td>\n",
       "      <td>364</td>\n",
       "      <td>1.0</td>\n",
       "      <td>20.0</td>\n",
       "      <td>1.0</td>\n",
       "      <td>20.0</td>\n",
       "      <td>16.830537</td>\n",
       "      <td>1.048345</td>\n",
       "      <td>1.0</td>\n",
       "    </tr>\n",
       "    <tr>\n",
       "      <th>8757</th>\n",
       "      <td>0</td>\n",
       "      <td>364</td>\n",
       "      <td>1.0</td>\n",
       "      <td>21.0</td>\n",
       "      <td>1.0</td>\n",
       "      <td>20.0</td>\n",
       "      <td>0.000000</td>\n",
       "      <td>7.236712</td>\n",
       "      <td>1.0</td>\n",
       "    </tr>\n",
       "    <tr>\n",
       "      <th>8758</th>\n",
       "      <td>0</td>\n",
       "      <td>364</td>\n",
       "      <td>1.0</td>\n",
       "      <td>22.0</td>\n",
       "      <td>1.0</td>\n",
       "      <td>20.0</td>\n",
       "      <td>0.000000</td>\n",
       "      <td>11.221933</td>\n",
       "      <td>1.0</td>\n",
       "    </tr>\n",
       "    <tr>\n",
       "      <th>8759</th>\n",
       "      <td>0</td>\n",
       "      <td>364</td>\n",
       "      <td>1.0</td>\n",
       "      <td>23.0</td>\n",
       "      <td>1.0</td>\n",
       "      <td>20.0</td>\n",
       "      <td>0.000000</td>\n",
       "      <td>5.026783</td>\n",
       "      <td>1.0</td>\n",
       "    </tr>\n",
       "  </tbody>\n",
       "</table>\n",
       "<p>8760 rows × 9 columns</p>\n",
       "</div>"
      ],
      "text/plain": [
       "      y    d   dd     h   dt  temp           I         wv   eg\n",
       "0     0    0  1.0   0.0  1.0  20.0    0.000000  15.150427  1.0\n",
       "1     0    0  1.0   1.0  1.0  20.0    0.000000  16.498661  1.0\n",
       "2     0    0  1.0   2.0  1.0  20.0    0.000000  10.689945  1.0\n",
       "3     0    0  1.0   3.0  1.0  20.0    0.000000  13.777055  1.0\n",
       "4     0    0  1.0   4.0  1.0  20.0    0.000000  13.773256  1.0\n",
       "...  ..  ...  ...   ...  ...   ...         ...        ...  ...\n",
       "8755  0  364  1.0  19.0  1.0  20.0  210.898074   4.346594  1.0\n",
       "8756  0  364  1.0  20.0  1.0  20.0   16.830537   1.048345  1.0\n",
       "8757  0  364  1.0  21.0  1.0  20.0    0.000000   7.236712  1.0\n",
       "8758  0  364  1.0  22.0  1.0  20.0    0.000000  11.221933  1.0\n",
       "8759  0  364  1.0  23.0  1.0  20.0    0.000000   5.026783  1.0\n",
       "\n",
       "[8760 rows x 9 columns]"
      ]
     },
     "execution_count": 69,
     "metadata": {},
     "output_type": "execute_result"
    }
   ],
   "source": [
    "Escenarios"
   ]
  },
  {
   "cell_type": "markdown",
   "id": "meaningful-geography",
   "metadata": {
    "id": "DrtD-E834lhY"
   },
   "source": [
    "## Construcción del Modelo"
   ]
  },
  {
   "cell_type": "markdown",
   "id": "certified-manufacturer",
   "metadata": {
    "id": "spiritual-luxembourg"
   },
   "source": [
    "Construccion automatica del modelo\n",
    "Es un modelo de dimensionamiento de 3 DERs (WT+PV)"
   ]
  },
  {
   "cell_type": "code",
   "execution_count": 70,
   "id": "recreational-inflation",
   "metadata": {},
   "outputs": [],
   "source": [
    "model_writer = SimpleModelWriter(net, Escenarios)"
   ]
  },
  {
   "cell_type": "code",
   "execution_count": 71,
   "id": "becoming-playing",
   "metadata": {},
   "outputs": [],
   "source": [
    "model = model_writer.create_model()"
   ]
  },
  {
   "cell_type": "code",
   "execution_count": 72,
   "id": "helpful-assistant",
   "metadata": {},
   "outputs": [],
   "source": [
    "##model.pprint()"
   ]
  },
  {
   "cell_type": "code",
   "execution_count": 73,
   "id": "silver-church",
   "metadata": {},
   "outputs": [
    {
     "name": "stdout",
     "output_type": "stream",
     "text": [
      "\n",
      "Welcome to IBM(R) ILOG(R) CPLEX(R) Interactive Optimizer 20.1.0.0\n",
      "  with Simplex, Mixed Integer & Barrier Optimizers\n",
      "5725-A06 5725-A29 5724-Y48 5724-Y49 5724-Y54 5724-Y55 5655-Y21\n",
      "Copyright IBM Corp. 1988, 2020.  All Rights Reserved.\n",
      "\n",
      "Type 'help' for a list of available commands.\n",
      "Type 'help' followed by a command name for more\n",
      "information on commands.\n",
      "\n",
      "CPLEX> Logfile 'cplex.log' closed.\n",
      "Logfile 'C:\\Users\\jmsar\\AppData\\Local\\Temp\\tmpaudrk89w.cplex.log' open.\n",
      "CPLEX> Problem 'C:\\Users\\jmsar\\AppData\\Local\\Temp\\tmpa51mcor0.pyomo.lp' read.\n",
      "Read time = 0.09 sec. (3.38 ticks)\n",
      "CPLEX> Problem name         : C:\\Users\\jmsar\\AppData\\Local\\Temp\\tmpa51mcor0.pyomo.lp\n",
      "Objective sense      : Minimize\n",
      "Variables            :   35047  [Nneg: 26284,  Box: 8760,  Binary: 3]\n",
      "Objective nonzeros   :   35046\n",
      "Linear constraints   :   35044  [Less: 26283,  Equal: 8761]\n",
      "  Nonzeros           :   77926\n",
      "  RHS nonzeros       :    8761\n",
      "\n",
      "Variables            : Min LB: 0.000000         Max UB: 5.000000       \n",
      "Objective nonzeros   : Min   : 0.0004000000     Max   : 5.000000       \n",
      "Linear constraints   :\n",
      "  Nonzeros           : Min   : 0.0001660957     Max   : 1000.000       \n",
      "  RHS nonzeros       : Min   : 0.1665082        Max   : 2.160566       \n",
      "CPLEX> Version identifier: 20.1.0.0 | 2020-11-10 | 9bedb6d68\n",
      "Found incumbent of value 26.027817 after 0.00 sec. (2.23 ticks)\n",
      "Tried aggregator 1 time.\n",
      "MIP Presolve eliminated 14063 rows and 14063 columns.\n",
      "Reduced MIP has 20981 rows, 20984 columns, and 50227 nonzeros.\n",
      "Reduced MIP has 3 binaries, 0 generals, 0 SOSs, and 0 indicators.\n",
      "Presolve time = 0.06 sec. (33.02 ticks)\n",
      "Probing time = 0.02 sec. (1.81 ticks)\n",
      "Tried aggregator 1 time.\n",
      "Detecting symmetries...\n",
      "Reduced MIP has 20981 rows, 20984 columns, and 50227 nonzeros.\n",
      "Reduced MIP has 3 binaries, 0 generals, 0 SOSs, and 0 indicators.\n",
      "Presolve time = 0.06 sec. (28.22 ticks)\n",
      "Probing time = 0.02 sec. (1.40 ticks)\n",
      "MIP emphasis: balance optimality and feasibility.\n",
      "MIP search method: dynamic search.\n",
      "Parallel mode: deterministic, using up to 4 threads.\n",
      "Root relaxation solution time = 1.58 sec. (869.21 ticks)\n",
      "\n",
      "        Nodes                                         Cuts/\n",
      "   Node  Left     Objective  IInf  Best Integer    Best Bound    ItCnt     Gap\n",
      "\n",
      "*     0+    0                           26.0278        2.7750            89.34%\n",
      "      0     0       14.3492     2       26.0278       14.3492       91   44.87%\n",
      "*     0+    0                           21.3393       14.3492            32.76%\n",
      "*     0+    0                           20.6532       14.3492            30.52%\n",
      "      0     0        cutoff             20.6532       20.6532     6836    0.00%\n",
      "Elapsed time = 11.19 sec. (5014.30 ticks, tree = 0.01 MB, solutions = 3)\n",
      "\n",
      "Implied bound cuts applied:  5331\n",
      "Flow cuts applied:  7\n",
      "Mixed integer rounding cuts applied:  6\n",
      "Gomory fractional cuts applied:  1\n",
      "\n",
      "Root node processing (before b&c):\n",
      "  Real time             =   11.20 sec. (5016.16 ticks)\n",
      "Parallel b&c, 4 threads:\n",
      "  Real time             =    0.00 sec. (0.00 ticks)\n",
      "  Sync time (average)   =    0.00 sec.\n",
      "  Wait time (average)   =    0.00 sec.\n",
      "                          ------------\n",
      "Total (root+branch&cut) =   11.20 sec. (5016.16 ticks)\n",
      "\n",
      "Solution pool: 3 solutions saved.\n",
      "\n",
      "MIP - Integer optimal solution:  Objective =  2.0653161342e+01\n",
      "Solution time =   11.22 sec.  Iterations = 6836  Nodes = 0\n",
      "Deterministic time = 5016.26 ticks  (447.12 ticks/sec)\n",
      "\n",
      "CPLEX> Incumbent solution written to file 'C:\\Users\\jmsar\\AppData\\Local\\Temp\\tmp3t1i9y7p.cplex.sol'.\n",
      "CPLEX> "
     ]
    }
   ],
   "source": [
    "#solver_manager = pe.SolverManagerFactory('neos')\n",
    "#result_obj = solver_manager.solve(model.model, opt='cplex')\n",
    "\n",
    "opt = pe.SolverFactory('cplex')\n",
    "#opt = pe.SolverFactory('glpk')\n",
    "result_obj= opt.solve(model, tee=True)"
   ]
  },
  {
   "cell_type": "code",
   "execution_count": null,
   "id": "essential-assist",
   "metadata": {},
   "outputs": [],
   "source": [
    "getattr(model_writer.model, 'PV1_create').value"
   ]
  },
  {
   "cell_type": "code",
   "execution_count": 74,
   "id": "requested-accessory",
   "metadata": {},
   "outputs": [],
   "source": [
    "model_writer.backconfigure_network()"
   ]
  },
  {
   "cell_type": "code",
   "execution_count": 75,
   "id": "inner-presence",
   "metadata": {},
   "outputs": [
    {
     "data": {
      "text/html": [
       "<div>\n",
       "<style scoped>\n",
       "    .dataframe tbody tr th:only-of-type {\n",
       "        vertical-align: middle;\n",
       "    }\n",
       "\n",
       "    .dataframe tbody tr th {\n",
       "        vertical-align: top;\n",
       "    }\n",
       "\n",
       "    .dataframe thead th {\n",
       "        text-align: right;\n",
       "    }\n",
       "</style>\n",
       "<table border=\"1\" class=\"dataframe\">\n",
       "  <thead>\n",
       "    <tr style=\"text-align: right;\">\n",
       "      <th></th>\n",
       "      <th>name</th>\n",
       "      <th>bus</th>\n",
       "      <th>p_mw</th>\n",
       "      <th>q_mvar</th>\n",
       "      <th>sn_mva</th>\n",
       "      <th>scaling</th>\n",
       "      <th>in_service</th>\n",
       "      <th>type</th>\n",
       "      <th>current_source</th>\n",
       "      <th>max_p_mw</th>\n",
       "      <th>max_q_mvar</th>\n",
       "      <th>model</th>\n",
       "    </tr>\n",
       "  </thead>\n",
       "  <tbody>\n",
       "    <tr>\n",
       "      <th>0</th>\n",
       "      <td>PV1</td>\n",
       "      <td>1</td>\n",
       "      <td>0.075</td>\n",
       "      <td>0.025</td>\n",
       "      <td>NaN</td>\n",
       "      <td>1.0</td>\n",
       "      <td>False</td>\n",
       "      <td>wye</td>\n",
       "      <td>True</td>\n",
       "      <td>0.000000</td>\n",
       "      <td>0.000000</td>\n",
       "      <td>Resource: PV1</td>\n",
       "    </tr>\n",
       "    <tr>\n",
       "      <th>1</th>\n",
       "      <td>WT1</td>\n",
       "      <td>3</td>\n",
       "      <td>0.150</td>\n",
       "      <td>0.000</td>\n",
       "      <td>NaN</td>\n",
       "      <td>1.0</td>\n",
       "      <td>True</td>\n",
       "      <td>wye</td>\n",
       "      <td>True</td>\n",
       "      <td>1.650665</td>\n",
       "      <td>0.825333</td>\n",
       "      <td>Resource: WT1</td>\n",
       "    </tr>\n",
       "    <tr>\n",
       "      <th>2</th>\n",
       "      <td>PV2</td>\n",
       "      <td>4</td>\n",
       "      <td>0.080</td>\n",
       "      <td>0.000</td>\n",
       "      <td>NaN</td>\n",
       "      <td>1.0</td>\n",
       "      <td>False</td>\n",
       "      <td>wye</td>\n",
       "      <td>True</td>\n",
       "      <td>0.000000</td>\n",
       "      <td>0.000000</td>\n",
       "      <td>Resource: PV2</td>\n",
       "    </tr>\n",
       "  </tbody>\n",
       "</table>\n",
       "</div>"
      ],
      "text/plain": [
       "  name  bus   p_mw  q_mvar  sn_mva  scaling  in_service type  current_source  \\\n",
       "0  PV1    1  0.075   0.025     NaN      1.0       False  wye            True   \n",
       "1  WT1    3  0.150   0.000     NaN      1.0        True  wye            True   \n",
       "2  PV2    4  0.080   0.000     NaN      1.0       False  wye            True   \n",
       "\n",
       "   max_p_mw  max_q_mvar          model  \n",
       "0  0.000000    0.000000  Resource: PV1  \n",
       "1  1.650665    0.825333  Resource: WT1  \n",
       "2  0.000000    0.000000  Resource: PV2  "
      ]
     },
     "execution_count": 75,
     "metadata": {},
     "output_type": "execute_result"
    }
   ],
   "source": [
    "model_writer.net.sgen"
   ]
  },
  {
   "cell_type": "code",
   "execution_count": 76,
   "id": "vietnamese-performer",
   "metadata": {},
   "outputs": [
    {
     "data": {
      "text/html": [
       "<div>\n",
       "<style scoped>\n",
       "    .dataframe tbody tr th:only-of-type {\n",
       "        vertical-align: middle;\n",
       "    }\n",
       "\n",
       "    .dataframe tbody tr th {\n",
       "        vertical-align: top;\n",
       "    }\n",
       "\n",
       "    .dataframe thead th {\n",
       "        text-align: right;\n",
       "    }\n",
       "</style>\n",
       "<table border=\"1\" class=\"dataframe\">\n",
       "  <thead>\n",
       "    <tr style=\"text-align: right;\">\n",
       "      <th></th>\n",
       "      <th>name</th>\n",
       "      <th>bus</th>\n",
       "      <th>p_mw</th>\n",
       "      <th>q_mvar</th>\n",
       "      <th>sn_mva</th>\n",
       "      <th>soc_percent</th>\n",
       "      <th>min_e_mwh</th>\n",
       "      <th>max_e_mwh</th>\n",
       "      <th>scaling</th>\n",
       "      <th>in_service</th>\n",
       "      <th>type</th>\n",
       "      <th>model</th>\n",
       "    </tr>\n",
       "  </thead>\n",
       "  <tbody>\n",
       "  </tbody>\n",
       "</table>\n",
       "</div>"
      ],
      "text/plain": [
       "Empty DataFrame\n",
       "Columns: [name, bus, p_mw, q_mvar, sn_mva, soc_percent, min_e_mwh, max_e_mwh, scaling, in_service, type, model]\n",
       "Index: []"
      ]
     },
     "execution_count": 76,
     "metadata": {},
     "output_type": "execute_result"
    }
   ],
   "source": [
    "model_writer.net.storage"
   ]
  },
  {
   "cell_type": "code",
   "execution_count": 77,
   "id": "russian-differential",
   "metadata": {
    "tags": []
   },
   "outputs": [],
   "source": [
    "Resultados = model_writer.get_scenes_results()"
   ]
  },
  {
   "cell_type": "code",
   "execution_count": 78,
   "id": "chemical-blond",
   "metadata": {
    "colab": {
     "base_uri": "https://localhost:8080/",
     "height": 424
    },
    "executionInfo": {
     "elapsed": 699,
     "status": "ok",
     "timestamp": 1619873491559,
     "user": {
      "displayName": "Juan Sardón",
      "photoUrl": "https://lh3.googleusercontent.com/a-/AOh14Gh0hE4Hw8M0I17k-o2PXxLB5i6gNZV_oUTpZlyJ3Q=s64",
      "userId": "08267034058673099115"
     },
     "user_tz": 180
    },
    "id": "tropical-completion",
    "outputId": "082e0a6f-0230-4e8e-b532-e95c63049c68"
   },
   "outputs": [
    {
     "data": {
      "text/html": [
       "<div>\n",
       "<style scoped>\n",
       "    .dataframe tbody tr th:only-of-type {\n",
       "        vertical-align: middle;\n",
       "    }\n",
       "\n",
       "    .dataframe tbody tr th {\n",
       "        vertical-align: top;\n",
       "    }\n",
       "\n",
       "    .dataframe thead th {\n",
       "        text-align: right;\n",
       "    }\n",
       "</style>\n",
       "<table border=\"1\" class=\"dataframe\">\n",
       "  <thead>\n",
       "    <tr style=\"text-align: right;\">\n",
       "      <th></th>\n",
       "      <th>SET_p_mw</th>\n",
       "      <th>Tornquinst_p_mw</th>\n",
       "      <th>Bell Ville_p_mw</th>\n",
       "      <th>City Bell_p_mw</th>\n",
       "      <th>WT1_p_mw</th>\n",
       "    </tr>\n",
       "  </thead>\n",
       "  <tbody>\n",
       "    <tr>\n",
       "      <th>0</th>\n",
       "      <td>0.000000</td>\n",
       "      <td>-0.099754</td>\n",
       "      <td>-0.221189</td>\n",
       "      <td>-0.067021</td>\n",
       "      <td>0.387963</td>\n",
       "    </tr>\n",
       "    <tr>\n",
       "      <th>1</th>\n",
       "      <td>0.000000</td>\n",
       "      <td>-0.098661</td>\n",
       "      <td>-0.182962</td>\n",
       "      <td>-0.047791</td>\n",
       "      <td>0.329414</td>\n",
       "    </tr>\n",
       "    <tr>\n",
       "      <th>2</th>\n",
       "      <td>0.000000</td>\n",
       "      <td>-0.096002</td>\n",
       "      <td>-0.248742</td>\n",
       "      <td>-0.058697</td>\n",
       "      <td>0.403441</td>\n",
       "    </tr>\n",
       "    <tr>\n",
       "      <th>3</th>\n",
       "      <td>0.000000</td>\n",
       "      <td>-0.097155</td>\n",
       "      <td>-0.243654</td>\n",
       "      <td>-0.048407</td>\n",
       "      <td>0.389216</td>\n",
       "    </tr>\n",
       "    <tr>\n",
       "      <th>4</th>\n",
       "      <td>0.000000</td>\n",
       "      <td>-0.082972</td>\n",
       "      <td>-0.213894</td>\n",
       "      <td>-0.065682</td>\n",
       "      <td>0.362548</td>\n",
       "    </tr>\n",
       "    <tr>\n",
       "      <th>...</th>\n",
       "      <td>...</td>\n",
       "      <td>...</td>\n",
       "      <td>...</td>\n",
       "      <td>...</td>\n",
       "      <td>...</td>\n",
       "    </tr>\n",
       "    <tr>\n",
       "      <th>8755</th>\n",
       "      <td>1.556398</td>\n",
       "      <td>-0.515802</td>\n",
       "      <td>-0.977169</td>\n",
       "      <td>-0.248659</td>\n",
       "      <td>0.185231</td>\n",
       "    </tr>\n",
       "    <tr>\n",
       "      <th>8756</th>\n",
       "      <td>1.825480</td>\n",
       "      <td>-0.407196</td>\n",
       "      <td>-1.133770</td>\n",
       "      <td>-0.284515</td>\n",
       "      <td>0.000000</td>\n",
       "    </tr>\n",
       "    <tr>\n",
       "      <th>8757</th>\n",
       "      <td>1.042293</td>\n",
       "      <td>-0.516842</td>\n",
       "      <td>-0.870190</td>\n",
       "      <td>-0.238044</td>\n",
       "      <td>0.582783</td>\n",
       "    </tr>\n",
       "    <tr>\n",
       "      <th>8758</th>\n",
       "      <td>0.000000</td>\n",
       "      <td>-0.150860</td>\n",
       "      <td>-0.270099</td>\n",
       "      <td>-0.067548</td>\n",
       "      <td>0.488507</td>\n",
       "    </tr>\n",
       "    <tr>\n",
       "      <th>8759</th>\n",
       "      <td>0.284656</td>\n",
       "      <td>-0.144000</td>\n",
       "      <td>-0.342502</td>\n",
       "      <td>-0.076948</td>\n",
       "      <td>0.278795</td>\n",
       "    </tr>\n",
       "  </tbody>\n",
       "</table>\n",
       "<p>8760 rows × 5 columns</p>\n",
       "</div>"
      ],
      "text/plain": [
       "      SET_p_mw  Tornquinst_p_mw  Bell Ville_p_mw  City Bell_p_mw  WT1_p_mw\n",
       "0     0.000000        -0.099754        -0.221189       -0.067021  0.387963\n",
       "1     0.000000        -0.098661        -0.182962       -0.047791  0.329414\n",
       "2     0.000000        -0.096002        -0.248742       -0.058697  0.403441\n",
       "3     0.000000        -0.097155        -0.243654       -0.048407  0.389216\n",
       "4     0.000000        -0.082972        -0.213894       -0.065682  0.362548\n",
       "...        ...              ...              ...             ...       ...\n",
       "8755  1.556398        -0.515802        -0.977169       -0.248659  0.185231\n",
       "8756  1.825480        -0.407196        -1.133770       -0.284515  0.000000\n",
       "8757  1.042293        -0.516842        -0.870190       -0.238044  0.582783\n",
       "8758  0.000000        -0.150860        -0.270099       -0.067548  0.488507\n",
       "8759  0.284656        -0.144000        -0.342502       -0.076948  0.278795\n",
       "\n",
       "[8760 rows x 5 columns]"
      ]
     },
     "execution_count": 78,
     "metadata": {},
     "output_type": "execute_result"
    }
   ],
   "source": [
    "Resultados"
   ]
  },
  {
   "cell_type": "code",
   "execution_count": 84,
   "id": "frank-involvement",
   "metadata": {
    "colab": {
     "base_uri": "https://localhost:8080/",
     "height": 388
    },
    "executionInfo": {
     "elapsed": 1336,
     "status": "ok",
     "timestamp": 1619873495814,
     "user": {
      "displayName": "Juan Sardón",
      "photoUrl": "https://lh3.googleusercontent.com/a-/AOh14Gh0hE4Hw8M0I17k-o2PXxLB5i6gNZV_oUTpZlyJ3Q=s64",
      "userId": "08267034058673099115"
     },
     "user_tz": 180
    },
    "id": "planned-memorial",
    "outputId": "11488d44-f6a7-46f5-dd15-9afe980a328c"
   },
   "outputs": [
    {
     "data": {
      "image/png": "[encoded data removed]",
      "text/plain": [
       "<Figure size 720x432 with 1 Axes>"
      ]
     },
     "metadata": {
      "needs_background": "light"
     },
     "output_type": "display_data"
    }
   ],
   "source": [
    "# Set the plot curve with markers and a title\n",
    "fig, ax = plt.subplots(1, 1)\n",
    "\n",
    "fig.set_size_inches(10,6)\n",
    "a=180*24\n",
    "#b=360\n",
    "b=180*24+5*24\n",
    "for col in Resultados:\n",
    "    ax.plot(Resultados[col][a:b], label = col)\n",
    "\n",
    "#ax.plot(Resultados['Tornquinst'][a:b]+Resultados['Bell Ville'][a:b]+Resultados['City Bell'][a:b], label = 'Load')\n",
    "\n",
    "#ax.plot(Resultados['time'][240:360], Resultados['p_mw_PV'][240:360], label = 'PV')\n",
    "#ax.plot(Resultados['time'][240:360], Resultados['p_mw_Load'][240:360], label = 'Load')\n",
    "\n",
    "ax.set_xlabel('time')\n",
    "ax.set_ylabel('P[mw]')\n",
    "\n",
    "ax.legend()\n",
    "\n",
    "ax.grid(True)\n",
    "\n",
    "\n",
    "plt.show()"
   ]
  },
  {
   "cell_type": "code",
   "execution_count": null,
   "id": "conservative-incentive",
   "metadata": {},
   "outputs": [],
   "source": [
    "df = pd.DataFrame([], index = range(100))"
   ]
  },
  {
   "cell_type": "code",
   "execution_count": null,
   "id": "actual-violin",
   "metadata": {},
   "outputs": [],
   "source": [
    "df['Col 1'] = [i for i in range(100)]"
   ]
  },
  {
   "cell_type": "code",
   "execution_count": null,
   "id": "bulgarian-psychology",
   "metadata": {},
   "outputs": [],
   "source": [
    "df"
   ]
  },
  {
   "cell_type": "code",
   "execution_count": 81,
   "id": "prime-register",
   "metadata": {},
   "outputs": [
    {
     "name": "stdout",
     "output_type": "stream",
     "text": [
      "0.0\n",
      "-0.25091844549120534\n",
      "-0.48470744870251037\n",
      "-0.1278040367215815\n",
      "0.8634299309152973\n"
     ]
    }
   ],
   "source": [
    "for c in Resultados:\n",
    "    print(Resultados[c][10])"
   ]
  },
  {
   "cell_type": "code",
   "execution_count": 82,
   "id": "labeled-government",
   "metadata": {},
   "outputs": [
    {
     "data": {
      "text/plain": [
       "8760"
      ]
     },
     "execution_count": 82,
     "metadata": {},
     "output_type": "execute_result"
    }
   ],
   "source": [
    "len(Resultados)"
   ]
  },
  {
   "cell_type": "code",
   "execution_count": null,
   "id": "structural-agent",
   "metadata": {},
   "outputs": [],
   "source": []
  }
 ],
 "metadata": {
  "colab": {
   "name": "Prueba PP-Pyomo-4.ipynb",
   "provenance": []
  },
  "kernelspec": {
   "display_name": "Python 3",
   "language": "python",
   "name": "python3"
  },
  "language_info": {
   "codemirror_mode": {
    "name": "ipython",
    "version": 3
   },
   "file_extension": ".py",
   "mimetype": "text/x-python",
   "name": "python",
   "nbconvert_exporter": "python",
   "pygments_lexer": "ipython3",
   "version": "3.8.8"
  }
 },
 "nbformat": 4,
 "nbformat_minor": 5
}
