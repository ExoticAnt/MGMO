{
 "cells": [
  {
   "cell_type": "markdown",
   "id": "blind-cookie",
   "metadata": {
    "id": "addressed-terrorism"
   },
   "source": [
    "## Prueba de modelos ##\n",
    "\n",
    "### Version 5: Modelo con 3 DER + 2 BESS, planificación anual, granularidad horaria ###\n"
   ]
  },
  {
   "cell_type": "code",
   "execution_count": 1,
   "id": "clear-currency",
   "metadata": {},
   "outputs": [],
   "source": [
    "%load_ext autoreload"
   ]
  },
  {
   "cell_type": "code",
   "execution_count": 2,
   "id": "animated-yugoslavia",
   "metadata": {},
   "outputs": [],
   "source": [
    "%autoreload 2"
   ]
  },
  {
   "cell_type": "code",
   "execution_count": 3,
   "id": "developing-assault",
   "metadata": {
    "executionInfo": {
     "elapsed": 5552,
     "status": "ok",
     "timestamp": 1620005659685,
     "user": {
      "displayName": "Juan Sardón",
      "photoUrl": "https://lh3.googleusercontent.com/a-/AOh14Gh0hE4Hw8M0I17k-o2PXxLB5i6gNZV_oUTpZlyJ3Q=s64",
      "userId": "08267034058673099115"
     },
     "user_tz": 180
    },
    "id": "aboriginal-joshua"
   },
   "outputs": [],
   "source": [
    "import pandapower as pp"
   ]
  },
  {
   "cell_type": "code",
   "execution_count": 4,
   "id": "accredited-distribution",
   "metadata": {
    "executionInfo": {
     "elapsed": 4628,
     "status": "ok",
     "timestamp": 1620005659687,
     "user": {
      "displayName": "Juan Sardón",
      "photoUrl": "https://lh3.googleusercontent.com/a-/AOh14Gh0hE4Hw8M0I17k-o2PXxLB5i6gNZV_oUTpZlyJ3Q=s64",
      "userId": "08267034058673099115"
     },
     "user_tz": 180
    },
    "id": "narrative-census"
   },
   "outputs": [],
   "source": [
    "import pandas as pd"
   ]
  },
  {
   "cell_type": "code",
   "execution_count": 5,
   "id": "statistical-relations",
   "metadata": {
    "executionInfo": {
     "elapsed": 4248,
     "status": "ok",
     "timestamp": 1620005659688,
     "user": {
      "displayName": "Juan Sardón",
      "photoUrl": "https://lh3.googleusercontent.com/a-/AOh14Gh0hE4Hw8M0I17k-o2PXxLB5i6gNZV_oUTpZlyJ3Q=s64",
      "userId": "08267034058673099115"
     },
     "user_tz": 180
    },
    "id": "collectible-innocent"
   },
   "outputs": [],
   "source": [
    "import pyomo.environ as pe"
   ]
  },
  {
   "cell_type": "code",
   "execution_count": 6,
   "id": "excellent-consensus",
   "metadata": {
    "executionInfo": {
     "elapsed": 3906,
     "status": "ok",
     "timestamp": 1620005659690,
     "user": {
      "displayName": "Juan Sardón",
      "photoUrl": "https://lh3.googleusercontent.com/a-/AOh14Gh0hE4Hw8M0I17k-o2PXxLB5i6gNZV_oUTpZlyJ3Q=s64",
      "userId": "08267034058673099115"
     },
     "user_tz": 180
    },
    "id": "handled-baltimore"
   },
   "outputs": [],
   "source": [
    "import math"
   ]
  },
  {
   "cell_type": "code",
   "execution_count": 7,
   "id": "collect-refrigerator",
   "metadata": {
    "executionInfo": {
     "elapsed": 3594,
     "status": "ok",
     "timestamp": 1620005659691,
     "user": {
      "displayName": "Juan Sardón",
      "photoUrl": "https://lh3.googleusercontent.com/a-/AOh14Gh0hE4Hw8M0I17k-o2PXxLB5i6gNZV_oUTpZlyJ3Q=s64",
      "userId": "08267034058673099115"
     },
     "user_tz": 180
    },
    "id": "substantial-payroll"
   },
   "outputs": [],
   "source": [
    "import random"
   ]
  },
  {
   "cell_type": "code",
   "execution_count": 8,
   "id": "fewer-tactics",
   "metadata": {
    "executionInfo": {
     "elapsed": 3074,
     "status": "ok",
     "timestamp": 1620005659693,
     "user": {
      "displayName": "Juan Sardón",
      "photoUrl": "https://lh3.googleusercontent.com/a-/AOh14Gh0hE4Hw8M0I17k-o2PXxLB5i6gNZV_oUTpZlyJ3Q=s64",
      "userId": "08267034058673099115"
     },
     "user_tz": 180
    },
    "id": "united-bronze"
   },
   "outputs": [],
   "source": [
    "import matplotlib.pyplot as plt"
   ]
  },
  {
   "cell_type": "code",
   "execution_count": 9,
   "id": "sexual-conversation",
   "metadata": {},
   "outputs": [],
   "source": [
    "import numpy as np"
   ]
  },
  {
   "cell_type": "code",
   "execution_count": 10,
   "id": "fossil-pension",
   "metadata": {},
   "outputs": [],
   "source": [
    "from ModelWriters.SimpleBusbar import SimpleModelWriter"
   ]
  },
  {
   "cell_type": "code",
   "execution_count": 11,
   "id": "golden-warner",
   "metadata": {},
   "outputs": [],
   "source": [
    "import ModelWriters.Resources.ExtGrid  as ExtGrid"
   ]
  },
  {
   "cell_type": "code",
   "execution_count": 12,
   "id": "promotional-elizabeth",
   "metadata": {},
   "outputs": [],
   "source": [
    "import ModelWriters.Resources.Load  as Load"
   ]
  },
  {
   "cell_type": "code",
   "execution_count": 13,
   "id": "great-drama",
   "metadata": {},
   "outputs": [],
   "source": [
    "import ModelWriters.Resources.PV  as PV"
   ]
  },
  {
   "cell_type": "code",
   "execution_count": 14,
   "id": "hired-italian",
   "metadata": {},
   "outputs": [],
   "source": [
    "import ModelWriters.Resources.WT  as WT"
   ]
  },
  {
   "cell_type": "code",
   "execution_count": 15,
   "id": "natural-python",
   "metadata": {},
   "outputs": [],
   "source": [
    "import ModelWriters.Resources.Storage as Storage"
   ]
  },
  {
   "cell_type": "code",
   "execution_count": 16,
   "id": "second-tomato",
   "metadata": {},
   "outputs": [],
   "source": [
    "import ModelWriters.Simulation.ElectricityCost as ElectricityCost"
   ]
  },
  {
   "cell_type": "code",
   "execution_count": 17,
   "id": "dominican-condition",
   "metadata": {},
   "outputs": [],
   "source": [
    "import ModelWriters.Simulation.Demand as Demand"
   ]
  },
  {
   "cell_type": "code",
   "execution_count": 18,
   "id": "presidential-kruger",
   "metadata": {},
   "outputs": [],
   "source": [
    "import ModelWriters.Simulation.Solar as Solar"
   ]
  },
  {
   "cell_type": "code",
   "execution_count": 19,
   "id": "fuzzy-antarctica",
   "metadata": {},
   "outputs": [],
   "source": [
    "import ModelWriters.Simulation.Wind as Wind"
   ]
  },
  {
   "cell_type": "code",
   "execution_count": 20,
   "id": "major-parallel",
   "metadata": {
    "colab": {
     "base_uri": "https://localhost:8080/"
    },
    "executionInfo": {
     "elapsed": 2223,
     "status": "ok",
     "timestamp": 1620005659694,
     "user": {
      "displayName": "Juan Sardón",
      "photoUrl": "https://lh3.googleusercontent.com/a-/AOh14Gh0hE4Hw8M0I17k-o2PXxLB5i6gNZV_oUTpZlyJ3Q=s64",
      "userId": "08267034058673099115"
     },
     "user_tz": 180
    },
    "id": "corrected-friendly",
    "outputId": "bdf4d701-1857-4ce0-be28-267a95d8d74a"
   },
   "outputs": [
    {
     "data": {
      "text/plain": [
       "1"
      ]
     },
     "execution_count": 20,
     "metadata": {},
     "output_type": "execute_result"
    }
   ],
   "source": [
    "net = pp.create_empty_network() \n",
    "b0 = pp.create_bus(net, vn_kv=13.2)\n",
    "\n",
    "pp.create_ext_grid(net, bus=b0)\n",
    "\n",
    "#ramal 1\n",
    "b11 = pp.create_bus(net, vn_kv=13.2)\n",
    "b12 = pp.create_bus(net, vn_kv=13.2)\n",
    "\n",
    "pp.create_line(net, from_bus=b0, to_bus=b11, length_km=0.8, std_type=\"NAYY 4x50 SE\")\n",
    "pp.create_line(net, from_bus=b11, to_bus=b12, length_km=2.1, std_type=\"NAYY 4x50 SE\")\n",
    "\n",
    "pp.create_sgen(net, b11, p_mw=0.075, q_mvar=0.025, max_p_mw=0.15, max_q_mvar=0.15)\n",
    "pp.create_load(net, bus=b12, p_mw=0.350)\n",
    "\n",
    "#ramal 2\n",
    "b21 = pp.create_bus(net, vn_kv=13.2)\n",
    "pp.create_line(net, from_bus=b0, to_bus=b21, length_km=5.0, std_type=\"NAYY 4x50 SE\")\n",
    "pp.create_sgen(net, b21, p_mw=0.15, q_mvar=0.00, max_p_mw=0.40, max_q_mvar=0.10)\n",
    "pp.create_storage(net, bus=b21, p_mw=0.25, q_mvar=0.1, max_e_mwh = 3.0)\n",
    "\n",
    "#ramal 3\n",
    "b31 = pp.create_bus(net, vn_kv=13.2)\n",
    "b32 = pp.create_bus(net, vn_kv=13.2)\n",
    "pp.create_line(net, from_bus=b0, to_bus=b31, length_km=0.5, std_type=\"NAYY 4x50 SE\")\n",
    "pp.create_line(net, from_bus=b31, to_bus=b32, length_km=1.5, std_type=\"NAYY 4x50 SE\")\n",
    "pp.create_sgen(net, b31, p_mw=0.08, q_mvar=0.00, max_p_mw=0.30, max_q_mvar=0.10)\n",
    "pp.create_load(net, bus=b32, p_mw=0.85, q_mvar=0.33)\n",
    "\n",
    "\n",
    "#ramal 4\n",
    "b41 = pp.create_bus(net, vn_kv=13.2)\n",
    "pp.create_line(net, from_bus=b0, to_bus=b41, length_km=0.5, std_type=\"NAYY 4x50 SE\")\n",
    "pp.create_load(net, bus=b41, p_mw=0.22, q_mvar=0.05)\n",
    "pp.create_storage(net, bus=b41, p_mw=0.5, q_mvar=0.1, max_e_mwh = 5.0)\n",
    "\n"
   ]
  },
  {
   "cell_type": "code",
   "execution_count": 21,
   "id": "afraid-appearance",
   "metadata": {
    "executionInfo": {
     "elapsed": 2125,
     "status": "ok",
     "timestamp": 1620005662287,
     "user": {
      "displayName": "Juan Sardón",
      "photoUrl": "https://lh3.googleusercontent.com/a-/AOh14Gh0hE4Hw8M0I17k-o2PXxLB5i6gNZV_oUTpZlyJ3Q=s64",
      "userId": "08267034058673099115"
     },
     "user_tz": 180
    },
    "id": "junior-abraham"
   },
   "outputs": [],
   "source": [
    " pp.runpp(net)"
   ]
  },
  {
   "cell_type": "code",
   "execution_count": 22,
   "id": "local-singles",
   "metadata": {
    "colab": {
     "base_uri": "https://localhost:8080/"
    },
    "executionInfo": {
     "elapsed": 1619,
     "status": "ok",
     "timestamp": 1620005663021,
     "user": {
      "displayName": "Juan Sardón",
      "photoUrl": "https://lh3.googleusercontent.com/a-/AOh14Gh0hE4Hw8M0I17k-o2PXxLB5i6gNZV_oUTpZlyJ3Q=s64",
      "userId": "08267034058673099115"
     },
     "user_tz": 180
    },
    "id": "biological-emergency",
    "outputId": "ff9a4063-32b3-467c-c916-afc6f5140231"
   },
   "outputs": [],
   "source": [
    "#print(net.res_bus.vm_pu)\n",
    "#print(net.res_line)"
   ]
  },
  {
   "cell_type": "code",
   "execution_count": 23,
   "id": "strategic-buyer",
   "metadata": {
    "colab": {
     "base_uri": "https://localhost:8080/"
    },
    "executionInfo": {
     "elapsed": 885,
     "status": "ok",
     "timestamp": 1620005663021,
     "user": {
      "displayName": "Juan Sardón",
      "photoUrl": "https://lh3.googleusercontent.com/a-/AOh14Gh0hE4Hw8M0I17k-o2PXxLB5i6gNZV_oUTpZlyJ3Q=s64",
      "userId": "08267034058673099115"
     },
     "user_tz": 180
    },
    "id": "norwegian-dover",
    "outputId": "f1a78284-1d03-4323-8253-e779b726a433"
   },
   "outputs": [
    {
     "name": "stdout",
     "output_type": "stream",
     "text": [
      "This pandapower network includes the following parameter tables:\n",
      "   - bus (7 elements)\n",
      "   - load (3 elements)\n",
      "   - sgen (3 elements)\n",
      "   - storage (2 elements)\n",
      "   - ext_grid (1 element)\n",
      "   - line (6 elements)\n",
      " and the following results tables:\n",
      "   - res_bus (7 elements)\n",
      "   - res_line (6 elements)\n",
      "   - res_ext_grid (1 element)\n",
      "   - res_load (3 elements)\n",
      "   - res_sgen (3 elements)\n",
      "   - res_storage (2 elements)\n"
     ]
    }
   ],
   "source": [
    "print(net)"
   ]
  },
  {
   "cell_type": "code",
   "execution_count": 24,
   "id": "detected-detector",
   "metadata": {
    "colab": {
     "base_uri": "https://localhost:8080/",
     "height": 143
    },
    "executionInfo": {
     "elapsed": 877,
     "status": "ok",
     "timestamp": 1620005663401,
     "user": {
      "displayName": "Juan Sardón",
      "photoUrl": "https://lh3.googleusercontent.com/a-/AOh14Gh0hE4Hw8M0I17k-o2PXxLB5i6gNZV_oUTpZlyJ3Q=s64",
      "userId": "08267034058673099115"
     },
     "user_tz": 180
    },
    "id": "seven-international",
    "outputId": "bce17dc0-a6df-4860-fe28-db924addc855"
   },
   "outputs": [
    {
     "data": {
      "text/html": [
       "<div>\n",
       "<style scoped>\n",
       "    .dataframe tbody tr th:only-of-type {\n",
       "        vertical-align: middle;\n",
       "    }\n",
       "\n",
       "    .dataframe tbody tr th {\n",
       "        vertical-align: top;\n",
       "    }\n",
       "\n",
       "    .dataframe thead th {\n",
       "        text-align: right;\n",
       "    }\n",
       "</style>\n",
       "<table border=\"1\" class=\"dataframe\">\n",
       "  <thead>\n",
       "    <tr style=\"text-align: right;\">\n",
       "      <th></th>\n",
       "      <th>name</th>\n",
       "      <th>bus</th>\n",
       "      <th>p_mw</th>\n",
       "      <th>q_mvar</th>\n",
       "      <th>sn_mva</th>\n",
       "      <th>scaling</th>\n",
       "      <th>in_service</th>\n",
       "      <th>type</th>\n",
       "      <th>current_source</th>\n",
       "      <th>max_p_mw</th>\n",
       "      <th>max_q_mvar</th>\n",
       "    </tr>\n",
       "  </thead>\n",
       "  <tbody>\n",
       "    <tr>\n",
       "      <th>0</th>\n",
       "      <td>None</td>\n",
       "      <td>1</td>\n",
       "      <td>0.075</td>\n",
       "      <td>0.025</td>\n",
       "      <td>NaN</td>\n",
       "      <td>1.0</td>\n",
       "      <td>True</td>\n",
       "      <td>wye</td>\n",
       "      <td>True</td>\n",
       "      <td>0.15</td>\n",
       "      <td>0.15</td>\n",
       "    </tr>\n",
       "    <tr>\n",
       "      <th>1</th>\n",
       "      <td>None</td>\n",
       "      <td>3</td>\n",
       "      <td>0.150</td>\n",
       "      <td>0.000</td>\n",
       "      <td>NaN</td>\n",
       "      <td>1.0</td>\n",
       "      <td>True</td>\n",
       "      <td>wye</td>\n",
       "      <td>True</td>\n",
       "      <td>0.40</td>\n",
       "      <td>0.10</td>\n",
       "    </tr>\n",
       "    <tr>\n",
       "      <th>2</th>\n",
       "      <td>None</td>\n",
       "      <td>4</td>\n",
       "      <td>0.080</td>\n",
       "      <td>0.000</td>\n",
       "      <td>NaN</td>\n",
       "      <td>1.0</td>\n",
       "      <td>True</td>\n",
       "      <td>wye</td>\n",
       "      <td>True</td>\n",
       "      <td>0.30</td>\n",
       "      <td>0.10</td>\n",
       "    </tr>\n",
       "  </tbody>\n",
       "</table>\n",
       "</div>"
      ],
      "text/plain": [
       "   name  bus   p_mw  q_mvar  sn_mva  scaling  in_service type  current_source  \\\n",
       "0  None    1  0.075   0.025     NaN      1.0        True  wye            True   \n",
       "1  None    3  0.150   0.000     NaN      1.0        True  wye            True   \n",
       "2  None    4  0.080   0.000     NaN      1.0        True  wye            True   \n",
       "\n",
       "   max_p_mw  max_q_mvar  \n",
       "0      0.15        0.15  \n",
       "1      0.40        0.10  \n",
       "2      0.30        0.10  "
      ]
     },
     "execution_count": 24,
     "metadata": {},
     "output_type": "execute_result"
    }
   ],
   "source": [
    "net.sgen"
   ]
  },
  {
   "cell_type": "code",
   "execution_count": 25,
   "id": "ultimate-surrey",
   "metadata": {},
   "outputs": [
    {
     "data": {
      "text/html": [
       "<div>\n",
       "<style scoped>\n",
       "    .dataframe tbody tr th:only-of-type {\n",
       "        vertical-align: middle;\n",
       "    }\n",
       "\n",
       "    .dataframe tbody tr th {\n",
       "        vertical-align: top;\n",
       "    }\n",
       "\n",
       "    .dataframe thead th {\n",
       "        text-align: right;\n",
       "    }\n",
       "</style>\n",
       "<table border=\"1\" class=\"dataframe\">\n",
       "  <thead>\n",
       "    <tr style=\"text-align: right;\">\n",
       "      <th></th>\n",
       "      <th>name</th>\n",
       "      <th>bus</th>\n",
       "      <th>p_mw</th>\n",
       "      <th>q_mvar</th>\n",
       "      <th>sn_mva</th>\n",
       "      <th>soc_percent</th>\n",
       "      <th>min_e_mwh</th>\n",
       "      <th>max_e_mwh</th>\n",
       "      <th>scaling</th>\n",
       "      <th>in_service</th>\n",
       "      <th>type</th>\n",
       "    </tr>\n",
       "  </thead>\n",
       "  <tbody>\n",
       "    <tr>\n",
       "      <th>0</th>\n",
       "      <td>None</td>\n",
       "      <td>3</td>\n",
       "      <td>0.25</td>\n",
       "      <td>0.1</td>\n",
       "      <td>NaN</td>\n",
       "      <td>NaN</td>\n",
       "      <td>0.0</td>\n",
       "      <td>3.0</td>\n",
       "      <td>1.0</td>\n",
       "      <td>True</td>\n",
       "      <td>None</td>\n",
       "    </tr>\n",
       "    <tr>\n",
       "      <th>1</th>\n",
       "      <td>None</td>\n",
       "      <td>6</td>\n",
       "      <td>0.50</td>\n",
       "      <td>0.1</td>\n",
       "      <td>NaN</td>\n",
       "      <td>NaN</td>\n",
       "      <td>0.0</td>\n",
       "      <td>5.0</td>\n",
       "      <td>1.0</td>\n",
       "      <td>True</td>\n",
       "      <td>None</td>\n",
       "    </tr>\n",
       "  </tbody>\n",
       "</table>\n",
       "</div>"
      ],
      "text/plain": [
       "   name  bus  p_mw  q_mvar  sn_mva  soc_percent  min_e_mwh  max_e_mwh  \\\n",
       "0  None    3  0.25     0.1     NaN          NaN        0.0        3.0   \n",
       "1  None    6  0.50     0.1     NaN          NaN        0.0        5.0   \n",
       "\n",
       "   scaling  in_service  type  \n",
       "0      1.0        True  None  \n",
       "1      1.0        True  None  "
      ]
     },
     "execution_count": 25,
     "metadata": {},
     "output_type": "execute_result"
    }
   ],
   "source": [
    "net.storage"
   ]
  },
  {
   "cell_type": "markdown",
   "id": "exceptional-insert",
   "metadata": {
    "id": "alike-greensboro"
   },
   "source": [
    "Agregamos los parámetros del modelo a los elementos de la red."
   ]
  },
  {
   "cell_type": "code",
   "execution_count": 26,
   "id": "activated-electricity",
   "metadata": {
    "executionInfo": {
     "elapsed": 1677,
     "status": "ok",
     "timestamp": 1620005665253,
     "user": {
      "displayName": "Juan Sardón",
      "photoUrl": "https://lh3.googleusercontent.com/a-/AOh14Gh0hE4Hw8M0I17k-o2PXxLB5i6gNZV_oUTpZlyJ3Q=s64",
      "userId": "08267034058673099115"
     },
     "user_tz": 180
    },
    "id": "circular-simpson"
   },
   "outputs": [],
   "source": [
    "def net_add_optfw(net):\n",
    "    #agregamos parámetros para el modelo de optimización\n",
    "    tables = [net.ext_grid, net.load, net.sgen, net.storage]\n",
    "\n",
    "    for t in tables: \n",
    "        #initial cost\n",
    "        t['model'] = None\n"
   ]
  },
  {
   "cell_type": "code",
   "execution_count": 27,
   "id": "talented-triumph",
   "metadata": {
    "executionInfo": {
     "elapsed": 500,
     "status": "ok",
     "timestamp": 1620005665256,
     "user": {
      "displayName": "Juan Sardón",
      "photoUrl": "https://lh3.googleusercontent.com/a-/AOh14Gh0hE4Hw8M0I17k-o2PXxLB5i6gNZV_oUTpZlyJ3Q=s64",
      "userId": "08267034058673099115"
     },
     "user_tz": 180
    },
    "id": "respiratory-transport",
    "tags": []
   },
   "outputs": [],
   "source": [
    "net_add_optfw(net)"
   ]
  },
  {
   "cell_type": "markdown",
   "id": "accompanied-facility",
   "metadata": {
    "id": "elder-launch"
   },
   "source": [
    "Vemos como queda por ejemplo el elemento de red externa:"
   ]
  },
  {
   "cell_type": "code",
   "execution_count": 28,
   "id": "optional-century",
   "metadata": {
    "colab": {
     "base_uri": "https://localhost:8080/",
     "height": 81
    },
    "executionInfo": {
     "elapsed": 756,
     "status": "ok",
     "timestamp": 1620005667085,
     "user": {
      "displayName": "Juan Sardón",
      "photoUrl": "https://lh3.googleusercontent.com/a-/AOh14Gh0hE4Hw8M0I17k-o2PXxLB5i6gNZV_oUTpZlyJ3Q=s64",
      "userId": "08267034058673099115"
     },
     "user_tz": 180
    },
    "id": "overhead-delivery",
    "outputId": "49d17487-cbc3-4a10-e762-1965600f731a"
   },
   "outputs": [
    {
     "data": {
      "text/html": [
       "<div>\n",
       "<style scoped>\n",
       "    .dataframe tbody tr th:only-of-type {\n",
       "        vertical-align: middle;\n",
       "    }\n",
       "\n",
       "    .dataframe tbody tr th {\n",
       "        vertical-align: top;\n",
       "    }\n",
       "\n",
       "    .dataframe thead th {\n",
       "        text-align: right;\n",
       "    }\n",
       "</style>\n",
       "<table border=\"1\" class=\"dataframe\">\n",
       "  <thead>\n",
       "    <tr style=\"text-align: right;\">\n",
       "      <th></th>\n",
       "      <th>name</th>\n",
       "      <th>bus</th>\n",
       "      <th>vm_pu</th>\n",
       "      <th>va_degree</th>\n",
       "      <th>in_service</th>\n",
       "      <th>model</th>\n",
       "    </tr>\n",
       "  </thead>\n",
       "  <tbody>\n",
       "    <tr>\n",
       "      <th>0</th>\n",
       "      <td>None</td>\n",
       "      <td>0</td>\n",
       "      <td>1.0</td>\n",
       "      <td>0.0</td>\n",
       "      <td>True</td>\n",
       "      <td>None</td>\n",
       "    </tr>\n",
       "  </tbody>\n",
       "</table>\n",
       "</div>"
      ],
      "text/plain": [
       "   name  bus  vm_pu  va_degree  in_service model\n",
       "0  None    0    1.0        0.0        True  None"
      ]
     },
     "execution_count": 28,
     "metadata": {},
     "output_type": "execute_result"
    }
   ],
   "source": [
    "net.ext_grid"
   ]
  },
  {
   "cell_type": "markdown",
   "id": "stone-transparency",
   "metadata": {
    "id": "insured-marking"
   },
   "source": [
    "Defino una función normal de Python para que nos va a dar la componente lineal del costo de la energía"
   ]
  },
  {
   "cell_type": "markdown",
   "id": "swiss-smile",
   "metadata": {
    "id": "fifteen-pakistan"
   },
   "source": [
    "Variables que define el modelo:\n",
    "\n",
    "y para el año\n",
    "\n",
    "d para el día del año\n",
    "\n",
    "h para la hora del día\n",
    "\n",
    "dt la granularidad del modelo, en horas\n",
    "\n",
    "\n",
    "temp la temperatura\n",
    "\n",
    "wv la velocidad del viento\n",
    "\n",
    "I la irradiación solar\n",
    "\n",
    "\n",
    "eg el crecimiento económico en pu respecto al año 0\n",
    "\n",
    "\n",
    "Estas variables llegan como parámetros en forma de diccionario en el argumento 'model_status' (ver este nombre)\n",
    "\n",
    "Todas las funciones reciben este argumento, la lógica de la función indica que valor retorna. Pr ejemplo, si la granularidad es 24 h, debe retornar el valor medio del parámetro producido."
   ]
  },
  {
   "cell_type": "code",
   "execution_count": 29,
   "id": "veterinary-function",
   "metadata": {
    "executionInfo": {
     "elapsed": 976,
     "status": "ok",
     "timestamp": 1620005674196,
     "user": {
      "displayName": "Juan Sardón",
      "photoUrl": "https://lh3.googleusercontent.com/a-/AOh14Gh0hE4Hw8M0I17k-o2PXxLB5i6gNZV_oUTpZlyJ3Q=s64",
      "userId": "08267034058673099115"
     },
     "user_tz": 180
    },
    "id": "marine-rescue"
   },
   "outputs": [],
   "source": [
    "m = ExtGrid.ExtGrid('SET')\n",
    "m['pr_mw'] = 5.0\n",
    "m['pa_pu'] = 1.0\n",
    "m['oc_1_mu'] = ElectricityCost.fixed_scalonated_electricity_cost\n",
    "net.ext_grid['model'][0] = m\n",
    "net.ext_grid['name'][0] = 'SET'\n",
    "\n"
   ]
  },
  {
   "cell_type": "code",
   "execution_count": 30,
   "id": "ignored-oxygen",
   "metadata": {
    "colab": {
     "base_uri": "https://localhost:8080/",
     "height": 98
    },
    "executionInfo": {
     "elapsed": 728,
     "status": "ok",
     "timestamp": 1620005676371,
     "user": {
      "displayName": "Juan Sardón",
      "photoUrl": "https://lh3.googleusercontent.com/a-/AOh14Gh0hE4Hw8M0I17k-o2PXxLB5i6gNZV_oUTpZlyJ3Q=s64",
      "userId": "08267034058673099115"
     },
     "user_tz": 180
    },
    "id": "accredited-horse",
    "outputId": "f44ded0f-df37-4315-d07f-e140fb231d3a"
   },
   "outputs": [
    {
     "data": {
      "text/html": [
       "<div>\n",
       "<style scoped>\n",
       "    .dataframe tbody tr th:only-of-type {\n",
       "        vertical-align: middle;\n",
       "    }\n",
       "\n",
       "    .dataframe tbody tr th {\n",
       "        vertical-align: top;\n",
       "    }\n",
       "\n",
       "    .dataframe thead th {\n",
       "        text-align: right;\n",
       "    }\n",
       "</style>\n",
       "<table border=\"1\" class=\"dataframe\">\n",
       "  <thead>\n",
       "    <tr style=\"text-align: right;\">\n",
       "      <th></th>\n",
       "      <th>name</th>\n",
       "      <th>bus</th>\n",
       "      <th>vm_pu</th>\n",
       "      <th>va_degree</th>\n",
       "      <th>in_service</th>\n",
       "      <th>model</th>\n",
       "    </tr>\n",
       "  </thead>\n",
       "  <tbody>\n",
       "    <tr>\n",
       "      <th>0</th>\n",
       "      <td>SET</td>\n",
       "      <td>0</td>\n",
       "      <td>1.0</td>\n",
       "      <td>0.0</td>\n",
       "      <td>True</td>\n",
       "      <td>Resource: SET</td>\n",
       "    </tr>\n",
       "  </tbody>\n",
       "</table>\n",
       "</div>"
      ],
      "text/plain": [
       "  name  bus  vm_pu  va_degree  in_service          model\n",
       "0  SET    0    1.0        0.0        True  Resource: SET"
      ]
     },
     "execution_count": 30,
     "metadata": {},
     "output_type": "execute_result"
    }
   ],
   "source": [
    "net.ext_grid"
   ]
  },
  {
   "cell_type": "code",
   "execution_count": null,
   "id": "understanding-tuning",
   "metadata": {
    "executionInfo": {
     "elapsed": 1648,
     "status": "ok",
     "timestamp": 1620005683671,
     "user": {
      "displayName": "Juan Sardón",
      "photoUrl": "https://lh3.googleusercontent.com/a-/AOh14Gh0hE4Hw8M0I17k-o2PXxLB5i6gNZV_oUTpZlyJ3Q=s64",
      "userId": "08267034058673099115"
     },
     "user_tz": 180
    },
    "id": "secure-message"
   },
   "outputs": [],
   "source": []
  },
  {
   "cell_type": "code",
   "execution_count": 31,
   "id": "rocky-attachment",
   "metadata": {
    "executionInfo": {
     "elapsed": 945,
     "status": "ok",
     "timestamp": 1620005684448,
     "user": {
      "displayName": "Juan Sardón",
      "photoUrl": "https://lh3.googleusercontent.com/a-/AOh14Gh0hE4Hw8M0I17k-o2PXxLB5i6gNZV_oUTpZlyJ3Q=s64",
      "userId": "08267034058673099115"
     },
     "user_tz": 180
    },
    "id": "decreased-chorus"
   },
   "outputs": [],
   "source": [
    "m = Load.Load('Tornquinst')\n",
    "m['pa_pu'] = Demand.scalonated_seasoned_randomized_demand\n",
    "m['pr_mw'] = net.load['p_mw'][0]\n",
    "net.load['model'][0] = m\n",
    "\n",
    "m = Load.Load('Bell Ville')\n",
    "m['pa_pu'] = Demand.scalonated_seasoned_randomized_demand\n",
    "m['pr_mw'] = net.load['p_mw'][1]\n",
    "net.load['model'][1] = m\n",
    "\n",
    "m = Load.Load('City Bell')\n",
    "m['pa_pu'] = Demand.scalonated_seasoned_randomized_demand\n",
    "m['pr_mw'] = net.load['p_mw'][2]\n",
    "net.load['model'][2] = m"
   ]
  },
  {
   "cell_type": "code",
   "execution_count": 32,
   "id": "accepted-kinase",
   "metadata": {
    "colab": {
     "base_uri": "https://localhost:8080/",
     "height": 268
    },
    "executionInfo": {
     "elapsed": 857,
     "status": "ok",
     "timestamp": 1620005686825,
     "user": {
      "displayName": "Juan Sardón",
      "photoUrl": "https://lh3.googleusercontent.com/a-/AOh14Gh0hE4Hw8M0I17k-o2PXxLB5i6gNZV_oUTpZlyJ3Q=s64",
      "userId": "08267034058673099115"
     },
     "user_tz": 180
    },
    "id": "qualified-zimbabwe",
    "outputId": "fada93b3-2839-4bad-fcba-16ba0f043a7c"
   },
   "outputs": [
    {
     "data": {
      "text/html": [
       "<div>\n",
       "<style scoped>\n",
       "    .dataframe tbody tr th:only-of-type {\n",
       "        vertical-align: middle;\n",
       "    }\n",
       "\n",
       "    .dataframe tbody tr th {\n",
       "        vertical-align: top;\n",
       "    }\n",
       "\n",
       "    .dataframe thead th {\n",
       "        text-align: right;\n",
       "    }\n",
       "</style>\n",
       "<table border=\"1\" class=\"dataframe\">\n",
       "  <thead>\n",
       "    <tr style=\"text-align: right;\">\n",
       "      <th></th>\n",
       "      <th>name</th>\n",
       "      <th>bus</th>\n",
       "      <th>p_mw</th>\n",
       "      <th>q_mvar</th>\n",
       "      <th>const_z_percent</th>\n",
       "      <th>const_i_percent</th>\n",
       "      <th>sn_mva</th>\n",
       "      <th>scaling</th>\n",
       "      <th>in_service</th>\n",
       "      <th>type</th>\n",
       "      <th>model</th>\n",
       "    </tr>\n",
       "  </thead>\n",
       "  <tbody>\n",
       "    <tr>\n",
       "      <th>0</th>\n",
       "      <td>None</td>\n",
       "      <td>2</td>\n",
       "      <td>0.35</td>\n",
       "      <td>0.00</td>\n",
       "      <td>0.0</td>\n",
       "      <td>0.0</td>\n",
       "      <td>NaN</td>\n",
       "      <td>1.0</td>\n",
       "      <td>True</td>\n",
       "      <td>wye</td>\n",
       "      <td>Resource: Tornquinst</td>\n",
       "    </tr>\n",
       "    <tr>\n",
       "      <th>1</th>\n",
       "      <td>None</td>\n",
       "      <td>5</td>\n",
       "      <td>0.85</td>\n",
       "      <td>0.33</td>\n",
       "      <td>0.0</td>\n",
       "      <td>0.0</td>\n",
       "      <td>NaN</td>\n",
       "      <td>1.0</td>\n",
       "      <td>True</td>\n",
       "      <td>wye</td>\n",
       "      <td>Resource: Bell Ville</td>\n",
       "    </tr>\n",
       "    <tr>\n",
       "      <th>2</th>\n",
       "      <td>None</td>\n",
       "      <td>6</td>\n",
       "      <td>0.22</td>\n",
       "      <td>0.05</td>\n",
       "      <td>0.0</td>\n",
       "      <td>0.0</td>\n",
       "      <td>NaN</td>\n",
       "      <td>1.0</td>\n",
       "      <td>True</td>\n",
       "      <td>wye</td>\n",
       "      <td>Resource: City Bell</td>\n",
       "    </tr>\n",
       "  </tbody>\n",
       "</table>\n",
       "</div>"
      ],
      "text/plain": [
       "   name  bus  p_mw  q_mvar  const_z_percent  const_i_percent  sn_mva  scaling  \\\n",
       "0  None    2  0.35    0.00              0.0              0.0     NaN      1.0   \n",
       "1  None    5  0.85    0.33              0.0              0.0     NaN      1.0   \n",
       "2  None    6  0.22    0.05              0.0              0.0     NaN      1.0   \n",
       "\n",
       "   in_service type                 model  \n",
       "0        True  wye  Resource: Tornquinst  \n",
       "1        True  wye  Resource: Bell Ville  \n",
       "2        True  wye   Resource: City Bell  "
      ]
     },
     "execution_count": 32,
     "metadata": {},
     "output_type": "execute_result"
    }
   ],
   "source": [
    "net.load"
   ]
  },
  {
   "cell_type": "code",
   "execution_count": 33,
   "id": "empty-trout",
   "metadata": {
    "executionInfo": {
     "elapsed": 675,
     "status": "ok",
     "timestamp": 1620005692160,
     "user": {
      "displayName": "Juan Sardón",
      "photoUrl": "https://lh3.googleusercontent.com/a-/AOh14Gh0hE4Hw8M0I17k-o2PXxLB5i6gNZV_oUTpZlyJ3Q=s64",
      "userId": "08267034058673099115"
     },
     "user_tz": 180
    },
    "id": "correct-patrol"
   },
   "outputs": [],
   "source": [
    "m = PV.PVGeneratorDiscrete('PV1')\n",
    "m.ic_0_mu = 0.5\n",
    "m.ic_1_mu = 0.05\n",
    "m.unit_cost_mu = 0.2\n",
    "m.unit_size = 0.25\n",
    "m.oc_0_mu = 0.0\n",
    "m.oc_1_mu = 400e-6\n",
    "\n",
    "net.sgen['name'][0] = m.name\n",
    "net.sgen['model'][0] = m\n",
    "\n",
    "m = PV.PVGenerator('PV2')\n",
    "m.ic_0_mu = 3.0\n",
    "m.ic_1_mu = 0.75\n",
    "m.oc_0_mu = 0.0\n",
    "m.oc_1_mu = 500e-6\n",
    "\n",
    "net.sgen['name'][2] = m.name\n",
    "net.sgen['model'][2] = m"
   ]
  },
  {
   "cell_type": "code",
   "execution_count": 34,
   "id": "variable-field",
   "metadata": {
    "executionInfo": {
     "elapsed": 813,
     "status": "ok",
     "timestamp": 1620005695507,
     "user": {
      "displayName": "Juan Sardón",
      "photoUrl": "https://lh3.googleusercontent.com/a-/AOh14Gh0hE4Hw8M0I17k-o2PXxLB5i6gNZV_oUTpZlyJ3Q=s64",
      "userId": "08267034058673099115"
     },
     "user_tz": 180
    },
    "id": "composite-absorption"
   },
   "outputs": [],
   "source": [
    "m = WT.WTGenerator('WT1')\n",
    "m.ic_0_mu = 5.0\n",
    "m.ic_1_mu = 3.0\n",
    "m.oc_0_mu = 0.0\n",
    "m.oc_1_mu = 700e-6\n",
    "\n",
    "net.sgen['name'][1] = m.name\n",
    "net.sgen['model'][1] = m"
   ]
  },
  {
   "cell_type": "code",
   "execution_count": 35,
   "id": "realistic-raising",
   "metadata": {
    "colab": {
     "base_uri": "https://localhost:8080/",
     "height": 268
    },
    "executionInfo": {
     "elapsed": 551,
     "status": "ok",
     "timestamp": 1620005696937,
     "user": {
      "displayName": "Juan Sardón",
      "photoUrl": "https://lh3.googleusercontent.com/a-/AOh14Gh0hE4Hw8M0I17k-o2PXxLB5i6gNZV_oUTpZlyJ3Q=s64",
      "userId": "08267034058673099115"
     },
     "user_tz": 180
    },
    "id": "electronic-starter",
    "outputId": "ceda59be-4d12-4cb9-c914-e3ee22ce3a80"
   },
   "outputs": [
    {
     "data": {
      "text/html": [
       "<div>\n",
       "<style scoped>\n",
       "    .dataframe tbody tr th:only-of-type {\n",
       "        vertical-align: middle;\n",
       "    }\n",
       "\n",
       "    .dataframe tbody tr th {\n",
       "        vertical-align: top;\n",
       "    }\n",
       "\n",
       "    .dataframe thead th {\n",
       "        text-align: right;\n",
       "    }\n",
       "</style>\n",
       "<table border=\"1\" class=\"dataframe\">\n",
       "  <thead>\n",
       "    <tr style=\"text-align: right;\">\n",
       "      <th></th>\n",
       "      <th>name</th>\n",
       "      <th>bus</th>\n",
       "      <th>p_mw</th>\n",
       "      <th>q_mvar</th>\n",
       "      <th>sn_mva</th>\n",
       "      <th>scaling</th>\n",
       "      <th>in_service</th>\n",
       "      <th>type</th>\n",
       "      <th>current_source</th>\n",
       "      <th>max_p_mw</th>\n",
       "      <th>max_q_mvar</th>\n",
       "      <th>model</th>\n",
       "    </tr>\n",
       "  </thead>\n",
       "  <tbody>\n",
       "    <tr>\n",
       "      <th>0</th>\n",
       "      <td>PV1</td>\n",
       "      <td>1</td>\n",
       "      <td>0.075</td>\n",
       "      <td>0.025</td>\n",
       "      <td>NaN</td>\n",
       "      <td>1.0</td>\n",
       "      <td>True</td>\n",
       "      <td>wye</td>\n",
       "      <td>True</td>\n",
       "      <td>0.15</td>\n",
       "      <td>0.15</td>\n",
       "      <td>Resource: PV1</td>\n",
       "    </tr>\n",
       "    <tr>\n",
       "      <th>1</th>\n",
       "      <td>WT1</td>\n",
       "      <td>3</td>\n",
       "      <td>0.150</td>\n",
       "      <td>0.000</td>\n",
       "      <td>NaN</td>\n",
       "      <td>1.0</td>\n",
       "      <td>True</td>\n",
       "      <td>wye</td>\n",
       "      <td>True</td>\n",
       "      <td>0.40</td>\n",
       "      <td>0.10</td>\n",
       "      <td>Resource: WT1</td>\n",
       "    </tr>\n",
       "    <tr>\n",
       "      <th>2</th>\n",
       "      <td>PV2</td>\n",
       "      <td>4</td>\n",
       "      <td>0.080</td>\n",
       "      <td>0.000</td>\n",
       "      <td>NaN</td>\n",
       "      <td>1.0</td>\n",
       "      <td>True</td>\n",
       "      <td>wye</td>\n",
       "      <td>True</td>\n",
       "      <td>0.30</td>\n",
       "      <td>0.10</td>\n",
       "      <td>Resource: PV2</td>\n",
       "    </tr>\n",
       "  </tbody>\n",
       "</table>\n",
       "</div>"
      ],
      "text/plain": [
       "  name  bus   p_mw  q_mvar  sn_mva  scaling  in_service type  current_source  \\\n",
       "0  PV1    1  0.075   0.025     NaN      1.0        True  wye            True   \n",
       "1  WT1    3  0.150   0.000     NaN      1.0        True  wye            True   \n",
       "2  PV2    4  0.080   0.000     NaN      1.0        True  wye            True   \n",
       "\n",
       "   max_p_mw  max_q_mvar          model  \n",
       "0      0.15        0.15  Resource: PV1  \n",
       "1      0.40        0.10  Resource: WT1  \n",
       "2      0.30        0.10  Resource: PV2  "
      ]
     },
     "execution_count": 35,
     "metadata": {},
     "output_type": "execute_result"
    }
   ],
   "source": [
    "net.sgen"
   ]
  },
  {
   "cell_type": "code",
   "execution_count": 36,
   "id": "sufficient-singing",
   "metadata": {},
   "outputs": [],
   "source": [
    "m = Storage.Storage('ST1')\n",
    "\n",
    "m.pa_pu = 1.0\n",
    "m.ic_0_mu = 0.5\n",
    "m.ic_1_mu = 1.0\n",
    "m.ic_1_mu_cap = 0.5\n",
    "m.oc_0_mu = 0.0\n",
    "\n",
    "net.storage['name'][0] = 'ST1'\n",
    "net.storage['model'][0] = m\n",
    "\n",
    "\n",
    "m = Storage.Storage('ST2')\n",
    "net.storage['name'][1] = 'ST2'\n",
    "net.storage['model'][1] = m\n",
    "\n",
    "m.pa_pu = 1.0\n",
    "m.ic_0_mu = 0.5\n",
    "m.ic_1_mu = 2.0\n",
    "m.ic_1_mu_cap = 7.0\n",
    "m.oc_0_mu = 0.0\n",
    "m.oc_1_mu = 1400e-6\n"
   ]
  },
  {
   "cell_type": "code",
   "execution_count": 37,
   "id": "bearing-tuition",
   "metadata": {},
   "outputs": [
    {
     "data": {
      "text/html": [
       "<div>\n",
       "<style scoped>\n",
       "    .dataframe tbody tr th:only-of-type {\n",
       "        vertical-align: middle;\n",
       "    }\n",
       "\n",
       "    .dataframe tbody tr th {\n",
       "        vertical-align: top;\n",
       "    }\n",
       "\n",
       "    .dataframe thead th {\n",
       "        text-align: right;\n",
       "    }\n",
       "</style>\n",
       "<table border=\"1\" class=\"dataframe\">\n",
       "  <thead>\n",
       "    <tr style=\"text-align: right;\">\n",
       "      <th></th>\n",
       "      <th>name</th>\n",
       "      <th>bus</th>\n",
       "      <th>p_mw</th>\n",
       "      <th>q_mvar</th>\n",
       "      <th>sn_mva</th>\n",
       "      <th>soc_percent</th>\n",
       "      <th>min_e_mwh</th>\n",
       "      <th>max_e_mwh</th>\n",
       "      <th>scaling</th>\n",
       "      <th>in_service</th>\n",
       "      <th>type</th>\n",
       "      <th>model</th>\n",
       "    </tr>\n",
       "  </thead>\n",
       "  <tbody>\n",
       "    <tr>\n",
       "      <th>0</th>\n",
       "      <td>ST1</td>\n",
       "      <td>3</td>\n",
       "      <td>0.25</td>\n",
       "      <td>0.1</td>\n",
       "      <td>NaN</td>\n",
       "      <td>NaN</td>\n",
       "      <td>0.0</td>\n",
       "      <td>3.0</td>\n",
       "      <td>1.0</td>\n",
       "      <td>True</td>\n",
       "      <td>None</td>\n",
       "      <td>Resource: ST1</td>\n",
       "    </tr>\n",
       "    <tr>\n",
       "      <th>1</th>\n",
       "      <td>ST2</td>\n",
       "      <td>6</td>\n",
       "      <td>0.50</td>\n",
       "      <td>0.1</td>\n",
       "      <td>NaN</td>\n",
       "      <td>NaN</td>\n",
       "      <td>0.0</td>\n",
       "      <td>5.0</td>\n",
       "      <td>1.0</td>\n",
       "      <td>True</td>\n",
       "      <td>None</td>\n",
       "      <td>Resource: ST2</td>\n",
       "    </tr>\n",
       "  </tbody>\n",
       "</table>\n",
       "</div>"
      ],
      "text/plain": [
       "  name  bus  p_mw  q_mvar  sn_mva  soc_percent  min_e_mwh  max_e_mwh  scaling  \\\n",
       "0  ST1    3  0.25     0.1     NaN          NaN        0.0        3.0      1.0   \n",
       "1  ST2    6  0.50     0.1     NaN          NaN        0.0        5.0      1.0   \n",
       "\n",
       "   in_service  type          model  \n",
       "0        True  None  Resource: ST1  \n",
       "1        True  None  Resource: ST2  "
      ]
     },
     "execution_count": 37,
     "metadata": {},
     "output_type": "execute_result"
    }
   ],
   "source": [
    "net.storage"
   ]
  },
  {
   "cell_type": "markdown",
   "id": "ordered-thanksgiving",
   "metadata": {
    "id": "pTK9BGaY4BEu"
   },
   "source": [
    "## Construcción de Escenarios"
   ]
  },
  {
   "cell_type": "code",
   "execution_count": 38,
   "id": "settled-founder",
   "metadata": {
    "executionInfo": {
     "elapsed": 1184,
     "status": "ok",
     "timestamp": 1620006589608,
     "user": {
      "displayName": "Juan Sardón",
      "photoUrl": "https://lh3.googleusercontent.com/a-/AOh14Gh0hE4Hw8M0I17k-o2PXxLB5i6gNZV_oUTpZlyJ3Q=s64",
      "userId": "08267034058673099115"
     },
     "user_tz": 180
    },
    "id": "posted-description"
   },
   "outputs": [],
   "source": [
    "dias = 365\n",
    "años = 5"
   ]
  },
  {
   "cell_type": "code",
   "execution_count": 39,
   "id": "pointed-logistics",
   "metadata": {
    "executionInfo": {
     "elapsed": 804,
     "status": "ok",
     "timestamp": 1620006591214,
     "user": {
      "displayName": "Juan Sardón",
      "photoUrl": "https://lh3.googleusercontent.com/a-/AOh14Gh0hE4Hw8M0I17k-o2PXxLB5i6gNZV_oUTpZlyJ3Q=s64",
      "userId": "08267034058673099115"
     },
     "user_tz": 180
    },
    "id": "intelligent-terrace"
   },
   "outputs": [],
   "source": [
    "#el rango de horas:\n",
    "T_i = range(24)\n",
    "#T_i = range(5)\n",
    "\n",
    "#el rango de dias:\n",
    "Dias_i = range(dias)\n",
    "\n",
    "Escenarios_i = range(len(T_i)*len(Dias_i))"
   ]
  },
  {
   "cell_type": "code",
   "execution_count": null,
   "id": "weighted-burton",
   "metadata": {
    "executionInfo": {
     "elapsed": 957,
     "status": "ok",
     "timestamp": 1620006593285,
     "user": {
      "displayName": "Juan Sardón",
      "photoUrl": "https://lh3.googleusercontent.com/a-/AOh14Gh0hE4Hw8M0I17k-o2PXxLB5i6gNZV_oUTpZlyJ3Q=s64",
      "userId": "08267034058673099115"
     },
     "user_tz": 180
    },
    "id": "complimentary-harvard"
   },
   "outputs": [],
   "source": []
  },
  {
   "cell_type": "code",
   "execution_count": 40,
   "id": "alien-demographic",
   "metadata": {
    "executionInfo": {
     "elapsed": 740,
     "status": "ok",
     "timestamp": 1620006594076,
     "user": {
      "displayName": "Juan Sardón",
      "photoUrl": "https://lh3.googleusercontent.com/a-/AOh14Gh0hE4Hw8M0I17k-o2PXxLB5i6gNZV_oUTpZlyJ3Q=s64",
      "userId": "08267034058673099115"
     },
     "user_tz": 180
    },
    "id": "rotary-traffic"
   },
   "outputs": [],
   "source": [
    "m_s_base = [{'y': 0, 'd': 0, 'dd':1.0, 'h': 0.0, 'dt': 1.0, 'temp': 20.0, 'I':1000.0, 'wv': 10.0, 'eg': 1.0}]\n",
    "\n",
    "registros = len(Dias_i)*len(T_i)\n",
    "\n",
    "Escenarios =  pd.DataFrame(m_s_base, index = Escenarios_i)\n",
    "\n",
    "reg = 0\n",
    "for d in Dias_i:\n",
    "    for h in T_i:\n",
    "        Escenarios['d'][reg] = d\n",
    "        Escenarios['h'][reg] = h\n",
    "        Escenarios['I'][reg] = Solar.solar_irradiance_seasoned_randomized(d, h)\n",
    "        Escenarios['wv'][reg] = random.uniform(1.0, 20.0)\n",
    "        reg += 1"
   ]
  },
  {
   "cell_type": "code",
   "execution_count": 41,
   "id": "alive-yukon",
   "metadata": {
    "colab": {
     "base_uri": "https://localhost:8080/",
     "height": 424
    },
    "executionInfo": {
     "elapsed": 940,
     "status": "ok",
     "timestamp": 1620006595909,
     "user": {
      "displayName": "Juan Sardón",
      "photoUrl": "https://lh3.googleusercontent.com/a-/AOh14Gh0hE4Hw8M0I17k-o2PXxLB5i6gNZV_oUTpZlyJ3Q=s64",
      "userId": "08267034058673099115"
     },
     "user_tz": 180
    },
    "id": "rztNfB1f4udd",
    "outputId": "9d65516d-715a-4f75-a9e9-b820fa6643be"
   },
   "outputs": [
    {
     "data": {
      "text/html": [
       "<div>\n",
       "<style scoped>\n",
       "    .dataframe tbody tr th:only-of-type {\n",
       "        vertical-align: middle;\n",
       "    }\n",
       "\n",
       "    .dataframe tbody tr th {\n",
       "        vertical-align: top;\n",
       "    }\n",
       "\n",
       "    .dataframe thead th {\n",
       "        text-align: right;\n",
       "    }\n",
       "</style>\n",
       "<table border=\"1\" class=\"dataframe\">\n",
       "  <thead>\n",
       "    <tr style=\"text-align: right;\">\n",
       "      <th></th>\n",
       "      <th>y</th>\n",
       "      <th>d</th>\n",
       "      <th>dd</th>\n",
       "      <th>h</th>\n",
       "      <th>dt</th>\n",
       "      <th>temp</th>\n",
       "      <th>I</th>\n",
       "      <th>wv</th>\n",
       "      <th>eg</th>\n",
       "    </tr>\n",
       "  </thead>\n",
       "  <tbody>\n",
       "    <tr>\n",
       "      <th>0</th>\n",
       "      <td>0</td>\n",
       "      <td>0</td>\n",
       "      <td>1.0</td>\n",
       "      <td>0.0</td>\n",
       "      <td>1.0</td>\n",
       "      <td>20.0</td>\n",
       "      <td>0.000000</td>\n",
       "      <td>11.530971</td>\n",
       "      <td>1.0</td>\n",
       "    </tr>\n",
       "    <tr>\n",
       "      <th>1</th>\n",
       "      <td>0</td>\n",
       "      <td>0</td>\n",
       "      <td>1.0</td>\n",
       "      <td>1.0</td>\n",
       "      <td>1.0</td>\n",
       "      <td>20.0</td>\n",
       "      <td>0.000000</td>\n",
       "      <td>9.601593</td>\n",
       "      <td>1.0</td>\n",
       "    </tr>\n",
       "    <tr>\n",
       "      <th>2</th>\n",
       "      <td>0</td>\n",
       "      <td>0</td>\n",
       "      <td>1.0</td>\n",
       "      <td>2.0</td>\n",
       "      <td>1.0</td>\n",
       "      <td>20.0</td>\n",
       "      <td>0.000000</td>\n",
       "      <td>14.140347</td>\n",
       "      <td>1.0</td>\n",
       "    </tr>\n",
       "    <tr>\n",
       "      <th>3</th>\n",
       "      <td>0</td>\n",
       "      <td>0</td>\n",
       "      <td>1.0</td>\n",
       "      <td>3.0</td>\n",
       "      <td>1.0</td>\n",
       "      <td>20.0</td>\n",
       "      <td>0.000000</td>\n",
       "      <td>9.994890</td>\n",
       "      <td>1.0</td>\n",
       "    </tr>\n",
       "    <tr>\n",
       "      <th>4</th>\n",
       "      <td>0</td>\n",
       "      <td>0</td>\n",
       "      <td>1.0</td>\n",
       "      <td>4.0</td>\n",
       "      <td>1.0</td>\n",
       "      <td>20.0</td>\n",
       "      <td>0.000000</td>\n",
       "      <td>18.948604</td>\n",
       "      <td>1.0</td>\n",
       "    </tr>\n",
       "    <tr>\n",
       "      <th>...</th>\n",
       "      <td>...</td>\n",
       "      <td>...</td>\n",
       "      <td>...</td>\n",
       "      <td>...</td>\n",
       "      <td>...</td>\n",
       "      <td>...</td>\n",
       "      <td>...</td>\n",
       "      <td>...</td>\n",
       "      <td>...</td>\n",
       "    </tr>\n",
       "    <tr>\n",
       "      <th>8755</th>\n",
       "      <td>0</td>\n",
       "      <td>364</td>\n",
       "      <td>1.0</td>\n",
       "      <td>19.0</td>\n",
       "      <td>1.0</td>\n",
       "      <td>20.0</td>\n",
       "      <td>207.436346</td>\n",
       "      <td>1.414152</td>\n",
       "      <td>1.0</td>\n",
       "    </tr>\n",
       "    <tr>\n",
       "      <th>8756</th>\n",
       "      <td>0</td>\n",
       "      <td>364</td>\n",
       "      <td>1.0</td>\n",
       "      <td>20.0</td>\n",
       "      <td>1.0</td>\n",
       "      <td>20.0</td>\n",
       "      <td>18.599948</td>\n",
       "      <td>16.747833</td>\n",
       "      <td>1.0</td>\n",
       "    </tr>\n",
       "    <tr>\n",
       "      <th>8757</th>\n",
       "      <td>0</td>\n",
       "      <td>364</td>\n",
       "      <td>1.0</td>\n",
       "      <td>21.0</td>\n",
       "      <td>1.0</td>\n",
       "      <td>20.0</td>\n",
       "      <td>0.000000</td>\n",
       "      <td>11.385944</td>\n",
       "      <td>1.0</td>\n",
       "    </tr>\n",
       "    <tr>\n",
       "      <th>8758</th>\n",
       "      <td>0</td>\n",
       "      <td>364</td>\n",
       "      <td>1.0</td>\n",
       "      <td>22.0</td>\n",
       "      <td>1.0</td>\n",
       "      <td>20.0</td>\n",
       "      <td>0.000000</td>\n",
       "      <td>7.821123</td>\n",
       "      <td>1.0</td>\n",
       "    </tr>\n",
       "    <tr>\n",
       "      <th>8759</th>\n",
       "      <td>0</td>\n",
       "      <td>364</td>\n",
       "      <td>1.0</td>\n",
       "      <td>23.0</td>\n",
       "      <td>1.0</td>\n",
       "      <td>20.0</td>\n",
       "      <td>0.000000</td>\n",
       "      <td>18.096720</td>\n",
       "      <td>1.0</td>\n",
       "    </tr>\n",
       "  </tbody>\n",
       "</table>\n",
       "<p>8760 rows × 9 columns</p>\n",
       "</div>"
      ],
      "text/plain": [
       "      y    d   dd     h   dt  temp           I         wv   eg\n",
       "0     0    0  1.0   0.0  1.0  20.0    0.000000  11.530971  1.0\n",
       "1     0    0  1.0   1.0  1.0  20.0    0.000000   9.601593  1.0\n",
       "2     0    0  1.0   2.0  1.0  20.0    0.000000  14.140347  1.0\n",
       "3     0    0  1.0   3.0  1.0  20.0    0.000000   9.994890  1.0\n",
       "4     0    0  1.0   4.0  1.0  20.0    0.000000  18.948604  1.0\n",
       "...  ..  ...  ...   ...  ...   ...         ...        ...  ...\n",
       "8755  0  364  1.0  19.0  1.0  20.0  207.436346   1.414152  1.0\n",
       "8756  0  364  1.0  20.0  1.0  20.0   18.599948  16.747833  1.0\n",
       "8757  0  364  1.0  21.0  1.0  20.0    0.000000  11.385944  1.0\n",
       "8758  0  364  1.0  22.0  1.0  20.0    0.000000   7.821123  1.0\n",
       "8759  0  364  1.0  23.0  1.0  20.0    0.000000  18.096720  1.0\n",
       "\n",
       "[8760 rows x 9 columns]"
      ]
     },
     "execution_count": 41,
     "metadata": {},
     "output_type": "execute_result"
    }
   ],
   "source": [
    "Escenarios"
   ]
  },
  {
   "cell_type": "markdown",
   "id": "entertaining-trading",
   "metadata": {
    "id": "DrtD-E834lhY"
   },
   "source": [
    "## Construcción del Modelo"
   ]
  },
  {
   "cell_type": "markdown",
   "id": "shaped-carter",
   "metadata": {
    "id": "spiritual-luxembourg"
   },
   "source": [
    "Construccion automatica del modelo\n",
    "Es un modelo de dimensionamiento de 3 DERs (WT+PV)"
   ]
  },
  {
   "cell_type": "code",
   "execution_count": 42,
   "id": "virtual-venezuela",
   "metadata": {},
   "outputs": [],
   "source": [
    "model_writer = SimpleModelWriter(net, Escenarios)"
   ]
  },
  {
   "cell_type": "code",
   "execution_count": 43,
   "id": "increased-power",
   "metadata": {},
   "outputs": [],
   "source": [
    "model = model_writer.create_model()"
   ]
  },
  {
   "cell_type": "code",
   "execution_count": 44,
   "id": "worse-plymouth",
   "metadata": {},
   "outputs": [],
   "source": [
    "#model.pprint()"
   ]
  },
  {
   "cell_type": "code",
   "execution_count": 45,
   "id": "advisory-grade",
   "metadata": {},
   "outputs": [
    {
     "name": "stdout",
     "output_type": "stream",
     "text": [
      "\n",
      "Welcome to IBM(R) ILOG(R) CPLEX(R) Interactive Optimizer 20.1.0.0\n",
      "  with Simplex, Mixed Integer & Barrier Optimizers\n",
      "5725-A06 5725-A29 5724-Y48 5724-Y49 5724-Y54 5724-Y55 5655-Y21\n",
      "Copyright IBM Corp. 1988, 2020.  All Rights Reserved.\n",
      "\n",
      "Type 'help' for a list of available commands.\n",
      "Type 'help' followed by a command name for more\n",
      "information on commands.\n",
      "\n",
      "CPLEX> Logfile 'cplex.log' closed.\n",
      "Logfile 'C:\\Users\\jmsar\\AppData\\Local\\Temp\\tmpw2u7e10_.cplex.log' open.\n",
      "CPLEX> Problem 'C:\\Users\\jmsar\\AppData\\Local\\Temp\\tmp2gwz3szr.pyomo.lp' read.\n",
      "Read time = 0.31 sec. (12.81 ticks)\n",
      "CPLEX> Problem name         : C:\\Users\\jmsar\\AppData\\Local\\Temp\\tmp2gwz3szr.pyomo.lp\n",
      "Objective sense      : Minimize\n",
      "Variables            :   70094  [Nneg: 43808,  Box: 8760,  Free: 17520,\n",
      "                                 Binary: 5,  General Integer: 1]\n",
      "Objective nonzeros   :   43813\n",
      "Linear constraints   :  122649  [Less: 96367,  Equal: 26282]\n",
      "  Nonzeros           :  288162\n",
      "  RHS nonzeros       :    8761\n",
      "\n",
      "Variables            : Min LB: 0.000000         Max UB: 5.000000       \n",
      "Objective nonzeros   : Min   : 0.0004000000     Max   : 7.000000       \n",
      "Linear constraints   :\n",
      "  Nonzeros           : Min   : 0.0001453027     Max   : 1000.000       \n",
      "  RHS nonzeros       : Min   : 0.1660984        Max   : 2.116571       \n",
      "CPLEX> Version identifier: 20.1.0.0 | 2020-11-10 | 9bedb6d68\n",
      "Found incumbent of value 26.013750 after 0.02 sec. (6.28 ticks)\n",
      "Tried aggregator 2 times.\n",
      "MIP Presolve eliminated 9704 rows and 9694 columns.\n",
      "Aggregator did 3 substitutions.\n",
      "Reduced MIP has 112942 rows, 60397 columns, and 268749 nonzeros.\n",
      "Reduced MIP has 5 binaries, 1 generals, 0 SOSs, and 0 indicators.\n",
      "Presolve time = 0.30 sec. (149.66 ticks)\n",
      "Probing time = 0.11 sec. (13.00 ticks)\n",
      "Tried aggregator 1 time.\n",
      "Detecting symmetries...\n",
      "Reduced MIP has 112942 rows, 60397 columns, and 268749 nonzeros.\n",
      "Reduced MIP has 5 binaries, 1 generals, 0 SOSs, and 0 indicators.\n",
      "Presolve time = 0.33 sec. (130.18 ticks)\n",
      "Probing time = 0.13 sec. (10.51 ticks)\n",
      "MIP emphasis: balance optimality and feasibility.\n",
      "MIP search method: dynamic search.\n",
      "Parallel mode: deterministic, using up to 4 threads.\n",
      "Root relaxation solution time = 31.97 sec. (8148.29 ticks)\n",
      "\n",
      "        Nodes                                         Cuts/\n",
      "   Node  Left     Objective  IInf  Best Integer    Best Bound    ItCnt     Gap\n",
      "\n",
      "*     0+    0                           26.0138   -12262.9785              --- \n",
      "      0     0       12.0063     4       26.0138       12.0063      176   53.85%\n",
      "*     0+    0                           18.1199       12.0063            33.74%\n",
      "      0     0       12.6395     5       18.1199    Cuts: 9953     3975   30.25%\n",
      "      0     0       13.1826     4       18.1199    Cuts: 9790    10177   15.76%\n",
      "      0     0       13.3485     5       18.1199    Cuts: 7146    12535   15.76%\n",
      "*     0+    0                           16.3818       15.2635             6.83%\n",
      "      0     0       13.3862     3       16.3818    Cuts: 1651    13591    6.68%\n",
      "Detecting symmetries...\n",
      "Heuristic still looking.\n",
      "Heuristic still looking.\n",
      "      0     0        cutoff             16.3818       16.3818    13591    0.00%\n",
      "Elapsed time = 312.72 sec. (103466.28 ticks, tree = 0.01 MB, solutions = 3)\n",
      "\n",
      "Implied bound cuts applied:  3951\n",
      "Flow cuts applied:  2811\n",
      "Mixed integer rounding cuts applied:  1247\n",
      "Gomory fractional cuts applied:  1\n",
      "\n",
      "Root node processing (before b&c):\n",
      "  Real time             =  312.74 sec. (103470.71 ticks)\n",
      "Parallel b&c, 4 threads:\n",
      "  Real time             =    0.00 sec. (0.00 ticks)\n",
      "  Sync time (average)   =    0.00 sec.\n",
      "  Wait time (average)   =    0.00 sec.\n",
      "                          ------------\n",
      "Total (root+branch&cut) =  312.74 sec. (103470.71 ticks)\n",
      "\n",
      "Solution pool: 3 solutions saved.\n",
      "\n",
      "MIP - Integer optimal solution:  Objective =  1.6381784617e+01\n",
      "Solution time =  312.75 sec.  Iterations = 13591  Nodes = 0\n",
      "Deterministic time = 103470.92 ticks  (330.84 ticks/sec)\n",
      "\n",
      "CPLEX> Incumbent solution written to file 'C:\\Users\\jmsar\\AppData\\Local\\Temp\\tmp8aeqlsph.cplex.sol'.\n",
      "CPLEX> "
     ]
    }
   ],
   "source": [
    "#solver_manager = pe.SolverManagerFactory('neos')\n",
    "#result_obj = solver_manager.solve(model.model, opt='cplex')\n",
    "\n",
    "opt = pe.SolverFactory('cplex')\n",
    "#opt = pe.SolverFactory('glpk')\n",
    "result_obj= opt.solve(model, tee=True)"
   ]
  },
  {
   "cell_type": "code",
   "execution_count": 46,
   "id": "prepared-wealth",
   "metadata": {
    "tags": []
   },
   "outputs": [],
   "source": [
    "model_writer.backconfigure_network()"
   ]
  },
  {
   "cell_type": "code",
   "execution_count": 47,
   "id": "burning-sacrifice",
   "metadata": {},
   "outputs": [
    {
     "data": {
      "text/html": [
       "<div>\n",
       "<style scoped>\n",
       "    .dataframe tbody tr th:only-of-type {\n",
       "        vertical-align: middle;\n",
       "    }\n",
       "\n",
       "    .dataframe tbody tr th {\n",
       "        vertical-align: top;\n",
       "    }\n",
       "\n",
       "    .dataframe thead th {\n",
       "        text-align: right;\n",
       "    }\n",
       "</style>\n",
       "<table border=\"1\" class=\"dataframe\">\n",
       "  <thead>\n",
       "    <tr style=\"text-align: right;\">\n",
       "      <th></th>\n",
       "      <th>name</th>\n",
       "      <th>bus</th>\n",
       "      <th>p_mw</th>\n",
       "      <th>q_mvar</th>\n",
       "      <th>sn_mva</th>\n",
       "      <th>scaling</th>\n",
       "      <th>in_service</th>\n",
       "      <th>type</th>\n",
       "      <th>current_source</th>\n",
       "      <th>max_p_mw</th>\n",
       "      <th>max_q_mvar</th>\n",
       "      <th>model</th>\n",
       "    </tr>\n",
       "  </thead>\n",
       "  <tbody>\n",
       "    <tr>\n",
       "      <th>0</th>\n",
       "      <td>PV1</td>\n",
       "      <td>1</td>\n",
       "      <td>0.075</td>\n",
       "      <td>0.025</td>\n",
       "      <td>NaN</td>\n",
       "      <td>1.0</td>\n",
       "      <td>True</td>\n",
       "      <td>wye</td>\n",
       "      <td>True</td>\n",
       "      <td>4.75</td>\n",
       "      <td>2.375</td>\n",
       "      <td>Resource: PV1</td>\n",
       "    </tr>\n",
       "    <tr>\n",
       "      <th>1</th>\n",
       "      <td>WT1</td>\n",
       "      <td>3</td>\n",
       "      <td>0.150</td>\n",
       "      <td>0.000</td>\n",
       "      <td>NaN</td>\n",
       "      <td>1.0</td>\n",
       "      <td>False</td>\n",
       "      <td>wye</td>\n",
       "      <td>True</td>\n",
       "      <td>0.00</td>\n",
       "      <td>0.000</td>\n",
       "      <td>Resource: WT1</td>\n",
       "    </tr>\n",
       "    <tr>\n",
       "      <th>2</th>\n",
       "      <td>PV2</td>\n",
       "      <td>4</td>\n",
       "      <td>0.080</td>\n",
       "      <td>0.000</td>\n",
       "      <td>NaN</td>\n",
       "      <td>1.0</td>\n",
       "      <td>False</td>\n",
       "      <td>wye</td>\n",
       "      <td>True</td>\n",
       "      <td>0.00</td>\n",
       "      <td>0.000</td>\n",
       "      <td>Resource: PV2</td>\n",
       "    </tr>\n",
       "  </tbody>\n",
       "</table>\n",
       "</div>"
      ],
      "text/plain": [
       "  name  bus   p_mw  q_mvar  sn_mva  scaling  in_service type  current_source  \\\n",
       "0  PV1    1  0.075   0.025     NaN      1.0        True  wye            True   \n",
       "1  WT1    3  0.150   0.000     NaN      1.0       False  wye            True   \n",
       "2  PV2    4  0.080   0.000     NaN      1.0       False  wye            True   \n",
       "\n",
       "   max_p_mw  max_q_mvar          model  \n",
       "0      4.75       2.375  Resource: PV1  \n",
       "1      0.00       0.000  Resource: WT1  \n",
       "2      0.00       0.000  Resource: PV2  "
      ]
     },
     "execution_count": 47,
     "metadata": {},
     "output_type": "execute_result"
    }
   ],
   "source": [
    "model_writer.net.sgen"
   ]
  },
  {
   "cell_type": "code",
   "execution_count": 48,
   "id": "artificial-inspection",
   "metadata": {},
   "outputs": [
    {
     "data": {
      "text/plain": [
       "19.0"
      ]
     },
     "execution_count": 48,
     "metadata": {},
     "output_type": "execute_result"
    }
   ],
   "source": [
    "model_writer.net.sgen['model'][0].units.value"
   ]
  },
  {
   "cell_type": "code",
   "execution_count": 49,
   "id": "undefined-transportation",
   "metadata": {},
   "outputs": [
    {
     "data": {
      "text/html": [
       "<div>\n",
       "<style scoped>\n",
       "    .dataframe tbody tr th:only-of-type {\n",
       "        vertical-align: middle;\n",
       "    }\n",
       "\n",
       "    .dataframe tbody tr th {\n",
       "        vertical-align: top;\n",
       "    }\n",
       "\n",
       "    .dataframe thead th {\n",
       "        text-align: right;\n",
       "    }\n",
       "</style>\n",
       "<table border=\"1\" class=\"dataframe\">\n",
       "  <thead>\n",
       "    <tr style=\"text-align: right;\">\n",
       "      <th></th>\n",
       "      <th>name</th>\n",
       "      <th>bus</th>\n",
       "      <th>p_mw</th>\n",
       "      <th>q_mvar</th>\n",
       "      <th>sn_mva</th>\n",
       "      <th>soc_percent</th>\n",
       "      <th>min_e_mwh</th>\n",
       "      <th>max_e_mwh</th>\n",
       "      <th>scaling</th>\n",
       "      <th>in_service</th>\n",
       "      <th>type</th>\n",
       "      <th>model</th>\n",
       "    </tr>\n",
       "  </thead>\n",
       "  <tbody>\n",
       "    <tr>\n",
       "      <th>0</th>\n",
       "      <td>ST1</td>\n",
       "      <td>3</td>\n",
       "      <td>0.25</td>\n",
       "      <td>0.1</td>\n",
       "      <td>NaN</td>\n",
       "      <td>NaN</td>\n",
       "      <td>0.0</td>\n",
       "      <td>6.095678</td>\n",
       "      <td>1.0</td>\n",
       "      <td>True</td>\n",
       "      <td>None</td>\n",
       "      <td>Resource: ST1</td>\n",
       "    </tr>\n",
       "    <tr>\n",
       "      <th>1</th>\n",
       "      <td>ST2</td>\n",
       "      <td>6</td>\n",
       "      <td>0.50</td>\n",
       "      <td>0.1</td>\n",
       "      <td>NaN</td>\n",
       "      <td>NaN</td>\n",
       "      <td>0.0</td>\n",
       "      <td>0.000000</td>\n",
       "      <td>1.0</td>\n",
       "      <td>False</td>\n",
       "      <td>None</td>\n",
       "      <td>Resource: ST2</td>\n",
       "    </tr>\n",
       "  </tbody>\n",
       "</table>\n",
       "</div>"
      ],
      "text/plain": [
       "  name  bus  p_mw  q_mvar  sn_mva  soc_percent  min_e_mwh  max_e_mwh  scaling  \\\n",
       "0  ST1    3  0.25     0.1     NaN          NaN        0.0   6.095678      1.0   \n",
       "1  ST2    6  0.50     0.1     NaN          NaN        0.0   0.000000      1.0   \n",
       "\n",
       "   in_service  type          model  \n",
       "0        True  None  Resource: ST1  \n",
       "1       False  None  Resource: ST2  "
      ]
     },
     "execution_count": 49,
     "metadata": {},
     "output_type": "execute_result"
    }
   ],
   "source": [
    "model_writer.net.storage"
   ]
  },
  {
   "cell_type": "code",
   "execution_count": 51,
   "id": "chronic-university",
   "metadata": {
    "colab": {
     "base_uri": "https://localhost:8080/",
     "height": 424
    },
    "executionInfo": {
     "elapsed": 699,
     "status": "ok",
     "timestamp": 1619873491559,
     "user": {
      "displayName": "Juan Sardón",
      "photoUrl": "https://lh3.googleusercontent.com/a-/AOh14Gh0hE4Hw8M0I17k-o2PXxLB5i6gNZV_oUTpZlyJ3Q=s64",
      "userId": "08267034058673099115"
     },
     "user_tz": 180
    },
    "id": "tropical-completion",
    "outputId": "082e0a6f-0230-4e8e-b532-e95c63049c68",
    "tags": []
   },
   "outputs": [],
   "source": [
    "Resultados = model_writer.get_scenes_results()"
   ]
  },
  {
   "cell_type": "code",
   "execution_count": 52,
   "id": "prepared-consistency",
   "metadata": {
    "colab": {
     "base_uri": "https://localhost:8080/",
     "height": 388
    },
    "executionInfo": {
     "elapsed": 1336,
     "status": "ok",
     "timestamp": 1619873495814,
     "user": {
      "displayName": "Juan Sardón",
      "photoUrl": "https://lh3.googleusercontent.com/a-/AOh14Gh0hE4Hw8M0I17k-o2PXxLB5i6gNZV_oUTpZlyJ3Q=s64",
      "userId": "08267034058673099115"
     },
     "user_tz": 180
    },
    "id": "planned-memorial",
    "outputId": "11488d44-f6a7-46f5-dd15-9afe980a328c"
   },
   "outputs": [
    {
     "data": {
      "image/png": "[encoded data removed]",
      "text/plain": [
       "<Figure size 720x432 with 1 Axes>"
      ]
     },
     "metadata": {
      "needs_background": "light"
     },
     "output_type": "display_data"
    }
   ],
   "source": [
    "# Set the plot curve with markers and a title\n",
    "fig, ax = plt.subplots(1, 1)\n",
    "\n",
    "fig.set_size_inches(10,6)\n",
    "a=180*24\n",
    "#b=360\n",
    "b=180*24+15*24\n",
    "for col in Resultados:\n",
    "    ax.plot(Resultados[col][a:b], label = col)\n",
    "\n",
    "#ax.plot(Resultados['Tornquinst'][a:b]+Resultados['Bell Ville'][a:b]+Resultados['City Bell'][a:b], label = 'Load')\n",
    "\n",
    "#ax.plot(Resultados['time'][240:360], Resultados['p_mw_PV'][240:360], label = 'PV')\n",
    "#ax.plot(Resultados['time'][240:360], Resultados['p_mw_Load'][240:360], label = 'Load')\n",
    "\n",
    "ax.set_xlabel('time')\n",
    "ax.set_ylabel('P[mw]')\n",
    "\n",
    "ax.legend()\n",
    "\n",
    "ax.grid(True)\n",
    "\n",
    "\n",
    "plt.show()"
   ]
  },
  {
   "cell_type": "markdown",
   "id": "defensive-feelings",
   "metadata": {},
   "source": [
    "## Prueba 2: Simple WTG fixed size, select units"
   ]
  },
  {
   "cell_type": "code",
   "execution_count": 53,
   "id": "difficult-syracuse",
   "metadata": {},
   "outputs": [],
   "source": [
    "from ModelWriters.Resources.WT import WTGeneratorDiscrete"
   ]
  },
  {
   "cell_type": "code",
   "execution_count": 54,
   "id": "accessory-concrete",
   "metadata": {
    "colab": {
     "base_uri": "https://localhost:8080/"
    },
    "executionInfo": {
     "elapsed": 2223,
     "status": "ok",
     "timestamp": 1620005659694,
     "user": {
      "displayName": "Juan Sardón",
      "photoUrl": "https://lh3.googleusercontent.com/a-/AOh14Gh0hE4Hw8M0I17k-o2PXxLB5i6gNZV_oUTpZlyJ3Q=s64",
      "userId": "08267034058673099115"
     },
     "user_tz": 180
    },
    "id": "corrected-friendly",
    "outputId": "bdf4d701-1857-4ce0-be28-267a95d8d74a"
   },
   "outputs": [
    {
     "data": {
      "text/plain": [
       "2"
      ]
     },
     "execution_count": 54,
     "metadata": {},
     "output_type": "execute_result"
    }
   ],
   "source": [
    "net = pp.create_empty_network() \n",
    "b0 = pp.create_bus(net, vn_kv=13.2)\n",
    "\n",
    "pp.create_ext_grid(net, bus=b0)\n",
    "\n",
    "#ramal 1\n",
    "b11 = pp.create_bus(net, vn_kv=13.2)\n",
    "b12 = pp.create_bus(net, vn_kv=13.2)\n",
    "\n",
    "pp.create_line(net, from_bus=b0, to_bus=b11, length_km=0.8, std_type=\"NAYY 4x50 SE\")\n",
    "pp.create_line(net, from_bus=b11, to_bus=b12, length_km=2.1, std_type=\"NAYY 4x50 SE\")\n",
    "\n",
    "##pp.create_sgen(net, b11, p_mw=0.075, q_mvar=0.025, max_p_mw=0.15, max_q_mvar=0.15)\n",
    "pp.create_load(net, bus=b12, p_mw=0.350)\n",
    "\n",
    "#ramal 2\n",
    "b21 = pp.create_bus(net, vn_kv=13.2)\n",
    "pp.create_line(net, from_bus=b0, to_bus=b21, length_km=5.0, std_type=\"NAYY 4x50 SE\")\n",
    "pp.create_sgen(net, b21, p_mw=0.15, q_mvar=0.00, max_p_mw=0.40, max_q_mvar=0.10)\n",
    "##pp.create_storage(net, bus=b21, p_mw=0.25, q_mvar=0.1, max_e_mwh = 3.0)\n",
    "\n",
    "#ramal 3\n",
    "b31 = pp.create_bus(net, vn_kv=13.2)\n",
    "b32 = pp.create_bus(net, vn_kv=13.2)\n",
    "pp.create_line(net, from_bus=b0, to_bus=b31, length_km=0.5, std_type=\"NAYY 4x50 SE\")\n",
    "pp.create_line(net, from_bus=b31, to_bus=b32, length_km=1.5, std_type=\"NAYY 4x50 SE\")\n",
    "##pp.create_sgen(net, b31, p_mw=0.08, q_mvar=0.00, max_p_mw=0.30, max_q_mvar=0.10)\n",
    "pp.create_load(net, bus=b32, p_mw=0.85, q_mvar=0.33)\n",
    "\n",
    "\n",
    "#ramal 4\n",
    "b41 = pp.create_bus(net, vn_kv=13.2)\n",
    "pp.create_line(net, from_bus=b0, to_bus=b41, length_km=0.5, std_type=\"NAYY 4x50 SE\")\n",
    "pp.create_load(net, bus=b41, p_mw=0.22, q_mvar=0.05)\n",
    "##pp.create_storage(net, bus=b41, p_mw=0.5, q_mvar=0.1, max_e_mwh = 5.0)\n"
   ]
  },
  {
   "cell_type": "code",
   "execution_count": 55,
   "id": "spare-magic",
   "metadata": {
    "executionInfo": {
     "elapsed": 500,
     "status": "ok",
     "timestamp": 1620005665256,
     "user": {
      "displayName": "Juan Sardón",
      "photoUrl": "https://lh3.googleusercontent.com/a-/AOh14Gh0hE4Hw8M0I17k-o2PXxLB5i6gNZV_oUTpZlyJ3Q=s64",
      "userId": "08267034058673099115"
     },
     "user_tz": 180
    },
    "id": "respiratory-transport",
    "tags": []
   },
   "outputs": [],
   "source": [
    "net_add_optfw(net)"
   ]
  },
  {
   "cell_type": "code",
   "execution_count": 56,
   "id": "embedded-disposition",
   "metadata": {
    "executionInfo": {
     "elapsed": 976,
     "status": "ok",
     "timestamp": 1620005674196,
     "user": {
      "displayName": "Juan Sardón",
      "photoUrl": "https://lh3.googleusercontent.com/a-/AOh14Gh0hE4Hw8M0I17k-o2PXxLB5i6gNZV_oUTpZlyJ3Q=s64",
      "userId": "08267034058673099115"
     },
     "user_tz": 180
    },
    "id": "marine-rescue",
    "tags": []
   },
   "outputs": [],
   "source": [
    "m = ExtGrid.ExtGrid('SET')\n",
    "m['pr_mw'] = 5.0\n",
    "m['pa_pu'] = 1.0\n",
    "m['oc_1_mu'] = ElectricityCost.fixed_scalonated_electricity_cost\n",
    "net.ext_grid['model'][0] = m\n",
    "net.ext_grid['name'][0] = 'SET'\n",
    "\n"
   ]
  },
  {
   "cell_type": "code",
   "execution_count": 57,
   "id": "suffering-piece",
   "metadata": {
    "executionInfo": {
     "elapsed": 945,
     "status": "ok",
     "timestamp": 1620005684448,
     "user": {
      "displayName": "Juan Sardón",
      "photoUrl": "https://lh3.googleusercontent.com/a-/AOh14Gh0hE4Hw8M0I17k-o2PXxLB5i6gNZV_oUTpZlyJ3Q=s64",
      "userId": "08267034058673099115"
     },
     "user_tz": 180
    },
    "id": "decreased-chorus"
   },
   "outputs": [],
   "source": [
    "m = Load.Load('Tornquinst')\n",
    "m['pa_pu'] = Demand.scalonated_seasoned_randomized_demand\n",
    "m['pr_mw'] = net.load['p_mw'][0]\n",
    "net.load['model'][0] = m\n",
    "\n",
    "m = Load.Load('Bell Ville')\n",
    "m['pa_pu'] = Demand.scalonated_seasoned_randomized_demand\n",
    "m['pr_mw'] = net.load['p_mw'][1]\n",
    "net.load['model'][1] = m\n",
    "\n",
    "m = Load.Load('City Bell')\n",
    "m['pa_pu'] = Demand.scalonated_seasoned_randomized_demand\n",
    "m['pr_mw'] = net.load['p_mw'][2]\n",
    "net.load['model'][2] = m"
   ]
  },
  {
   "cell_type": "code",
   "execution_count": 58,
   "id": "comparative-exclusion",
   "metadata": {
    "executionInfo": {
     "elapsed": 813,
     "status": "ok",
     "timestamp": 1620005695507,
     "user": {
      "displayName": "Juan Sardón",
      "photoUrl": "https://lh3.googleusercontent.com/a-/AOh14Gh0hE4Hw8M0I17k-o2PXxLB5i6gNZV_oUTpZlyJ3Q=s64",
      "userId": "08267034058673099115"
     },
     "user_tz": 180
    },
    "id": "composite-absorption"
   },
   "outputs": [],
   "source": [
    "m = WTGeneratorDiscrete('WT1')\n",
    "m.ic_0_mu = 1.0\n",
    "m.ic_1_mu = 0.0\n",
    "m.unit_cost_mu = 0.2\n",
    "m.unit_size_mw = 0.3\n",
    "m.oc_0_mu = 0.0\n",
    "m.oc_1_mu = 700e-6\n",
    "\n",
    "net.sgen['name'][0] = m.name\n",
    "net.sgen['model'][0] = m"
   ]
  },
  {
   "cell_type": "code",
   "execution_count": 59,
   "id": "outer-guinea",
   "metadata": {},
   "outputs": [
    {
     "data": {
      "text/html": [
       "<div>\n",
       "<style scoped>\n",
       "    .dataframe tbody tr th:only-of-type {\n",
       "        vertical-align: middle;\n",
       "    }\n",
       "\n",
       "    .dataframe tbody tr th {\n",
       "        vertical-align: top;\n",
       "    }\n",
       "\n",
       "    .dataframe thead th {\n",
       "        text-align: right;\n",
       "    }\n",
       "</style>\n",
       "<table border=\"1\" class=\"dataframe\">\n",
       "  <thead>\n",
       "    <tr style=\"text-align: right;\">\n",
       "      <th></th>\n",
       "      <th>name</th>\n",
       "      <th>bus</th>\n",
       "      <th>p_mw</th>\n",
       "      <th>q_mvar</th>\n",
       "      <th>sn_mva</th>\n",
       "      <th>scaling</th>\n",
       "      <th>in_service</th>\n",
       "      <th>type</th>\n",
       "      <th>current_source</th>\n",
       "      <th>max_p_mw</th>\n",
       "      <th>max_q_mvar</th>\n",
       "      <th>model</th>\n",
       "    </tr>\n",
       "  </thead>\n",
       "  <tbody>\n",
       "    <tr>\n",
       "      <th>0</th>\n",
       "      <td>WT1</td>\n",
       "      <td>3</td>\n",
       "      <td>0.15</td>\n",
       "      <td>0.0</td>\n",
       "      <td>NaN</td>\n",
       "      <td>1.0</td>\n",
       "      <td>True</td>\n",
       "      <td>wye</td>\n",
       "      <td>True</td>\n",
       "      <td>0.4</td>\n",
       "      <td>0.1</td>\n",
       "      <td>Resource: WT1</td>\n",
       "    </tr>\n",
       "  </tbody>\n",
       "</table>\n",
       "</div>"
      ],
      "text/plain": [
       "  name  bus  p_mw  q_mvar  sn_mva  scaling  in_service type  current_source  \\\n",
       "0  WT1    3  0.15     0.0     NaN      1.0        True  wye            True   \n",
       "\n",
       "   max_p_mw  max_q_mvar          model  \n",
       "0       0.4         0.1  Resource: WT1  "
      ]
     },
     "execution_count": 59,
     "metadata": {},
     "output_type": "execute_result"
    }
   ],
   "source": [
    "net.sgen"
   ]
  },
  {
   "cell_type": "code",
   "execution_count": 60,
   "id": "utility-korean",
   "metadata": {},
   "outputs": [],
   "source": [
    "model_writer = SimpleModelWriter(net, Escenarios)"
   ]
  },
  {
   "cell_type": "code",
   "execution_count": 61,
   "id": "subsequent-trance",
   "metadata": {},
   "outputs": [],
   "source": [
    "model = model_writer.create_model()"
   ]
  },
  {
   "cell_type": "code",
   "execution_count": 62,
   "id": "running-looking",
   "metadata": {},
   "outputs": [],
   "source": [
    "#model.pprint()"
   ]
  },
  {
   "cell_type": "code",
   "execution_count": 63,
   "id": "civilian-journalism",
   "metadata": {},
   "outputs": [
    {
     "name": "stdout",
     "output_type": "stream",
     "text": [
      "\n",
      "Welcome to IBM(R) ILOG(R) CPLEX(R) Interactive Optimizer 20.1.0.0\n",
      "  with Simplex, Mixed Integer & Barrier Optimizers\n",
      "5725-A06 5725-A29 5724-Y48 5724-Y49 5724-Y54 5724-Y55 5655-Y21\n",
      "Copyright IBM Corp. 1988, 2020.  All Rights Reserved.\n",
      "\n",
      "Type 'help' for a list of available commands.\n",
      "Type 'help' followed by a command name for more\n",
      "information on commands.\n",
      "\n",
      "CPLEX> Logfile 'cplex.log' closed.\n",
      "Logfile 'C:\\Users\\jmsar\\AppData\\Local\\Temp\\tmpskmvx9o2.cplex.log' open.\n",
      "CPLEX> Problem 'C:\\Users\\jmsar\\AppData\\Local\\Temp\\tmppulareap.pyomo.lp' read.\n",
      "Read time = 0.08 sec. (1.61 ticks)\n",
      "CPLEX> Problem name         : C:\\Users\\jmsar\\AppData\\Local\\Temp\\tmppulareap.pyomo.lp\n",
      "Objective sense      : Minimize\n",
      "Variables            :   17524  [Nneg: 8762,  Box: 8760,  Binary: 1,\n",
      "                                 General Integer: 1]\n",
      "Objective nonzeros   :   17522\n",
      "Linear constraints   :   17523  [Less: 8761,  Equal: 8762]\n",
      "  Nonzeros           :   34116\n",
      "  RHS nonzeros       :    8761\n",
      "\n",
      "Variables            : Min LB: 0.000000         Max UB: 5.000000       \n",
      "Objective nonzeros   : Min   : 0.0007000000     Max   : 1.000000       \n",
      "Linear constraints   :\n",
      "  Nonzeros           : Min   : 0.0001453027     Max   : 1000.000       \n",
      "  RHS nonzeros       : Min   : 0.1659996        Max   : 2.132425       \n",
      "CPLEX> Version identifier: 20.1.0.0 | 2020-11-10 | 9bedb6d68\n",
      "Found incumbent of value 26.069891 after 0.00 sec. (1.11 ticks)\n",
      "Tried aggregator 2 times.\n",
      "MIP Presolve eliminated 9871 rows and 9704 columns.\n",
      "MIP Presolve modified 517 coefficients.\n",
      "Aggregator did 1 substitutions.\n",
      "Reduced MIP has 7651 rows, 7652 columns, and 15302 nonzeros.\n",
      "Reduced MIP has 1 binaries, 1 generals, 0 SOSs, and 0 indicators.\n",
      "Presolve time = 0.08 sec. (53.40 ticks)\n",
      "Probing time = 0.00 sec. (0.76 ticks)\n",
      "Tried aggregator 1 time.\n",
      "MIP Presolve modified 1 coefficients.\n",
      "Reduced MIP has 7651 rows, 7652 columns, and 15302 nonzeros.\n",
      "Reduced MIP has 1 binaries, 1 generals, 0 SOSs, and 0 indicators.\n",
      "Presolve time = 0.02 sec. (7.90 ticks)\n",
      "Probing time = 0.02 sec. (0.59 ticks)\n",
      "MIP emphasis: balance optimality and feasibility.\n",
      "MIP search method: dynamic search.\n",
      "Parallel mode: deterministic, using up to 4 threads.\n",
      "Root relaxation solution time = 0.16 sec. (167.25 ticks)\n",
      "\n",
      "        Nodes                                         Cuts/\n",
      "   Node  Left     Objective  IInf  Best Integer    Best Bound    ItCnt     Gap\n",
      "\n",
      "*     0+    0                           26.0699        6.6204            74.61%\n",
      "*     0+    0                           12.0359        6.6204            45.00%\n",
      "      0     0       11.0313     2       12.0359       11.0313     1486    8.35%\n",
      "*     0+    0                           12.0210       11.0313             8.23%\n",
      "      0     0        cutoff             12.0210                   1529    0.00%\n",
      "Elapsed time = 0.47 sec. (288.80 ticks, tree = 0.01 MB, solutions = 3)\n",
      "\n",
      "Mixed integer rounding cuts applied:  109\n",
      "\n",
      "Root node processing (before b&c):\n",
      "  Real time             =    0.47 sec. (289.69 ticks)\n",
      "Parallel b&c, 4 threads:\n",
      "  Real time             =    0.00 sec. (0.00 ticks)\n",
      "  Sync time (average)   =    0.00 sec.\n",
      "  Wait time (average)   =    0.00 sec.\n",
      "                          ------------\n",
      "Total (root+branch&cut) =    0.47 sec. (289.69 ticks)\n",
      "\n",
      "Solution pool: 3 solutions saved.\n",
      "\n",
      "MIP - Integer optimal solution:  Objective =  1.2020965093e+01\n",
      "Solution time =    0.47 sec.  Iterations = 1529  Nodes = 0\n",
      "Deterministic time = 289.74 ticks  (617.78 ticks/sec)\n",
      "\n",
      "CPLEX> Incumbent solution written to file 'C:\\Users\\jmsar\\AppData\\Local\\Temp\\tmpneaj9v4l.cplex.sol'.\n",
      "CPLEX> "
     ]
    }
   ],
   "source": [
    "#solver_manager = pe.SolverManagerFactory('neos')\n",
    "#result_obj = solver_manager.solve(model.model, opt='cplex')\n",
    "\n",
    "opt = pe.SolverFactory('cplex')\n",
    "#opt = pe.SolverFactory('glpk')\n",
    "result_obj= opt.solve(model, tee=True)"
   ]
  },
  {
   "cell_type": "code",
   "execution_count": 64,
   "id": "secure-victoria",
   "metadata": {
    "tags": []
   },
   "outputs": [],
   "source": [
    "model_writer.backconfigure_network()"
   ]
  },
  {
   "cell_type": "code",
   "execution_count": 65,
   "id": "vital-amateur",
   "metadata": {},
   "outputs": [
    {
     "data": {
      "text/html": [
       "<div>\n",
       "<style scoped>\n",
       "    .dataframe tbody tr th:only-of-type {\n",
       "        vertical-align: middle;\n",
       "    }\n",
       "\n",
       "    .dataframe tbody tr th {\n",
       "        vertical-align: top;\n",
       "    }\n",
       "\n",
       "    .dataframe thead th {\n",
       "        text-align: right;\n",
       "    }\n",
       "</style>\n",
       "<table border=\"1\" class=\"dataframe\">\n",
       "  <thead>\n",
       "    <tr style=\"text-align: right;\">\n",
       "      <th></th>\n",
       "      <th>name</th>\n",
       "      <th>bus</th>\n",
       "      <th>p_mw</th>\n",
       "      <th>q_mvar</th>\n",
       "      <th>sn_mva</th>\n",
       "      <th>scaling</th>\n",
       "      <th>in_service</th>\n",
       "      <th>type</th>\n",
       "      <th>current_source</th>\n",
       "      <th>max_p_mw</th>\n",
       "      <th>max_q_mvar</th>\n",
       "      <th>model</th>\n",
       "    </tr>\n",
       "  </thead>\n",
       "  <tbody>\n",
       "    <tr>\n",
       "      <th>0</th>\n",
       "      <td>WT1</td>\n",
       "      <td>3</td>\n",
       "      <td>0.15</td>\n",
       "      <td>0.0</td>\n",
       "      <td>NaN</td>\n",
       "      <td>1.0</td>\n",
       "      <td>True</td>\n",
       "      <td>wye</td>\n",
       "      <td>True</td>\n",
       "      <td>3.3</td>\n",
       "      <td>1.65</td>\n",
       "      <td>Resource: WT1</td>\n",
       "    </tr>\n",
       "  </tbody>\n",
       "</table>\n",
       "</div>"
      ],
      "text/plain": [
       "  name  bus  p_mw  q_mvar  sn_mva  scaling  in_service type  current_source  \\\n",
       "0  WT1    3  0.15     0.0     NaN      1.0        True  wye            True   \n",
       "\n",
       "   max_p_mw  max_q_mvar          model  \n",
       "0       3.3        1.65  Resource: WT1  "
      ]
     },
     "execution_count": 65,
     "metadata": {},
     "output_type": "execute_result"
    }
   ],
   "source": [
    "model_writer.net.sgen"
   ]
  },
  {
   "cell_type": "code",
   "execution_count": 66,
   "id": "technical-arabic",
   "metadata": {},
   "outputs": [
    {
     "data": {
      "text/plain": [
       "11.0"
      ]
     },
     "execution_count": 66,
     "metadata": {},
     "output_type": "execute_result"
    }
   ],
   "source": [
    "model_writer.net.sgen['model'][0].units.value"
   ]
  },
  {
   "cell_type": "code",
   "execution_count": 67,
   "id": "figured-american",
   "metadata": {},
   "outputs": [
    {
     "data": {
      "text/html": [
       "<div>\n",
       "<style scoped>\n",
       "    .dataframe tbody tr th:only-of-type {\n",
       "        vertical-align: middle;\n",
       "    }\n",
       "\n",
       "    .dataframe tbody tr th {\n",
       "        vertical-align: top;\n",
       "    }\n",
       "\n",
       "    .dataframe thead th {\n",
       "        text-align: right;\n",
       "    }\n",
       "</style>\n",
       "<table border=\"1\" class=\"dataframe\">\n",
       "  <thead>\n",
       "    <tr style=\"text-align: right;\">\n",
       "      <th></th>\n",
       "      <th>name</th>\n",
       "      <th>bus</th>\n",
       "      <th>p_mw</th>\n",
       "      <th>q_mvar</th>\n",
       "      <th>sn_mva</th>\n",
       "      <th>soc_percent</th>\n",
       "      <th>min_e_mwh</th>\n",
       "      <th>max_e_mwh</th>\n",
       "      <th>scaling</th>\n",
       "      <th>in_service</th>\n",
       "      <th>type</th>\n",
       "      <th>model</th>\n",
       "    </tr>\n",
       "  </thead>\n",
       "  <tbody>\n",
       "  </tbody>\n",
       "</table>\n",
       "</div>"
      ],
      "text/plain": [
       "Empty DataFrame\n",
       "Columns: [name, bus, p_mw, q_mvar, sn_mva, soc_percent, min_e_mwh, max_e_mwh, scaling, in_service, type, model]\n",
       "Index: []"
      ]
     },
     "execution_count": 67,
     "metadata": {},
     "output_type": "execute_result"
    }
   ],
   "source": [
    "model_writer.net.storage"
   ]
  },
  {
   "cell_type": "code",
   "execution_count": 68,
   "id": "developing-disposal",
   "metadata": {
    "tags": []
   },
   "outputs": [],
   "source": [
    "Resultados = model_writer.get_scenes_results()"
   ]
  },
  {
   "cell_type": "code",
   "execution_count": 69,
   "id": "greek-immune",
   "metadata": {
    "colab": {
     "base_uri": "https://localhost:8080/",
     "height": 424
    },
    "executionInfo": {
     "elapsed": 699,
     "status": "ok",
     "timestamp": 1619873491559,
     "user": {
      "displayName": "Juan Sardón",
      "photoUrl": "https://lh3.googleusercontent.com/a-/AOh14Gh0hE4Hw8M0I17k-o2PXxLB5i6gNZV_oUTpZlyJ3Q=s64",
      "userId": "08267034058673099115"
     },
     "user_tz": 180
    },
    "id": "tropical-completion",
    "outputId": "082e0a6f-0230-4e8e-b532-e95c63049c68",
    "tags": []
   },
   "outputs": [
    {
     "data": {
      "text/html": [
       "<div>\n",
       "<style scoped>\n",
       "    .dataframe tbody tr th:only-of-type {\n",
       "        vertical-align: middle;\n",
       "    }\n",
       "\n",
       "    .dataframe tbody tr th {\n",
       "        vertical-align: top;\n",
       "    }\n",
       "\n",
       "    .dataframe thead th {\n",
       "        text-align: right;\n",
       "    }\n",
       "</style>\n",
       "<table border=\"1\" class=\"dataframe\">\n",
       "  <thead>\n",
       "    <tr style=\"text-align: right;\">\n",
       "      <th></th>\n",
       "      <th>SET_p_mw</th>\n",
       "      <th>Tornquinst_p_mw</th>\n",
       "      <th>Bell Ville_p_mw</th>\n",
       "      <th>City Bell_p_mw</th>\n",
       "      <th>WT1_p_mw</th>\n",
       "    </tr>\n",
       "  </thead>\n",
       "  <tbody>\n",
       "    <tr>\n",
       "      <th>0</th>\n",
       "      <td>0.000000</td>\n",
       "      <td>-0.091069</td>\n",
       "      <td>-0.228428</td>\n",
       "      <td>-0.065215</td>\n",
       "      <td>0.384711</td>\n",
       "    </tr>\n",
       "    <tr>\n",
       "      <th>1</th>\n",
       "      <td>0.000000</td>\n",
       "      <td>-0.088736</td>\n",
       "      <td>-0.184073</td>\n",
       "      <td>-0.045720</td>\n",
       "      <td>0.318530</td>\n",
       "    </tr>\n",
       "    <tr>\n",
       "      <th>2</th>\n",
       "      <td>0.000000</td>\n",
       "      <td>-0.102728</td>\n",
       "      <td>-0.205990</td>\n",
       "      <td>-0.060369</td>\n",
       "      <td>0.369087</td>\n",
       "    </tr>\n",
       "    <tr>\n",
       "      <th>3</th>\n",
       "      <td>0.000000</td>\n",
       "      <td>-0.104883</td>\n",
       "      <td>-0.230431</td>\n",
       "      <td>-0.060069</td>\n",
       "      <td>0.395383</td>\n",
       "    </tr>\n",
       "    <tr>\n",
       "      <th>4</th>\n",
       "      <td>0.000000</td>\n",
       "      <td>-0.078469</td>\n",
       "      <td>-0.236127</td>\n",
       "      <td>-0.047325</td>\n",
       "      <td>0.361921</td>\n",
       "    </tr>\n",
       "    <tr>\n",
       "      <th>...</th>\n",
       "      <td>...</td>\n",
       "      <td>...</td>\n",
       "      <td>...</td>\n",
       "      <td>...</td>\n",
       "      <td>...</td>\n",
       "    </tr>\n",
       "    <tr>\n",
       "      <th>8755</th>\n",
       "      <td>1.653131</td>\n",
       "      <td>-0.475723</td>\n",
       "      <td>-0.878646</td>\n",
       "      <td>-0.298763</td>\n",
       "      <td>0.000000</td>\n",
       "    </tr>\n",
       "    <tr>\n",
       "      <th>8756</th>\n",
       "      <td>0.000000</td>\n",
       "      <td>-0.467839</td>\n",
       "      <td>-1.039345</td>\n",
       "      <td>-0.323269</td>\n",
       "      <td>1.830453</td>\n",
       "    </tr>\n",
       "    <tr>\n",
       "      <th>8757</th>\n",
       "      <td>0.000000</td>\n",
       "      <td>-0.491709</td>\n",
       "      <td>-0.979737</td>\n",
       "      <td>-0.227967</td>\n",
       "      <td>1.699413</td>\n",
       "    </tr>\n",
       "    <tr>\n",
       "      <th>8758</th>\n",
       "      <td>0.000000</td>\n",
       "      <td>-0.121738</td>\n",
       "      <td>-0.362340</td>\n",
       "      <td>-0.070535</td>\n",
       "      <td>0.554613</td>\n",
       "    </tr>\n",
       "    <tr>\n",
       "      <th>8759</th>\n",
       "      <td>0.000000</td>\n",
       "      <td>-0.140248</td>\n",
       "      <td>-0.349889</td>\n",
       "      <td>-0.097471</td>\n",
       "      <td>0.587608</td>\n",
       "    </tr>\n",
       "  </tbody>\n",
       "</table>\n",
       "<p>8760 rows × 5 columns</p>\n",
       "</div>"
      ],
      "text/plain": [
       "      SET_p_mw  Tornquinst_p_mw  Bell Ville_p_mw  City Bell_p_mw  WT1_p_mw\n",
       "0     0.000000        -0.091069        -0.228428       -0.065215  0.384711\n",
       "1     0.000000        -0.088736        -0.184073       -0.045720  0.318530\n",
       "2     0.000000        -0.102728        -0.205990       -0.060369  0.369087\n",
       "3     0.000000        -0.104883        -0.230431       -0.060069  0.395383\n",
       "4     0.000000        -0.078469        -0.236127       -0.047325  0.361921\n",
       "...        ...              ...              ...             ...       ...\n",
       "8755  1.653131        -0.475723        -0.878646       -0.298763  0.000000\n",
       "8756  0.000000        -0.467839        -1.039345       -0.323269  1.830453\n",
       "8757  0.000000        -0.491709        -0.979737       -0.227967  1.699413\n",
       "8758  0.000000        -0.121738        -0.362340       -0.070535  0.554613\n",
       "8759  0.000000        -0.140248        -0.349889       -0.097471  0.587608\n",
       "\n",
       "[8760 rows x 5 columns]"
      ]
     },
     "execution_count": 69,
     "metadata": {},
     "output_type": "execute_result"
    }
   ],
   "source": [
    "Resultados"
   ]
  },
  {
   "cell_type": "code",
   "execution_count": null,
   "id": "coastal-carroll",
   "metadata": {},
   "outputs": [],
   "source": []
  },
  {
   "cell_type": "code",
   "execution_count": 70,
   "id": "brilliant-scout",
   "metadata": {
    "colab": {
     "base_uri": "https://localhost:8080/",
     "height": 388
    },
    "executionInfo": {
     "elapsed": 1336,
     "status": "ok",
     "timestamp": 1619873495814,
     "user": {
      "displayName": "Juan Sardón",
      "photoUrl": "https://lh3.googleusercontent.com/a-/AOh14Gh0hE4Hw8M0I17k-o2PXxLB5i6gNZV_oUTpZlyJ3Q=s64",
      "userId": "08267034058673099115"
     },
     "user_tz": 180
    },
    "id": "planned-memorial",
    "outputId": "11488d44-f6a7-46f5-dd15-9afe980a328c"
   },
   "outputs": [
    {
     "data": {
      "image/png": "[encoded data removed]",
      "text/plain": [
       "<Figure size 720x432 with 1 Axes>"
      ]
     },
     "metadata": {
      "needs_background": "light"
     },
     "output_type": "display_data"
    }
   ],
   "source": [
    "# Set the plot curve with markers and a title\n",
    "fig, ax = plt.subplots(1, 1)\n",
    "\n",
    "fig.set_size_inches(10,6)\n",
    "a=180*24\n",
    "#b=360\n",
    "b=180*24+15*24\n",
    "for col in Resultados:\n",
    "    ax.plot(Resultados[col][a:b], label = col)\n",
    "\n",
    "#ax.plot(Resultados['Tornquinst'][a:b]+Resultados['Bell Ville'][a:b]+Resultados['City Bell'][a:b], label = 'Load')\n",
    "\n",
    "#ax.plot(Resultados['time'][240:360], Resultados['p_mw_PV'][240:360], label = 'PV')\n",
    "#ax.plot(Resultados['time'][240:360], Resultados['p_mw_Load'][240:360], label = 'Load')\n",
    "\n",
    "ax.set_xlabel('time')\n",
    "ax.set_ylabel('P[mw]')\n",
    "\n",
    "ax.legend()\n",
    "\n",
    "ax.grid(True)\n",
    "\n",
    "\n",
    "plt.show()"
   ]
  }
 ],
 "metadata": {
  "colab": {
   "name": "Prueba PP-Pyomo-4.ipynb",
   "provenance": []
  },
  "kernelspec": {
   "display_name": "Python 3",
   "language": "python",
   "name": "python3"
  },
  "language_info": {
   "codemirror_mode": {
    "name": "ipython",
    "version": 3
   },
   "file_extension": ".py",
   "mimetype": "text/x-python",
   "name": "python",
   "nbconvert_exporter": "python",
   "pygments_lexer": "ipython3",
   "version": "3.8.8"
  }
 },
 "nbformat": 4,
 "nbformat_minor": 5
}
