{
 "cells": [
  {
   "cell_type": "markdown",
   "id": "becoming-modification",
   "metadata": {
    "id": "addressed-terrorism"
   },
   "source": [
    "## Prueba de modelos ##\n",
    "\n",
    "### Version 5: Modelo con 3 DER + 2 BESS, planificación anual, granularidad horaria ###\n"
   ]
  },
  {
   "cell_type": "code",
   "execution_count": 1,
   "id": "colonial-calvin",
   "metadata": {},
   "outputs": [],
   "source": [
    "%load_ext autoreload"
   ]
  },
  {
   "cell_type": "code",
   "execution_count": 2,
   "id": "concrete-figure",
   "metadata": {},
   "outputs": [],
   "source": [
    "%autoreload 2"
   ]
  },
  {
   "cell_type": "code",
   "execution_count": 3,
   "id": "cleared-draft",
   "metadata": {
    "executionInfo": {
     "elapsed": 5552,
     "status": "ok",
     "timestamp": 1620005659685,
     "user": {
      "displayName": "Juan Sardón",
      "photoUrl": "https://lh3.googleusercontent.com/a-/AOh14Gh0hE4Hw8M0I17k-o2PXxLB5i6gNZV_oUTpZlyJ3Q=s64",
      "userId": "08267034058673099115"
     },
     "user_tz": 180
    },
    "id": "aboriginal-joshua"
   },
   "outputs": [],
   "source": [
    "import pandapower as pp"
   ]
  },
  {
   "cell_type": "code",
   "execution_count": 4,
   "id": "academic-favorite",
   "metadata": {
    "executionInfo": {
     "elapsed": 4628,
     "status": "ok",
     "timestamp": 1620005659687,
     "user": {
      "displayName": "Juan Sardón",
      "photoUrl": "https://lh3.googleusercontent.com/a-/AOh14Gh0hE4Hw8M0I17k-o2PXxLB5i6gNZV_oUTpZlyJ3Q=s64",
      "userId": "08267034058673099115"
     },
     "user_tz": 180
    },
    "id": "narrative-census"
   },
   "outputs": [],
   "source": [
    "import pandas as pd"
   ]
  },
  {
   "cell_type": "code",
   "execution_count": 5,
   "id": "tested-piece",
   "metadata": {
    "executionInfo": {
     "elapsed": 4248,
     "status": "ok",
     "timestamp": 1620005659688,
     "user": {
      "displayName": "Juan Sardón",
      "photoUrl": "https://lh3.googleusercontent.com/a-/AOh14Gh0hE4Hw8M0I17k-o2PXxLB5i6gNZV_oUTpZlyJ3Q=s64",
      "userId": "08267034058673099115"
     },
     "user_tz": 180
    },
    "id": "collectible-innocent"
   },
   "outputs": [],
   "source": [
    "import pyomo.environ as pe"
   ]
  },
  {
   "cell_type": "code",
   "execution_count": 6,
   "id": "spanish-beijing",
   "metadata": {
    "executionInfo": {
     "elapsed": 3906,
     "status": "ok",
     "timestamp": 1620005659690,
     "user": {
      "displayName": "Juan Sardón",
      "photoUrl": "https://lh3.googleusercontent.com/a-/AOh14Gh0hE4Hw8M0I17k-o2PXxLB5i6gNZV_oUTpZlyJ3Q=s64",
      "userId": "08267034058673099115"
     },
     "user_tz": 180
    },
    "id": "handled-baltimore"
   },
   "outputs": [],
   "source": [
    "import math"
   ]
  },
  {
   "cell_type": "code",
   "execution_count": 7,
   "id": "improving-shakespeare",
   "metadata": {
    "executionInfo": {
     "elapsed": 3594,
     "status": "ok",
     "timestamp": 1620005659691,
     "user": {
      "displayName": "Juan Sardón",
      "photoUrl": "https://lh3.googleusercontent.com/a-/AOh14Gh0hE4Hw8M0I17k-o2PXxLB5i6gNZV_oUTpZlyJ3Q=s64",
      "userId": "08267034058673099115"
     },
     "user_tz": 180
    },
    "id": "substantial-payroll"
   },
   "outputs": [],
   "source": [
    "import random"
   ]
  },
  {
   "cell_type": "code",
   "execution_count": 8,
   "id": "supreme-parking",
   "metadata": {
    "executionInfo": {
     "elapsed": 3074,
     "status": "ok",
     "timestamp": 1620005659693,
     "user": {
      "displayName": "Juan Sardón",
      "photoUrl": "https://lh3.googleusercontent.com/a-/AOh14Gh0hE4Hw8M0I17k-o2PXxLB5i6gNZV_oUTpZlyJ3Q=s64",
      "userId": "08267034058673099115"
     },
     "user_tz": 180
    },
    "id": "united-bronze"
   },
   "outputs": [],
   "source": [
    "import matplotlib.pyplot as plt"
   ]
  },
  {
   "cell_type": "code",
   "execution_count": 9,
   "id": "worse-magnitude",
   "metadata": {},
   "outputs": [],
   "source": [
    "import numpy as np"
   ]
  },
  {
   "cell_type": "code",
   "execution_count": 10,
   "id": "senior-accuracy",
   "metadata": {},
   "outputs": [],
   "source": [
    "from ModelWriters.SimpleBusbar import SimpleModelWriter"
   ]
  },
  {
   "cell_type": "code",
   "execution_count": 11,
   "id": "minus-capture",
   "metadata": {},
   "outputs": [],
   "source": [
    "import ModelWriters.Resources.ExtGrid  as ExtGrid"
   ]
  },
  {
   "cell_type": "code",
   "execution_count": 12,
   "id": "injured-phoenix",
   "metadata": {},
   "outputs": [],
   "source": [
    "import ModelWriters.Resources.Load  as Load"
   ]
  },
  {
   "cell_type": "code",
   "execution_count": 13,
   "id": "intellectual-apartment",
   "metadata": {},
   "outputs": [],
   "source": [
    "import ModelWriters.Resources.PV  as PV"
   ]
  },
  {
   "cell_type": "code",
   "execution_count": 14,
   "id": "printable-gasoline",
   "metadata": {},
   "outputs": [],
   "source": [
    "import ModelWriters.Resources.WT  as WT"
   ]
  },
  {
   "cell_type": "code",
   "execution_count": 15,
   "id": "reverse-shape",
   "metadata": {},
   "outputs": [],
   "source": [
    "import ModelWriters.Resources.Storage as Storage"
   ]
  },
  {
   "cell_type": "code",
   "execution_count": 16,
   "id": "southern-contemporary",
   "metadata": {},
   "outputs": [],
   "source": [
    "import ModelWriters.Simulation.ElectricityCost as ElectricityCost"
   ]
  },
  {
   "cell_type": "code",
   "execution_count": 17,
   "id": "manual-holly",
   "metadata": {},
   "outputs": [],
   "source": [
    "import ModelWriters.Simulation.Demand as Demand"
   ]
  },
  {
   "cell_type": "code",
   "execution_count": 18,
   "id": "signed-harbor",
   "metadata": {},
   "outputs": [],
   "source": [
    "import ModelWriters.Simulation.Solar as Solar"
   ]
  },
  {
   "cell_type": "code",
   "execution_count": 19,
   "id": "clinical-intervention",
   "metadata": {},
   "outputs": [],
   "source": [
    "import ModelWriters.Simulation.Wind as Wind"
   ]
  },
  {
   "cell_type": "code",
   "execution_count": 20,
   "id": "other-wages",
   "metadata": {
    "colab": {
     "base_uri": "https://localhost:8080/"
    },
    "executionInfo": {
     "elapsed": 2223,
     "status": "ok",
     "timestamp": 1620005659694,
     "user": {
      "displayName": "Juan Sardón",
      "photoUrl": "https://lh3.googleusercontent.com/a-/AOh14Gh0hE4Hw8M0I17k-o2PXxLB5i6gNZV_oUTpZlyJ3Q=s64",
      "userId": "08267034058673099115"
     },
     "user_tz": 180
    },
    "id": "corrected-friendly",
    "outputId": "bdf4d701-1857-4ce0-be28-267a95d8d74a"
   },
   "outputs": [
    {
     "data": {
      "text/plain": [
       "1"
      ]
     },
     "execution_count": 20,
     "metadata": {},
     "output_type": "execute_result"
    }
   ],
   "source": [
    "net = pp.create_empty_network() \n",
    "b0 = pp.create_bus(net, vn_kv=13.2)\n",
    "\n",
    "pp.create_ext_grid(net, bus=b0)\n",
    "\n",
    "#ramal 1\n",
    "b11 = pp.create_bus(net, vn_kv=13.2)\n",
    "b12 = pp.create_bus(net, vn_kv=13.2)\n",
    "\n",
    "pp.create_line(net, from_bus=b0, to_bus=b11, length_km=0.8, std_type=\"NAYY 4x50 SE\")\n",
    "pp.create_line(net, from_bus=b11, to_bus=b12, length_km=2.1, std_type=\"NAYY 4x50 SE\")\n",
    "\n",
    "pp.create_sgen(net, b11, p_mw=0.075, q_mvar=0.025, max_p_mw=0.15, max_q_mvar=0.15)\n",
    "pp.create_load(net, bus=b12, p_mw=0.350)\n",
    "\n",
    "#ramal 2\n",
    "b21 = pp.create_bus(net, vn_kv=13.2)\n",
    "pp.create_line(net, from_bus=b0, to_bus=b21, length_km=5.0, std_type=\"NAYY 4x50 SE\")\n",
    "pp.create_sgen(net, b21, p_mw=0.15, q_mvar=0.00, max_p_mw=0.40, max_q_mvar=0.10)\n",
    "pp.create_storage(net, bus=b21, p_mw=0.25, q_mvar=0.1, max_e_mwh = 3.0)\n",
    "\n",
    "#ramal 3\n",
    "b31 = pp.create_bus(net, vn_kv=13.2)\n",
    "b32 = pp.create_bus(net, vn_kv=13.2)\n",
    "pp.create_line(net, from_bus=b0, to_bus=b31, length_km=0.5, std_type=\"NAYY 4x50 SE\")\n",
    "pp.create_line(net, from_bus=b31, to_bus=b32, length_km=1.5, std_type=\"NAYY 4x50 SE\")\n",
    "pp.create_sgen(net, b31, p_mw=0.08, q_mvar=0.00, max_p_mw=0.30, max_q_mvar=0.10)\n",
    "pp.create_load(net, bus=b32, p_mw=0.85, q_mvar=0.33)\n",
    "\n",
    "\n",
    "#ramal 4\n",
    "b41 = pp.create_bus(net, vn_kv=13.2)\n",
    "pp.create_line(net, from_bus=b0, to_bus=b41, length_km=0.5, std_type=\"NAYY 4x50 SE\")\n",
    "pp.create_load(net, bus=b41, p_mw=0.22, q_mvar=0.05)\n",
    "pp.create_storage(net, bus=b41, p_mw=0.5, q_mvar=0.1, max_e_mwh = 5.0)\n",
    "\n"
   ]
  },
  {
   "cell_type": "code",
   "execution_count": 21,
   "id": "determined-debate",
   "metadata": {
    "executionInfo": {
     "elapsed": 2125,
     "status": "ok",
     "timestamp": 1620005662287,
     "user": {
      "displayName": "Juan Sardón",
      "photoUrl": "https://lh3.googleusercontent.com/a-/AOh14Gh0hE4Hw8M0I17k-o2PXxLB5i6gNZV_oUTpZlyJ3Q=s64",
      "userId": "08267034058673099115"
     },
     "user_tz": 180
    },
    "id": "junior-abraham"
   },
   "outputs": [],
   "source": [
    " pp.runpp(net)"
   ]
  },
  {
   "cell_type": "code",
   "execution_count": 22,
   "id": "amazing-amendment",
   "metadata": {
    "colab": {
     "base_uri": "https://localhost:8080/"
    },
    "executionInfo": {
     "elapsed": 1619,
     "status": "ok",
     "timestamp": 1620005663021,
     "user": {
      "displayName": "Juan Sardón",
      "photoUrl": "https://lh3.googleusercontent.com/a-/AOh14Gh0hE4Hw8M0I17k-o2PXxLB5i6gNZV_oUTpZlyJ3Q=s64",
      "userId": "08267034058673099115"
     },
     "user_tz": 180
    },
    "id": "biological-emergency",
    "outputId": "ff9a4063-32b3-467c-c916-afc6f5140231"
   },
   "outputs": [],
   "source": [
    "#print(net.res_bus.vm_pu)\n",
    "#print(net.res_line)"
   ]
  },
  {
   "cell_type": "code",
   "execution_count": 23,
   "id": "mysterious-collaboration",
   "metadata": {
    "colab": {
     "base_uri": "https://localhost:8080/"
    },
    "executionInfo": {
     "elapsed": 885,
     "status": "ok",
     "timestamp": 1620005663021,
     "user": {
      "displayName": "Juan Sardón",
      "photoUrl": "https://lh3.googleusercontent.com/a-/AOh14Gh0hE4Hw8M0I17k-o2PXxLB5i6gNZV_oUTpZlyJ3Q=s64",
      "userId": "08267034058673099115"
     },
     "user_tz": 180
    },
    "id": "norwegian-dover",
    "outputId": "f1a78284-1d03-4323-8253-e779b726a433"
   },
   "outputs": [
    {
     "name": "stdout",
     "output_type": "stream",
     "text": [
      "This pandapower network includes the following parameter tables:\n",
      "   - bus (7 elements)\n",
      "   - load (3 elements)\n",
      "   - sgen (3 elements)\n",
      "   - storage (2 elements)\n",
      "   - ext_grid (1 element)\n",
      "   - line (6 elements)\n",
      " and the following results tables:\n",
      "   - res_bus (7 elements)\n",
      "   - res_line (6 elements)\n",
      "   - res_ext_grid (1 element)\n",
      "   - res_load (3 elements)\n",
      "   - res_sgen (3 elements)\n",
      "   - res_storage (2 elements)\n"
     ]
    }
   ],
   "source": [
    "print(net)"
   ]
  },
  {
   "cell_type": "code",
   "execution_count": 24,
   "id": "vietnamese-submission",
   "metadata": {
    "colab": {
     "base_uri": "https://localhost:8080/",
     "height": 143
    },
    "executionInfo": {
     "elapsed": 877,
     "status": "ok",
     "timestamp": 1620005663401,
     "user": {
      "displayName": "Juan Sardón",
      "photoUrl": "https://lh3.googleusercontent.com/a-/AOh14Gh0hE4Hw8M0I17k-o2PXxLB5i6gNZV_oUTpZlyJ3Q=s64",
      "userId": "08267034058673099115"
     },
     "user_tz": 180
    },
    "id": "seven-international",
    "outputId": "bce17dc0-a6df-4860-fe28-db924addc855"
   },
   "outputs": [
    {
     "data": {
      "text/html": [
       "<div>\n",
       "<style scoped>\n",
       "    .dataframe tbody tr th:only-of-type {\n",
       "        vertical-align: middle;\n",
       "    }\n",
       "\n",
       "    .dataframe tbody tr th {\n",
       "        vertical-align: top;\n",
       "    }\n",
       "\n",
       "    .dataframe thead th {\n",
       "        text-align: right;\n",
       "    }\n",
       "</style>\n",
       "<table border=\"1\" class=\"dataframe\">\n",
       "  <thead>\n",
       "    <tr style=\"text-align: right;\">\n",
       "      <th></th>\n",
       "      <th>name</th>\n",
       "      <th>bus</th>\n",
       "      <th>p_mw</th>\n",
       "      <th>q_mvar</th>\n",
       "      <th>sn_mva</th>\n",
       "      <th>scaling</th>\n",
       "      <th>in_service</th>\n",
       "      <th>type</th>\n",
       "      <th>current_source</th>\n",
       "      <th>max_p_mw</th>\n",
       "      <th>max_q_mvar</th>\n",
       "    </tr>\n",
       "  </thead>\n",
       "  <tbody>\n",
       "    <tr>\n",
       "      <th>0</th>\n",
       "      <td>None</td>\n",
       "      <td>1</td>\n",
       "      <td>0.075</td>\n",
       "      <td>0.025</td>\n",
       "      <td>NaN</td>\n",
       "      <td>1.0</td>\n",
       "      <td>True</td>\n",
       "      <td>wye</td>\n",
       "      <td>True</td>\n",
       "      <td>0.15</td>\n",
       "      <td>0.15</td>\n",
       "    </tr>\n",
       "    <tr>\n",
       "      <th>1</th>\n",
       "      <td>None</td>\n",
       "      <td>3</td>\n",
       "      <td>0.150</td>\n",
       "      <td>0.000</td>\n",
       "      <td>NaN</td>\n",
       "      <td>1.0</td>\n",
       "      <td>True</td>\n",
       "      <td>wye</td>\n",
       "      <td>True</td>\n",
       "      <td>0.40</td>\n",
       "      <td>0.10</td>\n",
       "    </tr>\n",
       "    <tr>\n",
       "      <th>2</th>\n",
       "      <td>None</td>\n",
       "      <td>4</td>\n",
       "      <td>0.080</td>\n",
       "      <td>0.000</td>\n",
       "      <td>NaN</td>\n",
       "      <td>1.0</td>\n",
       "      <td>True</td>\n",
       "      <td>wye</td>\n",
       "      <td>True</td>\n",
       "      <td>0.30</td>\n",
       "      <td>0.10</td>\n",
       "    </tr>\n",
       "  </tbody>\n",
       "</table>\n",
       "</div>"
      ],
      "text/plain": [
       "   name  bus   p_mw  q_mvar  sn_mva  scaling  in_service type  current_source  \\\n",
       "0  None    1  0.075   0.025     NaN      1.0        True  wye            True   \n",
       "1  None    3  0.150   0.000     NaN      1.0        True  wye            True   \n",
       "2  None    4  0.080   0.000     NaN      1.0        True  wye            True   \n",
       "\n",
       "   max_p_mw  max_q_mvar  \n",
       "0      0.15        0.15  \n",
       "1      0.40        0.10  \n",
       "2      0.30        0.10  "
      ]
     },
     "execution_count": 24,
     "metadata": {},
     "output_type": "execute_result"
    }
   ],
   "source": [
    "net.sgen"
   ]
  },
  {
   "cell_type": "code",
   "execution_count": 25,
   "id": "assumed-procurement",
   "metadata": {},
   "outputs": [
    {
     "data": {
      "text/html": [
       "<div>\n",
       "<style scoped>\n",
       "    .dataframe tbody tr th:only-of-type {\n",
       "        vertical-align: middle;\n",
       "    }\n",
       "\n",
       "    .dataframe tbody tr th {\n",
       "        vertical-align: top;\n",
       "    }\n",
       "\n",
       "    .dataframe thead th {\n",
       "        text-align: right;\n",
       "    }\n",
       "</style>\n",
       "<table border=\"1\" class=\"dataframe\">\n",
       "  <thead>\n",
       "    <tr style=\"text-align: right;\">\n",
       "      <th></th>\n",
       "      <th>name</th>\n",
       "      <th>bus</th>\n",
       "      <th>p_mw</th>\n",
       "      <th>q_mvar</th>\n",
       "      <th>sn_mva</th>\n",
       "      <th>soc_percent</th>\n",
       "      <th>min_e_mwh</th>\n",
       "      <th>max_e_mwh</th>\n",
       "      <th>scaling</th>\n",
       "      <th>in_service</th>\n",
       "      <th>type</th>\n",
       "    </tr>\n",
       "  </thead>\n",
       "  <tbody>\n",
       "    <tr>\n",
       "      <th>0</th>\n",
       "      <td>None</td>\n",
       "      <td>3</td>\n",
       "      <td>0.25</td>\n",
       "      <td>0.1</td>\n",
       "      <td>NaN</td>\n",
       "      <td>NaN</td>\n",
       "      <td>0.0</td>\n",
       "      <td>3.0</td>\n",
       "      <td>1.0</td>\n",
       "      <td>True</td>\n",
       "      <td>None</td>\n",
       "    </tr>\n",
       "    <tr>\n",
       "      <th>1</th>\n",
       "      <td>None</td>\n",
       "      <td>6</td>\n",
       "      <td>0.50</td>\n",
       "      <td>0.1</td>\n",
       "      <td>NaN</td>\n",
       "      <td>NaN</td>\n",
       "      <td>0.0</td>\n",
       "      <td>5.0</td>\n",
       "      <td>1.0</td>\n",
       "      <td>True</td>\n",
       "      <td>None</td>\n",
       "    </tr>\n",
       "  </tbody>\n",
       "</table>\n",
       "</div>"
      ],
      "text/plain": [
       "   name  bus  p_mw  q_mvar  sn_mva  soc_percent  min_e_mwh  max_e_mwh  \\\n",
       "0  None    3  0.25     0.1     NaN          NaN        0.0        3.0   \n",
       "1  None    6  0.50     0.1     NaN          NaN        0.0        5.0   \n",
       "\n",
       "   scaling  in_service  type  \n",
       "0      1.0        True  None  \n",
       "1      1.0        True  None  "
      ]
     },
     "execution_count": 25,
     "metadata": {},
     "output_type": "execute_result"
    }
   ],
   "source": [
    "net.storage"
   ]
  },
  {
   "cell_type": "markdown",
   "id": "inappropriate-ebony",
   "metadata": {
    "id": "alike-greensboro"
   },
   "source": [
    "Agregamos los parámetros del modelo a los elementos de la red."
   ]
  },
  {
   "cell_type": "code",
   "execution_count": 26,
   "id": "terminal-accuracy",
   "metadata": {
    "executionInfo": {
     "elapsed": 1677,
     "status": "ok",
     "timestamp": 1620005665253,
     "user": {
      "displayName": "Juan Sardón",
      "photoUrl": "https://lh3.googleusercontent.com/a-/AOh14Gh0hE4Hw8M0I17k-o2PXxLB5i6gNZV_oUTpZlyJ3Q=s64",
      "userId": "08267034058673099115"
     },
     "user_tz": 180
    },
    "id": "circular-simpson"
   },
   "outputs": [],
   "source": [
    "def net_add_optfw(net):\n",
    "    #agregamos parámetros para el modelo de optimización\n",
    "    tables = [net.ext_grid, net.load, net.sgen, net.storage]\n",
    "\n",
    "    for t in tables: \n",
    "        #initial cost\n",
    "        t['model'] = None\n"
   ]
  },
  {
   "cell_type": "code",
   "execution_count": 27,
   "id": "devoted-scout",
   "metadata": {
    "executionInfo": {
     "elapsed": 500,
     "status": "ok",
     "timestamp": 1620005665256,
     "user": {
      "displayName": "Juan Sardón",
      "photoUrl": "https://lh3.googleusercontent.com/a-/AOh14Gh0hE4Hw8M0I17k-o2PXxLB5i6gNZV_oUTpZlyJ3Q=s64",
      "userId": "08267034058673099115"
     },
     "user_tz": 180
    },
    "id": "respiratory-transport"
   },
   "outputs": [],
   "source": [
    "net_add_optfw(net)"
   ]
  },
  {
   "cell_type": "markdown",
   "id": "deluxe-beginning",
   "metadata": {
    "id": "elder-launch"
   },
   "source": [
    "Vemos como queda por ejemplo el elemento de red externa:"
   ]
  },
  {
   "cell_type": "code",
   "execution_count": 28,
   "id": "independent-chance",
   "metadata": {
    "colab": {
     "base_uri": "https://localhost:8080/",
     "height": 81
    },
    "executionInfo": {
     "elapsed": 756,
     "status": "ok",
     "timestamp": 1620005667085,
     "user": {
      "displayName": "Juan Sardón",
      "photoUrl": "https://lh3.googleusercontent.com/a-/AOh14Gh0hE4Hw8M0I17k-o2PXxLB5i6gNZV_oUTpZlyJ3Q=s64",
      "userId": "08267034058673099115"
     },
     "user_tz": 180
    },
    "id": "overhead-delivery",
    "outputId": "49d17487-cbc3-4a10-e762-1965600f731a"
   },
   "outputs": [
    {
     "data": {
      "text/html": [
       "<div>\n",
       "<style scoped>\n",
       "    .dataframe tbody tr th:only-of-type {\n",
       "        vertical-align: middle;\n",
       "    }\n",
       "\n",
       "    .dataframe tbody tr th {\n",
       "        vertical-align: top;\n",
       "    }\n",
       "\n",
       "    .dataframe thead th {\n",
       "        text-align: right;\n",
       "    }\n",
       "</style>\n",
       "<table border=\"1\" class=\"dataframe\">\n",
       "  <thead>\n",
       "    <tr style=\"text-align: right;\">\n",
       "      <th></th>\n",
       "      <th>name</th>\n",
       "      <th>bus</th>\n",
       "      <th>vm_pu</th>\n",
       "      <th>va_degree</th>\n",
       "      <th>in_service</th>\n",
       "      <th>model</th>\n",
       "    </tr>\n",
       "  </thead>\n",
       "  <tbody>\n",
       "    <tr>\n",
       "      <th>0</th>\n",
       "      <td>None</td>\n",
       "      <td>0</td>\n",
       "      <td>1.0</td>\n",
       "      <td>0.0</td>\n",
       "      <td>True</td>\n",
       "      <td>None</td>\n",
       "    </tr>\n",
       "  </tbody>\n",
       "</table>\n",
       "</div>"
      ],
      "text/plain": [
       "   name  bus  vm_pu  va_degree  in_service model\n",
       "0  None    0    1.0        0.0        True  None"
      ]
     },
     "execution_count": 28,
     "metadata": {},
     "output_type": "execute_result"
    }
   ],
   "source": [
    "net.ext_grid"
   ]
  },
  {
   "cell_type": "markdown",
   "id": "embedded-delaware",
   "metadata": {
    "id": "insured-marking"
   },
   "source": [
    "Defino una función normal de Python para que nos va a dar la componente lineal del costo de la energía"
   ]
  },
  {
   "cell_type": "markdown",
   "id": "democratic-amendment",
   "metadata": {
    "id": "fifteen-pakistan"
   },
   "source": [
    "Variables que define el modelo:\n",
    "\n",
    "y para el año\n",
    "\n",
    "d para el día del año\n",
    "\n",
    "h para la hora del día\n",
    "\n",
    "dt la granularidad del modelo, en horas\n",
    "\n",
    "\n",
    "temp la temperatura\n",
    "\n",
    "wv la velocidad del viento\n",
    "\n",
    "I la irradiación solar\n",
    "\n",
    "\n",
    "eg el crecimiento económico en pu respecto al año 0\n",
    "\n",
    "\n",
    "Estas variables llegan como parámetros en forma de diccionario en el argumento 'model_status' (ver este nombre)\n",
    "\n",
    "Todas las funciones reciben este argumento, la lógica de la función indica que valor retorna. Pr ejemplo, si la granularidad es 24 h, debe retornar el valor medio del parámetro producido."
   ]
  },
  {
   "cell_type": "code",
   "execution_count": 29,
   "id": "floral-bridge",
   "metadata": {
    "executionInfo": {
     "elapsed": 976,
     "status": "ok",
     "timestamp": 1620005674196,
     "user": {
      "displayName": "Juan Sardón",
      "photoUrl": "https://lh3.googleusercontent.com/a-/AOh14Gh0hE4Hw8M0I17k-o2PXxLB5i6gNZV_oUTpZlyJ3Q=s64",
      "userId": "08267034058673099115"
     },
     "user_tz": 180
    },
    "id": "marine-rescue"
   },
   "outputs": [],
   "source": [
    "m = ExtGrid.ExtGrid('SET')\n",
    "m['pr_mw'] = 5.0\n",
    "m['pa_pu'] = 1.0\n",
    "m['oc_1_mu'] = ElectricityCost.fixed_scalonated_electricity_cost\n",
    "net.ext_grid['model'][0] = m\n",
    "net.ext_grid['name'][0] = 'SET'\n",
    "\n"
   ]
  },
  {
   "cell_type": "code",
   "execution_count": 30,
   "id": "coordinated-cooling",
   "metadata": {
    "colab": {
     "base_uri": "https://localhost:8080/",
     "height": 98
    },
    "executionInfo": {
     "elapsed": 728,
     "status": "ok",
     "timestamp": 1620005676371,
     "user": {
      "displayName": "Juan Sardón",
      "photoUrl": "https://lh3.googleusercontent.com/a-/AOh14Gh0hE4Hw8M0I17k-o2PXxLB5i6gNZV_oUTpZlyJ3Q=s64",
      "userId": "08267034058673099115"
     },
     "user_tz": 180
    },
    "id": "accredited-horse",
    "outputId": "f44ded0f-df37-4315-d07f-e140fb231d3a"
   },
   "outputs": [
    {
     "data": {
      "text/html": [
       "<div>\n",
       "<style scoped>\n",
       "    .dataframe tbody tr th:only-of-type {\n",
       "        vertical-align: middle;\n",
       "    }\n",
       "\n",
       "    .dataframe tbody tr th {\n",
       "        vertical-align: top;\n",
       "    }\n",
       "\n",
       "    .dataframe thead th {\n",
       "        text-align: right;\n",
       "    }\n",
       "</style>\n",
       "<table border=\"1\" class=\"dataframe\">\n",
       "  <thead>\n",
       "    <tr style=\"text-align: right;\">\n",
       "      <th></th>\n",
       "      <th>name</th>\n",
       "      <th>bus</th>\n",
       "      <th>vm_pu</th>\n",
       "      <th>va_degree</th>\n",
       "      <th>in_service</th>\n",
       "      <th>model</th>\n",
       "    </tr>\n",
       "  </thead>\n",
       "  <tbody>\n",
       "    <tr>\n",
       "      <th>0</th>\n",
       "      <td>SET</td>\n",
       "      <td>0</td>\n",
       "      <td>1.0</td>\n",
       "      <td>0.0</td>\n",
       "      <td>True</td>\n",
       "      <td>Resource: SET</td>\n",
       "    </tr>\n",
       "  </tbody>\n",
       "</table>\n",
       "</div>"
      ],
      "text/plain": [
       "  name  bus  vm_pu  va_degree  in_service          model\n",
       "0  SET    0    1.0        0.0        True  Resource: SET"
      ]
     },
     "execution_count": 30,
     "metadata": {},
     "output_type": "execute_result"
    }
   ],
   "source": [
    "net.ext_grid"
   ]
  },
  {
   "cell_type": "code",
   "execution_count": null,
   "id": "attractive-answer",
   "metadata": {
    "executionInfo": {
     "elapsed": 1648,
     "status": "ok",
     "timestamp": 1620005683671,
     "user": {
      "displayName": "Juan Sardón",
      "photoUrl": "https://lh3.googleusercontent.com/a-/AOh14Gh0hE4Hw8M0I17k-o2PXxLB5i6gNZV_oUTpZlyJ3Q=s64",
      "userId": "08267034058673099115"
     },
     "user_tz": 180
    },
    "id": "secure-message"
   },
   "outputs": [],
   "source": []
  },
  {
   "cell_type": "code",
   "execution_count": 31,
   "id": "increased-greensboro",
   "metadata": {
    "executionInfo": {
     "elapsed": 945,
     "status": "ok",
     "timestamp": 1620005684448,
     "user": {
      "displayName": "Juan Sardón",
      "photoUrl": "https://lh3.googleusercontent.com/a-/AOh14Gh0hE4Hw8M0I17k-o2PXxLB5i6gNZV_oUTpZlyJ3Q=s64",
      "userId": "08267034058673099115"
     },
     "user_tz": 180
    },
    "id": "decreased-chorus"
   },
   "outputs": [],
   "source": [
    "m = Load.Load('Tornquinst')\n",
    "m['pa_pu'] = Demand.scalonated_seasoned_randomized_demand\n",
    "m['pr_mw'] = net.load['p_mw'][0]\n",
    "net.load['model'][0] = m\n",
    "\n",
    "m = Load.Load('Bell Ville')\n",
    "m['pa_pu'] = Demand.scalonated_seasoned_randomized_demand\n",
    "m['pr_mw'] = net.load['p_mw'][1]\n",
    "net.load['model'][1] = m\n",
    "\n",
    "m = Load.Load('City Bell')\n",
    "m['pa_pu'] = Demand.scalonated_seasoned_randomized_demand\n",
    "m['pr_mw'] = net.load['p_mw'][2]\n",
    "net.load['model'][2] = m"
   ]
  },
  {
   "cell_type": "code",
   "execution_count": 32,
   "id": "traditional-macedonia",
   "metadata": {
    "colab": {
     "base_uri": "https://localhost:8080/",
     "height": 268
    },
    "executionInfo": {
     "elapsed": 857,
     "status": "ok",
     "timestamp": 1620005686825,
     "user": {
      "displayName": "Juan Sardón",
      "photoUrl": "https://lh3.googleusercontent.com/a-/AOh14Gh0hE4Hw8M0I17k-o2PXxLB5i6gNZV_oUTpZlyJ3Q=s64",
      "userId": "08267034058673099115"
     },
     "user_tz": 180
    },
    "id": "qualified-zimbabwe",
    "outputId": "fada93b3-2839-4bad-fcba-16ba0f043a7c"
   },
   "outputs": [
    {
     "data": {
      "text/html": [
       "<div>\n",
       "<style scoped>\n",
       "    .dataframe tbody tr th:only-of-type {\n",
       "        vertical-align: middle;\n",
       "    }\n",
       "\n",
       "    .dataframe tbody tr th {\n",
       "        vertical-align: top;\n",
       "    }\n",
       "\n",
       "    .dataframe thead th {\n",
       "        text-align: right;\n",
       "    }\n",
       "</style>\n",
       "<table border=\"1\" class=\"dataframe\">\n",
       "  <thead>\n",
       "    <tr style=\"text-align: right;\">\n",
       "      <th></th>\n",
       "      <th>name</th>\n",
       "      <th>bus</th>\n",
       "      <th>p_mw</th>\n",
       "      <th>q_mvar</th>\n",
       "      <th>const_z_percent</th>\n",
       "      <th>const_i_percent</th>\n",
       "      <th>sn_mva</th>\n",
       "      <th>scaling</th>\n",
       "      <th>in_service</th>\n",
       "      <th>type</th>\n",
       "      <th>model</th>\n",
       "    </tr>\n",
       "  </thead>\n",
       "  <tbody>\n",
       "    <tr>\n",
       "      <th>0</th>\n",
       "      <td>None</td>\n",
       "      <td>2</td>\n",
       "      <td>0.35</td>\n",
       "      <td>0.00</td>\n",
       "      <td>0.0</td>\n",
       "      <td>0.0</td>\n",
       "      <td>NaN</td>\n",
       "      <td>1.0</td>\n",
       "      <td>True</td>\n",
       "      <td>wye</td>\n",
       "      <td>Resource: Tornquinst</td>\n",
       "    </tr>\n",
       "    <tr>\n",
       "      <th>1</th>\n",
       "      <td>None</td>\n",
       "      <td>5</td>\n",
       "      <td>0.85</td>\n",
       "      <td>0.33</td>\n",
       "      <td>0.0</td>\n",
       "      <td>0.0</td>\n",
       "      <td>NaN</td>\n",
       "      <td>1.0</td>\n",
       "      <td>True</td>\n",
       "      <td>wye</td>\n",
       "      <td>Resource: Bell Ville</td>\n",
       "    </tr>\n",
       "    <tr>\n",
       "      <th>2</th>\n",
       "      <td>None</td>\n",
       "      <td>6</td>\n",
       "      <td>0.22</td>\n",
       "      <td>0.05</td>\n",
       "      <td>0.0</td>\n",
       "      <td>0.0</td>\n",
       "      <td>NaN</td>\n",
       "      <td>1.0</td>\n",
       "      <td>True</td>\n",
       "      <td>wye</td>\n",
       "      <td>Resource: City Bell</td>\n",
       "    </tr>\n",
       "  </tbody>\n",
       "</table>\n",
       "</div>"
      ],
      "text/plain": [
       "   name  bus  p_mw  q_mvar  const_z_percent  const_i_percent  sn_mva  scaling  \\\n",
       "0  None    2  0.35    0.00              0.0              0.0     NaN      1.0   \n",
       "1  None    5  0.85    0.33              0.0              0.0     NaN      1.0   \n",
       "2  None    6  0.22    0.05              0.0              0.0     NaN      1.0   \n",
       "\n",
       "   in_service type                 model  \n",
       "0        True  wye  Resource: Tornquinst  \n",
       "1        True  wye  Resource: Bell Ville  \n",
       "2        True  wye   Resource: City Bell  "
      ]
     },
     "execution_count": 32,
     "metadata": {},
     "output_type": "execute_result"
    }
   ],
   "source": [
    "net.load"
   ]
  },
  {
   "cell_type": "code",
   "execution_count": 33,
   "id": "built-sympathy",
   "metadata": {
    "executionInfo": {
     "elapsed": 675,
     "status": "ok",
     "timestamp": 1620005692160,
     "user": {
      "displayName": "Juan Sardón",
      "photoUrl": "https://lh3.googleusercontent.com/a-/AOh14Gh0hE4Hw8M0I17k-o2PXxLB5i6gNZV_oUTpZlyJ3Q=s64",
      "userId": "08267034058673099115"
     },
     "user_tz": 180
    },
    "id": "correct-patrol"
   },
   "outputs": [],
   "source": [
    "m = PV.PVGenerator('PV1')\n",
    "m.ic_0_mu = 2.0\n",
    "m.ic_1_mu = 0.75\n",
    "m.oc_0_mu = 0.0\n",
    "m.oc_1_mu = 400e-6\n",
    "\n",
    "net.sgen['name'][0] = m.name\n",
    "net.sgen['model'][0] = m\n",
    "\n",
    "m = PV.PVGenerator('PV2')\n",
    "m.ic_0_mu = 3.0\n",
    "m.ic_1_mu = 0.75\n",
    "m.oc_0_mu = 0.0\n",
    "m.oc_1_mu = 500e-6\n",
    "\n",
    "net.sgen['name'][2] = m.name\n",
    "net.sgen['model'][2] = m"
   ]
  },
  {
   "cell_type": "code",
   "execution_count": 34,
   "id": "black-convergence",
   "metadata": {
    "executionInfo": {
     "elapsed": 813,
     "status": "ok",
     "timestamp": 1620005695507,
     "user": {
      "displayName": "Juan Sardón",
      "photoUrl": "https://lh3.googleusercontent.com/a-/AOh14Gh0hE4Hw8M0I17k-o2PXxLB5i6gNZV_oUTpZlyJ3Q=s64",
      "userId": "08267034058673099115"
     },
     "user_tz": 180
    },
    "id": "composite-absorption"
   },
   "outputs": [],
   "source": [
    "m = WT.WTGenerator('WT1')\n",
    "m.ic_0_mu = 5.0\n",
    "m.ic_1_mu = 3.0\n",
    "m.oc_0_mu = 0.0\n",
    "m.oc_1_mu = 700e-6\n",
    "\n",
    "net.sgen['name'][1] = m.name\n",
    "net.sgen['model'][1] = m"
   ]
  },
  {
   "cell_type": "code",
   "execution_count": 35,
   "id": "decreased-forestry",
   "metadata": {
    "colab": {
     "base_uri": "https://localhost:8080/",
     "height": 268
    },
    "executionInfo": {
     "elapsed": 551,
     "status": "ok",
     "timestamp": 1620005696937,
     "user": {
      "displayName": "Juan Sardón",
      "photoUrl": "https://lh3.googleusercontent.com/a-/AOh14Gh0hE4Hw8M0I17k-o2PXxLB5i6gNZV_oUTpZlyJ3Q=s64",
      "userId": "08267034058673099115"
     },
     "user_tz": 180
    },
    "id": "electronic-starter",
    "outputId": "ceda59be-4d12-4cb9-c914-e3ee22ce3a80"
   },
   "outputs": [
    {
     "data": {
      "text/html": [
       "<div>\n",
       "<style scoped>\n",
       "    .dataframe tbody tr th:only-of-type {\n",
       "        vertical-align: middle;\n",
       "    }\n",
       "\n",
       "    .dataframe tbody tr th {\n",
       "        vertical-align: top;\n",
       "    }\n",
       "\n",
       "    .dataframe thead th {\n",
       "        text-align: right;\n",
       "    }\n",
       "</style>\n",
       "<table border=\"1\" class=\"dataframe\">\n",
       "  <thead>\n",
       "    <tr style=\"text-align: right;\">\n",
       "      <th></th>\n",
       "      <th>name</th>\n",
       "      <th>bus</th>\n",
       "      <th>p_mw</th>\n",
       "      <th>q_mvar</th>\n",
       "      <th>sn_mva</th>\n",
       "      <th>scaling</th>\n",
       "      <th>in_service</th>\n",
       "      <th>type</th>\n",
       "      <th>current_source</th>\n",
       "      <th>max_p_mw</th>\n",
       "      <th>max_q_mvar</th>\n",
       "      <th>model</th>\n",
       "    </tr>\n",
       "  </thead>\n",
       "  <tbody>\n",
       "    <tr>\n",
       "      <th>0</th>\n",
       "      <td>PV1</td>\n",
       "      <td>1</td>\n",
       "      <td>0.075</td>\n",
       "      <td>0.025</td>\n",
       "      <td>NaN</td>\n",
       "      <td>1.0</td>\n",
       "      <td>True</td>\n",
       "      <td>wye</td>\n",
       "      <td>True</td>\n",
       "      <td>0.15</td>\n",
       "      <td>0.15</td>\n",
       "      <td>Resource: PV1</td>\n",
       "    </tr>\n",
       "    <tr>\n",
       "      <th>1</th>\n",
       "      <td>WT1</td>\n",
       "      <td>3</td>\n",
       "      <td>0.150</td>\n",
       "      <td>0.000</td>\n",
       "      <td>NaN</td>\n",
       "      <td>1.0</td>\n",
       "      <td>True</td>\n",
       "      <td>wye</td>\n",
       "      <td>True</td>\n",
       "      <td>0.40</td>\n",
       "      <td>0.10</td>\n",
       "      <td>Resource: WT1</td>\n",
       "    </tr>\n",
       "    <tr>\n",
       "      <th>2</th>\n",
       "      <td>PV2</td>\n",
       "      <td>4</td>\n",
       "      <td>0.080</td>\n",
       "      <td>0.000</td>\n",
       "      <td>NaN</td>\n",
       "      <td>1.0</td>\n",
       "      <td>True</td>\n",
       "      <td>wye</td>\n",
       "      <td>True</td>\n",
       "      <td>0.30</td>\n",
       "      <td>0.10</td>\n",
       "      <td>Resource: PV2</td>\n",
       "    </tr>\n",
       "  </tbody>\n",
       "</table>\n",
       "</div>"
      ],
      "text/plain": [
       "  name  bus   p_mw  q_mvar  sn_mva  scaling  in_service type  current_source  \\\n",
       "0  PV1    1  0.075   0.025     NaN      1.0        True  wye            True   \n",
       "1  WT1    3  0.150   0.000     NaN      1.0        True  wye            True   \n",
       "2  PV2    4  0.080   0.000     NaN      1.0        True  wye            True   \n",
       "\n",
       "   max_p_mw  max_q_mvar          model  \n",
       "0      0.15        0.15  Resource: PV1  \n",
       "1      0.40        0.10  Resource: WT1  \n",
       "2      0.30        0.10  Resource: PV2  "
      ]
     },
     "execution_count": 35,
     "metadata": {},
     "output_type": "execute_result"
    }
   ],
   "source": [
    "net.sgen"
   ]
  },
  {
   "cell_type": "code",
   "execution_count": 37,
   "id": "sought-baseball",
   "metadata": {},
   "outputs": [],
   "source": [
    "m = Storage.Storage('ST1')\n",
    "\n",
    "m.pa_pu = 1.0\n",
    "m.ic_0_mu = 0.5\n",
    "m.ic_1_mu = 1.0\n",
    "m.ic_1_mu_cap = 0.5\n",
    "m.oc_0_mu = 0.0\n",
    "\n",
    "net.storage['name'][0] = 'ST1'\n",
    "net.storage['model'][0] = m\n",
    "\n",
    "\n",
    "m = Storage.Storage('ST2')\n",
    "net.storage['name'][1] = 'ST2'\n",
    "net.storage['model'][1] = m\n",
    "\n",
    "m.pa_pu = 1.0\n",
    "m.ic_0_mu = 0.5\n",
    "m.ic_1_mu = 2.0\n",
    "m.ic_1_mu_cap = 7.0\n",
    "m.oc_0_mu = 0.0\n",
    "m.oc_1_mu = 1400e-6\n"
   ]
  },
  {
   "cell_type": "code",
   "execution_count": 54,
   "id": "exotic-natural",
   "metadata": {},
   "outputs": [
    {
     "data": {
      "text/html": [
       "<div>\n",
       "<style scoped>\n",
       "    .dataframe tbody tr th:only-of-type {\n",
       "        vertical-align: middle;\n",
       "    }\n",
       "\n",
       "    .dataframe tbody tr th {\n",
       "        vertical-align: top;\n",
       "    }\n",
       "\n",
       "    .dataframe thead th {\n",
       "        text-align: right;\n",
       "    }\n",
       "</style>\n",
       "<table border=\"1\" class=\"dataframe\">\n",
       "  <thead>\n",
       "    <tr style=\"text-align: right;\">\n",
       "      <th></th>\n",
       "      <th>name</th>\n",
       "      <th>bus</th>\n",
       "      <th>p_mw</th>\n",
       "      <th>q_mvar</th>\n",
       "      <th>sn_mva</th>\n",
       "      <th>soc_percent</th>\n",
       "      <th>min_e_mwh</th>\n",
       "      <th>max_e_mwh</th>\n",
       "      <th>scaling</th>\n",
       "      <th>in_service</th>\n",
       "      <th>type</th>\n",
       "      <th>model</th>\n",
       "    </tr>\n",
       "  </thead>\n",
       "  <tbody>\n",
       "    <tr>\n",
       "      <th>0</th>\n",
       "      <td>ST1</td>\n",
       "      <td>3</td>\n",
       "      <td>0.25</td>\n",
       "      <td>0.1</td>\n",
       "      <td>NaN</td>\n",
       "      <td>NaN</td>\n",
       "      <td>0.0</td>\n",
       "      <td>3.0</td>\n",
       "      <td>1.0</td>\n",
       "      <td>True</td>\n",
       "      <td>None</td>\n",
       "      <td>Resource: ST1</td>\n",
       "    </tr>\n",
       "    <tr>\n",
       "      <th>1</th>\n",
       "      <td>ST2</td>\n",
       "      <td>6</td>\n",
       "      <td>0.50</td>\n",
       "      <td>0.1</td>\n",
       "      <td>NaN</td>\n",
       "      <td>NaN</td>\n",
       "      <td>0.0</td>\n",
       "      <td>5.0</td>\n",
       "      <td>1.0</td>\n",
       "      <td>True</td>\n",
       "      <td>None</td>\n",
       "      <td>Resource: ST2</td>\n",
       "    </tr>\n",
       "  </tbody>\n",
       "</table>\n",
       "</div>"
      ],
      "text/plain": [
       "  name  bus  p_mw  q_mvar  sn_mva  soc_percent  min_e_mwh  max_e_mwh  scaling  \\\n",
       "0  ST1    3  0.25     0.1     NaN          NaN        0.0        3.0      1.0   \n",
       "1  ST2    6  0.50     0.1     NaN          NaN        0.0        5.0      1.0   \n",
       "\n",
       "   in_service  type          model  \n",
       "0        True  None  Resource: ST1  \n",
       "1        True  None  Resource: ST2  "
      ]
     },
     "execution_count": 54,
     "metadata": {},
     "output_type": "execute_result"
    }
   ],
   "source": [
    "net.storage"
   ]
  },
  {
   "cell_type": "markdown",
   "id": "tutorial-conversation",
   "metadata": {
    "id": "pTK9BGaY4BEu"
   },
   "source": [
    "## Construcción de Escenarios"
   ]
  },
  {
   "cell_type": "code",
   "execution_count": 46,
   "id": "southern-communist",
   "metadata": {
    "executionInfo": {
     "elapsed": 1184,
     "status": "ok",
     "timestamp": 1620006589608,
     "user": {
      "displayName": "Juan Sardón",
      "photoUrl": "https://lh3.googleusercontent.com/a-/AOh14Gh0hE4Hw8M0I17k-o2PXxLB5i6gNZV_oUTpZlyJ3Q=s64",
      "userId": "08267034058673099115"
     },
     "user_tz": 180
    },
    "id": "posted-description"
   },
   "outputs": [],
   "source": [
    "dias = 365\n",
    "años = 5"
   ]
  },
  {
   "cell_type": "code",
   "execution_count": 47,
   "id": "extra-welcome",
   "metadata": {
    "executionInfo": {
     "elapsed": 804,
     "status": "ok",
     "timestamp": 1620006591214,
     "user": {
      "displayName": "Juan Sardón",
      "photoUrl": "https://lh3.googleusercontent.com/a-/AOh14Gh0hE4Hw8M0I17k-o2PXxLB5i6gNZV_oUTpZlyJ3Q=s64",
      "userId": "08267034058673099115"
     },
     "user_tz": 180
    },
    "id": "intelligent-terrace"
   },
   "outputs": [],
   "source": [
    "#el rango de horas:\n",
    "T_i = range(24)\n",
    "\n",
    "#el rango de dias:\n",
    "Dias_i = range(dias)\n",
    "\n",
    "Escenarios_i = range(len(T_i)*len(Dias_i))"
   ]
  },
  {
   "cell_type": "code",
   "execution_count": null,
   "id": "awful-patrick",
   "metadata": {
    "executionInfo": {
     "elapsed": 957,
     "status": "ok",
     "timestamp": 1620006593285,
     "user": {
      "displayName": "Juan Sardón",
      "photoUrl": "https://lh3.googleusercontent.com/a-/AOh14Gh0hE4Hw8M0I17k-o2PXxLB5i6gNZV_oUTpZlyJ3Q=s64",
      "userId": "08267034058673099115"
     },
     "user_tz": 180
    },
    "id": "complimentary-harvard"
   },
   "outputs": [],
   "source": []
  },
  {
   "cell_type": "code",
   "execution_count": 48,
   "id": "competent-guest",
   "metadata": {
    "executionInfo": {
     "elapsed": 740,
     "status": "ok",
     "timestamp": 1620006594076,
     "user": {
      "displayName": "Juan Sardón",
      "photoUrl": "https://lh3.googleusercontent.com/a-/AOh14Gh0hE4Hw8M0I17k-o2PXxLB5i6gNZV_oUTpZlyJ3Q=s64",
      "userId": "08267034058673099115"
     },
     "user_tz": 180
    },
    "id": "rotary-traffic"
   },
   "outputs": [],
   "source": [
    "m_s_base = [{'y': 0, 'd': 0, 'dd':1.0, 'h': 0.0, 'dt': 1.0, 'temp': 20.0, 'I':1000.0, 'wv': 10.0, 'eg': 1.0}]\n",
    "\n",
    "registros = len(Dias_i)*len(T_i)\n",
    "\n",
    "Escenarios =  pd.DataFrame(m_s_base, index = Escenarios_i)\n",
    "\n",
    "reg = 0\n",
    "for d in Dias_i:\n",
    "    for h in T_i:\n",
    "        Escenarios['d'][reg] = d\n",
    "        Escenarios['h'][reg] = h\n",
    "        Escenarios['I'][reg] = Solar.solar_irradiance_seasoned_randomized(d, h)\n",
    "        Escenarios['wv'][reg] = random.uniform(1.0, 20.0)\n",
    "        reg += 1"
   ]
  },
  {
   "cell_type": "code",
   "execution_count": 49,
   "id": "proprietary-newsletter",
   "metadata": {
    "colab": {
     "base_uri": "https://localhost:8080/",
     "height": 424
    },
    "executionInfo": {
     "elapsed": 940,
     "status": "ok",
     "timestamp": 1620006595909,
     "user": {
      "displayName": "Juan Sardón",
      "photoUrl": "https://lh3.googleusercontent.com/a-/AOh14Gh0hE4Hw8M0I17k-o2PXxLB5i6gNZV_oUTpZlyJ3Q=s64",
      "userId": "08267034058673099115"
     },
     "user_tz": 180
    },
    "id": "rztNfB1f4udd",
    "outputId": "9d65516d-715a-4f75-a9e9-b820fa6643be"
   },
   "outputs": [
    {
     "data": {
      "text/html": [
       "<div>\n",
       "<style scoped>\n",
       "    .dataframe tbody tr th:only-of-type {\n",
       "        vertical-align: middle;\n",
       "    }\n",
       "\n",
       "    .dataframe tbody tr th {\n",
       "        vertical-align: top;\n",
       "    }\n",
       "\n",
       "    .dataframe thead th {\n",
       "        text-align: right;\n",
       "    }\n",
       "</style>\n",
       "<table border=\"1\" class=\"dataframe\">\n",
       "  <thead>\n",
       "    <tr style=\"text-align: right;\">\n",
       "      <th></th>\n",
       "      <th>y</th>\n",
       "      <th>d</th>\n",
       "      <th>dd</th>\n",
       "      <th>h</th>\n",
       "      <th>dt</th>\n",
       "      <th>temp</th>\n",
       "      <th>I</th>\n",
       "      <th>wv</th>\n",
       "      <th>eg</th>\n",
       "    </tr>\n",
       "  </thead>\n",
       "  <tbody>\n",
       "    <tr>\n",
       "      <th>0</th>\n",
       "      <td>0</td>\n",
       "      <td>0</td>\n",
       "      <td>1.0</td>\n",
       "      <td>0.0</td>\n",
       "      <td>1.0</td>\n",
       "      <td>20.0</td>\n",
       "      <td>0.000000</td>\n",
       "      <td>12.986726</td>\n",
       "      <td>1.0</td>\n",
       "    </tr>\n",
       "    <tr>\n",
       "      <th>1</th>\n",
       "      <td>0</td>\n",
       "      <td>0</td>\n",
       "      <td>1.0</td>\n",
       "      <td>1.0</td>\n",
       "      <td>1.0</td>\n",
       "      <td>20.0</td>\n",
       "      <td>0.000000</td>\n",
       "      <td>7.573737</td>\n",
       "      <td>1.0</td>\n",
       "    </tr>\n",
       "    <tr>\n",
       "      <th>2</th>\n",
       "      <td>0</td>\n",
       "      <td>0</td>\n",
       "      <td>1.0</td>\n",
       "      <td>2.0</td>\n",
       "      <td>1.0</td>\n",
       "      <td>20.0</td>\n",
       "      <td>0.000000</td>\n",
       "      <td>9.949744</td>\n",
       "      <td>1.0</td>\n",
       "    </tr>\n",
       "    <tr>\n",
       "      <th>3</th>\n",
       "      <td>0</td>\n",
       "      <td>0</td>\n",
       "      <td>1.0</td>\n",
       "      <td>3.0</td>\n",
       "      <td>1.0</td>\n",
       "      <td>20.0</td>\n",
       "      <td>0.000000</td>\n",
       "      <td>17.248998</td>\n",
       "      <td>1.0</td>\n",
       "    </tr>\n",
       "    <tr>\n",
       "      <th>4</th>\n",
       "      <td>0</td>\n",
       "      <td>0</td>\n",
       "      <td>1.0</td>\n",
       "      <td>4.0</td>\n",
       "      <td>1.0</td>\n",
       "      <td>20.0</td>\n",
       "      <td>0.000000</td>\n",
       "      <td>5.168723</td>\n",
       "      <td>1.0</td>\n",
       "    </tr>\n",
       "    <tr>\n",
       "      <th>...</th>\n",
       "      <td>...</td>\n",
       "      <td>...</td>\n",
       "      <td>...</td>\n",
       "      <td>...</td>\n",
       "      <td>...</td>\n",
       "      <td>...</td>\n",
       "      <td>...</td>\n",
       "      <td>...</td>\n",
       "      <td>...</td>\n",
       "    </tr>\n",
       "    <tr>\n",
       "      <th>8755</th>\n",
       "      <td>0</td>\n",
       "      <td>364</td>\n",
       "      <td>1.0</td>\n",
       "      <td>19.0</td>\n",
       "      <td>1.0</td>\n",
       "      <td>20.0</td>\n",
       "      <td>202.151819</td>\n",
       "      <td>15.595587</td>\n",
       "      <td>1.0</td>\n",
       "    </tr>\n",
       "    <tr>\n",
       "      <th>8756</th>\n",
       "      <td>0</td>\n",
       "      <td>364</td>\n",
       "      <td>1.0</td>\n",
       "      <td>20.0</td>\n",
       "      <td>1.0</td>\n",
       "      <td>20.0</td>\n",
       "      <td>17.160319</td>\n",
       "      <td>1.239406</td>\n",
       "      <td>1.0</td>\n",
       "    </tr>\n",
       "    <tr>\n",
       "      <th>8757</th>\n",
       "      <td>0</td>\n",
       "      <td>364</td>\n",
       "      <td>1.0</td>\n",
       "      <td>21.0</td>\n",
       "      <td>1.0</td>\n",
       "      <td>20.0</td>\n",
       "      <td>0.000000</td>\n",
       "      <td>6.594858</td>\n",
       "      <td>1.0</td>\n",
       "    </tr>\n",
       "    <tr>\n",
       "      <th>8758</th>\n",
       "      <td>0</td>\n",
       "      <td>364</td>\n",
       "      <td>1.0</td>\n",
       "      <td>22.0</td>\n",
       "      <td>1.0</td>\n",
       "      <td>20.0</td>\n",
       "      <td>0.000000</td>\n",
       "      <td>6.892902</td>\n",
       "      <td>1.0</td>\n",
       "    </tr>\n",
       "    <tr>\n",
       "      <th>8759</th>\n",
       "      <td>0</td>\n",
       "      <td>364</td>\n",
       "      <td>1.0</td>\n",
       "      <td>23.0</td>\n",
       "      <td>1.0</td>\n",
       "      <td>20.0</td>\n",
       "      <td>0.000000</td>\n",
       "      <td>17.027795</td>\n",
       "      <td>1.0</td>\n",
       "    </tr>\n",
       "  </tbody>\n",
       "</table>\n",
       "<p>8760 rows × 9 columns</p>\n",
       "</div>"
      ],
      "text/plain": [
       "      y    d   dd     h   dt  temp           I         wv   eg\n",
       "0     0    0  1.0   0.0  1.0  20.0    0.000000  12.986726  1.0\n",
       "1     0    0  1.0   1.0  1.0  20.0    0.000000   7.573737  1.0\n",
       "2     0    0  1.0   2.0  1.0  20.0    0.000000   9.949744  1.0\n",
       "3     0    0  1.0   3.0  1.0  20.0    0.000000  17.248998  1.0\n",
       "4     0    0  1.0   4.0  1.0  20.0    0.000000   5.168723  1.0\n",
       "...  ..  ...  ...   ...  ...   ...         ...        ...  ...\n",
       "8755  0  364  1.0  19.0  1.0  20.0  202.151819  15.595587  1.0\n",
       "8756  0  364  1.0  20.0  1.0  20.0   17.160319   1.239406  1.0\n",
       "8757  0  364  1.0  21.0  1.0  20.0    0.000000   6.594858  1.0\n",
       "8758  0  364  1.0  22.0  1.0  20.0    0.000000   6.892902  1.0\n",
       "8759  0  364  1.0  23.0  1.0  20.0    0.000000  17.027795  1.0\n",
       "\n",
       "[8760 rows x 9 columns]"
      ]
     },
     "execution_count": 49,
     "metadata": {},
     "output_type": "execute_result"
    }
   ],
   "source": [
    "Escenarios"
   ]
  },
  {
   "cell_type": "markdown",
   "id": "domestic-evans",
   "metadata": {
    "id": "DrtD-E834lhY"
   },
   "source": [
    "## Construcción del Modelo"
   ]
  },
  {
   "cell_type": "markdown",
   "id": "fifth-jerusalem",
   "metadata": {
    "id": "spiritual-luxembourg"
   },
   "source": [
    "Construccion automatica del modelo\n",
    "Es un modelo de dimensionamiento de 3 DERs (WT+PV)"
   ]
  },
  {
   "cell_type": "code",
   "execution_count": 55,
   "id": "happy-queensland",
   "metadata": {},
   "outputs": [],
   "source": [
    "model_writer = SimpleModelWriter(net, Escenarios)"
   ]
  },
  {
   "cell_type": "code",
   "execution_count": 56,
   "id": "smart-cloud",
   "metadata": {},
   "outputs": [],
   "source": [
    "model = model_writer.create_model()"
   ]
  },
  {
   "cell_type": "code",
   "execution_count": 57,
   "id": "brave-watson",
   "metadata": {},
   "outputs": [],
   "source": [
    "##model.pprint()"
   ]
  },
  {
   "cell_type": "code",
   "execution_count": 66,
   "id": "moving-large",
   "metadata": {},
   "outputs": [
    {
     "name": "stdout",
     "output_type": "stream",
     "text": [
      "GLPSOL: GLPK LP/MIP Solver, v4.65\n",
      "Parameter(s) specified in the command line:\n",
      " --write C:\\Users\\jmsar\\AppData\\Local\\Temp\\tmp7i02bz1y.glpk.raw --wglp C:\\Users\\jmsar\\AppData\\Local\\Temp\\tmpqeaqlh7t.glpk.glp\n",
      " --cpxlp C:\\Users\\jmsar\\AppData\\Local\\Temp\\tmpejqn33zo.pyomo.lp\n",
      "Reading problem data from 'C:\\Users\\jmsar\\AppData\\Local\\Temp\\tmpejqn33zo.pyomo.lp'...\n",
      "C:\\Users\\jmsar\\AppData\\Local\\Temp\\tmpejqn33zo.pyomo.lp:770020: warning: lower bound of variable 'x35041' redefined\n",
      "C:\\Users\\jmsar\\AppData\\Local\\Temp\\tmpejqn33zo.pyomo.lp:770020: warning: upper bound of variable 'x35041' redefined\n",
      "122648 rows, 70093 columns, 288163 non-zeros\n",
      "5 integer variables, all of which are binary\n",
      "770025 lines were read\n",
      "Writing problem data to 'C:\\Users\\jmsar\\AppData\\Local\\Temp\\tmpqeaqlh7t.glpk.glp'...\n",
      "699935 lines were written\n",
      "GLPK Integer Optimizer, v4.65\n",
      "122648 rows, 70093 columns, 288163 non-zeros\n",
      "5 integer variables, all of which are binary\n",
      "Preprocessing...\n",
      "112947 rows, 51642 columns, 260002 non-zeros\n",
      "5 integer variables, all of which are binary\n",
      "Scaling...\n",
      " A: min|aij| =  2.568e-04  max|aij| =  1.000e+03  ratio =  3.894e+06\n",
      "GM: min|aij| =  2.560e-01  max|aij| =  3.907e+00  ratio =  1.526e+01\n",
      "EQ: min|aij| =  6.810e-02  max|aij| =  1.000e+00  ratio =  1.468e+01\n",
      "2N: min|aij| =  6.250e-02  max|aij| =  1.563e+00  ratio =  2.501e+01\n",
      "Constructing initial basis...\n",
      "Size of triangular part is 112947\n",
      "Solving LP relaxation...\n",
      "GLPK Simplex Optimizer, v4.65\n",
      "112947 rows, 51642 columns, 260002 non-zeros\n",
      "      0: obj =   4.119040674e+01 inf =   2.398e+03 (8)\n",
      "     11: obj =   3.340919886e+01 inf =   1.421e-14 (0)\n",
      "Perturbing LP to avoid stalling [213]...\n",
      "*  1174: obj =   2.589367177e+01 inf =   1.889e-12 (16472) 2\n",
      "*  1866: obj =   2.570917204e+01 inf =   3.104e-09 (16380) 6\n",
      "*  2554: obj =   2.547964272e+01 inf =   1.177e-06 (16318) 6\n",
      "*  3587: obj =   2.520248412e+01 inf =   1.209e-06 (15713) 5\n",
      "*  4105: obj =   2.503011154e+01 inf =   3.278e-06 (15483) 4\n",
      "*  5030: obj =   2.447428299e+01 inf =   5.587e-05 (14946) 7\n",
      "*  6023: obj =   2.354316017e+01 inf =   4.272e-05 (14171) 8\n",
      "*  7068: obj =   2.337876193e+01 inf =   7.075e-05 (13764) 4\n",
      "*  8002: obj =   2.307340152e+01 inf =   1.331e-05 (13780) 8\n",
      "*  8927: obj =   2.279978012e+01 inf =   4.298e-05 (13845) 7\n",
      "*  9820: obj =   2.258837942e+01 inf =   6.179e-05 (13829) 7\n",
      "* 10633: obj =   2.242349769e+01 inf =   4.572e-05 (13898) 6\n",
      "* 11488: obj =   2.219817068e+01 inf =   5.298e-05 (13990) 7\n",
      "* 12180: obj =   2.206323159e+01 inf =   4.281e-05 (14065) 6\n",
      "* 12982: obj =   2.180007674e+01 inf =   1.018e-04 (14232) 7\n",
      "* 13832: obj =   2.136599280e+01 inf =   1.632e-04 (14337) 8\n",
      "* 14534: obj =   2.127261676e+01 inf =   4.283e-05 (14422) 6\n",
      "* 15104: obj =   2.127115931e+01 inf =   8.857e-06 (14566) 6\n",
      "* 15719: obj =   2.127115291e+01 inf =   1.643e-05 (14735) 6\n",
      "* 16278: obj =   2.127115289e+01 inf =   2.514e-06 (14829) 6\n",
      "* 16864: obj =   2.127115017e+01 inf =   4.523e-06 (14978) 5\n",
      "* 17481: obj =   2.127114086e+01 inf =   1.551e-06 (15092) 7\n",
      "* 18181: obj =   2.127107967e+01 inf =   9.460e-06 (15204) 7\n",
      "Warning: basis matrix is ill-conditioned (cond = 5.21e+12)\n",
      "Warning: basis matrix is ill-conditioned (cond = 9.37e+12)\n",
      "* 18812: obj =   2.121788546e+01 inf =   4.432e-05 (15582) 5\n",
      "* 19364: obj =   2.114850940e+01 inf =   8.138e-05 (15462) 5\n",
      "* 19969: obj =   2.111172126e+01 inf =   1.641e-04 (15383) 5\n",
      "* 20545: obj =   2.107544608e+01 inf =   1.572e-03 (15381) 4\n",
      "* 21180: obj =   2.097585931e+01 inf =   2.172e-04 (15250) 4\n",
      "* 21575: obj =   2.085353153e+01 inf =   2.141e-04 (15198) 3\n",
      "* 21936: obj =   2.075067302e+01 inf =   2.745e-04 (15235) 3\n",
      "Error: trow[q] = 0.0\n",
      "glp_intopt: cannot solve LP relaxation\n",
      "Time used:   152.0 secs\n",
      "Memory used: 136.2 Mb (142786701 bytes)\n",
      "Writing MIP solution to 'C:\\Users\\jmsar\\AppData\\Local\\Temp\\tmp7i02bz1y.glpk.raw'...\n",
      "192750 lines were written\n"
     ]
    }
   ],
   "source": [
    "#solver_manager = pe.SolverManagerFactory('neos')\n",
    "#result_obj = solver_manager.solve(model.model, opt='cplex')\n",
    "\n",
    "##opt = pe.SolverFactory('cplex')\n",
    "opt = pe.SolverFactory('glpk')\n",
    "result_obj= opt.solve(model, tee=True)"
   ]
  },
  {
   "cell_type": "code",
   "execution_count": 84,
   "id": "elder-dominican",
   "metadata": {},
   "outputs": [],
   "source": [
    "model_writer.backconfigure_network()"
   ]
  },
  {
   "cell_type": "code",
   "execution_count": 85,
   "id": "tired-haven",
   "metadata": {},
   "outputs": [
    {
     "data": {
      "text/html": [
       "<div>\n",
       "<style scoped>\n",
       "    .dataframe tbody tr th:only-of-type {\n",
       "        vertical-align: middle;\n",
       "    }\n",
       "\n",
       "    .dataframe tbody tr th {\n",
       "        vertical-align: top;\n",
       "    }\n",
       "\n",
       "    .dataframe thead th {\n",
       "        text-align: right;\n",
       "    }\n",
       "</style>\n",
       "<table border=\"1\" class=\"dataframe\">\n",
       "  <thead>\n",
       "    <tr style=\"text-align: right;\">\n",
       "      <th></th>\n",
       "      <th>name</th>\n",
       "      <th>bus</th>\n",
       "      <th>p_mw</th>\n",
       "      <th>q_mvar</th>\n",
       "      <th>sn_mva</th>\n",
       "      <th>scaling</th>\n",
       "      <th>in_service</th>\n",
       "      <th>type</th>\n",
       "      <th>current_source</th>\n",
       "      <th>max_p_mw</th>\n",
       "      <th>max_q_mvar</th>\n",
       "      <th>model</th>\n",
       "    </tr>\n",
       "  </thead>\n",
       "  <tbody>\n",
       "    <tr>\n",
       "      <th>0</th>\n",
       "      <td>PV1</td>\n",
       "      <td>1</td>\n",
       "      <td>0.075</td>\n",
       "      <td>0.025</td>\n",
       "      <td>NaN</td>\n",
       "      <td>1.0</td>\n",
       "      <td>True</td>\n",
       "      <td>wye</td>\n",
       "      <td>True</td>\n",
       "      <td>4.919128</td>\n",
       "      <td>2.459564</td>\n",
       "      <td>Resource: PV1</td>\n",
       "    </tr>\n",
       "    <tr>\n",
       "      <th>1</th>\n",
       "      <td>WT1</td>\n",
       "      <td>3</td>\n",
       "      <td>0.150</td>\n",
       "      <td>0.000</td>\n",
       "      <td>NaN</td>\n",
       "      <td>1.0</td>\n",
       "      <td>False</td>\n",
       "      <td>wye</td>\n",
       "      <td>True</td>\n",
       "      <td>0.000000</td>\n",
       "      <td>0.000000</td>\n",
       "      <td>Resource: WT1</td>\n",
       "    </tr>\n",
       "    <tr>\n",
       "      <th>2</th>\n",
       "      <td>PV2</td>\n",
       "      <td>4</td>\n",
       "      <td>0.080</td>\n",
       "      <td>0.000</td>\n",
       "      <td>NaN</td>\n",
       "      <td>1.0</td>\n",
       "      <td>False</td>\n",
       "      <td>wye</td>\n",
       "      <td>True</td>\n",
       "      <td>0.000000</td>\n",
       "      <td>0.000000</td>\n",
       "      <td>Resource: PV2</td>\n",
       "    </tr>\n",
       "  </tbody>\n",
       "</table>\n",
       "</div>"
      ],
      "text/plain": [
       "  name  bus   p_mw  q_mvar  sn_mva  scaling  in_service type  current_source  \\\n",
       "0  PV1    1  0.075   0.025     NaN      1.0        True  wye            True   \n",
       "1  WT1    3  0.150   0.000     NaN      1.0       False  wye            True   \n",
       "2  PV2    4  0.080   0.000     NaN      1.0       False  wye            True   \n",
       "\n",
       "   max_p_mw  max_q_mvar          model  \n",
       "0  4.919128    2.459564  Resource: PV1  \n",
       "1  0.000000    0.000000  Resource: WT1  \n",
       "2  0.000000    0.000000  Resource: PV2  "
      ]
     },
     "execution_count": 85,
     "metadata": {},
     "output_type": "execute_result"
    }
   ],
   "source": [
    "model_writer.net.sgen"
   ]
  },
  {
   "cell_type": "code",
   "execution_count": 86,
   "id": "breeding-malaysia",
   "metadata": {},
   "outputs": [
    {
     "data": {
      "text/html": [
       "<div>\n",
       "<style scoped>\n",
       "    .dataframe tbody tr th:only-of-type {\n",
       "        vertical-align: middle;\n",
       "    }\n",
       "\n",
       "    .dataframe tbody tr th {\n",
       "        vertical-align: top;\n",
       "    }\n",
       "\n",
       "    .dataframe thead th {\n",
       "        text-align: right;\n",
       "    }\n",
       "</style>\n",
       "<table border=\"1\" class=\"dataframe\">\n",
       "  <thead>\n",
       "    <tr style=\"text-align: right;\">\n",
       "      <th></th>\n",
       "      <th>name</th>\n",
       "      <th>bus</th>\n",
       "      <th>p_mw</th>\n",
       "      <th>q_mvar</th>\n",
       "      <th>sn_mva</th>\n",
       "      <th>soc_percent</th>\n",
       "      <th>min_e_mwh</th>\n",
       "      <th>max_e_mwh</th>\n",
       "      <th>scaling</th>\n",
       "      <th>in_service</th>\n",
       "      <th>type</th>\n",
       "      <th>model</th>\n",
       "    </tr>\n",
       "  </thead>\n",
       "  <tbody>\n",
       "    <tr>\n",
       "      <th>0</th>\n",
       "      <td>ST1</td>\n",
       "      <td>3</td>\n",
       "      <td>0.25</td>\n",
       "      <td>0.1</td>\n",
       "      <td>NaN</td>\n",
       "      <td>NaN</td>\n",
       "      <td>0.0</td>\n",
       "      <td>6.221509</td>\n",
       "      <td>1.0</td>\n",
       "      <td>True</td>\n",
       "      <td>None</td>\n",
       "      <td>Resource: ST1</td>\n",
       "    </tr>\n",
       "    <tr>\n",
       "      <th>1</th>\n",
       "      <td>ST2</td>\n",
       "      <td>6</td>\n",
       "      <td>0.50</td>\n",
       "      <td>0.1</td>\n",
       "      <td>NaN</td>\n",
       "      <td>NaN</td>\n",
       "      <td>0.0</td>\n",
       "      <td>0.0</td>\n",
       "      <td>1.0</td>\n",
       "      <td>False</td>\n",
       "      <td>None</td>\n",
       "      <td>Resource: ST2</td>\n",
       "    </tr>\n",
       "  </tbody>\n",
       "</table>\n",
       "</div>"
      ],
      "text/plain": [
       "  name  bus  p_mw  q_mvar  sn_mva  soc_percent  min_e_mwh max_e_mwh  scaling  \\\n",
       "0  ST1    3  0.25     0.1     NaN          NaN        0.0  6.221509      1.0   \n",
       "1  ST2    6  0.50     0.1     NaN          NaN        0.0       0.0      1.0   \n",
       "\n",
       "   in_service  type          model  \n",
       "0        True  None  Resource: ST1  \n",
       "1       False  None  Resource: ST2  "
      ]
     },
     "execution_count": 86,
     "metadata": {},
     "output_type": "execute_result"
    }
   ],
   "source": [
    "model_writer.net.storage"
   ]
  },
  {
   "cell_type": "code",
   "execution_count": 62,
   "id": "immune-planner",
   "metadata": {
    "tags": []
   },
   "outputs": [],
   "source": [
    "Resultados = model_writer.get_scenes_results()"
   ]
  },
  {
   "cell_type": "code",
   "execution_count": 63,
   "id": "polish-princeton",
   "metadata": {
    "colab": {
     "base_uri": "https://localhost:8080/",
     "height": 424
    },
    "executionInfo": {
     "elapsed": 699,
     "status": "ok",
     "timestamp": 1619873491559,
     "user": {
      "displayName": "Juan Sardón",
      "photoUrl": "https://lh3.googleusercontent.com/a-/AOh14Gh0hE4Hw8M0I17k-o2PXxLB5i6gNZV_oUTpZlyJ3Q=s64",
      "userId": "08267034058673099115"
     },
     "user_tz": 180
    },
    "id": "tropical-completion",
    "outputId": "082e0a6f-0230-4e8e-b532-e95c63049c68"
   },
   "outputs": [
    {
     "data": {
      "text/html": [
       "<div>\n",
       "<style scoped>\n",
       "    .dataframe tbody tr th:only-of-type {\n",
       "        vertical-align: middle;\n",
       "    }\n",
       "\n",
       "    .dataframe tbody tr th {\n",
       "        vertical-align: top;\n",
       "    }\n",
       "\n",
       "    .dataframe thead th {\n",
       "        text-align: right;\n",
       "    }\n",
       "</style>\n",
       "<table border=\"1\" class=\"dataframe\">\n",
       "  <thead>\n",
       "    <tr style=\"text-align: right;\">\n",
       "      <th></th>\n",
       "      <th>SET_p_mw</th>\n",
       "      <th>Tornquinst_p_mw</th>\n",
       "      <th>Bell Ville_p_mw</th>\n",
       "      <th>City Bell_p_mw</th>\n",
       "      <th>PV1_p_mw</th>\n",
       "      <th>ST1_p_mw</th>\n",
       "      <th>ST1_soc_mwh</th>\n",
       "    </tr>\n",
       "  </thead>\n",
       "  <tbody>\n",
       "    <tr>\n",
       "      <th>0</th>\n",
       "      <td>0.324564</td>\n",
       "      <td>-0.074790</td>\n",
       "      <td>-0.200698</td>\n",
       "      <td>-0.049077</td>\n",
       "      <td>0.000000</td>\n",
       "      <td>0.000000</td>\n",
       "      <td>0.000000</td>\n",
       "    </tr>\n",
       "    <tr>\n",
       "      <th>1</th>\n",
       "      <td>0.367092</td>\n",
       "      <td>-0.105829</td>\n",
       "      <td>-0.208451</td>\n",
       "      <td>-0.052813</td>\n",
       "      <td>0.000000</td>\n",
       "      <td>0.000000</td>\n",
       "      <td>0.000000</td>\n",
       "    </tr>\n",
       "    <tr>\n",
       "      <th>2</th>\n",
       "      <td>0.407039</td>\n",
       "      <td>-0.101524</td>\n",
       "      <td>-0.247318</td>\n",
       "      <td>-0.058197</td>\n",
       "      <td>0.000000</td>\n",
       "      <td>0.000000</td>\n",
       "      <td>0.000000</td>\n",
       "    </tr>\n",
       "    <tr>\n",
       "      <th>3</th>\n",
       "      <td>0.358730</td>\n",
       "      <td>-0.077633</td>\n",
       "      <td>-0.218319</td>\n",
       "      <td>-0.062779</td>\n",
       "      <td>0.000000</td>\n",
       "      <td>0.000000</td>\n",
       "      <td>0.000000</td>\n",
       "    </tr>\n",
       "    <tr>\n",
       "      <th>4</th>\n",
       "      <td>0.353212</td>\n",
       "      <td>-0.080952</td>\n",
       "      <td>-0.208801</td>\n",
       "      <td>-0.063459</td>\n",
       "      <td>0.000000</td>\n",
       "      <td>0.000000</td>\n",
       "      <td>0.000000</td>\n",
       "    </tr>\n",
       "    <tr>\n",
       "      <th>...</th>\n",
       "      <td>...</td>\n",
       "      <td>...</td>\n",
       "      <td>...</td>\n",
       "      <td>...</td>\n",
       "      <td>...</td>\n",
       "      <td>...</td>\n",
       "      <td>...</td>\n",
       "    </tr>\n",
       "    <tr>\n",
       "      <th>8755</th>\n",
       "      <td>0.000000</td>\n",
       "      <td>-0.447937</td>\n",
       "      <td>-1.184932</td>\n",
       "      <td>-0.328902</td>\n",
       "      <td>0.994411</td>\n",
       "      <td>0.967360</td>\n",
       "      <td>3.937962</td>\n",
       "    </tr>\n",
       "    <tr>\n",
       "      <th>8756</th>\n",
       "      <td>0.374940</td>\n",
       "      <td>-0.411877</td>\n",
       "      <td>-1.194282</td>\n",
       "      <td>-0.325702</td>\n",
       "      <td>0.084414</td>\n",
       "      <td>1.472507</td>\n",
       "      <td>2.751753</td>\n",
       "    </tr>\n",
       "    <tr>\n",
       "      <th>8757</th>\n",
       "      <td>0.186990</td>\n",
       "      <td>-0.490956</td>\n",
       "      <td>-0.907637</td>\n",
       "      <td>-0.260904</td>\n",
       "      <td>0.000000</td>\n",
       "      <td>1.472507</td>\n",
       "      <td>1.568014</td>\n",
       "    </tr>\n",
       "    <tr>\n",
       "      <th>8758</th>\n",
       "      <td>0.000000</td>\n",
       "      <td>-0.132190</td>\n",
       "      <td>-0.374334</td>\n",
       "      <td>-0.094808</td>\n",
       "      <td>0.000000</td>\n",
       "      <td>0.601331</td>\n",
       "      <td>1.083682</td>\n",
       "    </tr>\n",
       "    <tr>\n",
       "      <th>8759</th>\n",
       "      <td>0.000000</td>\n",
       "      <td>-0.137121</td>\n",
       "      <td>-0.366646</td>\n",
       "      <td>-0.097024</td>\n",
       "      <td>0.000000</td>\n",
       "      <td>0.600791</td>\n",
       "      <td>0.600791</td>\n",
       "    </tr>\n",
       "  </tbody>\n",
       "</table>\n",
       "<p>8760 rows × 7 columns</p>\n",
       "</div>"
      ],
      "text/plain": [
       "      SET_p_mw  Tornquinst_p_mw  Bell Ville_p_mw  City Bell_p_mw  PV1_p_mw  \\\n",
       "0     0.324564        -0.074790        -0.200698       -0.049077  0.000000   \n",
       "1     0.367092        -0.105829        -0.208451       -0.052813  0.000000   \n",
       "2     0.407039        -0.101524        -0.247318       -0.058197  0.000000   \n",
       "3     0.358730        -0.077633        -0.218319       -0.062779  0.000000   \n",
       "4     0.353212        -0.080952        -0.208801       -0.063459  0.000000   \n",
       "...        ...              ...              ...             ...       ...   \n",
       "8755  0.000000        -0.447937        -1.184932       -0.328902  0.994411   \n",
       "8756  0.374940        -0.411877        -1.194282       -0.325702  0.084414   \n",
       "8757  0.186990        -0.490956        -0.907637       -0.260904  0.000000   \n",
       "8758  0.000000        -0.132190        -0.374334       -0.094808  0.000000   \n",
       "8759  0.000000        -0.137121        -0.366646       -0.097024  0.000000   \n",
       "\n",
       "      ST1_p_mw  ST1_soc_mwh  \n",
       "0     0.000000     0.000000  \n",
       "1     0.000000     0.000000  \n",
       "2     0.000000     0.000000  \n",
       "3     0.000000     0.000000  \n",
       "4     0.000000     0.000000  \n",
       "...        ...          ...  \n",
       "8755  0.967360     3.937962  \n",
       "8756  1.472507     2.751753  \n",
       "8757  1.472507     1.568014  \n",
       "8758  0.601331     1.083682  \n",
       "8759  0.600791     0.600791  \n",
       "\n",
       "[8760 rows x 7 columns]"
      ]
     },
     "execution_count": 63,
     "metadata": {},
     "output_type": "execute_result"
    }
   ],
   "source": [
    "Resultados"
   ]
  },
  {
   "cell_type": "code",
   "execution_count": 65,
   "id": "chubby-junior",
   "metadata": {
    "colab": {
     "base_uri": "https://localhost:8080/",
     "height": 388
    },
    "executionInfo": {
     "elapsed": 1336,
     "status": "ok",
     "timestamp": 1619873495814,
     "user": {
      "displayName": "Juan Sardón",
      "photoUrl": "https://lh3.googleusercontent.com/a-/AOh14Gh0hE4Hw8M0I17k-o2PXxLB5i6gNZV_oUTpZlyJ3Q=s64",
      "userId": "08267034058673099115"
     },
     "user_tz": 180
    },
    "id": "planned-memorial",
    "outputId": "11488d44-f6a7-46f5-dd15-9afe980a328c"
   },
   "outputs": [
    {
     "data": {
      "image/png": "[encoded data removed]",
      "text/plain": [
       "<Figure size 720x432 with 1 Axes>"
      ]
     },
     "metadata": {
      "needs_background": "light"
     },
     "output_type": "display_data"
    }
   ],
   "source": [
    "# Set the plot curve with markers and a title\n",
    "fig, ax = plt.subplots(1, 1)\n",
    "\n",
    "fig.set_size_inches(10,6)\n",
    "a=180*24\n",
    "#b=360\n",
    "b=180*24+15*24\n",
    "for col in Resultados:\n",
    "    ax.plot(Resultados[col][a:b], label = col)\n",
    "\n",
    "#ax.plot(Resultados['Tornquinst'][a:b]+Resultados['Bell Ville'][a:b]+Resultados['City Bell'][a:b], label = 'Load')\n",
    "\n",
    "#ax.plot(Resultados['time'][240:360], Resultados['p_mw_PV'][240:360], label = 'PV')\n",
    "#ax.plot(Resultados['time'][240:360], Resultados['p_mw_Load'][240:360], label = 'Load')\n",
    "\n",
    "ax.set_xlabel('time')\n",
    "ax.set_ylabel('P[mw]')\n",
    "\n",
    "ax.legend()\n",
    "\n",
    "ax.grid(True)\n",
    "\n",
    "\n",
    "plt.show()"
   ]
  },
  {
   "cell_type": "code",
   "execution_count": null,
   "id": "ongoing-exposure",
   "metadata": {},
   "outputs": [],
   "source": []
  }
 ],
 "metadata": {
  "colab": {
   "name": "Prueba PP-Pyomo-4.ipynb",
   "provenance": []
  },
  "kernelspec": {
   "display_name": "Python 3",
   "language": "python",
   "name": "python3"
  },
  "language_info": {
   "codemirror_mode": {
    "name": "ipython",
    "version": 3
   },
   "file_extension": ".py",
   "mimetype": "text/x-python",
   "name": "python",
   "nbconvert_exporter": "python",
   "pygments_lexer": "ipython3",
   "version": "3.8.8"
  }
 },
 "nbformat": 4,
 "nbformat_minor": 5
}
