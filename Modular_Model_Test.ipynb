{
 "cells": [
  {
   "cell_type": "markdown",
   "id": "three-acceptance",
   "metadata": {
    "id": "addressed-terrorism"
   },
   "source": [
    "## Prueba de modelos ##\n",
    "\n",
    "### Version 4: Modelo con 2 DER, planificación anual, granularidad horaria ###\n",
    "\n",
    "Si el modelo tiene que optimizar el balance por horas, tiene 8640 VD, pero sigue teniendo 2 VD binarias"
   ]
  },
  {
   "cell_type": "code",
   "execution_count": 1,
   "id": "historic-burner",
   "metadata": {},
   "outputs": [],
   "source": [
    "%load_ext autoreload"
   ]
  },
  {
   "cell_type": "code",
   "execution_count": 2,
   "id": "isolated-conversion",
   "metadata": {},
   "outputs": [],
   "source": [
    "%autoreload 2"
   ]
  },
  {
   "cell_type": "code",
   "execution_count": 3,
   "id": "agricultural-reading",
   "metadata": {
    "executionInfo": {
     "elapsed": 5552,
     "status": "ok",
     "timestamp": 1620005659685,
     "user": {
      "displayName": "Juan Sardón",
      "photoUrl": "https://lh3.googleusercontent.com/a-/AOh14Gh0hE4Hw8M0I17k-o2PXxLB5i6gNZV_oUTpZlyJ3Q=s64",
      "userId": "08267034058673099115"
     },
     "user_tz": 180
    },
    "id": "aboriginal-joshua"
   },
   "outputs": [],
   "source": [
    "import pandapower as pp"
   ]
  },
  {
   "cell_type": "code",
   "execution_count": 4,
   "id": "loving-ukraine",
   "metadata": {
    "executionInfo": {
     "elapsed": 5006,
     "status": "ok",
     "timestamp": 1620005659686,
     "user": {
      "displayName": "Juan Sardón",
      "photoUrl": "https://lh3.googleusercontent.com/a-/AOh14Gh0hE4Hw8M0I17k-o2PXxLB5i6gNZV_oUTpZlyJ3Q=s64",
      "userId": "08267034058673099115"
     },
     "user_tz": 180
    },
    "id": "YkmoER_O9JGU"
   },
   "outputs": [],
   "source": [
    "import os"
   ]
  },
  {
   "cell_type": "code",
   "execution_count": 5,
   "id": "pressing-street",
   "metadata": {
    "executionInfo": {
     "elapsed": 4628,
     "status": "ok",
     "timestamp": 1620005659687,
     "user": {
      "displayName": "Juan Sardón",
      "photoUrl": "https://lh3.googleusercontent.com/a-/AOh14Gh0hE4Hw8M0I17k-o2PXxLB5i6gNZV_oUTpZlyJ3Q=s64",
      "userId": "08267034058673099115"
     },
     "user_tz": 180
    },
    "id": "narrative-census"
   },
   "outputs": [],
   "source": [
    "import pandas as pd"
   ]
  },
  {
   "cell_type": "code",
   "execution_count": 6,
   "id": "killing-facing",
   "metadata": {
    "executionInfo": {
     "elapsed": 4248,
     "status": "ok",
     "timestamp": 1620005659688,
     "user": {
      "displayName": "Juan Sardón",
      "photoUrl": "https://lh3.googleusercontent.com/a-/AOh14Gh0hE4Hw8M0I17k-o2PXxLB5i6gNZV_oUTpZlyJ3Q=s64",
      "userId": "08267034058673099115"
     },
     "user_tz": 180
    },
    "id": "collectible-innocent"
   },
   "outputs": [],
   "source": [
    "import pyomo.environ as pe"
   ]
  },
  {
   "cell_type": "code",
   "execution_count": 7,
   "id": "missing-consideration",
   "metadata": {
    "executionInfo": {
     "elapsed": 3906,
     "status": "ok",
     "timestamp": 1620005659690,
     "user": {
      "displayName": "Juan Sardón",
      "photoUrl": "https://lh3.googleusercontent.com/a-/AOh14Gh0hE4Hw8M0I17k-o2PXxLB5i6gNZV_oUTpZlyJ3Q=s64",
      "userId": "08267034058673099115"
     },
     "user_tz": 180
    },
    "id": "handled-baltimore"
   },
   "outputs": [],
   "source": [
    "import math"
   ]
  },
  {
   "cell_type": "code",
   "execution_count": 8,
   "id": "annoying-lindsay",
   "metadata": {
    "executionInfo": {
     "elapsed": 3594,
     "status": "ok",
     "timestamp": 1620005659691,
     "user": {
      "displayName": "Juan Sardón",
      "photoUrl": "https://lh3.googleusercontent.com/a-/AOh14Gh0hE4Hw8M0I17k-o2PXxLB5i6gNZV_oUTpZlyJ3Q=s64",
      "userId": "08267034058673099115"
     },
     "user_tz": 180
    },
    "id": "substantial-payroll"
   },
   "outputs": [],
   "source": [
    "import random"
   ]
  },
  {
   "cell_type": "code",
   "execution_count": 9,
   "id": "artificial-stock",
   "metadata": {
    "executionInfo": {
     "elapsed": 3285,
     "status": "ok",
     "timestamp": 1620005659691,
     "user": {
      "displayName": "Juan Sardón",
      "photoUrl": "https://lh3.googleusercontent.com/a-/AOh14Gh0hE4Hw8M0I17k-o2PXxLB5i6gNZV_oUTpZlyJ3Q=s64",
      "userId": "08267034058673099115"
     },
     "user_tz": 180
    },
    "id": "c0X5ABkvJYuo"
   },
   "outputs": [],
   "source": [
    "import itertools"
   ]
  },
  {
   "cell_type": "code",
   "execution_count": 10,
   "id": "usual-overall",
   "metadata": {
    "executionInfo": {
     "elapsed": 3074,
     "status": "ok",
     "timestamp": 1620005659693,
     "user": {
      "displayName": "Juan Sardón",
      "photoUrl": "https://lh3.googleusercontent.com/a-/AOh14Gh0hE4Hw8M0I17k-o2PXxLB5i6gNZV_oUTpZlyJ3Q=s64",
      "userId": "08267034058673099115"
     },
     "user_tz": 180
    },
    "id": "united-bronze"
   },
   "outputs": [],
   "source": [
    "import matplotlib.pyplot as plt"
   ]
  },
  {
   "cell_type": "code",
   "execution_count": 11,
   "id": "prompt-mississippi",
   "metadata": {},
   "outputs": [],
   "source": [
    "import numpy as np"
   ]
  },
  {
   "cell_type": "code",
   "execution_count": 12,
   "id": "moderate-garlic",
   "metadata": {},
   "outputs": [],
   "source": [
    "import ModelWriters.SimpleBusbar"
   ]
  },
  {
   "cell_type": "markdown",
   "id": "norman-billy",
   "metadata": {
    "id": "fifteen-pakistan"
   },
   "source": [
    "Variables que define el modelo:\n",
    "\n",
    "y para el año\n",
    "\n",
    "d para el día del año\n",
    "\n",
    "h para la hora del día\n",
    "\n",
    "dt la granularidad del modelo, en horas\n",
    "\n",
    "\n",
    "temp la temperatura\n",
    "\n",
    "wv la velocidad del viento\n",
    "\n",
    "I la irradiación solar\n",
    "\n",
    "\n",
    "eg el crecimiento económico en pu respecto al año 0\n",
    "\n",
    "\n",
    "Estas variables llegan como parámetros en forma de diccionario en el argumento 'model_status' (ver este nombre)\n",
    "\n",
    "Todas las funciones reciben este argumento, la lógica de la función indica que valor retorna. Pr ejemplo, si la granularidad es 24 h, debe retornar el valor medio del parámetro producido."
   ]
  },
  {
   "cell_type": "code",
   "execution_count": 22,
   "id": "photographic-arkansas",
   "metadata": {
    "executionInfo": {
     "elapsed": 685,
     "status": "ok",
     "timestamp": 1620005669662,
     "user": {
      "displayName": "Juan Sardón",
      "photoUrl": "https://lh3.googleusercontent.com/a-/AOh14Gh0hE4Hw8M0I17k-o2PXxLB5i6gNZV_oUTpZlyJ3Q=s64",
      "userId": "08267034058673099115"
     },
     "user_tz": 180
    },
    "id": "ranging-smooth"
   },
   "outputs": [],
   "source": [
    "def oc_1_ext_grid(model_status={}):\n",
    "    #modelo sencillo con dos precios, uno entre 0 a 18 y otro de 18 a 24\n",
    "    res = 0.0\n",
    "    sx = 1e-6\n",
    "    if 'h' in model_status:\n",
    "        h = model_status['h']\n",
    "        if 0.0 <= h and h < 18.0:\n",
    "            res = 3600.0*sx\n",
    "        elif 18 <= h and h < 24.0:\n",
    "            res = 5400.0*sx\n",
    "        else:\n",
    "            raise ValueError(\"Hour outside model range\")\n",
    "    else:\n",
    "        raise ValueError(\"Hour not defined\")\n",
    "    \n",
    "    return res"
   ]
  },
  {
   "cell_type": "code",
   "execution_count": 28,
   "id": "suited-story",
   "metadata": {
    "executionInfo": {
     "elapsed": 1648,
     "status": "ok",
     "timestamp": 1620005683671,
     "user": {
      "displayName": "Juan Sardón",
      "photoUrl": "https://lh3.googleusercontent.com/a-/AOh14Gh0hE4Hw8M0I17k-o2PXxLB5i6gNZV_oUTpZlyJ3Q=s64",
      "userId": "08267034058673099115"
     },
     "user_tz": 180
    },
    "id": "secure-message"
   },
   "outputs": [],
   "source": [
    "def demand(model_status={}):\n",
    "    #modelo sencillo en forma de escalones\n",
    "    #devuelvr la fracción de la carga empleada\n",
    "    #se considera que la carga tiene una variabilidad aleatoria de un 20% y es mayor en verano e invierno en un 30%\n",
    "    #la variabilidad total puede ser 1.3*1.2=1.56 verano-invierno o 0.7*0.8 = 0.56 otoño-primavera, \n",
    "    res = 0.0\n",
    "    if 'h' in model_status:\n",
    "        h = model_status['h']\n",
    "        if 0.0 <= h and h < 6.0:\n",
    "            res = 0.2\n",
    "        elif 6.0 <= h and h < 8.0:\n",
    "            res = 0.4\n",
    "        elif 8.0 <= h and h < 18.0:\n",
    "            res = 0.5\n",
    "        elif 18.0 <= h and h < 22.0:\n",
    "            res = 1.0\n",
    "        elif 22.0 <= h and h < 24.0:\n",
    "            res = 0.3            \n",
    "        else:\n",
    "            raise ValueError(\"Hour outside model range\")\n",
    "    else:\n",
    "        raise ValueError(\"Hour not defined\")\n",
    "    \n",
    "    #estacionalidad\n",
    "    if 'd' in model_status:\n",
    "        d = model_status['d']\n",
    "        #se asume que el día de mayor consumo es el inicio del verano y del invierno (21/12 y 21/07), por eso sumo 10 días el dia 0\n",
    "        #divido por 180 porque hay dos picos en el año y paso a radianes\n",
    "        estacionalidad = 1 + 0.3*math.cos((d + 10.0)/180.0*2*math.pi)  \n",
    "    else:\n",
    "        raise ValueError(\"Day not defined\")\n",
    "    res = res * estacionalidad\n",
    "    \n",
    "    #Aleatoriedad:\n",
    "    res = res*random.uniform(0.8, 1.2)\n",
    "    return res"
   ]
  },
  {
   "cell_type": "code",
   "execution_count": 31,
   "id": "perceived-beads",
   "metadata": {
    "executionInfo": {
     "elapsed": 770,
     "status": "ok",
     "timestamp": 1620005689716,
     "user": {
      "displayName": "Juan Sardón",
      "photoUrl": "https://lh3.googleusercontent.com/a-/AOh14Gh0hE4Hw8M0I17k-o2PXxLB5i6gNZV_oUTpZlyJ3Q=s64",
      "userId": "08267034058673099115"
     },
     "user_tz": 180
    },
    "id": "continuing-cover"
   },
   "outputs": [],
   "source": [
    "def solar_output(model_status={}):\n",
    "    #modelo sencillo\n",
    "    #usando los datos de radiacion solar entregada por el modelo\n",
    "    #considero el valor normal 1000 W/m2\n",
    "    res = 0.0\n",
    "    if 'I' in model_status:\n",
    "        I = model_status['I']\n",
    "        if 0.0 <= I and I < 1200:\n",
    "            res = I / 1000.0\n",
    "        else:\n",
    "            raise ValueError(\"Solar radiation outside model range\")\n",
    "    else:\n",
    "        raise ValueError(\"Solar radiation not defined\")\n",
    "    \n",
    "    return res"
   ]
  },
  {
   "cell_type": "code",
   "execution_count": 34,
   "id": "virgin-construction",
   "metadata": {
    "executionInfo": {
     "elapsed": 826,
     "status": "ok",
     "timestamp": 1620005693982,
     "user": {
      "displayName": "Juan Sardón",
      "photoUrl": "https://lh3.googleusercontent.com/a-/AOh14Gh0hE4Hw8M0I17k-o2PXxLB5i6gNZV_oUTpZlyJ3Q=s64",
      "userId": "08267034058673099115"
     },
     "user_tz": 180
    },
    "id": "broken-archives"
   },
   "outputs": [],
   "source": [
    "def wind_output(model_status={}):\n",
    "    #modelo sencillo\n",
    "    #devuelvr la fracción de la potencia entregada en función del tiempo\n",
    "    #no toma en cuenta la radicación solar ni la temperatura\n",
    "    res = 0.0\n",
    "    if 'wv' in model_status:\n",
    "        wv = model_status['wv']\n",
    "        if 0.0 <= wv and wv < 3.0:\n",
    "            res = 0.0\n",
    "        elif 3.0 <= wv and wv < 15.0:\n",
    "            res = (wv-3.0)/(15.0-3.0)\n",
    "        elif 15.0 <= wv and wv < 25.0:\n",
    "            res = 1.0\n",
    "        else:\n",
    "            res = 0.0\n",
    "    else:\n",
    "        raise ValueError(\"Wind Velocity not defined\")\n",
    "    \n",
    "    return res"
   ]
  },
  {
   "cell_type": "markdown",
   "id": "settled-imperial",
   "metadata": {
    "id": "pTK9BGaY4BEu"
   },
   "source": [
    "## Construcción de Escenarios"
   ]
  },
  {
   "cell_type": "code",
   "execution_count": 79,
   "id": "placed-season",
   "metadata": {
    "executionInfo": {
     "elapsed": 1184,
     "status": "ok",
     "timestamp": 1620006589608,
     "user": {
      "displayName": "Juan Sardón",
      "photoUrl": "https://lh3.googleusercontent.com/a-/AOh14Gh0hE4Hw8M0I17k-o2PXxLB5i6gNZV_oUTpZlyJ3Q=s64",
      "userId": "08267034058673099115"
     },
     "user_tz": 180
    },
    "id": "posted-description"
   },
   "outputs": [],
   "source": [
    "dias = 3\n",
    "años = 5"
   ]
  },
  {
   "cell_type": "code",
   "execution_count": 80,
   "id": "endless-columbus",
   "metadata": {
    "executionInfo": {
     "elapsed": 804,
     "status": "ok",
     "timestamp": 1620006591214,
     "user": {
      "displayName": "Juan Sardón",
      "photoUrl": "https://lh3.googleusercontent.com/a-/AOh14Gh0hE4Hw8M0I17k-o2PXxLB5i6gNZV_oUTpZlyJ3Q=s64",
      "userId": "08267034058673099115"
     },
     "user_tz": 180
    },
    "id": "intelligent-terrace"
   },
   "outputs": [],
   "source": [
    "#el rango de horas:\n",
    "T_i = range(24)\n",
    "\n",
    "#el rango de dias:\n",
    "Dias_i = range(dias)\n",
    "\n",
    "Escenarios_i = range(len(T_i)*len(Dias_i))"
   ]
  },
  {
   "cell_type": "code",
   "execution_count": 81,
   "id": "reasonable-inclusion",
   "metadata": {
    "executionInfo": {
     "elapsed": 957,
     "status": "ok",
     "timestamp": 1620006593285,
     "user": {
      "displayName": "Juan Sardón",
      "photoUrl": "https://lh3.googleusercontent.com/a-/AOh14Gh0hE4Hw8M0I17k-o2PXxLB5i6gNZV_oUTpZlyJ3Q=s64",
      "userId": "08267034058673099115"
     },
     "user_tz": 180
    },
    "id": "complimentary-harvard"
   },
   "outputs": [],
   "source": [
    "def solar_irradiance_simulation(d, h):\n",
    "    #simula las horas de sol, la intensidad y los dias multiplos de 5 esta nublado, con un 20% de la radiacion\n",
    "    #a todo esto se le aplica una aleatoriedad del 80 al 100%\n",
    "    #los coeficientes son aproximados para Buenos Aires\n",
    "    radiacion = 1000.0\n",
    "    \n",
    "    estacionalidad = 0.75 + 0.25*math.cos((d + 10.0)/365.0*2*math.pi)  \n",
    "    \n",
    "    if d % 5 == 0 :\n",
    "        nubosidad = 0.2\n",
    "    else:\n",
    "        nubosidad = 1.0\n",
    "        \n",
    "    aleatoriedad = random.uniform(0.8, 1.0)\n",
    "    \n",
    "    salida = 7.0 - 1.1*math.cos((d + 10.0)/365.0*2*math.pi)    #es una aproximacion, no basada en modelos matematicos\n",
    "    puesta = 19.0 + 1.1*math.cos((d + 10.0)/365.0*2*math.pi)\n",
    "    \n",
    "    temporalidad = 0.0\n",
    "    if salida <= h and h <= puesta:\n",
    "        temporalidad = math.sin((h-salida)/(puesta-salida)*math.pi)\n",
    "        \n",
    "    return radiacion*estacionalidad*nubosidad*aleatoriedad*temporalidad"
   ]
  },
  {
   "cell_type": "code",
   "execution_count": 82,
   "id": "available-edition",
   "metadata": {
    "executionInfo": {
     "elapsed": 740,
     "status": "ok",
     "timestamp": 1620006594076,
     "user": {
      "displayName": "Juan Sardón",
      "photoUrl": "https://lh3.googleusercontent.com/a-/AOh14Gh0hE4Hw8M0I17k-o2PXxLB5i6gNZV_oUTpZlyJ3Q=s64",
      "userId": "08267034058673099115"
     },
     "user_tz": 180
    },
    "id": "rotary-traffic"
   },
   "outputs": [],
   "source": [
    "m_s_base = [{'y': 0, 'd': 0, 'dd':1.0, 'h': 0.0, 'dt': 1.0, 'temp': 20.0, 'I':1000.0, 'wv': 10.0, 'eg': 1.0}]\n",
    "\n",
    "registros = len(Dias_i)*len(T_i)\n",
    "\n",
    "Escenarios =  pd.DataFrame(m_s_base, index = Escenarios_i)\n",
    "\n",
    "reg = 0\n",
    "for d in Dias_i:\n",
    "    for h in T_i:\n",
    "        Escenarios['d'][reg] = d\n",
    "        Escenarios['h'][reg] = h\n",
    "        Escenarios['I'][reg] = solar_irradiance_simulation(d, h)\n",
    "        Escenarios['wv'][reg] = random.uniform(1.0, 20.0)\n",
    "        reg += 1"
   ]
  },
  {
   "cell_type": "code",
   "execution_count": 83,
   "id": "civilian-publicity",
   "metadata": {
    "colab": {
     "base_uri": "https://localhost:8080/",
     "height": 424
    },
    "executionInfo": {
     "elapsed": 940,
     "status": "ok",
     "timestamp": 1620006595909,
     "user": {
      "displayName": "Juan Sardón",
      "photoUrl": "https://lh3.googleusercontent.com/a-/AOh14Gh0hE4Hw8M0I17k-o2PXxLB5i6gNZV_oUTpZlyJ3Q=s64",
      "userId": "08267034058673099115"
     },
     "user_tz": 180
    },
    "id": "rztNfB1f4udd",
    "outputId": "9d65516d-715a-4f75-a9e9-b820fa6643be"
   },
   "outputs": [
    {
     "data": {
      "text/html": [
       "<div>\n",
       "<style scoped>\n",
       "    .dataframe tbody tr th:only-of-type {\n",
       "        vertical-align: middle;\n",
       "    }\n",
       "\n",
       "    .dataframe tbody tr th {\n",
       "        vertical-align: top;\n",
       "    }\n",
       "\n",
       "    .dataframe thead th {\n",
       "        text-align: right;\n",
       "    }\n",
       "</style>\n",
       "<table border=\"1\" class=\"dataframe\">\n",
       "  <thead>\n",
       "    <tr style=\"text-align: right;\">\n",
       "      <th></th>\n",
       "      <th>y</th>\n",
       "      <th>d</th>\n",
       "      <th>dd</th>\n",
       "      <th>h</th>\n",
       "      <th>dt</th>\n",
       "      <th>temp</th>\n",
       "      <th>I</th>\n",
       "      <th>wv</th>\n",
       "      <th>eg</th>\n",
       "    </tr>\n",
       "  </thead>\n",
       "  <tbody>\n",
       "    <tr>\n",
       "      <th>0</th>\n",
       "      <td>0</td>\n",
       "      <td>0</td>\n",
       "      <td>1.0</td>\n",
       "      <td>0.0</td>\n",
       "      <td>1.0</td>\n",
       "      <td>20.0</td>\n",
       "      <td>0.000000</td>\n",
       "      <td>8.809258</td>\n",
       "      <td>1.0</td>\n",
       "    </tr>\n",
       "    <tr>\n",
       "      <th>1</th>\n",
       "      <td>0</td>\n",
       "      <td>0</td>\n",
       "      <td>1.0</td>\n",
       "      <td>1.0</td>\n",
       "      <td>1.0</td>\n",
       "      <td>20.0</td>\n",
       "      <td>0.000000</td>\n",
       "      <td>14.994982</td>\n",
       "      <td>1.0</td>\n",
       "    </tr>\n",
       "    <tr>\n",
       "      <th>2</th>\n",
       "      <td>0</td>\n",
       "      <td>0</td>\n",
       "      <td>1.0</td>\n",
       "      <td>2.0</td>\n",
       "      <td>1.0</td>\n",
       "      <td>20.0</td>\n",
       "      <td>0.000000</td>\n",
       "      <td>11.665953</td>\n",
       "      <td>1.0</td>\n",
       "    </tr>\n",
       "    <tr>\n",
       "      <th>3</th>\n",
       "      <td>0</td>\n",
       "      <td>0</td>\n",
       "      <td>1.0</td>\n",
       "      <td>3.0</td>\n",
       "      <td>1.0</td>\n",
       "      <td>20.0</td>\n",
       "      <td>0.000000</td>\n",
       "      <td>5.649301</td>\n",
       "      <td>1.0</td>\n",
       "    </tr>\n",
       "    <tr>\n",
       "      <th>4</th>\n",
       "      <td>0</td>\n",
       "      <td>0</td>\n",
       "      <td>1.0</td>\n",
       "      <td>4.0</td>\n",
       "      <td>1.0</td>\n",
       "      <td>20.0</td>\n",
       "      <td>0.000000</td>\n",
       "      <td>15.730802</td>\n",
       "      <td>1.0</td>\n",
       "    </tr>\n",
       "    <tr>\n",
       "      <th>...</th>\n",
       "      <td>...</td>\n",
       "      <td>...</td>\n",
       "      <td>...</td>\n",
       "      <td>...</td>\n",
       "      <td>...</td>\n",
       "      <td>...</td>\n",
       "      <td>...</td>\n",
       "      <td>...</td>\n",
       "      <td>...</td>\n",
       "    </tr>\n",
       "    <tr>\n",
       "      <th>67</th>\n",
       "      <td>0</td>\n",
       "      <td>2</td>\n",
       "      <td>1.0</td>\n",
       "      <td>19.0</td>\n",
       "      <td>1.0</td>\n",
       "      <td>20.0</td>\n",
       "      <td>225.165282</td>\n",
       "      <td>8.822528</td>\n",
       "      <td>1.0</td>\n",
       "    </tr>\n",
       "    <tr>\n",
       "      <th>68</th>\n",
       "      <td>0</td>\n",
       "      <td>2</td>\n",
       "      <td>1.0</td>\n",
       "      <td>20.0</td>\n",
       "      <td>1.0</td>\n",
       "      <td>20.0</td>\n",
       "      <td>16.655944</td>\n",
       "      <td>4.532359</td>\n",
       "      <td>1.0</td>\n",
       "    </tr>\n",
       "    <tr>\n",
       "      <th>69</th>\n",
       "      <td>0</td>\n",
       "      <td>2</td>\n",
       "      <td>1.0</td>\n",
       "      <td>21.0</td>\n",
       "      <td>1.0</td>\n",
       "      <td>20.0</td>\n",
       "      <td>0.000000</td>\n",
       "      <td>4.396741</td>\n",
       "      <td>1.0</td>\n",
       "    </tr>\n",
       "    <tr>\n",
       "      <th>70</th>\n",
       "      <td>0</td>\n",
       "      <td>2</td>\n",
       "      <td>1.0</td>\n",
       "      <td>22.0</td>\n",
       "      <td>1.0</td>\n",
       "      <td>20.0</td>\n",
       "      <td>0.000000</td>\n",
       "      <td>9.416092</td>\n",
       "      <td>1.0</td>\n",
       "    </tr>\n",
       "    <tr>\n",
       "      <th>71</th>\n",
       "      <td>0</td>\n",
       "      <td>2</td>\n",
       "      <td>1.0</td>\n",
       "      <td>23.0</td>\n",
       "      <td>1.0</td>\n",
       "      <td>20.0</td>\n",
       "      <td>0.000000</td>\n",
       "      <td>3.246534</td>\n",
       "      <td>1.0</td>\n",
       "    </tr>\n",
       "  </tbody>\n",
       "</table>\n",
       "<p>72 rows × 9 columns</p>\n",
       "</div>"
      ],
      "text/plain": [
       "    y  d   dd     h   dt  temp           I         wv   eg\n",
       "0   0  0  1.0   0.0  1.0  20.0    0.000000   8.809258  1.0\n",
       "1   0  0  1.0   1.0  1.0  20.0    0.000000  14.994982  1.0\n",
       "2   0  0  1.0   2.0  1.0  20.0    0.000000  11.665953  1.0\n",
       "3   0  0  1.0   3.0  1.0  20.0    0.000000   5.649301  1.0\n",
       "4   0  0  1.0   4.0  1.0  20.0    0.000000  15.730802  1.0\n",
       ".. .. ..  ...   ...  ...   ...         ...        ...  ...\n",
       "67  0  2  1.0  19.0  1.0  20.0  225.165282   8.822528  1.0\n",
       "68  0  2  1.0  20.0  1.0  20.0   16.655944   4.532359  1.0\n",
       "69  0  2  1.0  21.0  1.0  20.0    0.000000   4.396741  1.0\n",
       "70  0  2  1.0  22.0  1.0  20.0    0.000000   9.416092  1.0\n",
       "71  0  2  1.0  23.0  1.0  20.0    0.000000   3.246534  1.0\n",
       "\n",
       "[72 rows x 9 columns]"
      ]
     },
     "execution_count": 83,
     "metadata": {},
     "output_type": "execute_result"
    }
   ],
   "source": [
    "Escenarios"
   ]
  },
  {
   "cell_type": "markdown",
   "id": "roman-municipality",
   "metadata": {},
   "source": [
    "## Model Tests"
   ]
  },
  {
   "cell_type": "code",
   "execution_count": 228,
   "id": "tired-hypothesis",
   "metadata": {},
   "outputs": [],
   "source": [
    "from ModelWriters.Resources.ExtGrid import ExtGrid"
   ]
  },
  {
   "cell_type": "code",
   "execution_count": 229,
   "id": "broadband-suggestion",
   "metadata": {},
   "outputs": [],
   "source": [
    "from ModelWriters.Resources.Load import Load"
   ]
  },
  {
   "cell_type": "code",
   "execution_count": 230,
   "id": "certified-suspect",
   "metadata": {},
   "outputs": [],
   "source": [
    "from ModelWriters.Resources.BaseGen import Generator"
   ]
  },
  {
   "cell_type": "code",
   "execution_count": 231,
   "id": "municipal-tamil",
   "metadata": {},
   "outputs": [],
   "source": [
    "model = pe.ConcreteModel()"
   ]
  },
  {
   "cell_type": "code",
   "execution_count": 232,
   "id": "parliamentary-processing",
   "metadata": {},
   "outputs": [],
   "source": [
    "exg = ExtGrid('EXT')"
   ]
  },
  {
   "cell_type": "code",
   "execution_count": 233,
   "id": "invisible-carry",
   "metadata": {},
   "outputs": [],
   "source": [
    "bg = Generator('GEN')"
   ]
  },
  {
   "cell_type": "code",
   "execution_count": 236,
   "id": "crazy-wilson",
   "metadata": {},
   "outputs": [],
   "source": [
    "load = Load('LOAD')"
   ]
  },
  {
   "cell_type": "code",
   "execution_count": 220,
   "id": "exceptional-macedonia",
   "metadata": {},
   "outputs": [],
   "source": [
    "exg['pr_mw'] = 5.0\n",
    "exg['ic_0_mu'] = 1.2\n",
    "exg['ic_1_mu'] = 0.2\n",
    "exg['oc_0_mu'] = 0.001\n",
    "exg['oc_1_mu'] = 0.005\n",
    "\n",
    "#exg.pa_pu = wind_output"
   ]
  },
  {
   "cell_type": "code",
   "execution_count": 248,
   "id": "different-farmer",
   "metadata": {},
   "outputs": [],
   "source": [
    "load['pr_mw'] = .5\n",
    "load['ic_0_mu'] = 1.2\n",
    "load['ic_1_mu'] = 0.2\n",
    "load['oc_0_mu'] = 0.001\n",
    "load['oc_1_mu'] = 0.005\n",
    "load['pa_pu'] = demand\n",
    "\n",
    "#exg.pa_pu = wind_output"
   ]
  },
  {
   "cell_type": "code",
   "execution_count": null,
   "id": "domestic-relay",
   "metadata": {},
   "outputs": [],
   "source": []
  },
  {
   "cell_type": "code",
   "execution_count": 188,
   "id": "covered-benefit",
   "metadata": {},
   "outputs": [],
   "source": [
    "exg.initialize_model(model, Escenarios)"
   ]
  },
  {
   "cell_type": "code",
   "execution_count": 221,
   "id": "aquatic-highlight",
   "metadata": {},
   "outputs": [],
   "source": [
    "bg['pr_mw'] = 5.0\n",
    "bg['ic_0_mu'] = 1.2\n",
    "bg['ic_1_mu'] = 0.2\n",
    "bg['oc_0_mu'] = 0.001\n",
    "bg['oc_1_mu'] = 0.005\n"
   ]
  },
  {
   "cell_type": "code",
   "execution_count": 222,
   "id": "extended-heating",
   "metadata": {},
   "outputs": [],
   "source": [
    "bg.initialize_model(model, Escenarios)"
   ]
  },
  {
   "cell_type": "code",
   "execution_count": 249,
   "id": "floating-breakfast",
   "metadata": {},
   "outputs": [],
   "source": [
    "load.initialize_model(model, Escenarios)"
   ]
  },
  {
   "cell_type": "code",
   "execution_count": 251,
   "id": "contained-exchange",
   "metadata": {},
   "outputs": [
    {
     "data": {
      "text/plain": [
       "0.26805540019437046"
      ]
     },
     "execution_count": 251,
     "metadata": {},
     "output_type": "execute_result"
    }
   ],
   "source": [
    "load.available_power(10)"
   ]
  },
  {
   "cell_type": "code",
   "execution_count": 223,
   "id": "indonesian-jewelry",
   "metadata": {},
   "outputs": [
    {
     "data": {
      "text/plain": [
       "<pyomo.core.base.var.SimpleVar at 0x182aea086d0>"
      ]
     },
     "execution_count": 223,
     "metadata": {},
     "output_type": "execute_result"
    }
   ],
   "source": [
    "bg.available_power(15)"
   ]
  },
  {
   "cell_type": "code",
   "execution_count": 227,
   "id": "emotional-interaction",
   "metadata": {},
   "outputs": [
    {
     "name": "stdout",
     "output_type": "stream",
     "text": [
      "1.2 + 0.2*GEN_pr_mw\n"
     ]
    }
   ],
   "source": [
    "print(bg.initial_cost())"
   ]
  },
  {
   "cell_type": "code",
   "execution_count": 252,
   "id": "express-division",
   "metadata": {},
   "outputs": [
    {
     "name": "stdout",
     "output_type": "stream",
     "text": [
      "1.3\n"
     ]
    }
   ],
   "source": [
    "print(load.initial_cost())"
   ]
  },
  {
   "cell_type": "code",
   "execution_count": 225,
   "id": "distinguished-block",
   "metadata": {},
   "outputs": [
    {
     "name": "stdout",
     "output_type": "stream",
     "text": [
      "0.001 + 0.005*GEN_p_mw[10]\n"
     ]
    }
   ],
   "source": [
    "print(bg.operating_cost(10))"
   ]
  },
  {
   "cell_type": "code",
   "execution_count": 254,
   "id": "swiss-castle",
   "metadata": {},
   "outputs": [
    {
     "name": "stdout",
     "output_type": "stream",
     "text": [
      "0.0015\n"
     ]
    }
   ],
   "source": [
    "print(load.operating_cost(10))"
   ]
  },
  {
   "cell_type": "code",
   "execution_count": 226,
   "id": "naughty-finger",
   "metadata": {},
   "outputs": [
    {
     "name": "stdout",
     "output_type": "stream",
     "text": [
      "GEN_p_mw[10]\n"
     ]
    }
   ],
   "source": [
    "print(bg.active_power(10))"
   ]
  },
  {
   "cell_type": "code",
   "execution_count": 255,
   "id": "correct-london",
   "metadata": {},
   "outputs": [
    {
     "name": "stdout",
     "output_type": "stream",
     "text": [
      "-0.35245898398589703\n"
     ]
    }
   ],
   "source": [
    "print(load.active_power(10))"
   ]
  },
  {
   "cell_type": "code",
   "execution_count": 256,
   "id": "acknowledged-drink",
   "metadata": {},
   "outputs": [
    {
     "name": "stdout",
     "output_type": "stream",
     "text": [
      "0 Declarations: \n"
     ]
    }
   ],
   "source": [
    "model.pprint()"
   ]
  },
  {
   "cell_type": "code",
   "execution_count": null,
   "id": "committed-version",
   "metadata": {},
   "outputs": [],
   "source": []
  }
 ],
 "metadata": {
  "colab": {
   "name": "Prueba PP-Pyomo-4.ipynb",
   "provenance": []
  },
  "kernelspec": {
   "display_name": "Python 3",
   "language": "python",
   "name": "python3"
  },
  "language_info": {
   "codemirror_mode": {
    "name": "ipython",
    "version": 3
   },
   "file_extension": ".py",
   "mimetype": "text/x-python",
   "name": "python",
   "nbconvert_exporter": "python",
   "pygments_lexer": "ipython3",
   "version": "3.8.8"
  }
 },
 "nbformat": 4,
 "nbformat_minor": 5
}
