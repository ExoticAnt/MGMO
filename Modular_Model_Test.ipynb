{
 "cells": [
  {
   "cell_type": "markdown",
   "id": "american-bruce",
   "metadata": {
    "id": "addressed-terrorism"
   },
   "source": [
    "## Prueba de modelos ##\n",
    "\n",
    "### Version 4: Modelo con 2 DER, planificación anual, granularidad horaria ###\n",
    "\n",
    "Si el modelo tiene que optimizar el balance por horas, tiene 8640 VD, pero sigue teniendo 2 VD binarias"
   ]
  },
  {
   "cell_type": "code",
   "execution_count": 1,
   "id": "sufficient-sucking",
   "metadata": {},
   "outputs": [],
   "source": [
    "%load_ext autoreload"
   ]
  },
  {
   "cell_type": "code",
   "execution_count": 2,
   "id": "absent-sydney",
   "metadata": {},
   "outputs": [],
   "source": [
    "%autoreload 2"
   ]
  },
  {
   "cell_type": "code",
   "execution_count": 3,
   "id": "hazardous-jackson",
   "metadata": {
    "executionInfo": {
     "elapsed": 5552,
     "status": "ok",
     "timestamp": 1620005659685,
     "user": {
      "displayName": "Juan Sardón",
      "photoUrl": "https://lh3.googleusercontent.com/a-/AOh14Gh0hE4Hw8M0I17k-o2PXxLB5i6gNZV_oUTpZlyJ3Q=s64",
      "userId": "08267034058673099115"
     },
     "user_tz": 180
    },
    "id": "aboriginal-joshua"
   },
   "outputs": [],
   "source": [
    "import pandapower as pp"
   ]
  },
  {
   "cell_type": "code",
   "execution_count": 4,
   "id": "apart-palmer",
   "metadata": {
    "executionInfo": {
     "elapsed": 5006,
     "status": "ok",
     "timestamp": 1620005659686,
     "user": {
      "displayName": "Juan Sardón",
      "photoUrl": "https://lh3.googleusercontent.com/a-/AOh14Gh0hE4Hw8M0I17k-o2PXxLB5i6gNZV_oUTpZlyJ3Q=s64",
      "userId": "08267034058673099115"
     },
     "user_tz": 180
    },
    "id": "YkmoER_O9JGU"
   },
   "outputs": [],
   "source": [
    "import os"
   ]
  },
  {
   "cell_type": "code",
   "execution_count": 5,
   "id": "greek-academy",
   "metadata": {
    "executionInfo": {
     "elapsed": 4628,
     "status": "ok",
     "timestamp": 1620005659687,
     "user": {
      "displayName": "Juan Sardón",
      "photoUrl": "https://lh3.googleusercontent.com/a-/AOh14Gh0hE4Hw8M0I17k-o2PXxLB5i6gNZV_oUTpZlyJ3Q=s64",
      "userId": "08267034058673099115"
     },
     "user_tz": 180
    },
    "id": "narrative-census"
   },
   "outputs": [],
   "source": [
    "import pandas as pd"
   ]
  },
  {
   "cell_type": "code",
   "execution_count": 6,
   "id": "civic-street",
   "metadata": {
    "executionInfo": {
     "elapsed": 4248,
     "status": "ok",
     "timestamp": 1620005659688,
     "user": {
      "displayName": "Juan Sardón",
      "photoUrl": "https://lh3.googleusercontent.com/a-/AOh14Gh0hE4Hw8M0I17k-o2PXxLB5i6gNZV_oUTpZlyJ3Q=s64",
      "userId": "08267034058673099115"
     },
     "user_tz": 180
    },
    "id": "collectible-innocent"
   },
   "outputs": [],
   "source": [
    "import pyomo.environ as pe"
   ]
  },
  {
   "cell_type": "code",
   "execution_count": 7,
   "id": "progressive-proposition",
   "metadata": {
    "executionInfo": {
     "elapsed": 3906,
     "status": "ok",
     "timestamp": 1620005659690,
     "user": {
      "displayName": "Juan Sardón",
      "photoUrl": "https://lh3.googleusercontent.com/a-/AOh14Gh0hE4Hw8M0I17k-o2PXxLB5i6gNZV_oUTpZlyJ3Q=s64",
      "userId": "08267034058673099115"
     },
     "user_tz": 180
    },
    "id": "handled-baltimore"
   },
   "outputs": [],
   "source": [
    "import math"
   ]
  },
  {
   "cell_type": "code",
   "execution_count": 8,
   "id": "mobile-suite",
   "metadata": {
    "executionInfo": {
     "elapsed": 3594,
     "status": "ok",
     "timestamp": 1620005659691,
     "user": {
      "displayName": "Juan Sardón",
      "photoUrl": "https://lh3.googleusercontent.com/a-/AOh14Gh0hE4Hw8M0I17k-o2PXxLB5i6gNZV_oUTpZlyJ3Q=s64",
      "userId": "08267034058673099115"
     },
     "user_tz": 180
    },
    "id": "substantial-payroll"
   },
   "outputs": [],
   "source": [
    "import random"
   ]
  },
  {
   "cell_type": "code",
   "execution_count": 9,
   "id": "romantic-chosen",
   "metadata": {
    "executionInfo": {
     "elapsed": 3285,
     "status": "ok",
     "timestamp": 1620005659691,
     "user": {
      "displayName": "Juan Sardón",
      "photoUrl": "https://lh3.googleusercontent.com/a-/AOh14Gh0hE4Hw8M0I17k-o2PXxLB5i6gNZV_oUTpZlyJ3Q=s64",
      "userId": "08267034058673099115"
     },
     "user_tz": 180
    },
    "id": "c0X5ABkvJYuo"
   },
   "outputs": [],
   "source": [
    "import itertools"
   ]
  },
  {
   "cell_type": "code",
   "execution_count": 10,
   "id": "beginning-balance",
   "metadata": {
    "executionInfo": {
     "elapsed": 3074,
     "status": "ok",
     "timestamp": 1620005659693,
     "user": {
      "displayName": "Juan Sardón",
      "photoUrl": "https://lh3.googleusercontent.com/a-/AOh14Gh0hE4Hw8M0I17k-o2PXxLB5i6gNZV_oUTpZlyJ3Q=s64",
      "userId": "08267034058673099115"
     },
     "user_tz": 180
    },
    "id": "united-bronze"
   },
   "outputs": [],
   "source": [
    "import matplotlib.pyplot as plt"
   ]
  },
  {
   "cell_type": "code",
   "execution_count": 11,
   "id": "altered-reserve",
   "metadata": {},
   "outputs": [],
   "source": [
    "import numpy as np"
   ]
  },
  {
   "cell_type": "code",
   "execution_count": 12,
   "id": "opposite-advocate",
   "metadata": {},
   "outputs": [],
   "source": [
    "import ModelWriters.SimpleBusbar"
   ]
  },
  {
   "cell_type": "markdown",
   "id": "billion-civilian",
   "metadata": {
    "id": "fifteen-pakistan"
   },
   "source": [
    "Variables que define el modelo:\n",
    "\n",
    "y para el año\n",
    "\n",
    "d para el día del año\n",
    "\n",
    "h para la hora del día\n",
    "\n",
    "dt la granularidad del modelo, en horas\n",
    "\n",
    "\n",
    "temp la temperatura\n",
    "\n",
    "wv la velocidad del viento\n",
    "\n",
    "I la irradiación solar\n",
    "\n",
    "\n",
    "eg el crecimiento económico en pu respecto al año 0\n",
    "\n",
    "\n",
    "Estas variables llegan como parámetros en forma de diccionario en el argumento 'model_status' (ver este nombre)\n",
    "\n",
    "Todas las funciones reciben este argumento, la lógica de la función indica que valor retorna. Pr ejemplo, si la granularidad es 24 h, debe retornar el valor medio del parámetro producido."
   ]
  },
  {
   "cell_type": "markdown",
   "id": "proof-acrylic",
   "metadata": {
    "id": "pTK9BGaY4BEu"
   },
   "source": [
    "## Construcción de Escenarios"
   ]
  },
  {
   "cell_type": "code",
   "execution_count": 13,
   "id": "fossil-navigation",
   "metadata": {},
   "outputs": [],
   "source": [
    "import ModelWriters.Simulation.Solar as Solar\n",
    "import ModelWriters.Simulation.Demand as Demand"
   ]
  },
  {
   "cell_type": "code",
   "execution_count": null,
   "id": "retained-vietnamese",
   "metadata": {},
   "outputs": [],
   "source": []
  },
  {
   "cell_type": "code",
   "execution_count": 294,
   "id": "egyptian-utility",
   "metadata": {
    "executionInfo": {
     "elapsed": 1184,
     "status": "ok",
     "timestamp": 1620006589608,
     "user": {
      "displayName": "Juan Sardón",
      "photoUrl": "https://lh3.googleusercontent.com/a-/AOh14Gh0hE4Hw8M0I17k-o2PXxLB5i6gNZV_oUTpZlyJ3Q=s64",
      "userId": "08267034058673099115"
     },
     "user_tz": 180
    },
    "id": "posted-description"
   },
   "outputs": [],
   "source": [
    "dias = 365\n",
    "años = 5"
   ]
  },
  {
   "cell_type": "code",
   "execution_count": 295,
   "id": "raising-chocolate",
   "metadata": {
    "executionInfo": {
     "elapsed": 804,
     "status": "ok",
     "timestamp": 1620006591214,
     "user": {
      "displayName": "Juan Sardón",
      "photoUrl": "https://lh3.googleusercontent.com/a-/AOh14Gh0hE4Hw8M0I17k-o2PXxLB5i6gNZV_oUTpZlyJ3Q=s64",
      "userId": "08267034058673099115"
     },
     "user_tz": 180
    },
    "id": "intelligent-terrace"
   },
   "outputs": [],
   "source": [
    "#el rango de horas:\n",
    "T_i = range(24)\n",
    "\n",
    "#el rango de dias:\n",
    "Dias_i = range(dias)\n",
    "\n",
    "Escenarios_i = range(len(T_i)*len(Dias_i))"
   ]
  },
  {
   "cell_type": "code",
   "execution_count": 296,
   "id": "mathematical-ambassador",
   "metadata": {
    "executionInfo": {
     "elapsed": 740,
     "status": "ok",
     "timestamp": 1620006594076,
     "user": {
      "displayName": "Juan Sardón",
      "photoUrl": "https://lh3.googleusercontent.com/a-/AOh14Gh0hE4Hw8M0I17k-o2PXxLB5i6gNZV_oUTpZlyJ3Q=s64",
      "userId": "08267034058673099115"
     },
     "user_tz": 180
    },
    "id": "rotary-traffic"
   },
   "outputs": [],
   "source": [
    "m_s_base = [{'y': 0, 'd': 0, 'dd':1.0, 'h': 0.0, 'dt': 1.0, 'temp': 20.0, 'I':1000.0, 'wv': 10.0, 'eg': 1.0}]\n",
    "\n",
    "registros = len(Dias_i)*len(T_i)\n",
    "\n",
    "Escenarios =  pd.DataFrame(m_s_base, index = Escenarios_i)\n",
    "\n",
    "reg = 0\n",
    "for d in Dias_i:\n",
    "    for h in T_i:\n",
    "        Escenarios['d'][reg] = d\n",
    "        Escenarios['h'][reg] = h\n",
    "        Escenarios['I'][reg] = Solar.solar_irradiance_seasoned_randomized(d, h)\n",
    "        Escenarios['wv'][reg] = random.uniform(1.0, 20.0)\n",
    "        reg += 1"
   ]
  },
  {
   "cell_type": "code",
   "execution_count": 297,
   "id": "inner-knife",
   "metadata": {
    "colab": {
     "base_uri": "https://localhost:8080/",
     "height": 424
    },
    "executionInfo": {
     "elapsed": 940,
     "status": "ok",
     "timestamp": 1620006595909,
     "user": {
      "displayName": "Juan Sardón",
      "photoUrl": "https://lh3.googleusercontent.com/a-/AOh14Gh0hE4Hw8M0I17k-o2PXxLB5i6gNZV_oUTpZlyJ3Q=s64",
      "userId": "08267034058673099115"
     },
     "user_tz": 180
    },
    "id": "rztNfB1f4udd",
    "outputId": "9d65516d-715a-4f75-a9e9-b820fa6643be"
   },
   "outputs": [
    {
     "data": {
      "text/html": [
       "<div>\n",
       "<style scoped>\n",
       "    .dataframe tbody tr th:only-of-type {\n",
       "        vertical-align: middle;\n",
       "    }\n",
       "\n",
       "    .dataframe tbody tr th {\n",
       "        vertical-align: top;\n",
       "    }\n",
       "\n",
       "    .dataframe thead th {\n",
       "        text-align: right;\n",
       "    }\n",
       "</style>\n",
       "<table border=\"1\" class=\"dataframe\">\n",
       "  <thead>\n",
       "    <tr style=\"text-align: right;\">\n",
       "      <th></th>\n",
       "      <th>y</th>\n",
       "      <th>d</th>\n",
       "      <th>dd</th>\n",
       "      <th>h</th>\n",
       "      <th>dt</th>\n",
       "      <th>temp</th>\n",
       "      <th>I</th>\n",
       "      <th>wv</th>\n",
       "      <th>eg</th>\n",
       "    </tr>\n",
       "  </thead>\n",
       "  <tbody>\n",
       "    <tr>\n",
       "      <th>0</th>\n",
       "      <td>0</td>\n",
       "      <td>0</td>\n",
       "      <td>1.0</td>\n",
       "      <td>0.0</td>\n",
       "      <td>1.0</td>\n",
       "      <td>20.0</td>\n",
       "      <td>0.000000</td>\n",
       "      <td>9.215733</td>\n",
       "      <td>1.0</td>\n",
       "    </tr>\n",
       "    <tr>\n",
       "      <th>1</th>\n",
       "      <td>0</td>\n",
       "      <td>0</td>\n",
       "      <td>1.0</td>\n",
       "      <td>1.0</td>\n",
       "      <td>1.0</td>\n",
       "      <td>20.0</td>\n",
       "      <td>0.000000</td>\n",
       "      <td>19.225546</td>\n",
       "      <td>1.0</td>\n",
       "    </tr>\n",
       "    <tr>\n",
       "      <th>2</th>\n",
       "      <td>0</td>\n",
       "      <td>0</td>\n",
       "      <td>1.0</td>\n",
       "      <td>2.0</td>\n",
       "      <td>1.0</td>\n",
       "      <td>20.0</td>\n",
       "      <td>0.000000</td>\n",
       "      <td>15.095897</td>\n",
       "      <td>1.0</td>\n",
       "    </tr>\n",
       "    <tr>\n",
       "      <th>3</th>\n",
       "      <td>0</td>\n",
       "      <td>0</td>\n",
       "      <td>1.0</td>\n",
       "      <td>3.0</td>\n",
       "      <td>1.0</td>\n",
       "      <td>20.0</td>\n",
       "      <td>0.000000</td>\n",
       "      <td>1.198656</td>\n",
       "      <td>1.0</td>\n",
       "    </tr>\n",
       "    <tr>\n",
       "      <th>4</th>\n",
       "      <td>0</td>\n",
       "      <td>0</td>\n",
       "      <td>1.0</td>\n",
       "      <td>4.0</td>\n",
       "      <td>1.0</td>\n",
       "      <td>20.0</td>\n",
       "      <td>0.000000</td>\n",
       "      <td>16.852335</td>\n",
       "      <td>1.0</td>\n",
       "    </tr>\n",
       "    <tr>\n",
       "      <th>...</th>\n",
       "      <td>...</td>\n",
       "      <td>...</td>\n",
       "      <td>...</td>\n",
       "      <td>...</td>\n",
       "      <td>...</td>\n",
       "      <td>...</td>\n",
       "      <td>...</td>\n",
       "      <td>...</td>\n",
       "      <td>...</td>\n",
       "    </tr>\n",
       "    <tr>\n",
       "      <th>8755</th>\n",
       "      <td>0</td>\n",
       "      <td>364</td>\n",
       "      <td>1.0</td>\n",
       "      <td>19.0</td>\n",
       "      <td>1.0</td>\n",
       "      <td>20.0</td>\n",
       "      <td>200.030984</td>\n",
       "      <td>4.625084</td>\n",
       "      <td>1.0</td>\n",
       "    </tr>\n",
       "    <tr>\n",
       "      <th>8756</th>\n",
       "      <td>0</td>\n",
       "      <td>364</td>\n",
       "      <td>1.0</td>\n",
       "      <td>20.0</td>\n",
       "      <td>1.0</td>\n",
       "      <td>20.0</td>\n",
       "      <td>17.969992</td>\n",
       "      <td>13.686586</td>\n",
       "      <td>1.0</td>\n",
       "    </tr>\n",
       "    <tr>\n",
       "      <th>8757</th>\n",
       "      <td>0</td>\n",
       "      <td>364</td>\n",
       "      <td>1.0</td>\n",
       "      <td>21.0</td>\n",
       "      <td>1.0</td>\n",
       "      <td>20.0</td>\n",
       "      <td>0.000000</td>\n",
       "      <td>12.334902</td>\n",
       "      <td>1.0</td>\n",
       "    </tr>\n",
       "    <tr>\n",
       "      <th>8758</th>\n",
       "      <td>0</td>\n",
       "      <td>364</td>\n",
       "      <td>1.0</td>\n",
       "      <td>22.0</td>\n",
       "      <td>1.0</td>\n",
       "      <td>20.0</td>\n",
       "      <td>0.000000</td>\n",
       "      <td>15.198098</td>\n",
       "      <td>1.0</td>\n",
       "    </tr>\n",
       "    <tr>\n",
       "      <th>8759</th>\n",
       "      <td>0</td>\n",
       "      <td>364</td>\n",
       "      <td>1.0</td>\n",
       "      <td>23.0</td>\n",
       "      <td>1.0</td>\n",
       "      <td>20.0</td>\n",
       "      <td>0.000000</td>\n",
       "      <td>5.362424</td>\n",
       "      <td>1.0</td>\n",
       "    </tr>\n",
       "  </tbody>\n",
       "</table>\n",
       "<p>8760 rows × 9 columns</p>\n",
       "</div>"
      ],
      "text/plain": [
       "      y    d   dd     h   dt  temp           I         wv   eg\n",
       "0     0    0  1.0   0.0  1.0  20.0    0.000000   9.215733  1.0\n",
       "1     0    0  1.0   1.0  1.0  20.0    0.000000  19.225546  1.0\n",
       "2     0    0  1.0   2.0  1.0  20.0    0.000000  15.095897  1.0\n",
       "3     0    0  1.0   3.0  1.0  20.0    0.000000   1.198656  1.0\n",
       "4     0    0  1.0   4.0  1.0  20.0    0.000000  16.852335  1.0\n",
       "...  ..  ...  ...   ...  ...   ...         ...        ...  ...\n",
       "8755  0  364  1.0  19.0  1.0  20.0  200.030984   4.625084  1.0\n",
       "8756  0  364  1.0  20.0  1.0  20.0   17.969992  13.686586  1.0\n",
       "8757  0  364  1.0  21.0  1.0  20.0    0.000000  12.334902  1.0\n",
       "8758  0  364  1.0  22.0  1.0  20.0    0.000000  15.198098  1.0\n",
       "8759  0  364  1.0  23.0  1.0  20.0    0.000000   5.362424  1.0\n",
       "\n",
       "[8760 rows x 9 columns]"
      ]
     },
     "execution_count": 297,
     "metadata": {},
     "output_type": "execute_result"
    }
   ],
   "source": [
    "Escenarios"
   ]
  },
  {
   "cell_type": "markdown",
   "id": "sacred-guess",
   "metadata": {
    "tags": []
   },
   "source": [
    "## Model Tests"
   ]
  },
  {
   "cell_type": "code",
   "execution_count": null,
   "id": "tight-glucose",
   "metadata": {},
   "outputs": [],
   "source": [
    "from ModelWriters.Resources.ExtGrid import ExtGrid"
   ]
  },
  {
   "cell_type": "code",
   "execution_count": null,
   "id": "musical-lounge",
   "metadata": {},
   "outputs": [],
   "source": [
    "from ModelWriters.Resources.Load import Load"
   ]
  },
  {
   "cell_type": "code",
   "execution_count": null,
   "id": "adjusted-christmas",
   "metadata": {},
   "outputs": [],
   "source": [
    "from ModelWriters.Resources.BaseGen import Generator, DiscreteGenerator"
   ]
  },
  {
   "cell_type": "code",
   "execution_count": null,
   "id": "acting-knight",
   "metadata": {},
   "outputs": [],
   "source": []
  },
  {
   "cell_type": "code",
   "execution_count": null,
   "id": "absent-debut",
   "metadata": {},
   "outputs": [],
   "source": [
    "from ModelWriters.Resources.Storage import Storage"
   ]
  },
  {
   "cell_type": "code",
   "execution_count": null,
   "id": "pregnant-lighting",
   "metadata": {},
   "outputs": [],
   "source": []
  },
  {
   "cell_type": "code",
   "execution_count": null,
   "id": "alike-black",
   "metadata": {},
   "outputs": [],
   "source": [
    "model = pe.ConcreteModel()"
   ]
  },
  {
   "cell_type": "code",
   "execution_count": null,
   "id": "genetic-matter",
   "metadata": {},
   "outputs": [],
   "source": [
    "exg = ExtGrid('EXT')"
   ]
  },
  {
   "cell_type": "code",
   "execution_count": null,
   "id": "ongoing-albert",
   "metadata": {},
   "outputs": [],
   "source": [
    "bg = Generator('GEN')"
   ]
  },
  {
   "cell_type": "code",
   "execution_count": null,
   "id": "frequent-fleece",
   "metadata": {},
   "outputs": [],
   "source": [
    "dg = DiscreteGenerator('DGEN')"
   ]
  },
  {
   "cell_type": "code",
   "execution_count": null,
   "id": "removable-error",
   "metadata": {},
   "outputs": [],
   "source": [
    "load = Load('LOAD')"
   ]
  },
  {
   "cell_type": "code",
   "execution_count": null,
   "id": "neural-casino",
   "metadata": {},
   "outputs": [],
   "source": [
    "storage = Storage('STORAGE')"
   ]
  },
  {
   "cell_type": "code",
   "execution_count": null,
   "id": "cognitive-roots",
   "metadata": {},
   "outputs": [],
   "source": [
    "exg['pr_mw'] = 5.0\n",
    "exg['ic_0_mu'] = 1.2\n",
    "exg['ic_1_mu'] = 0.2\n",
    "exg['oc_0_mu'] = 0.001\n",
    "exg['oc_1_mu'] = 0.005\n",
    "\n",
    "#exg.pa_pu = wind_output"
   ]
  },
  {
   "cell_type": "code",
   "execution_count": null,
   "id": "bibliographic-reviewer",
   "metadata": {},
   "outputs": [],
   "source": [
    "load['pr_mw'] = .5\n",
    "load['ic_0_mu'] = 1.2\n",
    "load['ic_1_mu'] = 0.2\n",
    "load['oc_0_mu'] = 0.001\n",
    "load['oc_1_mu'] = 0.005\n",
    "load['pa_pu'] = Demand.scalonated_seasoned_randomized_demand\n",
    "\n",
    "#exg.pa_pu = wind_output"
   ]
  },
  {
   "cell_type": "code",
   "execution_count": null,
   "id": "jewish-mention",
   "metadata": {},
   "outputs": [],
   "source": [
    "dg['ic_0_mu'] = 0.44\n",
    "dg['ic_1_mu'] = 0.2\n",
    "dg['unit_cost_mu'] = 0.3\n",
    "dg['oc_0_mu'] = 0.001\n",
    "dg['oc_1_mu'] = 0.005"
   ]
  },
  {
   "cell_type": "code",
   "execution_count": null,
   "id": "political-roommate",
   "metadata": {},
   "outputs": [],
   "source": [
    "exg.initialize_model(model, Escenarios)"
   ]
  },
  {
   "cell_type": "code",
   "execution_count": null,
   "id": "random-arbitration",
   "metadata": {},
   "outputs": [],
   "source": [
    "bg['pr_mw'] = 5.0\n",
    "bg['ic_0_mu'] = 1.2\n",
    "bg['ic_1_mu'] = 0.2\n",
    "bg['oc_0_mu'] = 0.001\n",
    "bg['oc_1_mu'] = 0.005\n"
   ]
  },
  {
   "cell_type": "code",
   "execution_count": null,
   "id": "included-weight",
   "metadata": {},
   "outputs": [],
   "source": [
    "bg.initialize_model(model, Escenarios)"
   ]
  },
  {
   "cell_type": "code",
   "execution_count": null,
   "id": "diagnostic-tyler",
   "metadata": {},
   "outputs": [],
   "source": [
    "load.initialize_model(model, Escenarios)"
   ]
  },
  {
   "cell_type": "code",
   "execution_count": null,
   "id": "republican-demographic",
   "metadata": {},
   "outputs": [],
   "source": [
    "dg.initialize_model(model, Escenarios)"
   ]
  },
  {
   "cell_type": "code",
   "execution_count": null,
   "id": "immediate-shield",
   "metadata": {},
   "outputs": [],
   "source": [
    "load.available_power(10)"
   ]
  },
  {
   "cell_type": "code",
   "execution_count": null,
   "id": "reflected-details",
   "metadata": {},
   "outputs": [],
   "source": [
    "bg.available_power(15)"
   ]
  },
  {
   "cell_type": "code",
   "execution_count": null,
   "id": "stainless-nebraska",
   "metadata": {},
   "outputs": [],
   "source": [
    "print(bg.initial_cost())"
   ]
  },
  {
   "cell_type": "code",
   "execution_count": null,
   "id": "rubber-colorado",
   "metadata": {},
   "outputs": [],
   "source": [
    "print(load.initial_cost())"
   ]
  },
  {
   "cell_type": "code",
   "execution_count": null,
   "id": "sticky-optimization",
   "metadata": {},
   "outputs": [],
   "source": [
    "print(bg.operating_cost(10))"
   ]
  },
  {
   "cell_type": "code",
   "execution_count": null,
   "id": "impressive-wonder",
   "metadata": {},
   "outputs": [],
   "source": [
    "print(load.operating_cost(10))"
   ]
  },
  {
   "cell_type": "code",
   "execution_count": null,
   "id": "functioning-print",
   "metadata": {},
   "outputs": [],
   "source": [
    "print(bg.active_power(10))"
   ]
  },
  {
   "cell_type": "code",
   "execution_count": null,
   "id": "developed-gasoline",
   "metadata": {},
   "outputs": [],
   "source": [
    "print(load.active_power(10))"
   ]
  },
  {
   "cell_type": "code",
   "execution_count": null,
   "id": "static-mandate",
   "metadata": {},
   "outputs": [],
   "source": [
    "storage.initialize_model(model, Escenarios)"
   ]
  },
  {
   "cell_type": "code",
   "execution_count": null,
   "id": "swiss-future",
   "metadata": {},
   "outputs": [],
   "source": [
    "model.pprint()"
   ]
  },
  {
   "cell_type": "markdown",
   "id": "eight-scientist",
   "metadata": {},
   "source": [
    "## Line Model"
   ]
  },
  {
   "cell_type": "code",
   "execution_count": 51,
   "id": "amateur-newport",
   "metadata": {},
   "outputs": [],
   "source": [
    "from ModelWriters.Resources.SimpleLine import SimpleLine"
   ]
  },
  {
   "cell_type": "code",
   "execution_count": 52,
   "id": "medium-swiss",
   "metadata": {},
   "outputs": [],
   "source": [
    "model = pe.ConcreteModel()"
   ]
  },
  {
   "cell_type": "code",
   "execution_count": 53,
   "id": "another-cricket",
   "metadata": {},
   "outputs": [],
   "source": [
    "sl = SimpleLine('Aquí', 'Allá')"
   ]
  },
  {
   "cell_type": "code",
   "execution_count": 54,
   "id": "accomplished-performer",
   "metadata": {},
   "outputs": [
    {
     "name": "stdout",
     "output_type": "stream",
     "text": [
      "Line: Aquí_Allá\n"
     ]
    }
   ],
   "source": [
    "print(sl)"
   ]
  },
  {
   "cell_type": "code",
   "execution_count": 55,
   "id": "going-incidence",
   "metadata": {},
   "outputs": [],
   "source": [
    "sl.initialize_model(model, Escenarios)"
   ]
  },
  {
   "cell_type": "code",
   "execution_count": 56,
   "id": "chronic-synthesis",
   "metadata": {},
   "outputs": [
    {
     "name": "stdout",
     "output_type": "stream",
     "text": [
      "1 Set Declarations\n",
      "    Aquí_Allá_pf_mw_index : Size=1, Index=None, Ordered=False\n",
      "        Key  : Dimen : Domain : Size : Members\n",
      "        None :     1 :    Any :   24 : {0, 1, 2, 3, 4, 5, 6, 7, 8, 9, 10, 11, 12, 13, 14, 15, 16, 17, 18, 19, 20, 21, 22, 23}\n",
      "\n",
      "1 Var Declarations\n",
      "    Aquí_Allá_pf_mw : Size=24, Index=Aquí_Allá_pf_mw_index\n",
      "        Key : Lower : Value : Upper : Fixed : Stale : Domain\n",
      "          0 :   1.5 :  None :  -1.5 : False :  True :  Reals\n",
      "          1 :   1.5 :  None :  -1.5 : False :  True :  Reals\n",
      "          2 :   1.5 :  None :  -1.5 : False :  True :  Reals\n",
      "          3 :   1.5 :  None :  -1.5 : False :  True :  Reals\n",
      "          4 :   1.5 :  None :  -1.5 : False :  True :  Reals\n",
      "          5 :   1.5 :  None :  -1.5 : False :  True :  Reals\n",
      "          6 :   1.5 :  None :  -1.5 : False :  True :  Reals\n",
      "          7 :   1.5 :  None :  -1.5 : False :  True :  Reals\n",
      "          8 :   1.5 :  None :  -1.5 : False :  True :  Reals\n",
      "          9 :   1.5 :  None :  -1.5 : False :  True :  Reals\n",
      "         10 :   1.5 :  None :  -1.5 : False :  True :  Reals\n",
      "         11 :   1.5 :  None :  -1.5 : False :  True :  Reals\n",
      "         12 :   1.5 :  None :  -1.5 : False :  True :  Reals\n",
      "         13 :   1.5 :  None :  -1.5 : False :  True :  Reals\n",
      "         14 :   1.5 :  None :  -1.5 : False :  True :  Reals\n",
      "         15 :   1.5 :  None :  -1.5 : False :  True :  Reals\n",
      "         16 :   1.5 :  None :  -1.5 : False :  True :  Reals\n",
      "         17 :   1.5 :  None :  -1.5 : False :  True :  Reals\n",
      "         18 :   1.5 :  None :  -1.5 : False :  True :  Reals\n",
      "         19 :   1.5 :  None :  -1.5 : False :  True :  Reals\n",
      "         20 :   1.5 :  None :  -1.5 : False :  True :  Reals\n",
      "         21 :   1.5 :  None :  -1.5 : False :  True :  Reals\n",
      "         22 :   1.5 :  None :  -1.5 : False :  True :  Reals\n",
      "         23 :   1.5 :  None :  -1.5 : False :  True :  Reals\n",
      "\n",
      "2 Declarations: Aquí_Allá_pf_mw_index Aquí_Allá_pf_mw\n"
     ]
    }
   ],
   "source": [
    "model.pprint()"
   ]
  },
  {
   "cell_type": "markdown",
   "id": "advisory-cooperation",
   "metadata": {},
   "source": [
    "## Line Cap Model"
   ]
  },
  {
   "cell_type": "code",
   "execution_count": 276,
   "id": "controversial-miracle",
   "metadata": {},
   "outputs": [],
   "source": [
    "from ModelWriters.Resources.ExtGrid import ExtGrid\n",
    "from ModelWriters.Resources.Load import Load\n",
    "from ModelWriters.Resources.PV import PVGenerator\n",
    "from ModelWriters.Resources.WT import WTGenerator\n",
    "from ModelWriters.Simulation import ElectricityCost"
   ]
  },
  {
   "cell_type": "code",
   "execution_count": 277,
   "id": "light-glucose",
   "metadata": {},
   "outputs": [
    {
     "data": {
      "text/plain": [
       "1"
      ]
     },
     "execution_count": 277,
     "metadata": {},
     "output_type": "execute_result"
    }
   ],
   "source": [
    "net = pp.create_empty_network() \n",
    "b0 = pp.create_bus(net, vn_kv=13.2)\n",
    "\n",
    "pp.create_ext_grid(net, bus=b0)\n",
    "\n",
    "#ramal 1\n",
    "b11 = pp.create_bus(net, vn_kv=13.2)\n",
    "b12 = pp.create_bus(net, vn_kv=13.2)\n",
    "\n",
    "pp.create_line(net, from_bus=b0, to_bus=b11, length_km=0.8, std_type=\"NAYY 4x50 SE\")\n",
    "pp.create_line(net, from_bus=b11, to_bus=b12, length_km=2.1, std_type=\"NAYY 4x50 SE\")\n",
    "\n",
    "pp.create_sgen(net, b11, p_mw=0.075, q_mvar=0.025, max_p_mw=0.15, max_q_mvar=0.15)\n",
    "pp.create_load(net, bus=b12, p_mw=0.350)\n",
    "\n",
    "\n",
    "#ramal 2\n",
    "b21 = pp.create_bus(net, vn_kv=13.2)\n",
    "pp.create_line(net, from_bus=b0, to_bus=b21, length_km=5.0, std_type=\"NAYY 4x50 SE\")\n",
    "pp.create_sgen(net, b21, p_mw=0.15, q_mvar=0.00, max_p_mw=0.40, max_q_mvar=0.10)\n",
    "pp.create_storage(net, bus=b21, p_mw=0.25, q_mvar=0.1, max_e_mwh = 3.0)\n",
    "\n",
    "#ramal 3\n",
    "b31 = pp.create_bus(net, vn_kv=13.2)\n",
    "b32 = pp.create_bus(net, vn_kv=13.2)\n",
    "pp.create_line(net, from_bus=b0, to_bus=b31, length_km=0.5, std_type=\"NAYY 4x50 SE\")\n",
    "pp.create_line(net, from_bus=b31, to_bus=b32, length_km=1.5, std_type=\"NAYY 4x50 SE\")\n",
    "pp.create_sgen(net, b31, p_mw=0.08, q_mvar=0.00, max_p_mw=0.30, max_q_mvar=0.10)\n",
    "pp.create_load(net, bus=b32, p_mw=0.85, q_mvar=0.33)\n",
    "\n",
    "\n",
    "#ramal 4\n",
    "b41 = pp.create_bus(net, vn_kv=13.2)\n",
    "pp.create_line(net, from_bus=b0, to_bus=b41, length_km=0.5, std_type=\"NAYY 4x50 SE\")\n",
    "pp.create_load(net, bus=b41, p_mw=0.22, q_mvar=0.05)\n",
    "pp.create_storage(net, bus=b41, p_mw=0.5, q_mvar=0.1, max_e_mwh = 5.0)\n"
   ]
  },
  {
   "cell_type": "code",
   "execution_count": 278,
   "id": "cultural-elevation",
   "metadata": {},
   "outputs": [],
   "source": [
    "def net_add_optfw(net):\n",
    "    #agregamos parámetros para el modelo de optimización\n",
    "    tables = [net.ext_grid, net.load, net.sgen, net.storage, net.line]\n",
    "\n",
    "    for t in tables: \n",
    "        #initial cost\n",
    "        t['model'] = None\n",
    "\n",
    "net_add_optfw(net)"
   ]
  },
  {
   "cell_type": "code",
   "execution_count": null,
   "id": "bright-interface",
   "metadata": {},
   "outputs": [],
   "source": []
  },
  {
   "cell_type": "code",
   "execution_count": 279,
   "id": "molecular-syracuse",
   "metadata": {},
   "outputs": [],
   "source": [
    "net.ext_grid['model'] = None\n",
    "m = ExtGrid('SET')\n",
    "m['pr_mw'] = 5.0\n",
    "m['pa_pu'] = 1.0\n",
    "m['oc_1_mu'] = ElectricityCost.fixed_scalonated_electricity_cost\n",
    "net.ext_grid['model'][0] = m\n",
    "net.ext_grid['name'][0] = 'SET'\n",
    "\n",
    "m = Load('Tornquinst')\n",
    "m['pa_pu'] = Demand.scalonated_seasoned_randomized_demand\n",
    "m['pr_mw'] = net.load['p_mw'][0]\n",
    "net.load['model'][0] = m\n",
    "\n",
    "\n",
    "m = Load('Bell Ville')\n",
    "m['pa_pu'] = Demand.scalonated_seasoned_randomized_demand\n",
    "m['pr_mw'] = net.load['p_mw'][1]\n",
    "net.load['model'][1] = m\n",
    "\n",
    "m = Load('City Bell')\n",
    "m['pa_pu'] = Demand.scalonated_seasoned_randomized_demand\n",
    "m['pr_mw'] = net.load['p_mw'][2]\n",
    "net.load['model'][2] = m\n",
    "\n",
    "m = PVGenerator('PV1')\n",
    "m.ic_0_mu = 0.5\n",
    "m.ic_1_mu = 0.05\n",
    "m.oc_0_mu = 0.0\n",
    "m.oc_1_mu = 400e-6\n",
    "\n",
    "net.sgen['name'][0] = m.name\n",
    "net.sgen['model'][0] = m\n",
    "\n",
    "\n",
    "m = PVGenerator('PV2')\n",
    "m.ic_0_mu = 3.0\n",
    "m.ic_1_mu = 0.75\n",
    "m.oc_0_mu = 0.0\n",
    "m.oc_1_mu = 500e-6\n",
    "\n",
    "net.sgen['name'][2] = m.name\n",
    "net.sgen['model'][2] = m\n",
    "\n",
    "m = WTGenerator('WT1')\n",
    "m.ic_0_mu = 5.0\n",
    "m.ic_1_mu = 3.0\n",
    "m.oc_0_mu = 0.0\n",
    "m.oc_1_mu = 700e-6\n",
    "\n",
    "net.sgen['name'][1] = m.name\n",
    "net.sgen['model'][1] = m\n",
    "\n",
    "\n",
    "\n",
    "\"\"\"\n",
    "m = Storage.Storage('ST1')\n",
    "\n",
    "m.pa_pu = 1.0\n",
    "m.ic_0_mu = 0.5\n",
    "m.ic_1_mu = 1.0\n",
    "m.ic_1_mu_cap = 0.5\n",
    "m.oc_0_mu = 0.0\n",
    "\n",
    "net.storage['name'][0] = 'ST1'\n",
    "net.storage['model'][0] = m\n",
    "\n",
    "\n",
    "m = Storage.Storage('ST2')\n",
    "net.storage['name'][1] = 'ST2'\n",
    "net.storage['model'][1] = m\n",
    "\n",
    "m.pa_pu = 1.0\n",
    "m.ic_0_mu = 0.5\n",
    "m.ic_1_mu = 2.0\n",
    "m.ic_1_mu_cap = 7.0\n",
    "m.oc_0_mu = 0.0\n",
    "m.oc_1_mu = 1400e-6\n",
    "\"\"\"\n",
    "None\n"
   ]
  },
  {
   "cell_type": "code",
   "execution_count": 280,
   "id": "infinite-compatibility",
   "metadata": {},
   "outputs": [
    {
     "data": {
      "text/html": [
       "<div>\n",
       "<style scoped>\n",
       "    .dataframe tbody tr th:only-of-type {\n",
       "        vertical-align: middle;\n",
       "    }\n",
       "\n",
       "    .dataframe tbody tr th {\n",
       "        vertical-align: top;\n",
       "    }\n",
       "\n",
       "    .dataframe thead th {\n",
       "        text-align: right;\n",
       "    }\n",
       "</style>\n",
       "<table border=\"1\" class=\"dataframe\">\n",
       "  <thead>\n",
       "    <tr style=\"text-align: right;\">\n",
       "      <th></th>\n",
       "      <th>name</th>\n",
       "      <th>std_type</th>\n",
       "      <th>from_bus</th>\n",
       "      <th>to_bus</th>\n",
       "      <th>length_km</th>\n",
       "      <th>r_ohm_per_km</th>\n",
       "      <th>x_ohm_per_km</th>\n",
       "      <th>c_nf_per_km</th>\n",
       "      <th>g_us_per_km</th>\n",
       "      <th>max_i_ka</th>\n",
       "      <th>df</th>\n",
       "      <th>parallel</th>\n",
       "      <th>type</th>\n",
       "      <th>in_service</th>\n",
       "      <th>model</th>\n",
       "    </tr>\n",
       "  </thead>\n",
       "  <tbody>\n",
       "    <tr>\n",
       "      <th>0</th>\n",
       "      <td>None</td>\n",
       "      <td>NAYY 4x50 SE</td>\n",
       "      <td>0</td>\n",
       "      <td>1</td>\n",
       "      <td>0.8</td>\n",
       "      <td>0.642</td>\n",
       "      <td>0.083</td>\n",
       "      <td>210.0</td>\n",
       "      <td>0.0</td>\n",
       "      <td>0.142</td>\n",
       "      <td>1.0</td>\n",
       "      <td>1</td>\n",
       "      <td>cs</td>\n",
       "      <td>True</td>\n",
       "      <td>None</td>\n",
       "    </tr>\n",
       "    <tr>\n",
       "      <th>1</th>\n",
       "      <td>None</td>\n",
       "      <td>NAYY 4x50 SE</td>\n",
       "      <td>1</td>\n",
       "      <td>2</td>\n",
       "      <td>2.1</td>\n",
       "      <td>0.642</td>\n",
       "      <td>0.083</td>\n",
       "      <td>210.0</td>\n",
       "      <td>0.0</td>\n",
       "      <td>0.142</td>\n",
       "      <td>1.0</td>\n",
       "      <td>1</td>\n",
       "      <td>cs</td>\n",
       "      <td>True</td>\n",
       "      <td>None</td>\n",
       "    </tr>\n",
       "    <tr>\n",
       "      <th>2</th>\n",
       "      <td>None</td>\n",
       "      <td>NAYY 4x50 SE</td>\n",
       "      <td>0</td>\n",
       "      <td>3</td>\n",
       "      <td>5.0</td>\n",
       "      <td>0.642</td>\n",
       "      <td>0.083</td>\n",
       "      <td>210.0</td>\n",
       "      <td>0.0</td>\n",
       "      <td>0.142</td>\n",
       "      <td>1.0</td>\n",
       "      <td>1</td>\n",
       "      <td>cs</td>\n",
       "      <td>True</td>\n",
       "      <td>None</td>\n",
       "    </tr>\n",
       "    <tr>\n",
       "      <th>3</th>\n",
       "      <td>None</td>\n",
       "      <td>NAYY 4x50 SE</td>\n",
       "      <td>0</td>\n",
       "      <td>4</td>\n",
       "      <td>0.5</td>\n",
       "      <td>0.642</td>\n",
       "      <td>0.083</td>\n",
       "      <td>210.0</td>\n",
       "      <td>0.0</td>\n",
       "      <td>0.142</td>\n",
       "      <td>1.0</td>\n",
       "      <td>1</td>\n",
       "      <td>cs</td>\n",
       "      <td>True</td>\n",
       "      <td>None</td>\n",
       "    </tr>\n",
       "    <tr>\n",
       "      <th>4</th>\n",
       "      <td>None</td>\n",
       "      <td>NAYY 4x50 SE</td>\n",
       "      <td>4</td>\n",
       "      <td>5</td>\n",
       "      <td>1.5</td>\n",
       "      <td>0.642</td>\n",
       "      <td>0.083</td>\n",
       "      <td>210.0</td>\n",
       "      <td>0.0</td>\n",
       "      <td>0.142</td>\n",
       "      <td>1.0</td>\n",
       "      <td>1</td>\n",
       "      <td>cs</td>\n",
       "      <td>True</td>\n",
       "      <td>None</td>\n",
       "    </tr>\n",
       "    <tr>\n",
       "      <th>5</th>\n",
       "      <td>None</td>\n",
       "      <td>NAYY 4x50 SE</td>\n",
       "      <td>0</td>\n",
       "      <td>6</td>\n",
       "      <td>0.5</td>\n",
       "      <td>0.642</td>\n",
       "      <td>0.083</td>\n",
       "      <td>210.0</td>\n",
       "      <td>0.0</td>\n",
       "      <td>0.142</td>\n",
       "      <td>1.0</td>\n",
       "      <td>1</td>\n",
       "      <td>cs</td>\n",
       "      <td>True</td>\n",
       "      <td>None</td>\n",
       "    </tr>\n",
       "  </tbody>\n",
       "</table>\n",
       "</div>"
      ],
      "text/plain": [
       "   name      std_type  from_bus  to_bus  length_km  r_ohm_per_km  \\\n",
       "0  None  NAYY 4x50 SE         0       1        0.8         0.642   \n",
       "1  None  NAYY 4x50 SE         1       2        2.1         0.642   \n",
       "2  None  NAYY 4x50 SE         0       3        5.0         0.642   \n",
       "3  None  NAYY 4x50 SE         0       4        0.5         0.642   \n",
       "4  None  NAYY 4x50 SE         4       5        1.5         0.642   \n",
       "5  None  NAYY 4x50 SE         0       6        0.5         0.642   \n",
       "\n",
       "   x_ohm_per_km  c_nf_per_km  g_us_per_km  max_i_ka   df  parallel type  \\\n",
       "0         0.083        210.0          0.0     0.142  1.0         1   cs   \n",
       "1         0.083        210.0          0.0     0.142  1.0         1   cs   \n",
       "2         0.083        210.0          0.0     0.142  1.0         1   cs   \n",
       "3         0.083        210.0          0.0     0.142  1.0         1   cs   \n",
       "4         0.083        210.0          0.0     0.142  1.0         1   cs   \n",
       "5         0.083        210.0          0.0     0.142  1.0         1   cs   \n",
       "\n",
       "   in_service model  \n",
       "0        True  None  \n",
       "1        True  None  \n",
       "2        True  None  \n",
       "3        True  None  \n",
       "4        True  None  \n",
       "5        True  None  "
      ]
     },
     "execution_count": 280,
     "metadata": {},
     "output_type": "execute_result"
    }
   ],
   "source": [
    "net.line"
   ]
  },
  {
   "cell_type": "code",
   "execution_count": 281,
   "id": "warming-watson",
   "metadata": {},
   "outputs": [
    {
     "data": {
      "text/html": [
       "<div>\n",
       "<style scoped>\n",
       "    .dataframe tbody tr th:only-of-type {\n",
       "        vertical-align: middle;\n",
       "    }\n",
       "\n",
       "    .dataframe tbody tr th {\n",
       "        vertical-align: top;\n",
       "    }\n",
       "\n",
       "    .dataframe thead th {\n",
       "        text-align: right;\n",
       "    }\n",
       "</style>\n",
       "<table border=\"1\" class=\"dataframe\">\n",
       "  <thead>\n",
       "    <tr style=\"text-align: right;\">\n",
       "      <th></th>\n",
       "      <th>name</th>\n",
       "      <th>vn_kv</th>\n",
       "      <th>type</th>\n",
       "      <th>zone</th>\n",
       "      <th>in_service</th>\n",
       "    </tr>\n",
       "  </thead>\n",
       "  <tbody>\n",
       "    <tr>\n",
       "      <th>0</th>\n",
       "      <td>None</td>\n",
       "      <td>13.2</td>\n",
       "      <td>b</td>\n",
       "      <td>None</td>\n",
       "      <td>True</td>\n",
       "    </tr>\n",
       "    <tr>\n",
       "      <th>1</th>\n",
       "      <td>None</td>\n",
       "      <td>13.2</td>\n",
       "      <td>b</td>\n",
       "      <td>None</td>\n",
       "      <td>True</td>\n",
       "    </tr>\n",
       "    <tr>\n",
       "      <th>2</th>\n",
       "      <td>None</td>\n",
       "      <td>13.2</td>\n",
       "      <td>b</td>\n",
       "      <td>None</td>\n",
       "      <td>True</td>\n",
       "    </tr>\n",
       "    <tr>\n",
       "      <th>3</th>\n",
       "      <td>None</td>\n",
       "      <td>13.2</td>\n",
       "      <td>b</td>\n",
       "      <td>None</td>\n",
       "      <td>True</td>\n",
       "    </tr>\n",
       "    <tr>\n",
       "      <th>4</th>\n",
       "      <td>None</td>\n",
       "      <td>13.2</td>\n",
       "      <td>b</td>\n",
       "      <td>None</td>\n",
       "      <td>True</td>\n",
       "    </tr>\n",
       "    <tr>\n",
       "      <th>5</th>\n",
       "      <td>None</td>\n",
       "      <td>13.2</td>\n",
       "      <td>b</td>\n",
       "      <td>None</td>\n",
       "      <td>True</td>\n",
       "    </tr>\n",
       "    <tr>\n",
       "      <th>6</th>\n",
       "      <td>None</td>\n",
       "      <td>13.2</td>\n",
       "      <td>b</td>\n",
       "      <td>None</td>\n",
       "      <td>True</td>\n",
       "    </tr>\n",
       "  </tbody>\n",
       "</table>\n",
       "</div>"
      ],
      "text/plain": [
       "   name  vn_kv type  zone  in_service\n",
       "0  None   13.2    b  None        True\n",
       "1  None   13.2    b  None        True\n",
       "2  None   13.2    b  None        True\n",
       "3  None   13.2    b  None        True\n",
       "4  None   13.2    b  None        True\n",
       "5  None   13.2    b  None        True\n",
       "6  None   13.2    b  None        True"
      ]
     },
     "execution_count": 281,
     "metadata": {},
     "output_type": "execute_result"
    }
   ],
   "source": [
    "net.bus"
   ]
  },
  {
   "cell_type": "code",
   "execution_count": 282,
   "id": "proof-metadata",
   "metadata": {},
   "outputs": [
    {
     "data": {
      "text/html": [
       "<div>\n",
       "<style scoped>\n",
       "    .dataframe tbody tr th:only-of-type {\n",
       "        vertical-align: middle;\n",
       "    }\n",
       "\n",
       "    .dataframe tbody tr th {\n",
       "        vertical-align: top;\n",
       "    }\n",
       "\n",
       "    .dataframe thead th {\n",
       "        text-align: right;\n",
       "    }\n",
       "</style>\n",
       "<table border=\"1\" class=\"dataframe\">\n",
       "  <thead>\n",
       "    <tr style=\"text-align: right;\">\n",
       "      <th></th>\n",
       "      <th>name</th>\n",
       "      <th>bus</th>\n",
       "      <th>p_mw</th>\n",
       "      <th>q_mvar</th>\n",
       "      <th>sn_mva</th>\n",
       "      <th>scaling</th>\n",
       "      <th>in_service</th>\n",
       "      <th>type</th>\n",
       "      <th>current_source</th>\n",
       "      <th>max_p_mw</th>\n",
       "      <th>max_q_mvar</th>\n",
       "      <th>model</th>\n",
       "    </tr>\n",
       "  </thead>\n",
       "  <tbody>\n",
       "    <tr>\n",
       "      <th>0</th>\n",
       "      <td>PV1</td>\n",
       "      <td>1</td>\n",
       "      <td>0.075</td>\n",
       "      <td>0.025</td>\n",
       "      <td>NaN</td>\n",
       "      <td>1.0</td>\n",
       "      <td>True</td>\n",
       "      <td>wye</td>\n",
       "      <td>True</td>\n",
       "      <td>0.15</td>\n",
       "      <td>0.15</td>\n",
       "      <td>Resource: PV1</td>\n",
       "    </tr>\n",
       "    <tr>\n",
       "      <th>1</th>\n",
       "      <td>WT1</td>\n",
       "      <td>3</td>\n",
       "      <td>0.150</td>\n",
       "      <td>0.000</td>\n",
       "      <td>NaN</td>\n",
       "      <td>1.0</td>\n",
       "      <td>True</td>\n",
       "      <td>wye</td>\n",
       "      <td>True</td>\n",
       "      <td>0.40</td>\n",
       "      <td>0.10</td>\n",
       "      <td>Resource: WT1</td>\n",
       "    </tr>\n",
       "    <tr>\n",
       "      <th>2</th>\n",
       "      <td>PV2</td>\n",
       "      <td>4</td>\n",
       "      <td>0.080</td>\n",
       "      <td>0.000</td>\n",
       "      <td>NaN</td>\n",
       "      <td>1.0</td>\n",
       "      <td>True</td>\n",
       "      <td>wye</td>\n",
       "      <td>True</td>\n",
       "      <td>0.30</td>\n",
       "      <td>0.10</td>\n",
       "      <td>Resource: PV2</td>\n",
       "    </tr>\n",
       "  </tbody>\n",
       "</table>\n",
       "</div>"
      ],
      "text/plain": [
       "  name  bus   p_mw  q_mvar  sn_mva  scaling  in_service type  current_source  \\\n",
       "0  PV1    1  0.075   0.025     NaN      1.0        True  wye            True   \n",
       "1  WT1    3  0.150   0.000     NaN      1.0        True  wye            True   \n",
       "2  PV2    4  0.080   0.000     NaN      1.0        True  wye            True   \n",
       "\n",
       "   max_p_mw  max_q_mvar          model  \n",
       "0      0.15        0.15  Resource: PV1  \n",
       "1      0.40        0.10  Resource: WT1  \n",
       "2      0.30        0.10  Resource: PV2  "
      ]
     },
     "execution_count": 282,
     "metadata": {},
     "output_type": "execute_result"
    }
   ],
   "source": [
    "net.sgen"
   ]
  },
  {
   "cell_type": "code",
   "execution_count": 298,
   "id": "weighted-processing",
   "metadata": {},
   "outputs": [],
   "source": [
    "from ModelWriters.MultiBusbar import MultiBusbarModelWriter"
   ]
  },
  {
   "cell_type": "code",
   "execution_count": 299,
   "id": "russian-gardening",
   "metadata": {},
   "outputs": [],
   "source": [
    "mw = MultiBusbarModelWriter(net, Escenarios)"
   ]
  },
  {
   "cell_type": "code",
   "execution_count": 300,
   "id": "periodic-substance",
   "metadata": {},
   "outputs": [
    {
     "data": {
      "text/plain": [
       "<pyomo.core.base.PyomoModel.ConcreteModel at 0x1e7cd162780>"
      ]
     },
     "execution_count": 300,
     "metadata": {},
     "output_type": "execute_result"
    }
   ],
   "source": [
    "mw.create_model()"
   ]
  },
  {
   "cell_type": "code",
   "execution_count": 286,
   "id": "sexual-ceramic",
   "metadata": {},
   "outputs": [],
   "source": [
    "#mw.model.pprint()"
   ]
  },
  {
   "cell_type": "code",
   "execution_count": 301,
   "id": "inappropriate-northwest",
   "metadata": {},
   "outputs": [
    {
     "name": "stdout",
     "output_type": "stream",
     "text": [
      "\n",
      "Welcome to IBM(R) ILOG(R) CPLEX(R) Interactive Optimizer 20.1.0.0\n",
      "  with Simplex, Mixed Integer & Barrier Optimizers\n",
      "5725-A06 5725-A29 5724-Y48 5724-Y49 5724-Y54 5724-Y55 5655-Y21\n",
      "Copyright IBM Corp. 1988, 2020.  All Rights Reserved.\n",
      "\n",
      "Type 'help' for a list of available commands.\n",
      "Type 'help' followed by a command name for more\n",
      "information on commands.\n",
      "\n",
      "CPLEX> Logfile 'cplex.log' closed.\n",
      "Logfile 'C:\\Users\\jmsar\\AppData\\Local\\Temp\\tmp_8vw6oro.cplex.log' open.\n",
      "CPLEX> Problem 'C:\\Users\\jmsar\\AppData\\Local\\Temp\\tmp820ya3vd.pyomo.lp' read.\n",
      "Read time = 0.20 sec. (8.78 ticks)\n",
      "CPLEX> Problem name         : C:\\Users\\jmsar\\AppData\\Local\\Temp\\tmp820ya3vd.pyomo.lp\n",
      "Objective sense      : Minimize\n",
      "Variables            :   87607  [Nneg: 26284,  Box: 61320,  Binary: 3]\n",
      "Objective nonzeros   :   35046\n",
      "Linear constraints   :   87604  [Less: 26283,  Equal: 61321]\n",
      "  Nonzeros           :  183002\n",
      "  RHS nonzeros       :   26281\n",
      "\n",
      "Variables            : Min LB: -2.811600        Max UB: 5.000000       \n",
      "Objective nonzeros   : Min   : 0.0004000000     Max   : 5.000000       \n",
      "Linear constraints   :\n",
      "  Nonzeros           : Min   : 0.0005930475     Max   : 1000.000       \n",
      "  RHS nonzeros       : Min   : 0.02477637       Max   : 1.322522       \n",
      "CPLEX> Version identifier: 20.1.0.0 | 2020-11-10 | 9bedb6d68\n",
      "Tried aggregator 2 times.\n",
      "MIP Presolve eliminated 54015 rows and 54015 columns.\n",
      "Aggregator did 12652 substitutions.\n",
      "Reduced MIP has 20937 rows, 20940 columns, and 50147 nonzeros.\n",
      "Reduced MIP has 3 binaries, 0 generals, 0 SOSs, and 0 indicators.\n",
      "Presolve time = 0.22 sec. (101.91 ticks)\n",
      "Found incumbent of value 3834.540810 after 0.28 sec. (130.50 ticks)\n",
      "Probing time = 0.02 sec. (1.80 ticks)\n",
      "Tried aggregator 1 time.\n",
      "Reduced MIP has 20937 rows, 20940 columns, and 50147 nonzeros.\n",
      "Reduced MIP has 3 binaries, 0 generals, 0 SOSs, and 0 indicators.\n",
      "Presolve time = 0.03 sec. (20.50 ticks)\n",
      "Probing time = 0.02 sec. (1.39 ticks)\n",
      "MIP emphasis: balance optimality and feasibility.\n",
      "MIP search method: dynamic search.\n",
      "Parallel mode: deterministic, using up to 4 threads.\n",
      "Root relaxation solution time = 1.33 sec. (693.01 ticks)\n",
      "\n",
      "        Nodes                                         Cuts/\n",
      "   Node  Left     Objective  IInf  Best Integer    Best Bound    ItCnt     Gap\n",
      "\n",
      "*     0+    0                         3834.5408        2.9726            99.92%\n",
      "      0     0       12.2595     2     3834.5408       12.2595       65   99.68%\n",
      "*     0+    0                           17.7493       12.2595            30.93%\n",
      "*     0+    0                           16.1889       12.2595            24.27%\n",
      "      0     0        cutoff             16.1889       16.1889     3660    0.00%\n",
      "Elapsed time = 4.17 sec. (2630.44 ticks, tree = 0.01 MB, solutions = 3)\n",
      "\n",
      "Implied bound cuts applied:  4303\n",
      "Mixed integer rounding cuts applied:  1030\n",
      "Gomory fractional cuts applied:  1\n",
      "\n",
      "Root node processing (before b&c):\n",
      "  Real time             =    4.19 sec. (2634.44 ticks)\n",
      "Parallel b&c, 4 threads:\n",
      "  Real time             =    0.00 sec. (0.00 ticks)\n",
      "  Sync time (average)   =    0.00 sec.\n",
      "  Wait time (average)   =    0.00 sec.\n",
      "                          ------------\n",
      "Total (root+branch&cut) =    4.19 sec. (2634.44 ticks)\n",
      "\n",
      "Solution pool: 3 solutions saved.\n",
      "\n",
      "MIP - Integer optimal solution:  Objective =  1.6188865238e+01\n",
      "Solution time =    4.19 sec.  Iterations = 3660  Nodes = 0\n",
      "Deterministic time = 2634.69 ticks  (629.10 ticks/sec)\n",
      "\n",
      "CPLEX> Incumbent solution written to file 'C:\\Users\\jmsar\\AppData\\Local\\Temp\\tmpfu7mxd69.cplex.sol'.\n",
      "CPLEX> "
     ]
    }
   ],
   "source": [
    "#solver_manager = pe.SolverManagerFactory('neos')\n",
    "#result_obj = solver_manager.solve(model.model, opt='cplex')\n",
    "\n",
    "opt = pe.SolverFactory('cplex')\n",
    "#opt = pe.SolverFactory('glpk')\n",
    "result_obj= opt.solve(mw.model, tee=True)"
   ]
  },
  {
   "cell_type": "code",
   "execution_count": 302,
   "id": "unique-steps",
   "metadata": {},
   "outputs": [],
   "source": [
    "mw.backconfigure_network()"
   ]
  },
  {
   "cell_type": "code",
   "execution_count": 303,
   "id": "bright-routine",
   "metadata": {},
   "outputs": [
    {
     "data": {
      "text/html": [
       "<div>\n",
       "<style scoped>\n",
       "    .dataframe tbody tr th:only-of-type {\n",
       "        vertical-align: middle;\n",
       "    }\n",
       "\n",
       "    .dataframe tbody tr th {\n",
       "        vertical-align: top;\n",
       "    }\n",
       "\n",
       "    .dataframe thead th {\n",
       "        text-align: right;\n",
       "    }\n",
       "</style>\n",
       "<table border=\"1\" class=\"dataframe\">\n",
       "  <thead>\n",
       "    <tr style=\"text-align: right;\">\n",
       "      <th></th>\n",
       "      <th>name</th>\n",
       "      <th>bus</th>\n",
       "      <th>p_mw</th>\n",
       "      <th>q_mvar</th>\n",
       "      <th>sn_mva</th>\n",
       "      <th>scaling</th>\n",
       "      <th>in_service</th>\n",
       "      <th>type</th>\n",
       "      <th>current_source</th>\n",
       "      <th>max_p_mw</th>\n",
       "      <th>max_q_mvar</th>\n",
       "      <th>model</th>\n",
       "    </tr>\n",
       "  </thead>\n",
       "  <tbody>\n",
       "    <tr>\n",
       "      <th>0</th>\n",
       "      <td>PV1</td>\n",
       "      <td>1</td>\n",
       "      <td>0.075</td>\n",
       "      <td>0.025</td>\n",
       "      <td>NaN</td>\n",
       "      <td>1.0</td>\n",
       "      <td>True</td>\n",
       "      <td>wye</td>\n",
       "      <td>True</td>\n",
       "      <td>16.031907</td>\n",
       "      <td>8.015953</td>\n",
       "      <td>Resource: PV1</td>\n",
       "    </tr>\n",
       "    <tr>\n",
       "      <th>1</th>\n",
       "      <td>WT1</td>\n",
       "      <td>3</td>\n",
       "      <td>0.150</td>\n",
       "      <td>0.000</td>\n",
       "      <td>NaN</td>\n",
       "      <td>1.0</td>\n",
       "      <td>False</td>\n",
       "      <td>wye</td>\n",
       "      <td>True</td>\n",
       "      <td>0.000000</td>\n",
       "      <td>0.000000</td>\n",
       "      <td>Resource: WT1</td>\n",
       "    </tr>\n",
       "    <tr>\n",
       "      <th>2</th>\n",
       "      <td>PV2</td>\n",
       "      <td>4</td>\n",
       "      <td>0.080</td>\n",
       "      <td>0.000</td>\n",
       "      <td>NaN</td>\n",
       "      <td>1.0</td>\n",
       "      <td>False</td>\n",
       "      <td>wye</td>\n",
       "      <td>True</td>\n",
       "      <td>0.000000</td>\n",
       "      <td>0.000000</td>\n",
       "      <td>Resource: PV2</td>\n",
       "    </tr>\n",
       "  </tbody>\n",
       "</table>\n",
       "</div>"
      ],
      "text/plain": [
       "  name  bus   p_mw  q_mvar  sn_mva  scaling  in_service type  current_source  \\\n",
       "0  PV1    1  0.075   0.025     NaN      1.0        True  wye            True   \n",
       "1  WT1    3  0.150   0.000     NaN      1.0       False  wye            True   \n",
       "2  PV2    4  0.080   0.000     NaN      1.0       False  wye            True   \n",
       "\n",
       "    max_p_mw  max_q_mvar          model  \n",
       "0  16.031907    8.015953  Resource: PV1  \n",
       "1   0.000000    0.000000  Resource: WT1  \n",
       "2   0.000000    0.000000  Resource: PV2  "
      ]
     },
     "execution_count": 303,
     "metadata": {},
     "output_type": "execute_result"
    }
   ],
   "source": [
    "net.sgen"
   ]
  },
  {
   "cell_type": "code",
   "execution_count": 304,
   "id": "mounted-trigger",
   "metadata": {},
   "outputs": [],
   "source": [
    "Resultados = mw.get_scenes_results()"
   ]
  },
  {
   "cell_type": "code",
   "execution_count": 305,
   "id": "infinite-november",
   "metadata": {},
   "outputs": [
    {
     "data": {
      "image/png": "[encoded data removed]",
      "text/plain": [
       "<Figure size 720x432 with 1 Axes>"
      ]
     },
     "metadata": {
      "needs_background": "light"
     },
     "output_type": "display_data"
    }
   ],
   "source": [
    "# Set the plot curve with markers and a title\n",
    "fig, ax = plt.subplots(1, 1)\n",
    "\n",
    "fig.set_size_inches(10,6)\n",
    "a=180*24\n",
    "#b=360\n",
    "b=180*24+5*24\n",
    "for col in Resultados:\n",
    "    ax.plot(Resultados[col][a:b], label = col)\n",
    "\n",
    "#ax.plot(Resultados['Tornquinst'][a:b]+Resultados['Bell Ville'][a:b]+Resultados['City Bell'][a:b], label = 'Load')\n",
    "\n",
    "#ax.plot(Resultados['time'][240:360], Resultados['p_mw_PV'][240:360], label = 'PV')\n",
    "#ax.plot(Resultados['time'][240:360], Resultados['p_mw_Load'][240:360], label = 'Load')\n",
    "\n",
    "ax.set_xlabel('time')\n",
    "ax.set_ylabel('P[mw]')\n",
    "\n",
    "ax.legend()\n",
    "\n",
    "ax.grid(True)\n",
    "\n",
    "\n",
    "plt.show()"
   ]
  },
  {
   "cell_type": "code",
   "execution_count": 293,
   "id": "marked-funeral",
   "metadata": {},
   "outputs": [
    {
     "data": {
      "text/html": [
       "<div>\n",
       "<style scoped>\n",
       "    .dataframe tbody tr th:only-of-type {\n",
       "        vertical-align: middle;\n",
       "    }\n",
       "\n",
       "    .dataframe tbody tr th {\n",
       "        vertical-align: top;\n",
       "    }\n",
       "\n",
       "    .dataframe thead th {\n",
       "        text-align: right;\n",
       "    }\n",
       "</style>\n",
       "<table border=\"1\" class=\"dataframe\">\n",
       "  <thead>\n",
       "    <tr style=\"text-align: right;\">\n",
       "      <th></th>\n",
       "      <th>SET_p_mw</th>\n",
       "      <th>Tornquinst_p_mw</th>\n",
       "      <th>Bell Ville_p_mw</th>\n",
       "      <th>City Bell_p_mw</th>\n",
       "      <th>L 0_1_p_mw</th>\n",
       "      <th>L 0_1_pf_mw</th>\n",
       "      <th>L 1_2_p_mw</th>\n",
       "      <th>L 1_2_pf_mw</th>\n",
       "      <th>L 0_3_p_mw</th>\n",
       "      <th>L 0_3_pf_mw</th>\n",
       "      <th>L 0_4_p_mw</th>\n",
       "      <th>L 0_4_pf_mw</th>\n",
       "      <th>L 4_5_p_mw</th>\n",
       "      <th>L 4_5_pf_mw</th>\n",
       "      <th>L 0_6_p_mw</th>\n",
       "      <th>L 0_6_pf_mw</th>\n",
       "    </tr>\n",
       "  </thead>\n",
       "  <tbody>\n",
       "    <tr>\n",
       "      <th>0</th>\n",
       "      <td>0.374743</td>\n",
       "      <td>-0.097877</td>\n",
       "      <td>-0.229589</td>\n",
       "      <td>-0.047278</td>\n",
       "      <td>0.0</td>\n",
       "      <td>-0.097877</td>\n",
       "      <td>0.0</td>\n",
       "      <td>-0.097877</td>\n",
       "      <td>0.0</td>\n",
       "      <td>0.0</td>\n",
       "      <td>0.0</td>\n",
       "      <td>-0.229589</td>\n",
       "      <td>0.0</td>\n",
       "      <td>-0.229589</td>\n",
       "      <td>0.0</td>\n",
       "      <td>-0.047278</td>\n",
       "    </tr>\n",
       "    <tr>\n",
       "      <th>1</th>\n",
       "      <td>0.332221</td>\n",
       "      <td>-0.084012</td>\n",
       "      <td>-0.182600</td>\n",
       "      <td>-0.065609</td>\n",
       "      <td>0.0</td>\n",
       "      <td>-0.084012</td>\n",
       "      <td>0.0</td>\n",
       "      <td>-0.084012</td>\n",
       "      <td>0.0</td>\n",
       "      <td>0.0</td>\n",
       "      <td>0.0</td>\n",
       "      <td>-0.182600</td>\n",
       "      <td>0.0</td>\n",
       "      <td>-0.182600</td>\n",
       "      <td>0.0</td>\n",
       "      <td>-0.065609</td>\n",
       "    </tr>\n",
       "    <tr>\n",
       "      <th>2</th>\n",
       "      <td>0.323633</td>\n",
       "      <td>-0.089794</td>\n",
       "      <td>-0.183506</td>\n",
       "      <td>-0.050332</td>\n",
       "      <td>0.0</td>\n",
       "      <td>-0.089794</td>\n",
       "      <td>0.0</td>\n",
       "      <td>-0.089794</td>\n",
       "      <td>0.0</td>\n",
       "      <td>0.0</td>\n",
       "      <td>0.0</td>\n",
       "      <td>-0.183506</td>\n",
       "      <td>0.0</td>\n",
       "      <td>-0.183506</td>\n",
       "      <td>0.0</td>\n",
       "      <td>-0.050332</td>\n",
       "    </tr>\n",
       "    <tr>\n",
       "      <th>3</th>\n",
       "      <td>0.344637</td>\n",
       "      <td>-0.105262</td>\n",
       "      <td>-0.179445</td>\n",
       "      <td>-0.059930</td>\n",
       "      <td>0.0</td>\n",
       "      <td>-0.105262</td>\n",
       "      <td>0.0</td>\n",
       "      <td>-0.105262</td>\n",
       "      <td>0.0</td>\n",
       "      <td>0.0</td>\n",
       "      <td>0.0</td>\n",
       "      <td>-0.179445</td>\n",
       "      <td>0.0</td>\n",
       "      <td>-0.179445</td>\n",
       "      <td>0.0</td>\n",
       "      <td>-0.059930</td>\n",
       "    </tr>\n",
       "  </tbody>\n",
       "</table>\n",
       "</div>"
      ],
      "text/plain": [
       "   SET_p_mw  Tornquinst_p_mw  Bell Ville_p_mw  City Bell_p_mw  L 0_1_p_mw  \\\n",
       "0  0.374743        -0.097877        -0.229589       -0.047278         0.0   \n",
       "1  0.332221        -0.084012        -0.182600       -0.065609         0.0   \n",
       "2  0.323633        -0.089794        -0.183506       -0.050332         0.0   \n",
       "3  0.344637        -0.105262        -0.179445       -0.059930         0.0   \n",
       "\n",
       "   L 0_1_pf_mw  L 1_2_p_mw  L 1_2_pf_mw  L 0_3_p_mw  L 0_3_pf_mw  L 0_4_p_mw  \\\n",
       "0    -0.097877         0.0    -0.097877         0.0          0.0         0.0   \n",
       "1    -0.084012         0.0    -0.084012         0.0          0.0         0.0   \n",
       "2    -0.089794         0.0    -0.089794         0.0          0.0         0.0   \n",
       "3    -0.105262         0.0    -0.105262         0.0          0.0         0.0   \n",
       "\n",
       "   L 0_4_pf_mw  L 4_5_p_mw  L 4_5_pf_mw  L 0_6_p_mw  L 0_6_pf_mw  \n",
       "0    -0.229589         0.0    -0.229589         0.0    -0.047278  \n",
       "1    -0.182600         0.0    -0.182600         0.0    -0.065609  \n",
       "2    -0.183506         0.0    -0.183506         0.0    -0.050332  \n",
       "3    -0.179445         0.0    -0.179445         0.0    -0.059930  "
      ]
     },
     "execution_count": 293,
     "metadata": {},
     "output_type": "execute_result"
    }
   ],
   "source": [
    "\n",
    "Resultados"
   ]
  },
  {
   "cell_type": "code",
   "execution_count": null,
   "id": "bored-steel",
   "metadata": {},
   "outputs": [],
   "source": [
    "# Set the plot curve with markers and a title\n",
    "fig, ax = plt.subplots(1, 1)\n",
    "\n",
    "fig.set_size_inches(10,6)\n",
    "a=180*24\n",
    "#b=360\n",
    "b=180*24+15*24\n",
    "for col in Resultados:\n",
    "    ax.plot(Resultados[col][a:b], label = col)\n",
    "\n",
    "#ax.plot(Resultados['Tornquinst'][a:b]+Resultados['Bell Ville'][a:b]+Resultados['City Bell'][a:b], label = 'Load')\n",
    "\n",
    "#ax.plot(Resultados['time'][240:360], Resultados['p_mw_PV'][240:360], label = 'PV')\n",
    "#ax.plot(Resultados['time'][240:360], Resultados['p_mw_Load'][240:360], label = 'Load')\n",
    "\n",
    "ax.set_xlabel('time')\n",
    "ax.set_ylabel('P[mw]')\n",
    "\n",
    "ax.legend()\n",
    "\n",
    "ax.grid(True)\n",
    "\n",
    "\n",
    "plt.show()"
   ]
  }
 ],
 "metadata": {
  "colab": {
   "name": "Prueba PP-Pyomo-4.ipynb",
   "provenance": []
  },
  "kernelspec": {
   "display_name": "Python 3",
   "language": "python",
   "name": "python3"
  },
  "language_info": {
   "codemirror_mode": {
    "name": "ipython",
    "version": 3
   },
   "file_extension": ".py",
   "mimetype": "text/x-python",
   "name": "python",
   "nbconvert_exporter": "python",
   "pygments_lexer": "ipython3",
   "version": "3.8.8"
  }
 },
 "nbformat": 4,
 "nbformat_minor": 5
}
