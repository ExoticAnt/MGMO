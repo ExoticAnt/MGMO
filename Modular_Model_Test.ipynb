{
 "cells": [
  {
   "cell_type": "markdown",
   "id": "textile-replacement",
   "metadata": {
    "id": "addressed-terrorism"
   },
   "source": [
    "## Prueba de modelos ##\n",
    "\n",
    "### Version 4: Modelo con 2 DER, planificación anual, granularidad horaria ###\n",
    "\n",
    "Si el modelo tiene que optimizar el balance por horas, tiene 8640 VD, pero sigue teniendo 2 VD binarias"
   ]
  },
  {
   "cell_type": "code",
   "execution_count": 1,
   "id": "narrative-houston",
   "metadata": {},
   "outputs": [],
   "source": [
    "%load_ext autoreload"
   ]
  },
  {
   "cell_type": "code",
   "execution_count": 2,
   "id": "comfortable-privacy",
   "metadata": {},
   "outputs": [],
   "source": [
    "%autoreload 2"
   ]
  },
  {
   "cell_type": "code",
   "execution_count": 3,
   "id": "regulation-jacksonville",
   "metadata": {
    "executionInfo": {
     "elapsed": 5552,
     "status": "ok",
     "timestamp": 1620005659685,
     "user": {
      "displayName": "Juan Sardón",
      "photoUrl": "https://lh3.googleusercontent.com/a-/AOh14Gh0hE4Hw8M0I17k-o2PXxLB5i6gNZV_oUTpZlyJ3Q=s64",
      "userId": "08267034058673099115"
     },
     "user_tz": 180
    },
    "id": "aboriginal-joshua"
   },
   "outputs": [],
   "source": [
    "import pandapower as pp"
   ]
  },
  {
   "cell_type": "code",
   "execution_count": 4,
   "id": "experimental-accreditation",
   "metadata": {
    "executionInfo": {
     "elapsed": 5006,
     "status": "ok",
     "timestamp": 1620005659686,
     "user": {
      "displayName": "Juan Sardón",
      "photoUrl": "https://lh3.googleusercontent.com/a-/AOh14Gh0hE4Hw8M0I17k-o2PXxLB5i6gNZV_oUTpZlyJ3Q=s64",
      "userId": "08267034058673099115"
     },
     "user_tz": 180
    },
    "id": "YkmoER_O9JGU"
   },
   "outputs": [],
   "source": [
    "import os"
   ]
  },
  {
   "cell_type": "code",
   "execution_count": 5,
   "id": "labeled-telephone",
   "metadata": {
    "executionInfo": {
     "elapsed": 4628,
     "status": "ok",
     "timestamp": 1620005659687,
     "user": {
      "displayName": "Juan Sardón",
      "photoUrl": "https://lh3.googleusercontent.com/a-/AOh14Gh0hE4Hw8M0I17k-o2PXxLB5i6gNZV_oUTpZlyJ3Q=s64",
      "userId": "08267034058673099115"
     },
     "user_tz": 180
    },
    "id": "narrative-census"
   },
   "outputs": [],
   "source": [
    "import pandas as pd"
   ]
  },
  {
   "cell_type": "code",
   "execution_count": 6,
   "id": "automotive-forestry",
   "metadata": {
    "executionInfo": {
     "elapsed": 4248,
     "status": "ok",
     "timestamp": 1620005659688,
     "user": {
      "displayName": "Juan Sardón",
      "photoUrl": "https://lh3.googleusercontent.com/a-/AOh14Gh0hE4Hw8M0I17k-o2PXxLB5i6gNZV_oUTpZlyJ3Q=s64",
      "userId": "08267034058673099115"
     },
     "user_tz": 180
    },
    "id": "collectible-innocent"
   },
   "outputs": [],
   "source": [
    "import pyomo.environ as pe"
   ]
  },
  {
   "cell_type": "code",
   "execution_count": 7,
   "id": "automotive-karaoke",
   "metadata": {
    "executionInfo": {
     "elapsed": 3906,
     "status": "ok",
     "timestamp": 1620005659690,
     "user": {
      "displayName": "Juan Sardón",
      "photoUrl": "https://lh3.googleusercontent.com/a-/AOh14Gh0hE4Hw8M0I17k-o2PXxLB5i6gNZV_oUTpZlyJ3Q=s64",
      "userId": "08267034058673099115"
     },
     "user_tz": 180
    },
    "id": "handled-baltimore"
   },
   "outputs": [],
   "source": [
    "import math"
   ]
  },
  {
   "cell_type": "code",
   "execution_count": 8,
   "id": "removable-impact",
   "metadata": {
    "executionInfo": {
     "elapsed": 3594,
     "status": "ok",
     "timestamp": 1620005659691,
     "user": {
      "displayName": "Juan Sardón",
      "photoUrl": "https://lh3.googleusercontent.com/a-/AOh14Gh0hE4Hw8M0I17k-o2PXxLB5i6gNZV_oUTpZlyJ3Q=s64",
      "userId": "08267034058673099115"
     },
     "user_tz": 180
    },
    "id": "substantial-payroll"
   },
   "outputs": [],
   "source": [
    "import random"
   ]
  },
  {
   "cell_type": "code",
   "execution_count": 9,
   "id": "frank-agenda",
   "metadata": {
    "executionInfo": {
     "elapsed": 3285,
     "status": "ok",
     "timestamp": 1620005659691,
     "user": {
      "displayName": "Juan Sardón",
      "photoUrl": "https://lh3.googleusercontent.com/a-/AOh14Gh0hE4Hw8M0I17k-o2PXxLB5i6gNZV_oUTpZlyJ3Q=s64",
      "userId": "08267034058673099115"
     },
     "user_tz": 180
    },
    "id": "c0X5ABkvJYuo"
   },
   "outputs": [],
   "source": [
    "import itertools"
   ]
  },
  {
   "cell_type": "code",
   "execution_count": 10,
   "id": "seven-castle",
   "metadata": {
    "executionInfo": {
     "elapsed": 3074,
     "status": "ok",
     "timestamp": 1620005659693,
     "user": {
      "displayName": "Juan Sardón",
      "photoUrl": "https://lh3.googleusercontent.com/a-/AOh14Gh0hE4Hw8M0I17k-o2PXxLB5i6gNZV_oUTpZlyJ3Q=s64",
      "userId": "08267034058673099115"
     },
     "user_tz": 180
    },
    "id": "united-bronze"
   },
   "outputs": [],
   "source": [
    "import matplotlib.pyplot as plt"
   ]
  },
  {
   "cell_type": "code",
   "execution_count": 11,
   "id": "heard-desert",
   "metadata": {},
   "outputs": [],
   "source": [
    "import numpy as np"
   ]
  },
  {
   "cell_type": "code",
   "execution_count": 12,
   "id": "loving-nursery",
   "metadata": {},
   "outputs": [],
   "source": [
    "import ModelWriters.SimpleBusbar"
   ]
  },
  {
   "cell_type": "markdown",
   "id": "surprised-printer",
   "metadata": {
    "id": "fifteen-pakistan"
   },
   "source": [
    "Variables que define el modelo:\n",
    "\n",
    "y para el año\n",
    "\n",
    "d para el día del año\n",
    "\n",
    "h para la hora del día\n",
    "\n",
    "dt la granularidad del modelo, en horas\n",
    "\n",
    "\n",
    "temp la temperatura\n",
    "\n",
    "wv la velocidad del viento\n",
    "\n",
    "I la irradiación solar\n",
    "\n",
    "\n",
    "eg el crecimiento económico en pu respecto al año 0\n",
    "\n",
    "\n",
    "Estas variables llegan como parámetros en forma de diccionario en el argumento 'model_status' (ver este nombre)\n",
    "\n",
    "Todas las funciones reciben este argumento, la lógica de la función indica que valor retorna. Pr ejemplo, si la granularidad es 24 h, debe retornar el valor medio del parámetro producido."
   ]
  },
  {
   "cell_type": "markdown",
   "id": "fresh-static",
   "metadata": {
    "id": "pTK9BGaY4BEu"
   },
   "source": [
    "## Construcción de Escenarios"
   ]
  },
  {
   "cell_type": "code",
   "execution_count": 32,
   "id": "unusual-grill",
   "metadata": {},
   "outputs": [],
   "source": [
    "import ModelWriters.Simulation.Solar as Solar\n",
    "import ModelWriters.Simulation.Demand as Demand"
   ]
  },
  {
   "cell_type": "code",
   "execution_count": null,
   "id": "dutch-qualification",
   "metadata": {},
   "outputs": [],
   "source": []
  },
  {
   "cell_type": "code",
   "execution_count": 33,
   "id": "judicial-settlement",
   "metadata": {
    "executionInfo": {
     "elapsed": 1184,
     "status": "ok",
     "timestamp": 1620006589608,
     "user": {
      "displayName": "Juan Sardón",
      "photoUrl": "https://lh3.googleusercontent.com/a-/AOh14Gh0hE4Hw8M0I17k-o2PXxLB5i6gNZV_oUTpZlyJ3Q=s64",
      "userId": "08267034058673099115"
     },
     "user_tz": 180
    },
    "id": "posted-description"
   },
   "outputs": [],
   "source": [
    "dias = 3\n",
    "años = 5"
   ]
  },
  {
   "cell_type": "code",
   "execution_count": 34,
   "id": "supreme-smell",
   "metadata": {
    "executionInfo": {
     "elapsed": 804,
     "status": "ok",
     "timestamp": 1620006591214,
     "user": {
      "displayName": "Juan Sardón",
      "photoUrl": "https://lh3.googleusercontent.com/a-/AOh14Gh0hE4Hw8M0I17k-o2PXxLB5i6gNZV_oUTpZlyJ3Q=s64",
      "userId": "08267034058673099115"
     },
     "user_tz": 180
    },
    "id": "intelligent-terrace"
   },
   "outputs": [],
   "source": [
    "#el rango de horas:\n",
    "T_i = range(24)\n",
    "\n",
    "#el rango de dias:\n",
    "Dias_i = range(dias)\n",
    "\n",
    "Escenarios_i = range(len(T_i)*len(Dias_i))"
   ]
  },
  {
   "cell_type": "code",
   "execution_count": 35,
   "id": "extra-above",
   "metadata": {
    "executionInfo": {
     "elapsed": 740,
     "status": "ok",
     "timestamp": 1620006594076,
     "user": {
      "displayName": "Juan Sardón",
      "photoUrl": "https://lh3.googleusercontent.com/a-/AOh14Gh0hE4Hw8M0I17k-o2PXxLB5i6gNZV_oUTpZlyJ3Q=s64",
      "userId": "08267034058673099115"
     },
     "user_tz": 180
    },
    "id": "rotary-traffic"
   },
   "outputs": [],
   "source": [
    "m_s_base = [{'y': 0, 'd': 0, 'dd':1.0, 'h': 0.0, 'dt': 1.0, 'temp': 20.0, 'I':1000.0, 'wv': 10.0, 'eg': 1.0}]\n",
    "\n",
    "registros = len(Dias_i)*len(T_i)\n",
    "\n",
    "Escenarios =  pd.DataFrame(m_s_base, index = Escenarios_i)\n",
    "\n",
    "reg = 0\n",
    "for d in Dias_i:\n",
    "    for h in T_i:\n",
    "        Escenarios['d'][reg] = d\n",
    "        Escenarios['h'][reg] = h\n",
    "        Escenarios['I'][reg] = Solar.solar_irradiance_seasoned_randomized(d, h)\n",
    "        Escenarios['wv'][reg] = random.uniform(1.0, 20.0)\n",
    "        reg += 1"
   ]
  },
  {
   "cell_type": "code",
   "execution_count": 36,
   "id": "separate-trance",
   "metadata": {
    "colab": {
     "base_uri": "https://localhost:8080/",
     "height": 424
    },
    "executionInfo": {
     "elapsed": 940,
     "status": "ok",
     "timestamp": 1620006595909,
     "user": {
      "displayName": "Juan Sardón",
      "photoUrl": "https://lh3.googleusercontent.com/a-/AOh14Gh0hE4Hw8M0I17k-o2PXxLB5i6gNZV_oUTpZlyJ3Q=s64",
      "userId": "08267034058673099115"
     },
     "user_tz": 180
    },
    "id": "rztNfB1f4udd",
    "outputId": "9d65516d-715a-4f75-a9e9-b820fa6643be"
   },
   "outputs": [
    {
     "data": {
      "text/html": [
       "<div>\n",
       "<style scoped>\n",
       "    .dataframe tbody tr th:only-of-type {\n",
       "        vertical-align: middle;\n",
       "    }\n",
       "\n",
       "    .dataframe tbody tr th {\n",
       "        vertical-align: top;\n",
       "    }\n",
       "\n",
       "    .dataframe thead th {\n",
       "        text-align: right;\n",
       "    }\n",
       "</style>\n",
       "<table border=\"1\" class=\"dataframe\">\n",
       "  <thead>\n",
       "    <tr style=\"text-align: right;\">\n",
       "      <th></th>\n",
       "      <th>y</th>\n",
       "      <th>d</th>\n",
       "      <th>dd</th>\n",
       "      <th>h</th>\n",
       "      <th>dt</th>\n",
       "      <th>temp</th>\n",
       "      <th>I</th>\n",
       "      <th>wv</th>\n",
       "      <th>eg</th>\n",
       "    </tr>\n",
       "  </thead>\n",
       "  <tbody>\n",
       "    <tr>\n",
       "      <th>0</th>\n",
       "      <td>0</td>\n",
       "      <td>0</td>\n",
       "      <td>1.0</td>\n",
       "      <td>0.0</td>\n",
       "      <td>1.0</td>\n",
       "      <td>20.0</td>\n",
       "      <td>0.000000</td>\n",
       "      <td>9.065020</td>\n",
       "      <td>1.0</td>\n",
       "    </tr>\n",
       "    <tr>\n",
       "      <th>1</th>\n",
       "      <td>0</td>\n",
       "      <td>0</td>\n",
       "      <td>1.0</td>\n",
       "      <td>1.0</td>\n",
       "      <td>1.0</td>\n",
       "      <td>20.0</td>\n",
       "      <td>0.000000</td>\n",
       "      <td>12.948819</td>\n",
       "      <td>1.0</td>\n",
       "    </tr>\n",
       "    <tr>\n",
       "      <th>2</th>\n",
       "      <td>0</td>\n",
       "      <td>0</td>\n",
       "      <td>1.0</td>\n",
       "      <td>2.0</td>\n",
       "      <td>1.0</td>\n",
       "      <td>20.0</td>\n",
       "      <td>0.000000</td>\n",
       "      <td>13.296281</td>\n",
       "      <td>1.0</td>\n",
       "    </tr>\n",
       "    <tr>\n",
       "      <th>3</th>\n",
       "      <td>0</td>\n",
       "      <td>0</td>\n",
       "      <td>1.0</td>\n",
       "      <td>3.0</td>\n",
       "      <td>1.0</td>\n",
       "      <td>20.0</td>\n",
       "      <td>0.000000</td>\n",
       "      <td>7.174769</td>\n",
       "      <td>1.0</td>\n",
       "    </tr>\n",
       "    <tr>\n",
       "      <th>4</th>\n",
       "      <td>0</td>\n",
       "      <td>0</td>\n",
       "      <td>1.0</td>\n",
       "      <td>4.0</td>\n",
       "      <td>1.0</td>\n",
       "      <td>20.0</td>\n",
       "      <td>0.000000</td>\n",
       "      <td>3.189514</td>\n",
       "      <td>1.0</td>\n",
       "    </tr>\n",
       "    <tr>\n",
       "      <th>...</th>\n",
       "      <td>...</td>\n",
       "      <td>...</td>\n",
       "      <td>...</td>\n",
       "      <td>...</td>\n",
       "      <td>...</td>\n",
       "      <td>...</td>\n",
       "      <td>...</td>\n",
       "      <td>...</td>\n",
       "      <td>...</td>\n",
       "    </tr>\n",
       "    <tr>\n",
       "      <th>67</th>\n",
       "      <td>0</td>\n",
       "      <td>2</td>\n",
       "      <td>1.0</td>\n",
       "      <td>19.0</td>\n",
       "      <td>1.0</td>\n",
       "      <td>20.0</td>\n",
       "      <td>202.282138</td>\n",
       "      <td>7.651756</td>\n",
       "      <td>1.0</td>\n",
       "    </tr>\n",
       "    <tr>\n",
       "      <th>68</th>\n",
       "      <td>0</td>\n",
       "      <td>2</td>\n",
       "      <td>1.0</td>\n",
       "      <td>20.0</td>\n",
       "      <td>1.0</td>\n",
       "      <td>20.0</td>\n",
       "      <td>15.960435</td>\n",
       "      <td>18.469335</td>\n",
       "      <td>1.0</td>\n",
       "    </tr>\n",
       "    <tr>\n",
       "      <th>69</th>\n",
       "      <td>0</td>\n",
       "      <td>2</td>\n",
       "      <td>1.0</td>\n",
       "      <td>21.0</td>\n",
       "      <td>1.0</td>\n",
       "      <td>20.0</td>\n",
       "      <td>0.000000</td>\n",
       "      <td>4.107919</td>\n",
       "      <td>1.0</td>\n",
       "    </tr>\n",
       "    <tr>\n",
       "      <th>70</th>\n",
       "      <td>0</td>\n",
       "      <td>2</td>\n",
       "      <td>1.0</td>\n",
       "      <td>22.0</td>\n",
       "      <td>1.0</td>\n",
       "      <td>20.0</td>\n",
       "      <td>0.000000</td>\n",
       "      <td>13.618208</td>\n",
       "      <td>1.0</td>\n",
       "    </tr>\n",
       "    <tr>\n",
       "      <th>71</th>\n",
       "      <td>0</td>\n",
       "      <td>2</td>\n",
       "      <td>1.0</td>\n",
       "      <td>23.0</td>\n",
       "      <td>1.0</td>\n",
       "      <td>20.0</td>\n",
       "      <td>0.000000</td>\n",
       "      <td>2.836250</td>\n",
       "      <td>1.0</td>\n",
       "    </tr>\n",
       "  </tbody>\n",
       "</table>\n",
       "<p>72 rows × 9 columns</p>\n",
       "</div>"
      ],
      "text/plain": [
       "    y  d   dd     h   dt  temp           I         wv   eg\n",
       "0   0  0  1.0   0.0  1.0  20.0    0.000000   9.065020  1.0\n",
       "1   0  0  1.0   1.0  1.0  20.0    0.000000  12.948819  1.0\n",
       "2   0  0  1.0   2.0  1.0  20.0    0.000000  13.296281  1.0\n",
       "3   0  0  1.0   3.0  1.0  20.0    0.000000   7.174769  1.0\n",
       "4   0  0  1.0   4.0  1.0  20.0    0.000000   3.189514  1.0\n",
       ".. .. ..  ...   ...  ...   ...         ...        ...  ...\n",
       "67  0  2  1.0  19.0  1.0  20.0  202.282138   7.651756  1.0\n",
       "68  0  2  1.0  20.0  1.0  20.0   15.960435  18.469335  1.0\n",
       "69  0  2  1.0  21.0  1.0  20.0    0.000000   4.107919  1.0\n",
       "70  0  2  1.0  22.0  1.0  20.0    0.000000  13.618208  1.0\n",
       "71  0  2  1.0  23.0  1.0  20.0    0.000000   2.836250  1.0\n",
       "\n",
       "[72 rows x 9 columns]"
      ]
     },
     "execution_count": 36,
     "metadata": {},
     "output_type": "execute_result"
    }
   ],
   "source": [
    "Escenarios"
   ]
  },
  {
   "cell_type": "markdown",
   "id": "personal-portsmouth",
   "metadata": {},
   "source": [
    "## Model Tests"
   ]
  },
  {
   "cell_type": "code",
   "execution_count": 13,
   "id": "fatty-iceland",
   "metadata": {},
   "outputs": [],
   "source": [
    "from ModelWriters.Resources.ExtGrid import ExtGrid"
   ]
  },
  {
   "cell_type": "code",
   "execution_count": 14,
   "id": "transparent-boxing",
   "metadata": {},
   "outputs": [],
   "source": [
    "from ModelWriters.Resources.Load import Load"
   ]
  },
  {
   "cell_type": "code",
   "execution_count": 15,
   "id": "excessive-butter",
   "metadata": {},
   "outputs": [],
   "source": [
    "from ModelWriters.Resources.BaseGen import Generator"
   ]
  },
  {
   "cell_type": "code",
   "execution_count": 66,
   "id": "blond-people",
   "metadata": {},
   "outputs": [],
   "source": [
    "from ModelWriters.Resources.Storage import Storage"
   ]
  },
  {
   "cell_type": "code",
   "execution_count": 67,
   "id": "handed-cargo",
   "metadata": {},
   "outputs": [],
   "source": [
    "model = pe.ConcreteModel()"
   ]
  },
  {
   "cell_type": "code",
   "execution_count": 21,
   "id": "governmental-baseline",
   "metadata": {},
   "outputs": [],
   "source": [
    "exg = ExtGrid('EXT')"
   ]
  },
  {
   "cell_type": "code",
   "execution_count": 22,
   "id": "handmade-delight",
   "metadata": {},
   "outputs": [],
   "source": [
    "bg = Generator('GEN')"
   ]
  },
  {
   "cell_type": "code",
   "execution_count": 23,
   "id": "awful-reader",
   "metadata": {},
   "outputs": [],
   "source": [
    "load = Load('LOAD')"
   ]
  },
  {
   "cell_type": "code",
   "execution_count": 68,
   "id": "personalized-equivalent",
   "metadata": {},
   "outputs": [],
   "source": [
    "storage = Storage('STORAGE')"
   ]
  },
  {
   "cell_type": "code",
   "execution_count": 25,
   "id": "natural-disability",
   "metadata": {},
   "outputs": [],
   "source": [
    "exg['pr_mw'] = 5.0\n",
    "exg['ic_0_mu'] = 1.2\n",
    "exg['ic_1_mu'] = 0.2\n",
    "exg['oc_0_mu'] = 0.001\n",
    "exg['oc_1_mu'] = 0.005\n",
    "\n",
    "#exg.pa_pu = wind_output"
   ]
  },
  {
   "cell_type": "code",
   "execution_count": 37,
   "id": "involved-memory",
   "metadata": {},
   "outputs": [],
   "source": [
    "load['pr_mw'] = .5\n",
    "load['ic_0_mu'] = 1.2\n",
    "load['ic_1_mu'] = 0.2\n",
    "load['oc_0_mu'] = 0.001\n",
    "load['oc_1_mu'] = 0.005\n",
    "load['pa_pu'] = Demand.scalonated_seasoned_randomized_demand\n",
    "\n",
    "#exg.pa_pu = wind_output"
   ]
  },
  {
   "cell_type": "code",
   "execution_count": null,
   "id": "elect-haiti",
   "metadata": {},
   "outputs": [],
   "source": []
  },
  {
   "cell_type": "code",
   "execution_count": 38,
   "id": "valuable-listing",
   "metadata": {},
   "outputs": [],
   "source": [
    "exg.initialize_model(model, Escenarios)"
   ]
  },
  {
   "cell_type": "code",
   "execution_count": 39,
   "id": "stuck-slide",
   "metadata": {},
   "outputs": [],
   "source": [
    "bg['pr_mw'] = 5.0\n",
    "bg['ic_0_mu'] = 1.2\n",
    "bg['ic_1_mu'] = 0.2\n",
    "bg['oc_0_mu'] = 0.001\n",
    "bg['oc_1_mu'] = 0.005\n"
   ]
  },
  {
   "cell_type": "code",
   "execution_count": 40,
   "id": "adaptive-guitar",
   "metadata": {},
   "outputs": [],
   "source": [
    "bg.initialize_model(model, Escenarios)"
   ]
  },
  {
   "cell_type": "code",
   "execution_count": 41,
   "id": "progressive-compact",
   "metadata": {},
   "outputs": [],
   "source": [
    "load.initialize_model(model, Escenarios)"
   ]
  },
  {
   "cell_type": "code",
   "execution_count": 42,
   "id": "disturbed-anniversary",
   "metadata": {},
   "outputs": [
    {
     "data": {
      "text/plain": [
       "0.2623666302630328"
      ]
     },
     "execution_count": 42,
     "metadata": {},
     "output_type": "execute_result"
    }
   ],
   "source": [
    "load.available_power(10)"
   ]
  },
  {
   "cell_type": "code",
   "execution_count": 43,
   "id": "unable-marking",
   "metadata": {},
   "outputs": [
    {
     "data": {
      "text/plain": [
       "<pyomo.core.base.var.SimpleVar at 0x25192239ba0>"
      ]
     },
     "execution_count": 43,
     "metadata": {},
     "output_type": "execute_result"
    }
   ],
   "source": [
    "bg.available_power(15)"
   ]
  },
  {
   "cell_type": "code",
   "execution_count": 44,
   "id": "bound-blues",
   "metadata": {},
   "outputs": [
    {
     "name": "stdout",
     "output_type": "stream",
     "text": [
      "1.2*GEN_create + 0.2*GEN_pr_mw\n"
     ]
    }
   ],
   "source": [
    "print(bg.initial_cost())"
   ]
  },
  {
   "cell_type": "code",
   "execution_count": 45,
   "id": "trying-speech",
   "metadata": {},
   "outputs": [
    {
     "name": "stdout",
     "output_type": "stream",
     "text": [
      "1.3\n"
     ]
    }
   ],
   "source": [
    "print(load.initial_cost())"
   ]
  },
  {
   "cell_type": "code",
   "execution_count": 46,
   "id": "multiple-oasis",
   "metadata": {},
   "outputs": [
    {
     "name": "stdout",
     "output_type": "stream",
     "text": [
      "0.001 + 0.005*GEN_p_mw[10]\n"
     ]
    }
   ],
   "source": [
    "print(bg.operating_cost(10))"
   ]
  },
  {
   "cell_type": "code",
   "execution_count": 47,
   "id": "likely-filter",
   "metadata": {},
   "outputs": [
    {
     "name": "stdout",
     "output_type": "stream",
     "text": [
      "0.001 + 0.005*LOAD_p_mw[10]\n"
     ]
    }
   ],
   "source": [
    "print(load.operating_cost(10))"
   ]
  },
  {
   "cell_type": "code",
   "execution_count": 48,
   "id": "amended-configuration",
   "metadata": {},
   "outputs": [
    {
     "name": "stdout",
     "output_type": "stream",
     "text": [
      "GEN_p_mw[10]\n"
     ]
    }
   ],
   "source": [
    "print(bg.active_power(10))"
   ]
  },
  {
   "cell_type": "code",
   "execution_count": 49,
   "id": "administrative-flush",
   "metadata": {},
   "outputs": [
    {
     "name": "stdout",
     "output_type": "stream",
     "text": [
      "-0.2633838307853684\n"
     ]
    }
   ],
   "source": [
    "print(load.active_power(10))"
   ]
  },
  {
   "cell_type": "code",
   "execution_count": 69,
   "id": "decreased-connectivity",
   "metadata": {},
   "outputs": [],
   "source": [
    "storage.initialize_model(model, Escenarios)"
   ]
  },
  {
   "cell_type": "code",
   "execution_count": null,
   "id": "abroad-homeless",
   "metadata": {},
   "outputs": [],
   "source": []
  },
  {
   "cell_type": "code",
   "execution_count": null,
   "id": "overhead-proceeding",
   "metadata": {},
   "outputs": [],
   "source": []
  },
  {
   "cell_type": "code",
   "execution_count": null,
   "id": "stock-chapter",
   "metadata": {},
   "outputs": [],
   "source": []
  },
  {
   "cell_type": "code",
   "execution_count": 70,
   "id": "weekly-coral",
   "metadata": {},
   "outputs": [
    {
     "name": "stdout",
     "output_type": "stream",
     "text": [
      "7 Set Declarations\n",
      "    STORAGE_p_constraint_charge_index : Size=1, Index=None, Ordered=False\n",
      "        Key  : Dimen : Domain : Size : Members\n",
      "        None :     1 :    Any :   72 : {0, 1, 2, 3, 4, 5, 6, 7, 8, 9, 10, 11, 12, 13, 14, 15, 16, 17, 18, 19, 20, 21, 22, 23, 24, 25, 26, 27, 28, 29, 30, 31, 32, 33, 34, 35, 36, 37, 38, 39, 40, 41, 42, 43, 44, 45, 46, 47, 48, 49, 50, 51, 52, 53, 54, 55, 56, 57, 58, 59, 60, 61, 62, 63, 64, 65, 66, 67, 68, 69, 70, 71}\n",
      "    STORAGE_p_constraint_pr_index : Size=1, Index=None, Ordered=False\n",
      "        Key  : Dimen : Domain : Size : Members\n",
      "        None :     1 :    Any :   72 : {0, 1, 2, 3, 4, 5, 6, 7, 8, 9, 10, 11, 12, 13, 14, 15, 16, 17, 18, 19, 20, 21, 22, 23, 24, 25, 26, 27, 28, 29, 30, 31, 32, 33, 34, 35, 36, 37, 38, 39, 40, 41, 42, 43, 44, 45, 46, 47, 48, 49, 50, 51, 52, 53, 54, 55, 56, 57, 58, 59, 60, 61, 62, 63, 64, 65, 66, 67, 68, 69, 70, 71}\n",
      "    STORAGE_p_constraint_soc_index : Size=1, Index=None, Ordered=False\n",
      "        Key  : Dimen : Domain : Size : Members\n",
      "        None :     1 :    Any :   72 : {0, 1, 2, 3, 4, 5, 6, 7, 8, 9, 10, 11, 12, 13, 14, 15, 16, 17, 18, 19, 20, 21, 22, 23, 24, 25, 26, 27, 28, 29, 30, 31, 32, 33, 34, 35, 36, 37, 38, 39, 40, 41, 42, 43, 44, 45, 46, 47, 48, 49, 50, 51, 52, 53, 54, 55, 56, 57, 58, 59, 60, 61, 62, 63, 64, 65, 66, 67, 68, 69, 70, 71}\n",
      "    STORAGE_p_mw_index : Size=1, Index=None, Ordered=False\n",
      "        Key  : Dimen : Domain : Size : Members\n",
      "        None :     1 :    Any :   72 : {0, 1, 2, 3, 4, 5, 6, 7, 8, 9, 10, 11, 12, 13, 14, 15, 16, 17, 18, 19, 20, 21, 22, 23, 24, 25, 26, 27, 28, 29, 30, 31, 32, 33, 34, 35, 36, 37, 38, 39, 40, 41, 42, 43, 44, 45, 46, 47, 48, 49, 50, 51, 52, 53, 54, 55, 56, 57, 58, 59, 60, 61, 62, 63, 64, 65, 66, 67, 68, 69, 70, 71}\n",
      "    STORAGE_soc_constraint_er_index : Size=1, Index=None, Ordered=False\n",
      "        Key  : Dimen : Domain : Size : Members\n",
      "        None :     1 :    Any :   72 : {0, 1, 2, 3, 4, 5, 6, 7, 8, 9, 10, 11, 12, 13, 14, 15, 16, 17, 18, 19, 20, 21, 22, 23, 24, 25, 26, 27, 28, 29, 30, 31, 32, 33, 34, 35, 36, 37, 38, 39, 40, 41, 42, 43, 44, 45, 46, 47, 48, 49, 50, 51, 52, 53, 54, 55, 56, 57, 58, 59, 60, 61, 62, 63, 64, 65, 66, 67, 68, 69, 70, 71}\n",
      "    STORAGE_soc_constraint_index : Size=1, Index=None, Ordered=False\n",
      "        Key  : Dimen : Domain : Size : Members\n",
      "        None :     1 :    Any :   72 : {0, 1, 2, 3, 4, 5, 6, 7, 8, 9, 10, 11, 12, 13, 14, 15, 16, 17, 18, 19, 20, 21, 22, 23, 24, 25, 26, 27, 28, 29, 30, 31, 32, 33, 34, 35, 36, 37, 38, 39, 40, 41, 42, 43, 44, 45, 46, 47, 48, 49, 50, 51, 52, 53, 54, 55, 56, 57, 58, 59, 60, 61, 62, 63, 64, 65, 66, 67, 68, 69, 70, 71}\n",
      "    STORAGE_soc_mwh_index : Size=1, Index=None, Ordered=False\n",
      "        Key  : Dimen : Domain : Size : Members\n",
      "        None :     1 :    Any :   72 : {0, 1, 2, 3, 4, 5, 6, 7, 8, 9, 10, 11, 12, 13, 14, 15, 16, 17, 18, 19, 20, 21, 22, 23, 24, 25, 26, 27, 28, 29, 30, 31, 32, 33, 34, 35, 36, 37, 38, 39, 40, 41, 42, 43, 44, 45, 46, 47, 48, 49, 50, 51, 52, 53, 54, 55, 56, 57, 58, 59, 60, 61, 62, 63, 64, 65, 66, 67, 68, 69, 70, 71}\n",
      "\n",
      "5 Var Declarations\n",
      "    STORAGE_create : Size=1, Index=None\n",
      "        Key  : Lower : Value : Upper : Fixed : Stale : Domain\n",
      "        None :     0 :  None :     1 : False :  True : Binary\n",
      "    STORAGE_er_mwh : Size=1, Index=None\n",
      "        Key  : Lower : Value : Upper : Fixed : Stale : Domain\n",
      "        None :     0 :  None :  None : False :  True : NonNegativeReals\n",
      "    STORAGE_p_mw : Size=72, Index=STORAGE_p_mw_index\n",
      "        Key : Lower : Value : Upper : Fixed : Stale : Domain\n",
      "          0 :  None :  None :  None : False :  True :  Reals\n",
      "          1 :  None :  None :  None : False :  True :  Reals\n",
      "          2 :  None :  None :  None : False :  True :  Reals\n",
      "          3 :  None :  None :  None : False :  True :  Reals\n",
      "          4 :  None :  None :  None : False :  True :  Reals\n",
      "          5 :  None :  None :  None : False :  True :  Reals\n",
      "          6 :  None :  None :  None : False :  True :  Reals\n",
      "          7 :  None :  None :  None : False :  True :  Reals\n",
      "          8 :  None :  None :  None : False :  True :  Reals\n",
      "          9 :  None :  None :  None : False :  True :  Reals\n",
      "         10 :  None :  None :  None : False :  True :  Reals\n",
      "         11 :  None :  None :  None : False :  True :  Reals\n",
      "         12 :  None :  None :  None : False :  True :  Reals\n",
      "         13 :  None :  None :  None : False :  True :  Reals\n",
      "         14 :  None :  None :  None : False :  True :  Reals\n",
      "         15 :  None :  None :  None : False :  True :  Reals\n",
      "         16 :  None :  None :  None : False :  True :  Reals\n",
      "         17 :  None :  None :  None : False :  True :  Reals\n",
      "         18 :  None :  None :  None : False :  True :  Reals\n",
      "         19 :  None :  None :  None : False :  True :  Reals\n",
      "         20 :  None :  None :  None : False :  True :  Reals\n",
      "         21 :  None :  None :  None : False :  True :  Reals\n",
      "         22 :  None :  None :  None : False :  True :  Reals\n",
      "         23 :  None :  None :  None : False :  True :  Reals\n",
      "         24 :  None :  None :  None : False :  True :  Reals\n",
      "         25 :  None :  None :  None : False :  True :  Reals\n",
      "         26 :  None :  None :  None : False :  True :  Reals\n",
      "         27 :  None :  None :  None : False :  True :  Reals\n",
      "         28 :  None :  None :  None : False :  True :  Reals\n",
      "         29 :  None :  None :  None : False :  True :  Reals\n",
      "         30 :  None :  None :  None : False :  True :  Reals\n",
      "         31 :  None :  None :  None : False :  True :  Reals\n",
      "         32 :  None :  None :  None : False :  True :  Reals\n",
      "         33 :  None :  None :  None : False :  True :  Reals\n",
      "         34 :  None :  None :  None : False :  True :  Reals\n",
      "         35 :  None :  None :  None : False :  True :  Reals\n",
      "         36 :  None :  None :  None : False :  True :  Reals\n",
      "         37 :  None :  None :  None : False :  True :  Reals\n",
      "         38 :  None :  None :  None : False :  True :  Reals\n",
      "         39 :  None :  None :  None : False :  True :  Reals\n",
      "         40 :  None :  None :  None : False :  True :  Reals\n",
      "         41 :  None :  None :  None : False :  True :  Reals\n",
      "         42 :  None :  None :  None : False :  True :  Reals\n",
      "         43 :  None :  None :  None : False :  True :  Reals\n",
      "         44 :  None :  None :  None : False :  True :  Reals\n",
      "         45 :  None :  None :  None : False :  True :  Reals\n",
      "         46 :  None :  None :  None : False :  True :  Reals\n",
      "         47 :  None :  None :  None : False :  True :  Reals\n",
      "         48 :  None :  None :  None : False :  True :  Reals\n",
      "         49 :  None :  None :  None : False :  True :  Reals\n",
      "         50 :  None :  None :  None : False :  True :  Reals\n",
      "         51 :  None :  None :  None : False :  True :  Reals\n",
      "         52 :  None :  None :  None : False :  True :  Reals\n",
      "         53 :  None :  None :  None : False :  True :  Reals\n",
      "         54 :  None :  None :  None : False :  True :  Reals\n",
      "         55 :  None :  None :  None : False :  True :  Reals\n",
      "         56 :  None :  None :  None : False :  True :  Reals\n",
      "         57 :  None :  None :  None : False :  True :  Reals\n",
      "         58 :  None :  None :  None : False :  True :  Reals\n",
      "         59 :  None :  None :  None : False :  True :  Reals\n",
      "         60 :  None :  None :  None : False :  True :  Reals\n",
      "         61 :  None :  None :  None : False :  True :  Reals\n",
      "         62 :  None :  None :  None : False :  True :  Reals\n",
      "         63 :  None :  None :  None : False :  True :  Reals\n",
      "         64 :  None :  None :  None : False :  True :  Reals\n",
      "         65 :  None :  None :  None : False :  True :  Reals\n",
      "         66 :  None :  None :  None : False :  True :  Reals\n",
      "         67 :  None :  None :  None : False :  True :  Reals\n",
      "         68 :  None :  None :  None : False :  True :  Reals\n",
      "         69 :  None :  None :  None : False :  True :  Reals\n",
      "         70 :  None :  None :  None : False :  True :  Reals\n",
      "         71 :  None :  None :  None : False :  True :  Reals\n",
      "    STORAGE_pr_mw : Size=1, Index=None\n",
      "        Key  : Lower : Value : Upper : Fixed : Stale : Domain\n",
      "        None :     0 :  None :  None : False :  True : NonNegativeReals\n",
      "    STORAGE_soc_mwh : Size=72, Index=STORAGE_soc_mwh_index\n",
      "        Key : Lower : Value : Upper : Fixed : Stale : Domain\n",
      "          0 :     0 :  None :  None : False :  True : NonNegativeReals\n",
      "          1 :     0 :  None :  None : False :  True : NonNegativeReals\n",
      "          2 :     0 :  None :  None : False :  True : NonNegativeReals\n",
      "          3 :     0 :  None :  None : False :  True : NonNegativeReals\n",
      "          4 :     0 :  None :  None : False :  True : NonNegativeReals\n",
      "          5 :     0 :  None :  None : False :  True : NonNegativeReals\n",
      "          6 :     0 :  None :  None : False :  True : NonNegativeReals\n",
      "          7 :     0 :  None :  None : False :  True : NonNegativeReals\n",
      "          8 :     0 :  None :  None : False :  True : NonNegativeReals\n",
      "          9 :     0 :  None :  None : False :  True : NonNegativeReals\n",
      "         10 :     0 :  None :  None : False :  True : NonNegativeReals\n",
      "         11 :     0 :  None :  None : False :  True : NonNegativeReals\n",
      "         12 :     0 :  None :  None : False :  True : NonNegativeReals\n",
      "         13 :     0 :  None :  None : False :  True : NonNegativeReals\n",
      "         14 :     0 :  None :  None : False :  True : NonNegativeReals\n",
      "         15 :     0 :  None :  None : False :  True : NonNegativeReals\n",
      "         16 :     0 :  None :  None : False :  True : NonNegativeReals\n",
      "         17 :     0 :  None :  None : False :  True : NonNegativeReals\n",
      "         18 :     0 :  None :  None : False :  True : NonNegativeReals\n",
      "         19 :     0 :  None :  None : False :  True : NonNegativeReals\n",
      "         20 :     0 :  None :  None : False :  True : NonNegativeReals\n",
      "         21 :     0 :  None :  None : False :  True : NonNegativeReals\n",
      "         22 :     0 :  None :  None : False :  True : NonNegativeReals\n",
      "         23 :     0 :  None :  None : False :  True : NonNegativeReals\n",
      "         24 :     0 :  None :  None : False :  True : NonNegativeReals\n",
      "         25 :     0 :  None :  None : False :  True : NonNegativeReals\n",
      "         26 :     0 :  None :  None : False :  True : NonNegativeReals\n",
      "         27 :     0 :  None :  None : False :  True : NonNegativeReals\n",
      "         28 :     0 :  None :  None : False :  True : NonNegativeReals\n",
      "         29 :     0 :  None :  None : False :  True : NonNegativeReals\n",
      "         30 :     0 :  None :  None : False :  True : NonNegativeReals\n",
      "         31 :     0 :  None :  None : False :  True : NonNegativeReals\n",
      "         32 :     0 :  None :  None : False :  True : NonNegativeReals\n",
      "         33 :     0 :  None :  None : False :  True : NonNegativeReals\n",
      "         34 :     0 :  None :  None : False :  True : NonNegativeReals\n",
      "         35 :     0 :  None :  None : False :  True : NonNegativeReals\n",
      "         36 :     0 :  None :  None : False :  True : NonNegativeReals\n",
      "         37 :     0 :  None :  None : False :  True : NonNegativeReals\n",
      "         38 :     0 :  None :  None : False :  True : NonNegativeReals\n",
      "         39 :     0 :  None :  None : False :  True : NonNegativeReals\n",
      "         40 :     0 :  None :  None : False :  True : NonNegativeReals\n",
      "         41 :     0 :  None :  None : False :  True : NonNegativeReals\n",
      "         42 :     0 :  None :  None : False :  True : NonNegativeReals\n",
      "         43 :     0 :  None :  None : False :  True : NonNegativeReals\n",
      "         44 :     0 :  None :  None : False :  True : NonNegativeReals\n",
      "         45 :     0 :  None :  None : False :  True : NonNegativeReals\n",
      "         46 :     0 :  None :  None : False :  True : NonNegativeReals\n",
      "         47 :     0 :  None :  None : False :  True : NonNegativeReals\n",
      "         48 :     0 :  None :  None : False :  True : NonNegativeReals\n",
      "         49 :     0 :  None :  None : False :  True : NonNegativeReals\n",
      "         50 :     0 :  None :  None : False :  True : NonNegativeReals\n",
      "         51 :     0 :  None :  None : False :  True : NonNegativeReals\n",
      "         52 :     0 :  None :  None : False :  True : NonNegativeReals\n",
      "         53 :     0 :  None :  None : False :  True : NonNegativeReals\n",
      "         54 :     0 :  None :  None : False :  True : NonNegativeReals\n",
      "         55 :     0 :  None :  None : False :  True : NonNegativeReals\n",
      "         56 :     0 :  None :  None : False :  True : NonNegativeReals\n",
      "         57 :     0 :  None :  None : False :  True : NonNegativeReals\n",
      "         58 :     0 :  None :  None : False :  True : NonNegativeReals\n",
      "         59 :     0 :  None :  None : False :  True : NonNegativeReals\n",
      "         60 :     0 :  None :  None : False :  True : NonNegativeReals\n",
      "         61 :     0 :  None :  None : False :  True : NonNegativeReals\n",
      "         62 :     0 :  None :  None : False :  True : NonNegativeReals\n",
      "         63 :     0 :  None :  None : False :  True : NonNegativeReals\n",
      "         64 :     0 :  None :  None : False :  True : NonNegativeReals\n",
      "         65 :     0 :  None :  None : False :  True : NonNegativeReals\n",
      "         66 :     0 :  None :  None : False :  True : NonNegativeReals\n",
      "         67 :     0 :  None :  None : False :  True : NonNegativeReals\n",
      "         68 :     0 :  None :  None : False :  True : NonNegativeReals\n",
      "         69 :     0 :  None :  None : False :  True : NonNegativeReals\n",
      "         70 :     0 :  None :  None : False :  True : NonNegativeReals\n",
      "         71 :     0 :  None :  None : False :  True : NonNegativeReals\n",
      "\n",
      "7 Constraint Declarations\n",
      "    STORAGE_e_M_constraint : Size=1, Index=None, Active=True\n",
      "        Key  : Lower : Body                                   : Upper : Active\n",
      "        None :  -Inf : STORAGE_er_mwh - 1000.0*STORAGE_create :   0.0 :   True\n",
      "    STORAGE_p_M_constraint : Size=1, Index=None, Active=True\n",
      "        Key  : Lower : Body                                  : Upper : Active\n",
      "        None :  -Inf : STORAGE_pr_mw - 1000.0*STORAGE_create :   0.0 :   True\n",
      "    STORAGE_p_constraint_charge : Size=72, Index=STORAGE_p_constraint_charge_index, Active=True\n",
      "        Key : Lower : Body                               : Upper : Active\n",
      "          0 :  -Inf :  - STORAGE_pr_mw - STORAGE_p_mw[0] :   0.0 :   True\n",
      "          1 :  -Inf :  - STORAGE_pr_mw - STORAGE_p_mw[1] :   0.0 :   True\n",
      "          2 :  -Inf :  - STORAGE_pr_mw - STORAGE_p_mw[2] :   0.0 :   True\n",
      "          3 :  -Inf :  - STORAGE_pr_mw - STORAGE_p_mw[3] :   0.0 :   True\n",
      "          4 :  -Inf :  - STORAGE_pr_mw - STORAGE_p_mw[4] :   0.0 :   True\n",
      "          5 :  -Inf :  - STORAGE_pr_mw - STORAGE_p_mw[5] :   0.0 :   True\n",
      "          6 :  -Inf :  - STORAGE_pr_mw - STORAGE_p_mw[6] :   0.0 :   True\n",
      "          7 :  -Inf :  - STORAGE_pr_mw - STORAGE_p_mw[7] :   0.0 :   True\n",
      "          8 :  -Inf :  - STORAGE_pr_mw - STORAGE_p_mw[8] :   0.0 :   True\n",
      "          9 :  -Inf :  - STORAGE_pr_mw - STORAGE_p_mw[9] :   0.0 :   True\n",
      "         10 :  -Inf : - STORAGE_pr_mw - STORAGE_p_mw[10] :   0.0 :   True\n",
      "         11 :  -Inf : - STORAGE_pr_mw - STORAGE_p_mw[11] :   0.0 :   True\n",
      "         12 :  -Inf : - STORAGE_pr_mw - STORAGE_p_mw[12] :   0.0 :   True\n",
      "         13 :  -Inf : - STORAGE_pr_mw - STORAGE_p_mw[13] :   0.0 :   True\n",
      "         14 :  -Inf : - STORAGE_pr_mw - STORAGE_p_mw[14] :   0.0 :   True\n",
      "         15 :  -Inf : - STORAGE_pr_mw - STORAGE_p_mw[15] :   0.0 :   True\n",
      "         16 :  -Inf : - STORAGE_pr_mw - STORAGE_p_mw[16] :   0.0 :   True\n",
      "         17 :  -Inf : - STORAGE_pr_mw - STORAGE_p_mw[17] :   0.0 :   True\n",
      "         18 :  -Inf : - STORAGE_pr_mw - STORAGE_p_mw[18] :   0.0 :   True\n",
      "         19 :  -Inf : - STORAGE_pr_mw - STORAGE_p_mw[19] :   0.0 :   True\n",
      "         20 :  -Inf : - STORAGE_pr_mw - STORAGE_p_mw[20] :   0.0 :   True\n",
      "         21 :  -Inf : - STORAGE_pr_mw - STORAGE_p_mw[21] :   0.0 :   True\n",
      "         22 :  -Inf : - STORAGE_pr_mw - STORAGE_p_mw[22] :   0.0 :   True\n",
      "         23 :  -Inf : - STORAGE_pr_mw - STORAGE_p_mw[23] :   0.0 :   True\n",
      "         24 :  -Inf : - STORAGE_pr_mw - STORAGE_p_mw[24] :   0.0 :   True\n",
      "         25 :  -Inf : - STORAGE_pr_mw - STORAGE_p_mw[25] :   0.0 :   True\n",
      "         26 :  -Inf : - STORAGE_pr_mw - STORAGE_p_mw[26] :   0.0 :   True\n",
      "         27 :  -Inf : - STORAGE_pr_mw - STORAGE_p_mw[27] :   0.0 :   True\n",
      "         28 :  -Inf : - STORAGE_pr_mw - STORAGE_p_mw[28] :   0.0 :   True\n",
      "         29 :  -Inf : - STORAGE_pr_mw - STORAGE_p_mw[29] :   0.0 :   True\n",
      "         30 :  -Inf : - STORAGE_pr_mw - STORAGE_p_mw[30] :   0.0 :   True\n",
      "         31 :  -Inf : - STORAGE_pr_mw - STORAGE_p_mw[31] :   0.0 :   True\n",
      "         32 :  -Inf : - STORAGE_pr_mw - STORAGE_p_mw[32] :   0.0 :   True\n",
      "         33 :  -Inf : - STORAGE_pr_mw - STORAGE_p_mw[33] :   0.0 :   True\n",
      "         34 :  -Inf : - STORAGE_pr_mw - STORAGE_p_mw[34] :   0.0 :   True\n",
      "         35 :  -Inf : - STORAGE_pr_mw - STORAGE_p_mw[35] :   0.0 :   True\n",
      "         36 :  -Inf : - STORAGE_pr_mw - STORAGE_p_mw[36] :   0.0 :   True\n",
      "         37 :  -Inf : - STORAGE_pr_mw - STORAGE_p_mw[37] :   0.0 :   True\n",
      "         38 :  -Inf : - STORAGE_pr_mw - STORAGE_p_mw[38] :   0.0 :   True\n",
      "         39 :  -Inf : - STORAGE_pr_mw - STORAGE_p_mw[39] :   0.0 :   True\n",
      "         40 :  -Inf : - STORAGE_pr_mw - STORAGE_p_mw[40] :   0.0 :   True\n",
      "         41 :  -Inf : - STORAGE_pr_mw - STORAGE_p_mw[41] :   0.0 :   True\n",
      "         42 :  -Inf : - STORAGE_pr_mw - STORAGE_p_mw[42] :   0.0 :   True\n",
      "         43 :  -Inf : - STORAGE_pr_mw - STORAGE_p_mw[43] :   0.0 :   True\n",
      "         44 :  -Inf : - STORAGE_pr_mw - STORAGE_p_mw[44] :   0.0 :   True\n",
      "         45 :  -Inf : - STORAGE_pr_mw - STORAGE_p_mw[45] :   0.0 :   True\n",
      "         46 :  -Inf : - STORAGE_pr_mw - STORAGE_p_mw[46] :   0.0 :   True\n",
      "         47 :  -Inf : - STORAGE_pr_mw - STORAGE_p_mw[47] :   0.0 :   True\n",
      "         48 :  -Inf : - STORAGE_pr_mw - STORAGE_p_mw[48] :   0.0 :   True\n",
      "         49 :  -Inf : - STORAGE_pr_mw - STORAGE_p_mw[49] :   0.0 :   True\n",
      "         50 :  -Inf : - STORAGE_pr_mw - STORAGE_p_mw[50] :   0.0 :   True\n",
      "         51 :  -Inf : - STORAGE_pr_mw - STORAGE_p_mw[51] :   0.0 :   True\n",
      "         52 :  -Inf : - STORAGE_pr_mw - STORAGE_p_mw[52] :   0.0 :   True\n",
      "         53 :  -Inf : - STORAGE_pr_mw - STORAGE_p_mw[53] :   0.0 :   True\n",
      "         54 :  -Inf : - STORAGE_pr_mw - STORAGE_p_mw[54] :   0.0 :   True\n",
      "         55 :  -Inf : - STORAGE_pr_mw - STORAGE_p_mw[55] :   0.0 :   True\n",
      "         56 :  -Inf : - STORAGE_pr_mw - STORAGE_p_mw[56] :   0.0 :   True\n",
      "         57 :  -Inf : - STORAGE_pr_mw - STORAGE_p_mw[57] :   0.0 :   True\n",
      "         58 :  -Inf : - STORAGE_pr_mw - STORAGE_p_mw[58] :   0.0 :   True\n",
      "         59 :  -Inf : - STORAGE_pr_mw - STORAGE_p_mw[59] :   0.0 :   True\n",
      "         60 :  -Inf : - STORAGE_pr_mw - STORAGE_p_mw[60] :   0.0 :   True\n",
      "         61 :  -Inf : - STORAGE_pr_mw - STORAGE_p_mw[61] :   0.0 :   True\n",
      "         62 :  -Inf : - STORAGE_pr_mw - STORAGE_p_mw[62] :   0.0 :   True\n",
      "         63 :  -Inf : - STORAGE_pr_mw - STORAGE_p_mw[63] :   0.0 :   True\n",
      "         64 :  -Inf : - STORAGE_pr_mw - STORAGE_p_mw[64] :   0.0 :   True\n",
      "         65 :  -Inf : - STORAGE_pr_mw - STORAGE_p_mw[65] :   0.0 :   True\n",
      "         66 :  -Inf : - STORAGE_pr_mw - STORAGE_p_mw[66] :   0.0 :   True\n",
      "         67 :  -Inf : - STORAGE_pr_mw - STORAGE_p_mw[67] :   0.0 :   True\n",
      "         68 :  -Inf : - STORAGE_pr_mw - STORAGE_p_mw[68] :   0.0 :   True\n",
      "         69 :  -Inf : - STORAGE_pr_mw - STORAGE_p_mw[69] :   0.0 :   True\n",
      "         70 :  -Inf : - STORAGE_pr_mw - STORAGE_p_mw[70] :   0.0 :   True\n",
      "         71 :  -Inf : - STORAGE_pr_mw - STORAGE_p_mw[71] :   0.0 :   True\n",
      "    STORAGE_p_constraint_pr : Size=72, Index=STORAGE_p_constraint_pr_index, Active=True\n",
      "        Key : Lower : Body                             : Upper : Active\n",
      "          0 :  -Inf :  STORAGE_p_mw[0] - STORAGE_pr_mw :   0.0 :   True\n",
      "          1 :  -Inf :  STORAGE_p_mw[1] - STORAGE_pr_mw :   0.0 :   True\n",
      "          2 :  -Inf :  STORAGE_p_mw[2] - STORAGE_pr_mw :   0.0 :   True\n",
      "          3 :  -Inf :  STORAGE_p_mw[3] - STORAGE_pr_mw :   0.0 :   True\n",
      "          4 :  -Inf :  STORAGE_p_mw[4] - STORAGE_pr_mw :   0.0 :   True\n",
      "          5 :  -Inf :  STORAGE_p_mw[5] - STORAGE_pr_mw :   0.0 :   True\n",
      "          6 :  -Inf :  STORAGE_p_mw[6] - STORAGE_pr_mw :   0.0 :   True\n",
      "          7 :  -Inf :  STORAGE_p_mw[7] - STORAGE_pr_mw :   0.0 :   True\n",
      "          8 :  -Inf :  STORAGE_p_mw[8] - STORAGE_pr_mw :   0.0 :   True\n",
      "          9 :  -Inf :  STORAGE_p_mw[9] - STORAGE_pr_mw :   0.0 :   True\n",
      "         10 :  -Inf : STORAGE_p_mw[10] - STORAGE_pr_mw :   0.0 :   True\n",
      "         11 :  -Inf : STORAGE_p_mw[11] - STORAGE_pr_mw :   0.0 :   True\n",
      "         12 :  -Inf : STORAGE_p_mw[12] - STORAGE_pr_mw :   0.0 :   True\n",
      "         13 :  -Inf : STORAGE_p_mw[13] - STORAGE_pr_mw :   0.0 :   True\n",
      "         14 :  -Inf : STORAGE_p_mw[14] - STORAGE_pr_mw :   0.0 :   True\n",
      "         15 :  -Inf : STORAGE_p_mw[15] - STORAGE_pr_mw :   0.0 :   True\n",
      "         16 :  -Inf : STORAGE_p_mw[16] - STORAGE_pr_mw :   0.0 :   True\n",
      "         17 :  -Inf : STORAGE_p_mw[17] - STORAGE_pr_mw :   0.0 :   True\n",
      "         18 :  -Inf : STORAGE_p_mw[18] - STORAGE_pr_mw :   0.0 :   True\n",
      "         19 :  -Inf : STORAGE_p_mw[19] - STORAGE_pr_mw :   0.0 :   True\n",
      "         20 :  -Inf : STORAGE_p_mw[20] - STORAGE_pr_mw :   0.0 :   True\n",
      "         21 :  -Inf : STORAGE_p_mw[21] - STORAGE_pr_mw :   0.0 :   True\n",
      "         22 :  -Inf : STORAGE_p_mw[22] - STORAGE_pr_mw :   0.0 :   True\n",
      "         23 :  -Inf : STORAGE_p_mw[23] - STORAGE_pr_mw :   0.0 :   True\n",
      "         24 :  -Inf : STORAGE_p_mw[24] - STORAGE_pr_mw :   0.0 :   True\n",
      "         25 :  -Inf : STORAGE_p_mw[25] - STORAGE_pr_mw :   0.0 :   True\n",
      "         26 :  -Inf : STORAGE_p_mw[26] - STORAGE_pr_mw :   0.0 :   True\n",
      "         27 :  -Inf : STORAGE_p_mw[27] - STORAGE_pr_mw :   0.0 :   True\n",
      "         28 :  -Inf : STORAGE_p_mw[28] - STORAGE_pr_mw :   0.0 :   True\n",
      "         29 :  -Inf : STORAGE_p_mw[29] - STORAGE_pr_mw :   0.0 :   True\n",
      "         30 :  -Inf : STORAGE_p_mw[30] - STORAGE_pr_mw :   0.0 :   True\n",
      "         31 :  -Inf : STORAGE_p_mw[31] - STORAGE_pr_mw :   0.0 :   True\n",
      "         32 :  -Inf : STORAGE_p_mw[32] - STORAGE_pr_mw :   0.0 :   True\n",
      "         33 :  -Inf : STORAGE_p_mw[33] - STORAGE_pr_mw :   0.0 :   True\n",
      "         34 :  -Inf : STORAGE_p_mw[34] - STORAGE_pr_mw :   0.0 :   True\n",
      "         35 :  -Inf : STORAGE_p_mw[35] - STORAGE_pr_mw :   0.0 :   True\n",
      "         36 :  -Inf : STORAGE_p_mw[36] - STORAGE_pr_mw :   0.0 :   True\n",
      "         37 :  -Inf : STORAGE_p_mw[37] - STORAGE_pr_mw :   0.0 :   True\n",
      "         38 :  -Inf : STORAGE_p_mw[38] - STORAGE_pr_mw :   0.0 :   True\n",
      "         39 :  -Inf : STORAGE_p_mw[39] - STORAGE_pr_mw :   0.0 :   True\n",
      "         40 :  -Inf : STORAGE_p_mw[40] - STORAGE_pr_mw :   0.0 :   True\n",
      "         41 :  -Inf : STORAGE_p_mw[41] - STORAGE_pr_mw :   0.0 :   True\n",
      "         42 :  -Inf : STORAGE_p_mw[42] - STORAGE_pr_mw :   0.0 :   True\n",
      "         43 :  -Inf : STORAGE_p_mw[43] - STORAGE_pr_mw :   0.0 :   True\n",
      "         44 :  -Inf : STORAGE_p_mw[44] - STORAGE_pr_mw :   0.0 :   True\n",
      "         45 :  -Inf : STORAGE_p_mw[45] - STORAGE_pr_mw :   0.0 :   True\n",
      "         46 :  -Inf : STORAGE_p_mw[46] - STORAGE_pr_mw :   0.0 :   True\n",
      "         47 :  -Inf : STORAGE_p_mw[47] - STORAGE_pr_mw :   0.0 :   True\n",
      "         48 :  -Inf : STORAGE_p_mw[48] - STORAGE_pr_mw :   0.0 :   True\n",
      "         49 :  -Inf : STORAGE_p_mw[49] - STORAGE_pr_mw :   0.0 :   True\n",
      "         50 :  -Inf : STORAGE_p_mw[50] - STORAGE_pr_mw :   0.0 :   True\n",
      "         51 :  -Inf : STORAGE_p_mw[51] - STORAGE_pr_mw :   0.0 :   True\n",
      "         52 :  -Inf : STORAGE_p_mw[52] - STORAGE_pr_mw :   0.0 :   True\n",
      "         53 :  -Inf : STORAGE_p_mw[53] - STORAGE_pr_mw :   0.0 :   True\n",
      "         54 :  -Inf : STORAGE_p_mw[54] - STORAGE_pr_mw :   0.0 :   True\n",
      "         55 :  -Inf : STORAGE_p_mw[55] - STORAGE_pr_mw :   0.0 :   True\n",
      "         56 :  -Inf : STORAGE_p_mw[56] - STORAGE_pr_mw :   0.0 :   True\n",
      "         57 :  -Inf : STORAGE_p_mw[57] - STORAGE_pr_mw :   0.0 :   True\n",
      "         58 :  -Inf : STORAGE_p_mw[58] - STORAGE_pr_mw :   0.0 :   True\n",
      "         59 :  -Inf : STORAGE_p_mw[59] - STORAGE_pr_mw :   0.0 :   True\n",
      "         60 :  -Inf : STORAGE_p_mw[60] - STORAGE_pr_mw :   0.0 :   True\n",
      "         61 :  -Inf : STORAGE_p_mw[61] - STORAGE_pr_mw :   0.0 :   True\n",
      "         62 :  -Inf : STORAGE_p_mw[62] - STORAGE_pr_mw :   0.0 :   True\n",
      "         63 :  -Inf : STORAGE_p_mw[63] - STORAGE_pr_mw :   0.0 :   True\n",
      "         64 :  -Inf : STORAGE_p_mw[64] - STORAGE_pr_mw :   0.0 :   True\n",
      "         65 :  -Inf : STORAGE_p_mw[65] - STORAGE_pr_mw :   0.0 :   True\n",
      "         66 :  -Inf : STORAGE_p_mw[66] - STORAGE_pr_mw :   0.0 :   True\n",
      "         67 :  -Inf : STORAGE_p_mw[67] - STORAGE_pr_mw :   0.0 :   True\n",
      "         68 :  -Inf : STORAGE_p_mw[68] - STORAGE_pr_mw :   0.0 :   True\n",
      "         69 :  -Inf : STORAGE_p_mw[69] - STORAGE_pr_mw :   0.0 :   True\n",
      "         70 :  -Inf : STORAGE_p_mw[70] - STORAGE_pr_mw :   0.0 :   True\n",
      "         71 :  -Inf : STORAGE_p_mw[71] - STORAGE_pr_mw :   0.0 :   True\n",
      "    STORAGE_p_constraint_soc : Size=72, Index=STORAGE_p_constraint_soc_index, Active=True\n",
      "        Key : Lower : Body                                   : Upper : Active\n",
      "          0 :  -Inf :   STORAGE_p_mw[0] - STORAGE_soc_mwh[0] :   0.0 :   True\n",
      "          1 :  -Inf :   STORAGE_p_mw[1] - STORAGE_soc_mwh[1] :   0.0 :   True\n",
      "          2 :  -Inf :   STORAGE_p_mw[2] - STORAGE_soc_mwh[2] :   0.0 :   True\n",
      "          3 :  -Inf :   STORAGE_p_mw[3] - STORAGE_soc_mwh[3] :   0.0 :   True\n",
      "          4 :  -Inf :   STORAGE_p_mw[4] - STORAGE_soc_mwh[4] :   0.0 :   True\n",
      "          5 :  -Inf :   STORAGE_p_mw[5] - STORAGE_soc_mwh[5] :   0.0 :   True\n",
      "          6 :  -Inf :   STORAGE_p_mw[6] - STORAGE_soc_mwh[6] :   0.0 :   True\n",
      "          7 :  -Inf :   STORAGE_p_mw[7] - STORAGE_soc_mwh[7] :   0.0 :   True\n",
      "          8 :  -Inf :   STORAGE_p_mw[8] - STORAGE_soc_mwh[8] :   0.0 :   True\n",
      "          9 :  -Inf :   STORAGE_p_mw[9] - STORAGE_soc_mwh[9] :   0.0 :   True\n",
      "         10 :  -Inf : STORAGE_p_mw[10] - STORAGE_soc_mwh[10] :   0.0 :   True\n",
      "         11 :  -Inf : STORAGE_p_mw[11] - STORAGE_soc_mwh[11] :   0.0 :   True\n",
      "         12 :  -Inf : STORAGE_p_mw[12] - STORAGE_soc_mwh[12] :   0.0 :   True\n",
      "         13 :  -Inf : STORAGE_p_mw[13] - STORAGE_soc_mwh[13] :   0.0 :   True\n",
      "         14 :  -Inf : STORAGE_p_mw[14] - STORAGE_soc_mwh[14] :   0.0 :   True\n",
      "         15 :  -Inf : STORAGE_p_mw[15] - STORAGE_soc_mwh[15] :   0.0 :   True\n",
      "         16 :  -Inf : STORAGE_p_mw[16] - STORAGE_soc_mwh[16] :   0.0 :   True\n",
      "         17 :  -Inf : STORAGE_p_mw[17] - STORAGE_soc_mwh[17] :   0.0 :   True\n",
      "         18 :  -Inf : STORAGE_p_mw[18] - STORAGE_soc_mwh[18] :   0.0 :   True\n",
      "         19 :  -Inf : STORAGE_p_mw[19] - STORAGE_soc_mwh[19] :   0.0 :   True\n",
      "         20 :  -Inf : STORAGE_p_mw[20] - STORAGE_soc_mwh[20] :   0.0 :   True\n",
      "         21 :  -Inf : STORAGE_p_mw[21] - STORAGE_soc_mwh[21] :   0.0 :   True\n",
      "         22 :  -Inf : STORAGE_p_mw[22] - STORAGE_soc_mwh[22] :   0.0 :   True\n",
      "         23 :  -Inf : STORAGE_p_mw[23] - STORAGE_soc_mwh[23] :   0.0 :   True\n",
      "         24 :  -Inf : STORAGE_p_mw[24] - STORAGE_soc_mwh[24] :   0.0 :   True\n",
      "         25 :  -Inf : STORAGE_p_mw[25] - STORAGE_soc_mwh[25] :   0.0 :   True\n",
      "         26 :  -Inf : STORAGE_p_mw[26] - STORAGE_soc_mwh[26] :   0.0 :   True\n",
      "         27 :  -Inf : STORAGE_p_mw[27] - STORAGE_soc_mwh[27] :   0.0 :   True\n",
      "         28 :  -Inf : STORAGE_p_mw[28] - STORAGE_soc_mwh[28] :   0.0 :   True\n",
      "         29 :  -Inf : STORAGE_p_mw[29] - STORAGE_soc_mwh[29] :   0.0 :   True\n",
      "         30 :  -Inf : STORAGE_p_mw[30] - STORAGE_soc_mwh[30] :   0.0 :   True\n",
      "         31 :  -Inf : STORAGE_p_mw[31] - STORAGE_soc_mwh[31] :   0.0 :   True\n",
      "         32 :  -Inf : STORAGE_p_mw[32] - STORAGE_soc_mwh[32] :   0.0 :   True\n",
      "         33 :  -Inf : STORAGE_p_mw[33] - STORAGE_soc_mwh[33] :   0.0 :   True\n",
      "         34 :  -Inf : STORAGE_p_mw[34] - STORAGE_soc_mwh[34] :   0.0 :   True\n",
      "         35 :  -Inf : STORAGE_p_mw[35] - STORAGE_soc_mwh[35] :   0.0 :   True\n",
      "         36 :  -Inf : STORAGE_p_mw[36] - STORAGE_soc_mwh[36] :   0.0 :   True\n",
      "         37 :  -Inf : STORAGE_p_mw[37] - STORAGE_soc_mwh[37] :   0.0 :   True\n",
      "         38 :  -Inf : STORAGE_p_mw[38] - STORAGE_soc_mwh[38] :   0.0 :   True\n",
      "         39 :  -Inf : STORAGE_p_mw[39] - STORAGE_soc_mwh[39] :   0.0 :   True\n",
      "         40 :  -Inf : STORAGE_p_mw[40] - STORAGE_soc_mwh[40] :   0.0 :   True\n",
      "         41 :  -Inf : STORAGE_p_mw[41] - STORAGE_soc_mwh[41] :   0.0 :   True\n",
      "         42 :  -Inf : STORAGE_p_mw[42] - STORAGE_soc_mwh[42] :   0.0 :   True\n",
      "         43 :  -Inf : STORAGE_p_mw[43] - STORAGE_soc_mwh[43] :   0.0 :   True\n",
      "         44 :  -Inf : STORAGE_p_mw[44] - STORAGE_soc_mwh[44] :   0.0 :   True\n",
      "         45 :  -Inf : STORAGE_p_mw[45] - STORAGE_soc_mwh[45] :   0.0 :   True\n",
      "         46 :  -Inf : STORAGE_p_mw[46] - STORAGE_soc_mwh[46] :   0.0 :   True\n",
      "         47 :  -Inf : STORAGE_p_mw[47] - STORAGE_soc_mwh[47] :   0.0 :   True\n",
      "         48 :  -Inf : STORAGE_p_mw[48] - STORAGE_soc_mwh[48] :   0.0 :   True\n",
      "         49 :  -Inf : STORAGE_p_mw[49] - STORAGE_soc_mwh[49] :   0.0 :   True\n",
      "         50 :  -Inf : STORAGE_p_mw[50] - STORAGE_soc_mwh[50] :   0.0 :   True\n",
      "         51 :  -Inf : STORAGE_p_mw[51] - STORAGE_soc_mwh[51] :   0.0 :   True\n",
      "         52 :  -Inf : STORAGE_p_mw[52] - STORAGE_soc_mwh[52] :   0.0 :   True\n",
      "         53 :  -Inf : STORAGE_p_mw[53] - STORAGE_soc_mwh[53] :   0.0 :   True\n",
      "         54 :  -Inf : STORAGE_p_mw[54] - STORAGE_soc_mwh[54] :   0.0 :   True\n",
      "         55 :  -Inf : STORAGE_p_mw[55] - STORAGE_soc_mwh[55] :   0.0 :   True\n",
      "         56 :  -Inf : STORAGE_p_mw[56] - STORAGE_soc_mwh[56] :   0.0 :   True\n",
      "         57 :  -Inf : STORAGE_p_mw[57] - STORAGE_soc_mwh[57] :   0.0 :   True\n",
      "         58 :  -Inf : STORAGE_p_mw[58] - STORAGE_soc_mwh[58] :   0.0 :   True\n",
      "         59 :  -Inf : STORAGE_p_mw[59] - STORAGE_soc_mwh[59] :   0.0 :   True\n",
      "         60 :  -Inf : STORAGE_p_mw[60] - STORAGE_soc_mwh[60] :   0.0 :   True\n",
      "         61 :  -Inf : STORAGE_p_mw[61] - STORAGE_soc_mwh[61] :   0.0 :   True\n",
      "         62 :  -Inf : STORAGE_p_mw[62] - STORAGE_soc_mwh[62] :   0.0 :   True\n",
      "         63 :  -Inf : STORAGE_p_mw[63] - STORAGE_soc_mwh[63] :   0.0 :   True\n",
      "         64 :  -Inf : STORAGE_p_mw[64] - STORAGE_soc_mwh[64] :   0.0 :   True\n",
      "         65 :  -Inf : STORAGE_p_mw[65] - STORAGE_soc_mwh[65] :   0.0 :   True\n",
      "         66 :  -Inf : STORAGE_p_mw[66] - STORAGE_soc_mwh[66] :   0.0 :   True\n",
      "         67 :  -Inf : STORAGE_p_mw[67] - STORAGE_soc_mwh[67] :   0.0 :   True\n",
      "         68 :  -Inf : STORAGE_p_mw[68] - STORAGE_soc_mwh[68] :   0.0 :   True\n",
      "         69 :  -Inf : STORAGE_p_mw[69] - STORAGE_soc_mwh[69] :   0.0 :   True\n",
      "         70 :  -Inf : STORAGE_p_mw[70] - STORAGE_soc_mwh[70] :   0.0 :   True\n",
      "         71 :  -Inf : STORAGE_p_mw[71] - STORAGE_soc_mwh[71] :   0.0 :   True\n",
      "    STORAGE_soc_constraint : Size=72, Index=STORAGE_soc_constraint_index, Active=True\n",
      "        Key : Lower : Body                                                                                  : Upper : Active\n",
      "          0 :   0.0 :                                                                    STORAGE_soc_mwh[0] :   0.0 :   True\n",
      "          1 :   0.0 :    STORAGE_soc_mwh[1] - (0.9979166666666667*STORAGE_soc_mwh[0] - 0.8*STORAGE_p_mw[1]) :   0.0 :   True\n",
      "          2 :   0.0 :    STORAGE_soc_mwh[2] - (0.9979166666666667*STORAGE_soc_mwh[1] - 0.8*STORAGE_p_mw[2]) :   0.0 :   True\n",
      "          3 :   0.0 :    STORAGE_soc_mwh[3] - (0.9979166666666667*STORAGE_soc_mwh[2] - 0.8*STORAGE_p_mw[3]) :   0.0 :   True\n",
      "          4 :   0.0 :    STORAGE_soc_mwh[4] - (0.9979166666666667*STORAGE_soc_mwh[3] - 0.8*STORAGE_p_mw[4]) :   0.0 :   True\n",
      "          5 :   0.0 :    STORAGE_soc_mwh[5] - (0.9979166666666667*STORAGE_soc_mwh[4] - 0.8*STORAGE_p_mw[5]) :   0.0 :   True\n",
      "          6 :   0.0 :    STORAGE_soc_mwh[6] - (0.9979166666666667*STORAGE_soc_mwh[5] - 0.8*STORAGE_p_mw[6]) :   0.0 :   True\n",
      "          7 :   0.0 :    STORAGE_soc_mwh[7] - (0.9979166666666667*STORAGE_soc_mwh[6] - 0.8*STORAGE_p_mw[7]) :   0.0 :   True\n",
      "          8 :   0.0 :    STORAGE_soc_mwh[8] - (0.9979166666666667*STORAGE_soc_mwh[7] - 0.8*STORAGE_p_mw[8]) :   0.0 :   True\n",
      "          9 :   0.0 :    STORAGE_soc_mwh[9] - (0.9979166666666667*STORAGE_soc_mwh[8] - 0.8*STORAGE_p_mw[9]) :   0.0 :   True\n",
      "         10 :   0.0 :  STORAGE_soc_mwh[10] - (0.9979166666666667*STORAGE_soc_mwh[9] - 0.8*STORAGE_p_mw[10]) :   0.0 :   True\n",
      "         11 :   0.0 : STORAGE_soc_mwh[11] - (0.9979166666666667*STORAGE_soc_mwh[10] - 0.8*STORAGE_p_mw[11]) :   0.0 :   True\n",
      "         12 :   0.0 : STORAGE_soc_mwh[12] - (0.9979166666666667*STORAGE_soc_mwh[11] - 0.8*STORAGE_p_mw[12]) :   0.0 :   True\n",
      "         13 :   0.0 : STORAGE_soc_mwh[13] - (0.9979166666666667*STORAGE_soc_mwh[12] - 0.8*STORAGE_p_mw[13]) :   0.0 :   True\n",
      "         14 :   0.0 : STORAGE_soc_mwh[14] - (0.9979166666666667*STORAGE_soc_mwh[13] - 0.8*STORAGE_p_mw[14]) :   0.0 :   True\n",
      "         15 :   0.0 : STORAGE_soc_mwh[15] - (0.9979166666666667*STORAGE_soc_mwh[14] - 0.8*STORAGE_p_mw[15]) :   0.0 :   True\n",
      "         16 :   0.0 : STORAGE_soc_mwh[16] - (0.9979166666666667*STORAGE_soc_mwh[15] - 0.8*STORAGE_p_mw[16]) :   0.0 :   True\n",
      "         17 :   0.0 : STORAGE_soc_mwh[17] - (0.9979166666666667*STORAGE_soc_mwh[16] - 0.8*STORAGE_p_mw[17]) :   0.0 :   True\n",
      "         18 :   0.0 : STORAGE_soc_mwh[18] - (0.9979166666666667*STORAGE_soc_mwh[17] - 0.8*STORAGE_p_mw[18]) :   0.0 :   True\n",
      "         19 :   0.0 : STORAGE_soc_mwh[19] - (0.9979166666666667*STORAGE_soc_mwh[18] - 0.8*STORAGE_p_mw[19]) :   0.0 :   True\n",
      "         20 :   0.0 : STORAGE_soc_mwh[20] - (0.9979166666666667*STORAGE_soc_mwh[19] - 0.8*STORAGE_p_mw[20]) :   0.0 :   True\n",
      "         21 :   0.0 : STORAGE_soc_mwh[21] - (0.9979166666666667*STORAGE_soc_mwh[20] - 0.8*STORAGE_p_mw[21]) :   0.0 :   True\n",
      "         22 :   0.0 : STORAGE_soc_mwh[22] - (0.9979166666666667*STORAGE_soc_mwh[21] - 0.8*STORAGE_p_mw[22]) :   0.0 :   True\n",
      "         23 :   0.0 : STORAGE_soc_mwh[23] - (0.9979166666666667*STORAGE_soc_mwh[22] - 0.8*STORAGE_p_mw[23]) :   0.0 :   True\n",
      "         24 :   0.0 : STORAGE_soc_mwh[24] - (0.9979166666666667*STORAGE_soc_mwh[23] - 0.8*STORAGE_p_mw[24]) :   0.0 :   True\n",
      "         25 :   0.0 : STORAGE_soc_mwh[25] - (0.9979166666666667*STORAGE_soc_mwh[24] - 0.8*STORAGE_p_mw[25]) :   0.0 :   True\n",
      "         26 :   0.0 : STORAGE_soc_mwh[26] - (0.9979166666666667*STORAGE_soc_mwh[25] - 0.8*STORAGE_p_mw[26]) :   0.0 :   True\n",
      "         27 :   0.0 : STORAGE_soc_mwh[27] - (0.9979166666666667*STORAGE_soc_mwh[26] - 0.8*STORAGE_p_mw[27]) :   0.0 :   True\n",
      "         28 :   0.0 : STORAGE_soc_mwh[28] - (0.9979166666666667*STORAGE_soc_mwh[27] - 0.8*STORAGE_p_mw[28]) :   0.0 :   True\n",
      "         29 :   0.0 : STORAGE_soc_mwh[29] - (0.9979166666666667*STORAGE_soc_mwh[28] - 0.8*STORAGE_p_mw[29]) :   0.0 :   True\n",
      "         30 :   0.0 : STORAGE_soc_mwh[30] - (0.9979166666666667*STORAGE_soc_mwh[29] - 0.8*STORAGE_p_mw[30]) :   0.0 :   True\n",
      "         31 :   0.0 : STORAGE_soc_mwh[31] - (0.9979166666666667*STORAGE_soc_mwh[30] - 0.8*STORAGE_p_mw[31]) :   0.0 :   True\n",
      "         32 :   0.0 : STORAGE_soc_mwh[32] - (0.9979166666666667*STORAGE_soc_mwh[31] - 0.8*STORAGE_p_mw[32]) :   0.0 :   True\n",
      "         33 :   0.0 : STORAGE_soc_mwh[33] - (0.9979166666666667*STORAGE_soc_mwh[32] - 0.8*STORAGE_p_mw[33]) :   0.0 :   True\n",
      "         34 :   0.0 : STORAGE_soc_mwh[34] - (0.9979166666666667*STORAGE_soc_mwh[33] - 0.8*STORAGE_p_mw[34]) :   0.0 :   True\n",
      "         35 :   0.0 : STORAGE_soc_mwh[35] - (0.9979166666666667*STORAGE_soc_mwh[34] - 0.8*STORAGE_p_mw[35]) :   0.0 :   True\n",
      "         36 :   0.0 : STORAGE_soc_mwh[36] - (0.9979166666666667*STORAGE_soc_mwh[35] - 0.8*STORAGE_p_mw[36]) :   0.0 :   True\n",
      "         37 :   0.0 : STORAGE_soc_mwh[37] - (0.9979166666666667*STORAGE_soc_mwh[36] - 0.8*STORAGE_p_mw[37]) :   0.0 :   True\n",
      "         38 :   0.0 : STORAGE_soc_mwh[38] - (0.9979166666666667*STORAGE_soc_mwh[37] - 0.8*STORAGE_p_mw[38]) :   0.0 :   True\n",
      "         39 :   0.0 : STORAGE_soc_mwh[39] - (0.9979166666666667*STORAGE_soc_mwh[38] - 0.8*STORAGE_p_mw[39]) :   0.0 :   True\n",
      "         40 :   0.0 : STORAGE_soc_mwh[40] - (0.9979166666666667*STORAGE_soc_mwh[39] - 0.8*STORAGE_p_mw[40]) :   0.0 :   True\n",
      "         41 :   0.0 : STORAGE_soc_mwh[41] - (0.9979166666666667*STORAGE_soc_mwh[40] - 0.8*STORAGE_p_mw[41]) :   0.0 :   True\n",
      "         42 :   0.0 : STORAGE_soc_mwh[42] - (0.9979166666666667*STORAGE_soc_mwh[41] - 0.8*STORAGE_p_mw[42]) :   0.0 :   True\n",
      "         43 :   0.0 : STORAGE_soc_mwh[43] - (0.9979166666666667*STORAGE_soc_mwh[42] - 0.8*STORAGE_p_mw[43]) :   0.0 :   True\n",
      "         44 :   0.0 : STORAGE_soc_mwh[44] - (0.9979166666666667*STORAGE_soc_mwh[43] - 0.8*STORAGE_p_mw[44]) :   0.0 :   True\n",
      "         45 :   0.0 : STORAGE_soc_mwh[45] - (0.9979166666666667*STORAGE_soc_mwh[44] - 0.8*STORAGE_p_mw[45]) :   0.0 :   True\n",
      "         46 :   0.0 : STORAGE_soc_mwh[46] - (0.9979166666666667*STORAGE_soc_mwh[45] - 0.8*STORAGE_p_mw[46]) :   0.0 :   True\n",
      "         47 :   0.0 : STORAGE_soc_mwh[47] - (0.9979166666666667*STORAGE_soc_mwh[46] - 0.8*STORAGE_p_mw[47]) :   0.0 :   True\n",
      "         48 :   0.0 : STORAGE_soc_mwh[48] - (0.9979166666666667*STORAGE_soc_mwh[47] - 0.8*STORAGE_p_mw[48]) :   0.0 :   True\n",
      "         49 :   0.0 : STORAGE_soc_mwh[49] - (0.9979166666666667*STORAGE_soc_mwh[48] - 0.8*STORAGE_p_mw[49]) :   0.0 :   True\n",
      "         50 :   0.0 : STORAGE_soc_mwh[50] - (0.9979166666666667*STORAGE_soc_mwh[49] - 0.8*STORAGE_p_mw[50]) :   0.0 :   True\n",
      "         51 :   0.0 : STORAGE_soc_mwh[51] - (0.9979166666666667*STORAGE_soc_mwh[50] - 0.8*STORAGE_p_mw[51]) :   0.0 :   True\n",
      "         52 :   0.0 : STORAGE_soc_mwh[52] - (0.9979166666666667*STORAGE_soc_mwh[51] - 0.8*STORAGE_p_mw[52]) :   0.0 :   True\n",
      "         53 :   0.0 : STORAGE_soc_mwh[53] - (0.9979166666666667*STORAGE_soc_mwh[52] - 0.8*STORAGE_p_mw[53]) :   0.0 :   True\n",
      "         54 :   0.0 : STORAGE_soc_mwh[54] - (0.9979166666666667*STORAGE_soc_mwh[53] - 0.8*STORAGE_p_mw[54]) :   0.0 :   True\n",
      "         55 :   0.0 : STORAGE_soc_mwh[55] - (0.9979166666666667*STORAGE_soc_mwh[54] - 0.8*STORAGE_p_mw[55]) :   0.0 :   True\n",
      "         56 :   0.0 : STORAGE_soc_mwh[56] - (0.9979166666666667*STORAGE_soc_mwh[55] - 0.8*STORAGE_p_mw[56]) :   0.0 :   True\n",
      "         57 :   0.0 : STORAGE_soc_mwh[57] - (0.9979166666666667*STORAGE_soc_mwh[56] - 0.8*STORAGE_p_mw[57]) :   0.0 :   True\n",
      "         58 :   0.0 : STORAGE_soc_mwh[58] - (0.9979166666666667*STORAGE_soc_mwh[57] - 0.8*STORAGE_p_mw[58]) :   0.0 :   True\n",
      "         59 :   0.0 : STORAGE_soc_mwh[59] - (0.9979166666666667*STORAGE_soc_mwh[58] - 0.8*STORAGE_p_mw[59]) :   0.0 :   True\n",
      "         60 :   0.0 : STORAGE_soc_mwh[60] - (0.9979166666666667*STORAGE_soc_mwh[59] - 0.8*STORAGE_p_mw[60]) :   0.0 :   True\n",
      "         61 :   0.0 : STORAGE_soc_mwh[61] - (0.9979166666666667*STORAGE_soc_mwh[60] - 0.8*STORAGE_p_mw[61]) :   0.0 :   True\n",
      "         62 :   0.0 : STORAGE_soc_mwh[62] - (0.9979166666666667*STORAGE_soc_mwh[61] - 0.8*STORAGE_p_mw[62]) :   0.0 :   True\n",
      "         63 :   0.0 : STORAGE_soc_mwh[63] - (0.9979166666666667*STORAGE_soc_mwh[62] - 0.8*STORAGE_p_mw[63]) :   0.0 :   True\n",
      "         64 :   0.0 : STORAGE_soc_mwh[64] - (0.9979166666666667*STORAGE_soc_mwh[63] - 0.8*STORAGE_p_mw[64]) :   0.0 :   True\n",
      "         65 :   0.0 : STORAGE_soc_mwh[65] - (0.9979166666666667*STORAGE_soc_mwh[64] - 0.8*STORAGE_p_mw[65]) :   0.0 :   True\n",
      "         66 :   0.0 : STORAGE_soc_mwh[66] - (0.9979166666666667*STORAGE_soc_mwh[65] - 0.8*STORAGE_p_mw[66]) :   0.0 :   True\n",
      "         67 :   0.0 : STORAGE_soc_mwh[67] - (0.9979166666666667*STORAGE_soc_mwh[66] - 0.8*STORAGE_p_mw[67]) :   0.0 :   True\n",
      "         68 :   0.0 : STORAGE_soc_mwh[68] - (0.9979166666666667*STORAGE_soc_mwh[67] - 0.8*STORAGE_p_mw[68]) :   0.0 :   True\n",
      "         69 :   0.0 : STORAGE_soc_mwh[69] - (0.9979166666666667*STORAGE_soc_mwh[68] - 0.8*STORAGE_p_mw[69]) :   0.0 :   True\n",
      "         70 :   0.0 : STORAGE_soc_mwh[70] - (0.9979166666666667*STORAGE_soc_mwh[69] - 0.8*STORAGE_p_mw[70]) :   0.0 :   True\n",
      "         71 :   0.0 : STORAGE_soc_mwh[71] - (0.9979166666666667*STORAGE_soc_mwh[70] - 0.8*STORAGE_p_mw[71]) :   0.0 :   True\n",
      "    STORAGE_soc_constraint_er : Size=72, Index=STORAGE_soc_constraint_er_index, Active=True\n",
      "        Key : Lower : Body                                 : Upper : Active\n",
      "          0 :  -Inf :  STORAGE_soc_mwh[0] - STORAGE_er_mwh :   0.0 :   True\n",
      "          1 :  -Inf :  STORAGE_soc_mwh[1] - STORAGE_er_mwh :   0.0 :   True\n",
      "          2 :  -Inf :  STORAGE_soc_mwh[2] - STORAGE_er_mwh :   0.0 :   True\n",
      "          3 :  -Inf :  STORAGE_soc_mwh[3] - STORAGE_er_mwh :   0.0 :   True\n",
      "          4 :  -Inf :  STORAGE_soc_mwh[4] - STORAGE_er_mwh :   0.0 :   True\n",
      "          5 :  -Inf :  STORAGE_soc_mwh[5] - STORAGE_er_mwh :   0.0 :   True\n",
      "          6 :  -Inf :  STORAGE_soc_mwh[6] - STORAGE_er_mwh :   0.0 :   True\n",
      "          7 :  -Inf :  STORAGE_soc_mwh[7] - STORAGE_er_mwh :   0.0 :   True\n",
      "          8 :  -Inf :  STORAGE_soc_mwh[8] - STORAGE_er_mwh :   0.0 :   True\n",
      "          9 :  -Inf :  STORAGE_soc_mwh[9] - STORAGE_er_mwh :   0.0 :   True\n",
      "         10 :  -Inf : STORAGE_soc_mwh[10] - STORAGE_er_mwh :   0.0 :   True\n",
      "         11 :  -Inf : STORAGE_soc_mwh[11] - STORAGE_er_mwh :   0.0 :   True\n",
      "         12 :  -Inf : STORAGE_soc_mwh[12] - STORAGE_er_mwh :   0.0 :   True\n",
      "         13 :  -Inf : STORAGE_soc_mwh[13] - STORAGE_er_mwh :   0.0 :   True\n",
      "         14 :  -Inf : STORAGE_soc_mwh[14] - STORAGE_er_mwh :   0.0 :   True\n",
      "         15 :  -Inf : STORAGE_soc_mwh[15] - STORAGE_er_mwh :   0.0 :   True\n",
      "         16 :  -Inf : STORAGE_soc_mwh[16] - STORAGE_er_mwh :   0.0 :   True\n",
      "         17 :  -Inf : STORAGE_soc_mwh[17] - STORAGE_er_mwh :   0.0 :   True\n",
      "         18 :  -Inf : STORAGE_soc_mwh[18] - STORAGE_er_mwh :   0.0 :   True\n",
      "         19 :  -Inf : STORAGE_soc_mwh[19] - STORAGE_er_mwh :   0.0 :   True\n",
      "         20 :  -Inf : STORAGE_soc_mwh[20] - STORAGE_er_mwh :   0.0 :   True\n",
      "         21 :  -Inf : STORAGE_soc_mwh[21] - STORAGE_er_mwh :   0.0 :   True\n",
      "         22 :  -Inf : STORAGE_soc_mwh[22] - STORAGE_er_mwh :   0.0 :   True\n",
      "         23 :  -Inf : STORAGE_soc_mwh[23] - STORAGE_er_mwh :   0.0 :   True\n",
      "         24 :  -Inf : STORAGE_soc_mwh[24] - STORAGE_er_mwh :   0.0 :   True\n",
      "         25 :  -Inf : STORAGE_soc_mwh[25] - STORAGE_er_mwh :   0.0 :   True\n",
      "         26 :  -Inf : STORAGE_soc_mwh[26] - STORAGE_er_mwh :   0.0 :   True\n",
      "         27 :  -Inf : STORAGE_soc_mwh[27] - STORAGE_er_mwh :   0.0 :   True\n",
      "         28 :  -Inf : STORAGE_soc_mwh[28] - STORAGE_er_mwh :   0.0 :   True\n",
      "         29 :  -Inf : STORAGE_soc_mwh[29] - STORAGE_er_mwh :   0.0 :   True\n",
      "         30 :  -Inf : STORAGE_soc_mwh[30] - STORAGE_er_mwh :   0.0 :   True\n",
      "         31 :  -Inf : STORAGE_soc_mwh[31] - STORAGE_er_mwh :   0.0 :   True\n",
      "         32 :  -Inf : STORAGE_soc_mwh[32] - STORAGE_er_mwh :   0.0 :   True\n",
      "         33 :  -Inf : STORAGE_soc_mwh[33] - STORAGE_er_mwh :   0.0 :   True\n",
      "         34 :  -Inf : STORAGE_soc_mwh[34] - STORAGE_er_mwh :   0.0 :   True\n",
      "         35 :  -Inf : STORAGE_soc_mwh[35] - STORAGE_er_mwh :   0.0 :   True\n",
      "         36 :  -Inf : STORAGE_soc_mwh[36] - STORAGE_er_mwh :   0.0 :   True\n",
      "         37 :  -Inf : STORAGE_soc_mwh[37] - STORAGE_er_mwh :   0.0 :   True\n",
      "         38 :  -Inf : STORAGE_soc_mwh[38] - STORAGE_er_mwh :   0.0 :   True\n",
      "         39 :  -Inf : STORAGE_soc_mwh[39] - STORAGE_er_mwh :   0.0 :   True\n",
      "         40 :  -Inf : STORAGE_soc_mwh[40] - STORAGE_er_mwh :   0.0 :   True\n",
      "         41 :  -Inf : STORAGE_soc_mwh[41] - STORAGE_er_mwh :   0.0 :   True\n",
      "         42 :  -Inf : STORAGE_soc_mwh[42] - STORAGE_er_mwh :   0.0 :   True\n",
      "         43 :  -Inf : STORAGE_soc_mwh[43] - STORAGE_er_mwh :   0.0 :   True\n",
      "         44 :  -Inf : STORAGE_soc_mwh[44] - STORAGE_er_mwh :   0.0 :   True\n",
      "         45 :  -Inf : STORAGE_soc_mwh[45] - STORAGE_er_mwh :   0.0 :   True\n",
      "         46 :  -Inf : STORAGE_soc_mwh[46] - STORAGE_er_mwh :   0.0 :   True\n",
      "         47 :  -Inf : STORAGE_soc_mwh[47] - STORAGE_er_mwh :   0.0 :   True\n",
      "         48 :  -Inf : STORAGE_soc_mwh[48] - STORAGE_er_mwh :   0.0 :   True\n",
      "         49 :  -Inf : STORAGE_soc_mwh[49] - STORAGE_er_mwh :   0.0 :   True\n",
      "         50 :  -Inf : STORAGE_soc_mwh[50] - STORAGE_er_mwh :   0.0 :   True\n",
      "         51 :  -Inf : STORAGE_soc_mwh[51] - STORAGE_er_mwh :   0.0 :   True\n",
      "         52 :  -Inf : STORAGE_soc_mwh[52] - STORAGE_er_mwh :   0.0 :   True\n",
      "         53 :  -Inf : STORAGE_soc_mwh[53] - STORAGE_er_mwh :   0.0 :   True\n",
      "         54 :  -Inf : STORAGE_soc_mwh[54] - STORAGE_er_mwh :   0.0 :   True\n",
      "         55 :  -Inf : STORAGE_soc_mwh[55] - STORAGE_er_mwh :   0.0 :   True\n",
      "         56 :  -Inf : STORAGE_soc_mwh[56] - STORAGE_er_mwh :   0.0 :   True\n",
      "         57 :  -Inf : STORAGE_soc_mwh[57] - STORAGE_er_mwh :   0.0 :   True\n",
      "         58 :  -Inf : STORAGE_soc_mwh[58] - STORAGE_er_mwh :   0.0 :   True\n",
      "         59 :  -Inf : STORAGE_soc_mwh[59] - STORAGE_er_mwh :   0.0 :   True\n",
      "         60 :  -Inf : STORAGE_soc_mwh[60] - STORAGE_er_mwh :   0.0 :   True\n",
      "         61 :  -Inf : STORAGE_soc_mwh[61] - STORAGE_er_mwh :   0.0 :   True\n",
      "         62 :  -Inf : STORAGE_soc_mwh[62] - STORAGE_er_mwh :   0.0 :   True\n",
      "         63 :  -Inf : STORAGE_soc_mwh[63] - STORAGE_er_mwh :   0.0 :   True\n",
      "         64 :  -Inf : STORAGE_soc_mwh[64] - STORAGE_er_mwh :   0.0 :   True\n",
      "         65 :  -Inf : STORAGE_soc_mwh[65] - STORAGE_er_mwh :   0.0 :   True\n",
      "         66 :  -Inf : STORAGE_soc_mwh[66] - STORAGE_er_mwh :   0.0 :   True\n",
      "         67 :  -Inf : STORAGE_soc_mwh[67] - STORAGE_er_mwh :   0.0 :   True\n",
      "         68 :  -Inf : STORAGE_soc_mwh[68] - STORAGE_er_mwh :   0.0 :   True\n",
      "         69 :  -Inf : STORAGE_soc_mwh[69] - STORAGE_er_mwh :   0.0 :   True\n",
      "         70 :  -Inf : STORAGE_soc_mwh[70] - STORAGE_er_mwh :   0.0 :   True\n",
      "         71 :  -Inf : STORAGE_soc_mwh[71] - STORAGE_er_mwh :   0.0 :   True\n",
      "\n",
      "19 Declarations: STORAGE_create STORAGE_pr_mw STORAGE_er_mwh STORAGE_p_mw_index STORAGE_p_mw STORAGE_soc_mwh_index STORAGE_soc_mwh STORAGE_p_constraint_pr_index STORAGE_p_constraint_pr STORAGE_p_constraint_charge_index STORAGE_p_constraint_charge STORAGE_p_constraint_soc_index STORAGE_p_constraint_soc STORAGE_soc_constraint_index STORAGE_soc_constraint STORAGE_soc_constraint_er_index STORAGE_soc_constraint_er STORAGE_p_M_constraint STORAGE_e_M_constraint\n"
     ]
    }
   ],
   "source": [
    "model.pprint()"
   ]
  },
  {
   "cell_type": "code",
   "execution_count": 72,
   "id": "functional-integrity",
   "metadata": {},
   "outputs": [
    {
     "data": {
      "text/plain": [
       "True"
      ]
     },
     "execution_count": 72,
     "metadata": {},
     "output_type": "execute_result"
    }
   ],
   "source": [
    "hasattr(Escenarios, 'dt')"
   ]
  },
  {
   "cell_type": "code",
   "execution_count": null,
   "id": "sealed-florida",
   "metadata": {},
   "outputs": [],
   "source": []
  }
 ],
 "metadata": {
  "colab": {
   "name": "Prueba PP-Pyomo-4.ipynb",
   "provenance": []
  },
  "kernelspec": {
   "display_name": "Python 3",
   "language": "python",
   "name": "python3"
  },
  "language_info": {
   "codemirror_mode": {
    "name": "ipython",
    "version": 3
   },
   "file_extension": ".py",
   "mimetype": "text/x-python",
   "name": "python",
   "nbconvert_exporter": "python",
   "pygments_lexer": "ipython3",
   "version": "3.8.8"
  }
 },
 "nbformat": 4,
 "nbformat_minor": 5
}
