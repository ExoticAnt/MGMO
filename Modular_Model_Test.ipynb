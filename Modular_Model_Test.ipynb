{
 "cells": [
  {
   "cell_type": "markdown",
   "id": "boolean-milwaukee",
   "metadata": {
    "id": "addressed-terrorism"
   },
   "source": [
    "## Prueba de modelos ##\n",
    "\n",
    "### Version 4: Modelo con 2 DER, planificación anual, granularidad horaria ###\n",
    "\n",
    "Si el modelo tiene que optimizar el balance por horas, tiene 8640 VD, pero sigue teniendo 2 VD binarias"
   ]
  },
  {
   "cell_type": "code",
   "execution_count": 1,
   "id": "together-instrument",
   "metadata": {},
   "outputs": [],
   "source": [
    "%load_ext autoreload"
   ]
  },
  {
   "cell_type": "code",
   "execution_count": 2,
   "id": "proprietary-research",
   "metadata": {},
   "outputs": [],
   "source": [
    "%autoreload 2"
   ]
  },
  {
   "cell_type": "code",
   "execution_count": 3,
   "id": "abandoned-yemen",
   "metadata": {
    "executionInfo": {
     "elapsed": 5552,
     "status": "ok",
     "timestamp": 1620005659685,
     "user": {
      "displayName": "Juan Sardón",
      "photoUrl": "https://lh3.googleusercontent.com/a-/AOh14Gh0hE4Hw8M0I17k-o2PXxLB5i6gNZV_oUTpZlyJ3Q=s64",
      "userId": "08267034058673099115"
     },
     "user_tz": 180
    },
    "id": "aboriginal-joshua"
   },
   "outputs": [],
   "source": [
    "import pandapower as pp"
   ]
  },
  {
   "cell_type": "code",
   "execution_count": null,
   "id": "coral-costa",
   "metadata": {
    "executionInfo": {
     "elapsed": 5006,
     "status": "ok",
     "timestamp": 1620005659686,
     "user": {
      "displayName": "Juan Sardón",
      "photoUrl": "https://lh3.googleusercontent.com/a-/AOh14Gh0hE4Hw8M0I17k-o2PXxLB5i6gNZV_oUTpZlyJ3Q=s64",
      "userId": "08267034058673099115"
     },
     "user_tz": 180
    },
    "id": "YkmoER_O9JGU"
   },
   "outputs": [],
   "source": [
    "import os"
   ]
  },
  {
   "cell_type": "code",
   "execution_count": null,
   "id": "empirical-obligation",
   "metadata": {
    "executionInfo": {
     "elapsed": 4628,
     "status": "ok",
     "timestamp": 1620005659687,
     "user": {
      "displayName": "Juan Sardón",
      "photoUrl": "https://lh3.googleusercontent.com/a-/AOh14Gh0hE4Hw8M0I17k-o2PXxLB5i6gNZV_oUTpZlyJ3Q=s64",
      "userId": "08267034058673099115"
     },
     "user_tz": 180
    },
    "id": "narrative-census"
   },
   "outputs": [],
   "source": [
    "import pandas as pd"
   ]
  },
  {
   "cell_type": "code",
   "execution_count": null,
   "id": "arranged-stationery",
   "metadata": {
    "executionInfo": {
     "elapsed": 4248,
     "status": "ok",
     "timestamp": 1620005659688,
     "user": {
      "displayName": "Juan Sardón",
      "photoUrl": "https://lh3.googleusercontent.com/a-/AOh14Gh0hE4Hw8M0I17k-o2PXxLB5i6gNZV_oUTpZlyJ3Q=s64",
      "userId": "08267034058673099115"
     },
     "user_tz": 180
    },
    "id": "collectible-innocent"
   },
   "outputs": [],
   "source": [
    "import pyomo.environ as pe"
   ]
  },
  {
   "cell_type": "code",
   "execution_count": null,
   "id": "stretch-contract",
   "metadata": {
    "executionInfo": {
     "elapsed": 3906,
     "status": "ok",
     "timestamp": 1620005659690,
     "user": {
      "displayName": "Juan Sardón",
      "photoUrl": "https://lh3.googleusercontent.com/a-/AOh14Gh0hE4Hw8M0I17k-o2PXxLB5i6gNZV_oUTpZlyJ3Q=s64",
      "userId": "08267034058673099115"
     },
     "user_tz": 180
    },
    "id": "handled-baltimore"
   },
   "outputs": [],
   "source": [
    "import math"
   ]
  },
  {
   "cell_type": "code",
   "execution_count": null,
   "id": "union-american",
   "metadata": {
    "executionInfo": {
     "elapsed": 3594,
     "status": "ok",
     "timestamp": 1620005659691,
     "user": {
      "displayName": "Juan Sardón",
      "photoUrl": "https://lh3.googleusercontent.com/a-/AOh14Gh0hE4Hw8M0I17k-o2PXxLB5i6gNZV_oUTpZlyJ3Q=s64",
      "userId": "08267034058673099115"
     },
     "user_tz": 180
    },
    "id": "substantial-payroll"
   },
   "outputs": [],
   "source": [
    "import random"
   ]
  },
  {
   "cell_type": "code",
   "execution_count": null,
   "id": "powerful-staff",
   "metadata": {
    "executionInfo": {
     "elapsed": 3285,
     "status": "ok",
     "timestamp": 1620005659691,
     "user": {
      "displayName": "Juan Sardón",
      "photoUrl": "https://lh3.googleusercontent.com/a-/AOh14Gh0hE4Hw8M0I17k-o2PXxLB5i6gNZV_oUTpZlyJ3Q=s64",
      "userId": "08267034058673099115"
     },
     "user_tz": 180
    },
    "id": "c0X5ABkvJYuo"
   },
   "outputs": [],
   "source": [
    "import itertools"
   ]
  },
  {
   "cell_type": "code",
   "execution_count": null,
   "id": "confidential-hammer",
   "metadata": {
    "executionInfo": {
     "elapsed": 3074,
     "status": "ok",
     "timestamp": 1620005659693,
     "user": {
      "displayName": "Juan Sardón",
      "photoUrl": "https://lh3.googleusercontent.com/a-/AOh14Gh0hE4Hw8M0I17k-o2PXxLB5i6gNZV_oUTpZlyJ3Q=s64",
      "userId": "08267034058673099115"
     },
     "user_tz": 180
    },
    "id": "united-bronze"
   },
   "outputs": [],
   "source": [
    "import matplotlib.pyplot as plt"
   ]
  },
  {
   "cell_type": "code",
   "execution_count": null,
   "id": "amateur-serum",
   "metadata": {},
   "outputs": [],
   "source": [
    "import numpy as np"
   ]
  },
  {
   "cell_type": "code",
   "execution_count": null,
   "id": "formed-motorcycle",
   "metadata": {},
   "outputs": [],
   "source": [
    "import ModelWriters.SimpleBusbar"
   ]
  },
  {
   "cell_type": "markdown",
   "id": "french-monroe",
   "metadata": {
    "id": "fifteen-pakistan"
   },
   "source": [
    "Variables que define el modelo:\n",
    "\n",
    "y para el año\n",
    "\n",
    "d para el día del año\n",
    "\n",
    "h para la hora del día\n",
    "\n",
    "dt la granularidad del modelo, en horas\n",
    "\n",
    "\n",
    "temp la temperatura\n",
    "\n",
    "wv la velocidad del viento\n",
    "\n",
    "I la irradiación solar\n",
    "\n",
    "\n",
    "eg el crecimiento económico en pu respecto al año 0\n",
    "\n",
    "\n",
    "Estas variables llegan como parámetros en forma de diccionario en el argumento 'model_status' (ver este nombre)\n",
    "\n",
    "Todas las funciones reciben este argumento, la lógica de la función indica que valor retorna. Pr ejemplo, si la granularidad es 24 h, debe retornar el valor medio del parámetro producido."
   ]
  },
  {
   "cell_type": "markdown",
   "id": "concrete-finnish",
   "metadata": {
    "id": "pTK9BGaY4BEu"
   },
   "source": [
    "## Construcción de Escenarios"
   ]
  },
  {
   "cell_type": "code",
   "execution_count": 45,
   "id": "aggregate-allocation",
   "metadata": {},
   "outputs": [],
   "source": [
    "import ModelWriters.Scenes.SceneBuilder as SB"
   ]
  },
  {
   "cell_type": "code",
   "execution_count": 46,
   "id": "average-specific",
   "metadata": {},
   "outputs": [
    {
     "data": {
      "text/html": [
       "<div>\n",
       "<style scoped>\n",
       "    .dataframe tbody tr th:only-of-type {\n",
       "        vertical-align: middle;\n",
       "    }\n",
       "\n",
       "    .dataframe tbody tr th {\n",
       "        vertical-align: top;\n",
       "    }\n",
       "\n",
       "    .dataframe thead th {\n",
       "        text-align: right;\n",
       "    }\n",
       "</style>\n",
       "<table border=\"1\" class=\"dataframe\">\n",
       "  <thead>\n",
       "    <tr style=\"text-align: right;\">\n",
       "      <th></th>\n",
       "      <th>year</th>\n",
       "      <th>day</th>\n",
       "      <th>dd</th>\n",
       "      <th>hour</th>\n",
       "      <th>dt</th>\n",
       "      <th>growth</th>\n",
       "      <th>discount</th>\n",
       "      <th>solar_irradiance</th>\n",
       "      <th>wind_speed</th>\n",
       "    </tr>\n",
       "  </thead>\n",
       "  <tbody>\n",
       "    <tr>\n",
       "      <th>0</th>\n",
       "      <td>0.0</td>\n",
       "      <td>0.0</td>\n",
       "      <td>1.0</td>\n",
       "      <td>0.0</td>\n",
       "      <td>1.0</td>\n",
       "      <td>1.000000</td>\n",
       "      <td>1.000000</td>\n",
       "      <td>0.0</td>\n",
       "      <td>1.239677</td>\n",
       "    </tr>\n",
       "    <tr>\n",
       "      <th>1</th>\n",
       "      <td>0.0</td>\n",
       "      <td>0.0</td>\n",
       "      <td>1.0</td>\n",
       "      <td>1.0</td>\n",
       "      <td>1.0</td>\n",
       "      <td>1.000000</td>\n",
       "      <td>1.000000</td>\n",
       "      <td>0.0</td>\n",
       "      <td>3.479501</td>\n",
       "    </tr>\n",
       "    <tr>\n",
       "      <th>2</th>\n",
       "      <td>0.0</td>\n",
       "      <td>0.0</td>\n",
       "      <td>1.0</td>\n",
       "      <td>2.0</td>\n",
       "      <td>1.0</td>\n",
       "      <td>1.000000</td>\n",
       "      <td>1.000000</td>\n",
       "      <td>0.0</td>\n",
       "      <td>4.718673</td>\n",
       "    </tr>\n",
       "    <tr>\n",
       "      <th>3</th>\n",
       "      <td>0.0</td>\n",
       "      <td>0.0</td>\n",
       "      <td>1.0</td>\n",
       "      <td>3.0</td>\n",
       "      <td>1.0</td>\n",
       "      <td>1.000000</td>\n",
       "      <td>1.000000</td>\n",
       "      <td>0.0</td>\n",
       "      <td>4.728113</td>\n",
       "    </tr>\n",
       "    <tr>\n",
       "      <th>4</th>\n",
       "      <td>0.0</td>\n",
       "      <td>0.0</td>\n",
       "      <td>1.0</td>\n",
       "      <td>4.0</td>\n",
       "      <td>1.0</td>\n",
       "      <td>1.000000</td>\n",
       "      <td>1.000000</td>\n",
       "      <td>0.0</td>\n",
       "      <td>4.939853</td>\n",
       "    </tr>\n",
       "    <tr>\n",
       "      <th>...</th>\n",
       "      <td>...</td>\n",
       "      <td>...</td>\n",
       "      <td>...</td>\n",
       "      <td>...</td>\n",
       "      <td>...</td>\n",
       "      <td>...</td>\n",
       "      <td>...</td>\n",
       "      <td>...</td>\n",
       "      <td>...</td>\n",
       "    </tr>\n",
       "    <tr>\n",
       "      <th>43795</th>\n",
       "      <td>4.0</td>\n",
       "      <td>364.0</td>\n",
       "      <td>1.0</td>\n",
       "      <td>19.0</td>\n",
       "      <td>1.0</td>\n",
       "      <td>1.103813</td>\n",
       "      <td>0.822702</td>\n",
       "      <td>0.0</td>\n",
       "      <td>6.856482</td>\n",
       "    </tr>\n",
       "    <tr>\n",
       "      <th>43796</th>\n",
       "      <td>4.0</td>\n",
       "      <td>364.0</td>\n",
       "      <td>1.0</td>\n",
       "      <td>20.0</td>\n",
       "      <td>1.0</td>\n",
       "      <td>1.103813</td>\n",
       "      <td>0.822702</td>\n",
       "      <td>0.0</td>\n",
       "      <td>7.283973</td>\n",
       "    </tr>\n",
       "    <tr>\n",
       "      <th>43797</th>\n",
       "      <td>4.0</td>\n",
       "      <td>364.0</td>\n",
       "      <td>1.0</td>\n",
       "      <td>21.0</td>\n",
       "      <td>1.0</td>\n",
       "      <td>1.103813</td>\n",
       "      <td>0.822702</td>\n",
       "      <td>0.0</td>\n",
       "      <td>6.286363</td>\n",
       "    </tr>\n",
       "    <tr>\n",
       "      <th>43798</th>\n",
       "      <td>4.0</td>\n",
       "      <td>364.0</td>\n",
       "      <td>1.0</td>\n",
       "      <td>22.0</td>\n",
       "      <td>1.0</td>\n",
       "      <td>1.103813</td>\n",
       "      <td>0.822702</td>\n",
       "      <td>0.0</td>\n",
       "      <td>5.143877</td>\n",
       "    </tr>\n",
       "    <tr>\n",
       "      <th>43799</th>\n",
       "      <td>4.0</td>\n",
       "      <td>364.0</td>\n",
       "      <td>1.0</td>\n",
       "      <td>23.0</td>\n",
       "      <td>1.0</td>\n",
       "      <td>1.103813</td>\n",
       "      <td>0.822702</td>\n",
       "      <td>0.0</td>\n",
       "      <td>3.975194</td>\n",
       "    </tr>\n",
       "  </tbody>\n",
       "</table>\n",
       "<p>43800 rows × 9 columns</p>\n",
       "</div>"
      ],
      "text/plain": [
       "       year    day   dd  hour   dt    growth  discount  solar_irradiance  \\\n",
       "0       0.0    0.0  1.0   0.0  1.0  1.000000  1.000000               0.0   \n",
       "1       0.0    0.0  1.0   1.0  1.0  1.000000  1.000000               0.0   \n",
       "2       0.0    0.0  1.0   2.0  1.0  1.000000  1.000000               0.0   \n",
       "3       0.0    0.0  1.0   3.0  1.0  1.000000  1.000000               0.0   \n",
       "4       0.0    0.0  1.0   4.0  1.0  1.000000  1.000000               0.0   \n",
       "...     ...    ...  ...   ...  ...       ...       ...               ...   \n",
       "43795   4.0  364.0  1.0  19.0  1.0  1.103813  0.822702               0.0   \n",
       "43796   4.0  364.0  1.0  20.0  1.0  1.103813  0.822702               0.0   \n",
       "43797   4.0  364.0  1.0  21.0  1.0  1.103813  0.822702               0.0   \n",
       "43798   4.0  364.0  1.0  22.0  1.0  1.103813  0.822702               0.0   \n",
       "43799   4.0  364.0  1.0  23.0  1.0  1.103813  0.822702               0.0   \n",
       "\n",
       "       wind_speed  \n",
       "0        1.239677  \n",
       "1        3.479501  \n",
       "2        4.718673  \n",
       "3        4.728113  \n",
       "4        4.939853  \n",
       "...           ...  \n",
       "43795    6.856482  \n",
       "43796    7.283973  \n",
       "43797    6.286363  \n",
       "43798    5.143877  \n",
       "43799    3.975194  \n",
       "\n",
       "[43800 rows x 9 columns]"
      ]
     },
     "execution_count": 46,
     "metadata": {},
     "output_type": "execute_result"
    }
   ],
   "source": [
    "s = SB.SceneBuilder(years = 5, growth_rate = 0.025, discount_rate = 0.05)\n",
    "scenes = s.build_scenes()\n",
    "scenes"
   ]
  },
  {
   "cell_type": "markdown",
   "id": "contained-waste",
   "metadata": {
    "tags": []
   },
   "source": [
    "## Model Tests"
   ]
  },
  {
   "cell_type": "code",
   "execution_count": null,
   "id": "equivalent-black",
   "metadata": {},
   "outputs": [],
   "source": [
    "from ModelWriters.Resources.ExtGrid import ExtGrid"
   ]
  },
  {
   "cell_type": "code",
   "execution_count": null,
   "id": "entire-magnitude",
   "metadata": {},
   "outputs": [],
   "source": [
    "from ModelWriters.Resources.Load import Load"
   ]
  },
  {
   "cell_type": "code",
   "execution_count": null,
   "id": "intellectual-investor",
   "metadata": {},
   "outputs": [],
   "source": [
    "from ModelWriters.Resources.BaseGen import Generator, DiscreteGenerator"
   ]
  },
  {
   "cell_type": "code",
   "execution_count": null,
   "id": "offensive-proof",
   "metadata": {},
   "outputs": [],
   "source": []
  },
  {
   "cell_type": "code",
   "execution_count": null,
   "id": "rational-stuart",
   "metadata": {},
   "outputs": [],
   "source": [
    "from ModelWriters.Resources.Storage import Storage"
   ]
  },
  {
   "cell_type": "code",
   "execution_count": null,
   "id": "political-maine",
   "metadata": {},
   "outputs": [],
   "source": []
  },
  {
   "cell_type": "code",
   "execution_count": null,
   "id": "valuable-timothy",
   "metadata": {},
   "outputs": [],
   "source": [
    "model = pe.ConcreteModel()"
   ]
  },
  {
   "cell_type": "code",
   "execution_count": null,
   "id": "enhanced-weather",
   "metadata": {},
   "outputs": [],
   "source": [
    "exg = ExtGrid('EXT')"
   ]
  },
  {
   "cell_type": "code",
   "execution_count": null,
   "id": "worse-wednesday",
   "metadata": {},
   "outputs": [],
   "source": [
    "bg = Generator('GEN')"
   ]
  },
  {
   "cell_type": "code",
   "execution_count": null,
   "id": "fifteen-jonathan",
   "metadata": {},
   "outputs": [],
   "source": [
    "dg = DiscreteGenerator('DGEN')"
   ]
  },
  {
   "cell_type": "code",
   "execution_count": null,
   "id": "alpine-tulsa",
   "metadata": {},
   "outputs": [],
   "source": [
    "load = Load('LOAD')"
   ]
  },
  {
   "cell_type": "code",
   "execution_count": null,
   "id": "seven-constitutional",
   "metadata": {},
   "outputs": [],
   "source": [
    "storage = Storage('STORAGE')"
   ]
  },
  {
   "cell_type": "code",
   "execution_count": null,
   "id": "random-glenn",
   "metadata": {},
   "outputs": [],
   "source": [
    "exg['pr_mw'] = 5.0\n",
    "exg['ic_0_mu'] = 1.2\n",
    "exg['ic_1_mu'] = 0.2\n",
    "exg['oc_0_mu'] = 0.001\n",
    "exg['oc_1_mu'] = 0.005\n",
    "\n",
    "#exg.pa_pu = wind_output"
   ]
  },
  {
   "cell_type": "code",
   "execution_count": null,
   "id": "nominated-negative",
   "metadata": {},
   "outputs": [],
   "source": [
    "load['pr_mw'] = .5\n",
    "load['ic_0_mu'] = 1.2\n",
    "load['ic_1_mu'] = 0.2\n",
    "load['oc_0_mu'] = 0.001\n",
    "load['oc_1_mu'] = 0.005\n",
    "load['pa_pu'] = Demand.scalonated_seasoned_randomized_demand\n",
    "\n",
    "#exg.pa_pu = wind_output"
   ]
  },
  {
   "cell_type": "code",
   "execution_count": null,
   "id": "boring-protocol",
   "metadata": {},
   "outputs": [],
   "source": [
    "dg['ic_0_mu'] = 0.44\n",
    "dg['ic_1_mu'] = 0.2\n",
    "dg['unit_cost_mu'] = 0.3\n",
    "dg['oc_0_mu'] = 0.001\n",
    "dg['oc_1_mu'] = 0.005"
   ]
  },
  {
   "cell_type": "code",
   "execution_count": null,
   "id": "welsh-coaching",
   "metadata": {},
   "outputs": [],
   "source": [
    "exg.initialize_model(model, Escenarios)"
   ]
  },
  {
   "cell_type": "code",
   "execution_count": null,
   "id": "killing-mustang",
   "metadata": {},
   "outputs": [],
   "source": [
    "bg['pr_mw'] = 5.0\n",
    "bg['ic_0_mu'] = 1.2\n",
    "bg['ic_1_mu'] = 0.2\n",
    "bg['oc_0_mu'] = 0.001\n",
    "bg['oc_1_mu'] = 0.005\n"
   ]
  },
  {
   "cell_type": "code",
   "execution_count": null,
   "id": "african-storage",
   "metadata": {},
   "outputs": [],
   "source": [
    "bg.initialize_model(model, Escenarios)"
   ]
  },
  {
   "cell_type": "code",
   "execution_count": null,
   "id": "elegant-delaware",
   "metadata": {},
   "outputs": [],
   "source": [
    "load.initialize_model(model, Escenarios)"
   ]
  },
  {
   "cell_type": "code",
   "execution_count": null,
   "id": "traditional-homework",
   "metadata": {},
   "outputs": [],
   "source": [
    "dg.initialize_model(model, Escenarios)"
   ]
  },
  {
   "cell_type": "code",
   "execution_count": null,
   "id": "premier-blake",
   "metadata": {},
   "outputs": [],
   "source": [
    "storage.initialize_model(model, Escenarios)"
   ]
  },
  {
   "cell_type": "code",
   "execution_count": null,
   "id": "promotional-rochester",
   "metadata": {},
   "outputs": [],
   "source": [
    "model.pprint()"
   ]
  },
  {
   "cell_type": "markdown",
   "id": "divine-scientist",
   "metadata": {},
   "source": [
    "## Line Model"
   ]
  },
  {
   "cell_type": "code",
   "execution_count": null,
   "id": "alpine-phrase",
   "metadata": {},
   "outputs": [],
   "source": [
    "from ModelWriters.Resources.SimpleLine import SimpleLine"
   ]
  },
  {
   "cell_type": "code",
   "execution_count": null,
   "id": "taken-concert",
   "metadata": {},
   "outputs": [],
   "source": [
    "model = pe.ConcreteModel()"
   ]
  },
  {
   "cell_type": "code",
   "execution_count": null,
   "id": "dated-cuisine",
   "metadata": {},
   "outputs": [],
   "source": [
    "sl = SimpleLine('Aquí', 'Allá')"
   ]
  },
  {
   "cell_type": "code",
   "execution_count": null,
   "id": "vocational-aging",
   "metadata": {},
   "outputs": [],
   "source": [
    "print(sl)"
   ]
  },
  {
   "cell_type": "code",
   "execution_count": null,
   "id": "improved-pastor",
   "metadata": {},
   "outputs": [],
   "source": [
    "sl.initialize_model(model, Escenarios)"
   ]
  },
  {
   "cell_type": "code",
   "execution_count": null,
   "id": "congressional-efficiency",
   "metadata": {},
   "outputs": [],
   "source": [
    "model.pprint()"
   ]
  },
  {
   "cell_type": "markdown",
   "id": "independent-split",
   "metadata": {},
   "source": [
    "## Line Cap Model"
   ]
  },
  {
   "cell_type": "code",
   "execution_count": 32,
   "id": "palestinian-technique",
   "metadata": {},
   "outputs": [],
   "source": [
    "import ModelWriters as mw"
   ]
  },
  {
   "cell_type": "code",
   "execution_count": null,
   "id": "digital-extent",
   "metadata": {},
   "outputs": [],
   "source": [
    "from ModelWriters.Resources.ExtGrid import ExtGrid\n",
    "from ModelWriters.Resources.Load import Load\n",
    "from ModelWriters.Resources.PV import PVGenerator\n",
    "from ModelWriters.Resources.WT import WTGenerator\n",
    "from ModelWriters.Simulation import ElectricityCost"
   ]
  },
  {
   "cell_type": "code",
   "execution_count": 70,
   "id": "closing-assist",
   "metadata": {},
   "outputs": [
    {
     "data": {
      "text/plain": [
       "1"
      ]
     },
     "execution_count": 70,
     "metadata": {},
     "output_type": "execute_result"
    }
   ],
   "source": [
    "net = pp.create_empty_network() \n",
    "b0 = pp.create_bus(net, vn_kv=13.2)\n",
    "\n",
    "pp.create_ext_grid(net, name = 'SET', bus=b0)\n",
    "\n",
    "#ramal 1\n",
    "b11 = pp.create_bus(net, vn_kv=13.2)\n",
    "b12 = pp.create_bus(net, vn_kv=13.2)\n",
    "\n",
    "pp.create_line(net, from_bus=b0, to_bus=b11, length_km=0.8, std_type=\"NAYY 4x50 SE\")\n",
    "pp.create_line(net, from_bus=b11, to_bus=b12, length_km=2.1, std_type=\"NAYY 4x50 SE\")\n",
    "\n",
    "pp.create_sgen(net, b11, p_mw=0.075, q_mvar=0.025, max_p_mw=0.15, max_q_mvar=0.15)\n",
    "pp.create_load(net, bus=b12, p_mw=0.350)\n",
    "\n",
    "\n",
    "#ramal 2\n",
    "b21 = pp.create_bus(net, vn_kv=13.2)\n",
    "pp.create_line(net, from_bus=b0, to_bus=b21, length_km=5.0, std_type=\"NAYY 4x50 SE\")\n",
    "pp.create_sgen(net, b21, p_mw=0.15, q_mvar=0.00, max_p_mw=0.40, max_q_mvar=0.10)\n",
    "pp.create_storage(net, bus=b21, p_mw=0.25, q_mvar=0.1, max_e_mwh = 3.0)\n",
    "\n",
    "#ramal 3\n",
    "b31 = pp.create_bus(net, vn_kv=13.2)\n",
    "b32 = pp.create_bus(net, vn_kv=13.2)\n",
    "pp.create_line(net, from_bus=b0, to_bus=b31, length_km=0.5, std_type=\"NAYY 4x50 SE\")\n",
    "pp.create_line(net, from_bus=b31, to_bus=b32, length_km=1.5, std_type=\"NAYY 4x50 SE\")\n",
    "pp.create_sgen(net, b31, p_mw=0.08, q_mvar=0.00, max_p_mw=0.30, max_q_mvar=0.10)\n",
    "pp.create_load(net, bus=b32, p_mw=0.85, q_mvar=0.33)\n",
    "\n",
    "\n",
    "#ramal 4\n",
    "b41 = pp.create_bus(net, vn_kv=13.2)\n",
    "pp.create_line(net, from_bus=b0, to_bus=b41, length_km=0.5, std_type=\"NAYY 4x50 SE\")\n",
    "pp.create_load(net, bus=b41, p_mw=0.22, q_mvar=0.05)\n",
    "pp.create_storage(net, bus=b41, p_mw=0.5, q_mvar=0.1, max_e_mwh = 5.0)\n"
   ]
  },
  {
   "cell_type": "code",
   "execution_count": 34,
   "id": "distinct-graham",
   "metadata": {},
   "outputs": [],
   "source": [
    "def net_add_optfw(net):\n",
    "    #agregamos parámetros para el modelo de optimización\n",
    "    tables = [net.ext_grid, net.load, net.sgen, net.storage, net.line]\n",
    "\n",
    "    for t in tables: \n",
    "        #initial cost\n",
    "        t['model'] = None\n",
    "\n",
    "net_add_optfw(net)"
   ]
  },
  {
   "cell_type": "code",
   "execution_count": 35,
   "id": "alleged-arizona",
   "metadata": {},
   "outputs": [
    {
     "data": {
      "text/html": [
       "<div>\n",
       "<style scoped>\n",
       "    .dataframe tbody tr th:only-of-type {\n",
       "        vertical-align: middle;\n",
       "    }\n",
       "\n",
       "    .dataframe tbody tr th {\n",
       "        vertical-align: top;\n",
       "    }\n",
       "\n",
       "    .dataframe thead th {\n",
       "        text-align: right;\n",
       "    }\n",
       "</style>\n",
       "<table border=\"1\" class=\"dataframe\">\n",
       "  <thead>\n",
       "    <tr style=\"text-align: right;\">\n",
       "      <th></th>\n",
       "      <th>name</th>\n",
       "      <th>bus</th>\n",
       "      <th>vm_pu</th>\n",
       "      <th>va_degree</th>\n",
       "      <th>in_service</th>\n",
       "      <th>model</th>\n",
       "    </tr>\n",
       "  </thead>\n",
       "  <tbody>\n",
       "    <tr>\n",
       "      <th>0</th>\n",
       "      <td>SET</td>\n",
       "      <td>0</td>\n",
       "      <td>1.0</td>\n",
       "      <td>0.0</td>\n",
       "      <td>True</td>\n",
       "      <td>None</td>\n",
       "    </tr>\n",
       "  </tbody>\n",
       "</table>\n",
       "</div>"
      ],
      "text/plain": [
       "  name  bus  vm_pu  va_degree  in_service model\n",
       "0  SET    0    1.0        0.0        True  None"
      ]
     },
     "execution_count": 35,
     "metadata": {},
     "output_type": "execute_result"
    }
   ],
   "source": [
    "net.ext_grid"
   ]
  },
  {
   "cell_type": "code",
   "execution_count": 36,
   "id": "referenced-pakistan",
   "metadata": {},
   "outputs": [],
   "source": [
    "import ModelWriters.Resources as Resources"
   ]
  },
  {
   "cell_type": "code",
   "execution_count": 42,
   "id": "hidden-medicare",
   "metadata": {},
   "outputs": [],
   "source": [
    "net.ext_grid['model'][0] = Resources.ExtGrid('SET', pr_mw = 5.0)\n",
    "\n",
    "net.load['model'][0] = Resources.Load('Tornquinst', pr_mw = net.load['p_mw'][0])\n",
    "net.load['model'][1] = Resources.Load('Bell Ville', pr_mw = net.load['p_mw'][1])\n",
    "net.load['model'][2] = Resources.Load('City Bell' , pr_mw = net.load['p_mw'][2])\n",
    "\n",
    "\n",
    "\"\"\"\n",
    "m = PVGenerator('PV1')\n",
    "m.ic_0_mu = 0.5\n",
    "m.ic_1_mu = 0.05\n",
    "m.oc_0_mu = 0.0\n",
    "m.oc_1_mu = 400e-6\n",
    "\n",
    "net.sgen['name'][0] = m.name\n",
    "net.sgen['model'][0] = m\n",
    "\n",
    "\n",
    "m = PVGenerator('PV2')\n",
    "m.ic_0_mu = 3.0\n",
    "m.ic_1_mu = 0.75\n",
    "m.oc_0_mu = 0.0\n",
    "m.oc_1_mu = 500e-6\n",
    "\n",
    "net.sgen['name'][2] = m.name\n",
    "net.sgen['model'][2] = m\n",
    "\n",
    "m = WTGenerator('WT1')\n",
    "m.ic_0_mu = 5.0\n",
    "m.ic_1_mu = 3.0\n",
    "m.oc_0_mu = 0.0\n",
    "m.oc_1_mu = 700e-6\n",
    "\n",
    "net.sgen['name'][1] = m.name\n",
    "net.sgen['model'][1] = m\n",
    "\n",
    "\"\"\"\n",
    "\n",
    "\"\"\"\n",
    "m = Storage.Storage('ST1')\n",
    "\n",
    "m.pa_pu = 1.0\n",
    "m.ic_0_mu = 0.5\n",
    "m.ic_1_mu = 1.0\n",
    "m.ic_1_mu_cap = 0.5\n",
    "m.oc_0_mu = 0.0\n",
    "\n",
    "net.storage['name'][0] = 'ST1'\n",
    "net.storage['model'][0] = m\n",
    "\n",
    "\n",
    "m = Storage.Storage('ST2')\n",
    "net.storage['name'][1] = 'ST2'\n",
    "net.storage['model'][1] = m\n",
    "\n",
    "m.pa_pu = 1.0\n",
    "m.ic_0_mu = 0.5\n",
    "m.ic_1_mu = 2.0\n",
    "m.ic_1_mu_cap = 7.0\n",
    "m.oc_0_mu = 0.0\n",
    "m.oc_1_mu = 1400e-6\n",
    "\"\"\"\n",
    "None\n"
   ]
  },
  {
   "cell_type": "code",
   "execution_count": 69,
   "id": "ideal-ultimate",
   "metadata": {},
   "outputs": [
    {
     "data": {
      "text/plain": [
       "<ModelWriters.Simulation.Economics.ElectricityCostSimulator at 0x1d82cf0a310>"
      ]
     },
     "execution_count": 69,
     "metadata": {},
     "output_type": "execute_result"
    }
   ],
   "source": [
    "net.ext_grid['model'][0].oc_1_mw"
   ]
  },
  {
   "cell_type": "code",
   "execution_count": 67,
   "id": "noticed-potter",
   "metadata": {},
   "outputs": [
    {
     "name": "stdout",
     "output_type": "stream",
     "text": [
      "True\n"
     ]
    }
   ],
   "source": [
    "c = 0.0\n",
    "if not c:\n",
    "    print(\"True\")\n",
    "else:\n",
    "    print(\"False\")"
   ]
  },
  {
   "cell_type": "code",
   "execution_count": 44,
   "id": "animal-shopping",
   "metadata": {},
   "outputs": [
    {
     "data": {
      "text/html": [
       "<div>\n",
       "<style scoped>\n",
       "    .dataframe tbody tr th:only-of-type {\n",
       "        vertical-align: middle;\n",
       "    }\n",
       "\n",
       "    .dataframe tbody tr th {\n",
       "        vertical-align: top;\n",
       "    }\n",
       "\n",
       "    .dataframe thead th {\n",
       "        text-align: right;\n",
       "    }\n",
       "</style>\n",
       "<table border=\"1\" class=\"dataframe\">\n",
       "  <thead>\n",
       "    <tr style=\"text-align: right;\">\n",
       "      <th></th>\n",
       "      <th>name</th>\n",
       "      <th>bus</th>\n",
       "      <th>p_mw</th>\n",
       "      <th>q_mvar</th>\n",
       "      <th>const_z_percent</th>\n",
       "      <th>const_i_percent</th>\n",
       "      <th>sn_mva</th>\n",
       "      <th>scaling</th>\n",
       "      <th>in_service</th>\n",
       "      <th>type</th>\n",
       "      <th>model</th>\n",
       "    </tr>\n",
       "  </thead>\n",
       "  <tbody>\n",
       "    <tr>\n",
       "      <th>0</th>\n",
       "      <td>None</td>\n",
       "      <td>2</td>\n",
       "      <td>0.35</td>\n",
       "      <td>0.00</td>\n",
       "      <td>0.0</td>\n",
       "      <td>0.0</td>\n",
       "      <td>NaN</td>\n",
       "      <td>1.0</td>\n",
       "      <td>True</td>\n",
       "      <td>wye</td>\n",
       "      <td>Resource: Tornquinst</td>\n",
       "    </tr>\n",
       "    <tr>\n",
       "      <th>1</th>\n",
       "      <td>None</td>\n",
       "      <td>5</td>\n",
       "      <td>0.85</td>\n",
       "      <td>0.33</td>\n",
       "      <td>0.0</td>\n",
       "      <td>0.0</td>\n",
       "      <td>NaN</td>\n",
       "      <td>1.0</td>\n",
       "      <td>True</td>\n",
       "      <td>wye</td>\n",
       "      <td>None</td>\n",
       "    </tr>\n",
       "    <tr>\n",
       "      <th>2</th>\n",
       "      <td>None</td>\n",
       "      <td>6</td>\n",
       "      <td>0.22</td>\n",
       "      <td>0.05</td>\n",
       "      <td>0.0</td>\n",
       "      <td>0.0</td>\n",
       "      <td>NaN</td>\n",
       "      <td>1.0</td>\n",
       "      <td>True</td>\n",
       "      <td>wye</td>\n",
       "      <td>None</td>\n",
       "    </tr>\n",
       "  </tbody>\n",
       "</table>\n",
       "</div>"
      ],
      "text/plain": [
       "   name  bus  p_mw  q_mvar  const_z_percent  const_i_percent  sn_mva  scaling  \\\n",
       "0  None    2  0.35    0.00              0.0              0.0     NaN      1.0   \n",
       "1  None    5  0.85    0.33              0.0              0.0     NaN      1.0   \n",
       "2  None    6  0.22    0.05              0.0              0.0     NaN      1.0   \n",
       "\n",
       "   in_service type                 model  \n",
       "0        True  wye  Resource: Tornquinst  \n",
       "1        True  wye                  None  \n",
       "2        True  wye                  None  "
      ]
     },
     "execution_count": 44,
     "metadata": {},
     "output_type": "execute_result"
    }
   ],
   "source": [
    "net.load"
   ]
  },
  {
   "cell_type": "code",
   "execution_count": null,
   "id": "bound-andorra",
   "metadata": {},
   "outputs": [],
   "source": [
    "net.line"
   ]
  },
  {
   "cell_type": "code",
   "execution_count": null,
   "id": "champion-agreement",
   "metadata": {},
   "outputs": [],
   "source": [
    "net.bus"
   ]
  },
  {
   "cell_type": "code",
   "execution_count": null,
   "id": "opposed-sailing",
   "metadata": {},
   "outputs": [],
   "source": [
    "net.sgen"
   ]
  },
  {
   "cell_type": "code",
   "execution_count": null,
   "id": "south-stocks",
   "metadata": {},
   "outputs": [],
   "source": [
    "from ModelWriters.MultiBusbar import MultiBusbarModelWriter"
   ]
  },
  {
   "cell_type": "code",
   "execution_count": null,
   "id": "english-actor",
   "metadata": {},
   "outputs": [],
   "source": [
    "mw = MultiBusbarModelWriter(net, Escenarios)"
   ]
  },
  {
   "cell_type": "code",
   "execution_count": null,
   "id": "warming-hardwood",
   "metadata": {},
   "outputs": [],
   "source": [
    "mw.create_model()"
   ]
  },
  {
   "cell_type": "code",
   "execution_count": null,
   "id": "compressed-detroit",
   "metadata": {},
   "outputs": [],
   "source": [
    "#mw.model.pprint()"
   ]
  },
  {
   "cell_type": "code",
   "execution_count": null,
   "id": "spare-balance",
   "metadata": {},
   "outputs": [],
   "source": [
    "#solver_manager = pe.SolverManagerFactory('neos')\n",
    "#result_obj = solver_manager.solve(model.model, opt='cplex')\n",
    "\n",
    "opt = pe.SolverFactory('cplex')\n",
    "#opt = pe.SolverFactory('glpk')\n",
    "result_obj= opt.solve(mw.model, tee=True)"
   ]
  },
  {
   "cell_type": "code",
   "execution_count": null,
   "id": "abandoned-middle",
   "metadata": {},
   "outputs": [],
   "source": [
    "mw.backconfigure_network()"
   ]
  },
  {
   "cell_type": "code",
   "execution_count": null,
   "id": "fixed-pride",
   "metadata": {},
   "outputs": [],
   "source": [
    "net.sgen"
   ]
  },
  {
   "cell_type": "code",
   "execution_count": null,
   "id": "facial-liabilities",
   "metadata": {},
   "outputs": [],
   "source": [
    "Resultados = mw.get_scenes_results()"
   ]
  },
  {
   "cell_type": "code",
   "execution_count": null,
   "id": "hollow-death",
   "metadata": {},
   "outputs": [],
   "source": [
    "# Set the plot curve with markers and a title\n",
    "fig, ax = plt.subplots(1, 1)\n",
    "\n",
    "fig.set_size_inches(10,6)\n",
    "##a=180*24\n",
    "#b=360\n",
    "##b=180*24+5*24\n",
    "a=0\n",
    "b=24\n",
    "for col in Resultados:\n",
    "    ax.plot(Resultados[col][a:b], label = col)\n",
    "\n",
    "#ax.plot(Resultados['Tornquinst'][a:b]+Resultados['Bell Ville'][a:b]+Resultados['City Bell'][a:b], label = 'Load')\n",
    "\n",
    "#ax.plot(Resultados['time'][240:360], Resultados['p_mw_PV'][240:360], label = 'PV')\n",
    "#ax.plot(Resultados['time'][240:360], Resultados['p_mw_Load'][240:360], label = 'Load')\n",
    "\n",
    "ax.set_xlabel('time')\n",
    "ax.set_ylabel('P[mw]')\n",
    "\n",
    "ax.legend()\n",
    "\n",
    "ax.grid(True)\n",
    "\n",
    "\n",
    "plt.show()"
   ]
  },
  {
   "cell_type": "code",
   "execution_count": null,
   "id": "recognized-picture",
   "metadata": {},
   "outputs": [],
   "source": [
    "\n",
    "Resultados"
   ]
  }
 ],
 "metadata": {
  "colab": {
   "name": "Prueba PP-Pyomo-4.ipynb",
   "provenance": []
  },
  "kernelspec": {
   "display_name": "Python 3",
   "language": "python",
   "name": "python3"
  },
  "language_info": {
   "codemirror_mode": {
    "name": "ipython",
    "version": 3
   },
   "file_extension": ".py",
   "mimetype": "text/x-python",
   "name": "python",
   "nbconvert_exporter": "python",
   "pygments_lexer": "ipython3",
   "version": "3.8.8"
  }
 },
 "nbformat": 4,
 "nbformat_minor": 5
}
