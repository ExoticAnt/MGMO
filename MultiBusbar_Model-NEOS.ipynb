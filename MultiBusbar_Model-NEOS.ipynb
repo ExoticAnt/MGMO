{
 "cells": [
  {
   "cell_type": "markdown",
   "id": "administrative-bedroom",
   "metadata": {
    "id": "addressed-terrorism"
   },
   "source": [
    "## Prueba de modelos ##\n",
    "\n",
    "### Version 4: Modelo con 2 DER, planificación anual, granularidad horaria ###\n",
    "\n",
    "Si el modelo tiene que optimizar el balance por horas, tiene 8640 VD, pero sigue teniendo 2 VD binarias"
   ]
  },
  {
   "cell_type": "code",
   "execution_count": 89,
   "id": "hazardous-first",
   "metadata": {},
   "outputs": [
    {
     "name": "stdout",
     "output_type": "stream",
     "text": [
      "The autoreload extension is already loaded. To reload it, use:\n",
      "  %reload_ext autoreload\n"
     ]
    }
   ],
   "source": [
    "%load_ext autoreload"
   ]
  },
  {
   "cell_type": "code",
   "execution_count": 90,
   "id": "advisory-inventory",
   "metadata": {},
   "outputs": [],
   "source": [
    "%autoreload 2"
   ]
  },
  {
   "cell_type": "code",
   "execution_count": 91,
   "id": "preliminary-equation",
   "metadata": {
    "executionInfo": {
     "elapsed": 5552,
     "status": "ok",
     "timestamp": 1620005659685,
     "user": {
      "displayName": "Juan Sardón",
      "photoUrl": "https://lh3.googleusercontent.com/a-/AOh14Gh0hE4Hw8M0I17k-o2PXxLB5i6gNZV_oUTpZlyJ3Q=s64",
      "userId": "08267034058673099115"
     },
     "user_tz": 180
    },
    "id": "aboriginal-joshua"
   },
   "outputs": [],
   "source": [
    "import pandapower as pp"
   ]
  },
  {
   "cell_type": "code",
   "execution_count": 92,
   "id": "hungry-twist",
   "metadata": {
    "executionInfo": {
     "elapsed": 4248,
     "status": "ok",
     "timestamp": 1620005659688,
     "user": {
      "displayName": "Juan Sardón",
      "photoUrl": "https://lh3.googleusercontent.com/a-/AOh14Gh0hE4Hw8M0I17k-o2PXxLB5i6gNZV_oUTpZlyJ3Q=s64",
      "userId": "08267034058673099115"
     },
     "user_tz": 180
    },
    "id": "collectible-innocent"
   },
   "outputs": [],
   "source": [
    "import pyomo.environ as pe"
   ]
  },
  {
   "cell_type": "code",
   "execution_count": 93,
   "id": "removable-brooklyn",
   "metadata": {
    "executionInfo": {
     "elapsed": 3074,
     "status": "ok",
     "timestamp": 1620005659693,
     "user": {
      "displayName": "Juan Sardón",
      "photoUrl": "https://lh3.googleusercontent.com/a-/AOh14Gh0hE4Hw8M0I17k-o2PXxLB5i6gNZV_oUTpZlyJ3Q=s64",
      "userId": "08267034058673099115"
     },
     "user_tz": 180
    },
    "id": "united-bronze"
   },
   "outputs": [],
   "source": [
    "import matplotlib.pyplot as plt"
   ]
  },
  {
   "cell_type": "code",
   "execution_count": 94,
   "id": "reliable-cocktail",
   "metadata": {},
   "outputs": [],
   "source": [
    "import ModelWriters as mw"
   ]
  },
  {
   "cell_type": "code",
   "execution_count": 95,
   "id": "coated-venice",
   "metadata": {},
   "outputs": [],
   "source": [
    "import ModelWriters.Scenes as Scenes"
   ]
  },
  {
   "cell_type": "code",
   "execution_count": 96,
   "id": "confused-franchise",
   "metadata": {},
   "outputs": [],
   "source": [
    "import ModelWriters.Resources as Resources"
   ]
  },
  {
   "cell_type": "code",
   "execution_count": 97,
   "id": "rough-career",
   "metadata": {
    "colab": {
     "base_uri": "https://localhost:8080/"
    },
    "executionInfo": {
     "elapsed": 2223,
     "status": "ok",
     "timestamp": 1620005659694,
     "user": {
      "displayName": "Juan Sardón",
      "photoUrl": "https://lh3.googleusercontent.com/a-/AOh14Gh0hE4Hw8M0I17k-o2PXxLB5i6gNZV_oUTpZlyJ3Q=s64",
      "userId": "08267034058673099115"
     },
     "user_tz": 180
    },
    "id": "corrected-friendly",
    "outputId": "bdf4d701-1857-4ce0-be28-267a95d8d74a"
   },
   "outputs": [],
   "source": [
    "net = pp.create_empty_network() \n",
    "b0 = pp.create_bus(net, vn_kv=13.2)  #0\n",
    "\n",
    "pp.create_ext_grid(net, bus=b0)\n",
    "\n",
    "#ramal 1\n",
    "b11 = pp.create_bus(net, vn_kv=13.2)  #1\n",
    "b12 = pp.create_bus(net, vn_kv=13.2)  #2\n",
    "b113 = pp.create_bus(net, vn_kv=13.2)  #3\n",
    "\n",
    "pp.create_line(net, from_bus=b0, to_bus=b11, length_km=0.8, std_type=\"NAYY 4x50 SE\") #0\n",
    "pp.create_line(net, from_bus=b11, to_bus=b12, length_km=2.1, std_type=\"NAYY 4x50 SE\") #1\n",
    "pp.create_line(net, from_bus=b11, to_bus=b113, length_km=1.73, std_type=\"NAYY 4x50 SE\") #2\n",
    "\n",
    "pp.create_sgen(net, b113, p_mw=0.075, q_mvar=0.025, max_p_mw=0.15, max_q_mvar=0.15)\n",
    "pp.create_load(net, bus=b12, p_mw=0.350)\n",
    "\n",
    "#ramal 2\n",
    "b21 = pp.create_bus(net, vn_kv=13.2) #3\n",
    "pp.create_line(net, from_bus=b0, to_bus=b21, length_km=5.0, std_type=\"NAYY 4x50 SE\")\n",
    "pp.create_sgen(net, b21, p_mw=0.15, q_mvar=0.00, max_p_mw=0.40, max_q_mvar=0.10)\n",
    "pp.create_storage(net, bus=b21, p_mw=0.25, q_mvar=0.1, max_e_mwh = 3.0)\n",
    "\n",
    "#ramal 3\n",
    "b31 = pp.create_bus(net, vn_kv=13.2) #4\n",
    "b32 = pp.create_bus(net, vn_kv=13.2) #5\n",
    "pp.create_line(net, from_bus=b0, to_bus=b31, length_km=0.5, std_type=\"NAYY 4x50 SE\")\n",
    "pp.create_line(net, from_bus=b31, to_bus=b32, length_km=1.5, std_type=\"NAYY 4x50 SE\")\n",
    "pp.create_sgen(net, b31, p_mw=0.08, q_mvar=0.00, max_p_mw=0.30, max_q_mvar=0.10)\n",
    "pp.create_load(net, bus=b32, p_mw=0.85, q_mvar=0.33)\n",
    "\n",
    "\n",
    "#ramal 4\n",
    "b41 = pp.create_bus(net, vn_kv=13.2) #6\n",
    "pp.create_line(net, from_bus=b0, to_bus=b41, length_km=0.5, std_type=\"NAYY 4x50 SE\")\n",
    "pp.create_load(net, bus=b41, p_mw=0.22, q_mvar=0.05)\n",
    "#pp.create_storage(net, bus=b41, p_mw=0.5, q_mvar=0.1, max_e_mwh = 5.0)\n",
    "\n",
    "\n",
    "net.line['max_i_ka'][2] = 0.35/(1.73*13.2)"
   ]
  },
  {
   "cell_type": "code",
   "execution_count": 98,
   "id": "raising-container",
   "metadata": {},
   "outputs": [
    {
     "data": {
      "text/html": [
       "<div>\n",
       "<style scoped>\n",
       "    .dataframe tbody tr th:only-of-type {\n",
       "        vertical-align: middle;\n",
       "    }\n",
       "\n",
       "    .dataframe tbody tr th {\n",
       "        vertical-align: top;\n",
       "    }\n",
       "\n",
       "    .dataframe thead th {\n",
       "        text-align: right;\n",
       "    }\n",
       "</style>\n",
       "<table border=\"1\" class=\"dataframe\">\n",
       "  <thead>\n",
       "    <tr style=\"text-align: right;\">\n",
       "      <th></th>\n",
       "      <th>name</th>\n",
       "      <th>std_type</th>\n",
       "      <th>from_bus</th>\n",
       "      <th>to_bus</th>\n",
       "      <th>length_km</th>\n",
       "      <th>r_ohm_per_km</th>\n",
       "      <th>x_ohm_per_km</th>\n",
       "      <th>c_nf_per_km</th>\n",
       "      <th>g_us_per_km</th>\n",
       "      <th>max_i_ka</th>\n",
       "      <th>df</th>\n",
       "      <th>parallel</th>\n",
       "      <th>type</th>\n",
       "      <th>in_service</th>\n",
       "    </tr>\n",
       "  </thead>\n",
       "  <tbody>\n",
       "    <tr>\n",
       "      <th>0</th>\n",
       "      <td>None</td>\n",
       "      <td>NAYY 4x50 SE</td>\n",
       "      <td>0</td>\n",
       "      <td>1</td>\n",
       "      <td>0.80</td>\n",
       "      <td>0.642</td>\n",
       "      <td>0.083</td>\n",
       "      <td>210.0</td>\n",
       "      <td>0.0</td>\n",
       "      <td>0.142000</td>\n",
       "      <td>1.0</td>\n",
       "      <td>1</td>\n",
       "      <td>cs</td>\n",
       "      <td>True</td>\n",
       "    </tr>\n",
       "    <tr>\n",
       "      <th>1</th>\n",
       "      <td>None</td>\n",
       "      <td>NAYY 4x50 SE</td>\n",
       "      <td>1</td>\n",
       "      <td>2</td>\n",
       "      <td>2.10</td>\n",
       "      <td>0.642</td>\n",
       "      <td>0.083</td>\n",
       "      <td>210.0</td>\n",
       "      <td>0.0</td>\n",
       "      <td>0.142000</td>\n",
       "      <td>1.0</td>\n",
       "      <td>1</td>\n",
       "      <td>cs</td>\n",
       "      <td>True</td>\n",
       "    </tr>\n",
       "    <tr>\n",
       "      <th>2</th>\n",
       "      <td>None</td>\n",
       "      <td>NAYY 4x50 SE</td>\n",
       "      <td>1</td>\n",
       "      <td>3</td>\n",
       "      <td>1.73</td>\n",
       "      <td>0.642</td>\n",
       "      <td>0.083</td>\n",
       "      <td>210.0</td>\n",
       "      <td>0.0</td>\n",
       "      <td>0.015327</td>\n",
       "      <td>1.0</td>\n",
       "      <td>1</td>\n",
       "      <td>cs</td>\n",
       "      <td>True</td>\n",
       "    </tr>\n",
       "    <tr>\n",
       "      <th>3</th>\n",
       "      <td>None</td>\n",
       "      <td>NAYY 4x50 SE</td>\n",
       "      <td>0</td>\n",
       "      <td>4</td>\n",
       "      <td>5.00</td>\n",
       "      <td>0.642</td>\n",
       "      <td>0.083</td>\n",
       "      <td>210.0</td>\n",
       "      <td>0.0</td>\n",
       "      <td>0.142000</td>\n",
       "      <td>1.0</td>\n",
       "      <td>1</td>\n",
       "      <td>cs</td>\n",
       "      <td>True</td>\n",
       "    </tr>\n",
       "    <tr>\n",
       "      <th>4</th>\n",
       "      <td>None</td>\n",
       "      <td>NAYY 4x50 SE</td>\n",
       "      <td>0</td>\n",
       "      <td>5</td>\n",
       "      <td>0.50</td>\n",
       "      <td>0.642</td>\n",
       "      <td>0.083</td>\n",
       "      <td>210.0</td>\n",
       "      <td>0.0</td>\n",
       "      <td>0.142000</td>\n",
       "      <td>1.0</td>\n",
       "      <td>1</td>\n",
       "      <td>cs</td>\n",
       "      <td>True</td>\n",
       "    </tr>\n",
       "    <tr>\n",
       "      <th>5</th>\n",
       "      <td>None</td>\n",
       "      <td>NAYY 4x50 SE</td>\n",
       "      <td>5</td>\n",
       "      <td>6</td>\n",
       "      <td>1.50</td>\n",
       "      <td>0.642</td>\n",
       "      <td>0.083</td>\n",
       "      <td>210.0</td>\n",
       "      <td>0.0</td>\n",
       "      <td>0.142000</td>\n",
       "      <td>1.0</td>\n",
       "      <td>1</td>\n",
       "      <td>cs</td>\n",
       "      <td>True</td>\n",
       "    </tr>\n",
       "    <tr>\n",
       "      <th>6</th>\n",
       "      <td>None</td>\n",
       "      <td>NAYY 4x50 SE</td>\n",
       "      <td>0</td>\n",
       "      <td>7</td>\n",
       "      <td>0.50</td>\n",
       "      <td>0.642</td>\n",
       "      <td>0.083</td>\n",
       "      <td>210.0</td>\n",
       "      <td>0.0</td>\n",
       "      <td>0.142000</td>\n",
       "      <td>1.0</td>\n",
       "      <td>1</td>\n",
       "      <td>cs</td>\n",
       "      <td>True</td>\n",
       "    </tr>\n",
       "  </tbody>\n",
       "</table>\n",
       "</div>"
      ],
      "text/plain": [
       "   name      std_type  from_bus  to_bus  length_km  r_ohm_per_km  \\\n",
       "0  None  NAYY 4x50 SE         0       1       0.80         0.642   \n",
       "1  None  NAYY 4x50 SE         1       2       2.10         0.642   \n",
       "2  None  NAYY 4x50 SE         1       3       1.73         0.642   \n",
       "3  None  NAYY 4x50 SE         0       4       5.00         0.642   \n",
       "4  None  NAYY 4x50 SE         0       5       0.50         0.642   \n",
       "5  None  NAYY 4x50 SE         5       6       1.50         0.642   \n",
       "6  None  NAYY 4x50 SE         0       7       0.50         0.642   \n",
       "\n",
       "   x_ohm_per_km  c_nf_per_km  g_us_per_km  max_i_ka   df  parallel type  \\\n",
       "0         0.083        210.0          0.0  0.142000  1.0         1   cs   \n",
       "1         0.083        210.0          0.0  0.142000  1.0         1   cs   \n",
       "2         0.083        210.0          0.0  0.015327  1.0         1   cs   \n",
       "3         0.083        210.0          0.0  0.142000  1.0         1   cs   \n",
       "4         0.083        210.0          0.0  0.142000  1.0         1   cs   \n",
       "5         0.083        210.0          0.0  0.142000  1.0         1   cs   \n",
       "6         0.083        210.0          0.0  0.142000  1.0         1   cs   \n",
       "\n",
       "   in_service  \n",
       "0        True  \n",
       "1        True  \n",
       "2        True  \n",
       "3        True  \n",
       "4        True  \n",
       "5        True  \n",
       "6        True  "
      ]
     },
     "execution_count": 98,
     "metadata": {},
     "output_type": "execute_result"
    }
   ],
   "source": [
    "net.line"
   ]
  },
  {
   "cell_type": "code",
   "execution_count": 99,
   "id": "bizarre-baking",
   "metadata": {
    "executionInfo": {
     "elapsed": 2125,
     "status": "ok",
     "timestamp": 1620005662287,
     "user": {
      "displayName": "Juan Sardón",
      "photoUrl": "https://lh3.googleusercontent.com/a-/AOh14Gh0hE4Hw8M0I17k-o2PXxLB5i6gNZV_oUTpZlyJ3Q=s64",
      "userId": "08267034058673099115"
     },
     "user_tz": 180
    },
    "id": "junior-abraham"
   },
   "outputs": [],
   "source": [
    " pp.runpp(net)"
   ]
  },
  {
   "cell_type": "code",
   "execution_count": 100,
   "id": "supposed-facing",
   "metadata": {
    "colab": {
     "base_uri": "https://localhost:8080/"
    },
    "executionInfo": {
     "elapsed": 1619,
     "status": "ok",
     "timestamp": 1620005663021,
     "user": {
      "displayName": "Juan Sardón",
      "photoUrl": "https://lh3.googleusercontent.com/a-/AOh14Gh0hE4Hw8M0I17k-o2PXxLB5i6gNZV_oUTpZlyJ3Q=s64",
      "userId": "08267034058673099115"
     },
     "user_tz": 180
    },
    "id": "biological-emergency",
    "outputId": "ff9a4063-32b3-467c-c916-afc6f5140231"
   },
   "outputs": [
    {
     "name": "stdout",
     "output_type": "stream",
     "text": [
      "0    1.000000\n",
      "1    0.999214\n",
      "2    0.996508\n",
      "3    0.999721\n",
      "4    0.997983\n",
      "5    0.998497\n",
      "6    0.993536\n",
      "7    0.999583\n",
      "Name: vm_pu, dtype: float64\n",
      "   p_from_mw  q_from_mvar   p_to_mw     q_to_mvar     pl_mw   ql_mvar  \\\n",
      "0   0.276240    -0.077931 -0.275999  6.877317e-02  0.000241 -0.009158   \n",
      "1   0.350956    -0.023913 -0.350000 -3.856887e-15  0.000956 -0.023913   \n",
      "2  -0.074956    -0.044860  0.075000  2.500000e-02  0.000044 -0.019860   \n",
      "3   0.100279     0.042676 -0.100000 -1.000000e-01  0.000279 -0.057324   \n",
      "4   0.775911     0.307919 -0.774624 -3.134920e-01  0.001287 -0.005573   \n",
      "5   0.854624     0.313492 -0.850000 -3.300000e-01  0.004624 -0.016508   \n",
      "6   0.220093     0.044267 -0.220000 -5.000000e-02  0.000093 -0.005733   \n",
      "\n",
      "   i_from_ka   i_to_ka      i_ka  vm_from_pu  va_from_degree  vm_to_pu  \\\n",
      "0   0.012554  0.012451  0.012554    1.000000        0.000000  0.999214   \n",
      "1   0.015398  0.015362  0.015398    0.999214       -0.018431  0.996508   \n",
      "2   0.003824  0.003459  0.003824    0.999214       -0.018431  0.999721   \n",
      "3   0.004767  0.006198  0.006198    1.000000        0.000000  0.997983   \n",
      "4   0.036512  0.036605  0.036605    1.000000        0.000000  0.998497   \n",
      "5   0.039876  0.040141  0.040141    0.998497        0.022251  0.993536   \n",
      "6   0.009819  0.009872  0.009872    1.000000        0.000000  0.999583   \n",
      "\n",
      "   va_to_degree  loading_percent  \n",
      "0     -0.018431         8.840825  \n",
      "1     -0.043914        10.843681  \n",
      "2     -0.027660        24.948581  \n",
      "3      0.061821         4.364846  \n",
      "4      0.022251        25.778497  \n",
      "5      0.089794        28.268214  \n",
      "6      0.001973         6.952116  \n"
     ]
    }
   ],
   "source": [
    "print(net.res_bus.vm_pu)\n",
    "print(net.res_line)"
   ]
  },
  {
   "cell_type": "code",
   "execution_count": 101,
   "id": "prepared-greene",
   "metadata": {
    "colab": {
     "base_uri": "https://localhost:8080/"
    },
    "executionInfo": {
     "elapsed": 885,
     "status": "ok",
     "timestamp": 1620005663021,
     "user": {
      "displayName": "Juan Sardón",
      "photoUrl": "https://lh3.googleusercontent.com/a-/AOh14Gh0hE4Hw8M0I17k-o2PXxLB5i6gNZV_oUTpZlyJ3Q=s64",
      "userId": "08267034058673099115"
     },
     "user_tz": 180
    },
    "id": "norwegian-dover",
    "outputId": "f1a78284-1d03-4323-8253-e779b726a433"
   },
   "outputs": [
    {
     "name": "stdout",
     "output_type": "stream",
     "text": [
      "This pandapower network includes the following parameter tables:\n",
      "   - bus (8 elements)\n",
      "   - load (3 elements)\n",
      "   - sgen (3 elements)\n",
      "   - storage (1 element)\n",
      "   - ext_grid (1 element)\n",
      "   - line (7 elements)\n",
      " and the following results tables:\n",
      "   - res_bus (8 elements)\n",
      "   - res_line (7 elements)\n",
      "   - res_ext_grid (1 element)\n",
      "   - res_load (3 elements)\n",
      "   - res_sgen (3 elements)\n",
      "   - res_storage (1 element)\n"
     ]
    }
   ],
   "source": [
    "print(net)"
   ]
  },
  {
   "cell_type": "markdown",
   "id": "front-barbados",
   "metadata": {
    "id": "pTK9BGaY4BEu"
   },
   "source": [
    "## Construcción de Escenarios"
   ]
  },
  {
   "cell_type": "code",
   "execution_count": 102,
   "id": "offensive-calculator",
   "metadata": {},
   "outputs": [
    {
     "data": {
      "text/html": [
       "<div>\n",
       "<style scoped>\n",
       "    .dataframe tbody tr th:only-of-type {\n",
       "        vertical-align: middle;\n",
       "    }\n",
       "\n",
       "    .dataframe tbody tr th {\n",
       "        vertical-align: top;\n",
       "    }\n",
       "\n",
       "    .dataframe thead th {\n",
       "        text-align: right;\n",
       "    }\n",
       "</style>\n",
       "<table border=\"1\" class=\"dataframe\">\n",
       "  <thead>\n",
       "    <tr style=\"text-align: right;\">\n",
       "      <th></th>\n",
       "      <th>year</th>\n",
       "      <th>day</th>\n",
       "      <th>dd</th>\n",
       "      <th>hour</th>\n",
       "      <th>dt</th>\n",
       "      <th>growth</th>\n",
       "      <th>discount</th>\n",
       "      <th>solar_irradiance</th>\n",
       "      <th>wind_speed</th>\n",
       "    </tr>\n",
       "  </thead>\n",
       "  <tbody>\n",
       "    <tr>\n",
       "      <th>0</th>\n",
       "      <td>0.0</td>\n",
       "      <td>0.0</td>\n",
       "      <td>13.035714</td>\n",
       "      <td>0.0</td>\n",
       "      <td>1.0</td>\n",
       "      <td>1.00000</td>\n",
       "      <td>1.000000</td>\n",
       "      <td>0.0</td>\n",
       "      <td>1.575145</td>\n",
       "    </tr>\n",
       "    <tr>\n",
       "      <th>1</th>\n",
       "      <td>0.0</td>\n",
       "      <td>0.0</td>\n",
       "      <td>13.035714</td>\n",
       "      <td>1.0</td>\n",
       "      <td>1.0</td>\n",
       "      <td>1.00000</td>\n",
       "      <td>1.000000</td>\n",
       "      <td>0.0</td>\n",
       "      <td>2.879862</td>\n",
       "    </tr>\n",
       "    <tr>\n",
       "      <th>2</th>\n",
       "      <td>0.0</td>\n",
       "      <td>0.0</td>\n",
       "      <td>13.035714</td>\n",
       "      <td>2.0</td>\n",
       "      <td>1.0</td>\n",
       "      <td>1.00000</td>\n",
       "      <td>1.000000</td>\n",
       "      <td>0.0</td>\n",
       "      <td>3.082286</td>\n",
       "    </tr>\n",
       "    <tr>\n",
       "      <th>3</th>\n",
       "      <td>0.0</td>\n",
       "      <td>0.0</td>\n",
       "      <td>13.035714</td>\n",
       "      <td>3.0</td>\n",
       "      <td>1.0</td>\n",
       "      <td>1.00000</td>\n",
       "      <td>1.000000</td>\n",
       "      <td>0.0</td>\n",
       "      <td>6.487905</td>\n",
       "    </tr>\n",
       "    <tr>\n",
       "      <th>4</th>\n",
       "      <td>0.0</td>\n",
       "      <td>0.0</td>\n",
       "      <td>13.035714</td>\n",
       "      <td>4.0</td>\n",
       "      <td>1.0</td>\n",
       "      <td>1.00000</td>\n",
       "      <td>1.000000</td>\n",
       "      <td>0.0</td>\n",
       "      <td>7.555838</td>\n",
       "    </tr>\n",
       "    <tr>\n",
       "      <th>...</th>\n",
       "      <td>...</td>\n",
       "      <td>...</td>\n",
       "      <td>...</td>\n",
       "      <td>...</td>\n",
       "      <td>...</td>\n",
       "      <td>...</td>\n",
       "      <td>...</td>\n",
       "      <td>...</td>\n",
       "      <td>...</td>\n",
       "    </tr>\n",
       "    <tr>\n",
       "      <th>13435</th>\n",
       "      <td>19.0</td>\n",
       "      <td>279.0</td>\n",
       "      <td>13.035714</td>\n",
       "      <td>19.0</td>\n",
       "      <td>1.0</td>\n",
       "      <td>1.59865</td>\n",
       "      <td>0.570286</td>\n",
       "      <td>0.0</td>\n",
       "      <td>10.403014</td>\n",
       "    </tr>\n",
       "    <tr>\n",
       "      <th>13436</th>\n",
       "      <td>19.0</td>\n",
       "      <td>279.0</td>\n",
       "      <td>13.035714</td>\n",
       "      <td>20.0</td>\n",
       "      <td>1.0</td>\n",
       "      <td>1.59865</td>\n",
       "      <td>0.570286</td>\n",
       "      <td>0.0</td>\n",
       "      <td>11.695665</td>\n",
       "    </tr>\n",
       "    <tr>\n",
       "      <th>13437</th>\n",
       "      <td>19.0</td>\n",
       "      <td>279.0</td>\n",
       "      <td>13.035714</td>\n",
       "      <td>21.0</td>\n",
       "      <td>1.0</td>\n",
       "      <td>1.59865</td>\n",
       "      <td>0.570286</td>\n",
       "      <td>0.0</td>\n",
       "      <td>9.940168</td>\n",
       "    </tr>\n",
       "    <tr>\n",
       "      <th>13438</th>\n",
       "      <td>19.0</td>\n",
       "      <td>279.0</td>\n",
       "      <td>13.035714</td>\n",
       "      <td>22.0</td>\n",
       "      <td>1.0</td>\n",
       "      <td>1.59865</td>\n",
       "      <td>0.570286</td>\n",
       "      <td>0.0</td>\n",
       "      <td>8.996847</td>\n",
       "    </tr>\n",
       "    <tr>\n",
       "      <th>13439</th>\n",
       "      <td>19.0</td>\n",
       "      <td>279.0</td>\n",
       "      <td>13.035714</td>\n",
       "      <td>23.0</td>\n",
       "      <td>1.0</td>\n",
       "      <td>1.59865</td>\n",
       "      <td>0.570286</td>\n",
       "      <td>0.0</td>\n",
       "      <td>9.864194</td>\n",
       "    </tr>\n",
       "  </tbody>\n",
       "</table>\n",
       "<p>13440 rows × 9 columns</p>\n",
       "</div>"
      ],
      "text/plain": [
       "       year    day         dd  hour   dt   growth  discount  solar_irradiance  \\\n",
       "0       0.0    0.0  13.035714   0.0  1.0  1.00000  1.000000               0.0   \n",
       "1       0.0    0.0  13.035714   1.0  1.0  1.00000  1.000000               0.0   \n",
       "2       0.0    0.0  13.035714   2.0  1.0  1.00000  1.000000               0.0   \n",
       "3       0.0    0.0  13.035714   3.0  1.0  1.00000  1.000000               0.0   \n",
       "4       0.0    0.0  13.035714   4.0  1.0  1.00000  1.000000               0.0   \n",
       "...     ...    ...        ...   ...  ...      ...       ...               ...   \n",
       "13435  19.0  279.0  13.035714  19.0  1.0  1.59865  0.570286               0.0   \n",
       "13436  19.0  279.0  13.035714  20.0  1.0  1.59865  0.570286               0.0   \n",
       "13437  19.0  279.0  13.035714  21.0  1.0  1.59865  0.570286               0.0   \n",
       "13438  19.0  279.0  13.035714  22.0  1.0  1.59865  0.570286               0.0   \n",
       "13439  19.0  279.0  13.035714  23.0  1.0  1.59865  0.570286               0.0   \n",
       "\n",
       "       wind_speed  \n",
       "0        1.575145  \n",
       "1        2.879862  \n",
       "2        3.082286  \n",
       "3        6.487905  \n",
       "4        7.555838  \n",
       "...           ...  \n",
       "13435   10.403014  \n",
       "13436   11.695665  \n",
       "13437    9.940168  \n",
       "13438    8.996847  \n",
       "13439    9.864194  \n",
       "\n",
       "[13440 rows x 9 columns]"
      ]
     },
     "execution_count": 102,
     "metadata": {},
     "output_type": "execute_result"
    }
   ],
   "source": [
    "#s = Scenes.SceneBuilder(years = 4, subperiods = 1, days_in_subperiods = 1, dt=24, growth_rate = 0.025, discount_rate = 0.05)\n",
    "#s = Scenes.SceneBuilder(years = 4, subperiods = 4, days_in_subperiods = 1, dt=1, growth_rate = 0.025, discount_rate = 0.05)\n",
    "#s = Scenes.SceneBuilder(years = 20, subperiods = 4, days_in_subperiods = 5, dt=2, growth_rate = 0.025, discount_rate = 0.03)\n",
    "s = Scenes.SceneBuilder(years = 20, subperiods = 4, days_in_subperiods = 7, growth_rate = 0.025, discount_rate = 0.03)\n",
    "#s = Scenes.SceneBuilder(years = 20, subperiods = 1, days_in_subperiods = 365, dt = 1, growth_rate = 0.025, discount_rate = 0.03)\n",
    "scenes = s.build_scenes()\n",
    "scenes"
   ]
  },
  {
   "cell_type": "markdown",
   "id": "resistant-things",
   "metadata": {
    "id": "DrtD-E834lhY"
   },
   "source": [
    "## Model Construction"
   ]
  },
  {
   "cell_type": "markdown",
   "id": "gorgeous-friendship",
   "metadata": {
    "id": "spiritual-luxembourg"
   },
   "source": [
    "Construccion automatica del modelo\n",
    "Es un modelo de dimensionamiento de 3 DERs (WT+PV)"
   ]
  },
  {
   "cell_type": "code",
   "execution_count": 103,
   "id": "hidden-technique",
   "metadata": {},
   "outputs": [],
   "source": [
    "#model_writer = mw.MultiBusbarModelWriter(net, scenes, overload_cost = 2.0)\n",
    "#model_writer = mw.MultiBusbarModelWriter(net, scenes, overload_cost = None)\n",
    "#model_writer = mw.MultiBusbarModelWriter(net, scenes, overload_hours = 4000)\n",
    "model_writer = mw.MultiBusbarModelWriter(net, scenes, overload_hours = 15000)"
   ]
  },
  {
   "cell_type": "code",
   "execution_count": 104,
   "id": "average-steering",
   "metadata": {},
   "outputs": [],
   "source": [
    "net.ext_grid['model'][0] = Resources.ExtGrid('SET', pr_mw = 5.0, peak_value=200, valley_value=120, rest_value=160)\n",
    "#net.ext_grid['model'][0] = Resources.ExtGrid('SET', pr_mw = 5.0, peak_value=2000, valley_value=1500, rest_value=1000)"
   ]
  },
  {
   "cell_type": "code",
   "execution_count": 105,
   "id": "aggregate-genius",
   "metadata": {},
   "outputs": [],
   "source": [
    "net.load['model'][0] = Resources.Load('Tornquinst', pr_mw = 0.35)\n",
    "net.load['model'][1] = Resources.Load('Bell Ville', pr_mw = 0.85)\n",
    "net.load['model'][2] = Resources.Load('City Bell', pr_mw = 0.22)"
   ]
  },
  {
   "cell_type": "code",
   "execution_count": 106,
   "id": "toxic-arbitration",
   "metadata": {},
   "outputs": [],
   "source": [
    "net.sgen['model'][0] = Resources.PVGenerator('PV1', ic_0_mu = 0.0, ic_1_mu = 1.02e6, oc_0_mu = 1.02, oc_1_mu = 0.0)\n",
    "net.sgen['model'][1] = Resources.WTGeneratorDiscrete('WT1', unit_size_mw = 0.19, unit_cost_mu = 541e3, oc_0_mu = 0.00, oc_1_mu = 1.70)\n",
    "#net.sgen['model'][2] = Resources.PVGeneratorDiscrete('PV2', unit_size_mw = 0.05, unit_cost_mu = 51e3, oc_0_mu = 0.03, oc_1_mu = 0.0)"
   ]
  },
  {
   "cell_type": "code",
   "execution_count": 107,
   "id": "devoted-university",
   "metadata": {},
   "outputs": [],
   "source": [
    "net.storage['model'][0] = Resources.Storage('ST1', ic_1_mu = 554e3, ic_1_mu_cap = 330e3, oc_1_mu = 2.28*4, eta_bb = 0.8, sigma = 2.1e-3)"
   ]
  },
  {
   "cell_type": "markdown",
   "id": "frank-following",
   "metadata": {},
   "source": [
    "## Resolution"
   ]
  },
  {
   "cell_type": "code",
   "execution_count": 108,
   "id": "portuguese-title",
   "metadata": {},
   "outputs": [],
   "source": [
    "import os"
   ]
  },
  {
   "cell_type": "code",
   "execution_count": 109,
   "id": "generic-oriental",
   "metadata": {},
   "outputs": [],
   "source": [
    "os.environ['NEOS_EMAIL'] = 'juan.manuel.sardon@gmail.com'"
   ]
  },
  {
   "cell_type": "code",
   "execution_count": 110,
   "id": "fleet-vanilla",
   "metadata": {},
   "outputs": [],
   "source": [
    "model = model_writer.create_model()"
   ]
  },
  {
   "cell_type": "code",
   "execution_count": 111,
   "id": "welsh-peace",
   "metadata": {},
   "outputs": [],
   "source": [
    "if len(scenes) < 40:\n",
    "    model.pprint()"
   ]
  },
  {
   "cell_type": "code",
   "execution_count": null,
   "id": "successful-magic",
   "metadata": {},
   "outputs": [],
   "source": [
    "solver_manager = pe.SolverManagerFactory('neos')\n",
    "result_obj = solver_manager.solve(model, opt='cplex')\n",
    "\n",
    "##opt = pe.SolverFactory('cplex')\n",
    "#opt = pe.SolverFactory('glpk')\n",
    "#result_obj= opt.solve(model, tee=True)"
   ]
  },
  {
   "cell_type": "code",
   "execution_count": 67,
   "id": "vocal-projector",
   "metadata": {},
   "outputs": [],
   "source": [
    "model_writer.backconfigure_network()"
   ]
  },
  {
   "cell_type": "code",
   "execution_count": 68,
   "id": "prepared-providence",
   "metadata": {},
   "outputs": [
    {
     "data": {
      "text/html": [
       "<div>\n",
       "<style scoped>\n",
       "    .dataframe tbody tr th:only-of-type {\n",
       "        vertical-align: middle;\n",
       "    }\n",
       "\n",
       "    .dataframe tbody tr th {\n",
       "        vertical-align: top;\n",
       "    }\n",
       "\n",
       "    .dataframe thead th {\n",
       "        text-align: right;\n",
       "    }\n",
       "</style>\n",
       "<table border=\"1\" class=\"dataframe\">\n",
       "  <thead>\n",
       "    <tr style=\"text-align: right;\">\n",
       "      <th></th>\n",
       "      <th>name</th>\n",
       "      <th>bus</th>\n",
       "      <th>p_mw</th>\n",
       "      <th>q_mvar</th>\n",
       "      <th>sn_mva</th>\n",
       "      <th>scaling</th>\n",
       "      <th>in_service</th>\n",
       "      <th>type</th>\n",
       "      <th>current_source</th>\n",
       "      <th>max_p_mw</th>\n",
       "      <th>max_q_mvar</th>\n",
       "      <th>model</th>\n",
       "    </tr>\n",
       "  </thead>\n",
       "  <tbody>\n",
       "    <tr>\n",
       "      <th>0</th>\n",
       "      <td>None</td>\n",
       "      <td>3</td>\n",
       "      <td>0.075</td>\n",
       "      <td>0.025</td>\n",
       "      <td>NaN</td>\n",
       "      <td>1.0</td>\n",
       "      <td>True</td>\n",
       "      <td>wye</td>\n",
       "      <td>True</td>\n",
       "      <td>0.601698</td>\n",
       "      <td>0.300849</td>\n",
       "      <td>Resource: PV1</td>\n",
       "    </tr>\n",
       "    <tr>\n",
       "      <th>1</th>\n",
       "      <td>None</td>\n",
       "      <td>4</td>\n",
       "      <td>0.150</td>\n",
       "      <td>0.000</td>\n",
       "      <td>NaN</td>\n",
       "      <td>1.0</td>\n",
       "      <td>True</td>\n",
       "      <td>wye</td>\n",
       "      <td>True</td>\n",
       "      <td>0.000000</td>\n",
       "      <td>0.000000</td>\n",
       "      <td>Resource: WT1</td>\n",
       "    </tr>\n",
       "    <tr>\n",
       "      <th>2</th>\n",
       "      <td>None</td>\n",
       "      <td>5</td>\n",
       "      <td>0.080</td>\n",
       "      <td>0.000</td>\n",
       "      <td>NaN</td>\n",
       "      <td>1.0</td>\n",
       "      <td>True</td>\n",
       "      <td>wye</td>\n",
       "      <td>True</td>\n",
       "      <td>0.300000</td>\n",
       "      <td>0.100000</td>\n",
       "      <td>None</td>\n",
       "    </tr>\n",
       "  </tbody>\n",
       "</table>\n",
       "</div>"
      ],
      "text/plain": [
       "   name  bus   p_mw  q_mvar  sn_mva  scaling  in_service type  current_source  \\\n",
       "0  None    3  0.075   0.025     NaN      1.0        True  wye            True   \n",
       "1  None    4  0.150   0.000     NaN      1.0        True  wye            True   \n",
       "2  None    5  0.080   0.000     NaN      1.0        True  wye            True   \n",
       "\n",
       "   max_p_mw  max_q_mvar          model  \n",
       "0  0.601698    0.300849  Resource: PV1  \n",
       "1  0.000000    0.000000  Resource: WT1  \n",
       "2  0.300000    0.100000           None  "
      ]
     },
     "execution_count": 68,
     "metadata": {},
     "output_type": "execute_result"
    }
   ],
   "source": [
    "model_writer.net.sgen"
   ]
  },
  {
   "cell_type": "code",
   "execution_count": 358,
   "id": "shared-stock",
   "metadata": {},
   "outputs": [
    {
     "ename": "AttributeError",
     "evalue": "'NoneType' object has no attribute 'units'",
     "output_type": "error",
     "traceback": [
      "\u001b[1;31m---------------------------------------------------------------------------\u001b[0m",
      "\u001b[1;31mAttributeError\u001b[0m                            Traceback (most recent call last)",
      "\u001b[1;32m<ipython-input-358-1175627d8ca5>\u001b[0m in \u001b[0;36m<module>\u001b[1;34m\u001b[0m\n\u001b[1;32m----> 1\u001b[1;33m \u001b[0mnet\u001b[0m\u001b[1;33m.\u001b[0m\u001b[0msgen\u001b[0m\u001b[1;33m[\u001b[0m\u001b[1;34m'model'\u001b[0m\u001b[1;33m]\u001b[0m\u001b[1;33m[\u001b[0m\u001b[1;36m2\u001b[0m\u001b[1;33m]\u001b[0m\u001b[1;33m.\u001b[0m\u001b[0munits\u001b[0m\u001b[1;33m.\u001b[0m\u001b[0mvalue\u001b[0m\u001b[1;33m\u001b[0m\u001b[1;33m\u001b[0m\u001b[0m\n\u001b[0m",
      "\u001b[1;31mAttributeError\u001b[0m: 'NoneType' object has no attribute 'units'"
     ]
    }
   ],
   "source": [
    "net.sgen['model'][2].units.value"
   ]
  },
  {
   "cell_type": "code",
   "execution_count": 69,
   "id": "vanilla-occurrence",
   "metadata": {},
   "outputs": [
    {
     "data": {
      "text/html": [
       "<div>\n",
       "<style scoped>\n",
       "    .dataframe tbody tr th:only-of-type {\n",
       "        vertical-align: middle;\n",
       "    }\n",
       "\n",
       "    .dataframe tbody tr th {\n",
       "        vertical-align: top;\n",
       "    }\n",
       "\n",
       "    .dataframe thead th {\n",
       "        text-align: right;\n",
       "    }\n",
       "</style>\n",
       "<table border=\"1\" class=\"dataframe\">\n",
       "  <thead>\n",
       "    <tr style=\"text-align: right;\">\n",
       "      <th></th>\n",
       "      <th>name</th>\n",
       "      <th>bus</th>\n",
       "      <th>p_mw</th>\n",
       "      <th>q_mvar</th>\n",
       "      <th>sn_mva</th>\n",
       "      <th>soc_percent</th>\n",
       "      <th>min_e_mwh</th>\n",
       "      <th>max_e_mwh</th>\n",
       "      <th>scaling</th>\n",
       "      <th>in_service</th>\n",
       "      <th>type</th>\n",
       "      <th>model</th>\n",
       "    </tr>\n",
       "  </thead>\n",
       "  <tbody>\n",
       "    <tr>\n",
       "      <th>0</th>\n",
       "      <td>None</td>\n",
       "      <td>4</td>\n",
       "      <td>0.25</td>\n",
       "      <td>0.1</td>\n",
       "      <td>NaN</td>\n",
       "      <td>NaN</td>\n",
       "      <td>0.0</td>\n",
       "      <td>0.0</td>\n",
       "      <td>1.0</td>\n",
       "      <td>True</td>\n",
       "      <td>None</td>\n",
       "      <td>Resource: ST1</td>\n",
       "    </tr>\n",
       "  </tbody>\n",
       "</table>\n",
       "</div>"
      ],
      "text/plain": [
       "   name  bus  p_mw  q_mvar  sn_mva  soc_percent  min_e_mwh  max_e_mwh  \\\n",
       "0  None    4  0.25     0.1     NaN          NaN        0.0        0.0   \n",
       "\n",
       "   scaling  in_service  type          model  \n",
       "0      1.0        True  None  Resource: ST1  "
      ]
     },
     "execution_count": 69,
     "metadata": {},
     "output_type": "execute_result"
    }
   ],
   "source": [
    "model_writer.net.storage"
   ]
  },
  {
   "cell_type": "code",
   "execution_count": 70,
   "id": "compound-breath",
   "metadata": {
    "tags": []
   },
   "outputs": [],
   "source": [
    "Resultados = model_writer.get_scenes_results()"
   ]
  },
  {
   "cell_type": "code",
   "execution_count": 71,
   "id": "liberal-domestic",
   "metadata": {
    "colab": {
     "base_uri": "https://localhost:8080/",
     "height": 424
    },
    "executionInfo": {
     "elapsed": 699,
     "status": "ok",
     "timestamp": 1619873491559,
     "user": {
      "displayName": "Juan Sardón",
      "photoUrl": "https://lh3.googleusercontent.com/a-/AOh14Gh0hE4Hw8M0I17k-o2PXxLB5i6gNZV_oUTpZlyJ3Q=s64",
      "userId": "08267034058673099115"
     },
     "user_tz": 180
    },
    "id": "tropical-completion",
    "outputId": "082e0a6f-0230-4e8e-b532-e95c63049c68"
   },
   "outputs": [
    {
     "data": {
      "text/html": [
       "<div>\n",
       "<style scoped>\n",
       "    .dataframe tbody tr th:only-of-type {\n",
       "        vertical-align: middle;\n",
       "    }\n",
       "\n",
       "    .dataframe tbody tr th {\n",
       "        vertical-align: top;\n",
       "    }\n",
       "\n",
       "    .dataframe thead th {\n",
       "        text-align: right;\n",
       "    }\n",
       "</style>\n",
       "<table border=\"1\" class=\"dataframe\">\n",
       "  <thead>\n",
       "    <tr style=\"text-align: right;\">\n",
       "      <th></th>\n",
       "      <th>SET_p_mw</th>\n",
       "      <th>Tornquinst_p_mw</th>\n",
       "      <th>Bell Ville_p_mw</th>\n",
       "      <th>City Bell_p_mw</th>\n",
       "      <th>PV1_p_mw</th>\n",
       "      <th>WT1_p_mw</th>\n",
       "      <th>ST1_p_mw</th>\n",
       "      <th>ST1_soc_mwh</th>\n",
       "      <th>L 0_1_pf_mw</th>\n",
       "      <th>L 0_1_ep_h</th>\n",
       "      <th>...</th>\n",
       "      <th>L 1_3_pf_mw</th>\n",
       "      <th>L 1_3_ep_h</th>\n",
       "      <th>L 0_4_pf_mw</th>\n",
       "      <th>L 0_4_ep_h</th>\n",
       "      <th>L 0_5_pf_mw</th>\n",
       "      <th>L 0_5_ep_h</th>\n",
       "      <th>L 5_6_pf_mw</th>\n",
       "      <th>L 5_6_ep_h</th>\n",
       "      <th>L 0_7_pf_mw</th>\n",
       "      <th>L 0_7_ep_h</th>\n",
       "    </tr>\n",
       "  </thead>\n",
       "  <tbody>\n",
       "    <tr>\n",
       "      <th>0</th>\n",
       "      <td>0.351345</td>\n",
       "      <td>-0.080218</td>\n",
       "      <td>-0.217112</td>\n",
       "      <td>-0.054015</td>\n",
       "      <td>0.0</td>\n",
       "      <td>0.0</td>\n",
       "      <td>0.0</td>\n",
       "      <td>0.0</td>\n",
       "      <td>-0.080218</td>\n",
       "      <td>0.0</td>\n",
       "      <td>...</td>\n",
       "      <td>0.0</td>\n",
       "      <td>0.0</td>\n",
       "      <td>0.0</td>\n",
       "      <td>0.0</td>\n",
       "      <td>-0.217112</td>\n",
       "      <td>0.0</td>\n",
       "      <td>-0.217112</td>\n",
       "      <td>0.0</td>\n",
       "      <td>-0.054015</td>\n",
       "      <td>0.0</td>\n",
       "    </tr>\n",
       "    <tr>\n",
       "      <th>1</th>\n",
       "      <td>0.366474</td>\n",
       "      <td>-0.098965</td>\n",
       "      <td>-0.223529</td>\n",
       "      <td>-0.043980</td>\n",
       "      <td>0.0</td>\n",
       "      <td>0.0</td>\n",
       "      <td>0.0</td>\n",
       "      <td>0.0</td>\n",
       "      <td>-0.098965</td>\n",
       "      <td>0.0</td>\n",
       "      <td>...</td>\n",
       "      <td>0.0</td>\n",
       "      <td>0.0</td>\n",
       "      <td>0.0</td>\n",
       "      <td>0.0</td>\n",
       "      <td>-0.223529</td>\n",
       "      <td>0.0</td>\n",
       "      <td>-0.223529</td>\n",
       "      <td>0.0</td>\n",
       "      <td>-0.043980</td>\n",
       "      <td>0.0</td>\n",
       "    </tr>\n",
       "    <tr>\n",
       "      <th>2</th>\n",
       "      <td>0.288644</td>\n",
       "      <td>-0.068699</td>\n",
       "      <td>-0.164762</td>\n",
       "      <td>-0.055183</td>\n",
       "      <td>0.0</td>\n",
       "      <td>0.0</td>\n",
       "      <td>0.0</td>\n",
       "      <td>0.0</td>\n",
       "      <td>-0.068699</td>\n",
       "      <td>0.0</td>\n",
       "      <td>...</td>\n",
       "      <td>0.0</td>\n",
       "      <td>0.0</td>\n",
       "      <td>0.0</td>\n",
       "      <td>0.0</td>\n",
       "      <td>-0.164762</td>\n",
       "      <td>0.0</td>\n",
       "      <td>-0.164762</td>\n",
       "      <td>0.0</td>\n",
       "      <td>-0.055183</td>\n",
       "      <td>0.0</td>\n",
       "    </tr>\n",
       "    <tr>\n",
       "      <th>3</th>\n",
       "      <td>0.361808</td>\n",
       "      <td>-0.090402</td>\n",
       "      <td>-0.217962</td>\n",
       "      <td>-0.053444</td>\n",
       "      <td>0.0</td>\n",
       "      <td>0.0</td>\n",
       "      <td>0.0</td>\n",
       "      <td>0.0</td>\n",
       "      <td>-0.090402</td>\n",
       "      <td>0.0</td>\n",
       "      <td>...</td>\n",
       "      <td>0.0</td>\n",
       "      <td>0.0</td>\n",
       "      <td>0.0</td>\n",
       "      <td>0.0</td>\n",
       "      <td>-0.217962</td>\n",
       "      <td>0.0</td>\n",
       "      <td>-0.217962</td>\n",
       "      <td>0.0</td>\n",
       "      <td>-0.053444</td>\n",
       "      <td>0.0</td>\n",
       "    </tr>\n",
       "    <tr>\n",
       "      <th>4</th>\n",
       "      <td>0.372581</td>\n",
       "      <td>-0.099681</td>\n",
       "      <td>-0.224807</td>\n",
       "      <td>-0.048093</td>\n",
       "      <td>0.0</td>\n",
       "      <td>0.0</td>\n",
       "      <td>0.0</td>\n",
       "      <td>0.0</td>\n",
       "      <td>-0.099681</td>\n",
       "      <td>0.0</td>\n",
       "      <td>...</td>\n",
       "      <td>0.0</td>\n",
       "      <td>0.0</td>\n",
       "      <td>0.0</td>\n",
       "      <td>0.0</td>\n",
       "      <td>-0.224807</td>\n",
       "      <td>0.0</td>\n",
       "      <td>-0.224807</td>\n",
       "      <td>0.0</td>\n",
       "      <td>-0.048093</td>\n",
       "      <td>0.0</td>\n",
       "    </tr>\n",
       "    <tr>\n",
       "      <th>...</th>\n",
       "      <td>...</td>\n",
       "      <td>...</td>\n",
       "      <td>...</td>\n",
       "      <td>...</td>\n",
       "      <td>...</td>\n",
       "      <td>...</td>\n",
       "      <td>...</td>\n",
       "      <td>...</td>\n",
       "      <td>...</td>\n",
       "      <td>...</td>\n",
       "      <td>...</td>\n",
       "      <td>...</td>\n",
       "      <td>...</td>\n",
       "      <td>...</td>\n",
       "      <td>...</td>\n",
       "      <td>...</td>\n",
       "      <td>...</td>\n",
       "      <td>...</td>\n",
       "      <td>...</td>\n",
       "      <td>...</td>\n",
       "      <td>...</td>\n",
       "    </tr>\n",
       "    <tr>\n",
       "      <th>379</th>\n",
       "      <td>1.278141</td>\n",
       "      <td>-0.306470</td>\n",
       "      <td>-0.771137</td>\n",
       "      <td>-0.200534</td>\n",
       "      <td>0.0</td>\n",
       "      <td>0.0</td>\n",
       "      <td>0.0</td>\n",
       "      <td>0.0</td>\n",
       "      <td>-0.306470</td>\n",
       "      <td>0.0</td>\n",
       "      <td>...</td>\n",
       "      <td>0.0</td>\n",
       "      <td>0.0</td>\n",
       "      <td>0.0</td>\n",
       "      <td>0.0</td>\n",
       "      <td>-0.771137</td>\n",
       "      <td>0.0</td>\n",
       "      <td>-0.771137</td>\n",
       "      <td>0.0</td>\n",
       "      <td>-0.200534</td>\n",
       "      <td>0.0</td>\n",
       "    </tr>\n",
       "    <tr>\n",
       "      <th>380</th>\n",
       "      <td>1.169277</td>\n",
       "      <td>-0.292429</td>\n",
       "      <td>-0.682726</td>\n",
       "      <td>-0.194122</td>\n",
       "      <td>0.0</td>\n",
       "      <td>0.0</td>\n",
       "      <td>0.0</td>\n",
       "      <td>0.0</td>\n",
       "      <td>-0.292429</td>\n",
       "      <td>0.0</td>\n",
       "      <td>...</td>\n",
       "      <td>0.0</td>\n",
       "      <td>0.0</td>\n",
       "      <td>0.0</td>\n",
       "      <td>0.0</td>\n",
       "      <td>-0.682726</td>\n",
       "      <td>0.0</td>\n",
       "      <td>-0.682726</td>\n",
       "      <td>0.0</td>\n",
       "      <td>-0.194122</td>\n",
       "      <td>0.0</td>\n",
       "    </tr>\n",
       "    <tr>\n",
       "      <th>381</th>\n",
       "      <td>1.342877</td>\n",
       "      <td>-0.345535</td>\n",
       "      <td>-0.817562</td>\n",
       "      <td>-0.179780</td>\n",
       "      <td>0.0</td>\n",
       "      <td>0.0</td>\n",
       "      <td>0.0</td>\n",
       "      <td>0.0</td>\n",
       "      <td>-0.345535</td>\n",
       "      <td>0.0</td>\n",
       "      <td>...</td>\n",
       "      <td>0.0</td>\n",
       "      <td>0.0</td>\n",
       "      <td>0.0</td>\n",
       "      <td>0.0</td>\n",
       "      <td>-0.817562</td>\n",
       "      <td>0.0</td>\n",
       "      <td>-0.817562</td>\n",
       "      <td>0.0</td>\n",
       "      <td>-0.179780</td>\n",
       "      <td>0.0</td>\n",
       "    </tr>\n",
       "    <tr>\n",
       "      <th>382</th>\n",
       "      <td>0.388369</td>\n",
       "      <td>-0.080364</td>\n",
       "      <td>-0.246996</td>\n",
       "      <td>-0.061008</td>\n",
       "      <td>0.0</td>\n",
       "      <td>0.0</td>\n",
       "      <td>0.0</td>\n",
       "      <td>0.0</td>\n",
       "      <td>-0.080364</td>\n",
       "      <td>0.0</td>\n",
       "      <td>...</td>\n",
       "      <td>0.0</td>\n",
       "      <td>0.0</td>\n",
       "      <td>0.0</td>\n",
       "      <td>0.0</td>\n",
       "      <td>-0.246996</td>\n",
       "      <td>0.0</td>\n",
       "      <td>-0.246996</td>\n",
       "      <td>0.0</td>\n",
       "      <td>-0.061008</td>\n",
       "      <td>0.0</td>\n",
       "    </tr>\n",
       "    <tr>\n",
       "      <th>383</th>\n",
       "      <td>0.350824</td>\n",
       "      <td>-0.077949</td>\n",
       "      <td>-0.205013</td>\n",
       "      <td>-0.067861</td>\n",
       "      <td>0.0</td>\n",
       "      <td>0.0</td>\n",
       "      <td>0.0</td>\n",
       "      <td>0.0</td>\n",
       "      <td>-0.077949</td>\n",
       "      <td>0.0</td>\n",
       "      <td>...</td>\n",
       "      <td>0.0</td>\n",
       "      <td>0.0</td>\n",
       "      <td>0.0</td>\n",
       "      <td>0.0</td>\n",
       "      <td>-0.205013</td>\n",
       "      <td>0.0</td>\n",
       "      <td>-0.205013</td>\n",
       "      <td>0.0</td>\n",
       "      <td>-0.067861</td>\n",
       "      <td>0.0</td>\n",
       "    </tr>\n",
       "  </tbody>\n",
       "</table>\n",
       "<p>384 rows × 22 columns</p>\n",
       "</div>"
      ],
      "text/plain": [
       "     SET_p_mw  Tornquinst_p_mw  Bell Ville_p_mw  City Bell_p_mw  PV1_p_mw  \\\n",
       "0    0.351345        -0.080218        -0.217112       -0.054015       0.0   \n",
       "1    0.366474        -0.098965        -0.223529       -0.043980       0.0   \n",
       "2    0.288644        -0.068699        -0.164762       -0.055183       0.0   \n",
       "3    0.361808        -0.090402        -0.217962       -0.053444       0.0   \n",
       "4    0.372581        -0.099681        -0.224807       -0.048093       0.0   \n",
       "..        ...              ...              ...             ...       ...   \n",
       "379  1.278141        -0.306470        -0.771137       -0.200534       0.0   \n",
       "380  1.169277        -0.292429        -0.682726       -0.194122       0.0   \n",
       "381  1.342877        -0.345535        -0.817562       -0.179780       0.0   \n",
       "382  0.388369        -0.080364        -0.246996       -0.061008       0.0   \n",
       "383  0.350824        -0.077949        -0.205013       -0.067861       0.0   \n",
       "\n",
       "     WT1_p_mw  ST1_p_mw  ST1_soc_mwh  L 0_1_pf_mw  L 0_1_ep_h  ...  \\\n",
       "0         0.0       0.0          0.0    -0.080218         0.0  ...   \n",
       "1         0.0       0.0          0.0    -0.098965         0.0  ...   \n",
       "2         0.0       0.0          0.0    -0.068699         0.0  ...   \n",
       "3         0.0       0.0          0.0    -0.090402         0.0  ...   \n",
       "4         0.0       0.0          0.0    -0.099681         0.0  ...   \n",
       "..        ...       ...          ...          ...         ...  ...   \n",
       "379       0.0       0.0          0.0    -0.306470         0.0  ...   \n",
       "380       0.0       0.0          0.0    -0.292429         0.0  ...   \n",
       "381       0.0       0.0          0.0    -0.345535         0.0  ...   \n",
       "382       0.0       0.0          0.0    -0.080364         0.0  ...   \n",
       "383       0.0       0.0          0.0    -0.077949         0.0  ...   \n",
       "\n",
       "     L 1_3_pf_mw  L 1_3_ep_h  L 0_4_pf_mw  L 0_4_ep_h  L 0_5_pf_mw  \\\n",
       "0            0.0         0.0          0.0         0.0    -0.217112   \n",
       "1            0.0         0.0          0.0         0.0    -0.223529   \n",
       "2            0.0         0.0          0.0         0.0    -0.164762   \n",
       "3            0.0         0.0          0.0         0.0    -0.217962   \n",
       "4            0.0         0.0          0.0         0.0    -0.224807   \n",
       "..           ...         ...          ...         ...          ...   \n",
       "379          0.0         0.0          0.0         0.0    -0.771137   \n",
       "380          0.0         0.0          0.0         0.0    -0.682726   \n",
       "381          0.0         0.0          0.0         0.0    -0.817562   \n",
       "382          0.0         0.0          0.0         0.0    -0.246996   \n",
       "383          0.0         0.0          0.0         0.0    -0.205013   \n",
       "\n",
       "     L 0_5_ep_h  L 5_6_pf_mw  L 5_6_ep_h  L 0_7_pf_mw  L 0_7_ep_h  \n",
       "0           0.0    -0.217112         0.0    -0.054015         0.0  \n",
       "1           0.0    -0.223529         0.0    -0.043980         0.0  \n",
       "2           0.0    -0.164762         0.0    -0.055183         0.0  \n",
       "3           0.0    -0.217962         0.0    -0.053444         0.0  \n",
       "4           0.0    -0.224807         0.0    -0.048093         0.0  \n",
       "..          ...          ...         ...          ...         ...  \n",
       "379         0.0    -0.771137         0.0    -0.200534         0.0  \n",
       "380         0.0    -0.682726         0.0    -0.194122         0.0  \n",
       "381         0.0    -0.817562         0.0    -0.179780         0.0  \n",
       "382         0.0    -0.246996         0.0    -0.061008         0.0  \n",
       "383         0.0    -0.205013         0.0    -0.067861         0.0  \n",
       "\n",
       "[384 rows x 22 columns]"
      ]
     },
     "execution_count": 71,
     "metadata": {},
     "output_type": "execute_result"
    }
   ],
   "source": [
    "Resultados"
   ]
  },
  {
   "cell_type": "code",
   "execution_count": null,
   "id": "official-sheep",
   "metadata": {},
   "outputs": [],
   "source": []
  },
  {
   "cell_type": "code",
   "execution_count": 72,
   "id": "authorized-april",
   "metadata": {},
   "outputs": [],
   "source": [
    "def plot_results(results, a = 0, b = 240, items = None, elements = False, lines = False, l_ep = False):\n",
    "    # Set the plot curve with markers and a title\n",
    "    if not (elements or lines or l_ep or items):\n",
    "        raise Exception(\"Nothing to plot\")\n",
    "    \n",
    "    fig, ax = plt.subplots(1, 1)\n",
    "\n",
    "    fig.set_size_inches(10,6)\n",
    "    \n",
    "    for col in results:\n",
    "        p = False\n",
    "        if items and col in items:\n",
    "            p = True\n",
    "        elif col[0:2] == 'L ':\n",
    "            if col[-4:] == 'ep_h':\n",
    "                if l_ep:\n",
    "                    p = True\n",
    "            elif lines:\n",
    "                p = True\n",
    "        elif elements:\n",
    "            p = True\n",
    "\n",
    "        if p:\n",
    "            ax.plot(results[col][a:b], label = col)\n",
    "    \n",
    "    ax.set_xlabel('time')\n",
    "    ax.set_ylabel('P[mw]')\n",
    "\n",
    "    ax.legend()\n",
    "\n",
    "    ax.grid(True)\n",
    "\n",
    "\n",
    "    plt.show()\n",
    "    "
   ]
  },
  {
   "cell_type": "code",
   "execution_count": 73,
   "id": "designing-feeling",
   "metadata": {
    "colab": {
     "base_uri": "https://localhost:8080/",
     "height": 388
    },
    "executionInfo": {
     "elapsed": 1336,
     "status": "ok",
     "timestamp": 1619873495814,
     "user": {
      "displayName": "Juan Sardón",
      "photoUrl": "https://lh3.googleusercontent.com/a-/AOh14Gh0hE4Hw8M0I17k-o2PXxLB5i6gNZV_oUTpZlyJ3Q=s64",
      "userId": "08267034058673099115"
     },
     "user_tz": 180
    },
    "id": "planned-memorial",
    "outputId": "11488d44-f6a7-46f5-dd15-9afe980a328c"
   },
   "outputs": [
    {
     "data": {
      "image/png": "[encoded data removed]",
      "text/plain": [
       "<Figure size 720x432 with 1 Axes>"
      ]
     },
     "metadata": {
      "needs_background": "light"
     },
     "output_type": "display_data"
    }
   ],
   "source": [
    "plot_results(Resultados, a = 0, b = 240, elements = True, lines = False, l_ep = False)"
   ]
  },
  {
   "cell_type": "code",
   "execution_count": 74,
   "id": "abstract-blake",
   "metadata": {},
   "outputs": [
    {
     "data": {
      "image/png": "[encoded data removed]",
      "text/plain": [
       "<Figure size 720x432 with 1 Axes>"
      ]
     },
     "metadata": {
      "needs_background": "light"
     },
     "output_type": "display_data"
    }
   ],
   "source": [
    "plot_results(Resultados, a = 0, b = 240, lines = True)"
   ]
  },
  {
   "cell_type": "code",
   "execution_count": 75,
   "id": "seventh-chuck",
   "metadata": {},
   "outputs": [
    {
     "data": {
      "image/png": "[encoded data removed]",
      "text/plain": [
       "<Figure size 720x432 with 1 Axes>"
      ]
     },
     "metadata": {
      "needs_background": "light"
     },
     "output_type": "display_data"
    }
   ],
   "source": [
    "plot_results(Resultados, a = 0, b = 240, l_ep = True)"
   ]
  },
  {
   "cell_type": "code",
   "execution_count": 76,
   "id": "consistent-adjustment",
   "metadata": {},
   "outputs": [
    {
     "data": {
      "image/png": "[encoded data removed]",
      "text/plain": [
       "<Figure size 720x432 with 1 Axes>"
      ]
     },
     "metadata": {
      "needs_background": "light"
     },
     "output_type": "display_data"
    }
   ],
   "source": [
    "plot_results(Resultados, a = 0, b = 240, items = ['PV1_p_mw', 'L 1_3_pf_mw'])"
   ]
  },
  {
   "cell_type": "code",
   "execution_count": 77,
   "id": "mental-northwest",
   "metadata": {},
   "outputs": [
    {
     "name": "stdout",
     "output_type": "stream",
     "text": [
      "Line: L 0_1 - TEPH: 0.0\n",
      "Line: L 1_2 - TEPH: 0.0\n",
      "Line: L 1_3 - TEPH: 6478.75\n",
      "Line: L 0_4 - TEPH: 0.0\n",
      "Line: L 0_5 - TEPH: 0.0\n",
      "Line: L 5_6 - TEPH: 0.0\n",
      "Line: L 0_7 - TEPH: 0.0\n"
     ]
    }
   ],
   "source": [
    "for l in range(len(net.line)):\n",
    "    print(\"Line: {0} - TEPH: {1}\".format(net.line.model[l].name, net.line.model[l].get_tep_h()))"
   ]
  },
  {
   "cell_type": "code",
   "execution_count": 369,
   "id": "sealed-deficit",
   "metadata": {},
   "outputs": [
    {
     "data": {
      "text/plain": [
       "0.0"
      ]
     },
     "execution_count": 369,
     "metadata": {},
     "output_type": "execute_result"
    }
   ],
   "source": [
    "net.line['model'][0].get_tep_h()"
   ]
  },
  {
   "cell_type": "code",
   "execution_count": null,
   "id": "naval-joining",
   "metadata": {},
   "outputs": [],
   "source": [
    "net.line['model'][2].name"
   ]
  },
  {
   "cell_type": "code",
   "execution_count": null,
   "id": "guilty-director",
   "metadata": {},
   "outputs": [],
   "source": [
    "net.line['model'][2].pr_mw"
   ]
  },
  {
   "cell_type": "code",
   "execution_count": null,
   "id": "persistent-peoples",
   "metadata": {},
   "outputs": [],
   "source": [
    "net.line['model'][4].name"
   ]
  },
  {
   "cell_type": "code",
   "execution_count": null,
   "id": "honey-saskatchewan",
   "metadata": {},
   "outputs": [],
   "source": [
    "net.line['model'][4].pr_mw"
   ]
  },
  {
   "cell_type": "code",
   "execution_count": null,
   "id": "headed-deposit",
   "metadata": {},
   "outputs": [],
   "source": []
  }
 ],
 "metadata": {
  "colab": {
   "name": "Prueba PP-Pyomo-4.ipynb",
   "provenance": []
  },
  "kernelspec": {
   "display_name": "Python 3",
   "language": "python",
   "name": "python3"
  },
  "language_info": {
   "codemirror_mode": {
    "name": "ipython",
    "version": 3
   },
   "file_extension": ".py",
   "mimetype": "text/x-python",
   "name": "python",
   "nbconvert_exporter": "python",
   "pygments_lexer": "ipython3",
   "version": "3.8.8"
  }
 },
 "nbformat": 4,
 "nbformat_minor": 5
}
