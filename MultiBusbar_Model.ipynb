{
 "cells": [
  {
   "cell_type": "markdown",
   "id": "lovely-progressive",
   "metadata": {
    "id": "addressed-terrorism"
   },
   "source": [
    "## Prueba de modelos ##\n",
    "\n",
    "### Version 4: Modelo con 2 DER, planificación anual, granularidad horaria ###\n",
    "\n",
    "Si el modelo tiene que optimizar el balance por horas, tiene 8640 VD, pero sigue teniendo 2 VD binarias"
   ]
  },
  {
   "cell_type": "code",
   "execution_count": 1,
   "id": "generous-implement",
   "metadata": {},
   "outputs": [],
   "source": [
    "%load_ext autoreload"
   ]
  },
  {
   "cell_type": "code",
   "execution_count": 2,
   "id": "demanding-election",
   "metadata": {},
   "outputs": [],
   "source": [
    "%autoreload 2"
   ]
  },
  {
   "cell_type": "code",
   "execution_count": 3,
   "id": "killing-blackjack",
   "metadata": {
    "executionInfo": {
     "elapsed": 5552,
     "status": "ok",
     "timestamp": 1620005659685,
     "user": {
      "displayName": "Juan Sardón",
      "photoUrl": "https://lh3.googleusercontent.com/a-/AOh14Gh0hE4Hw8M0I17k-o2PXxLB5i6gNZV_oUTpZlyJ3Q=s64",
      "userId": "08267034058673099115"
     },
     "user_tz": 180
    },
    "id": "aboriginal-joshua"
   },
   "outputs": [],
   "source": [
    "import pandapower as pp"
   ]
  },
  {
   "cell_type": "code",
   "execution_count": 4,
   "id": "religious-saying",
   "metadata": {
    "executionInfo": {
     "elapsed": 4248,
     "status": "ok",
     "timestamp": 1620005659688,
     "user": {
      "displayName": "Juan Sardón",
      "photoUrl": "https://lh3.googleusercontent.com/a-/AOh14Gh0hE4Hw8M0I17k-o2PXxLB5i6gNZV_oUTpZlyJ3Q=s64",
      "userId": "08267034058673099115"
     },
     "user_tz": 180
    },
    "id": "collectible-innocent"
   },
   "outputs": [],
   "source": [
    "import pyomo.environ as pe"
   ]
  },
  {
   "cell_type": "code",
   "execution_count": 5,
   "id": "acting-accused",
   "metadata": {
    "executionInfo": {
     "elapsed": 3074,
     "status": "ok",
     "timestamp": 1620005659693,
     "user": {
      "displayName": "Juan Sardón",
      "photoUrl": "https://lh3.googleusercontent.com/a-/AOh14Gh0hE4Hw8M0I17k-o2PXxLB5i6gNZV_oUTpZlyJ3Q=s64",
      "userId": "08267034058673099115"
     },
     "user_tz": 180
    },
    "id": "united-bronze"
   },
   "outputs": [],
   "source": [
    "import matplotlib.pyplot as plt"
   ]
  },
  {
   "cell_type": "code",
   "execution_count": 6,
   "id": "imported-costs",
   "metadata": {},
   "outputs": [],
   "source": [
    "import ModelWriters as mw"
   ]
  },
  {
   "cell_type": "code",
   "execution_count": 7,
   "id": "early-extent",
   "metadata": {},
   "outputs": [],
   "source": [
    "import ModelWriters.Scenes as Scenes"
   ]
  },
  {
   "cell_type": "code",
   "execution_count": 8,
   "id": "exterior-morris",
   "metadata": {},
   "outputs": [],
   "source": [
    "import ModelWriters.Resources as Resources"
   ]
  },
  {
   "cell_type": "code",
   "execution_count": 125,
   "id": "timely-jerusalem",
   "metadata": {
    "colab": {
     "base_uri": "https://localhost:8080/"
    },
    "executionInfo": {
     "elapsed": 2223,
     "status": "ok",
     "timestamp": 1620005659694,
     "user": {
      "displayName": "Juan Sardón",
      "photoUrl": "https://lh3.googleusercontent.com/a-/AOh14Gh0hE4Hw8M0I17k-o2PXxLB5i6gNZV_oUTpZlyJ3Q=s64",
      "userId": "08267034058673099115"
     },
     "user_tz": 180
    },
    "id": "corrected-friendly",
    "outputId": "bdf4d701-1857-4ce0-be28-267a95d8d74a"
   },
   "outputs": [
    {
     "data": {
      "text/plain": [
       "2"
      ]
     },
     "execution_count": 125,
     "metadata": {},
     "output_type": "execute_result"
    }
   ],
   "source": [
    "net = pp.create_empty_network() \n",
    "b0 = pp.create_bus(net, vn_kv=13.2)\n",
    "\n",
    "pp.create_ext_grid(net, bus=b0)\n",
    "\n",
    "#ramal 1\n",
    "b11 = pp.create_bus(net, vn_kv=13.2)\n",
    "b12 = pp.create_bus(net, vn_kv=13.2)\n",
    "\n",
    "pp.create_line(net, from_bus=b0, to_bus=b11, length_km=0.8, std_type=\"NAYY 4x50 SE\")\n",
    "pp.create_line(net, from_bus=b11, to_bus=b12, length_km=2.1, std_type=\"NAYY 4x50 SE\")\n",
    "\n",
    "pp.create_sgen(net, b11, p_mw=0.075, q_mvar=0.025, max_p_mw=0.15, max_q_mvar=0.15)\n",
    "pp.create_load(net, bus=b12, p_mw=0.350)\n",
    "\n",
    "#ramal 2\n",
    "b21 = pp.create_bus(net, vn_kv=13.2)\n",
    "pp.create_line(net, from_bus=b0, to_bus=b21, length_km=5.0, std_type=\"NAYY 4x50 SE\")\n",
    "pp.create_sgen(net, b21, p_mw=0.15, q_mvar=0.00, max_p_mw=0.40, max_q_mvar=0.10)\n",
    "pp.create_storage(net, bus=b21, p_mw=0.25, q_mvar=0.1, max_e_mwh = 3.0)\n",
    "\n",
    "#ramal 3\n",
    "b31 = pp.create_bus(net, vn_kv=13.2)\n",
    "b32 = pp.create_bus(net, vn_kv=13.2)\n",
    "pp.create_line(net, from_bus=b0, to_bus=b31, length_km=0.5, std_type=\"NAYY 4x50 SE\")\n",
    "pp.create_line(net, from_bus=b31, to_bus=b32, length_km=1.5, std_type=\"NAYY 4x50 SE\")\n",
    "pp.create_sgen(net, b31, p_mw=0.08, q_mvar=0.00, max_p_mw=0.30, max_q_mvar=0.10)\n",
    "pp.create_load(net, bus=b32, p_mw=0.85, q_mvar=0.33)\n",
    "\n",
    "\n",
    "#ramal 4\n",
    "b41 = pp.create_bus(net, vn_kv=13.2)\n",
    "pp.create_line(net, from_bus=b0, to_bus=b41, length_km=0.5, std_type=\"NAYY 4x50 SE\")\n",
    "pp.create_load(net, bus=b41, p_mw=0.22, q_mvar=0.05)\n",
    "#pp.create_storage(net, bus=b41, p_mw=0.5, q_mvar=0.1, max_e_mwh = 5.0)\n",
    "\n"
   ]
  },
  {
   "cell_type": "code",
   "execution_count": 114,
   "id": "steady-mount",
   "metadata": {},
   "outputs": [
    {
     "data": {
      "text/html": [
       "<div>\n",
       "<style scoped>\n",
       "    .dataframe tbody tr th:only-of-type {\n",
       "        vertical-align: middle;\n",
       "    }\n",
       "\n",
       "    .dataframe tbody tr th {\n",
       "        vertical-align: top;\n",
       "    }\n",
       "\n",
       "    .dataframe thead th {\n",
       "        text-align: right;\n",
       "    }\n",
       "</style>\n",
       "<table border=\"1\" class=\"dataframe\">\n",
       "  <thead>\n",
       "    <tr style=\"text-align: right;\">\n",
       "      <th></th>\n",
       "      <th>name</th>\n",
       "      <th>bus</th>\n",
       "      <th>p_mw</th>\n",
       "      <th>q_mvar</th>\n",
       "      <th>sn_mva</th>\n",
       "      <th>scaling</th>\n",
       "      <th>in_service</th>\n",
       "      <th>type</th>\n",
       "      <th>current_source</th>\n",
       "      <th>max_p_mw</th>\n",
       "      <th>max_q_mvar</th>\n",
       "    </tr>\n",
       "  </thead>\n",
       "  <tbody>\n",
       "    <tr>\n",
       "      <th>0</th>\n",
       "      <td>None</td>\n",
       "      <td>1</td>\n",
       "      <td>0.075</td>\n",
       "      <td>0.025</td>\n",
       "      <td>NaN</td>\n",
       "      <td>1.0</td>\n",
       "      <td>True</td>\n",
       "      <td>wye</td>\n",
       "      <td>True</td>\n",
       "      <td>0.15</td>\n",
       "      <td>0.15</td>\n",
       "    </tr>\n",
       "    <tr>\n",
       "      <th>1</th>\n",
       "      <td>None</td>\n",
       "      <td>3</td>\n",
       "      <td>0.150</td>\n",
       "      <td>0.000</td>\n",
       "      <td>NaN</td>\n",
       "      <td>1.0</td>\n",
       "      <td>True</td>\n",
       "      <td>wye</td>\n",
       "      <td>True</td>\n",
       "      <td>0.40</td>\n",
       "      <td>0.10</td>\n",
       "    </tr>\n",
       "    <tr>\n",
       "      <th>2</th>\n",
       "      <td>None</td>\n",
       "      <td>4</td>\n",
       "      <td>0.080</td>\n",
       "      <td>0.000</td>\n",
       "      <td>NaN</td>\n",
       "      <td>1.0</td>\n",
       "      <td>True</td>\n",
       "      <td>wye</td>\n",
       "      <td>True</td>\n",
       "      <td>0.30</td>\n",
       "      <td>0.10</td>\n",
       "    </tr>\n",
       "  </tbody>\n",
       "</table>\n",
       "</div>"
      ],
      "text/plain": [
       "   name  bus   p_mw  q_mvar  sn_mva  scaling  in_service type  current_source  \\\n",
       "0  None    1  0.075   0.025     NaN      1.0        True  wye            True   \n",
       "1  None    3  0.150   0.000     NaN      1.0        True  wye            True   \n",
       "2  None    4  0.080   0.000     NaN      1.0        True  wye            True   \n",
       "\n",
       "   max_p_mw  max_q_mvar  \n",
       "0      0.15        0.15  \n",
       "1      0.40        0.10  \n",
       "2      0.30        0.10  "
      ]
     },
     "execution_count": 114,
     "metadata": {},
     "output_type": "execute_result"
    }
   ],
   "source": [
    "net.sgen"
   ]
  },
  {
   "cell_type": "code",
   "execution_count": 115,
   "id": "accessible-arbor",
   "metadata": {
    "executionInfo": {
     "elapsed": 2125,
     "status": "ok",
     "timestamp": 1620005662287,
     "user": {
      "displayName": "Juan Sardón",
      "photoUrl": "https://lh3.googleusercontent.com/a-/AOh14Gh0hE4Hw8M0I17k-o2PXxLB5i6gNZV_oUTpZlyJ3Q=s64",
      "userId": "08267034058673099115"
     },
     "user_tz": 180
    },
    "id": "junior-abraham"
   },
   "outputs": [],
   "source": [
    " pp.runpp(net)"
   ]
  },
  {
   "cell_type": "code",
   "execution_count": null,
   "id": "korean-track",
   "metadata": {
    "colab": {
     "base_uri": "https://localhost:8080/"
    },
    "executionInfo": {
     "elapsed": 1619,
     "status": "ok",
     "timestamp": 1620005663021,
     "user": {
      "displayName": "Juan Sardón",
      "photoUrl": "https://lh3.googleusercontent.com/a-/AOh14Gh0hE4Hw8M0I17k-o2PXxLB5i6gNZV_oUTpZlyJ3Q=s64",
      "userId": "08267034058673099115"
     },
     "user_tz": 180
    },
    "id": "biological-emergency",
    "outputId": "ff9a4063-32b3-467c-c916-afc6f5140231"
   },
   "outputs": [],
   "source": [
    "print(net.res_bus.vm_pu)\n",
    "print(net.res_line)"
   ]
  },
  {
   "cell_type": "code",
   "execution_count": null,
   "id": "alpha-detector",
   "metadata": {
    "colab": {
     "base_uri": "https://localhost:8080/"
    },
    "executionInfo": {
     "elapsed": 885,
     "status": "ok",
     "timestamp": 1620005663021,
     "user": {
      "displayName": "Juan Sardón",
      "photoUrl": "https://lh3.googleusercontent.com/a-/AOh14Gh0hE4Hw8M0I17k-o2PXxLB5i6gNZV_oUTpZlyJ3Q=s64",
      "userId": "08267034058673099115"
     },
     "user_tz": 180
    },
    "id": "norwegian-dover",
    "outputId": "f1a78284-1d03-4323-8253-e779b726a433"
   },
   "outputs": [],
   "source": [
    "print(net)"
   ]
  },
  {
   "cell_type": "markdown",
   "id": "velvet-monroe",
   "metadata": {
    "id": "pTK9BGaY4BEu"
   },
   "source": [
    "## Construcción de Escenarios"
   ]
  },
  {
   "cell_type": "code",
   "execution_count": 116,
   "id": "norman-explosion",
   "metadata": {},
   "outputs": [
    {
     "data": {
      "text/html": [
       "<div>\n",
       "<style scoped>\n",
       "    .dataframe tbody tr th:only-of-type {\n",
       "        vertical-align: middle;\n",
       "    }\n",
       "\n",
       "    .dataframe tbody tr th {\n",
       "        vertical-align: top;\n",
       "    }\n",
       "\n",
       "    .dataframe thead th {\n",
       "        text-align: right;\n",
       "    }\n",
       "</style>\n",
       "<table border=\"1\" class=\"dataframe\">\n",
       "  <thead>\n",
       "    <tr style=\"text-align: right;\">\n",
       "      <th></th>\n",
       "      <th>year</th>\n",
       "      <th>day</th>\n",
       "      <th>dd</th>\n",
       "      <th>hour</th>\n",
       "      <th>dt</th>\n",
       "      <th>growth</th>\n",
       "      <th>discount</th>\n",
       "      <th>solar_irradiance</th>\n",
       "      <th>wind_speed</th>\n",
       "    </tr>\n",
       "  </thead>\n",
       "  <tbody>\n",
       "    <tr>\n",
       "      <th>0</th>\n",
       "      <td>0.0</td>\n",
       "      <td>0.0</td>\n",
       "      <td>30.416667</td>\n",
       "      <td>0.0</td>\n",
       "      <td>1.0</td>\n",
       "      <td>1.00000</td>\n",
       "      <td>1.000000</td>\n",
       "      <td>0.0</td>\n",
       "      <td>1.427512</td>\n",
       "    </tr>\n",
       "    <tr>\n",
       "      <th>1</th>\n",
       "      <td>0.0</td>\n",
       "      <td>0.0</td>\n",
       "      <td>30.416667</td>\n",
       "      <td>1.0</td>\n",
       "      <td>1.0</td>\n",
       "      <td>1.00000</td>\n",
       "      <td>1.000000</td>\n",
       "      <td>0.0</td>\n",
       "      <td>2.868278</td>\n",
       "    </tr>\n",
       "    <tr>\n",
       "      <th>2</th>\n",
       "      <td>0.0</td>\n",
       "      <td>0.0</td>\n",
       "      <td>30.416667</td>\n",
       "      <td>2.0</td>\n",
       "      <td>1.0</td>\n",
       "      <td>1.00000</td>\n",
       "      <td>1.000000</td>\n",
       "      <td>0.0</td>\n",
       "      <td>2.842204</td>\n",
       "    </tr>\n",
       "    <tr>\n",
       "      <th>3</th>\n",
       "      <td>0.0</td>\n",
       "      <td>0.0</td>\n",
       "      <td>30.416667</td>\n",
       "      <td>3.0</td>\n",
       "      <td>1.0</td>\n",
       "      <td>1.00000</td>\n",
       "      <td>1.000000</td>\n",
       "      <td>0.0</td>\n",
       "      <td>3.246452</td>\n",
       "    </tr>\n",
       "    <tr>\n",
       "      <th>4</th>\n",
       "      <td>0.0</td>\n",
       "      <td>0.0</td>\n",
       "      <td>30.416667</td>\n",
       "      <td>4.0</td>\n",
       "      <td>1.0</td>\n",
       "      <td>1.00000</td>\n",
       "      <td>1.000000</td>\n",
       "      <td>0.0</td>\n",
       "      <td>3.728415</td>\n",
       "    </tr>\n",
       "    <tr>\n",
       "      <th>...</th>\n",
       "      <td>...</td>\n",
       "      <td>...</td>\n",
       "      <td>...</td>\n",
       "      <td>...</td>\n",
       "      <td>...</td>\n",
       "      <td>...</td>\n",
       "      <td>...</td>\n",
       "      <td>...</td>\n",
       "      <td>...</td>\n",
       "    </tr>\n",
       "    <tr>\n",
       "      <th>5755</th>\n",
       "      <td>19.0</td>\n",
       "      <td>330.0</td>\n",
       "      <td>30.416667</td>\n",
       "      <td>19.0</td>\n",
       "      <td>1.0</td>\n",
       "      <td>1.59865</td>\n",
       "      <td>0.570286</td>\n",
       "      <td>0.0</td>\n",
       "      <td>11.709704</td>\n",
       "    </tr>\n",
       "    <tr>\n",
       "      <th>5756</th>\n",
       "      <td>19.0</td>\n",
       "      <td>330.0</td>\n",
       "      <td>30.416667</td>\n",
       "      <td>20.0</td>\n",
       "      <td>1.0</td>\n",
       "      <td>1.59865</td>\n",
       "      <td>0.570286</td>\n",
       "      <td>0.0</td>\n",
       "      <td>10.357286</td>\n",
       "    </tr>\n",
       "    <tr>\n",
       "      <th>5757</th>\n",
       "      <td>19.0</td>\n",
       "      <td>330.0</td>\n",
       "      <td>30.416667</td>\n",
       "      <td>21.0</td>\n",
       "      <td>1.0</td>\n",
       "      <td>1.59865</td>\n",
       "      <td>0.570286</td>\n",
       "      <td>0.0</td>\n",
       "      <td>10.430824</td>\n",
       "    </tr>\n",
       "    <tr>\n",
       "      <th>5758</th>\n",
       "      <td>19.0</td>\n",
       "      <td>330.0</td>\n",
       "      <td>30.416667</td>\n",
       "      <td>22.0</td>\n",
       "      <td>1.0</td>\n",
       "      <td>1.59865</td>\n",
       "      <td>0.570286</td>\n",
       "      <td>0.0</td>\n",
       "      <td>11.489138</td>\n",
       "    </tr>\n",
       "    <tr>\n",
       "      <th>5759</th>\n",
       "      <td>19.0</td>\n",
       "      <td>330.0</td>\n",
       "      <td>30.416667</td>\n",
       "      <td>23.0</td>\n",
       "      <td>1.0</td>\n",
       "      <td>1.59865</td>\n",
       "      <td>0.570286</td>\n",
       "      <td>0.0</td>\n",
       "      <td>10.930011</td>\n",
       "    </tr>\n",
       "  </tbody>\n",
       "</table>\n",
       "<p>5760 rows × 9 columns</p>\n",
       "</div>"
      ],
      "text/plain": [
       "      year    day         dd  hour   dt   growth  discount  solar_irradiance  \\\n",
       "0      0.0    0.0  30.416667   0.0  1.0  1.00000  1.000000               0.0   \n",
       "1      0.0    0.0  30.416667   1.0  1.0  1.00000  1.000000               0.0   \n",
       "2      0.0    0.0  30.416667   2.0  1.0  1.00000  1.000000               0.0   \n",
       "3      0.0    0.0  30.416667   3.0  1.0  1.00000  1.000000               0.0   \n",
       "4      0.0    0.0  30.416667   4.0  1.0  1.00000  1.000000               0.0   \n",
       "...    ...    ...        ...   ...  ...      ...       ...               ...   \n",
       "5755  19.0  330.0  30.416667  19.0  1.0  1.59865  0.570286               0.0   \n",
       "5756  19.0  330.0  30.416667  20.0  1.0  1.59865  0.570286               0.0   \n",
       "5757  19.0  330.0  30.416667  21.0  1.0  1.59865  0.570286               0.0   \n",
       "5758  19.0  330.0  30.416667  22.0  1.0  1.59865  0.570286               0.0   \n",
       "5759  19.0  330.0  30.416667  23.0  1.0  1.59865  0.570286               0.0   \n",
       "\n",
       "      wind_speed  \n",
       "0       1.427512  \n",
       "1       2.868278  \n",
       "2       2.842204  \n",
       "3       3.246452  \n",
       "4       3.728415  \n",
       "...          ...  \n",
       "5755   11.709704  \n",
       "5756   10.357286  \n",
       "5757   10.430824  \n",
       "5758   11.489138  \n",
       "5759   10.930011  \n",
       "\n",
       "[5760 rows x 9 columns]"
      ]
     },
     "execution_count": 116,
     "metadata": {},
     "output_type": "execute_result"
    }
   ],
   "source": [
    "#s = Scenes.SceneBuilder(years = 4, subperiods = 1, days_in_subperiods = 1, dt=24, growth_rate = 0.025, discount_rate = 0.05)\n",
    "#s = Scenes.SceneBuilder(years = 4, subperiods = 1, days_in_subperiods = 1, dt=12, growth_rate = 0.025, discount_rate = 0.05)\n",
    "#s = Scenes.SceneBuilder(years = 20, subperiods = 12, days_in_subperiods = 1, growth_rate = 0.025, discount_rate = 0.03)\n",
    "s = Scenes.SceneBuilder(years = 20, subperiods = 12, days_in_subperiods = 1, growth_rate = 0.025, discount_rate = 0.03)\n",
    "scenes = s.build_scenes()\n",
    "scenes"
   ]
  },
  {
   "cell_type": "markdown",
   "id": "recovered-scenario",
   "metadata": {
    "id": "DrtD-E834lhY"
   },
   "source": [
    "## Model Construction"
   ]
  },
  {
   "cell_type": "markdown",
   "id": "given-delta",
   "metadata": {
    "id": "spiritual-luxembourg"
   },
   "source": [
    "Construccion automatica del modelo\n",
    "Es un modelo de dimensionamiento de 3 DERs (WT+PV)"
   ]
  },
  {
   "cell_type": "code",
   "execution_count": 166,
   "id": "parental-marshall",
   "metadata": {},
   "outputs": [],
   "source": [
    "model_writer = mw.MultiBusbarModelWriter(net, scenes, soft_limit_coefficient = 2.0)"
   ]
  },
  {
   "cell_type": "code",
   "execution_count": 167,
   "id": "congressional-association",
   "metadata": {},
   "outputs": [],
   "source": [
    "net.ext_grid['model'][0] = Resources.ExtGrid('SET', pr_mw = 5.0, peak_value=200, valley_value=120, rest_value=160)\n",
    "#net.ext_grid['model'][0] = Resources.ExtGrid('SET', pr_mw = 5.0, peak_value=2000, valley_value=1500, rest_value=1000)"
   ]
  },
  {
   "cell_type": "code",
   "execution_count": 168,
   "id": "hydraulic-arbitration",
   "metadata": {},
   "outputs": [],
   "source": [
    "net.load['model'][0] = Resources.Load('Tornquinst', pr_mw = 0.35)\n",
    "net.load['model'][1] = Resources.Load('Bell Ville', pr_mw = 0.85)\n",
    "net.load['model'][2] = Resources.Load('City Bell', pr_mw = 0.22)"
   ]
  },
  {
   "cell_type": "code",
   "execution_count": 169,
   "id": "productive-dietary",
   "metadata": {},
   "outputs": [],
   "source": [
    "net.sgen['model'][0] = Resources.PVGenerator('PV1', ic_0_mu = 0.0, ic_1_mu = 1.02e6, oc_0_mu = 1.02, oc_1_mu = 0.0)\n",
    "net.sgen['model'][1] = Resources.WTGeneratorDiscrete('WT1', unit_size_mw = 0.19, unit_cost_mu = 541e3, oc_0_mu = 0.00, oc_1_mu = 1.70)\n",
    "net.sgen['model'][2] = Resources.PVGeneratorDiscrete('PV2', unit_size_mw = 0.05, unit_cost_mu = 51e3, oc_0_mu = 0.03, oc_1_mu = 0.0)"
   ]
  },
  {
   "cell_type": "code",
   "execution_count": 170,
   "id": "developed-yeast",
   "metadata": {},
   "outputs": [],
   "source": [
    "net.storage['model'][0] = Resources.Storage('ST1', ic_1_mu = 554e3, ic_1_mu_cap = 330e3, oc_1_mu = 2.28*4, eta_bb = 0.8, sigma = 2.1e-3)"
   ]
  },
  {
   "cell_type": "markdown",
   "id": "statistical-rachel",
   "metadata": {},
   "source": [
    "## Resolution"
   ]
  },
  {
   "cell_type": "code",
   "execution_count": 171,
   "id": "lyric-pound",
   "metadata": {},
   "outputs": [],
   "source": [
    "model = model_writer.create_model()"
   ]
  },
  {
   "cell_type": "code",
   "execution_count": 172,
   "id": "framed-fisher",
   "metadata": {},
   "outputs": [],
   "source": [
    "#model.pprint()"
   ]
  },
  {
   "cell_type": "code",
   "execution_count": 173,
   "id": "increasing-porter",
   "metadata": {},
   "outputs": [
    {
     "name": "stdout",
     "output_type": "stream",
     "text": [
      "\n",
      "Welcome to IBM(R) ILOG(R) CPLEX(R) Interactive Optimizer 20.1.0.0\n",
      "  with Simplex, Mixed Integer & Barrier Optimizers\n",
      "5725-A06 5725-A29 5724-Y48 5724-Y49 5724-Y54 5724-Y55 5655-Y21\n",
      "Copyright IBM Corp. 1988, 2020.  All Rights Reserved.\n",
      "\n",
      "Type 'help' for a list of available commands.\n",
      "Type 'help' followed by a command name for more\n",
      "information on commands.\n",
      "\n",
      "CPLEX> Logfile 'cplex.log' closed.\n",
      "Logfile 'C:\\Users\\jmsar\\AppData\\Local\\Temp\\tmpakio6pnm.cplex.log' open.\n",
      "CPLEX> Problem 'C:\\Users\\jmsar\\AppData\\Local\\Temp\\tmppj6o250z.pyomo.lp' read.\n",
      "Read time = 1.47 sec. (39.26 ticks)\n",
      "CPLEX> Problem name         : C:\\Users\\jmsar\\AppData\\Local\\Temp\\tmppj6o250z.pyomo.lp\n",
      "Objective sense      : Minimize\n",
      "Variables            :  311052  [Nneg: 195846,  Box: 40320,  Free: 5760,\n",
      "                                 Binary: 69124,  General Integer: 2]\n",
      "Objective nonzeros   :   51846\n",
      "Linear constraints   :  328328  [Less: 178565,  Equal: 149763]\n",
      "  Nonzeros           :  777575\n",
      "  RHS nonzeros       :  155521\n",
      "\n",
      "Variables            : Min LB: -2.811600        Max UB: 5.000000       \n",
      "Objective nonzeros   : Min   : 29.48854         Max   : 1020000.       \n",
      "Linear constraints   :\n",
      "  Nonzeros           : Min   : 1.352527e-05     Max   : 1000.000       \n",
      "  RHS nonzeros       : Min   : 0.02608233       Max   : 1000.000       \n",
      "CPLEX> Version identifier: 20.1.0.0 | 2020-11-10 | 9bedb6d68\n",
      "Tried aggregator 2 times.\n",
      "MIP Presolve eliminated 261805 rows and 238348 columns.\n",
      "MIP Presolve added 23450 rows and 0 columns.\n",
      "MIP Presolve modified 16469 coefficients.\n",
      "Aggregator did 5961 substitutions.\n",
      "Reduced MIP has 84012 rows, 66743 columns, and 196989 nonzeros.\n",
      "Reduced MIP has 11725 binaries, 2 generals, 0 SOSs, and 0 indicators.\n",
      "Presolve time = 1.50 sec. (463.15 ticks)\n",
      "Found incumbent of value 1.4889666e+09 after 3.53 sec. (1914.44 ticks)\n",
      "Probing fixed 0 vars, tightened 23451 bounds.\n",
      "Probing time = 7.06 sec. (1399.52 ticks)\n",
      "Tried aggregator 2 times.\n",
      "MIP Presolve eliminated 3 rows and 3 columns.\n",
      "MIP Presolve modified 35175 coefficients.\n",
      "Aggregator did 11041 substitutions.\n",
      "Reduced MIP has 72968 rows, 55699 columns, and 183395 nonzeros.\n",
      "Reduced MIP has 11724 binaries, 2 generals, 0 SOSs, and 0 indicators.\n",
      "Presolve time = 1.28 sec. (130.07 ticks)\n",
      "Probing time = 0.80 sec. (46.14 ticks)\n",
      "Tried aggregator 1 time.\n",
      "Detecting symmetries...\n",
      "Reduced MIP has 72968 rows, 55699 columns, and 183395 nonzeros.\n",
      "Reduced MIP has 11724 binaries, 2 generals, 0 SOSs, and 0 indicators.\n",
      "Presolve time = 0.53 sec. (103.23 ticks)\n",
      "Probing time = 0.95 sec. (43.33 ticks)\n",
      "Clique table members: 224.\n",
      "MIP emphasis: balance optimality and feasibility.\n",
      "MIP search method: dynamic search.\n",
      "Parallel mode: deterministic, using up to 4 threads.\n",
      "Root relaxation solution time = 19.52 sec. (9033.58 ticks)\n",
      "\n",
      "        Nodes                                         Cuts/\n",
      "   Node  Left     Objective  IInf  Best Integer    Best Bound    ItCnt     Gap\n",
      "\n",
      "*     0+    0                       1.48896e+09  -5.32130e+07           103.57%\n",
      "*     0+    0                       1.75618e+07  -5.32130e+07           403.00%\n",
      "      0     0   1.10705e+07     1   1.75618e+07   1.10705e+07       44   36.96%\n",
      "*     0+    0                       1.11068e+07   1.10705e+07             0.33%\n",
      "*     0+    0                       1.10705e+07   1.10705e+07             0.00%\n",
      "\n",
      "Root node processing (before b&c):\n",
      "  Real time             =   38.47 sec. (13040.27 ticks)\n",
      "Parallel b&c, 4 threads:\n",
      "  Real time             =    0.00 sec. (0.00 ticks)\n",
      "  Sync time (average)   =    0.00 sec.\n",
      "  Wait time (average)   =    0.00 sec.\n",
      "                          ------------\n",
      "Total (root+branch&cut) =   38.47 sec. (13040.27 ticks)\n",
      "\n",
      "Solution pool: 5 solutions saved.\n",
      "\n",
      "MIP - Integer optimal, tolerance (0.0001/1e-06):  Objective =  1.1070454218e+07\n",
      "Current MIP best bound =  1.1070454189e+07 (gap = 0.02833, 0.00%)\n",
      "Solution time =   38.83 sec.  Iterations = 44  Nodes = 0 (1)\n",
      "Deterministic time = 13041.16 ticks  (335.87 ticks/sec)\n",
      "\n",
      "CPLEX> Incumbent solution written to file 'C:\\Users\\jmsar\\AppData\\Local\\Temp\\tmpfb0rt8aq.cplex.sol'.\n",
      "CPLEX> "
     ]
    }
   ],
   "source": [
    "#solver_manager = pe.SolverManagerFactory('neos')\n",
    "#result_obj = solver_manager.solve(model.model, opt='cplex')\n",
    "\n",
    "opt = pe.SolverFactory('cplex')\n",
    "#opt = pe.SolverFactory('glpk')\n",
    "result_obj= opt.solve(model, tee=True)"
   ]
  },
  {
   "cell_type": "code",
   "execution_count": 134,
   "id": "typical-guest",
   "metadata": {},
   "outputs": [],
   "source": [
    "model_writer.backconfigure_network()"
   ]
  },
  {
   "cell_type": "code",
   "execution_count": 135,
   "id": "informed-holly",
   "metadata": {},
   "outputs": [
    {
     "data": {
      "text/html": [
       "<div>\n",
       "<style scoped>\n",
       "    .dataframe tbody tr th:only-of-type {\n",
       "        vertical-align: middle;\n",
       "    }\n",
       "\n",
       "    .dataframe tbody tr th {\n",
       "        vertical-align: top;\n",
       "    }\n",
       "\n",
       "    .dataframe thead th {\n",
       "        text-align: right;\n",
       "    }\n",
       "</style>\n",
       "<table border=\"1\" class=\"dataframe\">\n",
       "  <thead>\n",
       "    <tr style=\"text-align: right;\">\n",
       "      <th></th>\n",
       "      <th>name</th>\n",
       "      <th>bus</th>\n",
       "      <th>p_mw</th>\n",
       "      <th>q_mvar</th>\n",
       "      <th>sn_mva</th>\n",
       "      <th>scaling</th>\n",
       "      <th>in_service</th>\n",
       "      <th>type</th>\n",
       "      <th>current_source</th>\n",
       "      <th>max_p_mw</th>\n",
       "      <th>max_q_mvar</th>\n",
       "      <th>model</th>\n",
       "    </tr>\n",
       "  </thead>\n",
       "  <tbody>\n",
       "    <tr>\n",
       "      <th>0</th>\n",
       "      <td>None</td>\n",
       "      <td>1</td>\n",
       "      <td>0.075</td>\n",
       "      <td>0.025</td>\n",
       "      <td>NaN</td>\n",
       "      <td>1.0</td>\n",
       "      <td>True</td>\n",
       "      <td>wye</td>\n",
       "      <td>True</td>\n",
       "      <td>0.54922</td>\n",
       "      <td>0.27461</td>\n",
       "      <td>Resource: PV1</td>\n",
       "    </tr>\n",
       "    <tr>\n",
       "      <th>1</th>\n",
       "      <td>None</td>\n",
       "      <td>3</td>\n",
       "      <td>0.150</td>\n",
       "      <td>0.000</td>\n",
       "      <td>NaN</td>\n",
       "      <td>1.0</td>\n",
       "      <td>True</td>\n",
       "      <td>wye</td>\n",
       "      <td>True</td>\n",
       "      <td>0.00000</td>\n",
       "      <td>0.00000</td>\n",
       "      <td>Resource: WT1</td>\n",
       "    </tr>\n",
       "    <tr>\n",
       "      <th>2</th>\n",
       "      <td>None</td>\n",
       "      <td>4</td>\n",
       "      <td>0.080</td>\n",
       "      <td>0.000</td>\n",
       "      <td>NaN</td>\n",
       "      <td>1.0</td>\n",
       "      <td>True</td>\n",
       "      <td>wye</td>\n",
       "      <td>True</td>\n",
       "      <td>3.30000</td>\n",
       "      <td>1.65000</td>\n",
       "      <td>Resource: PV2</td>\n",
       "    </tr>\n",
       "  </tbody>\n",
       "</table>\n",
       "</div>"
      ],
      "text/plain": [
       "   name  bus   p_mw  q_mvar  sn_mva  scaling  in_service type  current_source  \\\n",
       "0  None    1  0.075   0.025     NaN      1.0        True  wye            True   \n",
       "1  None    3  0.150   0.000     NaN      1.0        True  wye            True   \n",
       "2  None    4  0.080   0.000     NaN      1.0        True  wye            True   \n",
       "\n",
       "   max_p_mw  max_q_mvar          model  \n",
       "0   0.54922     0.27461  Resource: PV1  \n",
       "1   0.00000     0.00000  Resource: WT1  \n",
       "2   3.30000     1.65000  Resource: PV2  "
      ]
     },
     "execution_count": 135,
     "metadata": {},
     "output_type": "execute_result"
    }
   ],
   "source": [
    "model_writer.net.sgen"
   ]
  },
  {
   "cell_type": "code",
   "execution_count": 136,
   "id": "persistent-teacher",
   "metadata": {},
   "outputs": [
    {
     "data": {
      "text/plain": [
       "66.0"
      ]
     },
     "execution_count": 136,
     "metadata": {},
     "output_type": "execute_result"
    }
   ],
   "source": [
    "net.sgen['model'][2].units.value"
   ]
  },
  {
   "cell_type": "code",
   "execution_count": 137,
   "id": "tender-pakistan",
   "metadata": {},
   "outputs": [
    {
     "data": {
      "text/html": [
       "<div>\n",
       "<style scoped>\n",
       "    .dataframe tbody tr th:only-of-type {\n",
       "        vertical-align: middle;\n",
       "    }\n",
       "\n",
       "    .dataframe tbody tr th {\n",
       "        vertical-align: top;\n",
       "    }\n",
       "\n",
       "    .dataframe thead th {\n",
       "        text-align: right;\n",
       "    }\n",
       "</style>\n",
       "<table border=\"1\" class=\"dataframe\">\n",
       "  <thead>\n",
       "    <tr style=\"text-align: right;\">\n",
       "      <th></th>\n",
       "      <th>name</th>\n",
       "      <th>bus</th>\n",
       "      <th>p_mw</th>\n",
       "      <th>q_mvar</th>\n",
       "      <th>sn_mva</th>\n",
       "      <th>soc_percent</th>\n",
       "      <th>min_e_mwh</th>\n",
       "      <th>max_e_mwh</th>\n",
       "      <th>scaling</th>\n",
       "      <th>in_service</th>\n",
       "      <th>type</th>\n",
       "      <th>model</th>\n",
       "    </tr>\n",
       "  </thead>\n",
       "  <tbody>\n",
       "    <tr>\n",
       "      <th>0</th>\n",
       "      <td>None</td>\n",
       "      <td>3</td>\n",
       "      <td>0.25</td>\n",
       "      <td>0.1</td>\n",
       "      <td>NaN</td>\n",
       "      <td>NaN</td>\n",
       "      <td>0.0</td>\n",
       "      <td>7.498764</td>\n",
       "      <td>1.0</td>\n",
       "      <td>True</td>\n",
       "      <td>None</td>\n",
       "      <td>Resource: ST1</td>\n",
       "    </tr>\n",
       "  </tbody>\n",
       "</table>\n",
       "</div>"
      ],
      "text/plain": [
       "   name  bus  p_mw  q_mvar  sn_mva  soc_percent  min_e_mwh  max_e_mwh  \\\n",
       "0  None    3  0.25     0.1     NaN          NaN        0.0   7.498764   \n",
       "\n",
       "   scaling  in_service  type          model  \n",
       "0      1.0        True  None  Resource: ST1  "
      ]
     },
     "execution_count": 137,
     "metadata": {},
     "output_type": "execute_result"
    }
   ],
   "source": [
    "model_writer.net.storage"
   ]
  },
  {
   "cell_type": "code",
   "execution_count": 138,
   "id": "strategic-manhattan",
   "metadata": {
    "tags": []
   },
   "outputs": [],
   "source": [
    "Resultados = model_writer.get_scenes_results()"
   ]
  },
  {
   "cell_type": "code",
   "execution_count": 139,
   "id": "rolled-skiing",
   "metadata": {
    "colab": {
     "base_uri": "https://localhost:8080/",
     "height": 424
    },
    "executionInfo": {
     "elapsed": 699,
     "status": "ok",
     "timestamp": 1619873491559,
     "user": {
      "displayName": "Juan Sardón",
      "photoUrl": "https://lh3.googleusercontent.com/a-/AOh14Gh0hE4Hw8M0I17k-o2PXxLB5i6gNZV_oUTpZlyJ3Q=s64",
      "userId": "08267034058673099115"
     },
     "user_tz": 180
    },
    "id": "tropical-completion",
    "outputId": "082e0a6f-0230-4e8e-b532-e95c63049c68"
   },
   "outputs": [
    {
     "data": {
      "text/html": [
       "<div>\n",
       "<style scoped>\n",
       "    .dataframe tbody tr th:only-of-type {\n",
       "        vertical-align: middle;\n",
       "    }\n",
       "\n",
       "    .dataframe tbody tr th {\n",
       "        vertical-align: top;\n",
       "    }\n",
       "\n",
       "    .dataframe thead th {\n",
       "        text-align: right;\n",
       "    }\n",
       "</style>\n",
       "<table border=\"1\" class=\"dataframe\">\n",
       "  <thead>\n",
       "    <tr style=\"text-align: right;\">\n",
       "      <th></th>\n",
       "      <th>SET_p_mw</th>\n",
       "      <th>Tornquinst_p_mw</th>\n",
       "      <th>Bell Ville_p_mw</th>\n",
       "      <th>City Bell_p_mw</th>\n",
       "      <th>PV1_p_mw</th>\n",
       "      <th>WT1_p_mw</th>\n",
       "      <th>PV2_p_mw</th>\n",
       "      <th>ST1_p_mw</th>\n",
       "      <th>ST1_soc_mwh</th>\n",
       "      <th>L 0_1_pf_mw</th>\n",
       "      <th>...</th>\n",
       "      <th>L 1_2_pf_mw</th>\n",
       "      <th>L 1_2_ep_mw</th>\n",
       "      <th>L 0_3_pf_mw</th>\n",
       "      <th>L 0_3_ep_mw</th>\n",
       "      <th>L 0_4_pf_mw</th>\n",
       "      <th>L 0_4_ep_mw</th>\n",
       "      <th>L 4_5_pf_mw</th>\n",
       "      <th>L 4_5_ep_mw</th>\n",
       "      <th>L 0_6_pf_mw</th>\n",
       "      <th>L 0_6_ep_mw</th>\n",
       "    </tr>\n",
       "  </thead>\n",
       "  <tbody>\n",
       "    <tr>\n",
       "      <th>0</th>\n",
       "      <td>0.366886</td>\n",
       "      <td>-0.095858</td>\n",
       "      <td>-0.219229</td>\n",
       "      <td>-0.051799</td>\n",
       "      <td>0.0</td>\n",
       "      <td>0.0</td>\n",
       "      <td>0.0</td>\n",
       "      <td>0.000000</td>\n",
       "      <td>0.000000</td>\n",
       "      <td>-0.095858</td>\n",
       "      <td>...</td>\n",
       "      <td>-0.095858</td>\n",
       "      <td>0.0</td>\n",
       "      <td>0.000000</td>\n",
       "      <td>0.0</td>\n",
       "      <td>-0.219229</td>\n",
       "      <td>0.0</td>\n",
       "      <td>-0.219229</td>\n",
       "      <td>0.0</td>\n",
       "      <td>-0.051799</td>\n",
       "      <td>0.0</td>\n",
       "    </tr>\n",
       "    <tr>\n",
       "      <th>1</th>\n",
       "      <td>0.333229</td>\n",
       "      <td>-0.072669</td>\n",
       "      <td>-0.207404</td>\n",
       "      <td>-0.053157</td>\n",
       "      <td>0.0</td>\n",
       "      <td>0.0</td>\n",
       "      <td>0.0</td>\n",
       "      <td>0.000000</td>\n",
       "      <td>0.000000</td>\n",
       "      <td>-0.072669</td>\n",
       "      <td>...</td>\n",
       "      <td>-0.072669</td>\n",
       "      <td>0.0</td>\n",
       "      <td>0.000000</td>\n",
       "      <td>0.0</td>\n",
       "      <td>-0.207404</td>\n",
       "      <td>0.0</td>\n",
       "      <td>-0.207404</td>\n",
       "      <td>0.0</td>\n",
       "      <td>-0.053157</td>\n",
       "      <td>0.0</td>\n",
       "    </tr>\n",
       "    <tr>\n",
       "      <th>2</th>\n",
       "      <td>1.959462</td>\n",
       "      <td>-0.078928</td>\n",
       "      <td>-0.169177</td>\n",
       "      <td>-0.042871</td>\n",
       "      <td>0.0</td>\n",
       "      <td>0.0</td>\n",
       "      <td>0.0</td>\n",
       "      <td>-1.668485</td>\n",
       "      <td>1.334788</td>\n",
       "      <td>-0.078928</td>\n",
       "      <td>...</td>\n",
       "      <td>-0.078928</td>\n",
       "      <td>0.0</td>\n",
       "      <td>-1.668485</td>\n",
       "      <td>0.0</td>\n",
       "      <td>-0.169177</td>\n",
       "      <td>0.0</td>\n",
       "      <td>-0.169177</td>\n",
       "      <td>0.0</td>\n",
       "      <td>-0.042871</td>\n",
       "      <td>0.0</td>\n",
       "    </tr>\n",
       "    <tr>\n",
       "      <th>3</th>\n",
       "      <td>2.085612</td>\n",
       "      <td>-0.086667</td>\n",
       "      <td>-0.238046</td>\n",
       "      <td>-0.047140</td>\n",
       "      <td>0.0</td>\n",
       "      <td>0.0</td>\n",
       "      <td>0.0</td>\n",
       "      <td>-1.713758</td>\n",
       "      <td>2.702992</td>\n",
       "      <td>-0.086667</td>\n",
       "      <td>...</td>\n",
       "      <td>-0.086667</td>\n",
       "      <td>0.0</td>\n",
       "      <td>-1.713758</td>\n",
       "      <td>0.0</td>\n",
       "      <td>-0.238046</td>\n",
       "      <td>0.0</td>\n",
       "      <td>-0.238046</td>\n",
       "      <td>0.0</td>\n",
       "      <td>-0.047140</td>\n",
       "      <td>0.0</td>\n",
       "    </tr>\n",
       "    <tr>\n",
       "      <th>4</th>\n",
       "      <td>2.018256</td>\n",
       "      <td>-0.084291</td>\n",
       "      <td>-0.168782</td>\n",
       "      <td>-0.051424</td>\n",
       "      <td>0.0</td>\n",
       "      <td>0.0</td>\n",
       "      <td>0.0</td>\n",
       "      <td>-1.713758</td>\n",
       "      <td>4.068322</td>\n",
       "      <td>-0.084291</td>\n",
       "      <td>...</td>\n",
       "      <td>-0.084291</td>\n",
       "      <td>0.0</td>\n",
       "      <td>-1.713758</td>\n",
       "      <td>0.0</td>\n",
       "      <td>-0.168782</td>\n",
       "      <td>0.0</td>\n",
       "      <td>-0.168782</td>\n",
       "      <td>0.0</td>\n",
       "      <td>-0.051424</td>\n",
       "      <td>0.0</td>\n",
       "    </tr>\n",
       "    <tr>\n",
       "      <th>...</th>\n",
       "      <td>...</td>\n",
       "      <td>...</td>\n",
       "      <td>...</td>\n",
       "      <td>...</td>\n",
       "      <td>...</td>\n",
       "      <td>...</td>\n",
       "      <td>...</td>\n",
       "      <td>...</td>\n",
       "      <td>...</td>\n",
       "      <td>...</td>\n",
       "      <td>...</td>\n",
       "      <td>...</td>\n",
       "      <td>...</td>\n",
       "      <td>...</td>\n",
       "      <td>...</td>\n",
       "      <td>...</td>\n",
       "      <td>...</td>\n",
       "      <td>...</td>\n",
       "      <td>...</td>\n",
       "      <td>...</td>\n",
       "      <td>...</td>\n",
       "    </tr>\n",
       "    <tr>\n",
       "      <th>5755</th>\n",
       "      <td>0.750327</td>\n",
       "      <td>-0.659836</td>\n",
       "      <td>-1.351904</td>\n",
       "      <td>-0.452345</td>\n",
       "      <td>0.0</td>\n",
       "      <td>0.0</td>\n",
       "      <td>0.0</td>\n",
       "      <td>1.713758</td>\n",
       "      <td>3.091257</td>\n",
       "      <td>-0.659836</td>\n",
       "      <td>...</td>\n",
       "      <td>-0.659836</td>\n",
       "      <td>0.0</td>\n",
       "      <td>1.713758</td>\n",
       "      <td>0.0</td>\n",
       "      <td>-1.351904</td>\n",
       "      <td>0.0</td>\n",
       "      <td>-1.351904</td>\n",
       "      <td>0.0</td>\n",
       "      <td>-0.452345</td>\n",
       "      <td>0.0</td>\n",
       "    </tr>\n",
       "    <tr>\n",
       "      <th>5756</th>\n",
       "      <td>0.680587</td>\n",
       "      <td>-0.676667</td>\n",
       "      <td>-1.364412</td>\n",
       "      <td>-0.353266</td>\n",
       "      <td>0.0</td>\n",
       "      <td>0.0</td>\n",
       "      <td>0.0</td>\n",
       "      <td>1.713758</td>\n",
       "      <td>1.713758</td>\n",
       "      <td>-0.676667</td>\n",
       "      <td>...</td>\n",
       "      <td>-0.676667</td>\n",
       "      <td>0.0</td>\n",
       "      <td>1.713758</td>\n",
       "      <td>0.0</td>\n",
       "      <td>-1.364412</td>\n",
       "      <td>0.0</td>\n",
       "      <td>-1.364412</td>\n",
       "      <td>0.0</td>\n",
       "      <td>-0.353266</td>\n",
       "      <td>0.0</td>\n",
       "    </tr>\n",
       "    <tr>\n",
       "      <th>5757</th>\n",
       "      <td>1.869041</td>\n",
       "      <td>-0.571957</td>\n",
       "      <td>-1.836337</td>\n",
       "      <td>-0.410836</td>\n",
       "      <td>0.0</td>\n",
       "      <td>0.0</td>\n",
       "      <td>0.0</td>\n",
       "      <td>0.950089</td>\n",
       "      <td>0.950089</td>\n",
       "      <td>-0.571957</td>\n",
       "      <td>...</td>\n",
       "      <td>-0.571957</td>\n",
       "      <td>0.0</td>\n",
       "      <td>0.950089</td>\n",
       "      <td>0.0</td>\n",
       "      <td>-1.836337</td>\n",
       "      <td>0.0</td>\n",
       "      <td>-1.836337</td>\n",
       "      <td>0.0</td>\n",
       "      <td>-0.410836</td>\n",
       "      <td>0.0</td>\n",
       "    </tr>\n",
       "    <tr>\n",
       "      <th>5758</th>\n",
       "      <td>0.274441</td>\n",
       "      <td>-0.204537</td>\n",
       "      <td>-0.478742</td>\n",
       "      <td>-0.117880</td>\n",
       "      <td>0.0</td>\n",
       "      <td>0.0</td>\n",
       "      <td>0.0</td>\n",
       "      <td>0.526719</td>\n",
       "      <td>0.526719</td>\n",
       "      <td>-0.204537</td>\n",
       "      <td>...</td>\n",
       "      <td>-0.204537</td>\n",
       "      <td>0.0</td>\n",
       "      <td>0.526719</td>\n",
       "      <td>0.0</td>\n",
       "      <td>-0.478742</td>\n",
       "      <td>0.0</td>\n",
       "      <td>-0.478742</td>\n",
       "      <td>0.0</td>\n",
       "      <td>-0.117880</td>\n",
       "      <td>0.0</td>\n",
       "    </tr>\n",
       "    <tr>\n",
       "      <th>5759</th>\n",
       "      <td>0.565659</td>\n",
       "      <td>-0.193896</td>\n",
       "      <td>-0.544563</td>\n",
       "      <td>-0.119207</td>\n",
       "      <td>0.0</td>\n",
       "      <td>0.0</td>\n",
       "      <td>0.0</td>\n",
       "      <td>0.292007</td>\n",
       "      <td>0.292007</td>\n",
       "      <td>-0.193896</td>\n",
       "      <td>...</td>\n",
       "      <td>-0.193896</td>\n",
       "      <td>0.0</td>\n",
       "      <td>0.292007</td>\n",
       "      <td>0.0</td>\n",
       "      <td>-0.544563</td>\n",
       "      <td>0.0</td>\n",
       "      <td>-0.544563</td>\n",
       "      <td>0.0</td>\n",
       "      <td>-0.119207</td>\n",
       "      <td>0.0</td>\n",
       "    </tr>\n",
       "  </tbody>\n",
       "</table>\n",
       "<p>5760 rows × 21 columns</p>\n",
       "</div>"
      ],
      "text/plain": [
       "      SET_p_mw  Tornquinst_p_mw  Bell Ville_p_mw  City Bell_p_mw  PV1_p_mw  \\\n",
       "0     0.366886        -0.095858        -0.219229       -0.051799       0.0   \n",
       "1     0.333229        -0.072669        -0.207404       -0.053157       0.0   \n",
       "2     1.959462        -0.078928        -0.169177       -0.042871       0.0   \n",
       "3     2.085612        -0.086667        -0.238046       -0.047140       0.0   \n",
       "4     2.018256        -0.084291        -0.168782       -0.051424       0.0   \n",
       "...        ...              ...              ...             ...       ...   \n",
       "5755  0.750327        -0.659836        -1.351904       -0.452345       0.0   \n",
       "5756  0.680587        -0.676667        -1.364412       -0.353266       0.0   \n",
       "5757  1.869041        -0.571957        -1.836337       -0.410836       0.0   \n",
       "5758  0.274441        -0.204537        -0.478742       -0.117880       0.0   \n",
       "5759  0.565659        -0.193896        -0.544563       -0.119207       0.0   \n",
       "\n",
       "      WT1_p_mw  PV2_p_mw  ST1_p_mw  ST1_soc_mwh  L 0_1_pf_mw  ...  \\\n",
       "0          0.0       0.0  0.000000     0.000000    -0.095858  ...   \n",
       "1          0.0       0.0  0.000000     0.000000    -0.072669  ...   \n",
       "2          0.0       0.0 -1.668485     1.334788    -0.078928  ...   \n",
       "3          0.0       0.0 -1.713758     2.702992    -0.086667  ...   \n",
       "4          0.0       0.0 -1.713758     4.068322    -0.084291  ...   \n",
       "...        ...       ...       ...          ...          ...  ...   \n",
       "5755       0.0       0.0  1.713758     3.091257    -0.659836  ...   \n",
       "5756       0.0       0.0  1.713758     1.713758    -0.676667  ...   \n",
       "5757       0.0       0.0  0.950089     0.950089    -0.571957  ...   \n",
       "5758       0.0       0.0  0.526719     0.526719    -0.204537  ...   \n",
       "5759       0.0       0.0  0.292007     0.292007    -0.193896  ...   \n",
       "\n",
       "      L 1_2_pf_mw  L 1_2_ep_mw  L 0_3_pf_mw  L 0_3_ep_mw  L 0_4_pf_mw  \\\n",
       "0       -0.095858          0.0     0.000000          0.0    -0.219229   \n",
       "1       -0.072669          0.0     0.000000          0.0    -0.207404   \n",
       "2       -0.078928          0.0    -1.668485          0.0    -0.169177   \n",
       "3       -0.086667          0.0    -1.713758          0.0    -0.238046   \n",
       "4       -0.084291          0.0    -1.713758          0.0    -0.168782   \n",
       "...           ...          ...          ...          ...          ...   \n",
       "5755    -0.659836          0.0     1.713758          0.0    -1.351904   \n",
       "5756    -0.676667          0.0     1.713758          0.0    -1.364412   \n",
       "5757    -0.571957          0.0     0.950089          0.0    -1.836337   \n",
       "5758    -0.204537          0.0     0.526719          0.0    -0.478742   \n",
       "5759    -0.193896          0.0     0.292007          0.0    -0.544563   \n",
       "\n",
       "      L 0_4_ep_mw  L 4_5_pf_mw  L 4_5_ep_mw  L 0_6_pf_mw  L 0_6_ep_mw  \n",
       "0             0.0    -0.219229          0.0    -0.051799          0.0  \n",
       "1             0.0    -0.207404          0.0    -0.053157          0.0  \n",
       "2             0.0    -0.169177          0.0    -0.042871          0.0  \n",
       "3             0.0    -0.238046          0.0    -0.047140          0.0  \n",
       "4             0.0    -0.168782          0.0    -0.051424          0.0  \n",
       "...           ...          ...          ...          ...          ...  \n",
       "5755          0.0    -1.351904          0.0    -0.452345          0.0  \n",
       "5756          0.0    -1.364412          0.0    -0.353266          0.0  \n",
       "5757          0.0    -1.836337          0.0    -0.410836          0.0  \n",
       "5758          0.0    -0.478742          0.0    -0.117880          0.0  \n",
       "5759          0.0    -0.544563          0.0    -0.119207          0.0  \n",
       "\n",
       "[5760 rows x 21 columns]"
      ]
     },
     "execution_count": 139,
     "metadata": {},
     "output_type": "execute_result"
    }
   ],
   "source": [
    "Resultados"
   ]
  },
  {
   "cell_type": "code",
   "execution_count": 140,
   "id": "ahead-catholic",
   "metadata": {
    "colab": {
     "base_uri": "https://localhost:8080/",
     "height": 388
    },
    "executionInfo": {
     "elapsed": 1336,
     "status": "ok",
     "timestamp": 1619873495814,
     "user": {
      "displayName": "Juan Sardón",
      "photoUrl": "https://lh3.googleusercontent.com/a-/AOh14Gh0hE4Hw8M0I17k-o2PXxLB5i6gNZV_oUTpZlyJ3Q=s64",
      "userId": "08267034058673099115"
     },
     "user_tz": 180
    },
    "id": "planned-memorial",
    "outputId": "11488d44-f6a7-46f5-dd15-9afe980a328c"
   },
   "outputs": [
    {
     "data": {
      "image/png": "[encoded data removed]",
      "text/plain": [
       "<Figure size 720x432 with 1 Axes>"
      ]
     },
     "metadata": {
      "needs_background": "light"
     },
     "output_type": "display_data"
    }
   ],
   "source": [
    "# Set the plot curve with markers and a title\n",
    "fig, ax = plt.subplots(1, 1)\n",
    "\n",
    "fig.set_size_inches(10,6)\n",
    "#a=180*24\n",
    "#b=360\n",
    "#b=180*24+5*24\n",
    "a=0\n",
    "b=240\n",
    "for col in Resultados:\n",
    "    ax.plot(Resultados[col][a:b], label = col)\n",
    "\n",
    "ax.set_xlabel('time')\n",
    "ax.set_ylabel('P[mw]')\n",
    "\n",
    "ax.legend()\n",
    "\n",
    "ax.grid(True)\n",
    "\n",
    "\n",
    "plt.show()"
   ]
  },
  {
   "cell_type": "code",
   "execution_count": 142,
   "id": "blank-viewer",
   "metadata": {},
   "outputs": [
    {
     "data": {
      "image/png": "[encoded data removed]",
      "text/plain": [
       "<Figure size 720x432 with 1 Axes>"
      ]
     },
     "metadata": {
      "needs_background": "light"
     },
     "output_type": "display_data"
    }
   ],
   "source": [
    "# Set the plot curve with markers and a title\n",
    "fig, ax = plt.subplots(1, 1)\n",
    "\n",
    "fig.set_size_inches(10,6)\n",
    "#a=180*24\n",
    "#b=360\n",
    "#b=180*24+5*24\n",
    "a=0\n",
    "b=240\n",
    "\n",
    "selected_cols = ['L 0_1_pf_mw', 'L 0_1_ep_mw', 'L 1_2_pf_mw', 'L 1_2_ep_mw', 'L 0_6_pf_mw', 'L 0_6_ep_mw']\n",
    "selected_cols = ['L 0_3_pf_mw', 'L 0_3_ep_mw', 'L 0_4_pf_mw', 'L 0_4_ep_mw', 'L 4_5_pf_mw', 'L 4_5_ep_mw']\n",
    "for col in selected_cols:\n",
    "    ax.plot(Resultados[col][a:b], label = col)\n",
    "\n",
    "ax.set_xlabel('time')\n",
    "ax.set_ylabel('P[mw]')\n",
    "\n",
    "ax.legend()\n",
    "\n",
    "ax.grid(True)\n",
    "\n",
    "\n",
    "plt.show()"
   ]
  },
  {
   "cell_type": "code",
   "execution_count": null,
   "id": "intelligent-alexander",
   "metadata": {},
   "outputs": [],
   "source": []
  }
 ],
 "metadata": {
  "colab": {
   "name": "Prueba PP-Pyomo-4.ipynb",
   "provenance": []
  },
  "kernelspec": {
   "display_name": "Python 3",
   "language": "python",
   "name": "python3"
  },
  "language_info": {
   "codemirror_mode": {
    "name": "ipython",
    "version": 3
   },
   "file_extension": ".py",
   "mimetype": "text/x-python",
   "name": "python",
   "nbconvert_exporter": "python",
   "pygments_lexer": "ipython3",
   "version": "3.8.8"
  }
 },
 "nbformat": 4,
 "nbformat_minor": 5
}
