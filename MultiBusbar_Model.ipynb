{
 "cells": [
  {
   "cell_type": "markdown",
   "id": "sound-browser",
   "metadata": {
    "id": "addressed-terrorism"
   },
   "source": [
    "## Prueba de modelos ##\n",
    "\n",
    "### Version 4: Modelo con 2 DER, planificación anual, granularidad horaria ###\n",
    "\n",
    "Si el modelo tiene que optimizar el balance por horas, tiene 8640 VD, pero sigue teniendo 2 VD binarias"
   ]
  },
  {
   "cell_type": "code",
   "execution_count": 1,
   "id": "academic-prior",
   "metadata": {},
   "outputs": [],
   "source": [
    "%load_ext autoreload"
   ]
  },
  {
   "cell_type": "code",
   "execution_count": 2,
   "id": "conscious-stanley",
   "metadata": {},
   "outputs": [],
   "source": [
    "%autoreload 2"
   ]
  },
  {
   "cell_type": "code",
   "execution_count": 3,
   "id": "unauthorized-membership",
   "metadata": {
    "executionInfo": {
     "elapsed": 5552,
     "status": "ok",
     "timestamp": 1620005659685,
     "user": {
      "displayName": "Juan Sardón",
      "photoUrl": "https://lh3.googleusercontent.com/a-/AOh14Gh0hE4Hw8M0I17k-o2PXxLB5i6gNZV_oUTpZlyJ3Q=s64",
      "userId": "08267034058673099115"
     },
     "user_tz": 180
    },
    "id": "aboriginal-joshua"
   },
   "outputs": [],
   "source": [
    "import pandapower as pp"
   ]
  },
  {
   "cell_type": "code",
   "execution_count": 4,
   "id": "protected-theorem",
   "metadata": {
    "executionInfo": {
     "elapsed": 4248,
     "status": "ok",
     "timestamp": 1620005659688,
     "user": {
      "displayName": "Juan Sardón",
      "photoUrl": "https://lh3.googleusercontent.com/a-/AOh14Gh0hE4Hw8M0I17k-o2PXxLB5i6gNZV_oUTpZlyJ3Q=s64",
      "userId": "08267034058673099115"
     },
     "user_tz": 180
    },
    "id": "collectible-innocent"
   },
   "outputs": [],
   "source": [
    "import pyomo.environ as pe"
   ]
  },
  {
   "cell_type": "code",
   "execution_count": 5,
   "id": "caring-criterion",
   "metadata": {
    "executionInfo": {
     "elapsed": 3074,
     "status": "ok",
     "timestamp": 1620005659693,
     "user": {
      "displayName": "Juan Sardón",
      "photoUrl": "https://lh3.googleusercontent.com/a-/AOh14Gh0hE4Hw8M0I17k-o2PXxLB5i6gNZV_oUTpZlyJ3Q=s64",
      "userId": "08267034058673099115"
     },
     "user_tz": 180
    },
    "id": "united-bronze"
   },
   "outputs": [],
   "source": [
    "import matplotlib.pyplot as plt"
   ]
  },
  {
   "cell_type": "code",
   "execution_count": 6,
   "id": "italian-front",
   "metadata": {},
   "outputs": [],
   "source": [
    "import ModelWriters as mw"
   ]
  },
  {
   "cell_type": "code",
   "execution_count": 7,
   "id": "recreational-operation",
   "metadata": {},
   "outputs": [],
   "source": [
    "import ModelWriters.Scenes as Scenes"
   ]
  },
  {
   "cell_type": "code",
   "execution_count": 8,
   "id": "simple-nowhere",
   "metadata": {},
   "outputs": [],
   "source": [
    "import ModelWriters.Resources as Resources"
   ]
  },
  {
   "cell_type": "code",
   "execution_count": 9,
   "id": "lovely-works",
   "metadata": {
    "colab": {
     "base_uri": "https://localhost:8080/"
    },
    "executionInfo": {
     "elapsed": 2223,
     "status": "ok",
     "timestamp": 1620005659694,
     "user": {
      "displayName": "Juan Sardón",
      "photoUrl": "https://lh3.googleusercontent.com/a-/AOh14Gh0hE4Hw8M0I17k-o2PXxLB5i6gNZV_oUTpZlyJ3Q=s64",
      "userId": "08267034058673099115"
     },
     "user_tz": 180
    },
    "id": "corrected-friendly",
    "outputId": "bdf4d701-1857-4ce0-be28-267a95d8d74a"
   },
   "outputs": [
    {
     "data": {
      "text/plain": [
       "2"
      ]
     },
     "execution_count": 9,
     "metadata": {},
     "output_type": "execute_result"
    }
   ],
   "source": [
    "net = pp.create_empty_network() \n",
    "b0 = pp.create_bus(net, vn_kv=13.2)\n",
    "\n",
    "pp.create_ext_grid(net, bus=b0)\n",
    "\n",
    "#ramal 1\n",
    "b11 = pp.create_bus(net, vn_kv=13.2)\n",
    "b12 = pp.create_bus(net, vn_kv=13.2)\n",
    "\n",
    "pp.create_line(net, from_bus=b0, to_bus=b11, length_km=0.8, std_type=\"NAYY 4x50 SE\")\n",
    "pp.create_line(net, from_bus=b11, to_bus=b12, length_km=2.1, std_type=\"NAYY 4x50 SE\")\n",
    "\n",
    "pp.create_sgen(net, b11, p_mw=0.075, q_mvar=0.025, max_p_mw=0.15, max_q_mvar=0.15)\n",
    "pp.create_load(net, bus=b12, p_mw=0.350)\n",
    "\n",
    "#ramal 2\n",
    "b21 = pp.create_bus(net, vn_kv=13.2)\n",
    "pp.create_line(net, from_bus=b0, to_bus=b21, length_km=5.0, std_type=\"NAYY 4x50 SE\")\n",
    "pp.create_sgen(net, b21, p_mw=0.15, q_mvar=0.00, max_p_mw=0.40, max_q_mvar=0.10)\n",
    "pp.create_storage(net, bus=b21, p_mw=0.25, q_mvar=0.1, max_e_mwh = 3.0)\n",
    "\n",
    "#ramal 3\n",
    "b31 = pp.create_bus(net, vn_kv=13.2)\n",
    "b32 = pp.create_bus(net, vn_kv=13.2)\n",
    "pp.create_line(net, from_bus=b0, to_bus=b31, length_km=0.5, std_type=\"NAYY 4x50 SE\")\n",
    "pp.create_line(net, from_bus=b31, to_bus=b32, length_km=1.5, std_type=\"NAYY 4x50 SE\")\n",
    "pp.create_sgen(net, b31, p_mw=0.08, q_mvar=0.00, max_p_mw=0.30, max_q_mvar=0.10)\n",
    "pp.create_load(net, bus=b32, p_mw=0.85, q_mvar=0.33)\n",
    "\n",
    "\n",
    "#ramal 4\n",
    "b41 = pp.create_bus(net, vn_kv=13.2)\n",
    "pp.create_line(net, from_bus=b0, to_bus=b41, length_km=0.5, std_type=\"NAYY 4x50 SE\")\n",
    "pp.create_load(net, bus=b41, p_mw=0.22, q_mvar=0.05)\n",
    "#pp.create_storage(net, bus=b41, p_mw=0.5, q_mvar=0.1, max_e_mwh = 5.0)\n",
    "\n"
   ]
  },
  {
   "cell_type": "code",
   "execution_count": 10,
   "id": "harmful-monday",
   "metadata": {},
   "outputs": [
    {
     "data": {
      "text/html": [
       "<div>\n",
       "<style scoped>\n",
       "    .dataframe tbody tr th:only-of-type {\n",
       "        vertical-align: middle;\n",
       "    }\n",
       "\n",
       "    .dataframe tbody tr th {\n",
       "        vertical-align: top;\n",
       "    }\n",
       "\n",
       "    .dataframe thead th {\n",
       "        text-align: right;\n",
       "    }\n",
       "</style>\n",
       "<table border=\"1\" class=\"dataframe\">\n",
       "  <thead>\n",
       "    <tr style=\"text-align: right;\">\n",
       "      <th></th>\n",
       "      <th>name</th>\n",
       "      <th>bus</th>\n",
       "      <th>p_mw</th>\n",
       "      <th>q_mvar</th>\n",
       "      <th>sn_mva</th>\n",
       "      <th>scaling</th>\n",
       "      <th>in_service</th>\n",
       "      <th>type</th>\n",
       "      <th>current_source</th>\n",
       "      <th>max_p_mw</th>\n",
       "      <th>max_q_mvar</th>\n",
       "    </tr>\n",
       "  </thead>\n",
       "  <tbody>\n",
       "    <tr>\n",
       "      <th>0</th>\n",
       "      <td>None</td>\n",
       "      <td>1</td>\n",
       "      <td>0.075</td>\n",
       "      <td>0.025</td>\n",
       "      <td>NaN</td>\n",
       "      <td>1.0</td>\n",
       "      <td>True</td>\n",
       "      <td>wye</td>\n",
       "      <td>True</td>\n",
       "      <td>0.15</td>\n",
       "      <td>0.15</td>\n",
       "    </tr>\n",
       "    <tr>\n",
       "      <th>1</th>\n",
       "      <td>None</td>\n",
       "      <td>3</td>\n",
       "      <td>0.150</td>\n",
       "      <td>0.000</td>\n",
       "      <td>NaN</td>\n",
       "      <td>1.0</td>\n",
       "      <td>True</td>\n",
       "      <td>wye</td>\n",
       "      <td>True</td>\n",
       "      <td>0.40</td>\n",
       "      <td>0.10</td>\n",
       "    </tr>\n",
       "    <tr>\n",
       "      <th>2</th>\n",
       "      <td>None</td>\n",
       "      <td>4</td>\n",
       "      <td>0.080</td>\n",
       "      <td>0.000</td>\n",
       "      <td>NaN</td>\n",
       "      <td>1.0</td>\n",
       "      <td>True</td>\n",
       "      <td>wye</td>\n",
       "      <td>True</td>\n",
       "      <td>0.30</td>\n",
       "      <td>0.10</td>\n",
       "    </tr>\n",
       "  </tbody>\n",
       "</table>\n",
       "</div>"
      ],
      "text/plain": [
       "   name  bus   p_mw  q_mvar  sn_mva  scaling  in_service type  current_source  \\\n",
       "0  None    1  0.075   0.025     NaN      1.0        True  wye            True   \n",
       "1  None    3  0.150   0.000     NaN      1.0        True  wye            True   \n",
       "2  None    4  0.080   0.000     NaN      1.0        True  wye            True   \n",
       "\n",
       "   max_p_mw  max_q_mvar  \n",
       "0      0.15        0.15  \n",
       "1      0.40        0.10  \n",
       "2      0.30        0.10  "
      ]
     },
     "execution_count": 10,
     "metadata": {},
     "output_type": "execute_result"
    }
   ],
   "source": [
    "net.sgen"
   ]
  },
  {
   "cell_type": "code",
   "execution_count": 11,
   "id": "affecting-function",
   "metadata": {
    "executionInfo": {
     "elapsed": 2125,
     "status": "ok",
     "timestamp": 1620005662287,
     "user": {
      "displayName": "Juan Sardón",
      "photoUrl": "https://lh3.googleusercontent.com/a-/AOh14Gh0hE4Hw8M0I17k-o2PXxLB5i6gNZV_oUTpZlyJ3Q=s64",
      "userId": "08267034058673099115"
     },
     "user_tz": 180
    },
    "id": "junior-abraham"
   },
   "outputs": [],
   "source": [
    " pp.runpp(net)"
   ]
  },
  {
   "cell_type": "code",
   "execution_count": 12,
   "id": "connected-prerequisite",
   "metadata": {
    "colab": {
     "base_uri": "https://localhost:8080/"
    },
    "executionInfo": {
     "elapsed": 1619,
     "status": "ok",
     "timestamp": 1620005663021,
     "user": {
      "displayName": "Juan Sardón",
      "photoUrl": "https://lh3.googleusercontent.com/a-/AOh14Gh0hE4Hw8M0I17k-o2PXxLB5i6gNZV_oUTpZlyJ3Q=s64",
      "userId": "08267034058673099115"
     },
     "user_tz": 180
    },
    "id": "biological-emergency",
    "outputId": "ff9a4063-32b3-467c-c916-afc6f5140231"
   },
   "outputs": [
    {
     "name": "stdout",
     "output_type": "stream",
     "text": [
      "0    1.000000\n",
      "1    0.999206\n",
      "2    0.996501\n",
      "3    0.997983\n",
      "4    0.998497\n",
      "5    0.993536\n",
      "6    0.999583\n",
      "Name: vm_pu, dtype: float64\n",
      "   p_from_mw  q_from_mvar   p_to_mw     q_to_mvar     pl_mw   ql_mvar  \\\n",
      "0   0.276189    -0.058072 -0.275956  4.891292e-02  0.000233 -0.009159   \n",
      "1   0.350956    -0.023913 -0.350000 -2.477944e-15  0.000956 -0.023913   \n",
      "2   0.100279     0.042676 -0.100000 -1.000000e-01  0.000279 -0.057324   \n",
      "3   0.775911     0.307919 -0.774624 -3.134920e-01  0.001287 -0.005573   \n",
      "4   0.854624     0.313492 -0.850000 -3.300000e-01  0.004624 -0.016508   \n",
      "5   0.220093     0.044267 -0.220000 -5.000000e-02  0.000093 -0.005733   \n",
      "\n",
      "   i_from_ka   i_to_ka      i_ka  vm_from_pu  va_from_degree  vm_to_pu  \\\n",
      "0   0.012344  0.012268  0.012344    1.000000        0.000000  0.999206   \n",
      "1   0.015398  0.015362  0.015398    0.999206       -0.015073  0.996501   \n",
      "2   0.004767  0.006198  0.006198    1.000000        0.000000  0.997983   \n",
      "3   0.036512  0.036605  0.036605    1.000000        0.000000  0.998497   \n",
      "4   0.039876  0.040141  0.040141    0.998497        0.022251  0.993536   \n",
      "5   0.009819  0.009872  0.009872    1.000000        0.000000  0.999583   \n",
      "\n",
      "   va_to_degree  loading_percent  \n",
      "0     -0.015073         8.693150  \n",
      "1     -0.040557        10.843762  \n",
      "2      0.061821         4.364846  \n",
      "3      0.022251        25.778497  \n",
      "4      0.089794        28.268214  \n",
      "5      0.001973         6.952116  \n"
     ]
    }
   ],
   "source": [
    "print(net.res_bus.vm_pu)\n",
    "print(net.res_line)"
   ]
  },
  {
   "cell_type": "code",
   "execution_count": 13,
   "id": "gothic-chocolate",
   "metadata": {
    "colab": {
     "base_uri": "https://localhost:8080/"
    },
    "executionInfo": {
     "elapsed": 885,
     "status": "ok",
     "timestamp": 1620005663021,
     "user": {
      "displayName": "Juan Sardón",
      "photoUrl": "https://lh3.googleusercontent.com/a-/AOh14Gh0hE4Hw8M0I17k-o2PXxLB5i6gNZV_oUTpZlyJ3Q=s64",
      "userId": "08267034058673099115"
     },
     "user_tz": 180
    },
    "id": "norwegian-dover",
    "outputId": "f1a78284-1d03-4323-8253-e779b726a433"
   },
   "outputs": [
    {
     "name": "stdout",
     "output_type": "stream",
     "text": [
      "This pandapower network includes the following parameter tables:\n",
      "   - bus (7 elements)\n",
      "   - load (3 elements)\n",
      "   - sgen (3 elements)\n",
      "   - storage (1 element)\n",
      "   - ext_grid (1 element)\n",
      "   - line (6 elements)\n",
      " and the following results tables:\n",
      "   - res_bus (7 elements)\n",
      "   - res_line (6 elements)\n",
      "   - res_ext_grid (1 element)\n",
      "   - res_load (3 elements)\n",
      "   - res_sgen (3 elements)\n",
      "   - res_storage (1 element)\n"
     ]
    }
   ],
   "source": [
    "print(net)"
   ]
  },
  {
   "cell_type": "markdown",
   "id": "committed-catalyst",
   "metadata": {
    "id": "pTK9BGaY4BEu"
   },
   "source": [
    "## Construcción de Escenarios"
   ]
  },
  {
   "cell_type": "code",
   "execution_count": 14,
   "id": "bright-joshua",
   "metadata": {},
   "outputs": [
    {
     "data": {
      "text/html": [
       "<div>\n",
       "<style scoped>\n",
       "    .dataframe tbody tr th:only-of-type {\n",
       "        vertical-align: middle;\n",
       "    }\n",
       "\n",
       "    .dataframe tbody tr th {\n",
       "        vertical-align: top;\n",
       "    }\n",
       "\n",
       "    .dataframe thead th {\n",
       "        text-align: right;\n",
       "    }\n",
       "</style>\n",
       "<table border=\"1\" class=\"dataframe\">\n",
       "  <thead>\n",
       "    <tr style=\"text-align: right;\">\n",
       "      <th></th>\n",
       "      <th>year</th>\n",
       "      <th>day</th>\n",
       "      <th>dd</th>\n",
       "      <th>hour</th>\n",
       "      <th>dt</th>\n",
       "      <th>growth</th>\n",
       "      <th>discount</th>\n",
       "      <th>solar_irradiance</th>\n",
       "      <th>wind_speed</th>\n",
       "    </tr>\n",
       "  </thead>\n",
       "  <tbody>\n",
       "    <tr>\n",
       "      <th>0</th>\n",
       "      <td>0.0</td>\n",
       "      <td>0.0</td>\n",
       "      <td>30.416667</td>\n",
       "      <td>0.0</td>\n",
       "      <td>1.0</td>\n",
       "      <td>1.00000</td>\n",
       "      <td>1.000000</td>\n",
       "      <td>0.0</td>\n",
       "      <td>0.352463</td>\n",
       "    </tr>\n",
       "    <tr>\n",
       "      <th>1</th>\n",
       "      <td>0.0</td>\n",
       "      <td>0.0</td>\n",
       "      <td>30.416667</td>\n",
       "      <td>1.0</td>\n",
       "      <td>1.0</td>\n",
       "      <td>1.00000</td>\n",
       "      <td>1.000000</td>\n",
       "      <td>0.0</td>\n",
       "      <td>0.492542</td>\n",
       "    </tr>\n",
       "    <tr>\n",
       "      <th>2</th>\n",
       "      <td>0.0</td>\n",
       "      <td>0.0</td>\n",
       "      <td>30.416667</td>\n",
       "      <td>2.0</td>\n",
       "      <td>1.0</td>\n",
       "      <td>1.00000</td>\n",
       "      <td>1.000000</td>\n",
       "      <td>0.0</td>\n",
       "      <td>0.514360</td>\n",
       "    </tr>\n",
       "    <tr>\n",
       "      <th>3</th>\n",
       "      <td>0.0</td>\n",
       "      <td>0.0</td>\n",
       "      <td>30.416667</td>\n",
       "      <td>3.0</td>\n",
       "      <td>1.0</td>\n",
       "      <td>1.00000</td>\n",
       "      <td>1.000000</td>\n",
       "      <td>0.0</td>\n",
       "      <td>1.390276</td>\n",
       "    </tr>\n",
       "    <tr>\n",
       "      <th>4</th>\n",
       "      <td>0.0</td>\n",
       "      <td>0.0</td>\n",
       "      <td>30.416667</td>\n",
       "      <td>4.0</td>\n",
       "      <td>1.0</td>\n",
       "      <td>1.00000</td>\n",
       "      <td>1.000000</td>\n",
       "      <td>0.0</td>\n",
       "      <td>1.438042</td>\n",
       "    </tr>\n",
       "    <tr>\n",
       "      <th>...</th>\n",
       "      <td>...</td>\n",
       "      <td>...</td>\n",
       "      <td>...</td>\n",
       "      <td>...</td>\n",
       "      <td>...</td>\n",
       "      <td>...</td>\n",
       "      <td>...</td>\n",
       "      <td>...</td>\n",
       "      <td>...</td>\n",
       "    </tr>\n",
       "    <tr>\n",
       "      <th>5755</th>\n",
       "      <td>19.0</td>\n",
       "      <td>330.0</td>\n",
       "      <td>30.416667</td>\n",
       "      <td>19.0</td>\n",
       "      <td>1.0</td>\n",
       "      <td>1.59865</td>\n",
       "      <td>0.570286</td>\n",
       "      <td>0.0</td>\n",
       "      <td>8.002847</td>\n",
       "    </tr>\n",
       "    <tr>\n",
       "      <th>5756</th>\n",
       "      <td>19.0</td>\n",
       "      <td>330.0</td>\n",
       "      <td>30.416667</td>\n",
       "      <td>20.0</td>\n",
       "      <td>1.0</td>\n",
       "      <td>1.59865</td>\n",
       "      <td>0.570286</td>\n",
       "      <td>0.0</td>\n",
       "      <td>7.832982</td>\n",
       "    </tr>\n",
       "    <tr>\n",
       "      <th>5757</th>\n",
       "      <td>19.0</td>\n",
       "      <td>330.0</td>\n",
       "      <td>30.416667</td>\n",
       "      <td>21.0</td>\n",
       "      <td>1.0</td>\n",
       "      <td>1.59865</td>\n",
       "      <td>0.570286</td>\n",
       "      <td>0.0</td>\n",
       "      <td>8.118507</td>\n",
       "    </tr>\n",
       "    <tr>\n",
       "      <th>5758</th>\n",
       "      <td>19.0</td>\n",
       "      <td>330.0</td>\n",
       "      <td>30.416667</td>\n",
       "      <td>22.0</td>\n",
       "      <td>1.0</td>\n",
       "      <td>1.59865</td>\n",
       "      <td>0.570286</td>\n",
       "      <td>0.0</td>\n",
       "      <td>7.572330</td>\n",
       "    </tr>\n",
       "    <tr>\n",
       "      <th>5759</th>\n",
       "      <td>19.0</td>\n",
       "      <td>330.0</td>\n",
       "      <td>30.416667</td>\n",
       "      <td>23.0</td>\n",
       "      <td>1.0</td>\n",
       "      <td>1.59865</td>\n",
       "      <td>0.570286</td>\n",
       "      <td>0.0</td>\n",
       "      <td>8.459685</td>\n",
       "    </tr>\n",
       "  </tbody>\n",
       "</table>\n",
       "<p>5760 rows × 9 columns</p>\n",
       "</div>"
      ],
      "text/plain": [
       "      year    day         dd  hour   dt   growth  discount  solar_irradiance  \\\n",
       "0      0.0    0.0  30.416667   0.0  1.0  1.00000  1.000000               0.0   \n",
       "1      0.0    0.0  30.416667   1.0  1.0  1.00000  1.000000               0.0   \n",
       "2      0.0    0.0  30.416667   2.0  1.0  1.00000  1.000000               0.0   \n",
       "3      0.0    0.0  30.416667   3.0  1.0  1.00000  1.000000               0.0   \n",
       "4      0.0    0.0  30.416667   4.0  1.0  1.00000  1.000000               0.0   \n",
       "...    ...    ...        ...   ...  ...      ...       ...               ...   \n",
       "5755  19.0  330.0  30.416667  19.0  1.0  1.59865  0.570286               0.0   \n",
       "5756  19.0  330.0  30.416667  20.0  1.0  1.59865  0.570286               0.0   \n",
       "5757  19.0  330.0  30.416667  21.0  1.0  1.59865  0.570286               0.0   \n",
       "5758  19.0  330.0  30.416667  22.0  1.0  1.59865  0.570286               0.0   \n",
       "5759  19.0  330.0  30.416667  23.0  1.0  1.59865  0.570286               0.0   \n",
       "\n",
       "      wind_speed  \n",
       "0       0.352463  \n",
       "1       0.492542  \n",
       "2       0.514360  \n",
       "3       1.390276  \n",
       "4       1.438042  \n",
       "...          ...  \n",
       "5755    8.002847  \n",
       "5756    7.832982  \n",
       "5757    8.118507  \n",
       "5758    7.572330  \n",
       "5759    8.459685  \n",
       "\n",
       "[5760 rows x 9 columns]"
      ]
     },
     "execution_count": 14,
     "metadata": {},
     "output_type": "execute_result"
    }
   ],
   "source": [
    "#s = Scenes.SceneBuilder(years = 4, subperiods = 1, days_in_subperiods = 1, dt=24, growth_rate = 0.025, discount_rate = 0.05)\n",
    "#s = Scenes.SceneBuilder(years = 4, subperiods = 1, days_in_subperiods = 1, dt=12, growth_rate = 0.025, discount_rate = 0.05)\n",
    "#s = Scenes.SceneBuilder(years = 20, subperiods = 12, days_in_subperiods = 1, growth_rate = 0.025, discount_rate = 0.03)\n",
    "s = Scenes.SceneBuilder(years = 20, subperiods = 12, days_in_subperiods = 1, growth_rate = 0.025, discount_rate = 0.03)\n",
    "scenes = s.build_scenes()\n",
    "scenes"
   ]
  },
  {
   "cell_type": "markdown",
   "id": "oriented-surrey",
   "metadata": {
    "id": "DrtD-E834lhY"
   },
   "source": [
    "## Model Construction"
   ]
  },
  {
   "cell_type": "markdown",
   "id": "complex-spread",
   "metadata": {
    "id": "spiritual-luxembourg"
   },
   "source": [
    "Construccion automatica del modelo\n",
    "Es un modelo de dimensionamiento de 3 DERs (WT+PV)"
   ]
  },
  {
   "cell_type": "code",
   "execution_count": 15,
   "id": "frank-faith",
   "metadata": {},
   "outputs": [],
   "source": [
    "model_writer = mw.MultiBusbarModelWriter(net, scenes, soft_limit_coefficient = 2.0)"
   ]
  },
  {
   "cell_type": "code",
   "execution_count": 16,
   "id": "apart-sponsorship",
   "metadata": {},
   "outputs": [],
   "source": [
    "net.ext_grid['model'][0] = Resources.ExtGrid('SET', pr_mw = 5.0, peak_value=200, valley_value=120, rest_value=160)\n",
    "#net.ext_grid['model'][0] = Resources.ExtGrid('SET', pr_mw = 5.0, peak_value=2000, valley_value=1500, rest_value=1000)"
   ]
  },
  {
   "cell_type": "code",
   "execution_count": 17,
   "id": "described-exchange",
   "metadata": {},
   "outputs": [],
   "source": [
    "net.load['model'][0] = Resources.Load('Tornquinst', pr_mw = 0.35)\n",
    "net.load['model'][1] = Resources.Load('Bell Ville', pr_mw = 0.85)\n",
    "net.load['model'][2] = Resources.Load('City Bell', pr_mw = 0.22)"
   ]
  },
  {
   "cell_type": "code",
   "execution_count": 18,
   "id": "arbitrary-thumb",
   "metadata": {},
   "outputs": [],
   "source": [
    "net.sgen['model'][0] = Resources.PVGenerator('PV1', ic_0_mu = 0.0, ic_1_mu = 1.02e6, oc_0_mu = 1.02, oc_1_mu = 0.0)\n",
    "net.sgen['model'][1] = Resources.WTGeneratorDiscrete('WT1', unit_size_mw = 0.19, unit_cost_mu = 541e3, oc_0_mu = 0.00, oc_1_mu = 1.70)\n",
    "net.sgen['model'][2] = Resources.PVGeneratorDiscrete('PV2', unit_size_mw = 0.05, unit_cost_mu = 51e3, oc_0_mu = 0.03, oc_1_mu = 0.0)"
   ]
  },
  {
   "cell_type": "code",
   "execution_count": 19,
   "id": "included-exclusion",
   "metadata": {},
   "outputs": [],
   "source": [
    "net.storage['model'][0] = Resources.Storage('ST1', ic_1_mu = 554e3, ic_1_mu_cap = 330e3, oc_1_mu = 2.28*4, eta_bb = 0.8, sigma = 2.1e-3)"
   ]
  },
  {
   "cell_type": "markdown",
   "id": "subtle-atlas",
   "metadata": {},
   "source": [
    "## Resolution"
   ]
  },
  {
   "cell_type": "code",
   "execution_count": 20,
   "id": "german-sword",
   "metadata": {},
   "outputs": [],
   "source": [
    "model = model_writer.create_model()"
   ]
  },
  {
   "cell_type": "code",
   "execution_count": 21,
   "id": "quality-society",
   "metadata": {},
   "outputs": [],
   "source": [
    "#model.pprint()"
   ]
  },
  {
   "cell_type": "code",
   "execution_count": 22,
   "id": "located-winning",
   "metadata": {},
   "outputs": [
    {
     "name": "stdout",
     "output_type": "stream",
     "text": [
      "\n",
      "Welcome to IBM(R) ILOG(R) CPLEX(R) Interactive Optimizer 20.1.0.0\n",
      "  with Simplex, Mixed Integer & Barrier Optimizers\n",
      "5725-A06 5725-A29 5724-Y48 5724-Y49 5724-Y54 5724-Y55 5655-Y21\n",
      "Copyright IBM Corp. 1988, 2020.  All Rights Reserved.\n",
      "\n",
      "Type 'help' for a list of available commands.\n",
      "Type 'help' followed by a command name for more\n",
      "information on commands.\n",
      "\n",
      "CPLEX> Logfile 'cplex.log' closed.\n",
      "Logfile 'C:\\Users\\jmsar\\AppData\\Local\\Temp\\tmp164ubn4r.cplex.log' open.\n",
      "CPLEX> Problem 'C:\\Users\\jmsar\\AppData\\Local\\Temp\\tmp9lg2v1h6.pyomo.lp' read.\n",
      "Read time = 1.55 sec. (39.26 ticks)\n",
      "CPLEX> Problem name         : C:\\Users\\jmsar\\AppData\\Local\\Temp\\tmp9lg2v1h6.pyomo.lp\n",
      "Objective sense      : Minimize\n",
      "Variables            :  311052  [Nneg: 195846,  Box: 40320,  Free: 5760,\n",
      "                                 Binary: 69124,  General Integer: 2]\n",
      "Objective nonzeros   :   51846\n",
      "Linear constraints   :  328328  [Less: 178565,  Equal: 149763]\n",
      "  Nonzeros           :  777550\n",
      "  RHS nonzeros       :  155521\n",
      "\n",
      "Variables            : Min LB: -2.811600        Max UB: 5.000000       \n",
      "Objective nonzeros   : Min   : 29.48854         Max   : 1020000.       \n",
      "Linear constraints   :\n",
      "  Nonzeros           : Min   : 1.375893e-05     Max   : 1000.000       \n",
      "  RHS nonzeros       : Min   : 0.02553123       Max   : 1000.000       \n",
      "CPLEX> Version identifier: 20.1.0.0 | 2020-11-10 | 9bedb6d68\n",
      "Tried aggregator 2 times.\n",
      "MIP Presolve eliminated 261845 rows and 238421 columns.\n",
      "MIP Presolve added 23417 rows and 0 columns.\n",
      "MIP Presolve modified 16482 coefficients.\n",
      "Aggregator did 5989 substitutions.\n",
      "Reduced MIP has 83911 rows, 66642 columns, and 196745 nonzeros.\n",
      "Reduced MIP has 11708 binaries, 2 generals, 0 SOSs, and 0 indicators.\n",
      "Presolve time = 1.30 sec. (463.16 ticks)\n",
      "Found incumbent of value 1.5273384e+09 after 2.88 sec. (2087.62 ticks)\n",
      "Probing fixed 0 vars, tightened 23416 bounds.\n",
      "Probing time = 4.42 sec. (1395.46 ticks)\n",
      "Tried aggregator 2 times.\n",
      "MIP Presolve eliminated 3 rows and 3 columns.\n",
      "MIP Presolve modified 35124 coefficients.\n",
      "Aggregator did 11001 substitutions.\n",
      "Reduced MIP has 72907 rows, 55638 columns, and 183196 nonzeros.\n",
      "Reduced MIP has 11707 binaries, 2 generals, 0 SOSs, and 0 indicators.\n",
      "Presolve time = 0.48 sec. (129.86 ticks)\n",
      "Probing time = 0.66 sec. (47.27 ticks)\n",
      "Tried aggregator 1 time.\n",
      "Detecting symmetries...\n",
      "Reduced MIP has 72907 rows, 55638 columns, and 183196 nonzeros.\n",
      "Reduced MIP has 11707 binaries, 2 generals, 0 SOSs, and 0 indicators.\n",
      "Presolve time = 0.28 sec. (103.09 ticks)\n",
      "Probing time = 0.66 sec. (44.25 ticks)\n",
      "Clique table members: 192.\n",
      "MIP emphasis: balance optimality and feasibility.\n",
      "MIP search method: dynamic search.\n",
      "Parallel mode: deterministic, using up to 4 threads.\n",
      "Root relaxation solution time = 4.20 sec. (2031.25 ticks)\n",
      "\n",
      "        Nodes                                         Cuts/\n",
      "   Node  Left     Objective  IInf  Best Integer    Best Bound    ItCnt     Gap\n",
      "\n",
      "*     0+    0                       1.52733e+09  -5.26321e+07           103.45%\n",
      "      0     0   1.12349e+07     1   1.52733e+09   1.12349e+07       44   99.26%\n",
      "*     0+    0                       1.12396e+07   1.12349e+07             0.04%\n",
      "*     0+    0                       1.12349e+07   1.12349e+07             0.00%\n",
      "      0     0        cutoff         1.12349e+07   1.12349e+07       44    0.00%\n",
      "Elapsed time = 15.17 sec. (6273.85 ticks, tree = 0.01 MB, solutions = 4)\n",
      "\n",
      "Root node processing (before b&c):\n",
      "  Real time             =   15.25 sec. (6289.80 ticks)\n",
      "Parallel b&c, 4 threads:\n",
      "  Real time             =    0.00 sec. (0.00 ticks)\n",
      "  Sync time (average)   =    0.00 sec.\n",
      "  Wait time (average)   =    0.00 sec.\n",
      "                          ------------\n",
      "Total (root+branch&cut) =   15.25 sec. (6289.80 ticks)\n",
      "\n",
      "Solution pool: 4 solutions saved.\n",
      "\n",
      "MIP - Integer optimal solution:  Objective =  1.1234904383e+07\n",
      "Solution time =   15.27 sec.  Iterations = 44  Nodes = 0\n",
      "Deterministic time = 6290.69 ticks  (412.07 ticks/sec)\n",
      "\n",
      "CPLEX> Incumbent solution written to file 'C:\\Users\\jmsar\\AppData\\Local\\Temp\\tmpcptrrh24.cplex.sol'.\n",
      "CPLEX> "
     ]
    }
   ],
   "source": [
    "#solver_manager = pe.SolverManagerFactory('neos')\n",
    "#result_obj = solver_manager.solve(model.model, opt='cplex')\n",
    "\n",
    "opt = pe.SolverFactory('cplex')\n",
    "#opt = pe.SolverFactory('glpk')\n",
    "result_obj= opt.solve(model, tee=True)"
   ]
  },
  {
   "cell_type": "code",
   "execution_count": 23,
   "id": "dynamic-chaos",
   "metadata": {},
   "outputs": [],
   "source": [
    "model_writer.backconfigure_network()"
   ]
  },
  {
   "cell_type": "code",
   "execution_count": 24,
   "id": "normal-drinking",
   "metadata": {},
   "outputs": [
    {
     "data": {
      "text/html": [
       "<div>\n",
       "<style scoped>\n",
       "    .dataframe tbody tr th:only-of-type {\n",
       "        vertical-align: middle;\n",
       "    }\n",
       "\n",
       "    .dataframe tbody tr th {\n",
       "        vertical-align: top;\n",
       "    }\n",
       "\n",
       "    .dataframe thead th {\n",
       "        text-align: right;\n",
       "    }\n",
       "</style>\n",
       "<table border=\"1\" class=\"dataframe\">\n",
       "  <thead>\n",
       "    <tr style=\"text-align: right;\">\n",
       "      <th></th>\n",
       "      <th>name</th>\n",
       "      <th>bus</th>\n",
       "      <th>p_mw</th>\n",
       "      <th>q_mvar</th>\n",
       "      <th>sn_mva</th>\n",
       "      <th>scaling</th>\n",
       "      <th>in_service</th>\n",
       "      <th>type</th>\n",
       "      <th>current_source</th>\n",
       "      <th>max_p_mw</th>\n",
       "      <th>max_q_mvar</th>\n",
       "      <th>model</th>\n",
       "    </tr>\n",
       "  </thead>\n",
       "  <tbody>\n",
       "    <tr>\n",
       "      <th>0</th>\n",
       "      <td>None</td>\n",
       "      <td>1</td>\n",
       "      <td>0.075</td>\n",
       "      <td>0.025</td>\n",
       "      <td>NaN</td>\n",
       "      <td>1.0</td>\n",
       "      <td>True</td>\n",
       "      <td>wye</td>\n",
       "      <td>True</td>\n",
       "      <td>1.974009</td>\n",
       "      <td>0.987004</td>\n",
       "      <td>Resource: PV1</td>\n",
       "    </tr>\n",
       "    <tr>\n",
       "      <th>1</th>\n",
       "      <td>None</td>\n",
       "      <td>3</td>\n",
       "      <td>0.150</td>\n",
       "      <td>0.000</td>\n",
       "      <td>NaN</td>\n",
       "      <td>1.0</td>\n",
       "      <td>True</td>\n",
       "      <td>wye</td>\n",
       "      <td>True</td>\n",
       "      <td>0.000000</td>\n",
       "      <td>0.000000</td>\n",
       "      <td>Resource: WT1</td>\n",
       "    </tr>\n",
       "    <tr>\n",
       "      <th>2</th>\n",
       "      <td>None</td>\n",
       "      <td>4</td>\n",
       "      <td>0.080</td>\n",
       "      <td>0.000</td>\n",
       "      <td>NaN</td>\n",
       "      <td>1.0</td>\n",
       "      <td>True</td>\n",
       "      <td>wye</td>\n",
       "      <td>True</td>\n",
       "      <td>2.050000</td>\n",
       "      <td>1.025000</td>\n",
       "      <td>Resource: PV2</td>\n",
       "    </tr>\n",
       "  </tbody>\n",
       "</table>\n",
       "</div>"
      ],
      "text/plain": [
       "   name  bus   p_mw  q_mvar  sn_mva  scaling  in_service type  current_source  \\\n",
       "0  None    1  0.075   0.025     NaN      1.0        True  wye            True   \n",
       "1  None    3  0.150   0.000     NaN      1.0        True  wye            True   \n",
       "2  None    4  0.080   0.000     NaN      1.0        True  wye            True   \n",
       "\n",
       "   max_p_mw  max_q_mvar          model  \n",
       "0  1.974009    0.987004  Resource: PV1  \n",
       "1  0.000000    0.000000  Resource: WT1  \n",
       "2  2.050000    1.025000  Resource: PV2  "
      ]
     },
     "execution_count": 24,
     "metadata": {},
     "output_type": "execute_result"
    }
   ],
   "source": [
    "model_writer.net.sgen"
   ]
  },
  {
   "cell_type": "code",
   "execution_count": 25,
   "id": "loved-formation",
   "metadata": {},
   "outputs": [
    {
     "data": {
      "text/plain": [
       "41.0"
      ]
     },
     "execution_count": 25,
     "metadata": {},
     "output_type": "execute_result"
    }
   ],
   "source": [
    "net.sgen['model'][2].units.value"
   ]
  },
  {
   "cell_type": "code",
   "execution_count": 26,
   "id": "neural-wonder",
   "metadata": {},
   "outputs": [
    {
     "data": {
      "text/html": [
       "<div>\n",
       "<style scoped>\n",
       "    .dataframe tbody tr th:only-of-type {\n",
       "        vertical-align: middle;\n",
       "    }\n",
       "\n",
       "    .dataframe tbody tr th {\n",
       "        vertical-align: top;\n",
       "    }\n",
       "\n",
       "    .dataframe thead th {\n",
       "        text-align: right;\n",
       "    }\n",
       "</style>\n",
       "<table border=\"1\" class=\"dataframe\">\n",
       "  <thead>\n",
       "    <tr style=\"text-align: right;\">\n",
       "      <th></th>\n",
       "      <th>name</th>\n",
       "      <th>bus</th>\n",
       "      <th>p_mw</th>\n",
       "      <th>q_mvar</th>\n",
       "      <th>sn_mva</th>\n",
       "      <th>soc_percent</th>\n",
       "      <th>min_e_mwh</th>\n",
       "      <th>max_e_mwh</th>\n",
       "      <th>scaling</th>\n",
       "      <th>in_service</th>\n",
       "      <th>type</th>\n",
       "      <th>model</th>\n",
       "    </tr>\n",
       "  </thead>\n",
       "  <tbody>\n",
       "    <tr>\n",
       "      <th>0</th>\n",
       "      <td>None</td>\n",
       "      <td>3</td>\n",
       "      <td>0.25</td>\n",
       "      <td>0.1</td>\n",
       "      <td>NaN</td>\n",
       "      <td>NaN</td>\n",
       "      <td>0.0</td>\n",
       "      <td>7.445316</td>\n",
       "      <td>1.0</td>\n",
       "      <td>True</td>\n",
       "      <td>None</td>\n",
       "      <td>Resource: ST1</td>\n",
       "    </tr>\n",
       "  </tbody>\n",
       "</table>\n",
       "</div>"
      ],
      "text/plain": [
       "   name  bus  p_mw  q_mvar  sn_mva  soc_percent  min_e_mwh  max_e_mwh  \\\n",
       "0  None    3  0.25     0.1     NaN          NaN        0.0   7.445316   \n",
       "\n",
       "   scaling  in_service  type          model  \n",
       "0      1.0        True  None  Resource: ST1  "
      ]
     },
     "execution_count": 26,
     "metadata": {},
     "output_type": "execute_result"
    }
   ],
   "source": [
    "model_writer.net.storage"
   ]
  },
  {
   "cell_type": "code",
   "execution_count": 27,
   "id": "simple-circular",
   "metadata": {
    "tags": []
   },
   "outputs": [],
   "source": [
    "Resultados = model_writer.get_scenes_results()"
   ]
  },
  {
   "cell_type": "code",
   "execution_count": 28,
   "id": "confident-provider",
   "metadata": {
    "colab": {
     "base_uri": "https://localhost:8080/",
     "height": 424
    },
    "executionInfo": {
     "elapsed": 699,
     "status": "ok",
     "timestamp": 1619873491559,
     "user": {
      "displayName": "Juan Sardón",
      "photoUrl": "https://lh3.googleusercontent.com/a-/AOh14Gh0hE4Hw8M0I17k-o2PXxLB5i6gNZV_oUTpZlyJ3Q=s64",
      "userId": "08267034058673099115"
     },
     "user_tz": 180
    },
    "id": "tropical-completion",
    "outputId": "082e0a6f-0230-4e8e-b532-e95c63049c68"
   },
   "outputs": [
    {
     "data": {
      "text/html": [
       "<div>\n",
       "<style scoped>\n",
       "    .dataframe tbody tr th:only-of-type {\n",
       "        vertical-align: middle;\n",
       "    }\n",
       "\n",
       "    .dataframe tbody tr th {\n",
       "        vertical-align: top;\n",
       "    }\n",
       "\n",
       "    .dataframe thead th {\n",
       "        text-align: right;\n",
       "    }\n",
       "</style>\n",
       "<table border=\"1\" class=\"dataframe\">\n",
       "  <thead>\n",
       "    <tr style=\"text-align: right;\">\n",
       "      <th></th>\n",
       "      <th>SET_p_mw</th>\n",
       "      <th>Tornquinst_p_mw</th>\n",
       "      <th>Bell Ville_p_mw</th>\n",
       "      <th>City Bell_p_mw</th>\n",
       "      <th>PV1_p_mw</th>\n",
       "      <th>WT1_p_mw</th>\n",
       "      <th>PV2_p_mw</th>\n",
       "      <th>ST1_p_mw</th>\n",
       "      <th>ST1_soc_mwh</th>\n",
       "      <th>L 0_1_pf_mw</th>\n",
       "      <th>...</th>\n",
       "      <th>L 1_2_pf_mw</th>\n",
       "      <th>L 1_2_ep_mw</th>\n",
       "      <th>L 0_3_pf_mw</th>\n",
       "      <th>L 0_3_ep_mw</th>\n",
       "      <th>L 0_4_pf_mw</th>\n",
       "      <th>L 0_4_ep_mw</th>\n",
       "      <th>L 4_5_pf_mw</th>\n",
       "      <th>L 4_5_ep_mw</th>\n",
       "      <th>L 0_6_pf_mw</th>\n",
       "      <th>L 0_6_ep_mw</th>\n",
       "    </tr>\n",
       "  </thead>\n",
       "  <tbody>\n",
       "    <tr>\n",
       "      <th>0</th>\n",
       "      <td>0.368269</td>\n",
       "      <td>-0.075254</td>\n",
       "      <td>-0.234635</td>\n",
       "      <td>-0.058381</td>\n",
       "      <td>0.0</td>\n",
       "      <td>0.0</td>\n",
       "      <td>0.0</td>\n",
       "      <td>0.000000</td>\n",
       "      <td>0.000000</td>\n",
       "      <td>-0.075254</td>\n",
       "      <td>...</td>\n",
       "      <td>-0.075254</td>\n",
       "      <td>0.0</td>\n",
       "      <td>0.000000</td>\n",
       "      <td>0.0</td>\n",
       "      <td>-0.234635</td>\n",
       "      <td>0.0</td>\n",
       "      <td>-0.234635</td>\n",
       "      <td>0.0</td>\n",
       "      <td>-0.058381</td>\n",
       "      <td>0.0</td>\n",
       "    </tr>\n",
       "    <tr>\n",
       "      <th>1</th>\n",
       "      <td>0.353827</td>\n",
       "      <td>-0.078017</td>\n",
       "      <td>-0.214401</td>\n",
       "      <td>-0.061409</td>\n",
       "      <td>0.0</td>\n",
       "      <td>0.0</td>\n",
       "      <td>0.0</td>\n",
       "      <td>0.000000</td>\n",
       "      <td>0.000000</td>\n",
       "      <td>-0.078017</td>\n",
       "      <td>...</td>\n",
       "      <td>-0.078017</td>\n",
       "      <td>0.0</td>\n",
       "      <td>0.000000</td>\n",
       "      <td>0.0</td>\n",
       "      <td>-0.214401</td>\n",
       "      <td>0.0</td>\n",
       "      <td>-0.214401</td>\n",
       "      <td>0.0</td>\n",
       "      <td>-0.061409</td>\n",
       "      <td>0.0</td>\n",
       "    </tr>\n",
       "    <tr>\n",
       "      <th>2</th>\n",
       "      <td>0.950976</td>\n",
       "      <td>-0.088830</td>\n",
       "      <td>-0.168002</td>\n",
       "      <td>-0.054102</td>\n",
       "      <td>0.0</td>\n",
       "      <td>0.0</td>\n",
       "      <td>0.0</td>\n",
       "      <td>-0.640042</td>\n",
       "      <td>0.512033</td>\n",
       "      <td>-0.088830</td>\n",
       "      <td>...</td>\n",
       "      <td>-0.088830</td>\n",
       "      <td>0.0</td>\n",
       "      <td>-0.640042</td>\n",
       "      <td>0.0</td>\n",
       "      <td>-0.168002</td>\n",
       "      <td>0.0</td>\n",
       "      <td>-0.168002</td>\n",
       "      <td>0.0</td>\n",
       "      <td>-0.054102</td>\n",
       "      <td>0.0</td>\n",
       "    </tr>\n",
       "    <tr>\n",
       "      <th>3</th>\n",
       "      <td>2.001099</td>\n",
       "      <td>-0.094722</td>\n",
       "      <td>-0.166559</td>\n",
       "      <td>-0.043938</td>\n",
       "      <td>0.0</td>\n",
       "      <td>0.0</td>\n",
       "      <td>0.0</td>\n",
       "      <td>-1.695880</td>\n",
       "      <td>1.867662</td>\n",
       "      <td>-0.094722</td>\n",
       "      <td>...</td>\n",
       "      <td>-0.094722</td>\n",
       "      <td>0.0</td>\n",
       "      <td>-1.695880</td>\n",
       "      <td>0.0</td>\n",
       "      <td>-0.166559</td>\n",
       "      <td>0.0</td>\n",
       "      <td>-0.166559</td>\n",
       "      <td>0.0</td>\n",
       "      <td>-0.043938</td>\n",
       "      <td>0.0</td>\n",
       "    </tr>\n",
       "    <tr>\n",
       "      <th>4</th>\n",
       "      <td>2.087873</td>\n",
       "      <td>-0.097042</td>\n",
       "      <td>-0.239086</td>\n",
       "      <td>-0.055865</td>\n",
       "      <td>0.0</td>\n",
       "      <td>0.0</td>\n",
       "      <td>0.0</td>\n",
       "      <td>-1.695880</td>\n",
       "      <td>3.220444</td>\n",
       "      <td>-0.097042</td>\n",
       "      <td>...</td>\n",
       "      <td>-0.097042</td>\n",
       "      <td>0.0</td>\n",
       "      <td>-1.695880</td>\n",
       "      <td>0.0</td>\n",
       "      <td>-0.239086</td>\n",
       "      <td>0.0</td>\n",
       "      <td>-0.239086</td>\n",
       "      <td>0.0</td>\n",
       "      <td>-0.055865</td>\n",
       "      <td>0.0</td>\n",
       "    </tr>\n",
       "    <tr>\n",
       "      <th>...</th>\n",
       "      <td>...</td>\n",
       "      <td>...</td>\n",
       "      <td>...</td>\n",
       "      <td>...</td>\n",
       "      <td>...</td>\n",
       "      <td>...</td>\n",
       "      <td>...</td>\n",
       "      <td>...</td>\n",
       "      <td>...</td>\n",
       "      <td>...</td>\n",
       "      <td>...</td>\n",
       "      <td>...</td>\n",
       "      <td>...</td>\n",
       "      <td>...</td>\n",
       "      <td>...</td>\n",
       "      <td>...</td>\n",
       "      <td>...</td>\n",
       "      <td>...</td>\n",
       "      <td>...</td>\n",
       "      <td>...</td>\n",
       "      <td>...</td>\n",
       "    </tr>\n",
       "    <tr>\n",
       "      <th>5755</th>\n",
       "      <td>0.731199</td>\n",
       "      <td>-0.691334</td>\n",
       "      <td>-1.364035</td>\n",
       "      <td>-0.371710</td>\n",
       "      <td>0.0</td>\n",
       "      <td>0.0</td>\n",
       "      <td>0.0</td>\n",
       "      <td>1.695880</td>\n",
       "      <td>3.059008</td>\n",
       "      <td>-0.691334</td>\n",
       "      <td>...</td>\n",
       "      <td>-0.691334</td>\n",
       "      <td>0.0</td>\n",
       "      <td>1.695880</td>\n",
       "      <td>0.0</td>\n",
       "      <td>-1.364035</td>\n",
       "      <td>0.0</td>\n",
       "      <td>-1.364035</td>\n",
       "      <td>0.0</td>\n",
       "      <td>-0.371710</td>\n",
       "      <td>0.0</td>\n",
       "    </tr>\n",
       "    <tr>\n",
       "      <th>5756</th>\n",
       "      <td>0.885787</td>\n",
       "      <td>-0.728746</td>\n",
       "      <td>-1.390388</td>\n",
       "      <td>-0.462533</td>\n",
       "      <td>0.0</td>\n",
       "      <td>0.0</td>\n",
       "      <td>0.0</td>\n",
       "      <td>1.695880</td>\n",
       "      <td>1.695880</td>\n",
       "      <td>-0.728746</td>\n",
       "      <td>...</td>\n",
       "      <td>-0.728746</td>\n",
       "      <td>0.0</td>\n",
       "      <td>1.695880</td>\n",
       "      <td>0.0</td>\n",
       "      <td>-1.390388</td>\n",
       "      <td>0.0</td>\n",
       "      <td>-1.390388</td>\n",
       "      <td>0.0</td>\n",
       "      <td>-0.462533</td>\n",
       "      <td>0.0</td>\n",
       "    </tr>\n",
       "    <tr>\n",
       "      <th>5757</th>\n",
       "      <td>1.703434</td>\n",
       "      <td>-0.731263</td>\n",
       "      <td>-1.536999</td>\n",
       "      <td>-0.375349</td>\n",
       "      <td>0.0</td>\n",
       "      <td>0.0</td>\n",
       "      <td>0.0</td>\n",
       "      <td>0.940177</td>\n",
       "      <td>0.940177</td>\n",
       "      <td>-0.731263</td>\n",
       "      <td>...</td>\n",
       "      <td>-0.731263</td>\n",
       "      <td>0.0</td>\n",
       "      <td>0.940177</td>\n",
       "      <td>0.0</td>\n",
       "      <td>-1.536999</td>\n",
       "      <td>0.0</td>\n",
       "      <td>-1.536999</td>\n",
       "      <td>0.0</td>\n",
       "      <td>-0.375349</td>\n",
       "      <td>0.0</td>\n",
       "    </tr>\n",
       "    <tr>\n",
       "      <th>5758</th>\n",
       "      <td>0.158599</td>\n",
       "      <td>-0.156043</td>\n",
       "      <td>-0.398885</td>\n",
       "      <td>-0.124894</td>\n",
       "      <td>0.0</td>\n",
       "      <td>0.0</td>\n",
       "      <td>0.0</td>\n",
       "      <td>0.521224</td>\n",
       "      <td>0.521224</td>\n",
       "      <td>-0.156043</td>\n",
       "      <td>...</td>\n",
       "      <td>-0.156043</td>\n",
       "      <td>0.0</td>\n",
       "      <td>0.521224</td>\n",
       "      <td>0.0</td>\n",
       "      <td>-0.398885</td>\n",
       "      <td>0.0</td>\n",
       "      <td>-0.398885</td>\n",
       "      <td>0.0</td>\n",
       "      <td>-0.124894</td>\n",
       "      <td>0.0</td>\n",
       "    </tr>\n",
       "    <tr>\n",
       "      <th>5759</th>\n",
       "      <td>0.485780</td>\n",
       "      <td>-0.162569</td>\n",
       "      <td>-0.478405</td>\n",
       "      <td>-0.133767</td>\n",
       "      <td>0.0</td>\n",
       "      <td>0.0</td>\n",
       "      <td>0.0</td>\n",
       "      <td>0.288961</td>\n",
       "      <td>0.288961</td>\n",
       "      <td>-0.162569</td>\n",
       "      <td>...</td>\n",
       "      <td>-0.162569</td>\n",
       "      <td>0.0</td>\n",
       "      <td>0.288961</td>\n",
       "      <td>0.0</td>\n",
       "      <td>-0.478405</td>\n",
       "      <td>0.0</td>\n",
       "      <td>-0.478405</td>\n",
       "      <td>0.0</td>\n",
       "      <td>-0.133767</td>\n",
       "      <td>0.0</td>\n",
       "    </tr>\n",
       "  </tbody>\n",
       "</table>\n",
       "<p>5760 rows × 21 columns</p>\n",
       "</div>"
      ],
      "text/plain": [
       "      SET_p_mw  Tornquinst_p_mw  Bell Ville_p_mw  City Bell_p_mw  PV1_p_mw  \\\n",
       "0     0.368269        -0.075254        -0.234635       -0.058381       0.0   \n",
       "1     0.353827        -0.078017        -0.214401       -0.061409       0.0   \n",
       "2     0.950976        -0.088830        -0.168002       -0.054102       0.0   \n",
       "3     2.001099        -0.094722        -0.166559       -0.043938       0.0   \n",
       "4     2.087873        -0.097042        -0.239086       -0.055865       0.0   \n",
       "...        ...              ...              ...             ...       ...   \n",
       "5755  0.731199        -0.691334        -1.364035       -0.371710       0.0   \n",
       "5756  0.885787        -0.728746        -1.390388       -0.462533       0.0   \n",
       "5757  1.703434        -0.731263        -1.536999       -0.375349       0.0   \n",
       "5758  0.158599        -0.156043        -0.398885       -0.124894       0.0   \n",
       "5759  0.485780        -0.162569        -0.478405       -0.133767       0.0   \n",
       "\n",
       "      WT1_p_mw  PV2_p_mw  ST1_p_mw  ST1_soc_mwh  L 0_1_pf_mw  ...  \\\n",
       "0          0.0       0.0  0.000000     0.000000    -0.075254  ...   \n",
       "1          0.0       0.0  0.000000     0.000000    -0.078017  ...   \n",
       "2          0.0       0.0 -0.640042     0.512033    -0.088830  ...   \n",
       "3          0.0       0.0 -1.695880     1.867662    -0.094722  ...   \n",
       "4          0.0       0.0 -1.695880     3.220444    -0.097042  ...   \n",
       "...        ...       ...       ...          ...          ...  ...   \n",
       "5755       0.0       0.0  1.695880     3.059008    -0.691334  ...   \n",
       "5756       0.0       0.0  1.695880     1.695880    -0.728746  ...   \n",
       "5757       0.0       0.0  0.940177     0.940177    -0.731263  ...   \n",
       "5758       0.0       0.0  0.521224     0.521224    -0.156043  ...   \n",
       "5759       0.0       0.0  0.288961     0.288961    -0.162569  ...   \n",
       "\n",
       "      L 1_2_pf_mw  L 1_2_ep_mw  L 0_3_pf_mw  L 0_3_ep_mw  L 0_4_pf_mw  \\\n",
       "0       -0.075254          0.0     0.000000          0.0    -0.234635   \n",
       "1       -0.078017          0.0     0.000000          0.0    -0.214401   \n",
       "2       -0.088830          0.0    -0.640042          0.0    -0.168002   \n",
       "3       -0.094722          0.0    -1.695880          0.0    -0.166559   \n",
       "4       -0.097042          0.0    -1.695880          0.0    -0.239086   \n",
       "...           ...          ...          ...          ...          ...   \n",
       "5755    -0.691334          0.0     1.695880          0.0    -1.364035   \n",
       "5756    -0.728746          0.0     1.695880          0.0    -1.390388   \n",
       "5757    -0.731263          0.0     0.940177          0.0    -1.536999   \n",
       "5758    -0.156043          0.0     0.521224          0.0    -0.398885   \n",
       "5759    -0.162569          0.0     0.288961          0.0    -0.478405   \n",
       "\n",
       "      L 0_4_ep_mw  L 4_5_pf_mw  L 4_5_ep_mw  L 0_6_pf_mw  L 0_6_ep_mw  \n",
       "0             0.0    -0.234635          0.0    -0.058381          0.0  \n",
       "1             0.0    -0.214401          0.0    -0.061409          0.0  \n",
       "2             0.0    -0.168002          0.0    -0.054102          0.0  \n",
       "3             0.0    -0.166559          0.0    -0.043938          0.0  \n",
       "4             0.0    -0.239086          0.0    -0.055865          0.0  \n",
       "...           ...          ...          ...          ...          ...  \n",
       "5755          0.0    -1.364035          0.0    -0.371710          0.0  \n",
       "5756          0.0    -1.390388          0.0    -0.462533          0.0  \n",
       "5757          0.0    -1.536999          0.0    -0.375349          0.0  \n",
       "5758          0.0    -0.398885          0.0    -0.124894          0.0  \n",
       "5759          0.0    -0.478405          0.0    -0.133767          0.0  \n",
       "\n",
       "[5760 rows x 21 columns]"
      ]
     },
     "execution_count": 28,
     "metadata": {},
     "output_type": "execute_result"
    }
   ],
   "source": [
    "Resultados"
   ]
  },
  {
   "cell_type": "code",
   "execution_count": 29,
   "id": "opponent-divorce",
   "metadata": {
    "colab": {
     "base_uri": "https://localhost:8080/",
     "height": 388
    },
    "executionInfo": {
     "elapsed": 1336,
     "status": "ok",
     "timestamp": 1619873495814,
     "user": {
      "displayName": "Juan Sardón",
      "photoUrl": "https://lh3.googleusercontent.com/a-/AOh14Gh0hE4Hw8M0I17k-o2PXxLB5i6gNZV_oUTpZlyJ3Q=s64",
      "userId": "08267034058673099115"
     },
     "user_tz": 180
    },
    "id": "planned-memorial",
    "outputId": "11488d44-f6a7-46f5-dd15-9afe980a328c"
   },
   "outputs": [
    {
     "data": {
      "image/png": "[encoded data removed]",
      "text/plain": [
       "<Figure size 720x432 with 1 Axes>"
      ]
     },
     "metadata": {
      "needs_background": "light"
     },
     "output_type": "display_data"
    }
   ],
   "source": [
    "# Set the plot curve with markers and a title\n",
    "fig, ax = plt.subplots(1, 1)\n",
    "\n",
    "fig.set_size_inches(10,6)\n",
    "#a=180*24\n",
    "#b=360\n",
    "#b=180*24+5*24\n",
    "a=0\n",
    "b=240\n",
    "for col in Resultados:\n",
    "    ax.plot(Resultados[col][a:b], label = col)\n",
    "\n",
    "ax.set_xlabel('time')\n",
    "ax.set_ylabel('P[mw]')\n",
    "\n",
    "ax.legend()\n",
    "\n",
    "ax.grid(True)\n",
    "\n",
    "\n",
    "plt.show()"
   ]
  },
  {
   "cell_type": "code",
   "execution_count": 30,
   "id": "social-tribe",
   "metadata": {},
   "outputs": [
    {
     "data": {
      "image/png": "[encoded data removed]",
      "text/plain": [
       "<Figure size 720x432 with 1 Axes>"
      ]
     },
     "metadata": {
      "needs_background": "light"
     },
     "output_type": "display_data"
    }
   ],
   "source": [
    "# Set the plot curve with markers and a title\n",
    "fig, ax = plt.subplots(1, 1)\n",
    "\n",
    "fig.set_size_inches(10,6)\n",
    "#a=180*24\n",
    "#b=360\n",
    "#b=180*24+5*24\n",
    "a=0\n",
    "b=240\n",
    "\n",
    "selected_cols = ['L 0_1_pf_mw', 'L 0_1_ep_mw', 'L 1_2_pf_mw', 'L 1_2_ep_mw', 'L 0_6_pf_mw', 'L 0_6_ep_mw']\n",
    "selected_cols = ['L 0_3_pf_mw', 'L 0_3_ep_mw', 'L 0_4_pf_mw', 'L 0_4_ep_mw', 'L 4_5_pf_mw', 'L 4_5_ep_mw']\n",
    "for col in selected_cols:\n",
    "    ax.plot(Resultados[col][a:b], label = col)\n",
    "\n",
    "ax.set_xlabel('time')\n",
    "ax.set_ylabel('P[mw]')\n",
    "\n",
    "ax.legend()\n",
    "\n",
    "ax.grid(True)\n",
    "\n",
    "\n",
    "plt.show()"
   ]
  },
  {
   "cell_type": "code",
   "execution_count": null,
   "id": "initial-framework",
   "metadata": {},
   "outputs": [],
   "source": []
  }
 ],
 "metadata": {
  "colab": {
   "name": "Prueba PP-Pyomo-4.ipynb",
   "provenance": []
  },
  "kernelspec": {
   "display_name": "Python 3",
   "language": "python",
   "name": "python3"
  },
  "language_info": {
   "codemirror_mode": {
    "name": "ipython",
    "version": 3
   },
   "file_extension": ".py",
   "mimetype": "text/x-python",
   "name": "python",
   "nbconvert_exporter": "python",
   "pygments_lexer": "ipython3",
   "version": "3.8.8"
  }
 },
 "nbformat": 4,
 "nbformat_minor": 5
}
