{
 "cells": [
  {
   "cell_type": "code",
   "execution_count": 1,
   "id": "hourly-organic",
   "metadata": {},
   "outputs": [],
   "source": [
    "import pandapower as pp"
   ]
  },
  {
   "cell_type": "code",
   "execution_count": 2,
   "id": "outer-hampshire",
   "metadata": {},
   "outputs": [],
   "source": [
    "import pyomo.environ as pe"
   ]
  },
  {
   "cell_type": "code",
   "execution_count": 3,
   "id": "logical-aggregate",
   "metadata": {},
   "outputs": [],
   "source": [
    "import math"
   ]
  },
  {
   "cell_type": "code",
   "execution_count": 4,
   "id": "equal-genesis",
   "metadata": {},
   "outputs": [],
   "source": [
    "import random"
   ]
  },
  {
   "cell_type": "code",
   "execution_count": 5,
   "id": "sticky-shopping",
   "metadata": {},
   "outputs": [
    {
     "data": {
      "text/plain": [
       "0"
      ]
     },
     "execution_count": 5,
     "metadata": {},
     "output_type": "execute_result"
    }
   ],
   "source": [
    "net = pp.create_empty_network() \n",
    "b1 = pp.create_bus(net, vn_kv=13.2)\n",
    "b2 = pp.create_bus(net, vn_kv=13.2)\n",
    "b3 = pp.create_bus(net, vn_kv=13.2)\n",
    "b4 = pp.create_bus(net, vn_kv=13.2)\n",
    "\n",
    "pp.create_line(net, from_bus=b1, to_bus=b2, length_km=0.8, std_type=\"NAYY 4x50 SE\")\n",
    "pp.create_line(net, from_bus=b2, to_bus=b3, length_km=1.2, std_type=\"NAYY 4x50 SE\")\n",
    "pp.create_line(net, from_bus=b3, to_bus=b4, length_km=1.0, std_type=\"NAYY 4x50 SE\")\n",
    "\n",
    "pp.create_ext_grid(net, bus=b1)\n",
    "\n",
    "pp.create_load(net, bus=b3, p_mw=0.350)"
   ]
  },
  {
   "cell_type": "code",
   "execution_count": 6,
   "id": "wooden-farming",
   "metadata": {},
   "outputs": [],
   "source": [
    " pp.runpp(net)"
   ]
  },
  {
   "cell_type": "code",
   "execution_count": null,
   "id": "sporting-investigator",
   "metadata": {},
   "outputs": [],
   "source": []
  },
  {
   "cell_type": "code",
   "execution_count": 7,
   "id": "coral-preview",
   "metadata": {},
   "outputs": [
    {
     "name": "stdout",
     "output_type": "stream",
     "text": [
      "0    1.000000\n",
      "1    0.998977\n",
      "2    0.997436\n",
      "3    0.997439\n",
      "Name: vm_pu, dtype: float64\n",
      "      p_from_mw  q_from_mvar       p_to_mw     q_to_mvar         pl_mw  \\\n",
      "0  3.509116e-01    -0.034250 -3.505460e-01  2.511060e-02  3.655632e-04   \n",
      "1  3.505460e-01    -0.025111 -3.500001e-01  1.143635e-02  5.459089e-04   \n",
      "2  1.210575e-07    -0.011436  3.942859e-11 -3.873803e-10  1.210970e-07   \n",
      "\n",
      "    ql_mvar  i_from_ka       i_to_ka      i_ka  vm_from_pu  va_from_degree  \\\n",
      "0 -0.009140   0.015421  1.538744e-02  0.015421    1.000000        0.000000   \n",
      "1 -0.013674   0.015387  1.535608e-02  0.015387    0.998977       -0.012683   \n",
      "2 -0.011436   0.000501  1.707477e-11  0.000501    0.997436       -0.028839   \n",
      "\n",
      "   vm_to_pu  va_to_degree  loading_percent  \n",
      "0  0.998977     -0.012683        10.860096  \n",
      "1  0.997436     -0.028839        10.836226  \n",
      "2  0.997439     -0.030053         0.353167  \n"
     ]
    }
   ],
   "source": [
    "print(net.res_bus.vm_pu)\n",
    "print(net.res_line)"
   ]
  },
  {
   "cell_type": "code",
   "execution_count": 8,
   "id": "helpful-ukraine",
   "metadata": {},
   "outputs": [
    {
     "data": {
      "text/plain": [
       "1"
      ]
     },
     "execution_count": 8,
     "metadata": {},
     "output_type": "execute_result"
    }
   ],
   "source": [
    "pp.create_sgen(net, b2, p_mw=0.05, q_mvar=0.025, max_p_mw=0.2, max_q_mvar=0.2)\n",
    "pp.create_sgen(net, b4, p_mw=0.07, q_mvar=0.025, max_p_mw=0.3, max_q_mvar=0.2)\n"
   ]
  },
  {
   "cell_type": "code",
   "execution_count": 9,
   "id": "retired-maine",
   "metadata": {},
   "outputs": [],
   "source": [
    "pp.runpp(net)"
   ]
  },
  {
   "cell_type": "code",
   "execution_count": 10,
   "id": "acting-sharp",
   "metadata": {},
   "outputs": [
    {
     "name": "stdout",
     "output_type": "stream",
     "text": [
      "0    1.000000\n",
      "1    0.999351\n",
      "2    0.998135\n",
      "3    0.998408\n",
      "Name: vm_pu, dtype: float64\n",
      "   p_from_mw  q_from_mvar   p_to_mw  q_to_mvar     pl_mw   ql_mvar  i_from_ka  \\\n",
      "0   0.230553    -0.084334 -0.230378   0.075166  0.000175 -0.009168   0.010738   \n",
      "1   0.280378    -0.050166 -0.280022   0.036453  0.000356 -0.013714   0.012466   \n",
      "2  -0.069978    -0.036453  0.070000   0.025000  0.000022 -0.011453   0.003458   \n",
      "\n",
      "    i_to_ka      i_ka  vm_from_pu  va_from_degree  vm_to_pu  va_to_degree  \\\n",
      "0  0.010606  0.010738    1.000000        0.000000  0.999351     -0.018512   \n",
      "1  0.012374  0.012466    0.999351       -0.018512  0.998135     -0.038710   \n",
      "2  0.003256  0.003458    0.998135       -0.038710  0.998408     -0.043302   \n",
      "\n",
      "   loading_percent  \n",
      "0         7.561657  \n",
      "1         8.779012  \n",
      "2         2.434919  \n"
     ]
    }
   ],
   "source": [
    "print(net.res_bus.vm_pu)\n",
    "print(net.res_line)"
   ]
  },
  {
   "cell_type": "code",
   "execution_count": 11,
   "id": "composite-relay",
   "metadata": {},
   "outputs": [
    {
     "name": "stdout",
     "output_type": "stream",
     "text": [
      "This pandapower network includes the following parameter tables:\n",
      "   - bus (4 elements)\n",
      "   - load (1 element)\n",
      "   - sgen (2 elements)\n",
      "   - ext_grid (1 element)\n",
      "   - line (3 elements)\n",
      " and the following results tables:\n",
      "   - res_bus (4 elements)\n",
      "   - res_line (3 elements)\n",
      "   - res_ext_grid (1 element)\n",
      "   - res_load (1 element)\n",
      "   - res_sgen (2 elements)\n"
     ]
    }
   ],
   "source": [
    "print(net)"
   ]
  },
  {
   "cell_type": "code",
   "execution_count": 12,
   "id": "identical-journalism",
   "metadata": {},
   "outputs": [
    {
     "data": {
      "text/html": [
       "<div>\n",
       "<style scoped>\n",
       "    .dataframe tbody tr th:only-of-type {\n",
       "        vertical-align: middle;\n",
       "    }\n",
       "\n",
       "    .dataframe tbody tr th {\n",
       "        vertical-align: top;\n",
       "    }\n",
       "\n",
       "    .dataframe thead th {\n",
       "        text-align: right;\n",
       "    }\n",
       "</style>\n",
       "<table border=\"1\" class=\"dataframe\">\n",
       "  <thead>\n",
       "    <tr style=\"text-align: right;\">\n",
       "      <th></th>\n",
       "      <th>name</th>\n",
       "      <th>bus</th>\n",
       "      <th>p_mw</th>\n",
       "      <th>q_mvar</th>\n",
       "      <th>sn_mva</th>\n",
       "      <th>scaling</th>\n",
       "      <th>in_service</th>\n",
       "      <th>type</th>\n",
       "      <th>current_source</th>\n",
       "      <th>max_p_mw</th>\n",
       "      <th>max_q_mvar</th>\n",
       "    </tr>\n",
       "  </thead>\n",
       "  <tbody>\n",
       "    <tr>\n",
       "      <th>0</th>\n",
       "      <td>None</td>\n",
       "      <td>1</td>\n",
       "      <td>0.05</td>\n",
       "      <td>0.025</td>\n",
       "      <td>NaN</td>\n",
       "      <td>1.0</td>\n",
       "      <td>True</td>\n",
       "      <td>wye</td>\n",
       "      <td>True</td>\n",
       "      <td>0.2</td>\n",
       "      <td>0.2</td>\n",
       "    </tr>\n",
       "    <tr>\n",
       "      <th>1</th>\n",
       "      <td>None</td>\n",
       "      <td>3</td>\n",
       "      <td>0.07</td>\n",
       "      <td>0.025</td>\n",
       "      <td>NaN</td>\n",
       "      <td>1.0</td>\n",
       "      <td>True</td>\n",
       "      <td>wye</td>\n",
       "      <td>True</td>\n",
       "      <td>0.3</td>\n",
       "      <td>0.2</td>\n",
       "    </tr>\n",
       "  </tbody>\n",
       "</table>\n",
       "</div>"
      ],
      "text/plain": [
       "   name  bus  p_mw  q_mvar  sn_mva  scaling  in_service type  current_source  \\\n",
       "0  None    1  0.05   0.025     NaN      1.0        True  wye            True   \n",
       "1  None    3  0.07   0.025     NaN      1.0        True  wye            True   \n",
       "\n",
       "   max_p_mw  max_q_mvar  \n",
       "0       0.2         0.2  \n",
       "1       0.3         0.2  "
      ]
     },
     "execution_count": 12,
     "metadata": {},
     "output_type": "execute_result"
    }
   ],
   "source": [
    "net.sgen"
   ]
  },
  {
   "cell_type": "markdown",
   "id": "particular-premium",
   "metadata": {},
   "source": [
    "Agregamos los parámetros del modelo a los elementos de la red."
   ]
  },
  {
   "cell_type": "code",
   "execution_count": 13,
   "id": "palestinian-sheffield",
   "metadata": {},
   "outputs": [],
   "source": [
    "def net_add_optfw(net):\n",
    "    #agregamos parámetros para el costo inicial en forma de un valor constante ic_0 y un valor función lineal de la potencia ic_1\n",
    "    net.ext_grid['ic_0_mu'] = 0.0\n",
    "    net.ext_grid['ic_1_mu'] = 0.0\n",
    "\n",
    "    #idem para costo operativo\n",
    "    net.ext_grid['oc_0_mu'] = 0.0\n",
    "    net.ext_grid['oc_1_mu'] = 0.0\n",
    "\n",
    "    #potencia disponible\n",
    "    net.ext_grid['ap_mw'] = 0.5\n",
    "    \n",
    "    #potencia entregada\n",
    "    net.ext_grid['op_mw'] = 0.0\n",
    "    \n",
    "    #las restricciones pueden ser ninguna, o una lista de restricciones tipo pyomo\n",
    "    net.ext_grid['constraints'] = None\n",
    "\n",
    "    #se repite para la carga y los generadores estáticos\n",
    "    net.load['ic_0_mu'] = 0.0\n",
    "    net.load['ic_1_mu'] = 0.0\n",
    "    net.load['oc_0_mu'] = 0.0\n",
    "    net.load['oc_1_mu'] = 0.0\n",
    "    net.load['ap_mw'] = 0.5\n",
    "    net.load['op_mw'] = 0.0\n",
    "    net.load['constraints'] = None\n",
    "\n",
    "    net.sgen['ic_0_mu'] = 0.0\n",
    "    net.sgen['ic_1_mu'] = 0.0\n",
    "    net.sgen['oc_0_mu'] = 0.0\n",
    "    net.sgen['oc_1_mu'] = 0.0\n",
    "    net.sgen['ap_mw'] = 0.5\n",
    "    net.sgen['op_mw'] = 0.0\n",
    "    net.sgen['constraints'] = None"
   ]
  },
  {
   "cell_type": "code",
   "execution_count": 14,
   "id": "african-smile",
   "metadata": {},
   "outputs": [],
   "source": [
    "net_add_optfw(net)"
   ]
  },
  {
   "cell_type": "markdown",
   "id": "atmospheric-arbor",
   "metadata": {},
   "source": [
    "Vemos como queda por ejemplo el elemento de red externa:"
   ]
  },
  {
   "cell_type": "code",
   "execution_count": 15,
   "id": "opposite-harvard",
   "metadata": {},
   "outputs": [
    {
     "data": {
      "text/html": [
       "<div>\n",
       "<style scoped>\n",
       "    .dataframe tbody tr th:only-of-type {\n",
       "        vertical-align: middle;\n",
       "    }\n",
       "\n",
       "    .dataframe tbody tr th {\n",
       "        vertical-align: top;\n",
       "    }\n",
       "\n",
       "    .dataframe thead th {\n",
       "        text-align: right;\n",
       "    }\n",
       "</style>\n",
       "<table border=\"1\" class=\"dataframe\">\n",
       "  <thead>\n",
       "    <tr style=\"text-align: right;\">\n",
       "      <th></th>\n",
       "      <th>name</th>\n",
       "      <th>bus</th>\n",
       "      <th>vm_pu</th>\n",
       "      <th>va_degree</th>\n",
       "      <th>in_service</th>\n",
       "      <th>ic_0_mu</th>\n",
       "      <th>ic_1_mu</th>\n",
       "      <th>oc_0_mu</th>\n",
       "      <th>oc_1_mu</th>\n",
       "      <th>ap_mw</th>\n",
       "      <th>op_mw</th>\n",
       "      <th>constraints</th>\n",
       "    </tr>\n",
       "  </thead>\n",
       "  <tbody>\n",
       "    <tr>\n",
       "      <th>0</th>\n",
       "      <td>None</td>\n",
       "      <td>0</td>\n",
       "      <td>1.0</td>\n",
       "      <td>0.0</td>\n",
       "      <td>True</td>\n",
       "      <td>0.0</td>\n",
       "      <td>0.0</td>\n",
       "      <td>0.0</td>\n",
       "      <td>0.0</td>\n",
       "      <td>0.5</td>\n",
       "      <td>0.0</td>\n",
       "      <td>None</td>\n",
       "    </tr>\n",
       "  </tbody>\n",
       "</table>\n",
       "</div>"
      ],
      "text/plain": [
       "   name  bus  vm_pu  va_degree  in_service  ic_0_mu  ic_1_mu  oc_0_mu  \\\n",
       "0  None    0    1.0        0.0        True      0.0      0.0      0.0   \n",
       "\n",
       "   oc_1_mu  ap_mw  op_mw constraints  \n",
       "0      0.0    0.5    0.0        None  "
      ]
     },
     "execution_count": 15,
     "metadata": {},
     "output_type": "execute_result"
    }
   ],
   "source": [
    "net.ext_grid"
   ]
  },
  {
   "cell_type": "markdown",
   "id": "psychological-expansion",
   "metadata": {},
   "source": [
    "Defino una función normal de Python para que nos va a dar la componente lineal del costo de la energía"
   ]
  },
  {
   "cell_type": "markdown",
   "id": "adverse-litigation",
   "metadata": {},
   "source": [
    "Variables que define el modelo:\n",
    "\n",
    "y para el año\n",
    "\n",
    "d para el día del año\n",
    "\n",
    "h para la hora del día\n",
    "\n",
    "dt la granularidad del modelo, en horas\n",
    "\n",
    "\n",
    "temp la temperatura\n",
    "\n",
    "wv la velocidad del viento\n",
    "\n",
    "I la irradiación solar\n",
    "\n",
    "\n",
    "eg el crecimiento económico en pu respecto al año 0\n",
    "\n",
    "\n",
    "Estas variables llegan como parámetros en forma de diccionario en el argumento 'model_status' (ver este nombre)\n",
    "\n",
    "Todas las funciones reciben este argumento, la lógica de la función indica que valor retorna. Pr ejemplo, si la granularidad es 24 h, debe retornar el valor medio del parámetro producido."
   ]
  },
  {
   "cell_type": "code",
   "execution_count": 16,
   "id": "driven-excitement",
   "metadata": {},
   "outputs": [],
   "source": [
    "def oc_1_ext_grid(model_status={}):\n",
    "    #modelo sencillo con dos precios, uno entre 0 a 18 y otro de 18 a 24\n",
    "    res = 0.0\n",
    "    sx = 1e-6\n",
    "    if 'h' in model_status:\n",
    "        h = model_status['h']\n",
    "        if 0.0 <= h and h < 18.0:\n",
    "            res = 3600.0*sx\n",
    "        elif 18 <= h and h < 24.0:\n",
    "            res = 5400.0*sx\n",
    "        else:\n",
    "            raise ValueError(\"Hour outside model range\")\n",
    "    else:\n",
    "        raise ValueError(\"Hour not defined\")\n",
    "    \n",
    "    return res"
   ]
  },
  {
   "cell_type": "code",
   "execution_count": 17,
   "id": "downtown-request",
   "metadata": {},
   "outputs": [],
   "source": [
    "#test:\n",
    "#m_s = {'y': 0, 'd': 180, 'h': 14.0, 'dt': 1.0, 'temp': 12.0, 'wv': 10.0, 'eg': 1.0}\n",
    "\n",
    "#oc_1_ext_grid(m_s)"
   ]
  },
  {
   "cell_type": "code",
   "execution_count": 18,
   "id": "existing-survivor",
   "metadata": {},
   "outputs": [],
   "source": [
    "#20 hs: 5400\n",
    "#m_s['h'] = 20.5\n",
    "#oc_1_ext_grid(m_s)"
   ]
  },
  {
   "cell_type": "code",
   "execution_count": 19,
   "id": "thermal-contractor",
   "metadata": {},
   "outputs": [],
   "source": [
    "#25 hs: error\n",
    "#m_s['h'] = 25\n",
    "#oc_1_ext_grid(m_s)"
   ]
  },
  {
   "cell_type": "code",
   "execution_count": 20,
   "id": "respected-thailand",
   "metadata": {},
   "outputs": [],
   "source": [
    "net.ext_grid['oc_1_mu'][0] = oc_1_ext_grid"
   ]
  },
  {
   "cell_type": "code",
   "execution_count": 21,
   "id": "tutorial-match",
   "metadata": {},
   "outputs": [
    {
     "data": {
      "text/html": [
       "<div>\n",
       "<style scoped>\n",
       "    .dataframe tbody tr th:only-of-type {\n",
       "        vertical-align: middle;\n",
       "    }\n",
       "\n",
       "    .dataframe tbody tr th {\n",
       "        vertical-align: top;\n",
       "    }\n",
       "\n",
       "    .dataframe thead th {\n",
       "        text-align: right;\n",
       "    }\n",
       "</style>\n",
       "<table border=\"1\" class=\"dataframe\">\n",
       "  <thead>\n",
       "    <tr style=\"text-align: right;\">\n",
       "      <th></th>\n",
       "      <th>name</th>\n",
       "      <th>bus</th>\n",
       "      <th>vm_pu</th>\n",
       "      <th>va_degree</th>\n",
       "      <th>in_service</th>\n",
       "      <th>ic_0_mu</th>\n",
       "      <th>ic_1_mu</th>\n",
       "      <th>oc_0_mu</th>\n",
       "      <th>oc_1_mu</th>\n",
       "      <th>ap_mw</th>\n",
       "      <th>op_mw</th>\n",
       "      <th>constraints</th>\n",
       "    </tr>\n",
       "  </thead>\n",
       "  <tbody>\n",
       "    <tr>\n",
       "      <th>0</th>\n",
       "      <td>None</td>\n",
       "      <td>0</td>\n",
       "      <td>1.0</td>\n",
       "      <td>0.0</td>\n",
       "      <td>True</td>\n",
       "      <td>0.0</td>\n",
       "      <td>0.0</td>\n",
       "      <td>0.0</td>\n",
       "      <td>&lt;function oc_1_ext_grid at 0x0000015EAFA56AF0&gt;</td>\n",
       "      <td>0.5</td>\n",
       "      <td>0.0</td>\n",
       "      <td>None</td>\n",
       "    </tr>\n",
       "  </tbody>\n",
       "</table>\n",
       "</div>"
      ],
      "text/plain": [
       "   name  bus  vm_pu  va_degree  in_service  ic_0_mu  ic_1_mu  oc_0_mu  \\\n",
       "0  None    0    1.0        0.0        True      0.0      0.0      0.0   \n",
       "\n",
       "                                          oc_1_mu  ap_mw  op_mw constraints  \n",
       "0  <function oc_1_ext_grid at 0x0000015EAFA56AF0>    0.5    0.0        None  "
      ]
     },
     "execution_count": 21,
     "metadata": {},
     "output_type": "execute_result"
    }
   ],
   "source": [
    "net.ext_grid"
   ]
  },
  {
   "cell_type": "code",
   "execution_count": 22,
   "id": "thick-longer",
   "metadata": {},
   "outputs": [],
   "source": [
    "def demand(model_status={}):\n",
    "    #modelo sencillo en forma de escalones\n",
    "    #devuelvr la fracción de la carga empleada\n",
    "    res = 0.0\n",
    "    if 'h' in model_status:\n",
    "        h = model_status['h']\n",
    "        if 0.0 <= h and h < 6.0:\n",
    "            res = 0.2\n",
    "        elif 6.0 <= h and h < 8.0:\n",
    "            res = 0.4\n",
    "        elif 8.0 <= h and h < 18.0:\n",
    "            res = 0.5\n",
    "        elif 18.0 <= h and h < 22.0:\n",
    "            res = 1.0\n",
    "        elif 22.0 <= h and h < 24.0:\n",
    "            res = 0.3            \n",
    "        else:\n",
    "            raise ValueError(\"Hour outside model range\")\n",
    "    else:\n",
    "        raise ValueError(\"Hour not defined\")\n",
    "    \n",
    "    return res"
   ]
  },
  {
   "cell_type": "code",
   "execution_count": 23,
   "id": "supreme-melissa",
   "metadata": {},
   "outputs": [],
   "source": [
    "net.load['op_mw'][0] = demand"
   ]
  },
  {
   "cell_type": "code",
   "execution_count": 24,
   "id": "gothic-remark",
   "metadata": {},
   "outputs": [
    {
     "data": {
      "text/html": [
       "<div>\n",
       "<style scoped>\n",
       "    .dataframe tbody tr th:only-of-type {\n",
       "        vertical-align: middle;\n",
       "    }\n",
       "\n",
       "    .dataframe tbody tr th {\n",
       "        vertical-align: top;\n",
       "    }\n",
       "\n",
       "    .dataframe thead th {\n",
       "        text-align: right;\n",
       "    }\n",
       "</style>\n",
       "<table border=\"1\" class=\"dataframe\">\n",
       "  <thead>\n",
       "    <tr style=\"text-align: right;\">\n",
       "      <th></th>\n",
       "      <th>name</th>\n",
       "      <th>bus</th>\n",
       "      <th>p_mw</th>\n",
       "      <th>q_mvar</th>\n",
       "      <th>const_z_percent</th>\n",
       "      <th>const_i_percent</th>\n",
       "      <th>sn_mva</th>\n",
       "      <th>scaling</th>\n",
       "      <th>in_service</th>\n",
       "      <th>type</th>\n",
       "      <th>ic_0_mu</th>\n",
       "      <th>ic_1_mu</th>\n",
       "      <th>oc_0_mu</th>\n",
       "      <th>oc_1_mu</th>\n",
       "      <th>ap_mw</th>\n",
       "      <th>op_mw</th>\n",
       "      <th>constraints</th>\n",
       "    </tr>\n",
       "  </thead>\n",
       "  <tbody>\n",
       "    <tr>\n",
       "      <th>0</th>\n",
       "      <td>None</td>\n",
       "      <td>2</td>\n",
       "      <td>0.35</td>\n",
       "      <td>0.0</td>\n",
       "      <td>0.0</td>\n",
       "      <td>0.0</td>\n",
       "      <td>NaN</td>\n",
       "      <td>1.0</td>\n",
       "      <td>True</td>\n",
       "      <td>wye</td>\n",
       "      <td>0.0</td>\n",
       "      <td>0.0</td>\n",
       "      <td>0.0</td>\n",
       "      <td>0.0</td>\n",
       "      <td>0.5</td>\n",
       "      <td>&lt;function demand at 0x0000015EC17FA940&gt;</td>\n",
       "      <td>None</td>\n",
       "    </tr>\n",
       "  </tbody>\n",
       "</table>\n",
       "</div>"
      ],
      "text/plain": [
       "   name  bus  p_mw  q_mvar  const_z_percent  const_i_percent  sn_mva  scaling  \\\n",
       "0  None    2  0.35     0.0              0.0              0.0     NaN      1.0   \n",
       "\n",
       "   in_service type  ic_0_mu  ic_1_mu  oc_0_mu  oc_1_mu  ap_mw  \\\n",
       "0        True  wye      0.0      0.0      0.0      0.0    0.5   \n",
       "\n",
       "                                     op_mw constraints  \n",
       "0  <function demand at 0x0000015EC17FA940>        None  "
      ]
     },
     "execution_count": 24,
     "metadata": {},
     "output_type": "execute_result"
    }
   ],
   "source": [
    "net.load"
   ]
  },
  {
   "cell_type": "code",
   "execution_count": 25,
   "id": "appreciated-influence",
   "metadata": {},
   "outputs": [],
   "source": [
    "def solar_output(model_status={}):\n",
    "    #modelo sencillo\n",
    "    #devuelvr la fracción de la potencia entregada en función del tiempo\n",
    "    #no toma en cuenta la radicación solar ni la temperatura\n",
    "    res = 0.0\n",
    "    if 'h' in model_status:\n",
    "        h = model_status['h']\n",
    "        if 0.0 <= h and h < 8.0:\n",
    "            res = 0.0\n",
    "        elif 8.0 <= h and h < 18.0:\n",
    "            res = math.exp(-(h-13.0)**2/8)\n",
    "        elif 18.0 <= h and h < 24.0:\n",
    "            res = 0.0\n",
    "        else:\n",
    "            raise ValueError(\"Hour outside model range\")\n",
    "    else:\n",
    "        raise ValueError(\"Hour not defined\")\n",
    "    \n",
    "    return res"
   ]
  },
  {
   "cell_type": "code",
   "execution_count": 26,
   "id": "given-selection",
   "metadata": {},
   "outputs": [],
   "source": [
    "#test:\n",
    "#m_s = {'y': 0, 'd': 180, 'h': 43.0, 'dt': 1.0, 'temp': 12.0, 'wv': 10.0, 'eg': 1.0}\n",
    "#solar_output(m_s)"
   ]
  },
  {
   "cell_type": "code",
   "execution_count": 27,
   "id": "complimentary-certificate",
   "metadata": {},
   "outputs": [],
   "source": [
    "net.sgen['name'][0] = 'PV1'\n",
    "net.sgen['ap_mw'][0] = solar_output\n",
    "net.sgen['ic_0_mu'][0] = 2\n",
    "net.sgen['ic_1_mu'][0] = 3*0.75\n",
    "net.sgen['oc_0_mu'][0] = 0.0\n",
    "net.sgen['oc_1_mu'][0] = 500e-6\n"
   ]
  },
  {
   "cell_type": "code",
   "execution_count": 79,
   "id": "digital-heating",
   "metadata": {},
   "outputs": [],
   "source": [
    "def wind_output(model_status={}):\n",
    "    #modelo sencillo\n",
    "    #devuelvr la fracción de la potencia entregada en función del tiempo\n",
    "    #no toma en cuenta la radicación solar ni la temperatura\n",
    "    res = 0.0\n",
    "    if 'wv' in model_status:\n",
    "        wv = model_status['wv']\n",
    "        if 0.0 <= wv and wv < 3.0:\n",
    "            res = 0.0\n",
    "        elif 3.0 <= wv and wv < 15.0:\n",
    "            res = (wv-3.0)/(15.0-3.0)\n",
    "        elif 15.0 <= wv and wv < 25.0:\n",
    "            res = 1.0\n",
    "        else:\n",
    "            res = 0.0\n",
    "    else:\n",
    "        raise ValueError(\"Wind Velocity not defined\")\n",
    "    \n",
    "    return res"
   ]
  },
  {
   "cell_type": "code",
   "execution_count": 109,
   "id": "funky-rachel",
   "metadata": {},
   "outputs": [],
   "source": [
    "net.sgen['name'][1] = 'WT1'\n",
    "net.sgen['ap_mw'][1] = wind_output\n",
    "net.sgen['ic_0_mu'][1] = 100.0\n",
    "net.sgen['ic_1_mu'][1] = 3.0\n",
    "net.sgen['oc_0_mu'][1] = 0.0\n",
    "net.sgen['oc_1_mu'][1] = 700e-6"
   ]
  },
  {
   "cell_type": "code",
   "execution_count": 110,
   "id": "innocent-found",
   "metadata": {},
   "outputs": [
    {
     "data": {
      "text/html": [
       "<div>\n",
       "<style scoped>\n",
       "    .dataframe tbody tr th:only-of-type {\n",
       "        vertical-align: middle;\n",
       "    }\n",
       "\n",
       "    .dataframe tbody tr th {\n",
       "        vertical-align: top;\n",
       "    }\n",
       "\n",
       "    .dataframe thead th {\n",
       "        text-align: right;\n",
       "    }\n",
       "</style>\n",
       "<table border=\"1\" class=\"dataframe\">\n",
       "  <thead>\n",
       "    <tr style=\"text-align: right;\">\n",
       "      <th></th>\n",
       "      <th>name</th>\n",
       "      <th>bus</th>\n",
       "      <th>p_mw</th>\n",
       "      <th>q_mvar</th>\n",
       "      <th>sn_mva</th>\n",
       "      <th>scaling</th>\n",
       "      <th>in_service</th>\n",
       "      <th>type</th>\n",
       "      <th>current_source</th>\n",
       "      <th>max_p_mw</th>\n",
       "      <th>max_q_mvar</th>\n",
       "      <th>ic_0_mu</th>\n",
       "      <th>ic_1_mu</th>\n",
       "      <th>oc_0_mu</th>\n",
       "      <th>oc_1_mu</th>\n",
       "      <th>ap_mw</th>\n",
       "      <th>op_mw</th>\n",
       "      <th>constraints</th>\n",
       "    </tr>\n",
       "  </thead>\n",
       "  <tbody>\n",
       "    <tr>\n",
       "      <th>0</th>\n",
       "      <td>PV1</td>\n",
       "      <td>1</td>\n",
       "      <td>0.05</td>\n",
       "      <td>0.025</td>\n",
       "      <td>NaN</td>\n",
       "      <td>1.0</td>\n",
       "      <td>True</td>\n",
       "      <td>wye</td>\n",
       "      <td>True</td>\n",
       "      <td>0.2</td>\n",
       "      <td>0.2</td>\n",
       "      <td>2.0</td>\n",
       "      <td>2.25</td>\n",
       "      <td>0.0</td>\n",
       "      <td>0.0005</td>\n",
       "      <td>&lt;function solar_output at 0x0000015EC1979040&gt;</td>\n",
       "      <td>0.0</td>\n",
       "      <td>None</td>\n",
       "    </tr>\n",
       "    <tr>\n",
       "      <th>1</th>\n",
       "      <td>WT1</td>\n",
       "      <td>3</td>\n",
       "      <td>0.07</td>\n",
       "      <td>0.025</td>\n",
       "      <td>NaN</td>\n",
       "      <td>1.0</td>\n",
       "      <td>True</td>\n",
       "      <td>wye</td>\n",
       "      <td>True</td>\n",
       "      <td>0.3</td>\n",
       "      <td>0.2</td>\n",
       "      <td>100.0</td>\n",
       "      <td>3.00</td>\n",
       "      <td>0.0</td>\n",
       "      <td>0.0007</td>\n",
       "      <td>&lt;function wind_output at 0x0000015EC19ED040&gt;</td>\n",
       "      <td>0.0</td>\n",
       "      <td>None</td>\n",
       "    </tr>\n",
       "  </tbody>\n",
       "</table>\n",
       "</div>"
      ],
      "text/plain": [
       "  name  bus  p_mw  q_mvar  sn_mva  scaling  in_service type  current_source  \\\n",
       "0  PV1    1  0.05   0.025     NaN      1.0        True  wye            True   \n",
       "1  WT1    3  0.07   0.025     NaN      1.0        True  wye            True   \n",
       "\n",
       "   max_p_mw  max_q_mvar  ic_0_mu  ic_1_mu  oc_0_mu  oc_1_mu  \\\n",
       "0       0.2         0.2      2.0     2.25      0.0   0.0005   \n",
       "1       0.3         0.2    100.0     3.00      0.0   0.0007   \n",
       "\n",
       "                                           ap_mw  op_mw constraints  \n",
       "0  <function solar_output at 0x0000015EC1979040>    0.0        None  \n",
       "1   <function wind_output at 0x0000015EC19ED040>    0.0        None  "
      ]
     },
     "execution_count": 110,
     "metadata": {},
     "output_type": "execute_result"
    }
   ],
   "source": [
    "net.sgen"
   ]
  },
  {
   "cell_type": "markdown",
   "id": "emerging-isaac",
   "metadata": {},
   "source": [
    "Primero construyo un modelo manualmente:\n",
    "\n",
    "Es un modelo de dimensionamiento de 2 DERs (WT+PV)"
   ]
  },
  {
   "cell_type": "code",
   "execution_count": 111,
   "id": "further-colon",
   "metadata": {},
   "outputs": [],
   "source": [
    "m = pe.ConcreteModel()"
   ]
  },
  {
   "cell_type": "code",
   "execution_count": 112,
   "id": "pretty-billy",
   "metadata": {},
   "outputs": [],
   "source": [
    "dias = 365\n",
    "años = 5\n",
    "M = 1e3"
   ]
  },
  {
   "cell_type": "code",
   "execution_count": 113,
   "id": "charged-canvas",
   "metadata": {},
   "outputs": [],
   "source": [
    "#el rango de horas:\n",
    "T_i = range(24)"
   ]
  },
  {
   "cell_type": "code",
   "execution_count": 114,
   "id": "decimal-thickness",
   "metadata": {},
   "outputs": [],
   "source": [
    "#las variables que definien si construir y que potencia\n",
    "m.ap_mw_PV = pe.Var(within = pe.NonNegativeReals)  #Tamano PV\n",
    "m.ap_mw_WT = pe.Var(within = pe.NonNegativeReals)  #Tamano WT\n",
    "\n",
    "m.sgen_PV = pe.Var(within = pe.Binary)\n",
    "m.sgen_WT = pe.Var(within = pe.Binary) "
   ]
  },
  {
   "cell_type": "code",
   "execution_count": 115,
   "id": "swedish-first",
   "metadata": {},
   "outputs": [],
   "source": [
    "#despacho de solar y WT disponible\n",
    "m.p_mw_PV = pe.Var(T_i, within = pe.NonNegativeReals)\n",
    "m.p_mw_WT = pe.Var(T_i, within = pe.NonNegativeReals)"
   ]
  },
  {
   "cell_type": "code",
   "execution_count": 116,
   "id": "different-patch",
   "metadata": {},
   "outputs": [],
   "source": [
    "#energia comprada a la red\n",
    "m.p_mw_Ext = pe.Var(T_i, within = pe.NonNegativeReals, bounds = (0, net.ext_grid['ap_mw'][0]))\n",
    "#si puedo exportar:\n",
    "##m.p_mw_Ext = pe.Var(T_i, bounds = (-net.ext_grid['ap_mw'][0], net.ext_grid['ap_mw'][0]))"
   ]
  },
  {
   "cell_type": "code",
   "execution_count": 117,
   "id": "preliminary-valve",
   "metadata": {},
   "outputs": [],
   "source": [
    "#el rango de condiciones:\n",
    "m_s = {'y': 0, 'd': 180, 'h': 43.0, 'dt': 1.0, 'temp': 12.0, 'wv': 10.0, 'eg': 1.0}\n",
    "\n",
    "Escenarios_i = []\n",
    "for t in T_i:\n",
    "    Escenarios_i.append({'y': 0, 'd': 180, 'h': 1.0*t, 'dt': 1.0, 'temp': 12.0, 'wv': random.uniform(1.0, 20.0), 'eg': 1.0})\n"
   ]
  },
  {
   "cell_type": "code",
   "execution_count": 118,
   "id": "adaptive-vampire",
   "metadata": {},
   "outputs": [],
   "source": [
    "#Escenarios_i"
   ]
  },
  {
   "cell_type": "code",
   "execution_count": 119,
   "id": "imposed-member",
   "metadata": {},
   "outputs": [],
   "source": [
    "#los costos iniciales:\n",
    "costos_iniciales = net.ext_grid['ic_0_mu'][0] + net.load['ic_0_mu'][0] + m.sgen_PV*net.sgen['ic_0_mu'][0] + m.sgen_WT*net.sgen['ic_0_mu'][1] +  \\\n",
    "                   net.ext_grid['ic_1_mu'][0]*0 + net.load['ic_1_mu'][0]*0 + m.ap_mw_PV * net.sgen['ic_1_mu'][0] + m.ap_mw_WT * net.sgen['ic_1_mu'][1]"
   ]
  },
  {
   "cell_type": "code",
   "execution_count": 120,
   "id": "handed-prince",
   "metadata": {},
   "outputs": [
    {
     "name": "stdout",
     "output_type": "stream",
     "text": [
      "2.0*sgen_PV + 100.0*sgen_WT + 2.25*ap_mw_PV + 3.0*ap_mw_WT\n"
     ]
    }
   ],
   "source": [
    "print(costos_iniciales)"
   ]
  },
  {
   "cell_type": "code",
   "execution_count": 121,
   "id": "minor-confirmation",
   "metadata": {},
   "outputs": [],
   "source": [
    "costos_variables = sum(m.p_mw_PV[t]*net.sgen['oc_1_mu'][0]*dias*años+ m.p_mw_WT[t]*net.sgen['oc_1_mu'][1]*dias*años + m.p_mw_Ext[t]*net.ext_grid['oc_1_mu'][0](Escenarios_i[t])*dias*años for t in T_i)"
   ]
  },
  {
   "cell_type": "code",
   "execution_count": 122,
   "id": "industrial-grill",
   "metadata": {},
   "outputs": [
    {
     "name": "stdout",
     "output_type": "stream",
     "text": [
      "0.9125*p_mw_PV[0] + 1.2775*p_mw_WT[0] + 6.57*p_mw_Ext[0] + 0.9125*p_mw_PV[1] + 1.2775*p_mw_WT[1] + 6.57*p_mw_Ext[1] + 0.9125*p_mw_PV[2] + 1.2775*p_mw_WT[2] + 6.57*p_mw_Ext[2] + 0.9125*p_mw_PV[3] + 1.2775*p_mw_WT[3] + 6.57*p_mw_Ext[3] + 0.9125*p_mw_PV[4] + 1.2775*p_mw_WT[4] + 6.57*p_mw_Ext[4] + 0.9125*p_mw_PV[5] + 1.2775*p_mw_WT[5] + 6.57*p_mw_Ext[5] + 0.9125*p_mw_PV[6] + 1.2775*p_mw_WT[6] + 6.57*p_mw_Ext[6] + 0.9125*p_mw_PV[7] + 1.2775*p_mw_WT[7] + 6.57*p_mw_Ext[7] + 0.9125*p_mw_PV[8] + 1.2775*p_mw_WT[8] + 6.57*p_mw_Ext[8] + 0.9125*p_mw_PV[9] + 1.2775*p_mw_WT[9] + 6.57*p_mw_Ext[9] + 0.9125*p_mw_PV[10] + 1.2775*p_mw_WT[10] + 6.57*p_mw_Ext[10] + 0.9125*p_mw_PV[11] + 1.2775*p_mw_WT[11] + 6.57*p_mw_Ext[11] + 0.9125*p_mw_PV[12] + 1.2775*p_mw_WT[12] + 6.57*p_mw_Ext[12] + 0.9125*p_mw_PV[13] + 1.2775*p_mw_WT[13] + 6.57*p_mw_Ext[13] + 0.9125*p_mw_PV[14] + 1.2775*p_mw_WT[14] + 6.57*p_mw_Ext[14] + 0.9125*p_mw_PV[15] + 1.2775*p_mw_WT[15] + 6.57*p_mw_Ext[15] + 0.9125*p_mw_PV[16] + 1.2775*p_mw_WT[16] + 6.57*p_mw_Ext[16] + 0.9125*p_mw_PV[17] + 1.2775*p_mw_WT[17] + 6.57*p_mw_Ext[17] + 0.9125*p_mw_PV[18] + 1.2775*p_mw_WT[18] + 9.854999999999999*p_mw_Ext[18] + 0.9125*p_mw_PV[19] + 1.2775*p_mw_WT[19] + 9.854999999999999*p_mw_Ext[19] + 0.9125*p_mw_PV[20] + 1.2775*p_mw_WT[20] + 9.854999999999999*p_mw_Ext[20] + 0.9125*p_mw_PV[21] + 1.2775*p_mw_WT[21] + 9.854999999999999*p_mw_Ext[21] + 0.9125*p_mw_PV[22] + 1.2775*p_mw_WT[22] + 9.854999999999999*p_mw_Ext[22] + 0.9125*p_mw_PV[23] + 1.2775*p_mw_WT[23] + 9.854999999999999*p_mw_Ext[23]\n"
     ]
    }
   ],
   "source": [
    "print(costos_variables)"
   ]
  },
  {
   "cell_type": "code",
   "execution_count": 123,
   "id": "listed-cycling",
   "metadata": {},
   "outputs": [],
   "source": [
    "costos = costos_iniciales + costos_variables"
   ]
  },
  {
   "cell_type": "code",
   "execution_count": 124,
   "id": "varying-inventory",
   "metadata": {},
   "outputs": [
    {
     "name": "stdout",
     "output_type": "stream",
     "text": [
      "2.0*sgen_PV + 100.0*sgen_WT + 2.25*ap_mw_PV + 3.0*ap_mw_WT + 0.9125*p_mw_PV[0] + 1.2775*p_mw_WT[0] + 6.57*p_mw_Ext[0] + 0.9125*p_mw_PV[1] + 1.2775*p_mw_WT[1] + 6.57*p_mw_Ext[1] + 0.9125*p_mw_PV[2] + 1.2775*p_mw_WT[2] + 6.57*p_mw_Ext[2] + 0.9125*p_mw_PV[3] + 1.2775*p_mw_WT[3] + 6.57*p_mw_Ext[3] + 0.9125*p_mw_PV[4] + 1.2775*p_mw_WT[4] + 6.57*p_mw_Ext[4] + 0.9125*p_mw_PV[5] + 1.2775*p_mw_WT[5] + 6.57*p_mw_Ext[5] + 0.9125*p_mw_PV[6] + 1.2775*p_mw_WT[6] + 6.57*p_mw_Ext[6] + 0.9125*p_mw_PV[7] + 1.2775*p_mw_WT[7] + 6.57*p_mw_Ext[7] + 0.9125*p_mw_PV[8] + 1.2775*p_mw_WT[8] + 6.57*p_mw_Ext[8] + 0.9125*p_mw_PV[9] + 1.2775*p_mw_WT[9] + 6.57*p_mw_Ext[9] + 0.9125*p_mw_PV[10] + 1.2775*p_mw_WT[10] + 6.57*p_mw_Ext[10] + 0.9125*p_mw_PV[11] + 1.2775*p_mw_WT[11] + 6.57*p_mw_Ext[11] + 0.9125*p_mw_PV[12] + 1.2775*p_mw_WT[12] + 6.57*p_mw_Ext[12] + 0.9125*p_mw_PV[13] + 1.2775*p_mw_WT[13] + 6.57*p_mw_Ext[13] + 0.9125*p_mw_PV[14] + 1.2775*p_mw_WT[14] + 6.57*p_mw_Ext[14] + 0.9125*p_mw_PV[15] + 1.2775*p_mw_WT[15] + 6.57*p_mw_Ext[15] + 0.9125*p_mw_PV[16] + 1.2775*p_mw_WT[16] + 6.57*p_mw_Ext[16] + 0.9125*p_mw_PV[17] + 1.2775*p_mw_WT[17] + 6.57*p_mw_Ext[17] + 0.9125*p_mw_PV[18] + 1.2775*p_mw_WT[18] + 9.854999999999999*p_mw_Ext[18] + 0.9125*p_mw_PV[19] + 1.2775*p_mw_WT[19] + 9.854999999999999*p_mw_Ext[19] + 0.9125*p_mw_PV[20] + 1.2775*p_mw_WT[20] + 9.854999999999999*p_mw_Ext[20] + 0.9125*p_mw_PV[21] + 1.2775*p_mw_WT[21] + 9.854999999999999*p_mw_Ext[21] + 0.9125*p_mw_PV[22] + 1.2775*p_mw_WT[22] + 9.854999999999999*p_mw_Ext[22] + 0.9125*p_mw_PV[23] + 1.2775*p_mw_WT[23] + 9.854999999999999*p_mw_Ext[23]\n"
     ]
    }
   ],
   "source": [
    "print(costos)"
   ]
  },
  {
   "cell_type": "code",
   "execution_count": 125,
   "id": "thorough-shopping",
   "metadata": {},
   "outputs": [],
   "source": [
    "m.value = pe.Objective(\n",
    "expr = costos_iniciales + costos_variables,\n",
    "sense = pe.minimize )"
   ]
  },
  {
   "cell_type": "code",
   "execution_count": 126,
   "id": "orange-header",
   "metadata": {},
   "outputs": [],
   "source": [
    "def hourly_power_balance(m, t):\n",
    "    return m.p_mw_Ext[t] + m.p_mw_PV[t] + m.p_mw_WT[t] - net.load['op_mw'][0](Escenarios_i[t])*net.load['p_mw'][0] == 0"
   ]
  },
  {
   "cell_type": "code",
   "execution_count": 127,
   "id": "mathematical-hypothetical",
   "metadata": {},
   "outputs": [],
   "source": [
    "m.hourly_power_balance = pe.Constraint(T_i, rule = hourly_power_balance)"
   ]
  },
  {
   "cell_type": "code",
   "execution_count": 128,
   "id": "coordinated-kruger",
   "metadata": {},
   "outputs": [],
   "source": [
    "#dimensionamiento solar:\n",
    "m.PV_dim = pe.Constraint(T_i, rule = (lambda m, t : m.p_mw_PV[t] <= m.ap_mw_PV*net.sgen['ap_mw'][0](Escenarios_i[t])))"
   ]
  },
  {
   "cell_type": "code",
   "execution_count": 129,
   "id": "hourly-assembly",
   "metadata": {},
   "outputs": [],
   "source": [
    "m.PV_build = pe.Constraint( expr = m.ap_mw_PV <= m.sgen_PV*M)"
   ]
  },
  {
   "cell_type": "code",
   "execution_count": 130,
   "id": "cordless-bracket",
   "metadata": {},
   "outputs": [],
   "source": [
    "#dimensionamiento WT:\n",
    "m.WT_dim = pe.Constraint(T_i, rule = (lambda m, t : m.p_mw_WT[t] <= m.ap_mw_WT*net.sgen['ap_mw'][1](Escenarios_i[t])))"
   ]
  },
  {
   "cell_type": "code",
   "execution_count": 131,
   "id": "sitting-samba",
   "metadata": {},
   "outputs": [],
   "source": [
    "m.WT_build = pe.Constraint( expr = m.ap_mw_WT <= m.sgen_WT*M)"
   ]
  },
  {
   "cell_type": "code",
   "execution_count": 132,
   "id": "electoral-bidder",
   "metadata": {},
   "outputs": [
    {
     "name": "stdout",
     "output_type": "stream",
     "text": [
      "GLPSOL: GLPK LP/MIP Solver, v4.65\n",
      "Parameter(s) specified in the command line:\n",
      " --write C:\\Users\\jmsar\\AppData\\Local\\Temp\\tmpcz4chz31.glpk.raw --wglp C:\\Users\\jmsar\\AppData\\Local\\Temp\\tmpe7mjyxru.glpk.glp\n",
      " --cpxlp C:\\Users\\jmsar\\AppData\\Local\\Temp\\tmplinz65or.pyomo.lp\n",
      "Reading problem data from 'C:\\Users\\jmsar\\AppData\\Local\\Temp\\tmplinz65or.pyomo.lp'...\n",
      "C:\\Users\\jmsar\\AppData\\Local\\Temp\\tmplinz65or.pyomo.lp:542: warning: lower bound of variable 'x3' redefined\n",
      "C:\\Users\\jmsar\\AppData\\Local\\Temp\\tmplinz65or.pyomo.lp:542: warning: upper bound of variable 'x3' redefined\n",
      "75 rows, 77 columns, 156 non-zeros\n",
      "2 integer variables, all of which are binary\n",
      "544 lines were read\n",
      "Writing problem data to 'C:\\Users\\jmsar\\AppData\\Local\\Temp\\tmpe7mjyxru.glpk.glp'...\n",
      "537 lines were written\n",
      "GLPK Integer Optimizer, v4.65\n",
      "75 rows, 77 columns, 156 non-zeros\n",
      "2 integer variables, all of which are binary\n",
      "Preprocessing...\n",
      "43 rows, 35 columns, 86 non-zeros\n",
      "2 integer variables, all of which are binary\n",
      "Scaling...\n",
      " A: min|aij| =  4.394e-02  max|aij| =  1.000e+03  ratio =  2.276e+04\n",
      "GM: min|aij| =  6.223e-01  max|aij| =  1.607e+00  ratio =  2.582e+00\n",
      "EQ: min|aij| =  3.991e-01  max|aij| =  1.000e+00  ratio =  2.506e+00\n",
      "2N: min|aij| =  2.500e-01  max|aij| =  1.174e+00  ratio =  4.697e+00\n",
      "Constructing initial basis...\n",
      "Size of triangular part is 43\n",
      "Solving LP relaxation...\n",
      "GLPK Simplex Optimizer, v4.65\n",
      "43 rows, 35 columns, 86 non-zeros\n",
      "*     0: obj =   3.196305000e+01 inf =   0.000e+00 (31)\n",
      "*    44: obj =   1.138261374e+01 inf =   0.000e+00 (0)\n",
      "OPTIMAL LP SOLUTION FOUND\n",
      "Integer optimization begins...\n",
      "Long-step dual simplex will be used\n",
      "+    44: mip =     not found yet >=              -inf        (1; 0)\n",
      "+    60: >>>>>   3.196305000e+01 >=   2.728601859e+01  14.6% (3; 0)\n",
      "+    61: >>>>>   2.728601859e+01 >=   2.728601859e+01 < 0.1% (1; 2)\n",
      "+    61: mip =   2.728601859e+01 >=     tree is empty   0.0% (0; 5)\n",
      "INTEGER OPTIMAL SOLUTION FOUND\n",
      "Time used:   0.0 secs\n",
      "Memory used: 0.1 Mb (123575 bytes)\n",
      "Writing MIP solution to 'C:\\Users\\jmsar\\AppData\\Local\\Temp\\tmpcz4chz31.glpk.raw'...\n",
      "161 lines were written\n"
     ]
    }
   ],
   "source": [
    "opt = pe.SolverFactory('glpk')\n",
    "\n",
    "result_obj= opt.solve(m, tee=True)"
   ]
  },
  {
   "cell_type": "code",
   "execution_count": 133,
   "id": "supposed-letter",
   "metadata": {},
   "outputs": [
    {
     "name": "stdout",
     "output_type": "stream",
     "text": [
      "6 Set Declarations\n",
      "    PV_dim_index : Size=1, Index=None, Ordered=False\n",
      "        Key  : Dimen : Domain : Size : Members\n",
      "        None :     1 :    Any :   24 : {0, 1, 2, 3, 4, 5, 6, 7, 8, 9, 10, 11, 12, 13, 14, 15, 16, 17, 18, 19, 20, 21, 22, 23}\n",
      "    WT_dim_index : Size=1, Index=None, Ordered=False\n",
      "        Key  : Dimen : Domain : Size : Members\n",
      "        None :     1 :    Any :   24 : {0, 1, 2, 3, 4, 5, 6, 7, 8, 9, 10, 11, 12, 13, 14, 15, 16, 17, 18, 19, 20, 21, 22, 23}\n",
      "    hourly_power_balance_index : Size=1, Index=None, Ordered=False\n",
      "        Key  : Dimen : Domain : Size : Members\n",
      "        None :     1 :    Any :   24 : {0, 1, 2, 3, 4, 5, 6, 7, 8, 9, 10, 11, 12, 13, 14, 15, 16, 17, 18, 19, 20, 21, 22, 23}\n",
      "    p_mw_Ext_index : Size=1, Index=None, Ordered=False\n",
      "        Key  : Dimen : Domain : Size : Members\n",
      "        None :     1 :    Any :   24 : {0, 1, 2, 3, 4, 5, 6, 7, 8, 9, 10, 11, 12, 13, 14, 15, 16, 17, 18, 19, 20, 21, 22, 23}\n",
      "    p_mw_PV_index : Size=1, Index=None, Ordered=False\n",
      "        Key  : Dimen : Domain : Size : Members\n",
      "        None :     1 :    Any :   24 : {0, 1, 2, 3, 4, 5, 6, 7, 8, 9, 10, 11, 12, 13, 14, 15, 16, 17, 18, 19, 20, 21, 22, 23}\n",
      "    p_mw_WT_index : Size=1, Index=None, Ordered=False\n",
      "        Key  : Dimen : Domain : Size : Members\n",
      "        None :     1 :    Any :   24 : {0, 1, 2, 3, 4, 5, 6, 7, 8, 9, 10, 11, 12, 13, 14, 15, 16, 17, 18, 19, 20, 21, 22, 23}\n",
      "\n",
      "7 Var Declarations\n",
      "    ap_mw_PV : Size=1, Index=None\n",
      "        Key  : Lower : Value             : Upper : Fixed : Stale : Domain\n",
      "        None :     0 : 0.539037948560655 :  None : False : False : NonNegativeReals\n",
      "    ap_mw_WT : Size=1, Index=None\n",
      "        Key  : Lower : Value : Upper : Fixed : Stale : Domain\n",
      "        None :     0 :   0.0 :  None : False : False : NonNegativeReals\n",
      "    p_mw_Ext : Size=24, Index=p_mw_Ext_index\n",
      "        Key : Lower : Value             : Upper : Fixed : Stale : Domain\n",
      "          0 :     0 :              0.07 :   0.5 : False : False : NonNegativeReals\n",
      "          1 :     0 :              0.07 :   0.5 : False : False : NonNegativeReals\n",
      "          2 :     0 :              0.07 :   0.5 : False : False : NonNegativeReals\n",
      "          3 :     0 :              0.07 :   0.5 : False : False : NonNegativeReals\n",
      "          4 :     0 :              0.07 :   0.5 : False : False : NonNegativeReals\n",
      "          5 :     0 :              0.07 :   0.5 : False : False : NonNegativeReals\n",
      "          6 :     0 :              0.14 :   0.5 : False : False : NonNegativeReals\n",
      "          7 :     0 :              0.14 :   0.5 : False : False : NonNegativeReals\n",
      "          8 :     0 : 0.151316325433593 :   0.5 : False : False : NonNegativeReals\n",
      "          9 :     0 : 0.102049146556261 :   0.5 : False : False : NonNegativeReals\n",
      "         10 :     0 :               0.0 :   0.5 : False : False : NonNegativeReals\n",
      "         11 :     0 :               0.0 :   0.5 : False : False : NonNegativeReals\n",
      "         12 :     0 :               0.0 :   0.5 : False : False : NonNegativeReals\n",
      "         13 :     0 :               0.0 :   0.5 : False : False : NonNegativeReals\n",
      "         14 :     0 :               0.0 :   0.5 : False : False : NonNegativeReals\n",
      "         15 :     0 :               0.0 :   0.5 : False : False : NonNegativeReals\n",
      "         16 :     0 :               0.0 :   0.5 : False : False : NonNegativeReals\n",
      "         17 :     0 : 0.102049146556261 :   0.5 : False : False : NonNegativeReals\n",
      "         18 :     0 :              0.35 :   0.5 : False : False : NonNegativeReals\n",
      "         19 :     0 :              0.35 :   0.5 : False : False : NonNegativeReals\n",
      "         20 :     0 :              0.35 :   0.5 : False : False : NonNegativeReals\n",
      "         21 :     0 :              0.35 :   0.5 : False : False : NonNegativeReals\n",
      "         22 :     0 :             0.105 :   0.5 : False : False : NonNegativeReals\n",
      "         23 :     0 :             0.105 :   0.5 : False : False : NonNegativeReals\n",
      "    p_mw_PV : Size=24, Index=p_mw_PV_index\n",
      "        Key : Lower : Value              : Upper : Fixed : Stale : Domain\n",
      "          0 :     0 :                0.0 :  None : False : False : NonNegativeReals\n",
      "          1 :     0 :                0.0 :  None : False : False : NonNegativeReals\n",
      "          2 :     0 :                0.0 :  None : False : False : NonNegativeReals\n",
      "          3 :     0 :                0.0 :  None : False : False : NonNegativeReals\n",
      "          4 :     0 :                0.0 :  None : False : False : NonNegativeReals\n",
      "          5 :     0 :                0.0 :  None : False : False : NonNegativeReals\n",
      "          6 :     0 :                0.0 :  None : False : False : NonNegativeReals\n",
      "          7 :     0 :                0.0 :  None : False : False : NonNegativeReals\n",
      "          8 :     0 : 0.0236836745664072 :  None : False : False : NonNegativeReals\n",
      "          9 :     0 :  0.072950853443739 :  None : False : False : NonNegativeReals\n",
      "         10 :     0 :              0.175 :  None : False : False : NonNegativeReals\n",
      "         11 :     0 :              0.175 :  None : False : False : NonNegativeReals\n",
      "         12 :     0 :              0.175 :  None : False : False : NonNegativeReals\n",
      "         13 :     0 :              0.175 :  None : False : False : NonNegativeReals\n",
      "         14 :     0 :              0.175 :  None : False : False : NonNegativeReals\n",
      "         15 :     0 :              0.175 :  None : False : False : NonNegativeReals\n",
      "         16 :     0 :              0.175 :  None : False : False : NonNegativeReals\n",
      "         17 :     0 :  0.072950853443739 :  None : False : False : NonNegativeReals\n",
      "         18 :     0 :                0.0 :  None : False : False : NonNegativeReals\n",
      "         19 :     0 :                0.0 :  None : False : False : NonNegativeReals\n",
      "         20 :     0 :                0.0 :  None : False : False : NonNegativeReals\n",
      "         21 :     0 :                0.0 :  None : False : False : NonNegativeReals\n",
      "         22 :     0 :                0.0 :  None : False : False : NonNegativeReals\n",
      "         23 :     0 :                0.0 :  None : False : False : NonNegativeReals\n",
      "    p_mw_WT : Size=24, Index=p_mw_WT_index\n",
      "        Key : Lower : Value : Upper : Fixed : Stale : Domain\n",
      "          0 :     0 :   0.0 :  None : False : False : NonNegativeReals\n",
      "          1 :     0 :   0.0 :  None : False : False : NonNegativeReals\n",
      "          2 :     0 :   0.0 :  None : False : False : NonNegativeReals\n",
      "          3 :     0 :   0.0 :  None : False : False : NonNegativeReals\n",
      "          4 :     0 :   0.0 :  None : False : False : NonNegativeReals\n",
      "          5 :     0 :   0.0 :  None : False : False : NonNegativeReals\n",
      "          6 :     0 :   0.0 :  None : False : False : NonNegativeReals\n",
      "          7 :     0 :   0.0 :  None : False : False : NonNegativeReals\n",
      "          8 :     0 :   0.0 :  None : False : False : NonNegativeReals\n",
      "          9 :     0 :   0.0 :  None : False : False : NonNegativeReals\n",
      "         10 :     0 :   0.0 :  None : False : False : NonNegativeReals\n",
      "         11 :     0 :   0.0 :  None : False : False : NonNegativeReals\n",
      "         12 :     0 :   0.0 :  None : False : False : NonNegativeReals\n",
      "         13 :     0 :   0.0 :  None : False : False : NonNegativeReals\n",
      "         14 :     0 :   0.0 :  None : False : False : NonNegativeReals\n",
      "         15 :     0 :   0.0 :  None : False : False : NonNegativeReals\n",
      "         16 :     0 :   0.0 :  None : False : False : NonNegativeReals\n",
      "         17 :     0 :   0.0 :  None : False : False : NonNegativeReals\n",
      "         18 :     0 :   0.0 :  None : False : False : NonNegativeReals\n",
      "         19 :     0 :   0.0 :  None : False : False : NonNegativeReals\n",
      "         20 :     0 :   0.0 :  None : False : False : NonNegativeReals\n",
      "         21 :     0 :   0.0 :  None : False : False : NonNegativeReals\n",
      "         22 :     0 :   0.0 :  None : False : False : NonNegativeReals\n",
      "         23 :     0 :   0.0 :  None : False : False : NonNegativeReals\n",
      "    sgen_PV : Size=1, Index=None\n",
      "        Key  : Lower : Value : Upper : Fixed : Stale : Domain\n",
      "        None :     0 :   1.0 :     1 : False : False : Binary\n",
      "    sgen_WT : Size=1, Index=None\n",
      "        Key  : Lower : Value : Upper : Fixed : Stale : Domain\n",
      "        None :     0 :   0.0 :     1 : False : False : Binary\n",
      "\n",
      "1 Objective Declarations\n",
      "    value : Size=1, Index=None, Active=True\n",
      "        Key  : Active : Sense    : Expression\n",
      "        None :   True : minimize : 0.9125*p_mw_PV[0] + 1.2775*p_mw_WT[0] + 6.57*p_mw_Ext[0] + 0.9125*p_mw_PV[1] + 1.2775*p_mw_WT[1] + 6.57*p_mw_Ext[1] + 0.9125*p_mw_PV[2] + 1.2775*p_mw_WT[2] + 6.57*p_mw_Ext[2] + 0.9125*p_mw_PV[3] + 1.2775*p_mw_WT[3] + 6.57*p_mw_Ext[3] + 0.9125*p_mw_PV[4] + 1.2775*p_mw_WT[4] + 6.57*p_mw_Ext[4] + 0.9125*p_mw_PV[5] + 1.2775*p_mw_WT[5] + 6.57*p_mw_Ext[5] + 0.9125*p_mw_PV[6] + 1.2775*p_mw_WT[6] + 6.57*p_mw_Ext[6] + 0.9125*p_mw_PV[7] + 1.2775*p_mw_WT[7] + 6.57*p_mw_Ext[7] + 0.9125*p_mw_PV[8] + 1.2775*p_mw_WT[8] + 6.57*p_mw_Ext[8] + 0.9125*p_mw_PV[9] + 1.2775*p_mw_WT[9] + 6.57*p_mw_Ext[9] + 0.9125*p_mw_PV[10] + 1.2775*p_mw_WT[10] + 6.57*p_mw_Ext[10] + 0.9125*p_mw_PV[11] + 1.2775*p_mw_WT[11] + 6.57*p_mw_Ext[11] + 0.9125*p_mw_PV[12] + 1.2775*p_mw_WT[12] + 6.57*p_mw_Ext[12] + 0.9125*p_mw_PV[13] + 1.2775*p_mw_WT[13] + 6.57*p_mw_Ext[13] + 0.9125*p_mw_PV[14] + 1.2775*p_mw_WT[14] + 6.57*p_mw_Ext[14] + 0.9125*p_mw_PV[15] + 1.2775*p_mw_WT[15] + 6.57*p_mw_Ext[15] + 0.9125*p_mw_PV[16] + 1.2775*p_mw_WT[16] + 6.57*p_mw_Ext[16] + 0.9125*p_mw_PV[17] + 1.2775*p_mw_WT[17] + 6.57*p_mw_Ext[17] + 0.9125*p_mw_PV[18] + 1.2775*p_mw_WT[18] + 9.854999999999999*p_mw_Ext[18] + 0.9125*p_mw_PV[19] + 1.2775*p_mw_WT[19] + 9.854999999999999*p_mw_Ext[19] + 0.9125*p_mw_PV[20] + 1.2775*p_mw_WT[20] + 9.854999999999999*p_mw_Ext[20] + 0.9125*p_mw_PV[21] + 1.2775*p_mw_WT[21] + 9.854999999999999*p_mw_Ext[21] + 0.9125*p_mw_PV[22] + 1.2775*p_mw_WT[22] + 9.854999999999999*p_mw_Ext[22] + 0.9125*p_mw_PV[23] + 1.2775*p_mw_WT[23] + 9.854999999999999*p_mw_Ext[23] + 2.0*sgen_PV + 100.0*sgen_WT + 2.25*ap_mw_PV + 3.0*ap_mw_WT\n",
      "\n",
      "5 Constraint Declarations\n",
      "    PV_build : Size=1, Index=None, Active=True\n",
      "        Key  : Lower : Body                      : Upper : Active\n",
      "        None :  -Inf : ap_mw_PV - 1000.0*sgen_PV :   0.0 :   True\n",
      "    PV_dim : Size=24, Index=PV_dim_index, Active=True\n",
      "        Key : Lower : Body                                       : Upper : Active\n",
      "          0 :  -Inf :                                 p_mw_PV[0] :   0.0 :   True\n",
      "          1 :  -Inf :                                 p_mw_PV[1] :   0.0 :   True\n",
      "          2 :  -Inf :                                 p_mw_PV[2] :   0.0 :   True\n",
      "          3 :  -Inf :                                 p_mw_PV[3] :   0.0 :   True\n",
      "          4 :  -Inf :                                 p_mw_PV[4] :   0.0 :   True\n",
      "          5 :  -Inf :                                 p_mw_PV[5] :   0.0 :   True\n",
      "          6 :  -Inf :                                 p_mw_PV[6] :   0.0 :   True\n",
      "          7 :  -Inf :                                 p_mw_PV[7] :   0.0 :   True\n",
      "          8 :  -Inf :  p_mw_PV[8] - 0.04393693362340742*ap_mw_PV :   0.0 :   True\n",
      "          9 :  -Inf :   p_mw_PV[9] - 0.1353352832366127*ap_mw_PV :   0.0 :   True\n",
      "         10 :  -Inf : p_mw_PV[10] - 0.32465246735834974*ap_mw_PV :   0.0 :   True\n",
      "         11 :  -Inf :  p_mw_PV[11] - 0.6065306597126334*ap_mw_PV :   0.0 :   True\n",
      "         12 :  -Inf :  p_mw_PV[12] - 0.8824969025845955*ap_mw_PV :   0.0 :   True\n",
      "         13 :  -Inf :                     p_mw_PV[13] - ap_mw_PV :   0.0 :   True\n",
      "         14 :  -Inf :  p_mw_PV[14] - 0.8824969025845955*ap_mw_PV :   0.0 :   True\n",
      "         15 :  -Inf :  p_mw_PV[15] - 0.6065306597126334*ap_mw_PV :   0.0 :   True\n",
      "         16 :  -Inf : p_mw_PV[16] - 0.32465246735834974*ap_mw_PV :   0.0 :   True\n",
      "         17 :  -Inf :  p_mw_PV[17] - 0.1353352832366127*ap_mw_PV :   0.0 :   True\n",
      "         18 :  -Inf :                                p_mw_PV[18] :   0.0 :   True\n",
      "         19 :  -Inf :                                p_mw_PV[19] :   0.0 :   True\n",
      "         20 :  -Inf :                                p_mw_PV[20] :   0.0 :   True\n",
      "         21 :  -Inf :                                p_mw_PV[21] :   0.0 :   True\n",
      "         22 :  -Inf :                                p_mw_PV[22] :   0.0 :   True\n",
      "         23 :  -Inf :                                p_mw_PV[23] :   0.0 :   True\n",
      "    WT_build : Size=1, Index=None, Active=True\n",
      "        Key  : Lower : Body                      : Upper : Active\n",
      "        None :  -Inf : ap_mw_WT - 1000.0*sgen_WT :   0.0 :   True\n",
      "    WT_dim : Size=24, Index=WT_dim_index, Active=True\n",
      "        Key : Lower : Body                                       : Upper : Active\n",
      "          0 :  -Inf :  p_mw_WT[0] - 0.11344392845849398*ap_mw_WT :   0.0 :   True\n",
      "          1 :  -Inf :                      p_mw_WT[1] - ap_mw_WT :   0.0 :   True\n",
      "          2 :  -Inf :   p_mw_WT[2] - 0.2216253242575923*ap_mw_WT :   0.0 :   True\n",
      "          3 :  -Inf :                      p_mw_WT[3] - ap_mw_WT :   0.0 :   True\n",
      "          4 :  -Inf :   p_mw_WT[4] - 0.6737531881168346*ap_mw_WT :   0.0 :   True\n",
      "          5 :  -Inf :   p_mw_WT[5] - 0.2961873298691282*ap_mw_WT :   0.0 :   True\n",
      "          6 :  -Inf :                                 p_mw_WT[6] :   0.0 :   True\n",
      "          7 :  -Inf :                                 p_mw_WT[7] :   0.0 :   True\n",
      "          8 :  -Inf :   p_mw_WT[8] - 0.4071813777153899*ap_mw_WT :   0.0 :   True\n",
      "          9 :  -Inf :   p_mw_WT[9] - 0.5871032763143537*ap_mw_WT :   0.0 :   True\n",
      "         10 :  -Inf :  p_mw_WT[10] - 0.9890384909760371*ap_mw_WT :   0.0 :   True\n",
      "         11 :  -Inf :  p_mw_WT[11] - 0.9099295503101742*ap_mw_WT :   0.0 :   True\n",
      "         12 :  -Inf :  p_mw_WT[12] - 0.1636118382428758*ap_mw_WT :   0.0 :   True\n",
      "         13 :  -Inf : p_mw_WT[13] - 0.14618067182616082*ap_mw_WT :   0.0 :   True\n",
      "         14 :  -Inf :   p_mw_WT[14] - 0.839912975219404*ap_mw_WT :   0.0 :   True\n",
      "         15 :  -Inf :                     p_mw_WT[15] - ap_mw_WT :   0.0 :   True\n",
      "         16 :  -Inf :                     p_mw_WT[16] - ap_mw_WT :   0.0 :   True\n",
      "         17 :  -Inf :                     p_mw_WT[17] - ap_mw_WT :   0.0 :   True\n",
      "         18 :  -Inf :                                p_mw_WT[18] :   0.0 :   True\n",
      "         19 :  -Inf :                     p_mw_WT[19] - ap_mw_WT :   0.0 :   True\n",
      "         20 :  -Inf :                     p_mw_WT[20] - ap_mw_WT :   0.0 :   True\n",
      "         21 :  -Inf :  p_mw_WT[21] - 0.7634915722802934*ap_mw_WT :   0.0 :   True\n",
      "         22 :  -Inf :                     p_mw_WT[22] - ap_mw_WT :   0.0 :   True\n",
      "         23 :  -Inf : p_mw_WT[23] - 0.19221899505241513*ap_mw_WT :   0.0 :   True\n",
      "    hourly_power_balance : Size=24, Index=hourly_power_balance_index, Active=True\n",
      "        Key : Lower : Body                                                        : Upper : Active\n",
      "          0 :   0.0 : p_mw_Ext[0] + p_mw_PV[0] + p_mw_WT[0] - 0.06999999999999999 :   0.0 :   True\n",
      "          1 :   0.0 : p_mw_Ext[1] + p_mw_PV[1] + p_mw_WT[1] - 0.06999999999999999 :   0.0 :   True\n",
      "          2 :   0.0 : p_mw_Ext[2] + p_mw_PV[2] + p_mw_WT[2] - 0.06999999999999999 :   0.0 :   True\n",
      "          3 :   0.0 : p_mw_Ext[3] + p_mw_PV[3] + p_mw_WT[3] - 0.06999999999999999 :   0.0 :   True\n",
      "          4 :   0.0 : p_mw_Ext[4] + p_mw_PV[4] + p_mw_WT[4] - 0.06999999999999999 :   0.0 :   True\n",
      "          5 :   0.0 : p_mw_Ext[5] + p_mw_PV[5] + p_mw_WT[5] - 0.06999999999999999 :   0.0 :   True\n",
      "          6 :   0.0 : p_mw_Ext[6] + p_mw_PV[6] + p_mw_WT[6] - 0.13999999999999999 :   0.0 :   True\n",
      "          7 :   0.0 : p_mw_Ext[7] + p_mw_PV[7] + p_mw_WT[7] - 0.13999999999999999 :   0.0 :   True\n",
      "          8 :   0.0 :               p_mw_Ext[8] + p_mw_PV[8] + p_mw_WT[8] - 0.175 :   0.0 :   True\n",
      "          9 :   0.0 :               p_mw_Ext[9] + p_mw_PV[9] + p_mw_WT[9] - 0.175 :   0.0 :   True\n",
      "         10 :   0.0 :            p_mw_Ext[10] + p_mw_PV[10] + p_mw_WT[10] - 0.175 :   0.0 :   True\n",
      "         11 :   0.0 :            p_mw_Ext[11] + p_mw_PV[11] + p_mw_WT[11] - 0.175 :   0.0 :   True\n",
      "         12 :   0.0 :            p_mw_Ext[12] + p_mw_PV[12] + p_mw_WT[12] - 0.175 :   0.0 :   True\n",
      "         13 :   0.0 :            p_mw_Ext[13] + p_mw_PV[13] + p_mw_WT[13] - 0.175 :   0.0 :   True\n",
      "         14 :   0.0 :            p_mw_Ext[14] + p_mw_PV[14] + p_mw_WT[14] - 0.175 :   0.0 :   True\n",
      "         15 :   0.0 :            p_mw_Ext[15] + p_mw_PV[15] + p_mw_WT[15] - 0.175 :   0.0 :   True\n",
      "         16 :   0.0 :            p_mw_Ext[16] + p_mw_PV[16] + p_mw_WT[16] - 0.175 :   0.0 :   True\n",
      "         17 :   0.0 :            p_mw_Ext[17] + p_mw_PV[17] + p_mw_WT[17] - 0.175 :   0.0 :   True\n",
      "         18 :   0.0 :             p_mw_Ext[18] + p_mw_PV[18] + p_mw_WT[18] - 0.35 :   0.0 :   True\n",
      "         19 :   0.0 :             p_mw_Ext[19] + p_mw_PV[19] + p_mw_WT[19] - 0.35 :   0.0 :   True\n",
      "         20 :   0.0 :             p_mw_Ext[20] + p_mw_PV[20] + p_mw_WT[20] - 0.35 :   0.0 :   True\n",
      "         21 :   0.0 :             p_mw_Ext[21] + p_mw_PV[21] + p_mw_WT[21] - 0.35 :   0.0 :   True\n",
      "         22 :   0.0 :            p_mw_Ext[22] + p_mw_PV[22] + p_mw_WT[22] - 0.105 :   0.0 :   True\n",
      "         23 :   0.0 :            p_mw_Ext[23] + p_mw_PV[23] + p_mw_WT[23] - 0.105 :   0.0 :   True\n",
      "\n",
      "19 Declarations: ap_mw_PV ap_mw_WT sgen_PV sgen_WT p_mw_PV_index p_mw_PV p_mw_WT_index p_mw_WT p_mw_Ext_index p_mw_Ext value hourly_power_balance_index hourly_power_balance PV_dim_index PV_dim PV_build WT_dim_index WT_dim WT_build\n"
     ]
    }
   ],
   "source": [
    "m.pprint()"
   ]
  },
  {
   "cell_type": "code",
   "execution_count": null,
   "id": "radio-stocks",
   "metadata": {},
   "outputs": [],
   "source": []
  }
 ],
 "metadata": {
  "kernelspec": {
   "display_name": "Python 3",
   "language": "python",
   "name": "python3"
  },
  "language_info": {
   "codemirror_mode": {
    "name": "ipython",
    "version": 3
   },
   "file_extension": ".py",
   "mimetype": "text/x-python",
   "name": "python",
   "nbconvert_exporter": "python",
   "pygments_lexer": "ipython3",
   "version": "3.8.8"
  }
 },
 "nbformat": 4,
 "nbformat_minor": 5
}
