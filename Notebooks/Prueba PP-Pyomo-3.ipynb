{
 "cells": [
  {
   "cell_type": "markdown",
   "id": "respective-mitchell",
   "metadata": {
    "id": "addressed-terrorism"
   },
   "source": [
    "## Prueba de modelos ##\n",
    "\n",
    "### Version 3: Modelo con 2 DER, planificación anual, granularidad horaria ###\n",
    "\n",
    "Si el modelo tiene que optimizar el balance por horas, tiene 8640 VD, pero sigue teniendo 2 VD binarias"
   ]
  },
  {
   "cell_type": "code",
   "execution_count": 1,
   "id": "indie-finish",
   "metadata": {
    "executionInfo": {
     "elapsed": 3100,
     "status": "ok",
     "timestamp": 1619871039249,
     "user": {
      "displayName": "Juan Sardón",
      "photoUrl": "https://lh3.googleusercontent.com/a-/AOh14Gh0hE4Hw8M0I17k-o2PXxLB5i6gNZV_oUTpZlyJ3Q=s64",
      "userId": "08267034058673099115"
     },
     "user_tz": 180
    },
    "id": "aboriginal-joshua"
   },
   "outputs": [],
   "source": [
    "import pandapower as pp"
   ]
  },
  {
   "cell_type": "code",
   "execution_count": 2,
   "id": "statewide-fraud",
   "metadata": {
    "executionInfo": {
     "elapsed": 897,
     "status": "ok",
     "timestamp": 1619873016071,
     "user": {
      "displayName": "Juan Sardón",
      "photoUrl": "https://lh3.googleusercontent.com/a-/AOh14Gh0hE4Hw8M0I17k-o2PXxLB5i6gNZV_oUTpZlyJ3Q=s64",
      "userId": "08267034058673099115"
     },
     "user_tz": 180
    },
    "id": "YkmoER_O9JGU"
   },
   "outputs": [],
   "source": [
    "import os"
   ]
  },
  {
   "cell_type": "code",
   "execution_count": 3,
   "id": "decent-forestry",
   "metadata": {
    "executionInfo": {
     "elapsed": 1040,
     "status": "ok",
     "timestamp": 1619871044294,
     "user": {
      "displayName": "Juan Sardón",
      "photoUrl": "https://lh3.googleusercontent.com/a-/AOh14Gh0hE4Hw8M0I17k-o2PXxLB5i6gNZV_oUTpZlyJ3Q=s64",
      "userId": "08267034058673099115"
     },
     "user_tz": 180
    },
    "id": "narrative-census"
   },
   "outputs": [],
   "source": [
    "import pandas as pd"
   ]
  },
  {
   "cell_type": "code",
   "execution_count": 4,
   "id": "suburban-question",
   "metadata": {
    "executionInfo": {
     "elapsed": 1223,
     "status": "ok",
     "timestamp": 1619871099068,
     "user": {
      "displayName": "Juan Sardón",
      "photoUrl": "https://lh3.googleusercontent.com/a-/AOh14Gh0hE4Hw8M0I17k-o2PXxLB5i6gNZV_oUTpZlyJ3Q=s64",
      "userId": "08267034058673099115"
     },
     "user_tz": 180
    },
    "id": "collectible-innocent"
   },
   "outputs": [],
   "source": [
    "import pyomo.environ as pe"
   ]
  },
  {
   "cell_type": "code",
   "execution_count": 5,
   "id": "hairy-tunnel",
   "metadata": {
    "executionInfo": {
     "elapsed": 660,
     "status": "ok",
     "timestamp": 1619871102257,
     "user": {
      "displayName": "Juan Sardón",
      "photoUrl": "https://lh3.googleusercontent.com/a-/AOh14Gh0hE4Hw8M0I17k-o2PXxLB5i6gNZV_oUTpZlyJ3Q=s64",
      "userId": "08267034058673099115"
     },
     "user_tz": 180
    },
    "id": "handled-baltimore"
   },
   "outputs": [],
   "source": [
    "import math"
   ]
  },
  {
   "cell_type": "code",
   "execution_count": 6,
   "id": "beginning-warner",
   "metadata": {
    "executionInfo": {
     "elapsed": 743,
     "status": "ok",
     "timestamp": 1619871107273,
     "user": {
      "displayName": "Juan Sardón",
      "photoUrl": "https://lh3.googleusercontent.com/a-/AOh14Gh0hE4Hw8M0I17k-o2PXxLB5i6gNZV_oUTpZlyJ3Q=s64",
      "userId": "08267034058673099115"
     },
     "user_tz": 180
    },
    "id": "substantial-payroll"
   },
   "outputs": [],
   "source": [
    "import random"
   ]
  },
  {
   "cell_type": "code",
   "execution_count": 7,
   "id": "loving-protection",
   "metadata": {
    "executionInfo": {
     "elapsed": 455,
     "status": "ok",
     "timestamp": 1619871108396,
     "user": {
      "displayName": "Juan Sardón",
      "photoUrl": "https://lh3.googleusercontent.com/a-/AOh14Gh0hE4Hw8M0I17k-o2PXxLB5i6gNZV_oUTpZlyJ3Q=s64",
      "userId": "08267034058673099115"
     },
     "user_tz": 180
    },
    "id": "united-bronze"
   },
   "outputs": [],
   "source": [
    "import matplotlib.pyplot as plt"
   ]
  },
  {
   "cell_type": "code",
   "execution_count": 8,
   "id": "mental-pointer",
   "metadata": {
    "executionInfo": {
     "elapsed": 691,
     "status": "ok",
     "timestamp": 1619873086086,
     "user": {
      "displayName": "Juan Sardón",
      "photoUrl": "https://lh3.googleusercontent.com/a-/AOh14Gh0hE4Hw8M0I17k-o2PXxLB5i6gNZV_oUTpZlyJ3Q=s64",
      "userId": "08267034058673099115"
     },
     "user_tz": 180
    },
    "id": "4JgLplOd9MHj"
   },
   "outputs": [],
   "source": [
    "os.environ['NEOS_EMAIL'] = 'juan.manuel.sardon@gmail.com'"
   ]
  },
  {
   "cell_type": "code",
   "execution_count": 9,
   "id": "settled-reliance",
   "metadata": {
    "colab": {
     "base_uri": "https://localhost:8080/"
    },
    "executionInfo": {
     "elapsed": 807,
     "status": "ok",
     "timestamp": 1619871111293,
     "user": {
      "displayName": "Juan Sardón",
      "photoUrl": "https://lh3.googleusercontent.com/a-/AOh14Gh0hE4Hw8M0I17k-o2PXxLB5i6gNZV_oUTpZlyJ3Q=s64",
      "userId": "08267034058673099115"
     },
     "user_tz": 180
    },
    "id": "corrected-friendly",
    "outputId": "6e20f4ac-d7c9-4ba1-b123-69f642890cf8"
   },
   "outputs": [
    {
     "data": {
      "text/plain": [
       "0"
      ]
     },
     "execution_count": 9,
     "metadata": {},
     "output_type": "execute_result"
    }
   ],
   "source": [
    "net = pp.create_empty_network() \n",
    "b1 = pp.create_bus(net, vn_kv=13.2)\n",
    "b2 = pp.create_bus(net, vn_kv=13.2)\n",
    "b3 = pp.create_bus(net, vn_kv=13.2)\n",
    "b4 = pp.create_bus(net, vn_kv=13.2)\n",
    "\n",
    "pp.create_line(net, from_bus=b1, to_bus=b2, length_km=0.8, std_type=\"NAYY 4x50 SE\")\n",
    "pp.create_line(net, from_bus=b2, to_bus=b3, length_km=1.2, std_type=\"NAYY 4x50 SE\")\n",
    "pp.create_line(net, from_bus=b3, to_bus=b4, length_km=1.0, std_type=\"NAYY 4x50 SE\")\n",
    "\n",
    "pp.create_ext_grid(net, bus=b1)\n",
    "\n",
    "pp.create_load(net, bus=b3, p_mw=0.350)"
   ]
  },
  {
   "cell_type": "markdown",
   "id": "forced-marking",
   "metadata": {
    "id": "xcgS4o40UfnV"
   },
   "source": []
  },
  {
   "cell_type": "code",
   "execution_count": 10,
   "id": "august-rebel",
   "metadata": {
    "executionInfo": {
     "elapsed": 4038,
     "status": "ok",
     "timestamp": 1619871117621,
     "user": {
      "displayName": "Juan Sardón",
      "photoUrl": "https://lh3.googleusercontent.com/a-/AOh14Gh0hE4Hw8M0I17k-o2PXxLB5i6gNZV_oUTpZlyJ3Q=s64",
      "userId": "08267034058673099115"
     },
     "user_tz": 180
    },
    "id": "junior-abraham"
   },
   "outputs": [],
   "source": [
    " pp.runpp(net)"
   ]
  },
  {
   "cell_type": "code",
   "execution_count": null,
   "id": "everyday-vegetable",
   "metadata": {
    "executionInfo": {
     "elapsed": 1086,
     "status": "ok",
     "timestamp": 1619871119477,
     "user": {
      "displayName": "Juan Sardón",
      "photoUrl": "https://lh3.googleusercontent.com/a-/AOh14Gh0hE4Hw8M0I17k-o2PXxLB5i6gNZV_oUTpZlyJ3Q=s64",
      "userId": "08267034058673099115"
     },
     "user_tz": 180
    },
    "id": "conventional-colombia"
   },
   "outputs": [],
   "source": []
  },
  {
   "cell_type": "code",
   "execution_count": 11,
   "id": "external-building",
   "metadata": {
    "colab": {
     "base_uri": "https://localhost:8080/"
    },
    "executionInfo": {
     "elapsed": 502,
     "status": "ok",
     "timestamp": 1619871119478,
     "user": {
      "displayName": "Juan Sardón",
      "photoUrl": "https://lh3.googleusercontent.com/a-/AOh14Gh0hE4Hw8M0I17k-o2PXxLB5i6gNZV_oUTpZlyJ3Q=s64",
      "userId": "08267034058673099115"
     },
     "user_tz": 180
    },
    "id": "biological-emergency",
    "outputId": "6b52f1de-fd84-41cb-8d9f-caa915c2c740"
   },
   "outputs": [
    {
     "name": "stdout",
     "output_type": "stream",
     "text": [
      "0    1.000000\n",
      "1    0.998977\n",
      "2    0.997436\n",
      "3    0.997439\n",
      "Name: vm_pu, dtype: float64\n",
      "      p_from_mw  q_from_mvar       p_to_mw     q_to_mvar         pl_mw  \\\n",
      "0  3.509116e-01    -0.034250 -3.505460e-01  2.511060e-02  3.655632e-04   \n",
      "1  3.505460e-01    -0.025111 -3.500001e-01  1.143635e-02  5.459089e-04   \n",
      "2  1.210575e-07    -0.011436  3.942859e-11 -3.873803e-10  1.210970e-07   \n",
      "\n",
      "    ql_mvar  i_from_ka       i_to_ka      i_ka  vm_from_pu  va_from_degree  \\\n",
      "0 -0.009140   0.015421  1.538744e-02  0.015421    1.000000        0.000000   \n",
      "1 -0.013674   0.015387  1.535608e-02  0.015387    0.998977       -0.012683   \n",
      "2 -0.011436   0.000501  1.707477e-11  0.000501    0.997436       -0.028839   \n",
      "\n",
      "   vm_to_pu  va_to_degree  loading_percent  \n",
      "0  0.998977     -0.012683        10.860096  \n",
      "1  0.997436     -0.028839        10.836226  \n",
      "2  0.997439     -0.030053         0.353167  \n"
     ]
    }
   ],
   "source": [
    "print(net.res_bus.vm_pu)\n",
    "print(net.res_line)"
   ]
  },
  {
   "cell_type": "code",
   "execution_count": 12,
   "id": "indian-whale",
   "metadata": {
    "colab": {
     "base_uri": "https://localhost:8080/"
    },
    "executionInfo": {
     "elapsed": 459,
     "status": "ok",
     "timestamp": 1619871121095,
     "user": {
      "displayName": "Juan Sardón",
      "photoUrl": "https://lh3.googleusercontent.com/a-/AOh14Gh0hE4Hw8M0I17k-o2PXxLB5i6gNZV_oUTpZlyJ3Q=s64",
      "userId": "08267034058673099115"
     },
     "user_tz": 180
    },
    "id": "center-albuquerque",
    "outputId": "6948c131-f354-427d-dc6f-291302dd6e1e"
   },
   "outputs": [
    {
     "data": {
      "text/plain": [
       "1"
      ]
     },
     "execution_count": 12,
     "metadata": {},
     "output_type": "execute_result"
    }
   ],
   "source": [
    "pp.create_sgen(net, b2, p_mw=0.05, q_mvar=0.025, max_p_mw=0.2, max_q_mvar=0.2)\n",
    "pp.create_sgen(net, b4, p_mw=0.07, q_mvar=0.025, max_p_mw=0.3, max_q_mvar=0.2)\n"
   ]
  },
  {
   "cell_type": "code",
   "execution_count": 13,
   "id": "harmful-stand",
   "metadata": {
    "executionInfo": {
     "elapsed": 1069,
     "status": "ok",
     "timestamp": 1619871122941,
     "user": {
      "displayName": "Juan Sardón",
      "photoUrl": "https://lh3.googleusercontent.com/a-/AOh14Gh0hE4Hw8M0I17k-o2PXxLB5i6gNZV_oUTpZlyJ3Q=s64",
      "userId": "08267034058673099115"
     },
     "user_tz": 180
    },
    "id": "nasty-yield"
   },
   "outputs": [],
   "source": [
    "pp.runpp(net)"
   ]
  },
  {
   "cell_type": "code",
   "execution_count": 14,
   "id": "brief-injection",
   "metadata": {
    "colab": {
     "base_uri": "https://localhost:8080/"
    },
    "executionInfo": {
     "elapsed": 895,
     "status": "ok",
     "timestamp": 1619871124407,
     "user": {
      "displayName": "Juan Sardón",
      "photoUrl": "https://lh3.googleusercontent.com/a-/AOh14Gh0hE4Hw8M0I17k-o2PXxLB5i6gNZV_oUTpZlyJ3Q=s64",
      "userId": "08267034058673099115"
     },
     "user_tz": 180
    },
    "id": "progressive-instrument",
    "outputId": "7111339e-dbbd-49df-d6b0-1165bda7f890"
   },
   "outputs": [
    {
     "name": "stdout",
     "output_type": "stream",
     "text": [
      "0    1.000000\n",
      "1    0.999351\n",
      "2    0.998135\n",
      "3    0.998408\n",
      "Name: vm_pu, dtype: float64\n",
      "   p_from_mw  q_from_mvar   p_to_mw  q_to_mvar     pl_mw   ql_mvar  i_from_ka  \\\n",
      "0   0.230553    -0.084334 -0.230378   0.075166  0.000175 -0.009168   0.010738   \n",
      "1   0.280378    -0.050166 -0.280022   0.036453  0.000356 -0.013714   0.012466   \n",
      "2  -0.069978    -0.036453  0.070000   0.025000  0.000022 -0.011453   0.003458   \n",
      "\n",
      "    i_to_ka      i_ka  vm_from_pu  va_from_degree  vm_to_pu  va_to_degree  \\\n",
      "0  0.010606  0.010738    1.000000        0.000000  0.999351     -0.018512   \n",
      "1  0.012374  0.012466    0.999351       -0.018512  0.998135     -0.038710   \n",
      "2  0.003256  0.003458    0.998135       -0.038710  0.998408     -0.043302   \n",
      "\n",
      "   loading_percent  \n",
      "0         7.561657  \n",
      "1         8.779012  \n",
      "2         2.434919  \n"
     ]
    }
   ],
   "source": [
    "print(net.res_bus.vm_pu)\n",
    "print(net.res_line)"
   ]
  },
  {
   "cell_type": "code",
   "execution_count": 15,
   "id": "sticky-space",
   "metadata": {
    "colab": {
     "base_uri": "https://localhost:8080/"
    },
    "executionInfo": {
     "elapsed": 672,
     "status": "ok",
     "timestamp": 1619871126405,
     "user": {
      "displayName": "Juan Sardón",
      "photoUrl": "https://lh3.googleusercontent.com/a-/AOh14Gh0hE4Hw8M0I17k-o2PXxLB5i6gNZV_oUTpZlyJ3Q=s64",
      "userId": "08267034058673099115"
     },
     "user_tz": 180
    },
    "id": "norwegian-dover",
    "outputId": "09a8e93c-2639-4de9-f6ea-bbe9e68e6313"
   },
   "outputs": [
    {
     "name": "stdout",
     "output_type": "stream",
     "text": [
      "This pandapower network includes the following parameter tables:\n",
      "   - bus (4 elements)\n",
      "   - load (1 element)\n",
      "   - sgen (2 elements)\n",
      "   - ext_grid (1 element)\n",
      "   - line (3 elements)\n",
      " and the following results tables:\n",
      "   - res_bus (4 elements)\n",
      "   - res_line (3 elements)\n",
      "   - res_ext_grid (1 element)\n",
      "   - res_load (1 element)\n",
      "   - res_sgen (2 elements)\n"
     ]
    }
   ],
   "source": [
    "print(net)"
   ]
  },
  {
   "cell_type": "code",
   "execution_count": 16,
   "id": "secret-intent",
   "metadata": {
    "colab": {
     "base_uri": "https://localhost:8080/",
     "height": 112
    },
    "executionInfo": {
     "elapsed": 808,
     "status": "ok",
     "timestamp": 1619871134640,
     "user": {
      "displayName": "Juan Sardón",
      "photoUrl": "https://lh3.googleusercontent.com/a-/AOh14Gh0hE4Hw8M0I17k-o2PXxLB5i6gNZV_oUTpZlyJ3Q=s64",
      "userId": "08267034058673099115"
     },
     "user_tz": 180
    },
    "id": "seven-international",
    "outputId": "41ab08ff-cd65-4156-c954-4d53be792673"
   },
   "outputs": [
    {
     "data": {
      "text/html": [
       "<div>\n",
       "<style scoped>\n",
       "    .dataframe tbody tr th:only-of-type {\n",
       "        vertical-align: middle;\n",
       "    }\n",
       "\n",
       "    .dataframe tbody tr th {\n",
       "        vertical-align: top;\n",
       "    }\n",
       "\n",
       "    .dataframe thead th {\n",
       "        text-align: right;\n",
       "    }\n",
       "</style>\n",
       "<table border=\"1\" class=\"dataframe\">\n",
       "  <thead>\n",
       "    <tr style=\"text-align: right;\">\n",
       "      <th></th>\n",
       "      <th>name</th>\n",
       "      <th>bus</th>\n",
       "      <th>p_mw</th>\n",
       "      <th>q_mvar</th>\n",
       "      <th>sn_mva</th>\n",
       "      <th>scaling</th>\n",
       "      <th>in_service</th>\n",
       "      <th>type</th>\n",
       "      <th>current_source</th>\n",
       "      <th>max_p_mw</th>\n",
       "      <th>max_q_mvar</th>\n",
       "    </tr>\n",
       "  </thead>\n",
       "  <tbody>\n",
       "    <tr>\n",
       "      <th>0</th>\n",
       "      <td>None</td>\n",
       "      <td>1</td>\n",
       "      <td>0.05</td>\n",
       "      <td>0.025</td>\n",
       "      <td>NaN</td>\n",
       "      <td>1.0</td>\n",
       "      <td>True</td>\n",
       "      <td>wye</td>\n",
       "      <td>True</td>\n",
       "      <td>0.2</td>\n",
       "      <td>0.2</td>\n",
       "    </tr>\n",
       "    <tr>\n",
       "      <th>1</th>\n",
       "      <td>None</td>\n",
       "      <td>3</td>\n",
       "      <td>0.07</td>\n",
       "      <td>0.025</td>\n",
       "      <td>NaN</td>\n",
       "      <td>1.0</td>\n",
       "      <td>True</td>\n",
       "      <td>wye</td>\n",
       "      <td>True</td>\n",
       "      <td>0.3</td>\n",
       "      <td>0.2</td>\n",
       "    </tr>\n",
       "  </tbody>\n",
       "</table>\n",
       "</div>"
      ],
      "text/plain": [
       "   name  bus  p_mw  q_mvar  sn_mva  scaling  in_service type  current_source  \\\n",
       "0  None    1  0.05   0.025     NaN      1.0        True  wye            True   \n",
       "1  None    3  0.07   0.025     NaN      1.0        True  wye            True   \n",
       "\n",
       "   max_p_mw  max_q_mvar  \n",
       "0       0.2         0.2  \n",
       "1       0.3         0.2  "
      ]
     },
     "execution_count": 16,
     "metadata": {},
     "output_type": "execute_result"
    }
   ],
   "source": [
    "net.sgen"
   ]
  },
  {
   "cell_type": "markdown",
   "id": "public-antenna",
   "metadata": {
    "id": "alike-greensboro"
   },
   "source": [
    "Agregamos los parámetros del modelo a los elementos de la red."
   ]
  },
  {
   "cell_type": "code",
   "execution_count": 17,
   "id": "modern-fraud",
   "metadata": {
    "executionInfo": {
     "elapsed": 748,
     "status": "ok",
     "timestamp": 1619871143087,
     "user": {
      "displayName": "Juan Sardón",
      "photoUrl": "https://lh3.googleusercontent.com/a-/AOh14Gh0hE4Hw8M0I17k-o2PXxLB5i6gNZV_oUTpZlyJ3Q=s64",
      "userId": "08267034058673099115"
     },
     "user_tz": 180
    },
    "id": "circular-simpson"
   },
   "outputs": [],
   "source": [
    "def net_add_optfw(net):\n",
    "    #agregamos parámetros para el costo inicial en forma de un valor constante ic_0 y un valor función lineal de la potencia ic_1\n",
    "    net.ext_grid['ic_0_mu'] = 0.0\n",
    "    net.ext_grid['ic_1_mu'] = 0.0\n",
    "\n",
    "    #idem para costo operativo\n",
    "    net.ext_grid['oc_0_mu'] = 0.0\n",
    "    net.ext_grid['oc_1_mu'] = 0.0\n",
    "\n",
    "    #potencia disponible\n",
    "    net.ext_grid['ap_mw'] = 1.0\n",
    "    \n",
    "    #potencia entregada\n",
    "    net.ext_grid['op_mw'] = 0.0\n",
    "    \n",
    "    #las restricciones pueden ser ninguna, o una lista de restricciones tipo pyomo\n",
    "    net.ext_grid['constraints'] = None\n",
    "\n",
    "    #se repite para la carga y los generadores estáticos\n",
    "    net.load['ic_0_mu'] = 0.0\n",
    "    net.load['ic_1_mu'] = 0.0\n",
    "    net.load['oc_0_mu'] = 0.0\n",
    "    net.load['oc_1_mu'] = 0.0\n",
    "    net.load['ap_mw'] = 0.5\n",
    "    net.load['op_mw'] = 0.0\n",
    "    net.load['constraints'] = None\n",
    "\n",
    "    net.sgen['ic_0_mu'] = 0.0\n",
    "    net.sgen['ic_1_mu'] = 0.0\n",
    "    net.sgen['oc_0_mu'] = 0.0\n",
    "    net.sgen['oc_1_mu'] = 0.0\n",
    "    net.sgen['ap_mw'] = 0.5\n",
    "    net.sgen['op_mw'] = 0.0\n",
    "    net.sgen['constraints'] = None"
   ]
  },
  {
   "cell_type": "code",
   "execution_count": 18,
   "id": "flexible-circumstances",
   "metadata": {
    "executionInfo": {
     "elapsed": 503,
     "status": "ok",
     "timestamp": 1619871144295,
     "user": {
      "displayName": "Juan Sardón",
      "photoUrl": "https://lh3.googleusercontent.com/a-/AOh14Gh0hE4Hw8M0I17k-o2PXxLB5i6gNZV_oUTpZlyJ3Q=s64",
      "userId": "08267034058673099115"
     },
     "user_tz": 180
    },
    "id": "respiratory-transport"
   },
   "outputs": [],
   "source": [
    "net_add_optfw(net)"
   ]
  },
  {
   "cell_type": "markdown",
   "id": "contemporary-drove",
   "metadata": {
    "id": "elder-launch"
   },
   "source": [
    "Vemos como queda por ejemplo el elemento de red externa:"
   ]
  },
  {
   "cell_type": "code",
   "execution_count": 19,
   "id": "enabling-national",
   "metadata": {
    "colab": {
     "base_uri": "https://localhost:8080/",
     "height": 81
    },
    "executionInfo": {
     "elapsed": 665,
     "status": "ok",
     "timestamp": 1619871149412,
     "user": {
      "displayName": "Juan Sardón",
      "photoUrl": "https://lh3.googleusercontent.com/a-/AOh14Gh0hE4Hw8M0I17k-o2PXxLB5i6gNZV_oUTpZlyJ3Q=s64",
      "userId": "08267034058673099115"
     },
     "user_tz": 180
    },
    "id": "overhead-delivery",
    "outputId": "340e3686-eb77-4cc0-ce57-0bb69c2d7785"
   },
   "outputs": [
    {
     "data": {
      "text/html": [
       "<div>\n",
       "<style scoped>\n",
       "    .dataframe tbody tr th:only-of-type {\n",
       "        vertical-align: middle;\n",
       "    }\n",
       "\n",
       "    .dataframe tbody tr th {\n",
       "        vertical-align: top;\n",
       "    }\n",
       "\n",
       "    .dataframe thead th {\n",
       "        text-align: right;\n",
       "    }\n",
       "</style>\n",
       "<table border=\"1\" class=\"dataframe\">\n",
       "  <thead>\n",
       "    <tr style=\"text-align: right;\">\n",
       "      <th></th>\n",
       "      <th>name</th>\n",
       "      <th>bus</th>\n",
       "      <th>vm_pu</th>\n",
       "      <th>va_degree</th>\n",
       "      <th>in_service</th>\n",
       "      <th>ic_0_mu</th>\n",
       "      <th>ic_1_mu</th>\n",
       "      <th>oc_0_mu</th>\n",
       "      <th>oc_1_mu</th>\n",
       "      <th>ap_mw</th>\n",
       "      <th>op_mw</th>\n",
       "      <th>constraints</th>\n",
       "    </tr>\n",
       "  </thead>\n",
       "  <tbody>\n",
       "    <tr>\n",
       "      <th>0</th>\n",
       "      <td>None</td>\n",
       "      <td>0</td>\n",
       "      <td>1.0</td>\n",
       "      <td>0.0</td>\n",
       "      <td>True</td>\n",
       "      <td>0.0</td>\n",
       "      <td>0.0</td>\n",
       "      <td>0.0</td>\n",
       "      <td>0.0</td>\n",
       "      <td>1.0</td>\n",
       "      <td>0.0</td>\n",
       "      <td>None</td>\n",
       "    </tr>\n",
       "  </tbody>\n",
       "</table>\n",
       "</div>"
      ],
      "text/plain": [
       "   name  bus  vm_pu  va_degree  in_service  ic_0_mu  ic_1_mu  oc_0_mu  \\\n",
       "0  None    0    1.0        0.0        True      0.0      0.0      0.0   \n",
       "\n",
       "   oc_1_mu  ap_mw  op_mw constraints  \n",
       "0      0.0    1.0    0.0        None  "
      ]
     },
     "execution_count": 19,
     "metadata": {},
     "output_type": "execute_result"
    }
   ],
   "source": [
    "net.ext_grid"
   ]
  },
  {
   "cell_type": "markdown",
   "id": "frequent-index",
   "metadata": {
    "id": "insured-marking"
   },
   "source": [
    "Defino una función normal de Python para que nos va a dar la componente lineal del costo de la energía"
   ]
  },
  {
   "cell_type": "markdown",
   "id": "infectious-soviet",
   "metadata": {
    "id": "fifteen-pakistan"
   },
   "source": [
    "Variables que define el modelo:\n",
    "\n",
    "y para el año\n",
    "\n",
    "d para el día del año\n",
    "\n",
    "h para la hora del día\n",
    "\n",
    "dt la granularidad del modelo, en horas\n",
    "\n",
    "\n",
    "temp la temperatura\n",
    "\n",
    "wv la velocidad del viento\n",
    "\n",
    "I la irradiación solar\n",
    "\n",
    "\n",
    "eg el crecimiento económico en pu respecto al año 0\n",
    "\n",
    "\n",
    "Estas variables llegan como parámetros en forma de diccionario en el argumento 'model_status' (ver este nombre)\n",
    "\n",
    "Todas las funciones reciben este argumento, la lógica de la función indica que valor retorna. Pr ejemplo, si la granularidad es 24 h, debe retornar el valor medio del parámetro producido."
   ]
  },
  {
   "cell_type": "code",
   "execution_count": 20,
   "id": "chief-factor",
   "metadata": {
    "executionInfo": {
     "elapsed": 531,
     "status": "ok",
     "timestamp": 1619871154809,
     "user": {
      "displayName": "Juan Sardón",
      "photoUrl": "https://lh3.googleusercontent.com/a-/AOh14Gh0hE4Hw8M0I17k-o2PXxLB5i6gNZV_oUTpZlyJ3Q=s64",
      "userId": "08267034058673099115"
     },
     "user_tz": 180
    },
    "id": "ranging-smooth"
   },
   "outputs": [],
   "source": [
    "def oc_1_ext_grid(model_status={}):\n",
    "    #modelo sencillo con dos precios, uno entre 0 a 18 y otro de 18 a 24\n",
    "    res = 0.0\n",
    "    sx = 1e-6\n",
    "    if 'h' in model_status:\n",
    "        h = model_status['h']\n",
    "        if 0.0 <= h and h < 18.0:\n",
    "            res = 3600.0*sx\n",
    "        elif 18 <= h and h < 24.0:\n",
    "            res = 5400.0*sx\n",
    "        else:\n",
    "            raise ValueError(\"Hour outside model range\")\n",
    "    else:\n",
    "        raise ValueError(\"Hour not defined\")\n",
    "    \n",
    "    return res"
   ]
  },
  {
   "cell_type": "code",
   "execution_count": 21,
   "id": "unavailable-budapest",
   "metadata": {
    "executionInfo": {
     "elapsed": 475,
     "status": "ok",
     "timestamp": 1619871156032,
     "user": {
      "displayName": "Juan Sardón",
      "photoUrl": "https://lh3.googleusercontent.com/a-/AOh14Gh0hE4Hw8M0I17k-o2PXxLB5i6gNZV_oUTpZlyJ3Q=s64",
      "userId": "08267034058673099115"
     },
     "user_tz": 180
    },
    "id": "ultimate-invention"
   },
   "outputs": [],
   "source": [
    "#test:\n",
    "#m_s = {'y': 0, 'd': 180, 'h': 14.0, 'dt': 1.0, 'temp': 12.0, 'wv': 10.0, 'eg': 1.0}\n",
    "\n",
    "#oc_1_ext_grid(m_s)"
   ]
  },
  {
   "cell_type": "code",
   "execution_count": 22,
   "id": "fresh-blast",
   "metadata": {
    "executionInfo": {
     "elapsed": 445,
     "status": "ok",
     "timestamp": 1619871157150,
     "user": {
      "displayName": "Juan Sardón",
      "photoUrl": "https://lh3.googleusercontent.com/a-/AOh14Gh0hE4Hw8M0I17k-o2PXxLB5i6gNZV_oUTpZlyJ3Q=s64",
      "userId": "08267034058673099115"
     },
     "user_tz": 180
    },
    "id": "developed-sapphire"
   },
   "outputs": [],
   "source": [
    "#20 hs: 5400\n",
    "#m_s['h'] = 20.5\n",
    "#oc_1_ext_grid(m_s)"
   ]
  },
  {
   "cell_type": "code",
   "execution_count": 23,
   "id": "sapphire-toddler",
   "metadata": {
    "executionInfo": {
     "elapsed": 876,
     "status": "ok",
     "timestamp": 1619871158512,
     "user": {
      "displayName": "Juan Sardón",
      "photoUrl": "https://lh3.googleusercontent.com/a-/AOh14Gh0hE4Hw8M0I17k-o2PXxLB5i6gNZV_oUTpZlyJ3Q=s64",
      "userId": "08267034058673099115"
     },
     "user_tz": 180
    },
    "id": "committed-egyptian"
   },
   "outputs": [],
   "source": [
    "#25 hs: error\n",
    "#m_s['h'] = 25\n",
    "#oc_1_ext_grid(m_s)"
   ]
  },
  {
   "cell_type": "code",
   "execution_count": 24,
   "id": "chicken-analyst",
   "metadata": {
    "executionInfo": {
     "elapsed": 489,
     "status": "ok",
     "timestamp": 1619871159570,
     "user": {
      "displayName": "Juan Sardón",
      "photoUrl": "https://lh3.googleusercontent.com/a-/AOh14Gh0hE4Hw8M0I17k-o2PXxLB5i6gNZV_oUTpZlyJ3Q=s64",
      "userId": "08267034058673099115"
     },
     "user_tz": 180
    },
    "id": "marine-rescue"
   },
   "outputs": [],
   "source": [
    "net.ext_grid['oc_1_mu'][0] = oc_1_ext_grid"
   ]
  },
  {
   "cell_type": "code",
   "execution_count": 25,
   "id": "brutal-secretary",
   "metadata": {
    "colab": {
     "base_uri": "https://localhost:8080/",
     "height": 81
    },
    "executionInfo": {
     "elapsed": 551,
     "status": "ok",
     "timestamp": 1619871160792,
     "user": {
      "displayName": "Juan Sardón",
      "photoUrl": "https://lh3.googleusercontent.com/a-/AOh14Gh0hE4Hw8M0I17k-o2PXxLB5i6gNZV_oUTpZlyJ3Q=s64",
      "userId": "08267034058673099115"
     },
     "user_tz": 180
    },
    "id": "accredited-horse",
    "outputId": "9290b5a5-f515-4829-cc59-be68d664bbad"
   },
   "outputs": [
    {
     "data": {
      "text/html": [
       "<div>\n",
       "<style scoped>\n",
       "    .dataframe tbody tr th:only-of-type {\n",
       "        vertical-align: middle;\n",
       "    }\n",
       "\n",
       "    .dataframe tbody tr th {\n",
       "        vertical-align: top;\n",
       "    }\n",
       "\n",
       "    .dataframe thead th {\n",
       "        text-align: right;\n",
       "    }\n",
       "</style>\n",
       "<table border=\"1\" class=\"dataframe\">\n",
       "  <thead>\n",
       "    <tr style=\"text-align: right;\">\n",
       "      <th></th>\n",
       "      <th>name</th>\n",
       "      <th>bus</th>\n",
       "      <th>vm_pu</th>\n",
       "      <th>va_degree</th>\n",
       "      <th>in_service</th>\n",
       "      <th>ic_0_mu</th>\n",
       "      <th>ic_1_mu</th>\n",
       "      <th>oc_0_mu</th>\n",
       "      <th>oc_1_mu</th>\n",
       "      <th>ap_mw</th>\n",
       "      <th>op_mw</th>\n",
       "      <th>constraints</th>\n",
       "    </tr>\n",
       "  </thead>\n",
       "  <tbody>\n",
       "    <tr>\n",
       "      <th>0</th>\n",
       "      <td>None</td>\n",
       "      <td>0</td>\n",
       "      <td>1.0</td>\n",
       "      <td>0.0</td>\n",
       "      <td>True</td>\n",
       "      <td>0.0</td>\n",
       "      <td>0.0</td>\n",
       "      <td>0.0</td>\n",
       "      <td>&lt;function oc_1_ext_grid at 0x000002A2A6EC43A0&gt;</td>\n",
       "      <td>1.0</td>\n",
       "      <td>0.0</td>\n",
       "      <td>None</td>\n",
       "    </tr>\n",
       "  </tbody>\n",
       "</table>\n",
       "</div>"
      ],
      "text/plain": [
       "   name  bus  vm_pu  va_degree  in_service  ic_0_mu  ic_1_mu  oc_0_mu  \\\n",
       "0  None    0    1.0        0.0        True      0.0      0.0      0.0   \n",
       "\n",
       "                                          oc_1_mu  ap_mw  op_mw constraints  \n",
       "0  <function oc_1_ext_grid at 0x000002A2A6EC43A0>    1.0    0.0        None  "
      ]
     },
     "execution_count": 25,
     "metadata": {},
     "output_type": "execute_result"
    }
   ],
   "source": [
    "net.ext_grid"
   ]
  },
  {
   "cell_type": "code",
   "execution_count": 26,
   "id": "included-office",
   "metadata": {
    "executionInfo": {
     "elapsed": 682,
     "status": "ok",
     "timestamp": 1619871164638,
     "user": {
      "displayName": "Juan Sardón",
      "photoUrl": "https://lh3.googleusercontent.com/a-/AOh14Gh0hE4Hw8M0I17k-o2PXxLB5i6gNZV_oUTpZlyJ3Q=s64",
      "userId": "08267034058673099115"
     },
     "user_tz": 180
    },
    "id": "secure-message"
   },
   "outputs": [],
   "source": [
    "def demand(model_status={}):\n",
    "    #modelo sencillo en forma de escalones\n",
    "    #devuelvr la fracción de la carga empleada\n",
    "    #se considera que la carga tiene una variabilidad aleatoria de un 20% y es mayor en verano e invierno en un 30%\n",
    "    #la variabilidad total puede ser 1.3*1.2=1.56 verano-invierno o 0.7*0.8 = 0.56 otoño-primavera, \n",
    "    res = 0.0\n",
    "    if 'h' in model_status:\n",
    "        h = model_status['h']\n",
    "        if 0.0 <= h and h < 6.0:\n",
    "            res = 0.2\n",
    "        elif 6.0 <= h and h < 8.0:\n",
    "            res = 0.4\n",
    "        elif 8.0 <= h and h < 18.0:\n",
    "            res = 0.5\n",
    "        elif 18.0 <= h and h < 22.0:\n",
    "            res = 1.0\n",
    "        elif 22.0 <= h and h < 24.0:\n",
    "            res = 0.3            \n",
    "        else:\n",
    "            raise ValueError(\"Hour outside model range\")\n",
    "    else:\n",
    "        raise ValueError(\"Hour not defined\")\n",
    "    \n",
    "    #estacionalidad\n",
    "    if 'd' in model_status:\n",
    "        d = model_status['d']\n",
    "        #se asume que el día de mayor consumo es el inicio del verano y del invierno (21/12 y 21/07), por eso sumo 10 días el dia 0\n",
    "        #divido por 180 porque hay dos picos en el año y paso a radianes\n",
    "        estacionalidad = 1 + 0.3*math.cos((d + 10.0)/180.0*2*math.pi)  \n",
    "    else:\n",
    "        raise ValueError(\"Day not defined\")\n",
    "    res = res * estacionalidad\n",
    "    \n",
    "    #Aleatoriedad:\n",
    "    res = res*random.uniform(0.8, 1.2)\n",
    "    return res"
   ]
  },
  {
   "cell_type": "code",
   "execution_count": 27,
   "id": "helpful-festival",
   "metadata": {
    "executionInfo": {
     "elapsed": 718,
     "status": "ok",
     "timestamp": 1619871170345,
     "user": {
      "displayName": "Juan Sardón",
      "photoUrl": "https://lh3.googleusercontent.com/a-/AOh14Gh0hE4Hw8M0I17k-o2PXxLB5i6gNZV_oUTpZlyJ3Q=s64",
      "userId": "08267034058673099115"
     },
     "user_tz": 180
    },
    "id": "decreased-chorus"
   },
   "outputs": [],
   "source": [
    "net.load['op_mw'][0] = demand"
   ]
  },
  {
   "cell_type": "code",
   "execution_count": 28,
   "id": "accredited-exposure",
   "metadata": {
    "colab": {
     "base_uri": "https://localhost:8080/",
     "height": 135
    },
    "executionInfo": {
     "elapsed": 461,
     "status": "ok",
     "timestamp": 1619871171567,
     "user": {
      "displayName": "Juan Sardón",
      "photoUrl": "https://lh3.googleusercontent.com/a-/AOh14Gh0hE4Hw8M0I17k-o2PXxLB5i6gNZV_oUTpZlyJ3Q=s64",
      "userId": "08267034058673099115"
     },
     "user_tz": 180
    },
    "id": "qualified-zimbabwe",
    "outputId": "38370825-a5a0-448c-d754-ef5377764f08"
   },
   "outputs": [
    {
     "data": {
      "text/html": [
       "<div>\n",
       "<style scoped>\n",
       "    .dataframe tbody tr th:only-of-type {\n",
       "        vertical-align: middle;\n",
       "    }\n",
       "\n",
       "    .dataframe tbody tr th {\n",
       "        vertical-align: top;\n",
       "    }\n",
       "\n",
       "    .dataframe thead th {\n",
       "        text-align: right;\n",
       "    }\n",
       "</style>\n",
       "<table border=\"1\" class=\"dataframe\">\n",
       "  <thead>\n",
       "    <tr style=\"text-align: right;\">\n",
       "      <th></th>\n",
       "      <th>name</th>\n",
       "      <th>bus</th>\n",
       "      <th>p_mw</th>\n",
       "      <th>q_mvar</th>\n",
       "      <th>const_z_percent</th>\n",
       "      <th>const_i_percent</th>\n",
       "      <th>sn_mva</th>\n",
       "      <th>scaling</th>\n",
       "      <th>in_service</th>\n",
       "      <th>type</th>\n",
       "      <th>ic_0_mu</th>\n",
       "      <th>ic_1_mu</th>\n",
       "      <th>oc_0_mu</th>\n",
       "      <th>oc_1_mu</th>\n",
       "      <th>ap_mw</th>\n",
       "      <th>op_mw</th>\n",
       "      <th>constraints</th>\n",
       "    </tr>\n",
       "  </thead>\n",
       "  <tbody>\n",
       "    <tr>\n",
       "      <th>0</th>\n",
       "      <td>None</td>\n",
       "      <td>2</td>\n",
       "      <td>0.35</td>\n",
       "      <td>0.0</td>\n",
       "      <td>0.0</td>\n",
       "      <td>0.0</td>\n",
       "      <td>NaN</td>\n",
       "      <td>1.0</td>\n",
       "      <td>True</td>\n",
       "      <td>wye</td>\n",
       "      <td>0.0</td>\n",
       "      <td>0.0</td>\n",
       "      <td>0.0</td>\n",
       "      <td>0.0</td>\n",
       "      <td>0.5</td>\n",
       "      <td>&lt;function demand at 0x000002A2A6EC4160&gt;</td>\n",
       "      <td>None</td>\n",
       "    </tr>\n",
       "  </tbody>\n",
       "</table>\n",
       "</div>"
      ],
      "text/plain": [
       "   name  bus  p_mw  q_mvar  const_z_percent  const_i_percent  sn_mva  scaling  \\\n",
       "0  None    2  0.35     0.0              0.0              0.0     NaN      1.0   \n",
       "\n",
       "   in_service type  ic_0_mu  ic_1_mu  oc_0_mu  oc_1_mu  ap_mw  \\\n",
       "0        True  wye      0.0      0.0      0.0      0.0    0.5   \n",
       "\n",
       "                                     op_mw constraints  \n",
       "0  <function demand at 0x000002A2A6EC4160>        None  "
      ]
     },
     "execution_count": 28,
     "metadata": {},
     "output_type": "execute_result"
    }
   ],
   "source": [
    "net.load"
   ]
  },
  {
   "cell_type": "code",
   "execution_count": 29,
   "id": "wound-grill",
   "metadata": {
    "executionInfo": {
     "elapsed": 680,
     "status": "ok",
     "timestamp": 1619871175060,
     "user": {
      "displayName": "Juan Sardón",
      "photoUrl": "https://lh3.googleusercontent.com/a-/AOh14Gh0hE4Hw8M0I17k-o2PXxLB5i6gNZV_oUTpZlyJ3Q=s64",
      "userId": "08267034058673099115"
     },
     "user_tz": 180
    },
    "id": "continuing-cover"
   },
   "outputs": [],
   "source": [
    "def solar_output(model_status={}):\n",
    "    #modelo sencillo\n",
    "    #usando los datos de radiacion solar entregada por el modelo\n",
    "    #considero el valor normal 1000 W/m2\n",
    "    res = 0.0\n",
    "    if 'I' in model_status:\n",
    "        I = model_status['I']\n",
    "        if 0.0 <= I and I < 1200:\n",
    "            res = I / 1000.0\n",
    "        else:\n",
    "            raise ValueError(\"Solar radiation outside model range\")\n",
    "    else:\n",
    "        raise ValueError(\"Solar radiation not defined\")\n",
    "    \n",
    "    return res"
   ]
  },
  {
   "cell_type": "code",
   "execution_count": 30,
   "id": "ambient-fighter",
   "metadata": {
    "executionInfo": {
     "elapsed": 1222,
     "status": "ok",
     "timestamp": 1619871176918,
     "user": {
      "displayName": "Juan Sardón",
      "photoUrl": "https://lh3.googleusercontent.com/a-/AOh14Gh0hE4Hw8M0I17k-o2PXxLB5i6gNZV_oUTpZlyJ3Q=s64",
      "userId": "08267034058673099115"
     },
     "user_tz": 180
    },
    "id": "rolled-loading"
   },
   "outputs": [],
   "source": [
    "#test:\n",
    "##m_s = {'y': 0, 'd': 180, 'h': 43.0, 'dt': 1.0, 'temp': 12.0, 'I':950.0,  'wv': 10.0, 'eg': 1.0}\n",
    "##solar_output(m_s)"
   ]
  },
  {
   "cell_type": "code",
   "execution_count": 31,
   "id": "based-receiver",
   "metadata": {
    "executionInfo": {
     "elapsed": 756,
     "status": "ok",
     "timestamp": 1619871177205,
     "user": {
      "displayName": "Juan Sardón",
      "photoUrl": "https://lh3.googleusercontent.com/a-/AOh14Gh0hE4Hw8M0I17k-o2PXxLB5i6gNZV_oUTpZlyJ3Q=s64",
      "userId": "08267034058673099115"
     },
     "user_tz": 180
    },
    "id": "correct-patrol"
   },
   "outputs": [],
   "source": [
    "net.sgen['name'][0] = 'PV1'\n",
    "net.sgen['ap_mw'][0] = solar_output\n",
    "net.sgen['ic_0_mu'][0] = 2\n",
    "net.sgen['ic_1_mu'][0] = 0.75\n",
    "net.sgen['oc_0_mu'][0] = 0.0\n",
    "net.sgen['oc_1_mu'][0] = 500e-6\n"
   ]
  },
  {
   "cell_type": "code",
   "execution_count": 32,
   "id": "bottom-migration",
   "metadata": {
    "executionInfo": {
     "elapsed": 910,
     "status": "ok",
     "timestamp": 1619871178921,
     "user": {
      "displayName": "Juan Sardón",
      "photoUrl": "https://lh3.googleusercontent.com/a-/AOh14Gh0hE4Hw8M0I17k-o2PXxLB5i6gNZV_oUTpZlyJ3Q=s64",
      "userId": "08267034058673099115"
     },
     "user_tz": 180
    },
    "id": "broken-archives"
   },
   "outputs": [],
   "source": [
    "def wind_output(model_status={}):\n",
    "    #modelo sencillo\n",
    "    #devuelvr la fracción de la potencia entregada en función del tiempo\n",
    "    #no toma en cuenta la radicación solar ni la temperatura\n",
    "    res = 0.0\n",
    "    if 'wv' in model_status:\n",
    "        wv = model_status['wv']\n",
    "        if 0.0 <= wv and wv < 3.0:\n",
    "            res = 0.0\n",
    "        elif 3.0 <= wv and wv < 15.0:\n",
    "            res = (wv-3.0)/(15.0-3.0)\n",
    "        elif 15.0 <= wv and wv < 25.0:\n",
    "            res = 1.0\n",
    "        else:\n",
    "            res = 0.0\n",
    "    else:\n",
    "        raise ValueError(\"Wind Velocity not defined\")\n",
    "    \n",
    "    return res"
   ]
  },
  {
   "cell_type": "code",
   "execution_count": 33,
   "id": "herbal-baker",
   "metadata": {
    "executionInfo": {
     "elapsed": 521,
     "status": "ok",
     "timestamp": 1619871179926,
     "user": {
      "displayName": "Juan Sardón",
      "photoUrl": "https://lh3.googleusercontent.com/a-/AOh14Gh0hE4Hw8M0I17k-o2PXxLB5i6gNZV_oUTpZlyJ3Q=s64",
      "userId": "08267034058673099115"
     },
     "user_tz": 180
    },
    "id": "composite-absorption"
   },
   "outputs": [],
   "source": [
    "net.sgen['name'][1] = 'WT1'\n",
    "net.sgen['ap_mw'][1] = wind_output\n",
    "net.sgen['ic_0_mu'][1] = 5.0\n",
    "net.sgen['ic_1_mu'][1] = 3.0\n",
    "net.sgen['oc_0_mu'][1] = 0.0\n",
    "net.sgen['oc_1_mu'][1] = 700e-6"
   ]
  },
  {
   "cell_type": "code",
   "execution_count": 34,
   "id": "rolled-kennedy",
   "metadata": {
    "colab": {
     "base_uri": "https://localhost:8080/",
     "height": 202
    },
    "executionInfo": {
     "elapsed": 660,
     "status": "ok",
     "timestamp": 1619871181173,
     "user": {
      "displayName": "Juan Sardón",
      "photoUrl": "https://lh3.googleusercontent.com/a-/AOh14Gh0hE4Hw8M0I17k-o2PXxLB5i6gNZV_oUTpZlyJ3Q=s64",
      "userId": "08267034058673099115"
     },
     "user_tz": 180
    },
    "id": "electronic-starter",
    "outputId": "c83b0eee-4809-49f8-fb9e-e8d4eba6c5c4"
   },
   "outputs": [
    {
     "data": {
      "text/html": [
       "<div>\n",
       "<style scoped>\n",
       "    .dataframe tbody tr th:only-of-type {\n",
       "        vertical-align: middle;\n",
       "    }\n",
       "\n",
       "    .dataframe tbody tr th {\n",
       "        vertical-align: top;\n",
       "    }\n",
       "\n",
       "    .dataframe thead th {\n",
       "        text-align: right;\n",
       "    }\n",
       "</style>\n",
       "<table border=\"1\" class=\"dataframe\">\n",
       "  <thead>\n",
       "    <tr style=\"text-align: right;\">\n",
       "      <th></th>\n",
       "      <th>name</th>\n",
       "      <th>bus</th>\n",
       "      <th>p_mw</th>\n",
       "      <th>q_mvar</th>\n",
       "      <th>sn_mva</th>\n",
       "      <th>scaling</th>\n",
       "      <th>in_service</th>\n",
       "      <th>type</th>\n",
       "      <th>current_source</th>\n",
       "      <th>max_p_mw</th>\n",
       "      <th>max_q_mvar</th>\n",
       "      <th>ic_0_mu</th>\n",
       "      <th>ic_1_mu</th>\n",
       "      <th>oc_0_mu</th>\n",
       "      <th>oc_1_mu</th>\n",
       "      <th>ap_mw</th>\n",
       "      <th>op_mw</th>\n",
       "      <th>constraints</th>\n",
       "    </tr>\n",
       "  </thead>\n",
       "  <tbody>\n",
       "    <tr>\n",
       "      <th>0</th>\n",
       "      <td>PV1</td>\n",
       "      <td>1</td>\n",
       "      <td>0.05</td>\n",
       "      <td>0.025</td>\n",
       "      <td>NaN</td>\n",
       "      <td>1.0</td>\n",
       "      <td>True</td>\n",
       "      <td>wye</td>\n",
       "      <td>True</td>\n",
       "      <td>0.2</td>\n",
       "      <td>0.2</td>\n",
       "      <td>2.0</td>\n",
       "      <td>0.75</td>\n",
       "      <td>0.0</td>\n",
       "      <td>0.0005</td>\n",
       "      <td>&lt;function solar_output at 0x000002A2A6EC4820&gt;</td>\n",
       "      <td>0.0</td>\n",
       "      <td>None</td>\n",
       "    </tr>\n",
       "    <tr>\n",
       "      <th>1</th>\n",
       "      <td>WT1</td>\n",
       "      <td>3</td>\n",
       "      <td>0.07</td>\n",
       "      <td>0.025</td>\n",
       "      <td>NaN</td>\n",
       "      <td>1.0</td>\n",
       "      <td>True</td>\n",
       "      <td>wye</td>\n",
       "      <td>True</td>\n",
       "      <td>0.3</td>\n",
       "      <td>0.2</td>\n",
       "      <td>5.0</td>\n",
       "      <td>3.00</td>\n",
       "      <td>0.0</td>\n",
       "      <td>0.0007</td>\n",
       "      <td>&lt;function wind_output at 0x000002A2A6E93EE0&gt;</td>\n",
       "      <td>0.0</td>\n",
       "      <td>None</td>\n",
       "    </tr>\n",
       "  </tbody>\n",
       "</table>\n",
       "</div>"
      ],
      "text/plain": [
       "  name  bus  p_mw  q_mvar  sn_mva  scaling  in_service type  current_source  \\\n",
       "0  PV1    1  0.05   0.025     NaN      1.0        True  wye            True   \n",
       "1  WT1    3  0.07   0.025     NaN      1.0        True  wye            True   \n",
       "\n",
       "   max_p_mw  max_q_mvar  ic_0_mu  ic_1_mu  oc_0_mu  oc_1_mu  \\\n",
       "0       0.2         0.2      2.0     0.75      0.0   0.0005   \n",
       "1       0.3         0.2      5.0     3.00      0.0   0.0007   \n",
       "\n",
       "                                           ap_mw  op_mw constraints  \n",
       "0  <function solar_output at 0x000002A2A6EC4820>    0.0        None  \n",
       "1   <function wind_output at 0x000002A2A6E93EE0>    0.0        None  "
      ]
     },
     "execution_count": 34,
     "metadata": {},
     "output_type": "execute_result"
    }
   ],
   "source": [
    "net.sgen"
   ]
  },
  {
   "cell_type": "markdown",
   "id": "closing-criticism",
   "metadata": {
    "id": "spiritual-luxembourg"
   },
   "source": [
    "Primero construyo un modelo manualmente:\n",
    "\n",
    "Es un modelo de dimensionamiento de 2 DERs (WT+PV)"
   ]
  },
  {
   "cell_type": "code",
   "execution_count": 61,
   "id": "boolean-victorian",
   "metadata": {
    "executionInfo": {
     "elapsed": 708,
     "status": "ok",
     "timestamp": 1619871184658,
     "user": {
      "displayName": "Juan Sardón",
      "photoUrl": "https://lh3.googleusercontent.com/a-/AOh14Gh0hE4Hw8M0I17k-o2PXxLB5i6gNZV_oUTpZlyJ3Q=s64",
      "userId": "08267034058673099115"
     },
     "user_tz": 180
    },
    "id": "worldwide-satisfaction"
   },
   "outputs": [],
   "source": [
    "m = pe.ConcreteModel()"
   ]
  },
  {
   "cell_type": "code",
   "execution_count": 62,
   "id": "centered-adaptation",
   "metadata": {
    "executionInfo": {
     "elapsed": 732,
     "status": "ok",
     "timestamp": 1619871185819,
     "user": {
      "displayName": "Juan Sardón",
      "photoUrl": "https://lh3.googleusercontent.com/a-/AOh14Gh0hE4Hw8M0I17k-o2PXxLB5i6gNZV_oUTpZlyJ3Q=s64",
      "userId": "08267034058673099115"
     },
     "user_tz": 180
    },
    "id": "posted-description"
   },
   "outputs": [],
   "source": [
    "dias = 1\n",
    "años = 1\n",
    "M = 1e3"
   ]
  },
  {
   "cell_type": "code",
   "execution_count": 63,
   "id": "nominated-congo",
   "metadata": {
    "executionInfo": {
     "elapsed": 635,
     "status": "ok",
     "timestamp": 1619871186939,
     "user": {
      "displayName": "Juan Sardón",
      "photoUrl": "https://lh3.googleusercontent.com/a-/AOh14Gh0hE4Hw8M0I17k-o2PXxLB5i6gNZV_oUTpZlyJ3Q=s64",
      "userId": "08267034058673099115"
     },
     "user_tz": 180
    },
    "id": "intelligent-terrace"
   },
   "outputs": [],
   "source": [
    "#el rango de horas:\n",
    "T_i = range(24)\n",
    "\n",
    "#el rango de dias:\n",
    "Dias_i = range(dias)\n",
    "\n",
    "Escenarios_i = range(len(T_i)*len(Dias_i))"
   ]
  },
  {
   "cell_type": "code",
   "execution_count": 64,
   "id": "related-wilson",
   "metadata": {
    "executionInfo": {
     "elapsed": 523,
     "status": "ok",
     "timestamp": 1619871188000,
     "user": {
      "displayName": "Juan Sardón",
      "photoUrl": "https://lh3.googleusercontent.com/a-/AOh14Gh0hE4Hw8M0I17k-o2PXxLB5i6gNZV_oUTpZlyJ3Q=s64",
      "userId": "08267034058673099115"
     },
     "user_tz": 180
    },
    "id": "functional-rolling"
   },
   "outputs": [],
   "source": [
    "#las variables que definien si construir y que potencia\n",
    "m.ap_mw_PV = pe.Var(within = pe.NonNegativeReals)  #Tamano PV\n",
    "m.ap_mw_WT = pe.Var(within = pe.NonNegativeReals)  #Tamano WT\n",
    "\n",
    "m.sgen_PV = pe.Var(within = pe.Binary)\n",
    "m.sgen_WT = pe.Var(within = pe.Binary) "
   ]
  },
  {
   "cell_type": "code",
   "execution_count": 65,
   "id": "empty-stable",
   "metadata": {
    "executionInfo": {
     "elapsed": 701,
     "status": "ok",
     "timestamp": 1619871191296,
     "user": {
      "displayName": "Juan Sardón",
      "photoUrl": "https://lh3.googleusercontent.com/a-/AOh14Gh0hE4Hw8M0I17k-o2PXxLB5i6gNZV_oUTpZlyJ3Q=s64",
      "userId": "08267034058673099115"
     },
     "user_tz": 180
    },
    "id": "imperial-refund"
   },
   "outputs": [],
   "source": [
    "#despacho de solar y WT disponible\n",
    "m.p_mw_PV = pe.Var(Escenarios_i, within = pe.NonNegativeReals)\n",
    "m.p_mw_WT = pe.Var(Escenarios_i, within = pe.NonNegativeReals)"
   ]
  },
  {
   "cell_type": "code",
   "execution_count": 66,
   "id": "funny-worthy",
   "metadata": {
    "executionInfo": {
     "elapsed": 490,
     "status": "ok",
     "timestamp": 1619871192441,
     "user": {
      "displayName": "Juan Sardón",
      "photoUrl": "https://lh3.googleusercontent.com/a-/AOh14Gh0hE4Hw8M0I17k-o2PXxLB5i6gNZV_oUTpZlyJ3Q=s64",
      "userId": "08267034058673099115"
     },
     "user_tz": 180
    },
    "id": "complimentary-handling"
   },
   "outputs": [],
   "source": [
    "#energia comprada a la red\n",
    "m.p_mw_Ext = pe.Var(Escenarios_i, within = pe.NonNegativeReals, bounds = (0, net.ext_grid['ap_mw'][0]))\n",
    "#si puedo exportar:\n",
    "##m.p_mw_Ext = pe.Var(T_i, bounds = (-net.ext_grid['ap_mw'][0], net.ext_grid['ap_mw'][0]))"
   ]
  },
  {
   "cell_type": "code",
   "execution_count": 67,
   "id": "confident-motel",
   "metadata": {
    "executionInfo": {
     "elapsed": 853,
     "status": "ok",
     "timestamp": 1619871194902,
     "user": {
      "displayName": "Juan Sardón",
      "photoUrl": "https://lh3.googleusercontent.com/a-/AOh14Gh0hE4Hw8M0I17k-o2PXxLB5i6gNZV_oUTpZlyJ3Q=s64",
      "userId": "08267034058673099115"
     },
     "user_tz": 180
    },
    "id": "complimentary-harvard"
   },
   "outputs": [],
   "source": [
    "def solar_irradiance_simulation(d, h):\n",
    "    #simula las horas de sol, la intensidad y los dias multiplos de 5 esta nublado, con un 20% de la radiacion\n",
    "    #a todo esto se le aplica una aleatoriedad del 80 al 100%\n",
    "    #los coeficientes son aproximados para Buenos Aires\n",
    "    radiacion = 1000.0\n",
    "    \n",
    "    estacionalidad = 0.75 + 0.25*math.cos((d + 10.0)/365.0*2*math.pi)  \n",
    "    \n",
    "    if d % 5 == 0 :\n",
    "        nubosidad = 0.2\n",
    "    else:\n",
    "        nubosidad = 1.0\n",
    "        \n",
    "    aleatoriedad = random.uniform(0.8, 1.0)\n",
    "    \n",
    "    salida = 7.0 - 1.1*math.cos((d + 10.0)/365.0*2*math.pi)    #es una aproximacion, no basada en modelos matematicos\n",
    "    puesta = 19.0 + 1.1*math.cos((d + 10.0)/365.0*2*math.pi)\n",
    "    \n",
    "    temporalidad = 0.0\n",
    "    if salida <= h and h <= puesta:\n",
    "        temporalidad = math.sin((h-salida)/(puesta-salida)*math.pi)\n",
    "        \n",
    "    return radiacion*estacionalidad*nubosidad*aleatoriedad*temporalidad"
   ]
  },
  {
   "cell_type": "code",
   "execution_count": 68,
   "id": "greenhouse-briefs",
   "metadata": {
    "executionInfo": {
     "elapsed": 616,
     "status": "ok",
     "timestamp": 1619871195617,
     "user": {
      "displayName": "Juan Sardón",
      "photoUrl": "https://lh3.googleusercontent.com/a-/AOh14Gh0hE4Hw8M0I17k-o2PXxLB5i6gNZV_oUTpZlyJ3Q=s64",
      "userId": "08267034058673099115"
     },
     "user_tz": 180
    },
    "id": "removed-python"
   },
   "outputs": [],
   "source": [
    "#solar_irradiance_simulation(176, 13)"
   ]
  },
  {
   "cell_type": "code",
   "execution_count": 69,
   "id": "dedicated-objective",
   "metadata": {
    "executionInfo": {
     "elapsed": 3255,
     "status": "ok",
     "timestamp": 1619871199456,
     "user": {
      "displayName": "Juan Sardón",
      "photoUrl": "https://lh3.googleusercontent.com/a-/AOh14Gh0hE4Hw8M0I17k-o2PXxLB5i6gNZV_oUTpZlyJ3Q=s64",
      "userId": "08267034058673099115"
     },
     "user_tz": 180
    },
    "id": "rotary-traffic"
   },
   "outputs": [],
   "source": [
    "m_s_base = [{'y': 0, 'd': 0, 'dd':1.0, 'h': 0.0, 'dt': 1.0, 'temp': 20.0, 'I':1000.0, 'wv': 10.0, 'eg': 1.0}]\n",
    "\n",
    "registros = len(Dias_i)*len(T_i)\n",
    "\n",
    "Escenarios =  pd.DataFrame(m_s_base, index = Escenarios_i)\n",
    "\n",
    "reg = 0\n",
    "for d in Dias_i:\n",
    "    for h in T_i:\n",
    "        Escenarios['d'][reg] = d\n",
    "        Escenarios['h'][reg] = h\n",
    "        Escenarios['I'][reg] = solar_irradiance_simulation(d, h)\n",
    "        Escenarios['wv'][reg] = random.uniform(1.0, 20.0)\n",
    "        reg += 1"
   ]
  },
  {
   "cell_type": "code",
   "execution_count": 70,
   "id": "separate-purple",
   "metadata": {
    "colab": {
     "base_uri": "https://localhost:8080/",
     "height": 424
    },
    "executionInfo": {
     "elapsed": 638,
     "status": "ok",
     "timestamp": 1619871208415,
     "user": {
      "displayName": "Juan Sardón",
      "photoUrl": "https://lh3.googleusercontent.com/a-/AOh14Gh0hE4Hw8M0I17k-o2PXxLB5i6gNZV_oUTpZlyJ3Q=s64",
      "userId": "08267034058673099115"
     },
     "user_tz": 180
    },
    "id": "excited-karma",
    "outputId": "12402886-e171-44cd-d644-f247bc97f641"
   },
   "outputs": [
    {
     "data": {
      "text/html": [
       "<div>\n",
       "<style scoped>\n",
       "    .dataframe tbody tr th:only-of-type {\n",
       "        vertical-align: middle;\n",
       "    }\n",
       "\n",
       "    .dataframe tbody tr th {\n",
       "        vertical-align: top;\n",
       "    }\n",
       "\n",
       "    .dataframe thead th {\n",
       "        text-align: right;\n",
       "    }\n",
       "</style>\n",
       "<table border=\"1\" class=\"dataframe\">\n",
       "  <thead>\n",
       "    <tr style=\"text-align: right;\">\n",
       "      <th></th>\n",
       "      <th>y</th>\n",
       "      <th>d</th>\n",
       "      <th>dd</th>\n",
       "      <th>h</th>\n",
       "      <th>dt</th>\n",
       "      <th>temp</th>\n",
       "      <th>I</th>\n",
       "      <th>wv</th>\n",
       "      <th>eg</th>\n",
       "    </tr>\n",
       "  </thead>\n",
       "  <tbody>\n",
       "    <tr>\n",
       "      <th>0</th>\n",
       "      <td>0</td>\n",
       "      <td>0</td>\n",
       "      <td>1.0</td>\n",
       "      <td>0.0</td>\n",
       "      <td>1.0</td>\n",
       "      <td>20.0</td>\n",
       "      <td>0.000000</td>\n",
       "      <td>12.806443</td>\n",
       "      <td>1.0</td>\n",
       "    </tr>\n",
       "    <tr>\n",
       "      <th>1</th>\n",
       "      <td>0</td>\n",
       "      <td>0</td>\n",
       "      <td>1.0</td>\n",
       "      <td>1.0</td>\n",
       "      <td>1.0</td>\n",
       "      <td>20.0</td>\n",
       "      <td>0.000000</td>\n",
       "      <td>9.897077</td>\n",
       "      <td>1.0</td>\n",
       "    </tr>\n",
       "    <tr>\n",
       "      <th>2</th>\n",
       "      <td>0</td>\n",
       "      <td>0</td>\n",
       "      <td>1.0</td>\n",
       "      <td>2.0</td>\n",
       "      <td>1.0</td>\n",
       "      <td>20.0</td>\n",
       "      <td>0.000000</td>\n",
       "      <td>10.672301</td>\n",
       "      <td>1.0</td>\n",
       "    </tr>\n",
       "    <tr>\n",
       "      <th>3</th>\n",
       "      <td>0</td>\n",
       "      <td>0</td>\n",
       "      <td>1.0</td>\n",
       "      <td>3.0</td>\n",
       "      <td>1.0</td>\n",
       "      <td>20.0</td>\n",
       "      <td>0.000000</td>\n",
       "      <td>19.989347</td>\n",
       "      <td>1.0</td>\n",
       "    </tr>\n",
       "    <tr>\n",
       "      <th>4</th>\n",
       "      <td>0</td>\n",
       "      <td>0</td>\n",
       "      <td>1.0</td>\n",
       "      <td>4.0</td>\n",
       "      <td>1.0</td>\n",
       "      <td>20.0</td>\n",
       "      <td>0.000000</td>\n",
       "      <td>17.585246</td>\n",
       "      <td>1.0</td>\n",
       "    </tr>\n",
       "    <tr>\n",
       "      <th>5</th>\n",
       "      <td>0</td>\n",
       "      <td>0</td>\n",
       "      <td>1.0</td>\n",
       "      <td>5.0</td>\n",
       "      <td>1.0</td>\n",
       "      <td>20.0</td>\n",
       "      <td>0.000000</td>\n",
       "      <td>9.109582</td>\n",
       "      <td>1.0</td>\n",
       "    </tr>\n",
       "    <tr>\n",
       "      <th>6</th>\n",
       "      <td>0</td>\n",
       "      <td>0</td>\n",
       "      <td>1.0</td>\n",
       "      <td>6.0</td>\n",
       "      <td>1.0</td>\n",
       "      <td>20.0</td>\n",
       "      <td>3.052136</td>\n",
       "      <td>9.405939</td>\n",
       "      <td>1.0</td>\n",
       "    </tr>\n",
       "    <tr>\n",
       "      <th>7</th>\n",
       "      <td>0</td>\n",
       "      <td>0</td>\n",
       "      <td>1.0</td>\n",
       "      <td>7.0</td>\n",
       "      <td>1.0</td>\n",
       "      <td>20.0</td>\n",
       "      <td>38.288522</td>\n",
       "      <td>2.397203</td>\n",
       "      <td>1.0</td>\n",
       "    </tr>\n",
       "    <tr>\n",
       "      <th>8</th>\n",
       "      <td>0</td>\n",
       "      <td>0</td>\n",
       "      <td>1.0</td>\n",
       "      <td>8.0</td>\n",
       "      <td>1.0</td>\n",
       "      <td>20.0</td>\n",
       "      <td>79.939869</td>\n",
       "      <td>10.511976</td>\n",
       "      <td>1.0</td>\n",
       "    </tr>\n",
       "    <tr>\n",
       "      <th>9</th>\n",
       "      <td>0</td>\n",
       "      <td>0</td>\n",
       "      <td>1.0</td>\n",
       "      <td>9.0</td>\n",
       "      <td>1.0</td>\n",
       "      <td>20.0</td>\n",
       "      <td>108.837300</td>\n",
       "      <td>1.323374</td>\n",
       "      <td>1.0</td>\n",
       "    </tr>\n",
       "    <tr>\n",
       "      <th>10</th>\n",
       "      <td>0</td>\n",
       "      <td>0</td>\n",
       "      <td>1.0</td>\n",
       "      <td>10.0</td>\n",
       "      <td>1.0</td>\n",
       "      <td>20.0</td>\n",
       "      <td>148.631867</td>\n",
       "      <td>2.167279</td>\n",
       "      <td>1.0</td>\n",
       "    </tr>\n",
       "    <tr>\n",
       "      <th>11</th>\n",
       "      <td>0</td>\n",
       "      <td>0</td>\n",
       "      <td>1.0</td>\n",
       "      <td>11.0</td>\n",
       "      <td>1.0</td>\n",
       "      <td>20.0</td>\n",
       "      <td>154.209490</td>\n",
       "      <td>14.921636</td>\n",
       "      <td>1.0</td>\n",
       "    </tr>\n",
       "    <tr>\n",
       "      <th>12</th>\n",
       "      <td>0</td>\n",
       "      <td>0</td>\n",
       "      <td>1.0</td>\n",
       "      <td>12.0</td>\n",
       "      <td>1.0</td>\n",
       "      <td>20.0</td>\n",
       "      <td>167.339564</td>\n",
       "      <td>19.693717</td>\n",
       "      <td>1.0</td>\n",
       "    </tr>\n",
       "    <tr>\n",
       "      <th>13</th>\n",
       "      <td>0</td>\n",
       "      <td>0</td>\n",
       "      <td>1.0</td>\n",
       "      <td>13.0</td>\n",
       "      <td>1.0</td>\n",
       "      <td>20.0</td>\n",
       "      <td>186.722726</td>\n",
       "      <td>6.810885</td>\n",
       "      <td>1.0</td>\n",
       "    </tr>\n",
       "    <tr>\n",
       "      <th>14</th>\n",
       "      <td>0</td>\n",
       "      <td>0</td>\n",
       "      <td>1.0</td>\n",
       "      <td>14.0</td>\n",
       "      <td>1.0</td>\n",
       "      <td>20.0</td>\n",
       "      <td>158.708295</td>\n",
       "      <td>12.157486</td>\n",
       "      <td>1.0</td>\n",
       "    </tr>\n",
       "    <tr>\n",
       "      <th>15</th>\n",
       "      <td>0</td>\n",
       "      <td>0</td>\n",
       "      <td>1.0</td>\n",
       "      <td>15.0</td>\n",
       "      <td>1.0</td>\n",
       "      <td>20.0</td>\n",
       "      <td>163.256828</td>\n",
       "      <td>3.569434</td>\n",
       "      <td>1.0</td>\n",
       "    </tr>\n",
       "    <tr>\n",
       "      <th>16</th>\n",
       "      <td>0</td>\n",
       "      <td>0</td>\n",
       "      <td>1.0</td>\n",
       "      <td>16.0</td>\n",
       "      <td>1.0</td>\n",
       "      <td>20.0</td>\n",
       "      <td>138.715230</td>\n",
       "      <td>3.611447</td>\n",
       "      <td>1.0</td>\n",
       "    </tr>\n",
       "    <tr>\n",
       "      <th>17</th>\n",
       "      <td>0</td>\n",
       "      <td>0</td>\n",
       "      <td>1.0</td>\n",
       "      <td>17.0</td>\n",
       "      <td>1.0</td>\n",
       "      <td>20.0</td>\n",
       "      <td>119.495232</td>\n",
       "      <td>18.564369</td>\n",
       "      <td>1.0</td>\n",
       "    </tr>\n",
       "    <tr>\n",
       "      <th>18</th>\n",
       "      <td>0</td>\n",
       "      <td>0</td>\n",
       "      <td>1.0</td>\n",
       "      <td>18.0</td>\n",
       "      <td>1.0</td>\n",
       "      <td>20.0</td>\n",
       "      <td>87.326079</td>\n",
       "      <td>9.586492</td>\n",
       "      <td>1.0</td>\n",
       "    </tr>\n",
       "    <tr>\n",
       "      <th>19</th>\n",
       "      <td>0</td>\n",
       "      <td>0</td>\n",
       "      <td>1.0</td>\n",
       "      <td>19.0</td>\n",
       "      <td>1.0</td>\n",
       "      <td>20.0</td>\n",
       "      <td>39.953506</td>\n",
       "      <td>4.011384</td>\n",
       "      <td>1.0</td>\n",
       "    </tr>\n",
       "    <tr>\n",
       "      <th>20</th>\n",
       "      <td>0</td>\n",
       "      <td>0</td>\n",
       "      <td>1.0</td>\n",
       "      <td>20.0</td>\n",
       "      <td>1.0</td>\n",
       "      <td>20.0</td>\n",
       "      <td>3.459887</td>\n",
       "      <td>11.225084</td>\n",
       "      <td>1.0</td>\n",
       "    </tr>\n",
       "    <tr>\n",
       "      <th>21</th>\n",
       "      <td>0</td>\n",
       "      <td>0</td>\n",
       "      <td>1.0</td>\n",
       "      <td>21.0</td>\n",
       "      <td>1.0</td>\n",
       "      <td>20.0</td>\n",
       "      <td>0.000000</td>\n",
       "      <td>18.733344</td>\n",
       "      <td>1.0</td>\n",
       "    </tr>\n",
       "    <tr>\n",
       "      <th>22</th>\n",
       "      <td>0</td>\n",
       "      <td>0</td>\n",
       "      <td>1.0</td>\n",
       "      <td>22.0</td>\n",
       "      <td>1.0</td>\n",
       "      <td>20.0</td>\n",
       "      <td>0.000000</td>\n",
       "      <td>16.585114</td>\n",
       "      <td>1.0</td>\n",
       "    </tr>\n",
       "    <tr>\n",
       "      <th>23</th>\n",
       "      <td>0</td>\n",
       "      <td>0</td>\n",
       "      <td>1.0</td>\n",
       "      <td>23.0</td>\n",
       "      <td>1.0</td>\n",
       "      <td>20.0</td>\n",
       "      <td>0.000000</td>\n",
       "      <td>7.624929</td>\n",
       "      <td>1.0</td>\n",
       "    </tr>\n",
       "  </tbody>\n",
       "</table>\n",
       "</div>"
      ],
      "text/plain": [
       "    y  d   dd     h   dt  temp           I         wv   eg\n",
       "0   0  0  1.0   0.0  1.0  20.0    0.000000  12.806443  1.0\n",
       "1   0  0  1.0   1.0  1.0  20.0    0.000000   9.897077  1.0\n",
       "2   0  0  1.0   2.0  1.0  20.0    0.000000  10.672301  1.0\n",
       "3   0  0  1.0   3.0  1.0  20.0    0.000000  19.989347  1.0\n",
       "4   0  0  1.0   4.0  1.0  20.0    0.000000  17.585246  1.0\n",
       "5   0  0  1.0   5.0  1.0  20.0    0.000000   9.109582  1.0\n",
       "6   0  0  1.0   6.0  1.0  20.0    3.052136   9.405939  1.0\n",
       "7   0  0  1.0   7.0  1.0  20.0   38.288522   2.397203  1.0\n",
       "8   0  0  1.0   8.0  1.0  20.0   79.939869  10.511976  1.0\n",
       "9   0  0  1.0   9.0  1.0  20.0  108.837300   1.323374  1.0\n",
       "10  0  0  1.0  10.0  1.0  20.0  148.631867   2.167279  1.0\n",
       "11  0  0  1.0  11.0  1.0  20.0  154.209490  14.921636  1.0\n",
       "12  0  0  1.0  12.0  1.0  20.0  167.339564  19.693717  1.0\n",
       "13  0  0  1.0  13.0  1.0  20.0  186.722726   6.810885  1.0\n",
       "14  0  0  1.0  14.0  1.0  20.0  158.708295  12.157486  1.0\n",
       "15  0  0  1.0  15.0  1.0  20.0  163.256828   3.569434  1.0\n",
       "16  0  0  1.0  16.0  1.0  20.0  138.715230   3.611447  1.0\n",
       "17  0  0  1.0  17.0  1.0  20.0  119.495232  18.564369  1.0\n",
       "18  0  0  1.0  18.0  1.0  20.0   87.326079   9.586492  1.0\n",
       "19  0  0  1.0  19.0  1.0  20.0   39.953506   4.011384  1.0\n",
       "20  0  0  1.0  20.0  1.0  20.0    3.459887  11.225084  1.0\n",
       "21  0  0  1.0  21.0  1.0  20.0    0.000000  18.733344  1.0\n",
       "22  0  0  1.0  22.0  1.0  20.0    0.000000  16.585114  1.0\n",
       "23  0  0  1.0  23.0  1.0  20.0    0.000000   7.624929  1.0"
      ]
     },
     "execution_count": 70,
     "metadata": {},
     "output_type": "execute_result"
    }
   ],
   "source": [
    "Escenarios"
   ]
  },
  {
   "cell_type": "code",
   "execution_count": 71,
   "id": "blessed-advice",
   "metadata": {
    "executionInfo": {
     "elapsed": 724,
     "status": "ok",
     "timestamp": 1619871241127,
     "user": {
      "displayName": "Juan Sardón",
      "photoUrl": "https://lh3.googleusercontent.com/a-/AOh14Gh0hE4Hw8M0I17k-o2PXxLB5i6gNZV_oUTpZlyJ3Q=s64",
      "userId": "08267034058673099115"
     },
     "user_tz": 180
    },
    "id": "fatal-python"
   },
   "outputs": [],
   "source": [
    "#Escenarios_i"
   ]
  },
  {
   "cell_type": "code",
   "execution_count": 72,
   "id": "strange-feedback",
   "metadata": {
    "executionInfo": {
     "elapsed": 723,
     "status": "ok",
     "timestamp": 1619871242750,
     "user": {
      "displayName": "Juan Sardón",
      "photoUrl": "https://lh3.googleusercontent.com/a-/AOh14Gh0hE4Hw8M0I17k-o2PXxLB5i6gNZV_oUTpZlyJ3Q=s64",
      "userId": "08267034058673099115"
     },
     "user_tz": 180
    },
    "id": "lonely-jones"
   },
   "outputs": [],
   "source": [
    "#los costos iniciales:\n",
    "costos_iniciales = net.ext_grid['ic_0_mu'][0] + net.load['ic_0_mu'][0] + m.sgen_PV*net.sgen['ic_0_mu'][0] + m.sgen_WT*net.sgen['ic_0_mu'][1] +  \\\n",
    "                   net.ext_grid['ic_1_mu'][0]*0 + net.load['ic_1_mu'][0]*0 + m.ap_mw_PV * net.sgen['ic_1_mu'][0] + m.ap_mw_WT * net.sgen['ic_1_mu'][1]"
   ]
  },
  {
   "cell_type": "code",
   "execution_count": 73,
   "id": "superb-customer",
   "metadata": {
    "colab": {
     "base_uri": "https://localhost:8080/"
    },
    "executionInfo": {
     "elapsed": 1146,
     "status": "ok",
     "timestamp": 1619871245143,
     "user": {
      "displayName": "Juan Sardón",
      "photoUrl": "https://lh3.googleusercontent.com/a-/AOh14Gh0hE4Hw8M0I17k-o2PXxLB5i6gNZV_oUTpZlyJ3Q=s64",
      "userId": "08267034058673099115"
     },
     "user_tz": 180
    },
    "id": "creative-substance",
    "outputId": "e2460d1e-420c-4a8c-8f82-fd2ee032bb24"
   },
   "outputs": [
    {
     "name": "stdout",
     "output_type": "stream",
     "text": [
      "2.0*sgen_PV + 5.0*sgen_WT + 0.75*ap_mw_PV + 3.0*ap_mw_WT\n"
     ]
    }
   ],
   "source": [
    "print(costos_iniciales)"
   ]
  },
  {
   "cell_type": "code",
   "execution_count": 74,
   "id": "geographic-hammer",
   "metadata": {
    "executionInfo": {
     "elapsed": 3429,
     "status": "ok",
     "timestamp": 1619871250064,
     "user": {
      "displayName": "Juan Sardón",
      "photoUrl": "https://lh3.googleusercontent.com/a-/AOh14Gh0hE4Hw8M0I17k-o2PXxLB5i6gNZV_oUTpZlyJ3Q=s64",
      "userId": "08267034058673099115"
     },
     "user_tz": 180
    },
    "id": "physical-basis"
   },
   "outputs": [],
   "source": [
    "costos_variables = sum(m.p_mw_PV[e]*net.sgen['oc_1_mu'][0]*Escenarios['dd'][e]*años+ m.p_mw_WT[e]*net.sgen['oc_1_mu'][1]*Escenarios['dd'][e]*años + m.p_mw_Ext[e]*net.ext_grid['oc_1_mu'][0](Escenarios.loc[e])*Escenarios['dd'][e]*años for e in Escenarios_i)"
   ]
  },
  {
   "cell_type": "code",
   "execution_count": 75,
   "id": "contrary-nylon",
   "metadata": {
    "executionInfo": {
     "elapsed": 920,
     "status": "ok",
     "timestamp": 1619871252831,
     "user": {
      "displayName": "Juan Sardón",
      "photoUrl": "https://lh3.googleusercontent.com/a-/AOh14Gh0hE4Hw8M0I17k-o2PXxLB5i6gNZV_oUTpZlyJ3Q=s64",
      "userId": "08267034058673099115"
     },
     "user_tz": 180
    },
    "id": "resistant-black"
   },
   "outputs": [],
   "source": [
    "#print(costos_variables)"
   ]
  },
  {
   "cell_type": "code",
   "execution_count": 76,
   "id": "hindu-baghdad",
   "metadata": {
    "executionInfo": {
     "elapsed": 550,
     "status": "ok",
     "timestamp": 1619871253961,
     "user": {
      "displayName": "Juan Sardón",
      "photoUrl": "https://lh3.googleusercontent.com/a-/AOh14Gh0hE4Hw8M0I17k-o2PXxLB5i6gNZV_oUTpZlyJ3Q=s64",
      "userId": "08267034058673099115"
     },
     "user_tz": 180
    },
    "id": "efficient-amendment"
   },
   "outputs": [],
   "source": [
    "#costos = costos_iniciales + costos_variables"
   ]
  },
  {
   "cell_type": "code",
   "execution_count": 77,
   "id": "perceived-document",
   "metadata": {
    "executionInfo": {
     "elapsed": 642,
     "status": "ok",
     "timestamp": 1619871255204,
     "user": {
      "displayName": "Juan Sardón",
      "photoUrl": "https://lh3.googleusercontent.com/a-/AOh14Gh0hE4Hw8M0I17k-o2PXxLB5i6gNZV_oUTpZlyJ3Q=s64",
      "userId": "08267034058673099115"
     },
     "user_tz": 180
    },
    "id": "unable-integration"
   },
   "outputs": [],
   "source": [
    "#print(costos)"
   ]
  },
  {
   "cell_type": "code",
   "execution_count": 78,
   "id": "interracial-italy",
   "metadata": {
    "executionInfo": {
     "elapsed": 917,
     "status": "ok",
     "timestamp": 1619871256943,
     "user": {
      "displayName": "Juan Sardón",
      "photoUrl": "https://lh3.googleusercontent.com/a-/AOh14Gh0hE4Hw8M0I17k-o2PXxLB5i6gNZV_oUTpZlyJ3Q=s64",
      "userId": "08267034058673099115"
     },
     "user_tz": 180
    },
    "id": "global-senior"
   },
   "outputs": [],
   "source": [
    "m.value = pe.Objective(\n",
    "expr = costos_iniciales + costos_variables,\n",
    "sense = pe.minimize )"
   ]
  },
  {
   "cell_type": "code",
   "execution_count": 79,
   "id": "governmental-thermal",
   "metadata": {
    "executionInfo": {
     "elapsed": 460,
     "status": "ok",
     "timestamp": 1619871258197,
     "user": {
      "displayName": "Juan Sardón",
      "photoUrl": "https://lh3.googleusercontent.com/a-/AOh14Gh0hE4Hw8M0I17k-o2PXxLB5i6gNZV_oUTpZlyJ3Q=s64",
      "userId": "08267034058673099115"
     },
     "user_tz": 180
    },
    "id": "banned-webcam"
   },
   "outputs": [],
   "source": [
    "def hourly_power_balance(m, t):\n",
    "    return m.p_mw_Ext[t] + m.p_mw_PV[t] + m.p_mw_WT[t] - net.load['op_mw'][0](Escenarios.loc[t])*net.load['p_mw'][0] == 0"
   ]
  },
  {
   "cell_type": "code",
   "execution_count": 80,
   "id": "anonymous-graduation",
   "metadata": {
    "executionInfo": {
     "elapsed": 3019,
     "status": "ok",
     "timestamp": 1619871261958,
     "user": {
      "displayName": "Juan Sardón",
      "photoUrl": "https://lh3.googleusercontent.com/a-/AOh14Gh0hE4Hw8M0I17k-o2PXxLB5i6gNZV_oUTpZlyJ3Q=s64",
      "userId": "08267034058673099115"
     },
     "user_tz": 180
    },
    "id": "significant-bearing"
   },
   "outputs": [],
   "source": [
    "m.hourly_power_balance = pe.Constraint(Escenarios_i, rule = hourly_power_balance)"
   ]
  },
  {
   "cell_type": "code",
   "execution_count": 81,
   "id": "approved-fortune",
   "metadata": {
    "executionInfo": {
     "elapsed": 2803,
     "status": "ok",
     "timestamp": 1619871265426,
     "user": {
      "displayName": "Juan Sardón",
      "photoUrl": "https://lh3.googleusercontent.com/a-/AOh14Gh0hE4Hw8M0I17k-o2PXxLB5i6gNZV_oUTpZlyJ3Q=s64",
      "userId": "08267034058673099115"
     },
     "user_tz": 180
    },
    "id": "looking-external"
   },
   "outputs": [],
   "source": [
    "#dimensionamiento solar:\n",
    "m.PV_dim = pe.Constraint(Escenarios_i, rule = (lambda m, t : m.p_mw_PV[t] <= m.ap_mw_PV*net.sgen['ap_mw'][0](Escenarios.loc[t])))"
   ]
  },
  {
   "cell_type": "code",
   "execution_count": 82,
   "id": "fifty-dairy",
   "metadata": {
    "executionInfo": {
     "elapsed": 576,
     "status": "ok",
     "timestamp": 1619871266715,
     "user": {
      "displayName": "Juan Sardón",
      "photoUrl": "https://lh3.googleusercontent.com/a-/AOh14Gh0hE4Hw8M0I17k-o2PXxLB5i6gNZV_oUTpZlyJ3Q=s64",
      "userId": "08267034058673099115"
     },
     "user_tz": 180
    },
    "id": "suited-spirit"
   },
   "outputs": [],
   "source": [
    "m.PV_build = pe.Constraint( expr = m.ap_mw_PV <= m.sgen_PV*M)"
   ]
  },
  {
   "cell_type": "code",
   "execution_count": 83,
   "id": "careful-testament",
   "metadata": {
    "executionInfo": {
     "elapsed": 2718,
     "status": "ok",
     "timestamp": 1619871270139,
     "user": {
      "displayName": "Juan Sardón",
      "photoUrl": "https://lh3.googleusercontent.com/a-/AOh14Gh0hE4Hw8M0I17k-o2PXxLB5i6gNZV_oUTpZlyJ3Q=s64",
      "userId": "08267034058673099115"
     },
     "user_tz": 180
    },
    "id": "boring-macro"
   },
   "outputs": [],
   "source": [
    "#dimensionamiento WT:\n",
    "m.WT_dim = pe.Constraint(Escenarios_i, rule = (lambda m, t : m.p_mw_WT[t] <= m.ap_mw_WT*net.sgen['ap_mw'][1](Escenarios.loc[t])))"
   ]
  },
  {
   "cell_type": "code",
   "execution_count": 84,
   "id": "smaller-garlic",
   "metadata": {
    "executionInfo": {
     "elapsed": 450,
     "status": "ok",
     "timestamp": 1619871271301,
     "user": {
      "displayName": "Juan Sardón",
      "photoUrl": "https://lh3.googleusercontent.com/a-/AOh14Gh0hE4Hw8M0I17k-o2PXxLB5i6gNZV_oUTpZlyJ3Q=s64",
      "userId": "08267034058673099115"
     },
     "user_tz": 180
    },
    "id": "adapted-august"
   },
   "outputs": [],
   "source": [
    "m.WT_build = pe.Constraint( expr = m.ap_mw_WT <= m.sgen_WT*M)"
   ]
  },
  {
   "cell_type": "code",
   "execution_count": null,
   "id": "right-creation",
   "metadata": {},
   "outputs": [],
   "source": []
  },
  {
   "cell_type": "code",
   "execution_count": 85,
   "id": "elect-flooring",
   "metadata": {
    "executionInfo": {
     "elapsed": 30033,
     "status": "ok",
     "timestamp": 1619873258828,
     "user": {
      "displayName": "Juan Sardón",
      "photoUrl": "https://lh3.googleusercontent.com/a-/AOh14Gh0hE4Hw8M0I17k-o2PXxLB5i6gNZV_oUTpZlyJ3Q=s64",
      "userId": "08267034058673099115"
     },
     "user_tz": 180
    },
    "id": "boxed-bread"
   },
   "outputs": [
    {
     "name": "stdout",
     "output_type": "stream",
     "text": [
      "\n",
      "Welcome to IBM(R) ILOG(R) CPLEX(R) Interactive Optimizer 20.1.0.0\n",
      "  with Simplex, Mixed Integer & Barrier Optimizers\n",
      "5725-A06 5725-A29 5724-Y48 5724-Y49 5724-Y54 5724-Y55 5655-Y21\n",
      "Copyright IBM Corp. 1988, 2020.  All Rights Reserved.\n",
      "\n",
      "Type 'help' for a list of available commands.\n",
      "Type 'help' followed by a command name for more\n",
      "information on commands.\n",
      "\n",
      "CPLEX> Logfile 'cplex.log' closed.\n",
      "Logfile 'C:\\Users\\jmsar\\AppData\\Local\\Temp\\tmprpeq2ozx.cplex.log' open.\n",
      "CPLEX> Problem 'C:\\Users\\jmsar\\AppData\\Local\\Temp\\tmpt7_ji8ie.pyomo.lp' read.\n",
      "Read time = 0.00 sec. (0.01 ticks)\n",
      "CPLEX> Problem name         : C:\\Users\\jmsar\\AppData\\Local\\Temp\\tmpt7_ji8ie.pyomo.lp\n",
      "Objective sense      : Minimize\n",
      "Variables            :      77  [Nneg: 51,  Box: 24,  Binary: 2]\n",
      "Objective nonzeros   :      76\n",
      "Linear constraints   :      75  [Less: 50,  Equal: 25]\n",
      "  Nonzeros           :     161\n",
      "  RHS nonzeros       :      25\n",
      "\n",
      "Variables            : Min LB: 0.000000         Max UB: 1.000000       \n",
      "Objective nonzeros   : Min   : 0.0005000000     Max   : 5.000000       \n",
      "Linear constraints   :\n",
      "  Nonzeros           : Min   : 0.003052136      Max   : 1000.000       \n",
      "  RHS nonzeros       : Min   : 0.07795268       Max   : 1.000000       \n",
      "CPLEX> Version identifier: 20.1.0.0 | 2020-11-10 | 9bedb6d68\n",
      "Found incumbent of value 0.022908 after 0.02 sec. (0.01 ticks)\n",
      "Tried aggregator 1 time.\n",
      "MIP Presolve eliminated 25 rows and 25 columns.\n",
      "Reduced MIP has 50 rows, 52 columns, and 112 nonzeros.\n",
      "Reduced MIP has 2 binaries, 0 generals, 0 SOSs, and 0 indicators.\n",
      "Presolve time = 0.00 sec. (0.08 ticks)\n",
      "Probing time = 0.00 sec. (0.00 ticks)\n",
      "Tried aggregator 1 time.\n",
      "MIP Presolve modified 2 coefficients.\n",
      "Reduced MIP has 50 rows, 52 columns, and 112 nonzeros.\n",
      "Reduced MIP has 2 binaries, 0 generals, 0 SOSs, and 0 indicators.\n",
      "Presolve time = 0.00 sec. (0.06 ticks)\n",
      "Probing time = 0.00 sec. (0.00 ticks)\n",
      "MIP emphasis: balance optimality and feasibility.\n",
      "MIP search method: dynamic search.\n",
      "Parallel mode: deterministic, using up to 4 threads.\n",
      "Root relaxation solution time = 0.00 sec. (0.05 ticks)\n",
      "\n",
      "        Nodes                                         Cuts/\n",
      "   Node  Left     Objective  IInf  Best Integer    Best Bound    ItCnt     Gap\n",
      "\n",
      "*     0+    0                            0.0229        0.0012            94.55%\n",
      "      0     0        cutoff              0.0229                     36    0.00%\n",
      "\n",
      "Root node processing (before b&c):\n",
      "  Real time             =    0.02 sec. (0.27 ticks)\n",
      "Parallel b&c, 4 threads:\n",
      "  Real time             =    0.00 sec. (0.00 ticks)\n",
      "  Sync time (average)   =    0.00 sec.\n",
      "  Wait time (average)   =    0.00 sec.\n",
      "                          ------------\n",
      "Total (root+branch&cut) =    0.02 sec. (0.27 ticks)\n",
      "\n",
      "Solution pool: 1 solution saved.\n",
      "\n",
      "MIP - Integer optimal solution:  Objective =  2.2907524853e-02\n",
      "Solution time =    0.02 sec.  Iterations = 36  Nodes = 0\n",
      "Deterministic time = 0.27 ticks  (16.74 ticks/sec)\n",
      "\n",
      "CPLEX> Incumbent solution written to file 'C:\\Users\\jmsar\\AppData\\Local\\Temp\\tmp1oru_a_a.cplex.sol'.\n",
      "CPLEX> "
     ]
    }
   ],
   "source": [
    "#opt = pe.SolverFactory('glpk')\n",
    "opt = pe.SolverFactory('cplex')\n",
    "result_obj= opt.solve(m, tee=True)\n",
    "\n",
    "#solver_manager = pe.SolverManagerFactory('neos')\n",
    "#result_obj = solver_manager.solve(m, opt='cplex')\n",
    "\n"
   ]
  },
  {
   "cell_type": "code",
   "execution_count": 86,
   "id": "focal-volunteer",
   "metadata": {
    "executionInfo": {
     "elapsed": 648,
     "status": "ok",
     "timestamp": 1619873540339,
     "user": {
      "displayName": "Juan Sardón",
      "photoUrl": "https://lh3.googleusercontent.com/a-/AOh14Gh0hE4Hw8M0I17k-o2PXxLB5i6gNZV_oUTpZlyJ3Q=s64",
      "userId": "08267034058673099115"
     },
     "user_tz": 180
    },
    "id": "animated-particular"
   },
   "outputs": [
    {
     "name": "stdout",
     "output_type": "stream",
     "text": [
      "6 Set Declarations\n",
      "    PV_dim_index : Size=1, Index=None, Ordered=False\n",
      "        Key  : Dimen : Domain : Size : Members\n",
      "        None :     1 :    Any :   24 : {0, 1, 2, 3, 4, 5, 6, 7, 8, 9, 10, 11, 12, 13, 14, 15, 16, 17, 18, 19, 20, 21, 22, 23}\n",
      "    WT_dim_index : Size=1, Index=None, Ordered=False\n",
      "        Key  : Dimen : Domain : Size : Members\n",
      "        None :     1 :    Any :   24 : {0, 1, 2, 3, 4, 5, 6, 7, 8, 9, 10, 11, 12, 13, 14, 15, 16, 17, 18, 19, 20, 21, 22, 23}\n",
      "    hourly_power_balance_index : Size=1, Index=None, Ordered=False\n",
      "        Key  : Dimen : Domain : Size : Members\n",
      "        None :     1 :    Any :   24 : {0, 1, 2, 3, 4, 5, 6, 7, 8, 9, 10, 11, 12, 13, 14, 15, 16, 17, 18, 19, 20, 21, 22, 23}\n",
      "    p_mw_Ext_index : Size=1, Index=None, Ordered=False\n",
      "        Key  : Dimen : Domain : Size : Members\n",
      "        None :     1 :    Any :   24 : {0, 1, 2, 3, 4, 5, 6, 7, 8, 9, 10, 11, 12, 13, 14, 15, 16, 17, 18, 19, 20, 21, 22, 23}\n",
      "    p_mw_PV_index : Size=1, Index=None, Ordered=False\n",
      "        Key  : Dimen : Domain : Size : Members\n",
      "        None :     1 :    Any :   24 : {0, 1, 2, 3, 4, 5, 6, 7, 8, 9, 10, 11, 12, 13, 14, 15, 16, 17, 18, 19, 20, 21, 22, 23}\n",
      "    p_mw_WT_index : Size=1, Index=None, Ordered=False\n",
      "        Key  : Dimen : Domain : Size : Members\n",
      "        None :     1 :    Any :   24 : {0, 1, 2, 3, 4, 5, 6, 7, 8, 9, 10, 11, 12, 13, 14, 15, 16, 17, 18, 19, 20, 21, 22, 23}\n",
      "\n",
      "7 Var Declarations\n",
      "    ap_mw_PV : Size=1, Index=None\n",
      "        Key  : Lower : Value : Upper : Fixed : Stale : Domain\n",
      "        None :     0 :   0.0 :  None : False : False : NonNegativeReals\n",
      "    ap_mw_WT : Size=1, Index=None\n",
      "        Key  : Lower : Value : Upper : Fixed : Stale : Domain\n",
      "        None :     0 :   0.0 :  None : False : False : NonNegativeReals\n",
      "    p_mw_Ext : Size=24, Index=p_mw_Ext_index\n",
      "        Key : Lower : Value               : Upper : Fixed : Stale : Domain\n",
      "          0 :     0 : 0.09687649911493841 :   1.0 : False : False : NonNegativeReals\n",
      "          1 :     0 : 0.09319071860165216 :   1.0 : False : False : NonNegativeReals\n",
      "          2 :     0 : 0.07795267782949701 :   1.0 : False : False : NonNegativeReals\n",
      "          3 :     0 : 0.09957127311757577 :   1.0 : False : False : NonNegativeReals\n",
      "          4 :     0 : 0.10571593611208364 :   1.0 : False : False : NonNegativeReals\n",
      "          5 :     0 : 0.08914077705826483 :   1.0 : False : False : NonNegativeReals\n",
      "          6 :     0 : 0.20120029249713728 :   1.0 : False : False : NonNegativeReals\n",
      "          7 :     0 : 0.20788697263790587 :   1.0 : False : False : NonNegativeReals\n",
      "          8 :     0 : 0.18945608854174856 :   1.0 : False : False : NonNegativeReals\n",
      "          9 :     0 : 0.18079011104044587 :   1.0 : False : False : NonNegativeReals\n",
      "         10 :     0 :  0.2445922933122757 :   1.0 : False : False : NonNegativeReals\n",
      "         11 :     0 : 0.26814082988010607 :   1.0 : False : False : NonNegativeReals\n",
      "         12 :     0 :  0.2246134526298068 :   1.0 : False : False : NonNegativeReals\n",
      "         13 :     0 : 0.17999112339073373 :   1.0 : False : False : NonNegativeReals\n",
      "         14 :     0 :  0.2452172889712563 :   1.0 : False : False : NonNegativeReals\n",
      "         15 :     0 :  0.2323510701844303 :   1.0 : False : False : NonNegativeReals\n",
      "         16 :     0 :  0.2161040508082363 :   1.0 : False : False : NonNegativeReals\n",
      "         17 :     0 : 0.24559961219201423 :   1.0 : False : False : NonNegativeReals\n",
      "         18 :     0 :  0.4217599739262759 :   1.0 : False : False : NonNegativeReals\n",
      "         19 :     0 :  0.4222376008882463 :   1.0 : False : False : NonNegativeReals\n",
      "         20 :     0 :   0.498198798058012 :   1.0 : False : False : NonNegativeReals\n",
      "         21 :     0 :  0.5082190146143614 :   1.0 : False : False : NonNegativeReals\n",
      "         22 :     0 : 0.13739252830898113 :   1.0 : False : False : NonNegativeReals\n",
      "         23 :     0 : 0.12206560426839907 :   1.0 : False : False : NonNegativeReals\n",
      "    p_mw_PV : Size=24, Index=p_mw_PV_index\n",
      "        Key : Lower : Value : Upper : Fixed : Stale : Domain\n",
      "          0 :     0 :   0.0 :  None : False : False : NonNegativeReals\n",
      "          1 :     0 :   0.0 :  None : False : False : NonNegativeReals\n",
      "          2 :     0 :   0.0 :  None : False : False : NonNegativeReals\n",
      "          3 :     0 :   0.0 :  None : False : False : NonNegativeReals\n",
      "          4 :     0 :   0.0 :  None : False : False : NonNegativeReals\n",
      "          5 :     0 :   0.0 :  None : False : False : NonNegativeReals\n",
      "          6 :     0 :   0.0 :  None : False : False : NonNegativeReals\n",
      "          7 :     0 :   0.0 :  None : False : False : NonNegativeReals\n",
      "          8 :     0 :   0.0 :  None : False : False : NonNegativeReals\n",
      "          9 :     0 :   0.0 :  None : False : False : NonNegativeReals\n",
      "         10 :     0 :   0.0 :  None : False : False : NonNegativeReals\n",
      "         11 :     0 :   0.0 :  None : False : False : NonNegativeReals\n",
      "         12 :     0 :   0.0 :  None : False : False : NonNegativeReals\n",
      "         13 :     0 :   0.0 :  None : False : False : NonNegativeReals\n",
      "         14 :     0 :   0.0 :  None : False : False : NonNegativeReals\n",
      "         15 :     0 :   0.0 :  None : False : False : NonNegativeReals\n",
      "         16 :     0 :   0.0 :  None : False : False : NonNegativeReals\n",
      "         17 :     0 :   0.0 :  None : False : False : NonNegativeReals\n",
      "         18 :     0 :   0.0 :  None : False : False : NonNegativeReals\n",
      "         19 :     0 :   0.0 :  None : False : False : NonNegativeReals\n",
      "         20 :     0 :   0.0 :  None : False : False : NonNegativeReals\n",
      "         21 :     0 :   0.0 :  None : False : False : NonNegativeReals\n",
      "         22 :     0 :   0.0 :  None : False : False : NonNegativeReals\n",
      "         23 :     0 :   0.0 :  None : False : False : NonNegativeReals\n",
      "    p_mw_WT : Size=24, Index=p_mw_WT_index\n",
      "        Key : Lower : Value : Upper : Fixed : Stale : Domain\n",
      "          0 :     0 :   0.0 :  None : False : False : NonNegativeReals\n",
      "          1 :     0 :   0.0 :  None : False : False : NonNegativeReals\n",
      "          2 :     0 :   0.0 :  None : False : False : NonNegativeReals\n",
      "          3 :     0 :   0.0 :  None : False : False : NonNegativeReals\n",
      "          4 :     0 :   0.0 :  None : False : False : NonNegativeReals\n",
      "          5 :     0 :   0.0 :  None : False : False : NonNegativeReals\n",
      "          6 :     0 :   0.0 :  None : False : False : NonNegativeReals\n",
      "          7 :     0 :   0.0 :  None : False : False : NonNegativeReals\n",
      "          8 :     0 :   0.0 :  None : False : False : NonNegativeReals\n",
      "          9 :     0 :   0.0 :  None : False : False : NonNegativeReals\n",
      "         10 :     0 :   0.0 :  None : False : False : NonNegativeReals\n",
      "         11 :     0 :   0.0 :  None : False : False : NonNegativeReals\n",
      "         12 :     0 :   0.0 :  None : False : False : NonNegativeReals\n",
      "         13 :     0 :   0.0 :  None : False : False : NonNegativeReals\n",
      "         14 :     0 :   0.0 :  None : False : False : NonNegativeReals\n",
      "         15 :     0 :   0.0 :  None : False : False : NonNegativeReals\n",
      "         16 :     0 :   0.0 :  None : False : False : NonNegativeReals\n",
      "         17 :     0 :   0.0 :  None : False : False : NonNegativeReals\n",
      "         18 :     0 :   0.0 :  None : False : False : NonNegativeReals\n",
      "         19 :     0 :   0.0 :  None : False : False : NonNegativeReals\n",
      "         20 :     0 :   0.0 :  None : False : False : NonNegativeReals\n",
      "         21 :     0 :   0.0 :  None : False : False : NonNegativeReals\n",
      "         22 :     0 :   0.0 :  None : False : False : NonNegativeReals\n",
      "         23 :     0 :   0.0 :  None : False : False : NonNegativeReals\n",
      "    sgen_PV : Size=1, Index=None\n",
      "        Key  : Lower : Value : Upper : Fixed : Stale : Domain\n",
      "        None :     0 :   0.0 :     1 : False : False : Binary\n",
      "    sgen_WT : Size=1, Index=None\n",
      "        Key  : Lower : Value : Upper : Fixed : Stale : Domain\n",
      "        None :     0 :   0.0 :     1 : False : False : Binary\n",
      "\n",
      "1 Objective Declarations\n",
      "    value : Size=1, Index=None, Active=True\n",
      "        Key  : Active : Sense    : Expression\n",
      "        None :   True : minimize : 2.0*sgen_PV + 5.0*sgen_WT + 0.75*ap_mw_PV + 3.0*ap_mw_WT + 0.0005*p_mw_PV[0] + 0.0007*p_mw_WT[0] + 0.0036*p_mw_Ext[0] + 0.0005*p_mw_PV[1] + 0.0007*p_mw_WT[1] + 0.0036*p_mw_Ext[1] + 0.0005*p_mw_PV[2] + 0.0007*p_mw_WT[2] + 0.0036*p_mw_Ext[2] + 0.0005*p_mw_PV[3] + 0.0007*p_mw_WT[3] + 0.0036*p_mw_Ext[3] + 0.0005*p_mw_PV[4] + 0.0007*p_mw_WT[4] + 0.0036*p_mw_Ext[4] + 0.0005*p_mw_PV[5] + 0.0007*p_mw_WT[5] + 0.0036*p_mw_Ext[5] + 0.0005*p_mw_PV[6] + 0.0007*p_mw_WT[6] + 0.0036*p_mw_Ext[6] + 0.0005*p_mw_PV[7] + 0.0007*p_mw_WT[7] + 0.0036*p_mw_Ext[7] + 0.0005*p_mw_PV[8] + 0.0007*p_mw_WT[8] + 0.0036*p_mw_Ext[8] + 0.0005*p_mw_PV[9] + 0.0007*p_mw_WT[9] + 0.0036*p_mw_Ext[9] + 0.0005*p_mw_PV[10] + 0.0007*p_mw_WT[10] + 0.0036*p_mw_Ext[10] + 0.0005*p_mw_PV[11] + 0.0007*p_mw_WT[11] + 0.0036*p_mw_Ext[11] + 0.0005*p_mw_PV[12] + 0.0007*p_mw_WT[12] + 0.0036*p_mw_Ext[12] + 0.0005*p_mw_PV[13] + 0.0007*p_mw_WT[13] + 0.0036*p_mw_Ext[13] + 0.0005*p_mw_PV[14] + 0.0007*p_mw_WT[14] + 0.0036*p_mw_Ext[14] + 0.0005*p_mw_PV[15] + 0.0007*p_mw_WT[15] + 0.0036*p_mw_Ext[15] + 0.0005*p_mw_PV[16] + 0.0007*p_mw_WT[16] + 0.0036*p_mw_Ext[16] + 0.0005*p_mw_PV[17] + 0.0007*p_mw_WT[17] + 0.0036*p_mw_Ext[17] + 0.0005*p_mw_PV[18] + 0.0007*p_mw_WT[18] + 0.005399999999999999*p_mw_Ext[18] + 0.0005*p_mw_PV[19] + 0.0007*p_mw_WT[19] + 0.005399999999999999*p_mw_Ext[19] + 0.0005*p_mw_PV[20] + 0.0007*p_mw_WT[20] + 0.005399999999999999*p_mw_Ext[20] + 0.0005*p_mw_PV[21] + 0.0007*p_mw_WT[21] + 0.005399999999999999*p_mw_Ext[21] + 0.0005*p_mw_PV[22] + 0.0007*p_mw_WT[22] + 0.005399999999999999*p_mw_Ext[22] + 0.0005*p_mw_PV[23] + 0.0007*p_mw_WT[23] + 0.005399999999999999*p_mw_Ext[23]\n",
      "\n",
      "5 Constraint Declarations\n",
      "    PV_build : Size=1, Index=None, Active=True\n",
      "        Key  : Lower : Body                      : Upper : Active\n",
      "        None :  -Inf : ap_mw_PV - 1000.0*sgen_PV :   0.0 :   True\n",
      "    PV_dim : Size=24, Index=PV_dim_index, Active=True\n",
      "        Key : Lower : Body                                        : Upper : Active\n",
      "          0 :  -Inf :                                  p_mw_PV[0] :   0.0 :   True\n",
      "          1 :  -Inf :                                  p_mw_PV[1] :   0.0 :   True\n",
      "          2 :  -Inf :                                  p_mw_PV[2] :   0.0 :   True\n",
      "          3 :  -Inf :                                  p_mw_PV[3] :   0.0 :   True\n",
      "          4 :  -Inf :                                  p_mw_PV[4] :   0.0 :   True\n",
      "          5 :  -Inf :                                  p_mw_PV[5] :   0.0 :   True\n",
      "          6 :  -Inf :  p_mw_PV[6] - 0.003052136108201608*ap_mw_PV :   0.0 :   True\n",
      "          7 :  -Inf :   p_mw_PV[7] - 0.03828852172547208*ap_mw_PV :   0.0 :   True\n",
      "          8 :  -Inf :   p_mw_PV[8] - 0.07993986881343655*ap_mw_PV :   0.0 :   True\n",
      "          9 :  -Inf :    p_mw_PV[9] - 0.1088372997216908*ap_mw_PV :   0.0 :   True\n",
      "         10 :  -Inf :  p_mw_PV[10] - 0.14863186707943032*ap_mw_PV :   0.0 :   True\n",
      "         11 :  -Inf :  p_mw_PV[11] - 0.15420948994393213*ap_mw_PV :   0.0 :   True\n",
      "         12 :  -Inf :  p_mw_PV[12] - 0.16733956442464643*ap_mw_PV :   0.0 :   True\n",
      "         13 :  -Inf :  p_mw_PV[13] - 0.18672272626099884*ap_mw_PV :   0.0 :   True\n",
      "         14 :  -Inf :  p_mw_PV[14] - 0.15870829466630518*ap_mw_PV :   0.0 :   True\n",
      "         15 :  -Inf :   p_mw_PV[15] - 0.1632568281171045*ap_mw_PV :   0.0 :   True\n",
      "         16 :  -Inf :  p_mw_PV[16] - 0.13871522957876528*ap_mw_PV :   0.0 :   True\n",
      "         17 :  -Inf :  p_mw_PV[17] - 0.11949523208261986*ap_mw_PV :   0.0 :   True\n",
      "         18 :  -Inf :  p_mw_PV[18] - 0.08732607861279598*ap_mw_PV :   0.0 :   True\n",
      "         19 :  -Inf : p_mw_PV[19] - 0.039953506413172725*ap_mw_PV :   0.0 :   True\n",
      "         20 :  -Inf : p_mw_PV[20] - 0.003459887173202574*ap_mw_PV :   0.0 :   True\n",
      "         21 :  -Inf :                                 p_mw_PV[21] :   0.0 :   True\n",
      "         22 :  -Inf :                                 p_mw_PV[22] :   0.0 :   True\n",
      "         23 :  -Inf :                                 p_mw_PV[23] :   0.0 :   True\n",
      "    WT_build : Size=1, Index=None, Active=True\n",
      "        Key  : Lower : Body                      : Upper : Active\n",
      "        None :  -Inf : ap_mw_WT - 1000.0*sgen_WT :   0.0 :   True\n",
      "    WT_dim : Size=24, Index=WT_dim_index, Active=True\n",
      "        Key : Lower : Body                                        : Upper : Active\n",
      "          0 :  -Inf :    p_mw_WT[0] - 0.8172035530316167*ap_mw_WT :   0.0 :   True\n",
      "          1 :  -Inf :    p_mw_WT[1] - 0.5747564280300389*ap_mw_WT :   0.0 :   True\n",
      "          2 :  -Inf :     p_mw_WT[2] - 0.639358420526504*ap_mw_WT :   0.0 :   True\n",
      "          3 :  -Inf :                       p_mw_WT[3] - ap_mw_WT :   0.0 :   True\n",
      "          4 :  -Inf :                       p_mw_WT[4] - ap_mw_WT :   0.0 :   True\n",
      "          5 :  -Inf :    p_mw_WT[5] - 0.5091318617680941*ap_mw_WT :   0.0 :   True\n",
      "          6 :  -Inf :    p_mw_WT[6] - 0.5338282661515801*ap_mw_WT :   0.0 :   True\n",
      "          7 :  -Inf :                                  p_mw_WT[7] :   0.0 :   True\n",
      "          8 :  -Inf :    p_mw_WT[8] - 0.6259980289631248*ap_mw_WT :   0.0 :   True\n",
      "          9 :  -Inf :                                  p_mw_WT[9] :   0.0 :   True\n",
      "         10 :  -Inf :                                 p_mw_WT[10] :   0.0 :   True\n",
      "         11 :  -Inf :   p_mw_WT[11] - 0.9934696474813215*ap_mw_WT :   0.0 :   True\n",
      "         12 :  -Inf :                      p_mw_WT[12] - ap_mw_WT :   0.0 :   True\n",
      "         13 :  -Inf :  p_mw_WT[13] - 0.31757378145159354*ap_mw_WT :   0.0 :   True\n",
      "         14 :  -Inf :   p_mw_WT[14] - 0.7631238672102388*ap_mw_WT :   0.0 :   True\n",
      "         15 :  -Inf : p_mw_WT[15] - 0.047452854839369306*ap_mw_WT :   0.0 :   True\n",
      "         16 :  -Inf :  p_mw_WT[16] - 0.05095391375104589*ap_mw_WT :   0.0 :   True\n",
      "         17 :  -Inf :                      p_mw_WT[17] - ap_mw_WT :   0.0 :   True\n",
      "         18 :  -Inf :   p_mw_WT[18] - 0.5488743604661379*ap_mw_WT :   0.0 :   True\n",
      "         19 :  -Inf :  p_mw_WT[19] - 0.08428198125760344*ap_mw_WT :   0.0 :   True\n",
      "         20 :  -Inf :   p_mw_WT[20] - 0.6854236857078583*ap_mw_WT :   0.0 :   True\n",
      "         21 :  -Inf :                      p_mw_WT[21] - ap_mw_WT :   0.0 :   True\n",
      "         22 :  -Inf :                      p_mw_WT[22] - ap_mw_WT :   0.0 :   True\n",
      "         23 :  -Inf :  p_mw_WT[23] - 0.38541079144043194*ap_mw_WT :   0.0 :   True\n",
      "    hourly_power_balance : Size=24, Index=hourly_power_balance_index, Active=True\n",
      "        Key : Lower : Body                                                           : Upper : Active\n",
      "          0 :   0.0 :    p_mw_Ext[0] + p_mw_PV[0] + p_mw_WT[0] - 0.09687649911493842 :   0.0 :   True\n",
      "          1 :   0.0 :    p_mw_Ext[1] + p_mw_PV[1] + p_mw_WT[1] - 0.09319071860165216 :   0.0 :   True\n",
      "          2 :   0.0 :    p_mw_Ext[2] + p_mw_PV[2] + p_mw_WT[2] - 0.07795267782949701 :   0.0 :   True\n",
      "          3 :   0.0 :    p_mw_Ext[3] + p_mw_PV[3] + p_mw_WT[3] - 0.09957127311757578 :   0.0 :   True\n",
      "          4 :   0.0 :    p_mw_Ext[4] + p_mw_PV[4] + p_mw_WT[4] - 0.10571593611208363 :   0.0 :   True\n",
      "          5 :   0.0 :    p_mw_Ext[5] + p_mw_PV[5] + p_mw_WT[5] - 0.08914077705826484 :   0.0 :   True\n",
      "          6 :   0.0 :    p_mw_Ext[6] + p_mw_PV[6] + p_mw_WT[6] - 0.20120029249713728 :   0.0 :   True\n",
      "          7 :   0.0 :    p_mw_Ext[7] + p_mw_PV[7] + p_mw_WT[7] - 0.20788697263790587 :   0.0 :   True\n",
      "          8 :   0.0 :    p_mw_Ext[8] + p_mw_PV[8] + p_mw_WT[8] - 0.18945608854174859 :   0.0 :   True\n",
      "          9 :   0.0 :    p_mw_Ext[9] + p_mw_PV[9] + p_mw_WT[9] - 0.18079011104044587 :   0.0 :   True\n",
      "         10 :   0.0 :  p_mw_Ext[10] + p_mw_PV[10] + p_mw_WT[10] - 0.2445922933122757 :   0.0 :   True\n",
      "         11 :   0.0 : p_mw_Ext[11] + p_mw_PV[11] + p_mw_WT[11] - 0.26814082988010607 :   0.0 :   True\n",
      "         12 :   0.0 : p_mw_Ext[12] + p_mw_PV[12] + p_mw_WT[12] - 0.22461345262980678 :   0.0 :   True\n",
      "         13 :   0.0 : p_mw_Ext[13] + p_mw_PV[13] + p_mw_WT[13] - 0.17999112339073373 :   0.0 :   True\n",
      "         14 :   0.0 :  p_mw_Ext[14] + p_mw_PV[14] + p_mw_WT[14] - 0.2452172889712563 :   0.0 :   True\n",
      "         15 :   0.0 :  p_mw_Ext[15] + p_mw_PV[15] + p_mw_WT[15] - 0.2323510701844303 :   0.0 :   True\n",
      "         16 :   0.0 :  p_mw_Ext[16] + p_mw_PV[16] + p_mw_WT[16] - 0.2161040508082363 :   0.0 :   True\n",
      "         17 :   0.0 : p_mw_Ext[17] + p_mw_PV[17] + p_mw_WT[17] - 0.24559961219201426 :   0.0 :   True\n",
      "         18 :   0.0 :  p_mw_Ext[18] + p_mw_PV[18] + p_mw_WT[18] - 0.4217599739262759 :   0.0 :   True\n",
      "         19 :   0.0 :  p_mw_Ext[19] + p_mw_PV[19] + p_mw_WT[19] - 0.4222376008882463 :   0.0 :   True\n",
      "         20 :   0.0 :   p_mw_Ext[20] + p_mw_PV[20] + p_mw_WT[20] - 0.498198798058012 :   0.0 :   True\n",
      "         21 :   0.0 :  p_mw_Ext[21] + p_mw_PV[21] + p_mw_WT[21] - 0.5082190146143614 :   0.0 :   True\n",
      "         22 :   0.0 : p_mw_Ext[22] + p_mw_PV[22] + p_mw_WT[22] - 0.13739252830898113 :   0.0 :   True\n",
      "         23 :   0.0 : p_mw_Ext[23] + p_mw_PV[23] + p_mw_WT[23] - 0.12206560426839907 :   0.0 :   True\n",
      "\n",
      "19 Declarations: ap_mw_PV ap_mw_WT sgen_PV sgen_WT p_mw_PV_index p_mw_PV p_mw_WT_index p_mw_WT p_mw_Ext_index p_mw_Ext value hourly_power_balance_index hourly_power_balance PV_dim_index PV_dim PV_build WT_dim_index WT_dim WT_build\n"
     ]
    }
   ],
   "source": [
    "m.pprint()"
   ]
  },
  {
   "cell_type": "code",
   "execution_count": 74,
   "id": "sapphire-growing",
   "metadata": {
    "colab": {
     "base_uri": "https://localhost:8080/"
    },
    "executionInfo": {
     "elapsed": 125550,
     "status": "ok",
     "timestamp": 1619873429394,
     "user": {
      "displayName": "Juan Sardón",
      "photoUrl": "https://lh3.googleusercontent.com/a-/AOh14Gh0hE4Hw8M0I17k-o2PXxLB5i6gNZV_oUTpZlyJ3Q=s64",
      "userId": "08267034058673099115"
     },
     "user_tz": 180
    },
    "id": "pending-wrestling",
    "outputId": "e5eb9aea-3103-4975-b083-c446c7ed2c2a"
   },
   "outputs": [
    {
     "data": {
      "text/plain": [
       "17.865562198746623"
      ]
     },
     "execution_count": 74,
     "metadata": {
      "tags": []
     },
     "output_type": "execute_result"
    }
   ],
   "source": [
    "getattr(m, 'value').expr()"
   ]
  },
  {
   "cell_type": "code",
   "execution_count": 75,
   "id": "younger-florist",
   "metadata": {
    "colab": {
     "base_uri": "https://localhost:8080/"
    },
    "executionInfo": {
     "elapsed": 124095,
     "status": "ok",
     "timestamp": 1619873429396,
     "user": {
      "displayName": "Juan Sardón",
      "photoUrl": "https://lh3.googleusercontent.com/a-/AOh14Gh0hE4Hw8M0I17k-o2PXxLB5i6gNZV_oUTpZlyJ3Q=s64",
      "userId": "08267034058673099115"
     },
     "user_tz": 180
    },
    "id": "global-handy",
    "outputId": "adf89951-786a-4cb2-f3e0-3d50a33b922f"
   },
   "outputs": [
    {
     "data": {
      "text/plain": [
       "1.0"
      ]
     },
     "execution_count": 75,
     "metadata": {
      "tags": []
     },
     "output_type": "execute_result"
    }
   ],
   "source": [
    "getattr(m, 'sgen_WT').value"
   ]
  },
  {
   "cell_type": "code",
   "execution_count": 76,
   "id": "described-purchase",
   "metadata": {
    "colab": {
     "base_uri": "https://localhost:8080/"
    },
    "executionInfo": {
     "elapsed": 123178,
     "status": "ok",
     "timestamp": 1619873429398,
     "user": {
      "displayName": "Juan Sardón",
      "photoUrl": "https://lh3.googleusercontent.com/a-/AOh14Gh0hE4Hw8M0I17k-o2PXxLB5i6gNZV_oUTpZlyJ3Q=s64",
      "userId": "08267034058673099115"
     },
     "user_tz": 180
    },
    "id": "coastal-terrain",
    "outputId": "34eb240e-006a-4c5e-c4ed-0984970857f5"
   },
   "outputs": [
    {
     "data": {
      "text/plain": [
       "0.0"
      ]
     },
     "execution_count": 76,
     "metadata": {
      "tags": []
     },
     "output_type": "execute_result"
    }
   ],
   "source": [
    "getattr(m, 'sgen_PV').value"
   ]
  },
  {
   "cell_type": "code",
   "execution_count": 77,
   "id": "fitted-lobby",
   "metadata": {
    "colab": {
     "base_uri": "https://localhost:8080/"
    },
    "executionInfo": {
     "elapsed": 122512,
     "status": "ok",
     "timestamp": 1619873429400,
     "user": {
      "displayName": "Juan Sardón",
      "photoUrl": "https://lh3.googleusercontent.com/a-/AOh14Gh0hE4Hw8M0I17k-o2PXxLB5i6gNZV_oUTpZlyJ3Q=s64",
      "userId": "08267034058673099115"
     },
     "user_tz": 180
    },
    "id": "swiss-favor",
    "outputId": "c72e5ba8-dc08-4a9a-c670-1edb2761081d"
   },
   "outputs": [
    {
     "data": {
      "text/plain": [
       "0.8390075068758223"
      ]
     },
     "execution_count": 77,
     "metadata": {
      "tags": []
     },
     "output_type": "execute_result"
    }
   ],
   "source": [
    "getattr(m, 'ap_mw_WT').value"
   ]
  },
  {
   "cell_type": "code",
   "execution_count": 78,
   "id": "substantial-richmond",
   "metadata": {
    "colab": {
     "base_uri": "https://localhost:8080/"
    },
    "executionInfo": {
     "elapsed": 121106,
     "status": "ok",
     "timestamp": 1619873429403,
     "user": {
      "displayName": "Juan Sardón",
      "photoUrl": "https://lh3.googleusercontent.com/a-/AOh14Gh0hE4Hw8M0I17k-o2PXxLB5i6gNZV_oUTpZlyJ3Q=s64",
      "userId": "08267034058673099115"
     },
     "user_tz": 180
    },
    "id": "scientific-burning",
    "outputId": "0f7ec8b8-e738-4519-938c-809942a4d67c"
   },
   "outputs": [
    {
     "data": {
      "text/plain": [
       "0.322868746619411"
      ]
     },
     "execution_count": 78,
     "metadata": {
      "tags": []
     },
     "output_type": "execute_result"
    }
   ],
   "source": [
    "getattr(m, 'p_mw_WT')[1005].value"
   ]
  },
  {
   "cell_type": "code",
   "execution_count": 79,
   "id": "convenient-click",
   "metadata": {
    "colab": {
     "base_uri": "https://localhost:8080/"
    },
    "executionInfo": {
     "elapsed": 120272,
     "status": "ok",
     "timestamp": 1619873429404,
     "user": {
      "displayName": "Juan Sardón",
      "photoUrl": "https://lh3.googleusercontent.com/a-/AOh14Gh0hE4Hw8M0I17k-o2PXxLB5i6gNZV_oUTpZlyJ3Q=s64",
      "userId": "08267034058673099115"
     },
     "user_tz": 180
    },
    "id": "coupled-secondary",
    "outputId": "e74369e5-436c-40ad-dfbb-9f3684f546f0"
   },
   "outputs": [
    {
     "data": {
      "text/plain": [
       "0.0"
      ]
     },
     "execution_count": 79,
     "metadata": {
      "tags": []
     },
     "output_type": "execute_result"
    }
   ],
   "source": [
    "getattr(m, 'p_mw_Ext')[8503].value"
   ]
  },
  {
   "cell_type": "code",
   "execution_count": 80,
   "id": "reduced-clearing",
   "metadata": {
    "executionInfo": {
     "elapsed": 716,
     "status": "ok",
     "timestamp": 1619873483245,
     "user": {
      "displayName": "Juan Sardón",
      "photoUrl": "https://lh3.googleusercontent.com/a-/AOh14Gh0hE4Hw8M0I17k-o2PXxLB5i6gNZV_oUTpZlyJ3Q=s64",
      "userId": "08267034058673099115"
     },
     "user_tz": 180
    },
    "id": "casual-discovery"
   },
   "outputs": [],
   "source": [
    "#Extracción de resultados en forma de Pandas Dataframe\n",
    "Resultados =  pd.DataFrame([{'time': 0.0, 'p_mw_Ext': 0.0, 'p_mw_WT': 0.0, 'p_mw_PV':0.0, 'p_mw_Load':0.0}], index = Escenarios_i)"
   ]
  },
  {
   "cell_type": "code",
   "execution_count": 81,
   "id": "hidden-interaction",
   "metadata": {
    "executionInfo": {
     "elapsed": 5643,
     "status": "ok",
     "timestamp": 1619873489616,
     "user": {
      "displayName": "Juan Sardón",
      "photoUrl": "https://lh3.googleusercontent.com/a-/AOh14Gh0hE4Hw8M0I17k-o2PXxLB5i6gNZV_oUTpZlyJ3Q=s64",
      "userId": "08267034058673099115"
     },
     "user_tz": 180
    },
    "id": "recovered-policy"
   },
   "outputs": [],
   "source": [
    "for e in Escenarios_i:\n",
    "    esc = Escenarios.loc[e]\n",
    "    Resultados['time'][e] = esc['d'] + esc['h']/24\n",
    "    Resultados['p_mw_Ext'][e] = getattr(m, 'p_mw_Ext')[e].value\n",
    "    Resultados['p_mw_PV'][e] = getattr(m, 'p_mw_PV')[e].value\n",
    "    Resultados['p_mw_WT'][e] = getattr(m, 'p_mw_WT')[e].value\n",
    "    #La información de la carga externa se pierde en el modelo, la tengo que reconstruir\n",
    "    Resultados['p_mw_Load'][e] = Resultados['p_mw_Ext'][e] +  Resultados['p_mw_PV'][e] + Resultados['p_mw_WT'][e]\n",
    "    "
   ]
  },
  {
   "cell_type": "code",
   "execution_count": 82,
   "id": "adverse-single",
   "metadata": {
    "colab": {
     "base_uri": "https://localhost:8080/",
     "height": 424
    },
    "executionInfo": {
     "elapsed": 699,
     "status": "ok",
     "timestamp": 1619873491559,
     "user": {
      "displayName": "Juan Sardón",
      "photoUrl": "https://lh3.googleusercontent.com/a-/AOh14Gh0hE4Hw8M0I17k-o2PXxLB5i6gNZV_oUTpZlyJ3Q=s64",
      "userId": "08267034058673099115"
     },
     "user_tz": 180
    },
    "id": "tropical-completion",
    "outputId": "082e0a6f-0230-4e8e-b532-e95c63049c68"
   },
   "outputs": [
    {
     "data": {
      "text/html": [
       "<div>\n",
       "<style scoped>\n",
       "    .dataframe tbody tr th:only-of-type {\n",
       "        vertical-align: middle;\n",
       "    }\n",
       "\n",
       "    .dataframe tbody tr th {\n",
       "        vertical-align: top;\n",
       "    }\n",
       "\n",
       "    .dataframe thead th {\n",
       "        text-align: right;\n",
       "    }\n",
       "</style>\n",
       "<table border=\"1\" class=\"dataframe\">\n",
       "  <thead>\n",
       "    <tr style=\"text-align: right;\">\n",
       "      <th></th>\n",
       "      <th>time</th>\n",
       "      <th>p_mw_Ext</th>\n",
       "      <th>p_mw_WT</th>\n",
       "      <th>p_mw_PV</th>\n",
       "      <th>p_mw_Load</th>\n",
       "    </tr>\n",
       "  </thead>\n",
       "  <tbody>\n",
       "    <tr>\n",
       "      <th>0</th>\n",
       "      <td>0.000000</td>\n",
       "      <td>0.000000</td>\n",
       "      <td>0.089499</td>\n",
       "      <td>0.0</td>\n",
       "      <td>0.089499</td>\n",
       "    </tr>\n",
       "    <tr>\n",
       "      <th>1</th>\n",
       "      <td>0.041667</td>\n",
       "      <td>0.000000</td>\n",
       "      <td>0.088897</td>\n",
       "      <td>0.0</td>\n",
       "      <td>0.088897</td>\n",
       "    </tr>\n",
       "    <tr>\n",
       "      <th>2</th>\n",
       "      <td>0.083333</td>\n",
       "      <td>0.035331</td>\n",
       "      <td>0.062923</td>\n",
       "      <td>0.0</td>\n",
       "      <td>0.098254</td>\n",
       "    </tr>\n",
       "    <tr>\n",
       "      <th>3</th>\n",
       "      <td>0.125000</td>\n",
       "      <td>0.000000</td>\n",
       "      <td>0.076909</td>\n",
       "      <td>0.0</td>\n",
       "      <td>0.076909</td>\n",
       "    </tr>\n",
       "    <tr>\n",
       "      <th>4</th>\n",
       "      <td>0.166667</td>\n",
       "      <td>0.000000</td>\n",
       "      <td>0.095610</td>\n",
       "      <td>0.0</td>\n",
       "      <td>0.095610</td>\n",
       "    </tr>\n",
       "    <tr>\n",
       "      <th>...</th>\n",
       "      <td>...</td>\n",
       "      <td>...</td>\n",
       "      <td>...</td>\n",
       "      <td>...</td>\n",
       "      <td>...</td>\n",
       "    </tr>\n",
       "    <tr>\n",
       "      <th>8755</th>\n",
       "      <td>364.791667</td>\n",
       "      <td>0.000000</td>\n",
       "      <td>0.514903</td>\n",
       "      <td>0.0</td>\n",
       "      <td>0.514903</td>\n",
       "    </tr>\n",
       "    <tr>\n",
       "      <th>8756</th>\n",
       "      <td>364.833333</td>\n",
       "      <td>0.000000</td>\n",
       "      <td>0.360741</td>\n",
       "      <td>0.0</td>\n",
       "      <td>0.360741</td>\n",
       "    </tr>\n",
       "    <tr>\n",
       "      <th>8757</th>\n",
       "      <td>364.875000</td>\n",
       "      <td>0.391992</td>\n",
       "      <td>0.013647</td>\n",
       "      <td>0.0</td>\n",
       "      <td>0.405639</td>\n",
       "    </tr>\n",
       "    <tr>\n",
       "      <th>8758</th>\n",
       "      <td>364.916667</td>\n",
       "      <td>0.000000</td>\n",
       "      <td>0.154380</td>\n",
       "      <td>0.0</td>\n",
       "      <td>0.154380</td>\n",
       "    </tr>\n",
       "    <tr>\n",
       "      <th>8759</th>\n",
       "      <td>364.958333</td>\n",
       "      <td>0.000000</td>\n",
       "      <td>0.136128</td>\n",
       "      <td>0.0</td>\n",
       "      <td>0.136128</td>\n",
       "    </tr>\n",
       "  </tbody>\n",
       "</table>\n",
       "<p>8760 rows × 5 columns</p>\n",
       "</div>"
      ],
      "text/plain": [
       "            time  p_mw_Ext   p_mw_WT  p_mw_PV  p_mw_Load\n",
       "0       0.000000  0.000000  0.089499      0.0   0.089499\n",
       "1       0.041667  0.000000  0.088897      0.0   0.088897\n",
       "2       0.083333  0.035331  0.062923      0.0   0.098254\n",
       "3       0.125000  0.000000  0.076909      0.0   0.076909\n",
       "4       0.166667  0.000000  0.095610      0.0   0.095610\n",
       "...          ...       ...       ...      ...        ...\n",
       "8755  364.791667  0.000000  0.514903      0.0   0.514903\n",
       "8756  364.833333  0.000000  0.360741      0.0   0.360741\n",
       "8757  364.875000  0.391992  0.013647      0.0   0.405639\n",
       "8758  364.916667  0.000000  0.154380      0.0   0.154380\n",
       "8759  364.958333  0.000000  0.136128      0.0   0.136128\n",
       "\n",
       "[8760 rows x 5 columns]"
      ]
     },
     "execution_count": 82,
     "metadata": {
      "tags": []
     },
     "output_type": "execute_result"
    }
   ],
   "source": [
    "Resultados"
   ]
  },
  {
   "cell_type": "code",
   "execution_count": 83,
   "id": "gross-petite",
   "metadata": {
    "colab": {
     "base_uri": "https://localhost:8080/",
     "height": 388
    },
    "executionInfo": {
     "elapsed": 1336,
     "status": "ok",
     "timestamp": 1619873495814,
     "user": {
      "displayName": "Juan Sardón",
      "photoUrl": "https://lh3.googleusercontent.com/a-/AOh14Gh0hE4Hw8M0I17k-o2PXxLB5i6gNZV_oUTpZlyJ3Q=s64",
      "userId": "08267034058673099115"
     },
     "user_tz": 180
    },
    "id": "planned-memorial",
    "outputId": "11488d44-f6a7-46f5-dd15-9afe980a328c"
   },
   "outputs": [
    {
     "data": {
      "image/png": "[encoded data removed]",
      "text/plain": [
       "<Figure size 720x432 with 1 Axes>"
      ]
     },
     "metadata": {
      "needs_background": "light",
      "tags": []
     },
     "output_type": "display_data"
    }
   ],
   "source": [
    "# Set the plot curve with markers and a title\n",
    "fig, ax = plt.subplots(1, 1)\n",
    "\n",
    "fig.set_size_inches(10,6)\n",
    "ax.plot(Resultados['time'][240:360], Resultados['p_mw_Ext'][240:360], label = 'P Ext')\n",
    "ax.plot(Resultados['time'][240:360], Resultados['p_mw_WT'][240:360], label = 'WT')\n",
    "ax.plot(Resultados['time'][240:360], Resultados['p_mw_PV'][240:360], label = 'PV')\n",
    "ax.plot(Resultados['time'][240:360], Resultados['p_mw_Load'][240:360], label = 'Load')\n",
    "\n",
    "ax.set_xlabel('time')\n",
    "ax.set_ylabel('P[mw]')\n",
    "\n",
    "ax.legend()\n",
    "\n",
    "ax.grid(True)\n",
    "\n",
    "\n",
    "plt.show()"
   ]
  },
  {
   "cell_type": "code",
   "execution_count": null,
   "id": "wrong-shareware",
   "metadata": {
    "id": "CNwo1GBl-_Vz"
   },
   "outputs": [],
   "source": []
  }
 ],
 "metadata": {
  "colab": {
   "name": "Prueba PP-Pyomo-3.ipynb",
   "provenance": []
  },
  "kernelspec": {
   "display_name": "Python 3",
   "language": "python",
   "name": "python3"
  },
  "language_info": {
   "codemirror_mode": {
    "name": "ipython",
    "version": 3
   },
   "file_extension": ".py",
   "mimetype": "text/x-python",
   "name": "python",
   "nbconvert_exporter": "python",
   "pygments_lexer": "ipython3",
   "version": "3.8.8"
  }
 },
 "nbformat": 4,
 "nbformat_minor": 5
}
