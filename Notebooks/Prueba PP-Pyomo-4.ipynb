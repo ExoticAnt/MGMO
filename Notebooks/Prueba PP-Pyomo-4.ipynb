{
 "cells": [
  {
   "cell_type": "markdown",
   "id": "alert-hindu",
   "metadata": {
    "id": "addressed-terrorism"
   },
   "source": [
    "## Prueba de modelos ##\n",
    "\n",
    "### Version 4: Modelo con 2 DER, planificación anual, granularidad horaria ###\n",
    "\n",
    "Si el modelo tiene que optimizar el balance por horas, tiene 8640 VD, pero sigue teniendo 2 VD binarias"
   ]
  },
  {
   "cell_type": "code",
   "execution_count": 1,
   "id": "welcome-scanner",
   "metadata": {
    "colab": {
     "base_uri": "https://localhost:8080/"
    },
    "executionInfo": {
     "elapsed": 4926,
     "status": "ok",
     "timestamp": 1620005655808,
     "user": {
      "displayName": "Juan Sardón",
      "photoUrl": "https://lh3.googleusercontent.com/a-/AOh14Gh0hE4Hw8M0I17k-o2PXxLB5i6gNZV_oUTpZlyJ3Q=s64",
      "userId": "08267034058673099115"
     },
     "user_tz": 180
    },
    "id": "4rmuYWoG_vGy",
    "outputId": "a5af9bd1-5856-43bc-e473-82b146bb602b"
   },
   "outputs": [],
   "source": [
    "#!pip install pandapower"
   ]
  },
  {
   "cell_type": "code",
   "execution_count": 2,
   "id": "olive-commons",
   "metadata": {
    "colab": {
     "base_uri": "https://localhost:8080/"
    },
    "executionInfo": {
     "elapsed": 6173,
     "status": "ok",
     "timestamp": 1620005659683,
     "user": {
      "displayName": "Juan Sardón",
      "photoUrl": "https://lh3.googleusercontent.com/a-/AOh14Gh0hE4Hw8M0I17k-o2PXxLB5i6gNZV_oUTpZlyJ3Q=s64",
      "userId": "08267034058673099115"
     },
     "user_tz": 180
    },
    "id": "K9GykD0mADbT",
    "outputId": "f186640a-66c8-42a9-c70d-423f66dfb7e7"
   },
   "outputs": [],
   "source": [
    "#!pip install pyomo"
   ]
  },
  {
   "cell_type": "code",
   "execution_count": 3,
   "id": "loose-catalyst",
   "metadata": {},
   "outputs": [],
   "source": [
    "%load_ext autoreload"
   ]
  },
  {
   "cell_type": "code",
   "execution_count": 4,
   "id": "excellent-console",
   "metadata": {},
   "outputs": [],
   "source": [
    "%autoreload 2"
   ]
  },
  {
   "cell_type": "code",
   "execution_count": 5,
   "id": "cubic-lobby",
   "metadata": {
    "executionInfo": {
     "elapsed": 5552,
     "status": "ok",
     "timestamp": 1620005659685,
     "user": {
      "displayName": "Juan Sardón",
      "photoUrl": "https://lh3.googleusercontent.com/a-/AOh14Gh0hE4Hw8M0I17k-o2PXxLB5i6gNZV_oUTpZlyJ3Q=s64",
      "userId": "08267034058673099115"
     },
     "user_tz": 180
    },
    "id": "aboriginal-joshua"
   },
   "outputs": [],
   "source": [
    "import pandapower as pp"
   ]
  },
  {
   "cell_type": "code",
   "execution_count": 6,
   "id": "british-scoop",
   "metadata": {
    "executionInfo": {
     "elapsed": 5006,
     "status": "ok",
     "timestamp": 1620005659686,
     "user": {
      "displayName": "Juan Sardón",
      "photoUrl": "https://lh3.googleusercontent.com/a-/AOh14Gh0hE4Hw8M0I17k-o2PXxLB5i6gNZV_oUTpZlyJ3Q=s64",
      "userId": "08267034058673099115"
     },
     "user_tz": 180
    },
    "id": "YkmoER_O9JGU"
   },
   "outputs": [],
   "source": [
    "import os"
   ]
  },
  {
   "cell_type": "code",
   "execution_count": 7,
   "id": "material-dominant",
   "metadata": {
    "executionInfo": {
     "elapsed": 4628,
     "status": "ok",
     "timestamp": 1620005659687,
     "user": {
      "displayName": "Juan Sardón",
      "photoUrl": "https://lh3.googleusercontent.com/a-/AOh14Gh0hE4Hw8M0I17k-o2PXxLB5i6gNZV_oUTpZlyJ3Q=s64",
      "userId": "08267034058673099115"
     },
     "user_tz": 180
    },
    "id": "narrative-census"
   },
   "outputs": [],
   "source": [
    "import pandas as pd"
   ]
  },
  {
   "cell_type": "code",
   "execution_count": 8,
   "id": "placed-trailer",
   "metadata": {
    "executionInfo": {
     "elapsed": 4248,
     "status": "ok",
     "timestamp": 1620005659688,
     "user": {
      "displayName": "Juan Sardón",
      "photoUrl": "https://lh3.googleusercontent.com/a-/AOh14Gh0hE4Hw8M0I17k-o2PXxLB5i6gNZV_oUTpZlyJ3Q=s64",
      "userId": "08267034058673099115"
     },
     "user_tz": 180
    },
    "id": "collectible-innocent"
   },
   "outputs": [],
   "source": [
    "import pyomo.environ as pe"
   ]
  },
  {
   "cell_type": "code",
   "execution_count": 9,
   "id": "czech-journalist",
   "metadata": {
    "executionInfo": {
     "elapsed": 3906,
     "status": "ok",
     "timestamp": 1620005659690,
     "user": {
      "displayName": "Juan Sardón",
      "photoUrl": "https://lh3.googleusercontent.com/a-/AOh14Gh0hE4Hw8M0I17k-o2PXxLB5i6gNZV_oUTpZlyJ3Q=s64",
      "userId": "08267034058673099115"
     },
     "user_tz": 180
    },
    "id": "handled-baltimore"
   },
   "outputs": [],
   "source": [
    "import math"
   ]
  },
  {
   "cell_type": "code",
   "execution_count": 10,
   "id": "textile-fountain",
   "metadata": {
    "executionInfo": {
     "elapsed": 3594,
     "status": "ok",
     "timestamp": 1620005659691,
     "user": {
      "displayName": "Juan Sardón",
      "photoUrl": "https://lh3.googleusercontent.com/a-/AOh14Gh0hE4Hw8M0I17k-o2PXxLB5i6gNZV_oUTpZlyJ3Q=s64",
      "userId": "08267034058673099115"
     },
     "user_tz": 180
    },
    "id": "substantial-payroll"
   },
   "outputs": [],
   "source": [
    "import random"
   ]
  },
  {
   "cell_type": "code",
   "execution_count": 11,
   "id": "certified-phenomenon",
   "metadata": {
    "executionInfo": {
     "elapsed": 3285,
     "status": "ok",
     "timestamp": 1620005659691,
     "user": {
      "displayName": "Juan Sardón",
      "photoUrl": "https://lh3.googleusercontent.com/a-/AOh14Gh0hE4Hw8M0I17k-o2PXxLB5i6gNZV_oUTpZlyJ3Q=s64",
      "userId": "08267034058673099115"
     },
     "user_tz": 180
    },
    "id": "c0X5ABkvJYuo"
   },
   "outputs": [],
   "source": [
    "import itertools"
   ]
  },
  {
   "cell_type": "code",
   "execution_count": 12,
   "id": "colonial-thread",
   "metadata": {
    "executionInfo": {
     "elapsed": 3074,
     "status": "ok",
     "timestamp": 1620005659693,
     "user": {
      "displayName": "Juan Sardón",
      "photoUrl": "https://lh3.googleusercontent.com/a-/AOh14Gh0hE4Hw8M0I17k-o2PXxLB5i6gNZV_oUTpZlyJ3Q=s64",
      "userId": "08267034058673099115"
     },
     "user_tz": 180
    },
    "id": "united-bronze"
   },
   "outputs": [],
   "source": [
    "import matplotlib.pyplot as plt"
   ]
  },
  {
   "cell_type": "code",
   "execution_count": 13,
   "id": "dress-groove",
   "metadata": {},
   "outputs": [],
   "source": [
    "from simple_busbar_model import SimpleModelWriter"
   ]
  },
  {
   "cell_type": "code",
   "execution_count": 14,
   "id": "human-garage",
   "metadata": {
    "executionInfo": {
     "elapsed": 2671,
     "status": "ok",
     "timestamp": 1620005659693,
     "user": {
      "displayName": "Juan Sardón",
      "photoUrl": "https://lh3.googleusercontent.com/a-/AOh14Gh0hE4Hw8M0I17k-o2PXxLB5i6gNZV_oUTpZlyJ3Q=s64",
      "userId": "08267034058673099115"
     },
     "user_tz": 180
    },
    "id": "4JgLplOd9MHj"
   },
   "outputs": [],
   "source": [
    "os.environ['NEOS_EMAIL'] = 'juan.manuel.sardon@gmail.com'"
   ]
  },
  {
   "cell_type": "code",
   "execution_count": 15,
   "id": "guilty-darwin",
   "metadata": {
    "colab": {
     "base_uri": "https://localhost:8080/"
    },
    "executionInfo": {
     "elapsed": 2223,
     "status": "ok",
     "timestamp": 1620005659694,
     "user": {
      "displayName": "Juan Sardón",
      "photoUrl": "https://lh3.googleusercontent.com/a-/AOh14Gh0hE4Hw8M0I17k-o2PXxLB5i6gNZV_oUTpZlyJ3Q=s64",
      "userId": "08267034058673099115"
     },
     "user_tz": 180
    },
    "id": "corrected-friendly",
    "outputId": "bdf4d701-1857-4ce0-be28-267a95d8d74a"
   },
   "outputs": [
    {
     "data": {
      "text/plain": [
       "2"
      ]
     },
     "execution_count": 15,
     "metadata": {},
     "output_type": "execute_result"
    }
   ],
   "source": [
    "net = pp.create_empty_network() \n",
    "b0 = pp.create_bus(net, vn_kv=13.2)\n",
    "\n",
    "pp.create_ext_grid(net, bus=b0)\n",
    "\n",
    "#ramal 1\n",
    "b11 = pp.create_bus(net, vn_kv=13.2)\n",
    "b12 = pp.create_bus(net, vn_kv=13.2)\n",
    "\n",
    "pp.create_line(net, from_bus=b0, to_bus=b11, length_km=0.8, std_type=\"NAYY 4x50 SE\")\n",
    "pp.create_line(net, from_bus=b11, to_bus=b12, length_km=2.1, std_type=\"NAYY 4x50 SE\")\n",
    "\n",
    "pp.create_sgen(net, b11, p_mw=0.075, q_mvar=0.025, max_p_mw=0.15, max_q_mvar=0.15)\n",
    "pp.create_load(net, bus=b12, p_mw=0.350)\n",
    "\n",
    "#ramal 2\n",
    "b21 = pp.create_bus(net, vn_kv=13.2)\n",
    "pp.create_line(net, from_bus=b0, to_bus=b21, length_km=5.0, std_type=\"NAYY 4x50 SE\")\n",
    "pp.create_sgen(net, b21, p_mw=0.15, q_mvar=0.00, max_p_mw=0.40, max_q_mvar=0.10)\n",
    "\n",
    "#ramal 3\n",
    "b31 = pp.create_bus(net, vn_kv=13.2)\n",
    "b32 = pp.create_bus(net, vn_kv=13.2)\n",
    "pp.create_line(net, from_bus=b0, to_bus=b31, length_km=0.5, std_type=\"NAYY 4x50 SE\")\n",
    "pp.create_line(net, from_bus=b31, to_bus=b32, length_km=1.5, std_type=\"NAYY 4x50 SE\")\n",
    "pp.create_sgen(net, b31, p_mw=0.08, q_mvar=0.00, max_p_mw=0.30, max_q_mvar=0.10)\n",
    "pp.create_load(net, bus=b32, p_mw=0.85, q_mvar=0.33)\n",
    "\n",
    "#ramal 4\n",
    "b41 = pp.create_bus(net, vn_kv=13.2)\n",
    "pp.create_line(net, from_bus=b0, to_bus=b41, length_km=0.5, std_type=\"NAYY 4x50 SE\")\n",
    "pp.create_load(net, bus=b41, p_mw=0.22, q_mvar=0.05)\n",
    "\n"
   ]
  },
  {
   "cell_type": "code",
   "execution_count": 16,
   "id": "lovely-manufacturer",
   "metadata": {
    "executionInfo": {
     "elapsed": 2125,
     "status": "ok",
     "timestamp": 1620005662287,
     "user": {
      "displayName": "Juan Sardón",
      "photoUrl": "https://lh3.googleusercontent.com/a-/AOh14Gh0hE4Hw8M0I17k-o2PXxLB5i6gNZV_oUTpZlyJ3Q=s64",
      "userId": "08267034058673099115"
     },
     "user_tz": 180
    },
    "id": "junior-abraham"
   },
   "outputs": [],
   "source": [
    " pp.runpp(net)"
   ]
  },
  {
   "cell_type": "code",
   "execution_count": null,
   "id": "manufactured-product",
   "metadata": {
    "executionInfo": {
     "elapsed": 1503,
     "status": "ok",
     "timestamp": 1620005662288,
     "user": {
      "displayName": "Juan Sardón",
      "photoUrl": "https://lh3.googleusercontent.com/a-/AOh14Gh0hE4Hw8M0I17k-o2PXxLB5i6gNZV_oUTpZlyJ3Q=s64",
      "userId": "08267034058673099115"
     },
     "user_tz": 180
    },
    "id": "conventional-colombia"
   },
   "outputs": [],
   "source": []
  },
  {
   "cell_type": "code",
   "execution_count": 17,
   "id": "rocky-capital",
   "metadata": {
    "colab": {
     "base_uri": "https://localhost:8080/"
    },
    "executionInfo": {
     "elapsed": 1619,
     "status": "ok",
     "timestamp": 1620005663021,
     "user": {
      "displayName": "Juan Sardón",
      "photoUrl": "https://lh3.googleusercontent.com/a-/AOh14Gh0hE4Hw8M0I17k-o2PXxLB5i6gNZV_oUTpZlyJ3Q=s64",
      "userId": "08267034058673099115"
     },
     "user_tz": 180
    },
    "id": "biological-emergency",
    "outputId": "ff9a4063-32b3-467c-c916-afc6f5140231"
   },
   "outputs": [
    {
     "name": "stdout",
     "output_type": "stream",
     "text": [
      "0    1.000000\n",
      "1    0.999206\n",
      "2    0.996501\n",
      "3    1.002824\n",
      "4    0.998497\n",
      "5    0.993536\n",
      "6    0.999583\n",
      "Name: vm_pu, dtype: float64\n",
      "   p_from_mw  q_from_mvar   p_to_mw     q_to_mvar     pl_mw   ql_mvar  \\\n",
      "0   0.276189    -0.058072 -0.275956  4.891292e-02  0.000233 -0.009159   \n",
      "1   0.350956    -0.023913 -0.350000 -2.477944e-15  0.000956 -0.023913   \n",
      "2  -0.149573    -0.057583  0.150000  1.065188e-15  0.000427 -0.057583   \n",
      "3   0.775911     0.307919 -0.774624 -3.134920e-01  0.001287 -0.005573   \n",
      "4   0.854624     0.313492 -0.850000 -3.300000e-01  0.004624 -0.016508   \n",
      "5   0.220093     0.044267 -0.220000 -5.000000e-02  0.000093 -0.005733   \n",
      "\n",
      "   i_from_ka   i_to_ka      i_ka  vm_from_pu  va_from_degree  vm_to_pu  \\\n",
      "0   0.012344  0.012268  0.012344    1.000000        0.000000  0.999206   \n",
      "1   0.015398  0.015362  0.015398    0.999206       -0.015073  0.996501   \n",
      "2   0.007010  0.006542  0.007010    1.000000        0.000000  1.002824   \n",
      "3   0.036512  0.036605  0.036605    1.000000        0.000000  0.998497   \n",
      "4   0.039876  0.040141  0.040141    0.998497        0.022251  0.993536   \n",
      "5   0.009819  0.009872  0.009872    1.000000        0.000000  0.999583   \n",
      "\n",
      "   va_to_degree  loading_percent  \n",
      "0     -0.015073         8.693150  \n",
      "1     -0.040557        10.843762  \n",
      "2     -0.010008         4.936742  \n",
      "3      0.022251        25.778497  \n",
      "4      0.089794        28.268214  \n",
      "5      0.001973         6.952116  \n"
     ]
    }
   ],
   "source": [
    "print(net.res_bus.vm_pu)\n",
    "print(net.res_line)"
   ]
  },
  {
   "cell_type": "code",
   "execution_count": 18,
   "id": "seventh-shift",
   "metadata": {
    "colab": {
     "base_uri": "https://localhost:8080/"
    },
    "executionInfo": {
     "elapsed": 885,
     "status": "ok",
     "timestamp": 1620005663021,
     "user": {
      "displayName": "Juan Sardón",
      "photoUrl": "https://lh3.googleusercontent.com/a-/AOh14Gh0hE4Hw8M0I17k-o2PXxLB5i6gNZV_oUTpZlyJ3Q=s64",
      "userId": "08267034058673099115"
     },
     "user_tz": 180
    },
    "id": "norwegian-dover",
    "outputId": "f1a78284-1d03-4323-8253-e779b726a433"
   },
   "outputs": [
    {
     "name": "stdout",
     "output_type": "stream",
     "text": [
      "This pandapower network includes the following parameter tables:\n",
      "   - bus (7 elements)\n",
      "   - load (3 elements)\n",
      "   - sgen (3 elements)\n",
      "   - ext_grid (1 element)\n",
      "   - line (6 elements)\n",
      " and the following results tables:\n",
      "   - res_bus (7 elements)\n",
      "   - res_line (6 elements)\n",
      "   - res_ext_grid (1 element)\n",
      "   - res_load (3 elements)\n",
      "   - res_sgen (3 elements)\n"
     ]
    }
   ],
   "source": [
    "print(net)"
   ]
  },
  {
   "cell_type": "code",
   "execution_count": 19,
   "id": "guided-pepper",
   "metadata": {
    "colab": {
     "base_uri": "https://localhost:8080/",
     "height": 143
    },
    "executionInfo": {
     "elapsed": 877,
     "status": "ok",
     "timestamp": 1620005663401,
     "user": {
      "displayName": "Juan Sardón",
      "photoUrl": "https://lh3.googleusercontent.com/a-/AOh14Gh0hE4Hw8M0I17k-o2PXxLB5i6gNZV_oUTpZlyJ3Q=s64",
      "userId": "08267034058673099115"
     },
     "user_tz": 180
    },
    "id": "seven-international",
    "outputId": "bce17dc0-a6df-4860-fe28-db924addc855"
   },
   "outputs": [
    {
     "data": {
      "text/html": [
       "<div>\n",
       "<style scoped>\n",
       "    .dataframe tbody tr th:only-of-type {\n",
       "        vertical-align: middle;\n",
       "    }\n",
       "\n",
       "    .dataframe tbody tr th {\n",
       "        vertical-align: top;\n",
       "    }\n",
       "\n",
       "    .dataframe thead th {\n",
       "        text-align: right;\n",
       "    }\n",
       "</style>\n",
       "<table border=\"1\" class=\"dataframe\">\n",
       "  <thead>\n",
       "    <tr style=\"text-align: right;\">\n",
       "      <th></th>\n",
       "      <th>name</th>\n",
       "      <th>bus</th>\n",
       "      <th>p_mw</th>\n",
       "      <th>q_mvar</th>\n",
       "      <th>sn_mva</th>\n",
       "      <th>scaling</th>\n",
       "      <th>in_service</th>\n",
       "      <th>type</th>\n",
       "      <th>current_source</th>\n",
       "      <th>max_p_mw</th>\n",
       "      <th>max_q_mvar</th>\n",
       "    </tr>\n",
       "  </thead>\n",
       "  <tbody>\n",
       "    <tr>\n",
       "      <th>0</th>\n",
       "      <td>None</td>\n",
       "      <td>1</td>\n",
       "      <td>0.075</td>\n",
       "      <td>0.025</td>\n",
       "      <td>NaN</td>\n",
       "      <td>1.0</td>\n",
       "      <td>True</td>\n",
       "      <td>wye</td>\n",
       "      <td>True</td>\n",
       "      <td>0.15</td>\n",
       "      <td>0.15</td>\n",
       "    </tr>\n",
       "    <tr>\n",
       "      <th>1</th>\n",
       "      <td>None</td>\n",
       "      <td>3</td>\n",
       "      <td>0.150</td>\n",
       "      <td>0.000</td>\n",
       "      <td>NaN</td>\n",
       "      <td>1.0</td>\n",
       "      <td>True</td>\n",
       "      <td>wye</td>\n",
       "      <td>True</td>\n",
       "      <td>0.40</td>\n",
       "      <td>0.10</td>\n",
       "    </tr>\n",
       "    <tr>\n",
       "      <th>2</th>\n",
       "      <td>None</td>\n",
       "      <td>4</td>\n",
       "      <td>0.080</td>\n",
       "      <td>0.000</td>\n",
       "      <td>NaN</td>\n",
       "      <td>1.0</td>\n",
       "      <td>True</td>\n",
       "      <td>wye</td>\n",
       "      <td>True</td>\n",
       "      <td>0.30</td>\n",
       "      <td>0.10</td>\n",
       "    </tr>\n",
       "  </tbody>\n",
       "</table>\n",
       "</div>"
      ],
      "text/plain": [
       "   name  bus   p_mw  q_mvar  sn_mva  scaling  in_service type  current_source  \\\n",
       "0  None    1  0.075   0.025     NaN      1.0        True  wye            True   \n",
       "1  None    3  0.150   0.000     NaN      1.0        True  wye            True   \n",
       "2  None    4  0.080   0.000     NaN      1.0        True  wye            True   \n",
       "\n",
       "   max_p_mw  max_q_mvar  \n",
       "0      0.15        0.15  \n",
       "1      0.40        0.10  \n",
       "2      0.30        0.10  "
      ]
     },
     "execution_count": 19,
     "metadata": {},
     "output_type": "execute_result"
    }
   ],
   "source": [
    "net.sgen"
   ]
  },
  {
   "cell_type": "markdown",
   "id": "alive-surface",
   "metadata": {
    "id": "alike-greensboro"
   },
   "source": [
    "Agregamos los parámetros del modelo a los elementos de la red."
   ]
  },
  {
   "cell_type": "code",
   "execution_count": 20,
   "id": "authorized-explorer",
   "metadata": {
    "executionInfo": {
     "elapsed": 1677,
     "status": "ok",
     "timestamp": 1620005665253,
     "user": {
      "displayName": "Juan Sardón",
      "photoUrl": "https://lh3.googleusercontent.com/a-/AOh14Gh0hE4Hw8M0I17k-o2PXxLB5i6gNZV_oUTpZlyJ3Q=s64",
      "userId": "08267034058673099115"
     },
     "user_tz": 180
    },
    "id": "circular-simpson"
   },
   "outputs": [],
   "source": [
    "def net_add_optfw(net):\n",
    "    #agregamos parámetros para el costo inicial en forma de un valor constante ic_0 y un valor función lineal de la potencia ic_1\n",
    "    tables = [net.ext_grid, net.load, net.sgen]\n",
    "\n",
    "    for t in tables: \n",
    "        #initial cost\n",
    "        t['ic_0_mu'] = 0.0\n",
    "        t['ic_1_mu'] = 0.0\n",
    "        #idem para costo operativo\n",
    "        t['oc_0_mu'] = 0.0\n",
    "        t['oc_1_mu'] = 0.0\n",
    "        #power rating:\n",
    "        t['pr_mw'] = 1.0\n",
    "        #available power, per unit of power rating\n",
    "        t['pa_pu'] = 1.0\n",
    "        #operating (actual) power\n",
    "        t['po_mw'] = 0.0\n",
    "        #Must be optimized?\n",
    "        t['sizeable'] = False\n",
    "        #model\n",
    "        t['model'] = None\n",
    "        #las restricciones pueden ser ninguna, o una lista de restricciones tipo pyomo\n",
    "        t['constraints'] = None\n"
   ]
  },
  {
   "cell_type": "code",
   "execution_count": 21,
   "id": "wireless-manual",
   "metadata": {
    "executionInfo": {
     "elapsed": 500,
     "status": "ok",
     "timestamp": 1620005665256,
     "user": {
      "displayName": "Juan Sardón",
      "photoUrl": "https://lh3.googleusercontent.com/a-/AOh14Gh0hE4Hw8M0I17k-o2PXxLB5i6gNZV_oUTpZlyJ3Q=s64",
      "userId": "08267034058673099115"
     },
     "user_tz": 180
    },
    "id": "respiratory-transport"
   },
   "outputs": [],
   "source": [
    "net_add_optfw(net)"
   ]
  },
  {
   "cell_type": "markdown",
   "id": "hairy-candidate",
   "metadata": {
    "id": "elder-launch"
   },
   "source": [
    "Vemos como queda por ejemplo el elemento de red externa:"
   ]
  },
  {
   "cell_type": "code",
   "execution_count": 22,
   "id": "behind-cause",
   "metadata": {
    "colab": {
     "base_uri": "https://localhost:8080/",
     "height": 81
    },
    "executionInfo": {
     "elapsed": 756,
     "status": "ok",
     "timestamp": 1620005667085,
     "user": {
      "displayName": "Juan Sardón",
      "photoUrl": "https://lh3.googleusercontent.com/a-/AOh14Gh0hE4Hw8M0I17k-o2PXxLB5i6gNZV_oUTpZlyJ3Q=s64",
      "userId": "08267034058673099115"
     },
     "user_tz": 180
    },
    "id": "overhead-delivery",
    "outputId": "49d17487-cbc3-4a10-e762-1965600f731a"
   },
   "outputs": [
    {
     "data": {
      "text/html": [
       "<div>\n",
       "<style scoped>\n",
       "    .dataframe tbody tr th:only-of-type {\n",
       "        vertical-align: middle;\n",
       "    }\n",
       "\n",
       "    .dataframe tbody tr th {\n",
       "        vertical-align: top;\n",
       "    }\n",
       "\n",
       "    .dataframe thead th {\n",
       "        text-align: right;\n",
       "    }\n",
       "</style>\n",
       "<table border=\"1\" class=\"dataframe\">\n",
       "  <thead>\n",
       "    <tr style=\"text-align: right;\">\n",
       "      <th></th>\n",
       "      <th>name</th>\n",
       "      <th>bus</th>\n",
       "      <th>vm_pu</th>\n",
       "      <th>va_degree</th>\n",
       "      <th>in_service</th>\n",
       "      <th>ic_0_mu</th>\n",
       "      <th>ic_1_mu</th>\n",
       "      <th>oc_0_mu</th>\n",
       "      <th>oc_1_mu</th>\n",
       "      <th>pr_mw</th>\n",
       "      <th>pa_pu</th>\n",
       "      <th>po_mw</th>\n",
       "      <th>sizeable</th>\n",
       "      <th>model</th>\n",
       "      <th>constraints</th>\n",
       "    </tr>\n",
       "  </thead>\n",
       "  <tbody>\n",
       "    <tr>\n",
       "      <th>0</th>\n",
       "      <td>None</td>\n",
       "      <td>0</td>\n",
       "      <td>1.0</td>\n",
       "      <td>0.0</td>\n",
       "      <td>True</td>\n",
       "      <td>0.0</td>\n",
       "      <td>0.0</td>\n",
       "      <td>0.0</td>\n",
       "      <td>0.0</td>\n",
       "      <td>1.0</td>\n",
       "      <td>1.0</td>\n",
       "      <td>0.0</td>\n",
       "      <td>False</td>\n",
       "      <td>None</td>\n",
       "      <td>None</td>\n",
       "    </tr>\n",
       "  </tbody>\n",
       "</table>\n",
       "</div>"
      ],
      "text/plain": [
       "   name  bus  vm_pu  va_degree  in_service  ic_0_mu  ic_1_mu  oc_0_mu  \\\n",
       "0  None    0    1.0        0.0        True      0.0      0.0      0.0   \n",
       "\n",
       "   oc_1_mu  pr_mw  pa_pu  po_mw  sizeable model constraints  \n",
       "0      0.0    1.0    1.0    0.0     False  None        None  "
      ]
     },
     "execution_count": 22,
     "metadata": {},
     "output_type": "execute_result"
    }
   ],
   "source": [
    "net.ext_grid"
   ]
  },
  {
   "cell_type": "markdown",
   "id": "headed-serve",
   "metadata": {
    "id": "insured-marking"
   },
   "source": [
    "Defino una función normal de Python para que nos va a dar la componente lineal del costo de la energía"
   ]
  },
  {
   "cell_type": "markdown",
   "id": "sonic-bahamas",
   "metadata": {
    "id": "fifteen-pakistan"
   },
   "source": [
    "Variables que define el modelo:\n",
    "\n",
    "y para el año\n",
    "\n",
    "d para el día del año\n",
    "\n",
    "h para la hora del día\n",
    "\n",
    "dt la granularidad del modelo, en horas\n",
    "\n",
    "\n",
    "temp la temperatura\n",
    "\n",
    "wv la velocidad del viento\n",
    "\n",
    "I la irradiación solar\n",
    "\n",
    "\n",
    "eg el crecimiento económico en pu respecto al año 0\n",
    "\n",
    "\n",
    "Estas variables llegan como parámetros en forma de diccionario en el argumento 'model_status' (ver este nombre)\n",
    "\n",
    "Todas las funciones reciben este argumento, la lógica de la función indica que valor retorna. Pr ejemplo, si la granularidad es 24 h, debe retornar el valor medio del parámetro producido."
   ]
  },
  {
   "cell_type": "code",
   "execution_count": 23,
   "id": "southern-somalia",
   "metadata": {
    "executionInfo": {
     "elapsed": 685,
     "status": "ok",
     "timestamp": 1620005669662,
     "user": {
      "displayName": "Juan Sardón",
      "photoUrl": "https://lh3.googleusercontent.com/a-/AOh14Gh0hE4Hw8M0I17k-o2PXxLB5i6gNZV_oUTpZlyJ3Q=s64",
      "userId": "08267034058673099115"
     },
     "user_tz": 180
    },
    "id": "ranging-smooth"
   },
   "outputs": [],
   "source": [
    "def oc_1_ext_grid(model_status={}):\n",
    "    #modelo sencillo con dos precios, uno entre 0 a 18 y otro de 18 a 24\n",
    "    res = 0.0\n",
    "    sx = 1e-6\n",
    "    if 'h' in model_status:\n",
    "        h = model_status['h']\n",
    "        if 0.0 <= h and h < 18.0:\n",
    "            res = 3600.0*sx\n",
    "        elif 18 <= h and h < 24.0:\n",
    "            res = 5400.0*sx\n",
    "        else:\n",
    "            raise ValueError(\"Hour outside model range\")\n",
    "    else:\n",
    "        raise ValueError(\"Hour not defined\")\n",
    "    \n",
    "    return res"
   ]
  },
  {
   "cell_type": "code",
   "execution_count": 24,
   "id": "wired-valuable",
   "metadata": {
    "executionInfo": {
     "elapsed": 505,
     "status": "ok",
     "timestamp": 1620005671131,
     "user": {
      "displayName": "Juan Sardón",
      "photoUrl": "https://lh3.googleusercontent.com/a-/AOh14Gh0hE4Hw8M0I17k-o2PXxLB5i6gNZV_oUTpZlyJ3Q=s64",
      "userId": "08267034058673099115"
     },
     "user_tz": 180
    },
    "id": "ultimate-invention"
   },
   "outputs": [],
   "source": [
    "#test:\n",
    "#m_s = {'y': 0, 'd': 180, 'h': 14.0, 'dt': 1.0, 'temp': 12.0, 'wv': 10.0, 'eg': 1.0}\n",
    "\n",
    "#oc_1_ext_grid(m_s)"
   ]
  },
  {
   "cell_type": "code",
   "execution_count": 25,
   "id": "owned-gamma",
   "metadata": {
    "executionInfo": {
     "elapsed": 1580,
     "status": "ok",
     "timestamp": 1620005672679,
     "user": {
      "displayName": "Juan Sardón",
      "photoUrl": "https://lh3.googleusercontent.com/a-/AOh14Gh0hE4Hw8M0I17k-o2PXxLB5i6gNZV_oUTpZlyJ3Q=s64",
      "userId": "08267034058673099115"
     },
     "user_tz": 180
    },
    "id": "developed-sapphire"
   },
   "outputs": [],
   "source": [
    "#20 hs: 5400\n",
    "#m_s['h'] = 20.5\n",
    "#oc_1_ext_grid(m_s)"
   ]
  },
  {
   "cell_type": "code",
   "execution_count": 26,
   "id": "harmful-surrey",
   "metadata": {
    "executionInfo": {
     "elapsed": 1854,
     "status": "ok",
     "timestamp": 1620005673342,
     "user": {
      "displayName": "Juan Sardón",
      "photoUrl": "https://lh3.googleusercontent.com/a-/AOh14Gh0hE4Hw8M0I17k-o2PXxLB5i6gNZV_oUTpZlyJ3Q=s64",
      "userId": "08267034058673099115"
     },
     "user_tz": 180
    },
    "id": "committed-egyptian"
   },
   "outputs": [],
   "source": [
    "#25 hs: error\n",
    "#m_s['h'] = 25\n",
    "#oc_1_ext_grid(m_s)"
   ]
  },
  {
   "cell_type": "code",
   "execution_count": 27,
   "id": "rough-deadline",
   "metadata": {
    "executionInfo": {
     "elapsed": 976,
     "status": "ok",
     "timestamp": 1620005674196,
     "user": {
      "displayName": "Juan Sardón",
      "photoUrl": "https://lh3.googleusercontent.com/a-/AOh14Gh0hE4Hw8M0I17k-o2PXxLB5i6gNZV_oUTpZlyJ3Q=s64",
      "userId": "08267034058673099115"
     },
     "user_tz": 180
    },
    "id": "marine-rescue"
   },
   "outputs": [],
   "source": [
    "net.ext_grid['oc_1_mu'][0] = oc_1_ext_grid\n",
    "net.ext_grid['name'][0] = 'SET'\n",
    "net.ext_grid['pr_mw'][0] = 1.5"
   ]
  },
  {
   "cell_type": "code",
   "execution_count": 28,
   "id": "seasonal-childhood",
   "metadata": {
    "colab": {
     "base_uri": "https://localhost:8080/",
     "height": 98
    },
    "executionInfo": {
     "elapsed": 728,
     "status": "ok",
     "timestamp": 1620005676371,
     "user": {
      "displayName": "Juan Sardón",
      "photoUrl": "https://lh3.googleusercontent.com/a-/AOh14Gh0hE4Hw8M0I17k-o2PXxLB5i6gNZV_oUTpZlyJ3Q=s64",
      "userId": "08267034058673099115"
     },
     "user_tz": 180
    },
    "id": "accredited-horse",
    "outputId": "f44ded0f-df37-4315-d07f-e140fb231d3a"
   },
   "outputs": [
    {
     "data": {
      "text/html": [
       "<div>\n",
       "<style scoped>\n",
       "    .dataframe tbody tr th:only-of-type {\n",
       "        vertical-align: middle;\n",
       "    }\n",
       "\n",
       "    .dataframe tbody tr th {\n",
       "        vertical-align: top;\n",
       "    }\n",
       "\n",
       "    .dataframe thead th {\n",
       "        text-align: right;\n",
       "    }\n",
       "</style>\n",
       "<table border=\"1\" class=\"dataframe\">\n",
       "  <thead>\n",
       "    <tr style=\"text-align: right;\">\n",
       "      <th></th>\n",
       "      <th>name</th>\n",
       "      <th>bus</th>\n",
       "      <th>vm_pu</th>\n",
       "      <th>va_degree</th>\n",
       "      <th>in_service</th>\n",
       "      <th>ic_0_mu</th>\n",
       "      <th>ic_1_mu</th>\n",
       "      <th>oc_0_mu</th>\n",
       "      <th>oc_1_mu</th>\n",
       "      <th>pr_mw</th>\n",
       "      <th>pa_pu</th>\n",
       "      <th>po_mw</th>\n",
       "      <th>sizeable</th>\n",
       "      <th>model</th>\n",
       "      <th>constraints</th>\n",
       "    </tr>\n",
       "  </thead>\n",
       "  <tbody>\n",
       "    <tr>\n",
       "      <th>0</th>\n",
       "      <td>SET</td>\n",
       "      <td>0</td>\n",
       "      <td>1.0</td>\n",
       "      <td>0.0</td>\n",
       "      <td>True</td>\n",
       "      <td>0.0</td>\n",
       "      <td>0.0</td>\n",
       "      <td>0.0</td>\n",
       "      <td>&lt;function oc_1_ext_grid at 0x00000273C3AF0700&gt;</td>\n",
       "      <td>1.5</td>\n",
       "      <td>1.0</td>\n",
       "      <td>0.0</td>\n",
       "      <td>False</td>\n",
       "      <td>None</td>\n",
       "      <td>None</td>\n",
       "    </tr>\n",
       "  </tbody>\n",
       "</table>\n",
       "</div>"
      ],
      "text/plain": [
       "  name  bus  vm_pu  va_degree  in_service  ic_0_mu  ic_1_mu  oc_0_mu  \\\n",
       "0  SET    0    1.0        0.0        True      0.0      0.0      0.0   \n",
       "\n",
       "                                          oc_1_mu  pr_mw  pa_pu  po_mw  \\\n",
       "0  <function oc_1_ext_grid at 0x00000273C3AF0700>    1.5    1.0    0.0   \n",
       "\n",
       "   sizeable model constraints  \n",
       "0     False  None        None  "
      ]
     },
     "execution_count": 28,
     "metadata": {},
     "output_type": "execute_result"
    }
   ],
   "source": [
    "net.ext_grid"
   ]
  },
  {
   "cell_type": "code",
   "execution_count": 29,
   "id": "economic-pottery",
   "metadata": {
    "executionInfo": {
     "elapsed": 1648,
     "status": "ok",
     "timestamp": 1620005683671,
     "user": {
      "displayName": "Juan Sardón",
      "photoUrl": "https://lh3.googleusercontent.com/a-/AOh14Gh0hE4Hw8M0I17k-o2PXxLB5i6gNZV_oUTpZlyJ3Q=s64",
      "userId": "08267034058673099115"
     },
     "user_tz": 180
    },
    "id": "secure-message"
   },
   "outputs": [],
   "source": [
    "def demand(model_status={}):\n",
    "    #modelo sencillo en forma de escalones\n",
    "    #devuelvr la fracción de la carga empleada\n",
    "    #se considera que la carga tiene una variabilidad aleatoria de un 20% y es mayor en verano e invierno en un 30%\n",
    "    #la variabilidad total puede ser 1.3*1.2=1.56 verano-invierno o 0.7*0.8 = 0.56 otoño-primavera, \n",
    "    res = 0.0\n",
    "    if 'h' in model_status:\n",
    "        h = model_status['h']\n",
    "        if 0.0 <= h and h < 6.0:\n",
    "            res = 0.2\n",
    "        elif 6.0 <= h and h < 8.0:\n",
    "            res = 0.4\n",
    "        elif 8.0 <= h and h < 18.0:\n",
    "            res = 0.5\n",
    "        elif 18.0 <= h and h < 22.0:\n",
    "            res = 1.0\n",
    "        elif 22.0 <= h and h < 24.0:\n",
    "            res = 0.3            \n",
    "        else:\n",
    "            raise ValueError(\"Hour outside model range\")\n",
    "    else:\n",
    "        raise ValueError(\"Hour not defined\")\n",
    "    \n",
    "    #estacionalidad\n",
    "    if 'd' in model_status:\n",
    "        d = model_status['d']\n",
    "        #se asume que el día de mayor consumo es el inicio del verano y del invierno (21/12 y 21/07), por eso sumo 10 días el dia 0\n",
    "        #divido por 180 porque hay dos picos en el año y paso a radianes\n",
    "        estacionalidad = 1 + 0.3*math.cos((d + 10.0)/180.0*2*math.pi)  \n",
    "    else:\n",
    "        raise ValueError(\"Day not defined\")\n",
    "    res = res * estacionalidad\n",
    "    \n",
    "    #Aleatoriedad:\n",
    "    res = res*random.uniform(0.8, 1.2)\n",
    "    return res"
   ]
  },
  {
   "cell_type": "code",
   "execution_count": 30,
   "id": "consolidated-default",
   "metadata": {
    "executionInfo": {
     "elapsed": 945,
     "status": "ok",
     "timestamp": 1620005684448,
     "user": {
      "displayName": "Juan Sardón",
      "photoUrl": "https://lh3.googleusercontent.com/a-/AOh14Gh0hE4Hw8M0I17k-o2PXxLB5i6gNZV_oUTpZlyJ3Q=s64",
      "userId": "08267034058673099115"
     },
     "user_tz": 180
    },
    "id": "decreased-chorus"
   },
   "outputs": [],
   "source": [
    "net.load['pr_mw'][0] = net.load['p_mw'][0]\n",
    "net.load['pa_pu'][0] = demand\n",
    "net.load['name'][0] = 'Tornquinst'\n",
    "net.load['pr_mw'][1] = net.load['p_mw'][1]\n",
    "net.load['pa_pu'][1] = demand\n",
    "net.load['name'][1] = 'Bell Ville'\n",
    "net.load['pr_mw'][2] = net.load['p_mw'][2]\n",
    "net.load['pa_pu'][2] = demand\n",
    "net.load['name'][2] = 'City Bell'\n"
   ]
  },
  {
   "cell_type": "code",
   "execution_count": 31,
   "id": "acting-diesel",
   "metadata": {
    "colab": {
     "base_uri": "https://localhost:8080/",
     "height": 268
    },
    "executionInfo": {
     "elapsed": 857,
     "status": "ok",
     "timestamp": 1620005686825,
     "user": {
      "displayName": "Juan Sardón",
      "photoUrl": "https://lh3.googleusercontent.com/a-/AOh14Gh0hE4Hw8M0I17k-o2PXxLB5i6gNZV_oUTpZlyJ3Q=s64",
      "userId": "08267034058673099115"
     },
     "user_tz": 180
    },
    "id": "qualified-zimbabwe",
    "outputId": "fada93b3-2839-4bad-fcba-16ba0f043a7c"
   },
   "outputs": [
    {
     "data": {
      "text/html": [
       "<div>\n",
       "<style scoped>\n",
       "    .dataframe tbody tr th:only-of-type {\n",
       "        vertical-align: middle;\n",
       "    }\n",
       "\n",
       "    .dataframe tbody tr th {\n",
       "        vertical-align: top;\n",
       "    }\n",
       "\n",
       "    .dataframe thead th {\n",
       "        text-align: right;\n",
       "    }\n",
       "</style>\n",
       "<table border=\"1\" class=\"dataframe\">\n",
       "  <thead>\n",
       "    <tr style=\"text-align: right;\">\n",
       "      <th></th>\n",
       "      <th>name</th>\n",
       "      <th>bus</th>\n",
       "      <th>p_mw</th>\n",
       "      <th>q_mvar</th>\n",
       "      <th>const_z_percent</th>\n",
       "      <th>const_i_percent</th>\n",
       "      <th>sn_mva</th>\n",
       "      <th>scaling</th>\n",
       "      <th>in_service</th>\n",
       "      <th>type</th>\n",
       "      <th>ic_0_mu</th>\n",
       "      <th>ic_1_mu</th>\n",
       "      <th>oc_0_mu</th>\n",
       "      <th>oc_1_mu</th>\n",
       "      <th>pr_mw</th>\n",
       "      <th>pa_pu</th>\n",
       "      <th>po_mw</th>\n",
       "      <th>sizeable</th>\n",
       "      <th>model</th>\n",
       "      <th>constraints</th>\n",
       "    </tr>\n",
       "  </thead>\n",
       "  <tbody>\n",
       "    <tr>\n",
       "      <th>0</th>\n",
       "      <td>Tornquinst</td>\n",
       "      <td>2</td>\n",
       "      <td>0.35</td>\n",
       "      <td>0.00</td>\n",
       "      <td>0.0</td>\n",
       "      <td>0.0</td>\n",
       "      <td>NaN</td>\n",
       "      <td>1.0</td>\n",
       "      <td>True</td>\n",
       "      <td>wye</td>\n",
       "      <td>0.0</td>\n",
       "      <td>0.0</td>\n",
       "      <td>0.0</td>\n",
       "      <td>0.0</td>\n",
       "      <td>0.35</td>\n",
       "      <td>&lt;function demand at 0x00000273C2CD0F70&gt;</td>\n",
       "      <td>0.0</td>\n",
       "      <td>False</td>\n",
       "      <td>None</td>\n",
       "      <td>None</td>\n",
       "    </tr>\n",
       "    <tr>\n",
       "      <th>1</th>\n",
       "      <td>Bell Ville</td>\n",
       "      <td>5</td>\n",
       "      <td>0.85</td>\n",
       "      <td>0.33</td>\n",
       "      <td>0.0</td>\n",
       "      <td>0.0</td>\n",
       "      <td>NaN</td>\n",
       "      <td>1.0</td>\n",
       "      <td>True</td>\n",
       "      <td>wye</td>\n",
       "      <td>0.0</td>\n",
       "      <td>0.0</td>\n",
       "      <td>0.0</td>\n",
       "      <td>0.0</td>\n",
       "      <td>0.85</td>\n",
       "      <td>&lt;function demand at 0x00000273C2CD0F70&gt;</td>\n",
       "      <td>0.0</td>\n",
       "      <td>False</td>\n",
       "      <td>None</td>\n",
       "      <td>None</td>\n",
       "    </tr>\n",
       "    <tr>\n",
       "      <th>2</th>\n",
       "      <td>City Bell</td>\n",
       "      <td>6</td>\n",
       "      <td>0.22</td>\n",
       "      <td>0.05</td>\n",
       "      <td>0.0</td>\n",
       "      <td>0.0</td>\n",
       "      <td>NaN</td>\n",
       "      <td>1.0</td>\n",
       "      <td>True</td>\n",
       "      <td>wye</td>\n",
       "      <td>0.0</td>\n",
       "      <td>0.0</td>\n",
       "      <td>0.0</td>\n",
       "      <td>0.0</td>\n",
       "      <td>0.22</td>\n",
       "      <td>&lt;function demand at 0x00000273C2CD0F70&gt;</td>\n",
       "      <td>0.0</td>\n",
       "      <td>False</td>\n",
       "      <td>None</td>\n",
       "      <td>None</td>\n",
       "    </tr>\n",
       "  </tbody>\n",
       "</table>\n",
       "</div>"
      ],
      "text/plain": [
       "         name  bus  p_mw  q_mvar  const_z_percent  const_i_percent  sn_mva  \\\n",
       "0  Tornquinst    2  0.35    0.00              0.0              0.0     NaN   \n",
       "1  Bell Ville    5  0.85    0.33              0.0              0.0     NaN   \n",
       "2   City Bell    6  0.22    0.05              0.0              0.0     NaN   \n",
       "\n",
       "   scaling  in_service type  ic_0_mu  ic_1_mu  oc_0_mu  oc_1_mu  pr_mw  \\\n",
       "0      1.0        True  wye      0.0      0.0      0.0      0.0   0.35   \n",
       "1      1.0        True  wye      0.0      0.0      0.0      0.0   0.85   \n",
       "2      1.0        True  wye      0.0      0.0      0.0      0.0   0.22   \n",
       "\n",
       "                                     pa_pu  po_mw  sizeable model constraints  \n",
       "0  <function demand at 0x00000273C2CD0F70>    0.0     False  None        None  \n",
       "1  <function demand at 0x00000273C2CD0F70>    0.0     False  None        None  \n",
       "2  <function demand at 0x00000273C2CD0F70>    0.0     False  None        None  "
      ]
     },
     "execution_count": 31,
     "metadata": {},
     "output_type": "execute_result"
    }
   ],
   "source": [
    "net.load"
   ]
  },
  {
   "cell_type": "code",
   "execution_count": 32,
   "id": "sorted-tiffany",
   "metadata": {
    "executionInfo": {
     "elapsed": 770,
     "status": "ok",
     "timestamp": 1620005689716,
     "user": {
      "displayName": "Juan Sardón",
      "photoUrl": "https://lh3.googleusercontent.com/a-/AOh14Gh0hE4Hw8M0I17k-o2PXxLB5i6gNZV_oUTpZlyJ3Q=s64",
      "userId": "08267034058673099115"
     },
     "user_tz": 180
    },
    "id": "continuing-cover"
   },
   "outputs": [],
   "source": [
    "def solar_output(model_status={}):\n",
    "    #modelo sencillo\n",
    "    #usando los datos de radiacion solar entregada por el modelo\n",
    "    #considero el valor normal 1000 W/m2\n",
    "    res = 0.0\n",
    "    if 'I' in model_status:\n",
    "        I = model_status['I']\n",
    "        if 0.0 <= I and I < 1200:\n",
    "            res = I / 1000.0\n",
    "        else:\n",
    "            raise ValueError(\"Solar radiation outside model range\")\n",
    "    else:\n",
    "        raise ValueError(\"Solar radiation not defined\")\n",
    "    \n",
    "    return res"
   ]
  },
  {
   "cell_type": "code",
   "execution_count": 33,
   "id": "heard-somewhere",
   "metadata": {
    "executionInfo": {
     "elapsed": 441,
     "status": "ok",
     "timestamp": 1620005690905,
     "user": {
      "displayName": "Juan Sardón",
      "photoUrl": "https://lh3.googleusercontent.com/a-/AOh14Gh0hE4Hw8M0I17k-o2PXxLB5i6gNZV_oUTpZlyJ3Q=s64",
      "userId": "08267034058673099115"
     },
     "user_tz": 180
    },
    "id": "rolled-loading"
   },
   "outputs": [],
   "source": [
    "#test:\n",
    "##m_s = {'y': 0, 'd': 180, 'h': 43.0, 'dt': 1.0, 'temp': 12.0, 'I':950.0,  'wv': 10.0, 'eg': 1.0}\n",
    "##solar_output(m_s)"
   ]
  },
  {
   "cell_type": "code",
   "execution_count": 34,
   "id": "meaningful-amateur",
   "metadata": {
    "executionInfo": {
     "elapsed": 675,
     "status": "ok",
     "timestamp": 1620005692160,
     "user": {
      "displayName": "Juan Sardón",
      "photoUrl": "https://lh3.googleusercontent.com/a-/AOh14Gh0hE4Hw8M0I17k-o2PXxLB5i6gNZV_oUTpZlyJ3Q=s64",
      "userId": "08267034058673099115"
     },
     "user_tz": 180
    },
    "id": "correct-patrol"
   },
   "outputs": [],
   "source": [
    "net.sgen['name'][0] = 'PV1'\n",
    "net.sgen['pa_pu'][0] = solar_output\n",
    "net.sgen['ic_0_mu'][0] = 2\n",
    "net.sgen['ic_1_mu'][0] = 0.75\n",
    "net.sgen['oc_0_mu'][0] = 0.0\n",
    "net.sgen['oc_1_mu'][0] = 500e-6\n",
    "net.sgen['sizeable'][0] = True\n",
    "\n",
    "net.sgen['name'][2] = 'PV2'\n",
    "net.sgen['pa_pu'][2] = solar_output\n",
    "net.sgen['ic_0_mu'][2] = 2\n",
    "net.sgen['ic_1_mu'][2] = 0.75\n",
    "net.sgen['oc_0_mu'][2] = 0.0\n",
    "net.sgen['oc_1_mu'][2] = 500e-6\n",
    "net.sgen['sizeable'][2] = True\n"
   ]
  },
  {
   "cell_type": "code",
   "execution_count": 35,
   "id": "flexible-iraqi",
   "metadata": {
    "executionInfo": {
     "elapsed": 826,
     "status": "ok",
     "timestamp": 1620005693982,
     "user": {
      "displayName": "Juan Sardón",
      "photoUrl": "https://lh3.googleusercontent.com/a-/AOh14Gh0hE4Hw8M0I17k-o2PXxLB5i6gNZV_oUTpZlyJ3Q=s64",
      "userId": "08267034058673099115"
     },
     "user_tz": 180
    },
    "id": "broken-archives"
   },
   "outputs": [],
   "source": [
    "def wind_output(model_status={}):\n",
    "    #modelo sencillo\n",
    "    #devuelvr la fracción de la potencia entregada en función del tiempo\n",
    "    #no toma en cuenta la radicación solar ni la temperatura\n",
    "    res = 0.0\n",
    "    if 'wv' in model_status:\n",
    "        wv = model_status['wv']\n",
    "        if 0.0 <= wv and wv < 3.0:\n",
    "            res = 0.0\n",
    "        elif 3.0 <= wv and wv < 15.0:\n",
    "            res = (wv-3.0)/(15.0-3.0)\n",
    "        elif 15.0 <= wv and wv < 25.0:\n",
    "            res = 1.0\n",
    "        else:\n",
    "            res = 0.0\n",
    "    else:\n",
    "        raise ValueError(\"Wind Velocity not defined\")\n",
    "    \n",
    "    return res"
   ]
  },
  {
   "cell_type": "code",
   "execution_count": 36,
   "id": "adult-cover",
   "metadata": {
    "executionInfo": {
     "elapsed": 813,
     "status": "ok",
     "timestamp": 1620005695507,
     "user": {
      "displayName": "Juan Sardón",
      "photoUrl": "https://lh3.googleusercontent.com/a-/AOh14Gh0hE4Hw8M0I17k-o2PXxLB5i6gNZV_oUTpZlyJ3Q=s64",
      "userId": "08267034058673099115"
     },
     "user_tz": 180
    },
    "id": "composite-absorption"
   },
   "outputs": [],
   "source": [
    "net.sgen['name'][1] = 'WT1'\n",
    "net.sgen['pa_pu'][1] = wind_output\n",
    "net.sgen['ic_0_mu'][1] = 5.0\n",
    "net.sgen['ic_1_mu'][1] = 3.0\n",
    "net.sgen['oc_0_mu'][1] = 0.0\n",
    "net.sgen['oc_1_mu'][1] = 700e-6\n",
    "net.sgen['sizeable'][1] = True"
   ]
  },
  {
   "cell_type": "code",
   "execution_count": 37,
   "id": "casual-protein",
   "metadata": {
    "colab": {
     "base_uri": "https://localhost:8080/",
     "height": 268
    },
    "executionInfo": {
     "elapsed": 551,
     "status": "ok",
     "timestamp": 1620005696937,
     "user": {
      "displayName": "Juan Sardón",
      "photoUrl": "https://lh3.googleusercontent.com/a-/AOh14Gh0hE4Hw8M0I17k-o2PXxLB5i6gNZV_oUTpZlyJ3Q=s64",
      "userId": "08267034058673099115"
     },
     "user_tz": 180
    },
    "id": "electronic-starter",
    "outputId": "ceda59be-4d12-4cb9-c914-e3ee22ce3a80"
   },
   "outputs": [
    {
     "data": {
      "text/html": [
       "<div>\n",
       "<style scoped>\n",
       "    .dataframe tbody tr th:only-of-type {\n",
       "        vertical-align: middle;\n",
       "    }\n",
       "\n",
       "    .dataframe tbody tr th {\n",
       "        vertical-align: top;\n",
       "    }\n",
       "\n",
       "    .dataframe thead th {\n",
       "        text-align: right;\n",
       "    }\n",
       "</style>\n",
       "<table border=\"1\" class=\"dataframe\">\n",
       "  <thead>\n",
       "    <tr style=\"text-align: right;\">\n",
       "      <th></th>\n",
       "      <th>name</th>\n",
       "      <th>bus</th>\n",
       "      <th>p_mw</th>\n",
       "      <th>q_mvar</th>\n",
       "      <th>sn_mva</th>\n",
       "      <th>scaling</th>\n",
       "      <th>in_service</th>\n",
       "      <th>type</th>\n",
       "      <th>current_source</th>\n",
       "      <th>max_p_mw</th>\n",
       "      <th>...</th>\n",
       "      <th>ic_0_mu</th>\n",
       "      <th>ic_1_mu</th>\n",
       "      <th>oc_0_mu</th>\n",
       "      <th>oc_1_mu</th>\n",
       "      <th>pr_mw</th>\n",
       "      <th>pa_pu</th>\n",
       "      <th>po_mw</th>\n",
       "      <th>sizeable</th>\n",
       "      <th>model</th>\n",
       "      <th>constraints</th>\n",
       "    </tr>\n",
       "  </thead>\n",
       "  <tbody>\n",
       "    <tr>\n",
       "      <th>0</th>\n",
       "      <td>PV1</td>\n",
       "      <td>1</td>\n",
       "      <td>0.075</td>\n",
       "      <td>0.025</td>\n",
       "      <td>NaN</td>\n",
       "      <td>1.0</td>\n",
       "      <td>True</td>\n",
       "      <td>wye</td>\n",
       "      <td>True</td>\n",
       "      <td>0.15</td>\n",
       "      <td>...</td>\n",
       "      <td>2.0</td>\n",
       "      <td>0.75</td>\n",
       "      <td>0.0</td>\n",
       "      <td>0.0005</td>\n",
       "      <td>1.0</td>\n",
       "      <td>&lt;function solar_output at 0x00000273C3AF0280&gt;</td>\n",
       "      <td>0.0</td>\n",
       "      <td>True</td>\n",
       "      <td>None</td>\n",
       "      <td>None</td>\n",
       "    </tr>\n",
       "    <tr>\n",
       "      <th>1</th>\n",
       "      <td>WT1</td>\n",
       "      <td>3</td>\n",
       "      <td>0.150</td>\n",
       "      <td>0.000</td>\n",
       "      <td>NaN</td>\n",
       "      <td>1.0</td>\n",
       "      <td>True</td>\n",
       "      <td>wye</td>\n",
       "      <td>True</td>\n",
       "      <td>0.40</td>\n",
       "      <td>...</td>\n",
       "      <td>5.0</td>\n",
       "      <td>3.00</td>\n",
       "      <td>0.0</td>\n",
       "      <td>0.0007</td>\n",
       "      <td>1.0</td>\n",
       "      <td>&lt;function wind_output at 0x00000273C3AA4700&gt;</td>\n",
       "      <td>0.0</td>\n",
       "      <td>True</td>\n",
       "      <td>None</td>\n",
       "      <td>None</td>\n",
       "    </tr>\n",
       "    <tr>\n",
       "      <th>2</th>\n",
       "      <td>PV2</td>\n",
       "      <td>4</td>\n",
       "      <td>0.080</td>\n",
       "      <td>0.000</td>\n",
       "      <td>NaN</td>\n",
       "      <td>1.0</td>\n",
       "      <td>True</td>\n",
       "      <td>wye</td>\n",
       "      <td>True</td>\n",
       "      <td>0.30</td>\n",
       "      <td>...</td>\n",
       "      <td>2.0</td>\n",
       "      <td>0.75</td>\n",
       "      <td>0.0</td>\n",
       "      <td>0.0005</td>\n",
       "      <td>1.0</td>\n",
       "      <td>&lt;function solar_output at 0x00000273C3AF0280&gt;</td>\n",
       "      <td>0.0</td>\n",
       "      <td>True</td>\n",
       "      <td>None</td>\n",
       "      <td>None</td>\n",
       "    </tr>\n",
       "  </tbody>\n",
       "</table>\n",
       "<p>3 rows × 21 columns</p>\n",
       "</div>"
      ],
      "text/plain": [
       "  name  bus   p_mw  q_mvar  sn_mva  scaling  in_service type  current_source  \\\n",
       "0  PV1    1  0.075   0.025     NaN      1.0        True  wye            True   \n",
       "1  WT1    3  0.150   0.000     NaN      1.0        True  wye            True   \n",
       "2  PV2    4  0.080   0.000     NaN      1.0        True  wye            True   \n",
       "\n",
       "   max_p_mw  ...  ic_0_mu  ic_1_mu  oc_0_mu  oc_1_mu  pr_mw  \\\n",
       "0      0.15  ...      2.0     0.75      0.0   0.0005    1.0   \n",
       "1      0.40  ...      5.0     3.00      0.0   0.0007    1.0   \n",
       "2      0.30  ...      2.0     0.75      0.0   0.0005    1.0   \n",
       "\n",
       "                                           pa_pu po_mw  sizeable  model  \\\n",
       "0  <function solar_output at 0x00000273C3AF0280>   0.0      True   None   \n",
       "1   <function wind_output at 0x00000273C3AA4700>   0.0      True   None   \n",
       "2  <function solar_output at 0x00000273C3AF0280>   0.0      True   None   \n",
       "\n",
       "  constraints  \n",
       "0        None  \n",
       "1        None  \n",
       "2        None  \n",
       "\n",
       "[3 rows x 21 columns]"
      ]
     },
     "execution_count": 37,
     "metadata": {},
     "output_type": "execute_result"
    }
   ],
   "source": [
    "net.sgen"
   ]
  },
  {
   "cell_type": "markdown",
   "id": "fifth-hybrid",
   "metadata": {
    "id": "pTK9BGaY4BEu"
   },
   "source": [
    "## Construcción de Escenarios"
   ]
  },
  {
   "cell_type": "code",
   "execution_count": 38,
   "id": "united-export",
   "metadata": {
    "executionInfo": {
     "elapsed": 1184,
     "status": "ok",
     "timestamp": 1620006589608,
     "user": {
      "displayName": "Juan Sardón",
      "photoUrl": "https://lh3.googleusercontent.com/a-/AOh14Gh0hE4Hw8M0I17k-o2PXxLB5i6gNZV_oUTpZlyJ3Q=s64",
      "userId": "08267034058673099115"
     },
     "user_tz": 180
    },
    "id": "posted-description"
   },
   "outputs": [],
   "source": [
    "dias = 10\n",
    "años = 5"
   ]
  },
  {
   "cell_type": "code",
   "execution_count": 39,
   "id": "transsexual-dream",
   "metadata": {
    "executionInfo": {
     "elapsed": 804,
     "status": "ok",
     "timestamp": 1620006591214,
     "user": {
      "displayName": "Juan Sardón",
      "photoUrl": "https://lh3.googleusercontent.com/a-/AOh14Gh0hE4Hw8M0I17k-o2PXxLB5i6gNZV_oUTpZlyJ3Q=s64",
      "userId": "08267034058673099115"
     },
     "user_tz": 180
    },
    "id": "intelligent-terrace"
   },
   "outputs": [],
   "source": [
    "#el rango de horas:\n",
    "T_i = range(24)\n",
    "\n",
    "#el rango de dias:\n",
    "Dias_i = range(dias)\n",
    "\n",
    "Escenarios_i = range(len(T_i)*len(Dias_i))"
   ]
  },
  {
   "cell_type": "code",
   "execution_count": 40,
   "id": "korean-bulgarian",
   "metadata": {
    "executionInfo": {
     "elapsed": 957,
     "status": "ok",
     "timestamp": 1620006593285,
     "user": {
      "displayName": "Juan Sardón",
      "photoUrl": "https://lh3.googleusercontent.com/a-/AOh14Gh0hE4Hw8M0I17k-o2PXxLB5i6gNZV_oUTpZlyJ3Q=s64",
      "userId": "08267034058673099115"
     },
     "user_tz": 180
    },
    "id": "complimentary-harvard"
   },
   "outputs": [],
   "source": [
    "def solar_irradiance_simulation(d, h):\n",
    "    #simula las horas de sol, la intensidad y los dias multiplos de 5 esta nublado, con un 20% de la radiacion\n",
    "    #a todo esto se le aplica una aleatoriedad del 80 al 100%\n",
    "    #los coeficientes son aproximados para Buenos Aires\n",
    "    radiacion = 1000.0\n",
    "    \n",
    "    estacionalidad = 0.75 + 0.25*math.cos((d + 10.0)/365.0*2*math.pi)  \n",
    "    \n",
    "    if d % 5 == 0 :\n",
    "        nubosidad = 0.2\n",
    "    else:\n",
    "        nubosidad = 1.0\n",
    "        \n",
    "    aleatoriedad = random.uniform(0.8, 1.0)\n",
    "    \n",
    "    salida = 7.0 - 1.1*math.cos((d + 10.0)/365.0*2*math.pi)    #es una aproximacion, no basada en modelos matematicos\n",
    "    puesta = 19.0 + 1.1*math.cos((d + 10.0)/365.0*2*math.pi)\n",
    "    \n",
    "    temporalidad = 0.0\n",
    "    if salida <= h and h <= puesta:\n",
    "        temporalidad = math.sin((h-salida)/(puesta-salida)*math.pi)\n",
    "        \n",
    "    return radiacion*estacionalidad*nubosidad*aleatoriedad*temporalidad"
   ]
  },
  {
   "cell_type": "code",
   "execution_count": 41,
   "id": "touched-laundry",
   "metadata": {
    "executionInfo": {
     "elapsed": 740,
     "status": "ok",
     "timestamp": 1620006594076,
     "user": {
      "displayName": "Juan Sardón",
      "photoUrl": "https://lh3.googleusercontent.com/a-/AOh14Gh0hE4Hw8M0I17k-o2PXxLB5i6gNZV_oUTpZlyJ3Q=s64",
      "userId": "08267034058673099115"
     },
     "user_tz": 180
    },
    "id": "rotary-traffic"
   },
   "outputs": [],
   "source": [
    "m_s_base = [{'y': 0, 'd': 0, 'dd':1.0, 'h': 0.0, 'dt': 1.0, 'temp': 20.0, 'I':1000.0, 'wv': 10.0, 'eg': 1.0}]\n",
    "\n",
    "registros = len(Dias_i)*len(T_i)\n",
    "\n",
    "Escenarios =  pd.DataFrame(m_s_base, index = Escenarios_i)\n",
    "\n",
    "reg = 0\n",
    "for d in Dias_i:\n",
    "    for h in T_i:\n",
    "        Escenarios['d'][reg] = d\n",
    "        Escenarios['h'][reg] = h\n",
    "        Escenarios['I'][reg] = solar_irradiance_simulation(d, h)\n",
    "        Escenarios['wv'][reg] = random.uniform(1.0, 20.0)\n",
    "        reg += 1"
   ]
  },
  {
   "cell_type": "code",
   "execution_count": 42,
   "id": "progressive-senate",
   "metadata": {
    "colab": {
     "base_uri": "https://localhost:8080/",
     "height": 424
    },
    "executionInfo": {
     "elapsed": 940,
     "status": "ok",
     "timestamp": 1620006595909,
     "user": {
      "displayName": "Juan Sardón",
      "photoUrl": "https://lh3.googleusercontent.com/a-/AOh14Gh0hE4Hw8M0I17k-o2PXxLB5i6gNZV_oUTpZlyJ3Q=s64",
      "userId": "08267034058673099115"
     },
     "user_tz": 180
    },
    "id": "rztNfB1f4udd",
    "outputId": "9d65516d-715a-4f75-a9e9-b820fa6643be"
   },
   "outputs": [
    {
     "data": {
      "text/html": [
       "<div>\n",
       "<style scoped>\n",
       "    .dataframe tbody tr th:only-of-type {\n",
       "        vertical-align: middle;\n",
       "    }\n",
       "\n",
       "    .dataframe tbody tr th {\n",
       "        vertical-align: top;\n",
       "    }\n",
       "\n",
       "    .dataframe thead th {\n",
       "        text-align: right;\n",
       "    }\n",
       "</style>\n",
       "<table border=\"1\" class=\"dataframe\">\n",
       "  <thead>\n",
       "    <tr style=\"text-align: right;\">\n",
       "      <th></th>\n",
       "      <th>y</th>\n",
       "      <th>d</th>\n",
       "      <th>dd</th>\n",
       "      <th>h</th>\n",
       "      <th>dt</th>\n",
       "      <th>temp</th>\n",
       "      <th>I</th>\n",
       "      <th>wv</th>\n",
       "      <th>eg</th>\n",
       "    </tr>\n",
       "  </thead>\n",
       "  <tbody>\n",
       "    <tr>\n",
       "      <th>0</th>\n",
       "      <td>0</td>\n",
       "      <td>0</td>\n",
       "      <td>1.0</td>\n",
       "      <td>0.0</td>\n",
       "      <td>1.0</td>\n",
       "      <td>20.0</td>\n",
       "      <td>0.000000</td>\n",
       "      <td>14.864048</td>\n",
       "      <td>1.0</td>\n",
       "    </tr>\n",
       "    <tr>\n",
       "      <th>1</th>\n",
       "      <td>0</td>\n",
       "      <td>0</td>\n",
       "      <td>1.0</td>\n",
       "      <td>1.0</td>\n",
       "      <td>1.0</td>\n",
       "      <td>20.0</td>\n",
       "      <td>0.000000</td>\n",
       "      <td>7.803875</td>\n",
       "      <td>1.0</td>\n",
       "    </tr>\n",
       "    <tr>\n",
       "      <th>2</th>\n",
       "      <td>0</td>\n",
       "      <td>0</td>\n",
       "      <td>1.0</td>\n",
       "      <td>2.0</td>\n",
       "      <td>1.0</td>\n",
       "      <td>20.0</td>\n",
       "      <td>0.000000</td>\n",
       "      <td>11.391226</td>\n",
       "      <td>1.0</td>\n",
       "    </tr>\n",
       "    <tr>\n",
       "      <th>3</th>\n",
       "      <td>0</td>\n",
       "      <td>0</td>\n",
       "      <td>1.0</td>\n",
       "      <td>3.0</td>\n",
       "      <td>1.0</td>\n",
       "      <td>20.0</td>\n",
       "      <td>0.000000</td>\n",
       "      <td>14.910635</td>\n",
       "      <td>1.0</td>\n",
       "    </tr>\n",
       "    <tr>\n",
       "      <th>4</th>\n",
       "      <td>0</td>\n",
       "      <td>0</td>\n",
       "      <td>1.0</td>\n",
       "      <td>4.0</td>\n",
       "      <td>1.0</td>\n",
       "      <td>20.0</td>\n",
       "      <td>0.000000</td>\n",
       "      <td>16.399737</td>\n",
       "      <td>1.0</td>\n",
       "    </tr>\n",
       "    <tr>\n",
       "      <th>...</th>\n",
       "      <td>...</td>\n",
       "      <td>...</td>\n",
       "      <td>...</td>\n",
       "      <td>...</td>\n",
       "      <td>...</td>\n",
       "      <td>...</td>\n",
       "      <td>...</td>\n",
       "      <td>...</td>\n",
       "      <td>...</td>\n",
       "    </tr>\n",
       "    <tr>\n",
       "      <th>235</th>\n",
       "      <td>0</td>\n",
       "      <td>9</td>\n",
       "      <td>1.0</td>\n",
       "      <td>19.0</td>\n",
       "      <td>1.0</td>\n",
       "      <td>20.0</td>\n",
       "      <td>192.514502</td>\n",
       "      <td>10.391587</td>\n",
       "      <td>1.0</td>\n",
       "    </tr>\n",
       "    <tr>\n",
       "      <th>236</th>\n",
       "      <td>0</td>\n",
       "      <td>9</td>\n",
       "      <td>1.0</td>\n",
       "      <td>20.0</td>\n",
       "      <td>1.0</td>\n",
       "      <td>20.0</td>\n",
       "      <td>7.968525</td>\n",
       "      <td>13.421947</td>\n",
       "      <td>1.0</td>\n",
       "    </tr>\n",
       "    <tr>\n",
       "      <th>237</th>\n",
       "      <td>0</td>\n",
       "      <td>9</td>\n",
       "      <td>1.0</td>\n",
       "      <td>21.0</td>\n",
       "      <td>1.0</td>\n",
       "      <td>20.0</td>\n",
       "      <td>0.000000</td>\n",
       "      <td>18.838361</td>\n",
       "      <td>1.0</td>\n",
       "    </tr>\n",
       "    <tr>\n",
       "      <th>238</th>\n",
       "      <td>0</td>\n",
       "      <td>9</td>\n",
       "      <td>1.0</td>\n",
       "      <td>22.0</td>\n",
       "      <td>1.0</td>\n",
       "      <td>20.0</td>\n",
       "      <td>0.000000</td>\n",
       "      <td>18.183001</td>\n",
       "      <td>1.0</td>\n",
       "    </tr>\n",
       "    <tr>\n",
       "      <th>239</th>\n",
       "      <td>0</td>\n",
       "      <td>9</td>\n",
       "      <td>1.0</td>\n",
       "      <td>23.0</td>\n",
       "      <td>1.0</td>\n",
       "      <td>20.0</td>\n",
       "      <td>0.000000</td>\n",
       "      <td>9.210676</td>\n",
       "      <td>1.0</td>\n",
       "    </tr>\n",
       "  </tbody>\n",
       "</table>\n",
       "<p>240 rows × 9 columns</p>\n",
       "</div>"
      ],
      "text/plain": [
       "     y  d   dd     h   dt  temp           I         wv   eg\n",
       "0    0  0  1.0   0.0  1.0  20.0    0.000000  14.864048  1.0\n",
       "1    0  0  1.0   1.0  1.0  20.0    0.000000   7.803875  1.0\n",
       "2    0  0  1.0   2.0  1.0  20.0    0.000000  11.391226  1.0\n",
       "3    0  0  1.0   3.0  1.0  20.0    0.000000  14.910635  1.0\n",
       "4    0  0  1.0   4.0  1.0  20.0    0.000000  16.399737  1.0\n",
       "..  .. ..  ...   ...  ...   ...         ...        ...  ...\n",
       "235  0  9  1.0  19.0  1.0  20.0  192.514502  10.391587  1.0\n",
       "236  0  9  1.0  20.0  1.0  20.0    7.968525  13.421947  1.0\n",
       "237  0  9  1.0  21.0  1.0  20.0    0.000000  18.838361  1.0\n",
       "238  0  9  1.0  22.0  1.0  20.0    0.000000  18.183001  1.0\n",
       "239  0  9  1.0  23.0  1.0  20.0    0.000000   9.210676  1.0\n",
       "\n",
       "[240 rows x 9 columns]"
      ]
     },
     "execution_count": 42,
     "metadata": {},
     "output_type": "execute_result"
    }
   ],
   "source": [
    "Escenarios"
   ]
  },
  {
   "cell_type": "markdown",
   "id": "canadian-heather",
   "metadata": {
    "id": "DrtD-E834lhY"
   },
   "source": [
    "## Construcción del Modelo"
   ]
  },
  {
   "cell_type": "markdown",
   "id": "constant-journalist",
   "metadata": {
    "id": "spiritual-luxembourg"
   },
   "source": [
    "Construccion automatica del modelo\n",
    "Es un modelo de dimensionamiento de 3 DERs (WT+PV)"
   ]
  },
  {
   "cell_type": "code",
   "execution_count": 69,
   "id": "antique-sociology",
   "metadata": {},
   "outputs": [],
   "source": [
    "model_writer = SimpleModelWriter(net, Escenarios)"
   ]
  },
  {
   "cell_type": "code",
   "execution_count": 70,
   "id": "traditional-thesaurus",
   "metadata": {},
   "outputs": [
    {
     "data": {
      "text/plain": [
       "<pyomo.core.base.PyomoModel.ConcreteModel at 0x273c6c36140>"
      ]
     },
     "execution_count": 70,
     "metadata": {},
     "output_type": "execute_result"
    }
   ],
   "source": [
    "model_writer.initialize_model()"
   ]
  },
  {
   "cell_type": "code",
   "execution_count": 71,
   "id": "mighty-progress",
   "metadata": {},
   "outputs": [
    {
     "name": "stdout",
     "output_type": "stream",
     "text": [
      "0.0005*p_mw_SGen[0,10] + 0.0007*p_mw_SGen[1,10] + 0.0005*p_mw_SGen[2,10] + 0.0036*p_mw_Ext[0,10]\n"
     ]
    }
   ],
   "source": [
    "print(model_writer._hourly_operational_cost_expression(10))"
   ]
  },
  {
   "cell_type": "code",
   "execution_count": 42,
   "id": "subsequent-navigator",
   "metadata": {},
   "outputs": [],
   "source": [
    "def _initial_cost_expression(net, model):\n",
    "    ic_ext_grid = sum(net.ext_grid['ic_0_mu'][element] + net.ext_grid['ic_1_mu'][element]*net.ext_grid['pr_mw'][element] for element in range(len(net.ext_grid)))\n",
    "    ic_load = sum(net.load['ic_0_mu'][element] + net.load['ic_1_mu'][element]*net.load['pr_mw'][element] for element in range(len(net.load)))\n",
    "    ic_sgen = sum(net.sgen['ic_0_mu'][element] + net.sgen['ic_1_mu'][element]*model.create_SGen[element] for element in range(len(net.sgen)))\n",
    "\n",
    "    return ic_ext_grid + ic_load + ic_sgen"
   ]
  },
  {
   "cell_type": "code",
   "execution_count": 66,
   "id": "billion-violation",
   "metadata": {},
   "outputs": [],
   "source": [
    "def _hourly_operational_cost_expression(net, model, scene_number, scene):\n",
    "    oc_ext_grid = sum(net.ext_grid['oc_0_mu'][element] + _element_get_value(net.ext_grid['oc_1_mu'][element], scene)*model.p_mw_Ext[(element, scene_number)] for element in range(len(net.ext_grid)))\n",
    "    oc_load = sum(net.load['oc_0_mu'][element] + _element_get_value(net.load['oc_1_mu'][element], scene)*model.p_mw_Load[(element,scene_number)] for element in range(len(net.load)))\n",
    "    oc_sgen = sum(net.sgen['oc_0_mu'][element] + _element_get_value(net.sgen['oc_1_mu'][element], scene)*model.p_mw_SGen[(element,scene_number)] for element in range(len(net.sgen)))\n",
    "\n",
    "    return oc_ext_grid + oc_load + oc_sgen "
   ]
  },
  {
   "cell_type": "code",
   "execution_count": null,
   "id": "exclusive-sheriff",
   "metadata": {},
   "outputs": [],
   "source": []
  },
  {
   "cell_type": "code",
   "execution_count": 77,
   "id": "declared-revolution",
   "metadata": {
    "executionInfo": {
     "elapsed": 457,
     "status": "ok",
     "timestamp": 1620006603857,
     "user": {
      "displayName": "Juan Sardón",
      "photoUrl": "https://lh3.googleusercontent.com/a-/AOh14Gh0hE4Hw8M0I17k-o2PXxLB5i6gNZV_oUTpZlyJ3Q=s64",
      "userId": "08267034058673099115"
     },
     "user_tz": 180
    },
    "id": "JdV3-245VE3n"
   },
   "outputs": [],
   "source": [
    "#print(_hourly_operational_cost_expression(net, m, 10, Escenarios.iloc[10])*Escenarios['dt'][10])\n"
   ]
  },
  {
   "cell_type": "code",
   "execution_count": 49,
   "id": "spiritual-accreditation",
   "metadata": {
    "executionInfo": {
     "elapsed": 881,
     "status": "ok",
     "timestamp": 1620008563612,
     "user": {
      "displayName": "Juan Sardón",
      "photoUrl": "https://lh3.googleusercontent.com/a-/AOh14Gh0hE4Hw8M0I17k-o2PXxLB5i6gNZV_oUTpZlyJ3Q=s64",
      "userId": "08267034058673099115"
     },
     "user_tz": 180
    },
    "id": "v3X0GCrDBj1c",
    "scrolled": true,
    "tags": []
   },
   "outputs": [],
   "source": [
    "def simple_model_writer(net, scenes):\n",
    "    m = pe.ConcreteModel()\n",
    "    M = 1e3\n",
    "\n",
    "    scene_iterator = range(len(scenes))\n",
    "    ##m.p_mw_Ext = pe.Var(Escenarios_i, within = pe.NonNegativeReals, bounds = (0, net.ext_grid['ap_mw'][0]))\n",
    "\n",
    "    #energia comprada a la red\n",
    "    m.p_mw_Ext = pe.Var(itertools.product(range(len(net.ext_grid)), scene_iterator), within = pe.NonNegativeReals)\n",
    "    for v in itertools.product(range(len(net.ext_grid)), scene_iterator):\n",
    "        m.p_mw_Ext[v].setlb(0)\n",
    "        m.p_mw_Ext[v].setub(_element_get_value(net.ext_grid.iloc[v[0]]['pa_pu'], scenes.iloc[v[1]]) * net.ext_grid.iloc[v[0]]['pr_mw'])\n",
    "    \n",
    "    #consumos:\n",
    "    m.p_mw_Load = pe.Var(itertools.product(range(len(net.load)), scene_iterator), within = pe.NonNegativeReals)\n",
    "    for v in itertools.product(range(len(net.load)), scene_iterator):\n",
    "        m.p_mw_Load[v].value = _element_get_value(net.load.iloc[v[0]]['pa_pu'], scenes.iloc[v[1]]) * net.load.iloc[v[0]]['pr_mw'] \n",
    "        m.p_mw_Load[v].fixed = True\n",
    "\n",
    "    #generadores\n",
    "    m.create_SGen = pe.Var(range(len(net.sgen)), within = pe.Binary)\n",
    "    m.pr_mw_SGen = pe.Var(range(len(net.sgen)), within = pe.NonNegativeReals)\n",
    "    m.p_mw_SGen = pe.Var(itertools.product(range(len(net.sgen)), scene_iterator), within = pe.NonNegativeReals)\n",
    "    for v in itertools.product(range(len(net.sgen)), scene_iterator):\n",
    "        if net.sgen['sizeable'][v[0]]:\n",
    "            opt_var_create = m.create_SGen[v[0]]\n",
    "            opt_var_rating = m.pr_mw_SGen[v[0]]\n",
    "        else:\n",
    "            opt_var_create = 1\n",
    "            opt_var_rating = 1.0\n",
    "            raise Exception(\"Not implemented yet\")\n",
    "    #no optimo porque crea todas las v.d. por más que algunas no sean necesarias.\n",
    "    m.p_mw_SGen_constraint = pe.Constraint(itertools.product(range(len(net.sgen)), scene_iterator), \n",
    "                                           rule = (lambda m, g, s: pe.inequality(0, m.p_mw_SGen[(g,s)],  m.pr_mw_SGen[g]*_element_get_valie(net.sgen.iloc[g]['pa_pu'], scenes.iloc[s]) )) )\n",
    "\n",
    "    m.create_SGen_constraint = pe.Constraint(range(len(net.sgen)), \n",
    "                                           rule = (lambda m, g: m.pr_mw_SGen[g] <= m.create_SGen[g]*M))\n",
    "\n",
    "    #power balance constraint\n",
    "    m.power_balance_constraint = pe.Constraint(scene_iterator, \n",
    "                                    rule = (lambda m, s:  _power_balance_expression(net, m, s) == 0))\n",
    "\n",
    "    #obj function\n",
    "    \n",
    "    return m"
   ]
  },
  {
   "cell_type": "code",
   "execution_count": 50,
   "id": "lovely-captain",
   "metadata": {
    "colab": {
     "base_uri": "https://localhost:8080/"
    },
    "executionInfo": {
     "elapsed": 1549,
     "status": "ok",
     "timestamp": 1620008566093,
     "user": {
      "displayName": "Juan Sardón",
      "photoUrl": "https://lh3.googleusercontent.com/a-/AOh14Gh0hE4Hw8M0I17k-o2PXxLB5i6gNZV_oUTpZlyJ3Q=s64",
      "userId": "08267034058673099115"
     },
     "user_tz": 180
    },
    "id": "EMjf11D2GRxe",
    "outputId": "325a51d0-b9c1-44cd-b1d2-1f3037b0ae25"
   },
   "outputs": [
    {
     "data": {
      "text/plain": [
       "<pyomo.core.base.var.IndexedVar at 0x1828a4ae940>"
      ]
     },
     "execution_count": 50,
     "metadata": {},
     "output_type": "execute_result"
    }
   ],
   "source": [
    "m = simple_model_writer(net, Escenarios)\n",
    "\n",
    "m.p_mw_Ext"
   ]
  },
  {
   "cell_type": "code",
   "execution_count": 125,
   "id": "buried-fundamental",
   "metadata": {
    "colab": {
     "base_uri": "https://localhost:8080/"
    },
    "executionInfo": {
     "elapsed": 676,
     "status": "ok",
     "timestamp": 1620007848568,
     "user": {
      "displayName": "Juan Sardón",
      "photoUrl": "https://lh3.googleusercontent.com/a-/AOh14Gh0hE4Hw8M0I17k-o2PXxLB5i6gNZV_oUTpZlyJ3Q=s64",
      "userId": "08267034058673099115"
     },
     "user_tz": 180
    },
    "id": "2uc_Fj-x_auS",
    "outputId": "285a74db-f7fe-4d8d-9324-03dd7861e7a7"
   },
   "outputs": [
    {
     "data": {
      "text/plain": [
       "range(0, 3)"
      ]
     },
     "execution_count": 125,
     "metadata": {
      "tags": []
     },
     "output_type": "execute_result"
    }
   ],
   "source": [
    "range(len(net.sgen))"
   ]
  },
  {
   "cell_type": "code",
   "execution_count": 62,
   "id": "gross-picture",
   "metadata": {
    "colab": {
     "base_uri": "https://localhost:8080/",
     "height": 91
    },
    "executionInfo": {
     "elapsed": 722,
     "status": "ok",
     "timestamp": 1620008698921,
     "user": {
      "displayName": "Juan Sardón",
      "photoUrl": "https://lh3.googleusercontent.com/a-/AOh14Gh0hE4Hw8M0I17k-o2PXxLB5i6gNZV_oUTpZlyJ3Q=s64",
      "userId": "08267034058673099115"
     },
     "user_tz": 180
    },
    "id": "worldwide-satisfaction",
    "outputId": "e079e91b-e048-4e6c-b429-50c15d67e897"
   },
   "outputs": [
    {
     "data": {
      "text/plain": [
       "'p_mw_SGen[0,20] + p_mw_SGen[1,20] + p_mw_SGen[2,20] + p_mw_Ext[0,20] - (p_mw_Load[0,20] + p_mw_Load[1,20] + p_mw_Load[2,20])  ==  0.0'"
      ]
     },
     "execution_count": 62,
     "metadata": {},
     "output_type": "execute_result"
    }
   ],
   "source": [
    "m.power_balance_constraint[20].expr.__str__()"
   ]
  },
  {
   "cell_type": "code",
   "execution_count": 94,
   "id": "ordered-anchor",
   "metadata": {
    "executionInfo": {
     "elapsed": 632,
     "status": "ok",
     "timestamp": 1619968362328,
     "user": {
      "displayName": "Juan Sardón",
      "photoUrl": "https://lh3.googleusercontent.com/a-/AOh14Gh0hE4Hw8M0I17k-o2PXxLB5i6gNZV_oUTpZlyJ3Q=s64",
      "userId": "08267034058673099115"
     },
     "user_tz": 180
    },
    "id": "functional-rolling"
   },
   "outputs": [],
   "source": [
    "#las variables que definien si construir y que potencia\n",
    "m.ap_mw_PV = pe.Var(within = pe.NonNegativeReals)  #Tamano PV\n",
    "m.ap_mw_WT = pe.Var(within = pe.NonNegativeReals)  #Tamano WT\n",
    "\n",
    "m.sgen_PV = pe.Var(within = pe.Binary)\n",
    "m.sgen_WT = pe.Var(within = pe.Binary) "
   ]
  },
  {
   "cell_type": "code",
   "execution_count": null,
   "id": "designing-jones",
   "metadata": {
    "id": "imperial-refund"
   },
   "outputs": [],
   "source": [
    "#despacho de solar y WT disponible\n",
    "m.p_mw_PV = pe.Var(Escenarios_i, within = pe.NonNegativeReals)\n",
    "m.p_mw_WT = pe.Var(Escenarios_i, within = pe.NonNegativeReals)"
   ]
  },
  {
   "cell_type": "code",
   "execution_count": null,
   "id": "narrow-homeless",
   "metadata": {
    "id": "complimentary-handling"
   },
   "outputs": [],
   "source": [
    "#energia comprada a la red\n",
    "m.p_mw_Ext = pe.Var(Escenarios_i, within = pe.NonNegativeReals, bounds = (0, net.ext_grid['ap_mw'][0]))\n",
    "#si puedo exportar:\n",
    "##m.p_mw_Ext = pe.Var(T_i, bounds = (-net.ext_grid['ap_mw'][0], net.ext_grid['ap_mw'][0]))"
   ]
  },
  {
   "cell_type": "code",
   "execution_count": null,
   "id": "focused-consultancy",
   "metadata": {
    "id": "removed-python"
   },
   "outputs": [],
   "source": [
    "#solar_irradiance_simulation(176, 13)"
   ]
  },
  {
   "cell_type": "code",
   "execution_count": 39,
   "id": "acoustic-legislation",
   "metadata": {
    "colab": {
     "base_uri": "https://localhost:8080/",
     "height": 424
    },
    "executionInfo": {
     "elapsed": 1869,
     "status": "ok",
     "timestamp": 1619974629454,
     "user": {
      "displayName": "Juan Sardón",
      "photoUrl": "https://lh3.googleusercontent.com/a-/AOh14Gh0hE4Hw8M0I17k-o2PXxLB5i6gNZV_oUTpZlyJ3Q=s64",
      "userId": "08267034058673099115"
     },
     "user_tz": 180
    },
    "id": "excited-karma",
    "outputId": "bf6ef742-5026-45da-d38e-21c452a5c044"
   },
   "outputs": [
    {
     "data": {
      "text/html": [
       "<div>\n",
       "<style scoped>\n",
       "    .dataframe tbody tr th:only-of-type {\n",
       "        vertical-align: middle;\n",
       "    }\n",
       "\n",
       "    .dataframe tbody tr th {\n",
       "        vertical-align: top;\n",
       "    }\n",
       "\n",
       "    .dataframe thead th {\n",
       "        text-align: right;\n",
       "    }\n",
       "</style>\n",
       "<table border=\"1\" class=\"dataframe\">\n",
       "  <thead>\n",
       "    <tr style=\"text-align: right;\">\n",
       "      <th></th>\n",
       "      <th>y</th>\n",
       "      <th>d</th>\n",
       "      <th>dd</th>\n",
       "      <th>h</th>\n",
       "      <th>dt</th>\n",
       "      <th>temp</th>\n",
       "      <th>I</th>\n",
       "      <th>wv</th>\n",
       "      <th>eg</th>\n",
       "    </tr>\n",
       "  </thead>\n",
       "  <tbody>\n",
       "    <tr>\n",
       "      <th>0</th>\n",
       "      <td>0</td>\n",
       "      <td>0</td>\n",
       "      <td>1.0</td>\n",
       "      <td>0.0</td>\n",
       "      <td>1.0</td>\n",
       "      <td>20.0</td>\n",
       "      <td>0.000000</td>\n",
       "      <td>10.847234</td>\n",
       "      <td>1.0</td>\n",
       "    </tr>\n",
       "    <tr>\n",
       "      <th>1</th>\n",
       "      <td>0</td>\n",
       "      <td>0</td>\n",
       "      <td>1.0</td>\n",
       "      <td>1.0</td>\n",
       "      <td>1.0</td>\n",
       "      <td>20.0</td>\n",
       "      <td>0.000000</td>\n",
       "      <td>4.177821</td>\n",
       "      <td>1.0</td>\n",
       "    </tr>\n",
       "    <tr>\n",
       "      <th>2</th>\n",
       "      <td>0</td>\n",
       "      <td>0</td>\n",
       "      <td>1.0</td>\n",
       "      <td>2.0</td>\n",
       "      <td>1.0</td>\n",
       "      <td>20.0</td>\n",
       "      <td>0.000000</td>\n",
       "      <td>6.604938</td>\n",
       "      <td>1.0</td>\n",
       "    </tr>\n",
       "    <tr>\n",
       "      <th>3</th>\n",
       "      <td>0</td>\n",
       "      <td>0</td>\n",
       "      <td>1.0</td>\n",
       "      <td>3.0</td>\n",
       "      <td>1.0</td>\n",
       "      <td>20.0</td>\n",
       "      <td>0.000000</td>\n",
       "      <td>17.195227</td>\n",
       "      <td>1.0</td>\n",
       "    </tr>\n",
       "    <tr>\n",
       "      <th>4</th>\n",
       "      <td>0</td>\n",
       "      <td>0</td>\n",
       "      <td>1.0</td>\n",
       "      <td>4.0</td>\n",
       "      <td>1.0</td>\n",
       "      <td>20.0</td>\n",
       "      <td>0.000000</td>\n",
       "      <td>5.141486</td>\n",
       "      <td>1.0</td>\n",
       "    </tr>\n",
       "    <tr>\n",
       "      <th>...</th>\n",
       "      <td>...</td>\n",
       "      <td>...</td>\n",
       "      <td>...</td>\n",
       "      <td>...</td>\n",
       "      <td>...</td>\n",
       "      <td>...</td>\n",
       "      <td>...</td>\n",
       "      <td>...</td>\n",
       "      <td>...</td>\n",
       "    </tr>\n",
       "    <tr>\n",
       "      <th>8755</th>\n",
       "      <td>0</td>\n",
       "      <td>364</td>\n",
       "      <td>1.0</td>\n",
       "      <td>19.0</td>\n",
       "      <td>1.0</td>\n",
       "      <td>20.0</td>\n",
       "      <td>204.986298</td>\n",
       "      <td>5.434245</td>\n",
       "      <td>1.0</td>\n",
       "    </tr>\n",
       "    <tr>\n",
       "      <th>8756</th>\n",
       "      <td>0</td>\n",
       "      <td>364</td>\n",
       "      <td>1.0</td>\n",
       "      <td>20.0</td>\n",
       "      <td>1.0</td>\n",
       "      <td>20.0</td>\n",
       "      <td>18.995538</td>\n",
       "      <td>7.570965</td>\n",
       "      <td>1.0</td>\n",
       "    </tr>\n",
       "    <tr>\n",
       "      <th>8757</th>\n",
       "      <td>0</td>\n",
       "      <td>364</td>\n",
       "      <td>1.0</td>\n",
       "      <td>21.0</td>\n",
       "      <td>1.0</td>\n",
       "      <td>20.0</td>\n",
       "      <td>0.000000</td>\n",
       "      <td>7.926038</td>\n",
       "      <td>1.0</td>\n",
       "    </tr>\n",
       "    <tr>\n",
       "      <th>8758</th>\n",
       "      <td>0</td>\n",
       "      <td>364</td>\n",
       "      <td>1.0</td>\n",
       "      <td>22.0</td>\n",
       "      <td>1.0</td>\n",
       "      <td>20.0</td>\n",
       "      <td>0.000000</td>\n",
       "      <td>3.951613</td>\n",
       "      <td>1.0</td>\n",
       "    </tr>\n",
       "    <tr>\n",
       "      <th>8759</th>\n",
       "      <td>0</td>\n",
       "      <td>364</td>\n",
       "      <td>1.0</td>\n",
       "      <td>23.0</td>\n",
       "      <td>1.0</td>\n",
       "      <td>20.0</td>\n",
       "      <td>0.000000</td>\n",
       "      <td>14.285462</td>\n",
       "      <td>1.0</td>\n",
       "    </tr>\n",
       "  </tbody>\n",
       "</table>\n",
       "<p>8760 rows × 9 columns</p>\n",
       "</div>"
      ],
      "text/plain": [
       "      y    d   dd     h   dt  temp           I         wv   eg\n",
       "0     0    0  1.0   0.0  1.0  20.0    0.000000  10.847234  1.0\n",
       "1     0    0  1.0   1.0  1.0  20.0    0.000000   4.177821  1.0\n",
       "2     0    0  1.0   2.0  1.0  20.0    0.000000   6.604938  1.0\n",
       "3     0    0  1.0   3.0  1.0  20.0    0.000000  17.195227  1.0\n",
       "4     0    0  1.0   4.0  1.0  20.0    0.000000   5.141486  1.0\n",
       "...  ..  ...  ...   ...  ...   ...         ...        ...  ...\n",
       "8755  0  364  1.0  19.0  1.0  20.0  204.986298   5.434245  1.0\n",
       "8756  0  364  1.0  20.0  1.0  20.0   18.995538   7.570965  1.0\n",
       "8757  0  364  1.0  21.0  1.0  20.0    0.000000   7.926038  1.0\n",
       "8758  0  364  1.0  22.0  1.0  20.0    0.000000   3.951613  1.0\n",
       "8759  0  364  1.0  23.0  1.0  20.0    0.000000  14.285462  1.0\n",
       "\n",
       "[8760 rows x 9 columns]"
      ]
     },
     "execution_count": 39,
     "metadata": {
      "tags": []
     },
     "output_type": "execute_result"
    }
   ],
   "source": [
    "Escenarios"
   ]
  },
  {
   "cell_type": "code",
   "execution_count": 44,
   "id": "unavailable-address",
   "metadata": {
    "colab": {
     "base_uri": "https://localhost:8080/"
    },
    "executionInfo": {
     "elapsed": 685,
     "status": "ok",
     "timestamp": 1619975498307,
     "user": {
      "displayName": "Juan Sardón",
      "photoUrl": "https://lh3.googleusercontent.com/a-/AOh14Gh0hE4Hw8M0I17k-o2PXxLB5i6gNZV_oUTpZlyJ3Q=s64",
      "userId": "08267034058673099115"
     },
     "user_tz": 180
    },
    "id": "fatal-python",
    "outputId": "8c128ee8-7581-4b33-a7eb-22c15ddee37e"
   },
   "outputs": [
    {
     "data": {
      "text/plain": [
       "20.0"
      ]
     },
     "execution_count": 44,
     "metadata": {
      "tags": []
     },
     "output_type": "execute_result"
    }
   ],
   "source": [
    "Escenarios['temp'][10]"
   ]
  },
  {
   "cell_type": "code",
   "execution_count": null,
   "id": "processed-botswana",
   "metadata": {
    "id": "lonely-jones"
   },
   "outputs": [],
   "source": [
    "#los costos iniciales:\n",
    "costos_iniciales = net.ext_grid['ic_0_mu'][0] + net.load['ic_0_mu'][0] + m.sgen_PV*net.sgen['ic_0_mu'][0] + m.sgen_WT*net.sgen['ic_0_mu'][1] +  \\\n",
    "                   net.ext_grid['ic_1_mu'][0]*0 + net.load['ic_1_mu'][0]*0 + m.ap_mw_PV * net.sgen['ic_1_mu'][0] + m.ap_mw_WT * net.sgen['ic_1_mu'][1]"
   ]
  },
  {
   "cell_type": "code",
   "execution_count": null,
   "id": "ranking-amazon",
   "metadata": {
    "colab": {
     "base_uri": "https://localhost:8080/"
    },
    "executionInfo": {
     "elapsed": 1146,
     "status": "ok",
     "timestamp": 1619871245143,
     "user": {
      "displayName": "Juan Sardón",
      "photoUrl": "https://lh3.googleusercontent.com/a-/AOh14Gh0hE4Hw8M0I17k-o2PXxLB5i6gNZV_oUTpZlyJ3Q=s64",
      "userId": "08267034058673099115"
     },
     "user_tz": 180
    },
    "id": "creative-substance",
    "outputId": "e2460d1e-420c-4a8c-8f82-fd2ee032bb24"
   },
   "outputs": [
    {
     "name": "stdout",
     "output_type": "stream",
     "text": [
      "2.0*sgen_PV + 5.0*sgen_WT + 0.75*ap_mw_PV + 3.0*ap_mw_WT\n"
     ]
    }
   ],
   "source": [
    "print(costos_iniciales)"
   ]
  },
  {
   "cell_type": "code",
   "execution_count": null,
   "id": "foreign-starter",
   "metadata": {
    "id": "physical-basis"
   },
   "outputs": [],
   "source": [
    "costos_variables = sum(m.p_mw_PV[e]*net.sgen['oc_1_mu'][0]*Escenarios['dd'][e]*años+ m.p_mw_WT[e]*net.sgen['oc_1_mu'][1]*Escenarios['dd'][e]*años + m.p_mw_Ext[e]*net.ext_grid['oc_1_mu'][0](Escenarios.loc[e])*Escenarios['dd'][e]*años for e in Escenarios_i)"
   ]
  },
  {
   "cell_type": "code",
   "execution_count": null,
   "id": "several-favor",
   "metadata": {
    "id": "resistant-black"
   },
   "outputs": [],
   "source": [
    "#print(costos_variables)"
   ]
  },
  {
   "cell_type": "code",
   "execution_count": null,
   "id": "outer-handbook",
   "metadata": {
    "id": "efficient-amendment"
   },
   "outputs": [],
   "source": [
    "#costos = costos_iniciales + costos_variables"
   ]
  },
  {
   "cell_type": "code",
   "execution_count": null,
   "id": "artificial-compact",
   "metadata": {
    "id": "unable-integration"
   },
   "outputs": [],
   "source": [
    "#print(costos)"
   ]
  },
  {
   "cell_type": "code",
   "execution_count": null,
   "id": "packed-demand",
   "metadata": {
    "id": "global-senior"
   },
   "outputs": [],
   "source": [
    "m.value = pe.Objective(\n",
    "expr = costos_iniciales + costos_variables,\n",
    "sense = pe.minimize )"
   ]
  },
  {
   "cell_type": "code",
   "execution_count": null,
   "id": "copyrighted-expansion",
   "metadata": {
    "id": "banned-webcam"
   },
   "outputs": [],
   "source": [
    "def hourly_power_balance(m, t):\n",
    "    return m.p_mw_Ext[t] + m.p_mw_PV[t] + m.p_mw_WT[t] - net.load['op_mw'][0](Escenarios.loc[t])*net.load['p_mw'][0] == 0"
   ]
  },
  {
   "cell_type": "code",
   "execution_count": null,
   "id": "wanted-gentleman",
   "metadata": {
    "id": "significant-bearing"
   },
   "outputs": [],
   "source": [
    "m.hourly_power_balance = pe.Constraint(Escenarios_i, rule = hourly_power_balance)"
   ]
  },
  {
   "cell_type": "code",
   "execution_count": null,
   "id": "personal-solomon",
   "metadata": {
    "id": "looking-external"
   },
   "outputs": [],
   "source": [
    "#dimensionamiento solar:\n",
    "m.PV_dim = pe.Constraint(Escenarios_i, rule = (lambda m, t : m.p_mw_PV[t] <= m.ap_mw_PV*net.sgen['ap_mw'][0](Escenarios.loc[t])))"
   ]
  },
  {
   "cell_type": "code",
   "execution_count": null,
   "id": "wrong-birth",
   "metadata": {
    "id": "suited-spirit"
   },
   "outputs": [],
   "source": [
    "m.PV_build = pe.Constraint( expr = m.ap_mw_PV <= m.sgen_PV*M)"
   ]
  },
  {
   "cell_type": "code",
   "execution_count": null,
   "id": "altered-participant",
   "metadata": {
    "id": "boring-macro"
   },
   "outputs": [],
   "source": [
    "#dimensionamiento WT:\n",
    "m.WT_dim = pe.Constraint(Escenarios_i, rule = (lambda m, t : m.p_mw_WT[t] <= m.ap_mw_WT*net.sgen['ap_mw'][1](Escenarios.loc[t])))"
   ]
  },
  {
   "cell_type": "code",
   "execution_count": null,
   "id": "exclusive-liberal",
   "metadata": {
    "id": "adapted-august"
   },
   "outputs": [],
   "source": [
    "m.WT_build = pe.Constraint( expr = m.ap_mw_WT <= m.sgen_WT*M)"
   ]
  },
  {
   "cell_type": "code",
   "execution_count": null,
   "id": "coated-company",
   "metadata": {
    "id": "boxed-bread"
   },
   "outputs": [],
   "source": [
    "#opt = pe.SolverFactory('glpk')\n",
    "#result_obj= opt.solve(m, tee=True)\n",
    "\n",
    "solver_manager = pe.SolverManagerFactory('neos')\n",
    "result_obj = solver_manager.solve(m, opt='cplex')\n",
    "\n"
   ]
  },
  {
   "cell_type": "code",
   "execution_count": null,
   "id": "pacific-tiffany",
   "metadata": {
    "id": "animated-particular"
   },
   "outputs": [],
   "source": [
    "#m.pprint()"
   ]
  },
  {
   "cell_type": "code",
   "execution_count": null,
   "id": "essential-undergraduate",
   "metadata": {
    "colab": {
     "base_uri": "https://localhost:8080/"
    },
    "executionInfo": {
     "elapsed": 125550,
     "status": "ok",
     "timestamp": 1619873429394,
     "user": {
      "displayName": "Juan Sardón",
      "photoUrl": "https://lh3.googleusercontent.com/a-/AOh14Gh0hE4Hw8M0I17k-o2PXxLB5i6gNZV_oUTpZlyJ3Q=s64",
      "userId": "08267034058673099115"
     },
     "user_tz": 180
    },
    "id": "pending-wrestling",
    "outputId": "e5eb9aea-3103-4975-b083-c446c7ed2c2a"
   },
   "outputs": [
    {
     "data": {
      "text/plain": [
       "17.865562198746623"
      ]
     },
     "execution_count": 74,
     "metadata": {
      "tags": []
     },
     "output_type": "execute_result"
    }
   ],
   "source": [
    "getattr(m, 'value').expr()"
   ]
  },
  {
   "cell_type": "code",
   "execution_count": null,
   "id": "artistic-egyptian",
   "metadata": {
    "colab": {
     "base_uri": "https://localhost:8080/"
    },
    "executionInfo": {
     "elapsed": 124095,
     "status": "ok",
     "timestamp": 1619873429396,
     "user": {
      "displayName": "Juan Sardón",
      "photoUrl": "https://lh3.googleusercontent.com/a-/AOh14Gh0hE4Hw8M0I17k-o2PXxLB5i6gNZV_oUTpZlyJ3Q=s64",
      "userId": "08267034058673099115"
     },
     "user_tz": 180
    },
    "id": "global-handy",
    "outputId": "adf89951-786a-4cb2-f3e0-3d50a33b922f"
   },
   "outputs": [
    {
     "data": {
      "text/plain": [
       "1.0"
      ]
     },
     "execution_count": 75,
     "metadata": {
      "tags": []
     },
     "output_type": "execute_result"
    }
   ],
   "source": [
    "getattr(m, 'sgen_WT').value"
   ]
  },
  {
   "cell_type": "code",
   "execution_count": null,
   "id": "endangered-miami",
   "metadata": {
    "colab": {
     "base_uri": "https://localhost:8080/"
    },
    "executionInfo": {
     "elapsed": 123178,
     "status": "ok",
     "timestamp": 1619873429398,
     "user": {
      "displayName": "Juan Sardón",
      "photoUrl": "https://lh3.googleusercontent.com/a-/AOh14Gh0hE4Hw8M0I17k-o2PXxLB5i6gNZV_oUTpZlyJ3Q=s64",
      "userId": "08267034058673099115"
     },
     "user_tz": 180
    },
    "id": "coastal-terrain",
    "outputId": "34eb240e-006a-4c5e-c4ed-0984970857f5"
   },
   "outputs": [
    {
     "data": {
      "text/plain": [
       "0.0"
      ]
     },
     "execution_count": 76,
     "metadata": {
      "tags": []
     },
     "output_type": "execute_result"
    }
   ],
   "source": [
    "getattr(m, 'sgen_PV').value"
   ]
  },
  {
   "cell_type": "code",
   "execution_count": null,
   "id": "according-convergence",
   "metadata": {
    "colab": {
     "base_uri": "https://localhost:8080/"
    },
    "executionInfo": {
     "elapsed": 122512,
     "status": "ok",
     "timestamp": 1619873429400,
     "user": {
      "displayName": "Juan Sardón",
      "photoUrl": "https://lh3.googleusercontent.com/a-/AOh14Gh0hE4Hw8M0I17k-o2PXxLB5i6gNZV_oUTpZlyJ3Q=s64",
      "userId": "08267034058673099115"
     },
     "user_tz": 180
    },
    "id": "swiss-favor",
    "outputId": "c72e5ba8-dc08-4a9a-c670-1edb2761081d"
   },
   "outputs": [
    {
     "data": {
      "text/plain": [
       "0.8390075068758223"
      ]
     },
     "execution_count": 77,
     "metadata": {
      "tags": []
     },
     "output_type": "execute_result"
    }
   ],
   "source": [
    "getattr(m, 'ap_mw_WT').value"
   ]
  },
  {
   "cell_type": "code",
   "execution_count": null,
   "id": "enormous-course",
   "metadata": {
    "colab": {
     "base_uri": "https://localhost:8080/"
    },
    "executionInfo": {
     "elapsed": 121106,
     "status": "ok",
     "timestamp": 1619873429403,
     "user": {
      "displayName": "Juan Sardón",
      "photoUrl": "https://lh3.googleusercontent.com/a-/AOh14Gh0hE4Hw8M0I17k-o2PXxLB5i6gNZV_oUTpZlyJ3Q=s64",
      "userId": "08267034058673099115"
     },
     "user_tz": 180
    },
    "id": "scientific-burning",
    "outputId": "0f7ec8b8-e738-4519-938c-809942a4d67c"
   },
   "outputs": [
    {
     "data": {
      "text/plain": [
       "0.322868746619411"
      ]
     },
     "execution_count": 78,
     "metadata": {
      "tags": []
     },
     "output_type": "execute_result"
    }
   ],
   "source": [
    "getattr(m, 'p_mw_WT')[1005].value"
   ]
  },
  {
   "cell_type": "code",
   "execution_count": null,
   "id": "numerous-departure",
   "metadata": {
    "colab": {
     "base_uri": "https://localhost:8080/"
    },
    "executionInfo": {
     "elapsed": 120272,
     "status": "ok",
     "timestamp": 1619873429404,
     "user": {
      "displayName": "Juan Sardón",
      "photoUrl": "https://lh3.googleusercontent.com/a-/AOh14Gh0hE4Hw8M0I17k-o2PXxLB5i6gNZV_oUTpZlyJ3Q=s64",
      "userId": "08267034058673099115"
     },
     "user_tz": 180
    },
    "id": "coupled-secondary",
    "outputId": "e74369e5-436c-40ad-dfbb-9f3684f546f0"
   },
   "outputs": [
    {
     "data": {
      "text/plain": [
       "0.0"
      ]
     },
     "execution_count": 79,
     "metadata": {
      "tags": []
     },
     "output_type": "execute_result"
    }
   ],
   "source": [
    "getattr(m, 'p_mw_Ext')[8503].value"
   ]
  },
  {
   "cell_type": "code",
   "execution_count": null,
   "id": "forty-henry",
   "metadata": {
    "id": "casual-discovery"
   },
   "outputs": [],
   "source": [
    "#Extracción de resultados en forma de Pandas Dataframe\n",
    "Resultados =  pd.DataFrame([{'time': 0.0, 'p_mw_Ext': 0.0, 'p_mw_WT': 0.0, 'p_mw_PV':0.0, 'p_mw_Load':0.0}], index = Escenarios_i)"
   ]
  },
  {
   "cell_type": "code",
   "execution_count": null,
   "id": "gross-track",
   "metadata": {
    "id": "recovered-policy"
   },
   "outputs": [],
   "source": [
    "for e in Escenarios_i:\n",
    "    esc = Escenarios.loc[e]\n",
    "    Resultados['time'][e] = esc['d'] + esc['h']/24\n",
    "    Resultados['p_mw_Ext'][e] = getattr(m, 'p_mw_Ext')[e].value\n",
    "    Resultados['p_mw_PV'][e] = getattr(m, 'p_mw_PV')[e].value\n",
    "    Resultados['p_mw_WT'][e] = getattr(m, 'p_mw_WT')[e].value\n",
    "    #La información de la carga externa se pierde en el modelo, la tengo que reconstruir\n",
    "    Resultados['p_mw_Load'][e] = Resultados['p_mw_Ext'][e] +  Resultados['p_mw_PV'][e] + Resultados['p_mw_WT'][e]\n",
    "    "
   ]
  },
  {
   "cell_type": "code",
   "execution_count": null,
   "id": "limiting-silicon",
   "metadata": {
    "colab": {
     "base_uri": "https://localhost:8080/",
     "height": 424
    },
    "executionInfo": {
     "elapsed": 699,
     "status": "ok",
     "timestamp": 1619873491559,
     "user": {
      "displayName": "Juan Sardón",
      "photoUrl": "https://lh3.googleusercontent.com/a-/AOh14Gh0hE4Hw8M0I17k-o2PXxLB5i6gNZV_oUTpZlyJ3Q=s64",
      "userId": "08267034058673099115"
     },
     "user_tz": 180
    },
    "id": "tropical-completion",
    "outputId": "082e0a6f-0230-4e8e-b532-e95c63049c68"
   },
   "outputs": [
    {
     "data": {
      "text/html": [
       "<div>\n",
       "<style scoped>\n",
       "    .dataframe tbody tr th:only-of-type {\n",
       "        vertical-align: middle;\n",
       "    }\n",
       "\n",
       "    .dataframe tbody tr th {\n",
       "        vertical-align: top;\n",
       "    }\n",
       "\n",
       "    .dataframe thead th {\n",
       "        text-align: right;\n",
       "    }\n",
       "</style>\n",
       "<table border=\"1\" class=\"dataframe\">\n",
       "  <thead>\n",
       "    <tr style=\"text-align: right;\">\n",
       "      <th></th>\n",
       "      <th>time</th>\n",
       "      <th>p_mw_Ext</th>\n",
       "      <th>p_mw_WT</th>\n",
       "      <th>p_mw_PV</th>\n",
       "      <th>p_mw_Load</th>\n",
       "    </tr>\n",
       "  </thead>\n",
       "  <tbody>\n",
       "    <tr>\n",
       "      <th>0</th>\n",
       "      <td>0.000000</td>\n",
       "      <td>0.000000</td>\n",
       "      <td>0.089499</td>\n",
       "      <td>0.0</td>\n",
       "      <td>0.089499</td>\n",
       "    </tr>\n",
       "    <tr>\n",
       "      <th>1</th>\n",
       "      <td>0.041667</td>\n",
       "      <td>0.000000</td>\n",
       "      <td>0.088897</td>\n",
       "      <td>0.0</td>\n",
       "      <td>0.088897</td>\n",
       "    </tr>\n",
       "    <tr>\n",
       "      <th>2</th>\n",
       "      <td>0.083333</td>\n",
       "      <td>0.035331</td>\n",
       "      <td>0.062923</td>\n",
       "      <td>0.0</td>\n",
       "      <td>0.098254</td>\n",
       "    </tr>\n",
       "    <tr>\n",
       "      <th>3</th>\n",
       "      <td>0.125000</td>\n",
       "      <td>0.000000</td>\n",
       "      <td>0.076909</td>\n",
       "      <td>0.0</td>\n",
       "      <td>0.076909</td>\n",
       "    </tr>\n",
       "    <tr>\n",
       "      <th>4</th>\n",
       "      <td>0.166667</td>\n",
       "      <td>0.000000</td>\n",
       "      <td>0.095610</td>\n",
       "      <td>0.0</td>\n",
       "      <td>0.095610</td>\n",
       "    </tr>\n",
       "    <tr>\n",
       "      <th>...</th>\n",
       "      <td>...</td>\n",
       "      <td>...</td>\n",
       "      <td>...</td>\n",
       "      <td>...</td>\n",
       "      <td>...</td>\n",
       "    </tr>\n",
       "    <tr>\n",
       "      <th>8755</th>\n",
       "      <td>364.791667</td>\n",
       "      <td>0.000000</td>\n",
       "      <td>0.514903</td>\n",
       "      <td>0.0</td>\n",
       "      <td>0.514903</td>\n",
       "    </tr>\n",
       "    <tr>\n",
       "      <th>8756</th>\n",
       "      <td>364.833333</td>\n",
       "      <td>0.000000</td>\n",
       "      <td>0.360741</td>\n",
       "      <td>0.0</td>\n",
       "      <td>0.360741</td>\n",
       "    </tr>\n",
       "    <tr>\n",
       "      <th>8757</th>\n",
       "      <td>364.875000</td>\n",
       "      <td>0.391992</td>\n",
       "      <td>0.013647</td>\n",
       "      <td>0.0</td>\n",
       "      <td>0.405639</td>\n",
       "    </tr>\n",
       "    <tr>\n",
       "      <th>8758</th>\n",
       "      <td>364.916667</td>\n",
       "      <td>0.000000</td>\n",
       "      <td>0.154380</td>\n",
       "      <td>0.0</td>\n",
       "      <td>0.154380</td>\n",
       "    </tr>\n",
       "    <tr>\n",
       "      <th>8759</th>\n",
       "      <td>364.958333</td>\n",
       "      <td>0.000000</td>\n",
       "      <td>0.136128</td>\n",
       "      <td>0.0</td>\n",
       "      <td>0.136128</td>\n",
       "    </tr>\n",
       "  </tbody>\n",
       "</table>\n",
       "<p>8760 rows × 5 columns</p>\n",
       "</div>"
      ],
      "text/plain": [
       "            time  p_mw_Ext   p_mw_WT  p_mw_PV  p_mw_Load\n",
       "0       0.000000  0.000000  0.089499      0.0   0.089499\n",
       "1       0.041667  0.000000  0.088897      0.0   0.088897\n",
       "2       0.083333  0.035331  0.062923      0.0   0.098254\n",
       "3       0.125000  0.000000  0.076909      0.0   0.076909\n",
       "4       0.166667  0.000000  0.095610      0.0   0.095610\n",
       "...          ...       ...       ...      ...        ...\n",
       "8755  364.791667  0.000000  0.514903      0.0   0.514903\n",
       "8756  364.833333  0.000000  0.360741      0.0   0.360741\n",
       "8757  364.875000  0.391992  0.013647      0.0   0.405639\n",
       "8758  364.916667  0.000000  0.154380      0.0   0.154380\n",
       "8759  364.958333  0.000000  0.136128      0.0   0.136128\n",
       "\n",
       "[8760 rows x 5 columns]"
      ]
     },
     "execution_count": 82,
     "metadata": {
      "tags": []
     },
     "output_type": "execute_result"
    }
   ],
   "source": [
    "Resultados"
   ]
  },
  {
   "cell_type": "code",
   "execution_count": null,
   "id": "contained-judge",
   "metadata": {
    "colab": {
     "base_uri": "https://localhost:8080/",
     "height": 388
    },
    "executionInfo": {
     "elapsed": 1336,
     "status": "ok",
     "timestamp": 1619873495814,
     "user": {
      "displayName": "Juan Sardón",
      "photoUrl": "https://lh3.googleusercontent.com/a-/AOh14Gh0hE4Hw8M0I17k-o2PXxLB5i6gNZV_oUTpZlyJ3Q=s64",
      "userId": "08267034058673099115"
     },
     "user_tz": 180
    },
    "id": "planned-memorial",
    "outputId": "11488d44-f6a7-46f5-dd15-9afe980a328c"
   },
   "outputs": [
    {
     "data": {
      "image/png": "[encoded data removed]",
      "text/plain": [
       "<Figure size 720x432 with 1 Axes>"
      ]
     },
     "metadata": {
      "needs_background": "light",
      "tags": []
     },
     "output_type": "display_data"
    }
   ],
   "source": [
    "# Set the plot curve with markers and a title\n",
    "fig, ax = plt.subplots(1, 1)\n",
    "\n",
    "fig.set_size_inches(10,6)\n",
    "ax.plot(Resultados['time'][240:360], Resultados['p_mw_Ext'][240:360], label = 'P Ext')\n",
    "ax.plot(Resultados['time'][240:360], Resultados['p_mw_WT'][240:360], label = 'WT')\n",
    "ax.plot(Resultados['time'][240:360], Resultados['p_mw_PV'][240:360], label = 'PV')\n",
    "ax.plot(Resultados['time'][240:360], Resultados['p_mw_Load'][240:360], label = 'Load')\n",
    "\n",
    "ax.set_xlabel('time')\n",
    "ax.set_ylabel('P[mw]')\n",
    "\n",
    "ax.legend()\n",
    "\n",
    "ax.grid(True)\n",
    "\n",
    "\n",
    "plt.show()"
   ]
  }
 ],
 "metadata": {
  "colab": {
   "name": "Prueba PP-Pyomo-4.ipynb",
   "provenance": []
  },
  "kernelspec": {
   "display_name": "Python 3",
   "language": "python",
   "name": "python3"
  },
  "language_info": {
   "codemirror_mode": {
    "name": "ipython",
    "version": 3
   },
   "file_extension": ".py",
   "mimetype": "text/x-python",
   "name": "python",
   "nbconvert_exporter": "python",
   "pygments_lexer": "ipython3",
   "version": "3.8.8"
  }
 },
 "nbformat": 4,
 "nbformat_minor": 5
}
