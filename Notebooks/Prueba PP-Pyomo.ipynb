{
 "cells": [
  {
   "cell_type": "code",
   "execution_count": 1,
   "id": "meaning-bumper",
   "metadata": {},
   "outputs": [],
   "source": [
    "import pandapower as pp"
   ]
  },
  {
   "cell_type": "code",
   "execution_count": 2,
   "id": "positive-motel",
   "metadata": {},
   "outputs": [],
   "source": [
    "import pyomo.environ as pe"
   ]
  },
  {
   "cell_type": "code",
   "execution_count": 3,
   "id": "smooth-defeat",
   "metadata": {},
   "outputs": [],
   "source": [
    "import math"
   ]
  },
  {
   "cell_type": "code",
   "execution_count": 4,
   "id": "charitable-heart",
   "metadata": {},
   "outputs": [
    {
     "data": {
      "text/plain": [
       "0"
      ]
     },
     "execution_count": 4,
     "metadata": {},
     "output_type": "execute_result"
    }
   ],
   "source": [
    "net = pp.create_empty_network() \n",
    "b1 = pp.create_bus(net, vn_kv=13.2)\n",
    "b2 = pp.create_bus(net, vn_kv=13.2)\n",
    "b3 = pp.create_bus(net, vn_kv=13.2)\n",
    "\n",
    "pp.create_line(net, from_bus=b1, to_bus=b2, length_km=0.8, std_type=\"NAYY 4x50 SE\")\n",
    "pp.create_line(net, from_bus=b2, to_bus=b3, length_km=1.2, std_type=\"NAYY 4x50 SE\")\n",
    "\n",
    "pp.create_ext_grid(net, bus=b1)\n",
    "\n",
    "pp.create_load(net, bus=b3, p_mw=0.350)"
   ]
  },
  {
   "cell_type": "code",
   "execution_count": 5,
   "id": "european-advocacy",
   "metadata": {},
   "outputs": [],
   "source": [
    " pp.runpp(net)"
   ]
  },
  {
   "cell_type": "code",
   "execution_count": null,
   "id": "opponent-chart",
   "metadata": {},
   "outputs": [],
   "source": []
  },
  {
   "cell_type": "code",
   "execution_count": 6,
   "id": "american-sellers",
   "metadata": {},
   "outputs": [
    {
     "name": "stdout",
     "output_type": "stream",
     "text": [
      "0    1.000000\n",
      "1    0.998973\n",
      "2    0.997425\n",
      "Name: vm_pu, dtype: float64\n",
      "   p_from_mw  q_from_mvar   p_to_mw     q_to_mvar     pl_mw   ql_mvar  \\\n",
      "0   0.350909    -0.022814 -0.350545  1.367420e-02  0.000364 -0.009140   \n",
      "1   0.350545    -0.013674 -0.350000 -9.562987e-10  0.000545 -0.013674   \n",
      "\n",
      "   i_from_ka   i_to_ka      i_ka  vm_from_pu  va_from_degree  vm_to_pu  \\\n",
      "0   0.015381  0.015360  0.015381    1.000000        0.000000  0.998973   \n",
      "1   0.015360  0.015348  0.015360    0.998973       -0.010749  0.997425   \n",
      "\n",
      "   va_to_degree  loading_percent  \n",
      "0     -0.010749        10.831460  \n",
      "1     -0.023998        10.816756  \n"
     ]
    }
   ],
   "source": [
    "print(net.res_bus.vm_pu)\n",
    "print(net.res_line)"
   ]
  },
  {
   "cell_type": "code",
   "execution_count": 7,
   "id": "seeing-cornell",
   "metadata": {},
   "outputs": [
    {
     "data": {
      "text/plain": [
       "0"
      ]
     },
     "execution_count": 7,
     "metadata": {},
     "output_type": "execute_result"
    }
   ],
   "source": [
    "pp.create_sgen(net, b2, p_mw=0.05, q_mvar=0.025, max_p_mw=0.2, max_q_mvar=0.2)"
   ]
  },
  {
   "cell_type": "code",
   "execution_count": 8,
   "id": "proved-harvey",
   "metadata": {},
   "outputs": [],
   "source": [
    "pp.runpp(net)"
   ]
  },
  {
   "cell_type": "code",
   "execution_count": 9,
   "id": "demanding-begin",
   "metadata": {},
   "outputs": [
    {
     "name": "stdout",
     "output_type": "stream",
     "text": [
      "0    1.000000\n",
      "1    0.999130\n",
      "2    0.997582\n",
      "Name: vm_pu, dtype: float64\n",
      "   p_from_mw  q_from_mvar   p_to_mw     q_to_mvar     pl_mw   ql_mvar  \\\n",
      "0   0.300817    -0.047832 -0.300544  3.867856e-02  0.000272 -0.009153   \n",
      "1   0.350544    -0.013679 -0.350000 -7.725773e-10  0.000544 -0.013679   \n",
      "\n",
      "   i_from_ka   i_to_ka      i_ka  vm_from_pu  va_from_degree  vm_to_pu  \\\n",
      "0   0.013323  0.013265  0.013323     1.00000        0.000000  0.999130   \n",
      "1   0.015357  0.015346  0.015357     0.99913       -0.013882  0.997582   \n",
      "\n",
      "   va_to_degree  loading_percent  \n",
      "0     -0.013882         9.382118  \n",
      "1     -0.027127        10.815054  \n"
     ]
    }
   ],
   "source": [
    "print(net.res_bus.vm_pu)\n",
    "print(net.res_line)"
   ]
  },
  {
   "cell_type": "code",
   "execution_count": 10,
   "id": "weekly-swedish",
   "metadata": {},
   "outputs": [
    {
     "name": "stdout",
     "output_type": "stream",
     "text": [
      "This pandapower network includes the following parameter tables:\n",
      "   - bus (3 elements)\n",
      "   - load (1 element)\n",
      "   - sgen (1 element)\n",
      "   - ext_grid (1 element)\n",
      "   - line (2 elements)\n",
      " and the following results tables:\n",
      "   - res_bus (3 elements)\n",
      "   - res_line (2 elements)\n",
      "   - res_ext_grid (1 element)\n",
      "   - res_load (1 element)\n",
      "   - res_sgen (1 element)\n"
     ]
    }
   ],
   "source": [
    "print(net)"
   ]
  },
  {
   "cell_type": "markdown",
   "id": "enormous-smile",
   "metadata": {},
   "source": [
    "Agregamos los parámetros del modelo a los elementos de la red."
   ]
  },
  {
   "cell_type": "code",
   "execution_count": 46,
   "id": "clean-characterization",
   "metadata": {},
   "outputs": [],
   "source": [
    "def net_add_optfw(net):\n",
    "    #agregamos parámetros para el costo inicial en forma de un valor constante ic_0 y un valor función lineal de la potencia ic_1\n",
    "    net.ext_grid['ic_0_mu'] = 0.0\n",
    "    net.ext_grid['ic_1_mu'] = 0.0\n",
    "\n",
    "    #idem para costo operativo\n",
    "    net.ext_grid['oc_0_mu'] = 0.0\n",
    "    net.ext_grid['oc_1_mu'] = 0.0\n",
    "\n",
    "    #potencia disponible\n",
    "    net.ext_grid['ap_mw'] = 0.5\n",
    "    \n",
    "    #potencia entregada\n",
    "    net.ext_grid['op_mw'] = 0.0\n",
    "    \n",
    "    #las restricciones pueden ser ninguna, o una lista de restricciones tipo pyomo\n",
    "    net.ext_grid['constraints'] = None\n",
    "\n",
    "    #se repite para la carga y los generadores estáticos\n",
    "    net.load['ic_0_mu'] = 0.0\n",
    "    net.load['ic_1_mu'] = 0.0\n",
    "    net.load['oc_0_mu'] = 0.0\n",
    "    net.load['oc_1_mu'] = 0.0\n",
    "    net.load['ap_mw'] = 0.5\n",
    "    net.load['op_mw'] = 0.0\n",
    "    net.load['constraints'] = None\n",
    "\n",
    "    net.sgen['ic_0_mu'] = 0.0\n",
    "    net.sgen['ic_1_mu'] = 0.0\n",
    "    net.sgen['oc_0_mu'] = 0.0\n",
    "    net.sgen['oc_1_mu'] = 0.0\n",
    "    net.sgen['ap_mw'] = 0.5\n",
    "    net.sgen['op_mw'] = 0.0\n",
    "    net.sgen['constraints'] = None"
   ]
  },
  {
   "cell_type": "code",
   "execution_count": 47,
   "id": "stunning-singles",
   "metadata": {},
   "outputs": [],
   "source": [
    "net_add_optfw(net)"
   ]
  },
  {
   "cell_type": "markdown",
   "id": "perfect-timing",
   "metadata": {},
   "source": [
    "Vemos como queda por ejemplo el elemento de red externa:"
   ]
  },
  {
   "cell_type": "code",
   "execution_count": 48,
   "id": "pretty-typing",
   "metadata": {},
   "outputs": [
    {
     "data": {
      "text/html": [
       "<div>\n",
       "<style scoped>\n",
       "    .dataframe tbody tr th:only-of-type {\n",
       "        vertical-align: middle;\n",
       "    }\n",
       "\n",
       "    .dataframe tbody tr th {\n",
       "        vertical-align: top;\n",
       "    }\n",
       "\n",
       "    .dataframe thead th {\n",
       "        text-align: right;\n",
       "    }\n",
       "</style>\n",
       "<table border=\"1\" class=\"dataframe\">\n",
       "  <thead>\n",
       "    <tr style=\"text-align: right;\">\n",
       "      <th></th>\n",
       "      <th>name</th>\n",
       "      <th>bus</th>\n",
       "      <th>vm_pu</th>\n",
       "      <th>va_degree</th>\n",
       "      <th>in_service</th>\n",
       "      <th>ic_0_mu</th>\n",
       "      <th>ic_1_mu</th>\n",
       "      <th>oc_0_mu</th>\n",
       "      <th>oc_1_mu</th>\n",
       "      <th>ap_mw</th>\n",
       "      <th>op_mw</th>\n",
       "      <th>constraints</th>\n",
       "    </tr>\n",
       "  </thead>\n",
       "  <tbody>\n",
       "    <tr>\n",
       "      <th>0</th>\n",
       "      <td>None</td>\n",
       "      <td>0</td>\n",
       "      <td>1.0</td>\n",
       "      <td>0.0</td>\n",
       "      <td>True</td>\n",
       "      <td>0.0</td>\n",
       "      <td>0.0</td>\n",
       "      <td>0.0</td>\n",
       "      <td>0.0</td>\n",
       "      <td>0.5</td>\n",
       "      <td>0.0</td>\n",
       "      <td>None</td>\n",
       "    </tr>\n",
       "  </tbody>\n",
       "</table>\n",
       "</div>"
      ],
      "text/plain": [
       "   name  bus  vm_pu  va_degree  in_service  ic_0_mu  ic_1_mu  oc_0_mu  \\\n",
       "0  None    0    1.0        0.0        True      0.0      0.0      0.0   \n",
       "\n",
       "   oc_1_mu  ap_mw  op_mw constraints  \n",
       "0      0.0    0.5    0.0        None  "
      ]
     },
     "execution_count": 48,
     "metadata": {},
     "output_type": "execute_result"
    }
   ],
   "source": [
    "net.ext_grid"
   ]
  },
  {
   "cell_type": "markdown",
   "id": "numerous-business",
   "metadata": {},
   "source": [
    "Defino una función normal de Python para que nos va a dar la componente lineal del costo de la energía"
   ]
  },
  {
   "cell_type": "markdown",
   "id": "beneficial-appraisal",
   "metadata": {},
   "source": [
    "Variables que define el modelo:\n",
    "\n",
    "y para el año\n",
    "\n",
    "d para el día del año\n",
    "\n",
    "h para la hora del día\n",
    "\n",
    "dt la granularidad del modelo, en horas\n",
    "\n",
    "\n",
    "temp la temperatura\n",
    "\n",
    "wv la velocidad del viento\n",
    "\n",
    "I la irradiación solar\n",
    "\n",
    "\n",
    "eg el crecimiento económico en pu respecto al año 0\n",
    "\n",
    "\n",
    "Estas variables llegan como parámetros en forma de diccionario en el argumento 'model_status' (ver este nombre)\n",
    "\n",
    "Todas las funciones reciben este argumento, la lógica de la función indica que valor retorna. Pr ejemplo, si la granularidad es 24 h, debe retornar el valor medio del parámetro producido."
   ]
  },
  {
   "cell_type": "code",
   "execution_count": 49,
   "id": "nervous-reporter",
   "metadata": {},
   "outputs": [],
   "source": [
    "def oc_1_ext_grid(model_status={}):\n",
    "    #modelo sencillo con dos precios, uno entre 0 a 18 y otro de 18 a 24\n",
    "    res = 0.0\n",
    "    sx = 1e-6\n",
    "    if 'h' in model_status:\n",
    "        h = model_status['h']\n",
    "        if 0.0 <= h and h < 18.0:\n",
    "            res = 3600.0*sx\n",
    "        elif 18 <= h and h < 24.0:\n",
    "            res = 5400.0*sx\n",
    "        else:\n",
    "            raise ValueError(\"Hour outside model range\")\n",
    "    else:\n",
    "        raise ValueError(\"Hour not defined\")\n",
    "    \n",
    "    return res"
   ]
  },
  {
   "cell_type": "code",
   "execution_count": 50,
   "id": "international-participant",
   "metadata": {},
   "outputs": [],
   "source": [
    "#test:\n",
    "#m_s = {'y': 0, 'd': 180, 'h': 14.0, 'dt': 1.0, 'temp': 12.0, 'wv': 10.0, 'eg': 1.0}\n",
    "\n",
    "#oc_1_ext_grid(m_s)"
   ]
  },
  {
   "cell_type": "code",
   "execution_count": 51,
   "id": "confidential-thumb",
   "metadata": {},
   "outputs": [],
   "source": [
    "#20 hs: 5400\n",
    "#m_s['h'] = 20.5\n",
    "#oc_1_ext_grid(m_s)"
   ]
  },
  {
   "cell_type": "code",
   "execution_count": 52,
   "id": "intermediate-platinum",
   "metadata": {},
   "outputs": [],
   "source": [
    "#25 hs: error\n",
    "#m_s['h'] = 25\n",
    "#oc_1_ext_grid(m_s)"
   ]
  },
  {
   "cell_type": "code",
   "execution_count": 53,
   "id": "early-meter",
   "metadata": {},
   "outputs": [],
   "source": [
    "net.ext_grid['oc_1_mu'][0] = oc_1_ext_grid"
   ]
  },
  {
   "cell_type": "code",
   "execution_count": 54,
   "id": "persistent-massage",
   "metadata": {},
   "outputs": [
    {
     "data": {
      "text/html": [
       "<div>\n",
       "<style scoped>\n",
       "    .dataframe tbody tr th:only-of-type {\n",
       "        vertical-align: middle;\n",
       "    }\n",
       "\n",
       "    .dataframe tbody tr th {\n",
       "        vertical-align: top;\n",
       "    }\n",
       "\n",
       "    .dataframe thead th {\n",
       "        text-align: right;\n",
       "    }\n",
       "</style>\n",
       "<table border=\"1\" class=\"dataframe\">\n",
       "  <thead>\n",
       "    <tr style=\"text-align: right;\">\n",
       "      <th></th>\n",
       "      <th>name</th>\n",
       "      <th>bus</th>\n",
       "      <th>vm_pu</th>\n",
       "      <th>va_degree</th>\n",
       "      <th>in_service</th>\n",
       "      <th>ic_0_mu</th>\n",
       "      <th>ic_1_mu</th>\n",
       "      <th>oc_0_mu</th>\n",
       "      <th>oc_1_mu</th>\n",
       "      <th>ap_mw</th>\n",
       "      <th>op_mw</th>\n",
       "      <th>constraints</th>\n",
       "    </tr>\n",
       "  </thead>\n",
       "  <tbody>\n",
       "    <tr>\n",
       "      <th>0</th>\n",
       "      <td>None</td>\n",
       "      <td>0</td>\n",
       "      <td>1.0</td>\n",
       "      <td>0.0</td>\n",
       "      <td>True</td>\n",
       "      <td>0.0</td>\n",
       "      <td>0.0</td>\n",
       "      <td>0.0</td>\n",
       "      <td>&lt;function oc_1_ext_grid at 0x000001D147339820&gt;</td>\n",
       "      <td>0.5</td>\n",
       "      <td>0.0</td>\n",
       "      <td>None</td>\n",
       "    </tr>\n",
       "  </tbody>\n",
       "</table>\n",
       "</div>"
      ],
      "text/plain": [
       "   name  bus  vm_pu  va_degree  in_service  ic_0_mu  ic_1_mu  oc_0_mu  \\\n",
       "0  None    0    1.0        0.0        True      0.0      0.0      0.0   \n",
       "\n",
       "                                          oc_1_mu  ap_mw  op_mw constraints  \n",
       "0  <function oc_1_ext_grid at 0x000001D147339820>    0.5    0.0        None  "
      ]
     },
     "execution_count": 54,
     "metadata": {},
     "output_type": "execute_result"
    }
   ],
   "source": [
    "net.ext_grid"
   ]
  },
  {
   "cell_type": "code",
   "execution_count": 55,
   "id": "latest-continent",
   "metadata": {},
   "outputs": [],
   "source": [
    "def demand(model_status={}):\n",
    "    #modelo sencillo en forma de escalones\n",
    "    #devuelvr la fracción de la carga empleada\n",
    "    res = 0.0\n",
    "    if 'h' in model_status:\n",
    "        h = model_status['h']\n",
    "        if 0.0 <= h and h < 6.0:\n",
    "            res = 0.2\n",
    "        elif 6.0 <= h and h < 8.0:\n",
    "            res = 0.4\n",
    "        elif 8.0 <= h and h < 18.0:\n",
    "            res = 0.5\n",
    "        elif 18.0 <= h and h < 22.0:\n",
    "            res = 1.0\n",
    "        elif 22.0 <= h and h < 24.0:\n",
    "            res = 0.3            \n",
    "        else:\n",
    "            raise ValueError(\"Hour outside model range\")\n",
    "    else:\n",
    "        raise ValueError(\"Hour not defined\")\n",
    "    \n",
    "    return res"
   ]
  },
  {
   "cell_type": "code",
   "execution_count": 56,
   "id": "moved-recording",
   "metadata": {},
   "outputs": [],
   "source": [
    "net.load['op_mw'][0] = demand"
   ]
  },
  {
   "cell_type": "code",
   "execution_count": 57,
   "id": "simplified-hampshire",
   "metadata": {},
   "outputs": [
    {
     "data": {
      "text/html": [
       "<div>\n",
       "<style scoped>\n",
       "    .dataframe tbody tr th:only-of-type {\n",
       "        vertical-align: middle;\n",
       "    }\n",
       "\n",
       "    .dataframe tbody tr th {\n",
       "        vertical-align: top;\n",
       "    }\n",
       "\n",
       "    .dataframe thead th {\n",
       "        text-align: right;\n",
       "    }\n",
       "</style>\n",
       "<table border=\"1\" class=\"dataframe\">\n",
       "  <thead>\n",
       "    <tr style=\"text-align: right;\">\n",
       "      <th></th>\n",
       "      <th>name</th>\n",
       "      <th>bus</th>\n",
       "      <th>p_mw</th>\n",
       "      <th>q_mvar</th>\n",
       "      <th>const_z_percent</th>\n",
       "      <th>const_i_percent</th>\n",
       "      <th>sn_mva</th>\n",
       "      <th>scaling</th>\n",
       "      <th>in_service</th>\n",
       "      <th>type</th>\n",
       "      <th>ic_0_mu</th>\n",
       "      <th>ic_1_mu</th>\n",
       "      <th>oc_0_mu</th>\n",
       "      <th>oc_1_mu</th>\n",
       "      <th>ap_mw</th>\n",
       "      <th>op_mw</th>\n",
       "      <th>constraints</th>\n",
       "    </tr>\n",
       "  </thead>\n",
       "  <tbody>\n",
       "    <tr>\n",
       "      <th>0</th>\n",
       "      <td>None</td>\n",
       "      <td>2</td>\n",
       "      <td>0.35</td>\n",
       "      <td>0.0</td>\n",
       "      <td>0.0</td>\n",
       "      <td>0.0</td>\n",
       "      <td>NaN</td>\n",
       "      <td>1.0</td>\n",
       "      <td>True</td>\n",
       "      <td>wye</td>\n",
       "      <td>0.0</td>\n",
       "      <td>0.0</td>\n",
       "      <td>0.0</td>\n",
       "      <td>0.0</td>\n",
       "      <td>0.5</td>\n",
       "      <td>&lt;function demand at 0x000001D1499CB4C0&gt;</td>\n",
       "      <td>None</td>\n",
       "    </tr>\n",
       "  </tbody>\n",
       "</table>\n",
       "</div>"
      ],
      "text/plain": [
       "   name  bus  p_mw  q_mvar  const_z_percent  const_i_percent  sn_mva  scaling  \\\n",
       "0  None    2  0.35     0.0              0.0              0.0     NaN      1.0   \n",
       "\n",
       "   in_service type  ic_0_mu  ic_1_mu  oc_0_mu  oc_1_mu  ap_mw  \\\n",
       "0        True  wye      0.0      0.0      0.0      0.0    0.5   \n",
       "\n",
       "                                     op_mw constraints  \n",
       "0  <function demand at 0x000001D1499CB4C0>        None  "
      ]
     },
     "execution_count": 57,
     "metadata": {},
     "output_type": "execute_result"
    }
   ],
   "source": [
    "net.load"
   ]
  },
  {
   "cell_type": "code",
   "execution_count": 58,
   "id": "fluid-sweden",
   "metadata": {},
   "outputs": [],
   "source": [
    "def solar_output(model_status={}):\n",
    "    #modelo sencillo\n",
    "    #devuelvr la fracción de la potencia entregada en función del tiempo\n",
    "    #no toma en cuenta la radicación solar ni la temperatura\n",
    "    res = 0.0\n",
    "    if 'h' in model_status:\n",
    "        h = model_status['h']\n",
    "        if 0.0 <= h and h < 8.0:\n",
    "            res = 0.0\n",
    "        elif 8.0 <= h and h < 18.0:\n",
    "            res = math.exp(-(h-13.0)**2/8)\n",
    "        elif 18.0 <= h and h < 24.0:\n",
    "            res = 0.0\n",
    "        else:\n",
    "            raise ValueError(\"Hour outside model range\")\n",
    "    else:\n",
    "        raise ValueError(\"Hour not defined\")\n",
    "    \n",
    "    return res"
   ]
  },
  {
   "cell_type": "code",
   "execution_count": 59,
   "id": "lonely-noise",
   "metadata": {},
   "outputs": [],
   "source": [
    "#test:\n",
    "#m_s = {'y': 0, 'd': 180, 'h': 43.0, 'dt': 1.0, 'temp': 12.0, 'wv': 10.0, 'eg': 1.0}\n",
    "#solar_output(m_s)"
   ]
  },
  {
   "cell_type": "code",
   "execution_count": 60,
   "id": "threatened-theorem",
   "metadata": {},
   "outputs": [],
   "source": [
    "net.sgen['name'][0] = 'PV1'\n",
    "net.sgen['ap_mw'][0] = solar_output\n",
    "net.sgen['ic_0_mu'][0] = 0.02\n",
    "net.sgen['ic_1_mu'][0] = 3*0.75\n",
    "net.sgen['oc_0_mu'][0] = 0.0\n",
    "net.sgen['oc_1_mu'][0] = 500e-6\n"
   ]
  },
  {
   "cell_type": "code",
   "execution_count": 61,
   "id": "appropriate-secret",
   "metadata": {},
   "outputs": [
    {
     "data": {
      "text/html": [
       "<div>\n",
       "<style scoped>\n",
       "    .dataframe tbody tr th:only-of-type {\n",
       "        vertical-align: middle;\n",
       "    }\n",
       "\n",
       "    .dataframe tbody tr th {\n",
       "        vertical-align: top;\n",
       "    }\n",
       "\n",
       "    .dataframe thead th {\n",
       "        text-align: right;\n",
       "    }\n",
       "</style>\n",
       "<table border=\"1\" class=\"dataframe\">\n",
       "  <thead>\n",
       "    <tr style=\"text-align: right;\">\n",
       "      <th></th>\n",
       "      <th>name</th>\n",
       "      <th>bus</th>\n",
       "      <th>p_mw</th>\n",
       "      <th>q_mvar</th>\n",
       "      <th>sn_mva</th>\n",
       "      <th>scaling</th>\n",
       "      <th>in_service</th>\n",
       "      <th>type</th>\n",
       "      <th>current_source</th>\n",
       "      <th>max_p_mw</th>\n",
       "      <th>max_q_mvar</th>\n",
       "      <th>ic_0_mu</th>\n",
       "      <th>ic_1_mu</th>\n",
       "      <th>oc_0_mu</th>\n",
       "      <th>oc_1_mu</th>\n",
       "      <th>ap_mw</th>\n",
       "      <th>op_mw</th>\n",
       "      <th>constraints</th>\n",
       "    </tr>\n",
       "  </thead>\n",
       "  <tbody>\n",
       "    <tr>\n",
       "      <th>0</th>\n",
       "      <td>PV1</td>\n",
       "      <td>1</td>\n",
       "      <td>0.05</td>\n",
       "      <td>0.025</td>\n",
       "      <td>NaN</td>\n",
       "      <td>1.0</td>\n",
       "      <td>True</td>\n",
       "      <td>wye</td>\n",
       "      <td>True</td>\n",
       "      <td>0.2</td>\n",
       "      <td>0.2</td>\n",
       "      <td>0.02</td>\n",
       "      <td>2.25</td>\n",
       "      <td>0.0</td>\n",
       "      <td>0.0005</td>\n",
       "      <td>&lt;function solar_output at 0x000001D1376645E0&gt;</td>\n",
       "      <td>0.0</td>\n",
       "      <td>None</td>\n",
       "    </tr>\n",
       "  </tbody>\n",
       "</table>\n",
       "</div>"
      ],
      "text/plain": [
       "  name  bus  p_mw  q_mvar  sn_mva  scaling  in_service type  current_source  \\\n",
       "0  PV1    1  0.05   0.025     NaN      1.0        True  wye            True   \n",
       "\n",
       "   max_p_mw  max_q_mvar  ic_0_mu  ic_1_mu  oc_0_mu  oc_1_mu  \\\n",
       "0       0.2         0.2     0.02     2.25      0.0   0.0005   \n",
       "\n",
       "                                           ap_mw  op_mw constraints  \n",
       "0  <function solar_output at 0x000001D1376645E0>    0.0        None  "
      ]
     },
     "execution_count": 61,
     "metadata": {},
     "output_type": "execute_result"
    }
   ],
   "source": [
    "net.sgen"
   ]
  },
  {
   "cell_type": "markdown",
   "id": "another-invalid",
   "metadata": {},
   "source": [
    "Primero construyo un modelo manualmente:\n",
    "\n",
    "Es un modelo de dimensionamiento del único DER que es la planta solar."
   ]
  },
  {
   "cell_type": "code",
   "execution_count": 62,
   "id": "danish-capital",
   "metadata": {},
   "outputs": [],
   "source": [
    "m = pe.ConcreteModel()"
   ]
  },
  {
   "cell_type": "code",
   "execution_count": 63,
   "id": "metric-pickup",
   "metadata": {},
   "outputs": [],
   "source": [
    "dias = 365\n",
    "años = 5"
   ]
  },
  {
   "cell_type": "code",
   "execution_count": 64,
   "id": "understood-quebec",
   "metadata": {},
   "outputs": [],
   "source": [
    "#el rango de horas:\n",
    "T_i = range(24)"
   ]
  },
  {
   "cell_type": "code",
   "execution_count": 65,
   "id": "qualified-unknown",
   "metadata": {},
   "outputs": [],
   "source": [
    "#las variables\n",
    "m.ap_mw_PV= pe.Var(within = pe.NonNegativeReals)"
   ]
  },
  {
   "cell_type": "code",
   "execution_count": 66,
   "id": "bridal-george",
   "metadata": {},
   "outputs": [],
   "source": [
    "#despacho de solar disponible\n",
    "m.p_mw_PV = pe.Var(T_i, within = pe.NonNegativeReals)"
   ]
  },
  {
   "cell_type": "code",
   "execution_count": 67,
   "id": "organizational-portfolio",
   "metadata": {},
   "outputs": [],
   "source": [
    "#energia comprada a la red\n",
    "##m.p_mw_Ext = pe.Var(T_i, within = pe.NonNegativeReals, bounds = (0, net.ext_grid['ap_mw'][0]))\n",
    "#si puedo exportar:\n",
    "m.p_mw_Ext = pe.Var(T_i, bounds = (-net.ext_grid['ap_mw'][0], net.ext_grid['ap_mw'][0]))"
   ]
  },
  {
   "cell_type": "code",
   "execution_count": 68,
   "id": "processed-welcome",
   "metadata": {},
   "outputs": [],
   "source": [
    "#el rango de condiciones:\n",
    "m_s = {'y': 0, 'd': 180, 'h': 43.0, 'dt': 1.0, 'temp': 12.0, 'wv': 10.0, 'eg': 1.0}\n",
    "\n",
    "Escenarios_i = []\n",
    "for t in T_i:\n",
    "    Escenarios_i.append({'y': 0, 'd': 180, 'h': 1.0*t, 'dt': 1.0, 'temp': 12.0, 'wv': 10.0, 'eg': 1.0})\n"
   ]
  },
  {
   "cell_type": "code",
   "execution_count": 69,
   "id": "digital-crossing",
   "metadata": {},
   "outputs": [],
   "source": [
    "#los costos iniciales:\n",
    "costos_iniciales = net.ext_grid['ic_0_mu'][0] + net.load['ic_0_mu'][0] + net.sgen['ic_0_mu'][0] + \\\n",
    "                   net.ext_grid['ic_1_mu'][0]*0 + net.load['ic_1_mu'][0]*0 + m.ap_mw_PV * net.sgen['ic_1_mu'][0]"
   ]
  },
  {
   "cell_type": "code",
   "execution_count": 70,
   "id": "occupational-nylon",
   "metadata": {},
   "outputs": [
    {
     "name": "stdout",
     "output_type": "stream",
     "text": [
      "0.02 + 2.25*ap_mw_PV\n"
     ]
    }
   ],
   "source": [
    "print(costos_iniciales)"
   ]
  },
  {
   "cell_type": "code",
   "execution_count": 71,
   "id": "based-upset",
   "metadata": {},
   "outputs": [],
   "source": [
    "costos_variables = sum(m.p_mw_PV[t]*net.sgen['oc_1_mu'][0]*dias*años + m.p_mw_Ext[t]*net.ext_grid['oc_1_mu'][0](Escenarios_i[t])*dias*años for t in T_i)"
   ]
  },
  {
   "cell_type": "code",
   "execution_count": 72,
   "id": "prompt-domestic",
   "metadata": {},
   "outputs": [
    {
     "name": "stdout",
     "output_type": "stream",
     "text": [
      "0.9125*p_mw_PV[0] + 6.57*p_mw_Ext[0] + 0.9125*p_mw_PV[1] + 6.57*p_mw_Ext[1] + 0.9125*p_mw_PV[2] + 6.57*p_mw_Ext[2] + 0.9125*p_mw_PV[3] + 6.57*p_mw_Ext[3] + 0.9125*p_mw_PV[4] + 6.57*p_mw_Ext[4] + 0.9125*p_mw_PV[5] + 6.57*p_mw_Ext[5] + 0.9125*p_mw_PV[6] + 6.57*p_mw_Ext[6] + 0.9125*p_mw_PV[7] + 6.57*p_mw_Ext[7] + 0.9125*p_mw_PV[8] + 6.57*p_mw_Ext[8] + 0.9125*p_mw_PV[9] + 6.57*p_mw_Ext[9] + 0.9125*p_mw_PV[10] + 6.57*p_mw_Ext[10] + 0.9125*p_mw_PV[11] + 6.57*p_mw_Ext[11] + 0.9125*p_mw_PV[12] + 6.57*p_mw_Ext[12] + 0.9125*p_mw_PV[13] + 6.57*p_mw_Ext[13] + 0.9125*p_mw_PV[14] + 6.57*p_mw_Ext[14] + 0.9125*p_mw_PV[15] + 6.57*p_mw_Ext[15] + 0.9125*p_mw_PV[16] + 6.57*p_mw_Ext[16] + 0.9125*p_mw_PV[17] + 6.57*p_mw_Ext[17] + 0.9125*p_mw_PV[18] + 9.854999999999999*p_mw_Ext[18] + 0.9125*p_mw_PV[19] + 9.854999999999999*p_mw_Ext[19] + 0.9125*p_mw_PV[20] + 9.854999999999999*p_mw_Ext[20] + 0.9125*p_mw_PV[21] + 9.854999999999999*p_mw_Ext[21] + 0.9125*p_mw_PV[22] + 9.854999999999999*p_mw_Ext[22] + 0.9125*p_mw_PV[23] + 9.854999999999999*p_mw_Ext[23]\n"
     ]
    }
   ],
   "source": [
    "print(costos_variables)"
   ]
  },
  {
   "cell_type": "code",
   "execution_count": 73,
   "id": "expected-growth",
   "metadata": {},
   "outputs": [],
   "source": [
    "costos = costos_iniciales + costos_variables"
   ]
  },
  {
   "cell_type": "code",
   "execution_count": 74,
   "id": "military-james",
   "metadata": {},
   "outputs": [
    {
     "name": "stdout",
     "output_type": "stream",
     "text": [
      "0.02 + 2.25*ap_mw_PV + 0.9125*p_mw_PV[0] + 6.57*p_mw_Ext[0] + 0.9125*p_mw_PV[1] + 6.57*p_mw_Ext[1] + 0.9125*p_mw_PV[2] + 6.57*p_mw_Ext[2] + 0.9125*p_mw_PV[3] + 6.57*p_mw_Ext[3] + 0.9125*p_mw_PV[4] + 6.57*p_mw_Ext[4] + 0.9125*p_mw_PV[5] + 6.57*p_mw_Ext[5] + 0.9125*p_mw_PV[6] + 6.57*p_mw_Ext[6] + 0.9125*p_mw_PV[7] + 6.57*p_mw_Ext[7] + 0.9125*p_mw_PV[8] + 6.57*p_mw_Ext[8] + 0.9125*p_mw_PV[9] + 6.57*p_mw_Ext[9] + 0.9125*p_mw_PV[10] + 6.57*p_mw_Ext[10] + 0.9125*p_mw_PV[11] + 6.57*p_mw_Ext[11] + 0.9125*p_mw_PV[12] + 6.57*p_mw_Ext[12] + 0.9125*p_mw_PV[13] + 6.57*p_mw_Ext[13] + 0.9125*p_mw_PV[14] + 6.57*p_mw_Ext[14] + 0.9125*p_mw_PV[15] + 6.57*p_mw_Ext[15] + 0.9125*p_mw_PV[16] + 6.57*p_mw_Ext[16] + 0.9125*p_mw_PV[17] + 6.57*p_mw_Ext[17] + 0.9125*p_mw_PV[18] + 9.854999999999999*p_mw_Ext[18] + 0.9125*p_mw_PV[19] + 9.854999999999999*p_mw_Ext[19] + 0.9125*p_mw_PV[20] + 9.854999999999999*p_mw_Ext[20] + 0.9125*p_mw_PV[21] + 9.854999999999999*p_mw_Ext[21] + 0.9125*p_mw_PV[22] + 9.854999999999999*p_mw_Ext[22] + 0.9125*p_mw_PV[23] + 9.854999999999999*p_mw_Ext[23]\n"
     ]
    }
   ],
   "source": [
    "print(costos)"
   ]
  },
  {
   "cell_type": "code",
   "execution_count": 75,
   "id": "ongoing-fluid",
   "metadata": {},
   "outputs": [],
   "source": [
    "m.value = pe.Objective(\n",
    "expr = costos_iniciales + costos_variables,\n",
    "sense = pe.minimize )"
   ]
  },
  {
   "cell_type": "code",
   "execution_count": 76,
   "id": "bored-nursing",
   "metadata": {},
   "outputs": [],
   "source": [
    "def hourly_power_balance(m, t):\n",
    "    return m.p_mw_Ext[t] + m.p_mw_PV[t] - net.load['op_mw'][0](Escenarios_i[t])*net.load['p_mw'][0] == 0"
   ]
  },
  {
   "cell_type": "code",
   "execution_count": 77,
   "id": "unable-litigation",
   "metadata": {},
   "outputs": [],
   "source": [
    "m.hourly_power_balance = pe.Constraint(T_i, rule = hourly_power_balance)"
   ]
  },
  {
   "cell_type": "code",
   "execution_count": 78,
   "id": "dried-directory",
   "metadata": {},
   "outputs": [],
   "source": [
    "#dimensionamiento solar:\n",
    "m.PV_dim = pe.Constraint(T_i, rule = (lambda m, t : m.p_mw_PV[t] <= m.ap_mw_PV*net.sgen['ap_mw'][0](Escenarios_i[t])))"
   ]
  },
  {
   "cell_type": "code",
   "execution_count": 79,
   "id": "formed-bowling",
   "metadata": {},
   "outputs": [
    {
     "name": "stdout",
     "output_type": "stream",
     "text": [
      "GLPSOL: GLPK LP/MIP Solver, v4.65\n",
      "Parameter(s) specified in the command line:\n",
      " --write C:\\Users\\jmsar\\AppData\\Local\\Temp\\tmpevojvhha.glpk.raw --wglp C:\\Users\\jmsar\\AppData\\Local\\Temp\\tmpdre7p17w.glpk.glp\n",
      " --cpxlp C:\\Users\\jmsar\\AppData\\Local\\Temp\\tmps5ibydiw.pyomo.lp\n",
      "Reading problem data from 'C:\\Users\\jmsar\\AppData\\Local\\Temp\\tmps5ibydiw.pyomo.lp'...\n",
      "49 rows, 50 columns, 83 non-zeros\n",
      "337 lines were read\n",
      "Writing problem data to 'C:\\Users\\jmsar\\AppData\\Local\\Temp\\tmpdre7p17w.glpk.glp'...\n",
      "308 lines were written\n",
      "GLPK Simplex Optimizer, v4.65\n",
      "49 rows, 50 columns, 83 non-zeros\n",
      "Preprocessing...\n",
      "10 rows, 11 columns, 20 non-zeros\n",
      "Scaling...\n",
      " A: min|aij| =  4.394e-02  max|aij| =  1.000e+00  ratio =  2.276e+01\n",
      "GM: min|aij| =  9.523e-01  max|aij| =  1.050e+00  ratio =  1.103e+00\n",
      "EQ: min|aij| =  9.523e-01  max|aij| =  1.000e+00  ratio =  1.050e+00\n",
      "Constructing initial basis...\n",
      "Size of triangular part is 10\n",
      "*     0: obj =   3.198305000e+01 inf =   0.000e+00 (10)\n",
      "*    17: obj =   6.228785985e+00 inf =   0.000e+00 (0)\n",
      "OPTIMAL LP SOLUTION FOUND\n",
      "Time used:   0.0 secs\n",
      "Memory used: 0.1 Mb (64604 bytes)\n",
      "Writing basic solution to 'C:\\Users\\jmsar\\AppData\\Local\\Temp\\tmpevojvhha.glpk.raw'...\n",
      "108 lines were written\n"
     ]
    }
   ],
   "source": [
    "opt = pe.SolverFactory('glpk')\n",
    "\n",
    "result_obj= opt.solve(m, tee=True)"
   ]
  },
  {
   "cell_type": "code",
   "execution_count": 80,
   "id": "damaged-motel",
   "metadata": {},
   "outputs": [
    {
     "name": "stdout",
     "output_type": "stream",
     "text": [
      "4 Set Declarations\n",
      "    PV_dim_index : Size=1, Index=None, Ordered=False\n",
      "        Key  : Dimen : Domain : Size : Members\n",
      "        None :     1 :    Any :   24 : {0, 1, 2, 3, 4, 5, 6, 7, 8, 9, 10, 11, 12, 13, 14, 15, 16, 17, 18, 19, 20, 21, 22, 23}\n",
      "    hourly_power_balance_index : Size=1, Index=None, Ordered=False\n",
      "        Key  : Dimen : Domain : Size : Members\n",
      "        None :     1 :    Any :   24 : {0, 1, 2, 3, 4, 5, 6, 7, 8, 9, 10, 11, 12, 13, 14, 15, 16, 17, 18, 19, 20, 21, 22, 23}\n",
      "    p_mw_Ext_index : Size=1, Index=None, Ordered=False\n",
      "        Key  : Dimen : Domain : Size : Members\n",
      "        None :     1 :    Any :   24 : {0, 1, 2, 3, 4, 5, 6, 7, 8, 9, 10, 11, 12, 13, 14, 15, 16, 17, 18, 19, 20, 21, 22, 23}\n",
      "    p_mw_PV_index : Size=1, Index=None, Ordered=False\n",
      "        Key  : Dimen : Domain : Size : Members\n",
      "        None :     1 :    Any :   24 : {0, 1, 2, 3, 4, 5, 6, 7, 8, 9, 10, 11, 12, 13, 14, 15, 16, 17, 18, 19, 20, 21, 22, 23}\n",
      "\n",
      "3 Var Declarations\n",
      "    ap_mw_PV : Size=1, Index=None\n",
      "        Key  : Lower : Value            : Upper : Fixed : Stale : Domain\n",
      "        None :     0 : 2.07914637301967 :  None : False : False : NonNegativeReals\n",
      "    p_mw_Ext : Size=24, Index=p_mw_Ext_index\n",
      "        Key : Lower : Value              : Upper : Fixed : Stale : Domain\n",
      "          0 :  -0.5 :               0.07 :   0.5 : False : False :  Reals\n",
      "          1 :  -0.5 :               0.07 :   0.5 : False : False :  Reals\n",
      "          2 :  -0.5 :               0.07 :   0.5 : False : False :  Reals\n",
      "          3 :  -0.5 :               0.07 :   0.5 : False : False :  Reals\n",
      "          4 :  -0.5 :               0.07 :   0.5 : False : False :  Reals\n",
      "          5 :  -0.5 :               0.07 :   0.5 : False : False :  Reals\n",
      "          6 :  -0.5 :               0.14 :   0.5 : False : False :  Reals\n",
      "          7 :  -0.5 :               0.14 :   0.5 : False : False :  Reals\n",
      "          8 :  -0.5 : 0.0836486838152864 :   0.5 : False : False :  Reals\n",
      "          9 :  -0.5 : -0.106381863282993 :   0.5 : False : False :  Reals\n",
      "         10 :  -0.5 :               -0.5 :   0.5 : False : False :  Reals\n",
      "         11 :  -0.5 :               -0.5 :   0.5 : False : False :  Reals\n",
      "         12 :  -0.5 :               -0.5 :   0.5 : False : False :  Reals\n",
      "         13 :  -0.5 :               -0.5 :   0.5 : False : False :  Reals\n",
      "         14 :  -0.5 :               -0.5 :   0.5 : False : False :  Reals\n",
      "         15 :  -0.5 :               -0.5 :   0.5 : False : False :  Reals\n",
      "         16 :  -0.5 :               -0.5 :   0.5 : False : False :  Reals\n",
      "         17 :  -0.5 : -0.106381863282993 :   0.5 : False : False :  Reals\n",
      "         18 :  -0.5 :               0.35 :   0.5 : False : False :  Reals\n",
      "         19 :  -0.5 :               0.35 :   0.5 : False : False :  Reals\n",
      "         20 :  -0.5 :               0.35 :   0.5 : False : False :  Reals\n",
      "         21 :  -0.5 :               0.35 :   0.5 : False : False :  Reals\n",
      "         22 :  -0.5 :              0.105 :   0.5 : False : False :  Reals\n",
      "         23 :  -0.5 :              0.105 :   0.5 : False : False :  Reals\n",
      "    p_mw_PV : Size=24, Index=p_mw_PV_index\n",
      "        Key : Lower : Value              : Upper : Fixed : Stale : Domain\n",
      "          0 :     0 :                0.0 :  None : False : False : NonNegativeReals\n",
      "          1 :     0 :                0.0 :  None : False : False : NonNegativeReals\n",
      "          2 :     0 :                0.0 :  None : False : False : NonNegativeReals\n",
      "          3 :     0 :                0.0 :  None : False : False : NonNegativeReals\n",
      "          4 :     0 :                0.0 :  None : False : False : NonNegativeReals\n",
      "          5 :     0 :                0.0 :  None : False : False : NonNegativeReals\n",
      "          6 :     0 :                0.0 :  None : False : False : NonNegativeReals\n",
      "          7 :     0 :                0.0 :  None : False : False : NonNegativeReals\n",
      "          8 :     0 : 0.0913513161847136 :  None : False : False : NonNegativeReals\n",
      "          9 :     0 :  0.281381863282993 :  None : False : False : NonNegativeReals\n",
      "         10 :     0 :              0.675 :  None : False : False : NonNegativeReals\n",
      "         11 :     0 :              0.675 :  None : False : False : NonNegativeReals\n",
      "         12 :     0 :              0.675 :  None : False : False : NonNegativeReals\n",
      "         13 :     0 :              0.675 :  None : False : False : NonNegativeReals\n",
      "         14 :     0 :              0.675 :  None : False : False : NonNegativeReals\n",
      "         15 :     0 :              0.675 :  None : False : False : NonNegativeReals\n",
      "         16 :     0 :              0.675 :  None : False : False : NonNegativeReals\n",
      "         17 :     0 :  0.281381863282993 :  None : False : False : NonNegativeReals\n",
      "         18 :     0 :                0.0 :  None : False : False : NonNegativeReals\n",
      "         19 :     0 :                0.0 :  None : False : False : NonNegativeReals\n",
      "         20 :     0 :                0.0 :  None : False : False : NonNegativeReals\n",
      "         21 :     0 :                0.0 :  None : False : False : NonNegativeReals\n",
      "         22 :     0 :                0.0 :  None : False : False : NonNegativeReals\n",
      "         23 :     0 :                0.0 :  None : False : False : NonNegativeReals\n",
      "\n",
      "1 Objective Declarations\n",
      "    value : Size=1, Index=None, Active=True\n",
      "        Key  : Active : Sense    : Expression\n",
      "        None :   True : minimize : 0.9125*p_mw_PV[0] + 6.57*p_mw_Ext[0] + 0.9125*p_mw_PV[1] + 6.57*p_mw_Ext[1] + 0.9125*p_mw_PV[2] + 6.57*p_mw_Ext[2] + 0.9125*p_mw_PV[3] + 6.57*p_mw_Ext[3] + 0.9125*p_mw_PV[4] + 6.57*p_mw_Ext[4] + 0.9125*p_mw_PV[5] + 6.57*p_mw_Ext[5] + 0.9125*p_mw_PV[6] + 6.57*p_mw_Ext[6] + 0.9125*p_mw_PV[7] + 6.57*p_mw_Ext[7] + 0.9125*p_mw_PV[8] + 6.57*p_mw_Ext[8] + 0.9125*p_mw_PV[9] + 6.57*p_mw_Ext[9] + 0.9125*p_mw_PV[10] + 6.57*p_mw_Ext[10] + 0.9125*p_mw_PV[11] + 6.57*p_mw_Ext[11] + 0.9125*p_mw_PV[12] + 6.57*p_mw_Ext[12] + 0.9125*p_mw_PV[13] + 6.57*p_mw_Ext[13] + 0.9125*p_mw_PV[14] + 6.57*p_mw_Ext[14] + 0.9125*p_mw_PV[15] + 6.57*p_mw_Ext[15] + 0.9125*p_mw_PV[16] + 6.57*p_mw_Ext[16] + 0.9125*p_mw_PV[17] + 6.57*p_mw_Ext[17] + 0.9125*p_mw_PV[18] + 9.854999999999999*p_mw_Ext[18] + 0.9125*p_mw_PV[19] + 9.854999999999999*p_mw_Ext[19] + 0.9125*p_mw_PV[20] + 9.854999999999999*p_mw_Ext[20] + 0.9125*p_mw_PV[21] + 9.854999999999999*p_mw_Ext[21] + 0.9125*p_mw_PV[22] + 9.854999999999999*p_mw_Ext[22] + 0.9125*p_mw_PV[23] + 9.854999999999999*p_mw_Ext[23] + 0.02 + 2.25*ap_mw_PV\n",
      "\n",
      "2 Constraint Declarations\n",
      "    PV_dim : Size=24, Index=PV_dim_index, Active=True\n",
      "        Key : Lower : Body                                       : Upper : Active\n",
      "          0 :  -Inf :                                 p_mw_PV[0] :   0.0 :   True\n",
      "          1 :  -Inf :                                 p_mw_PV[1] :   0.0 :   True\n",
      "          2 :  -Inf :                                 p_mw_PV[2] :   0.0 :   True\n",
      "          3 :  -Inf :                                 p_mw_PV[3] :   0.0 :   True\n",
      "          4 :  -Inf :                                 p_mw_PV[4] :   0.0 :   True\n",
      "          5 :  -Inf :                                 p_mw_PV[5] :   0.0 :   True\n",
      "          6 :  -Inf :                                 p_mw_PV[6] :   0.0 :   True\n",
      "          7 :  -Inf :                                 p_mw_PV[7] :   0.0 :   True\n",
      "          8 :  -Inf :  p_mw_PV[8] - 0.04393693362340742*ap_mw_PV :   0.0 :   True\n",
      "          9 :  -Inf :   p_mw_PV[9] - 0.1353352832366127*ap_mw_PV :   0.0 :   True\n",
      "         10 :  -Inf : p_mw_PV[10] - 0.32465246735834974*ap_mw_PV :   0.0 :   True\n",
      "         11 :  -Inf :  p_mw_PV[11] - 0.6065306597126334*ap_mw_PV :   0.0 :   True\n",
      "         12 :  -Inf :  p_mw_PV[12] - 0.8824969025845955*ap_mw_PV :   0.0 :   True\n",
      "         13 :  -Inf :                     p_mw_PV[13] - ap_mw_PV :   0.0 :   True\n",
      "         14 :  -Inf :  p_mw_PV[14] - 0.8824969025845955*ap_mw_PV :   0.0 :   True\n",
      "         15 :  -Inf :  p_mw_PV[15] - 0.6065306597126334*ap_mw_PV :   0.0 :   True\n",
      "         16 :  -Inf : p_mw_PV[16] - 0.32465246735834974*ap_mw_PV :   0.0 :   True\n",
      "         17 :  -Inf :  p_mw_PV[17] - 0.1353352832366127*ap_mw_PV :   0.0 :   True\n",
      "         18 :  -Inf :                                p_mw_PV[18] :   0.0 :   True\n",
      "         19 :  -Inf :                                p_mw_PV[19] :   0.0 :   True\n",
      "         20 :  -Inf :                                p_mw_PV[20] :   0.0 :   True\n",
      "         21 :  -Inf :                                p_mw_PV[21] :   0.0 :   True\n",
      "         22 :  -Inf :                                p_mw_PV[22] :   0.0 :   True\n",
      "         23 :  -Inf :                                p_mw_PV[23] :   0.0 :   True\n",
      "    hourly_power_balance : Size=24, Index=hourly_power_balance_index, Active=True\n",
      "        Key : Lower : Body                                           : Upper : Active\n",
      "          0 :   0.0 : p_mw_Ext[0] + p_mw_PV[0] - 0.06999999999999999 :   0.0 :   True\n",
      "          1 :   0.0 : p_mw_Ext[1] + p_mw_PV[1] - 0.06999999999999999 :   0.0 :   True\n",
      "          2 :   0.0 : p_mw_Ext[2] + p_mw_PV[2] - 0.06999999999999999 :   0.0 :   True\n",
      "          3 :   0.0 : p_mw_Ext[3] + p_mw_PV[3] - 0.06999999999999999 :   0.0 :   True\n",
      "          4 :   0.0 : p_mw_Ext[4] + p_mw_PV[4] - 0.06999999999999999 :   0.0 :   True\n",
      "          5 :   0.0 : p_mw_Ext[5] + p_mw_PV[5] - 0.06999999999999999 :   0.0 :   True\n",
      "          6 :   0.0 : p_mw_Ext[6] + p_mw_PV[6] - 0.13999999999999999 :   0.0 :   True\n",
      "          7 :   0.0 : p_mw_Ext[7] + p_mw_PV[7] - 0.13999999999999999 :   0.0 :   True\n",
      "          8 :   0.0 :               p_mw_Ext[8] + p_mw_PV[8] - 0.175 :   0.0 :   True\n",
      "          9 :   0.0 :               p_mw_Ext[9] + p_mw_PV[9] - 0.175 :   0.0 :   True\n",
      "         10 :   0.0 :             p_mw_Ext[10] + p_mw_PV[10] - 0.175 :   0.0 :   True\n",
      "         11 :   0.0 :             p_mw_Ext[11] + p_mw_PV[11] - 0.175 :   0.0 :   True\n",
      "         12 :   0.0 :             p_mw_Ext[12] + p_mw_PV[12] - 0.175 :   0.0 :   True\n",
      "         13 :   0.0 :             p_mw_Ext[13] + p_mw_PV[13] - 0.175 :   0.0 :   True\n",
      "         14 :   0.0 :             p_mw_Ext[14] + p_mw_PV[14] - 0.175 :   0.0 :   True\n",
      "         15 :   0.0 :             p_mw_Ext[15] + p_mw_PV[15] - 0.175 :   0.0 :   True\n",
      "         16 :   0.0 :             p_mw_Ext[16] + p_mw_PV[16] - 0.175 :   0.0 :   True\n",
      "         17 :   0.0 :             p_mw_Ext[17] + p_mw_PV[17] - 0.175 :   0.0 :   True\n",
      "         18 :   0.0 :              p_mw_Ext[18] + p_mw_PV[18] - 0.35 :   0.0 :   True\n",
      "         19 :   0.0 :              p_mw_Ext[19] + p_mw_PV[19] - 0.35 :   0.0 :   True\n",
      "         20 :   0.0 :              p_mw_Ext[20] + p_mw_PV[20] - 0.35 :   0.0 :   True\n",
      "         21 :   0.0 :              p_mw_Ext[21] + p_mw_PV[21] - 0.35 :   0.0 :   True\n",
      "         22 :   0.0 :             p_mw_Ext[22] + p_mw_PV[22] - 0.105 :   0.0 :   True\n",
      "         23 :   0.0 :             p_mw_Ext[23] + p_mw_PV[23] - 0.105 :   0.0 :   True\n",
      "\n",
      "10 Declarations: ap_mw_PV p_mw_PV_index p_mw_PV p_mw_Ext_index p_mw_Ext value hourly_power_balance_index hourly_power_balance PV_dim_index PV_dim\n"
     ]
    }
   ],
   "source": [
    "m.pprint()"
   ]
  },
  {
   "cell_type": "code",
   "execution_count": null,
   "id": "strong-remark",
   "metadata": {},
   "outputs": [],
   "source": []
  }
 ],
 "metadata": {
  "kernelspec": {
   "display_name": "Python 3",
   "language": "python",
   "name": "python3"
  },
  "language_info": {
   "codemirror_mode": {
    "name": "ipython",
    "version": 3
   },
   "file_extension": ".py",
   "mimetype": "text/x-python",
   "name": "python",
   "nbconvert_exporter": "python",
   "pygments_lexer": "ipython3",
   "version": "3.8.8"
  }
 },
 "nbformat": 4,
 "nbformat_minor": 5
}
