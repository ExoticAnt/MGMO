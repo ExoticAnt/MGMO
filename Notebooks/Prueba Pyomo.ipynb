{
 "cells": [
  {
   "cell_type": "code",
   "execution_count": 1,
   "id": "shared-database",
   "metadata": {},
   "outputs": [],
   "source": [
    "from pyomo.environ import *"
   ]
  },
  {
   "cell_type": "code",
   "execution_count": 2,
   "id": "acknowledged-memorabilia",
   "metadata": {},
   "outputs": [],
   "source": [
    "A = ['hammer', 'wrench', 'screwdriver', 'towel']\n",
    "b = {'hammer':8, 'wrench':3, 'screwdriver':6, 'towel':11}\n",
    "w = {'hammer':5, 'wrench':7, 'screwdriver':4, 'towel':3}"
   ]
  },
  {
   "cell_type": "code",
   "execution_count": 3,
   "id": "automotive-separate",
   "metadata": {},
   "outputs": [],
   "source": [
    "W_max= 14"
   ]
  },
  {
   "cell_type": "code",
   "execution_count": 4,
   "id": "fluid-plasma",
   "metadata": {},
   "outputs": [
    {
     "name": "stdout",
     "output_type": "stream",
     "text": [
      "GLPSOL: GLPK LP/MIP Solver, v4.65\n",
      "Parameter(s) specified in the command line:\n",
      " --write C:\\Users\\jmsar\\AppData\\Local\\Temp\\tmpwh26nvex.glpk.raw --wglp C:\\Users\\jmsar\\AppData\\Local\\Temp\\tmppe_yo006.glpk.glp\n",
      " --cpxlp C:\\Users\\jmsar\\AppData\\Local\\Temp\\tmpktu_7ppv.pyomo.lp\n",
      "Reading problem data from 'C:\\Users\\jmsar\\AppData\\Local\\Temp\\tmpktu_7ppv.pyomo.lp'...\n",
      "C:\\Users\\jmsar\\AppData\\Local\\Temp\\tmpktu_7ppv.pyomo.lp:28: warning: lower bound of variable 'x1' redefined\n",
      "C:\\Users\\jmsar\\AppData\\Local\\Temp\\tmpktu_7ppv.pyomo.lp:28: warning: upper bound of variable 'x1' redefined\n",
      "2 rows, 5 columns, 5 non-zeros\n",
      "4 integer variables, all of which are binary\n",
      "32 lines were read\n",
      "Writing problem data to 'C:\\Users\\jmsar\\AppData\\Local\\Temp\\tmppe_yo006.glpk.glp'...\n",
      "22 lines were written\n",
      "GLPK Integer Optimizer, v4.65\n",
      "2 rows, 5 columns, 5 non-zeros\n",
      "4 integer variables, all of which are binary\n",
      "Preprocessing...\n",
      "1 constraint coefficient(s) were reduced\n",
      "1 row, 4 columns, 4 non-zeros\n",
      "4 integer variables, all of which are binary\n",
      "Scaling...\n",
      " A: min|aij| =  3.000e+00  max|aij| =  5.000e+00  ratio =  1.667e+00\n",
      "Problem data seem to be well scaled\n",
      "Constructing initial basis...\n",
      "Size of triangular part is 1\n",
      "Solving LP relaxation...\n",
      "GLPK Simplex Optimizer, v4.65\n",
      "1 row, 4 columns, 4 non-zeros\n",
      "*     0: obj =  -0.000000000e+00 inf =   0.000e+00 (4)\n",
      "*     4: obj =   2.500000000e+01 inf =   0.000e+00 (0)\n",
      "OPTIMAL LP SOLUTION FOUND\n",
      "Integer optimization begins...\n",
      "Long-step dual simplex will be used\n",
      "+     4: mip =     not found yet <=              +inf        (1; 0)\n",
      "+     4: >>>>>   2.500000000e+01 <=   2.500000000e+01   0.0% (1; 0)\n",
      "+     4: mip =   2.500000000e+01 <=     tree is empty   0.0% (0; 1)\n",
      "INTEGER OPTIMAL SOLUTION FOUND\n",
      "Time used:   0.0 secs\n",
      "Memory used: 0.1 Mb (59918 bytes)\n",
      "Writing MIP solution to 'C:\\Users\\jmsar\\AppData\\Local\\Temp\\tmpwh26nvex.glpk.raw'...\n",
      "16 lines were written\n",
      "1 Set Declarations\n",
      "    x_index : Size=1, Index=None, Ordered=Insertion\n",
      "        Key  : Dimen : Domain : Size : Members\n",
      "        None :     1 :    Any :    4 : {'hammer', 'wrench', 'screwdriver', 'towel'}\n",
      "\n",
      "1 Var Declarations\n",
      "    x : Size=4, Index=x_index\n",
      "        Key         : Lower : Value : Upper : Fixed : Stale : Domain\n",
      "             hammer :     0 :   1.0 :     1 : False : False : Binary\n",
      "        screwdriver :     0 :   1.0 :     1 : False : False : Binary\n",
      "              towel :     0 :   1.0 :     1 : False : False : Binary\n",
      "             wrench :     0 :   0.0 :     1 : False : False : Binary\n",
      "\n",
      "1 Objective Declarations\n",
      "    value : Size=1, Index=None, Active=True\n",
      "        Key  : Active : Sense    : Expression\n",
      "        None :   True : maximize : 8*x[hammer] + 3*x[wrench] + 6*x[screwdriver] + 11*x[towel]\n",
      "\n",
      "1 Constraint Declarations\n",
      "    weight : Size=1, Index=None, Active=True\n",
      "        Key  : Lower : Body                                                      : Upper : Active\n",
      "        None :  -Inf : 5*x[hammer] + 7*x[wrench] + 4*x[screwdriver] + 3*x[towel] :  14.0 :   True\n",
      "\n",
      "4 Declarations: x_index x value weight\n"
     ]
    }
   ],
   "source": [
    "model = ConcreteModel()\n",
    "model.x= Var( A, within=Binary )\n",
    "model.value= Objective(expr = sum( b[i]*model.x[i] for i in A ),sense = maximize)\n",
    "model.weight= Constraint(expr = sum( w[i]*model.x[i] for i in A) <= W_max)\n",
    "\n",
    "opt = SolverFactory('glpk')\n",
    "\n",
    "result_obj= opt.solve(model, tee=True)\n",
    "\n",
    "model.pprint()"
   ]
  },
  {
   "cell_type": "code",
   "execution_count": null,
   "id": "complimentary-welding",
   "metadata": {},
   "outputs": [],
   "source": []
  }
 ],
 "metadata": {
  "kernelspec": {
   "display_name": "Python 3",
   "language": "python",
   "name": "python3"
  },
  "language_info": {
   "codemirror_mode": {
    "name": "ipython",
    "version": 3
   },
   "file_extension": ".py",
   "mimetype": "text/x-python",
   "name": "python",
   "nbconvert_exporter": "python",
   "pygments_lexer": "ipython3",
   "version": "3.8.8"
  }
 },
 "nbformat": 4,
 "nbformat_minor": 5
}
