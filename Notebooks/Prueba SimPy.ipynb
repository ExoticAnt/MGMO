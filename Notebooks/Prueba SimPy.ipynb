{
 "cells": [
  {
   "cell_type": "code",
   "execution_count": 1,
   "id": "tamil-corpus",
   "metadata": {},
   "outputs": [],
   "source": [
    "import pandapower as pp"
   ]
  },
  {
   "cell_type": "code",
   "execution_count": 2,
   "id": "modified-essence",
   "metadata": {},
   "outputs": [],
   "source": [
    "from sympy import symbols"
   ]
  },
  {
   "cell_type": "code",
   "execution_count": 3,
   "id": "discrete-manchester",
   "metadata": {},
   "outputs": [
    {
     "data": {
      "text/plain": [
       "0"
      ]
     },
     "execution_count": 3,
     "metadata": {},
     "output_type": "execute_result"
    }
   ],
   "source": [
    "net = pp.create_empty_network() \n",
    "b1 = pp.create_bus(net, vn_kv=13.2)\n",
    "b2 = pp.create_bus(net, vn_kv=13.2)\n",
    "b3 = pp.create_bus(net, vn_kv=13.2)\n",
    "\n",
    "pp.create_line(net, from_bus=b1, to_bus=b2, length_km=0.8, std_type=\"NAYY 4x50 SE\")\n",
    "pp.create_line(net, from_bus=b2, to_bus=b3, length_km=1.2, std_type=\"NAYY 4x50 SE\")\n",
    "\n",
    "pp.create_ext_grid(net, bus=b1)\n",
    "\n",
    "pp.create_load(net, bus=b3, p_mw=0.350)"
   ]
  },
  {
   "cell_type": "code",
   "execution_count": 4,
   "id": "retired-fundamental",
   "metadata": {},
   "outputs": [],
   "source": [
    " pp.runpp(net)"
   ]
  },
  {
   "cell_type": "code",
   "execution_count": null,
   "id": "successful-scope",
   "metadata": {},
   "outputs": [],
   "source": []
  },
  {
   "cell_type": "code",
   "execution_count": 8,
   "id": "convinced-increase",
   "metadata": {},
   "outputs": [
    {
     "name": "stdout",
     "output_type": "stream",
     "text": [
      "0    1.000000\n",
      "1    0.998973\n",
      "2    0.997425\n",
      "Name: vm_pu, dtype: float64\n",
      "   p_from_mw  q_from_mvar   p_to_mw     q_to_mvar     pl_mw   ql_mvar  \\\n",
      "0   0.350909    -0.022814 -0.350545  1.367420e-02  0.000364 -0.009140   \n",
      "1   0.350545    -0.013674 -0.350000 -9.562987e-10  0.000545 -0.013674   \n",
      "\n",
      "   i_from_ka   i_to_ka      i_ka  vm_from_pu  va_from_degree  vm_to_pu  \\\n",
      "0   0.015381  0.015360  0.015381    1.000000        0.000000  0.998973   \n",
      "1   0.015360  0.015348  0.015360    0.998973       -0.010749  0.997425   \n",
      "\n",
      "   va_to_degree  loading_percent  \n",
      "0     -0.010749        10.831460  \n",
      "1     -0.023998        10.816756  \n"
     ]
    }
   ],
   "source": [
    "print(net.res_bus.vm_pu)\n",
    "print(net.res_line)"
   ]
  },
  {
   "cell_type": "code",
   "execution_count": 10,
   "id": "liable-monte",
   "metadata": {},
   "outputs": [
    {
     "data": {
      "text/plain": [
       "0"
      ]
     },
     "execution_count": 10,
     "metadata": {},
     "output_type": "execute_result"
    }
   ],
   "source": [
    "pp.create_sgen(net, b2, p_mw=0.05, q_mvar=0.025, max_p_mw=0.2, max_q_mvar=0.2)"
   ]
  },
  {
   "cell_type": "code",
   "execution_count": 11,
   "id": "monetary-blake",
   "metadata": {},
   "outputs": [],
   "source": [
    "pp.runpp(net)"
   ]
  },
  {
   "cell_type": "code",
   "execution_count": 12,
   "id": "accessory-passage",
   "metadata": {},
   "outputs": [
    {
     "name": "stdout",
     "output_type": "stream",
     "text": [
      "0    1.000000\n",
      "1    0.999130\n",
      "2    0.997582\n",
      "Name: vm_pu, dtype: float64\n",
      "   p_from_mw  q_from_mvar   p_to_mw     q_to_mvar     pl_mw   ql_mvar  \\\n",
      "0   0.300817    -0.047832 -0.300544  3.867856e-02  0.000272 -0.009153   \n",
      "1   0.350544    -0.013679 -0.350000 -7.725773e-10  0.000544 -0.013679   \n",
      "\n",
      "   i_from_ka   i_to_ka      i_ka  vm_from_pu  va_from_degree  vm_to_pu  \\\n",
      "0   0.013323  0.013265  0.013323     1.00000        0.000000  0.999130   \n",
      "1   0.015357  0.015346  0.015357     0.99913       -0.013882  0.997582   \n",
      "\n",
      "   va_to_degree  loading_percent  \n",
      "0     -0.013882         9.382118  \n",
      "1     -0.027127        10.815054  \n"
     ]
    }
   ],
   "source": [
    "print(net.res_bus.vm_pu)\n",
    "print(net.res_line)"
   ]
  },
  {
   "cell_type": "code",
   "execution_count": 13,
   "id": "radical-wayne",
   "metadata": {},
   "outputs": [
    {
     "name": "stdout",
     "output_type": "stream",
     "text": [
      "This pandapower network includes the following parameter tables:\n",
      "   - bus (3 elements)\n",
      "   - load (1 element)\n",
      "   - sgen (1 element)\n",
      "   - ext_grid (1 element)\n",
      "   - line (2 elements)\n",
      " and the following results tables:\n",
      "   - res_bus (3 elements)\n",
      "   - res_line (2 elements)\n",
      "   - res_ext_grid (1 element)\n",
      "   - res_load (1 element)\n",
      "   - res_sgen (1 element)\n"
     ]
    }
   ],
   "source": [
    "print(net)"
   ]
  },
  {
   "cell_type": "code",
   "execution_count": 20,
   "id": "wanted-winter",
   "metadata": {},
   "outputs": [],
   "source": [
    "def net_add_optfw(net):\n",
    "    net.ext_grid['initial_cost'] = 0.0\n",
    "    net.ext_grid['operation_cost'] = 0.0\n",
    "    net.ext_grid['ap_mw'] = 100.0\n",
    "    net.ext_grid['op_mw'] = 0.0\n",
    "    net.ext_grid['constraints'] = None\n",
    "\n",
    "    net.load['initial_cost'] = 0.0\n",
    "    net.load['operation_cost'] = 0.0\n",
    "    net.load['ap_mw'] = 100.0\n",
    "    net.load['op_mw'] = 0.0\n",
    "    net.load['constraints'] = None\n",
    "\n",
    "    net.sgen['initial_cost'] = 0.0\n",
    "    net.sgen['operation_cost'] = 0.0\n",
    "    net.sgen['ap_mw'] = 100.0\n",
    "    net.sgen['op_mw'] = 0.0\n",
    "    net.sgen['constraints'] = None    "
   ]
  },
  {
   "cell_type": "code",
   "execution_count": 21,
   "id": "second-omega",
   "metadata": {},
   "outputs": [],
   "source": [
    "net_add_optfw(net)"
   ]
  },
  {
   "cell_type": "code",
   "execution_count": 22,
   "id": "still-stick",
   "metadata": {},
   "outputs": [
    {
     "data": {
      "text/html": [
       "<div>\n",
       "<style scoped>\n",
       "    .dataframe tbody tr th:only-of-type {\n",
       "        vertical-align: middle;\n",
       "    }\n",
       "\n",
       "    .dataframe tbody tr th {\n",
       "        vertical-align: top;\n",
       "    }\n",
       "\n",
       "    .dataframe thead th {\n",
       "        text-align: right;\n",
       "    }\n",
       "</style>\n",
       "<table border=\"1\" class=\"dataframe\">\n",
       "  <thead>\n",
       "    <tr style=\"text-align: right;\">\n",
       "      <th></th>\n",
       "      <th>name</th>\n",
       "      <th>bus</th>\n",
       "      <th>vm_pu</th>\n",
       "      <th>va_degree</th>\n",
       "      <th>in_service</th>\n",
       "      <th>initial_cost</th>\n",
       "      <th>operation_cost</th>\n",
       "      <th>ap_mw</th>\n",
       "      <th>op_mw</th>\n",
       "      <th>constraints</th>\n",
       "    </tr>\n",
       "  </thead>\n",
       "  <tbody>\n",
       "    <tr>\n",
       "      <th>0</th>\n",
       "      <td>None</td>\n",
       "      <td>0</td>\n",
       "      <td>1.0</td>\n",
       "      <td>0.0</td>\n",
       "      <td>True</td>\n",
       "      <td>0.0</td>\n",
       "      <td>0.0</td>\n",
       "      <td>100.0</td>\n",
       "      <td>0.0</td>\n",
       "      <td>None</td>\n",
       "    </tr>\n",
       "  </tbody>\n",
       "</table>\n",
       "</div>"
      ],
      "text/plain": [
       "   name  bus  vm_pu  va_degree  in_service  initial_cost  operation_cost  \\\n",
       "0  None    0    1.0        0.0        True           0.0             0.0   \n",
       "\n",
       "   ap_mw  op_mw constraints  \n",
       "0  100.0    0.0        None  "
      ]
     },
     "execution_count": 22,
     "metadata": {},
     "output_type": "execute_result"
    }
   ],
   "source": [
    "net.ext_grid"
   ]
  },
  {
   "cell_type": "markdown",
   "id": "female-final",
   "metadata": {},
   "source": [
    "Variables que define el modelo:\n",
    "\n",
    "t para el tiempo, (en horas)"
   ]
  },
  {
   "cell_type": "code",
   "execution_count": null,
   "id": "oriented-stability",
   "metadata": {},
   "outputs": [],
   "source": []
  },
  {
   "cell_type": "code",
   "execution_count": 15,
   "id": "young-barbados",
   "metadata": {},
   "outputs": [
    {
     "data": {
      "text/html": [
       "<div>\n",
       "<style scoped>\n",
       "    .dataframe tbody tr th:only-of-type {\n",
       "        vertical-align: middle;\n",
       "    }\n",
       "\n",
       "    .dataframe tbody tr th {\n",
       "        vertical-align: top;\n",
       "    }\n",
       "\n",
       "    .dataframe thead th {\n",
       "        text-align: right;\n",
       "    }\n",
       "</style>\n",
       "<table border=\"1\" class=\"dataframe\">\n",
       "  <thead>\n",
       "    <tr style=\"text-align: right;\">\n",
       "      <th></th>\n",
       "      <th>name</th>\n",
       "      <th>bus</th>\n",
       "      <th>vm_pu</th>\n",
       "      <th>va_degree</th>\n",
       "      <th>in_service</th>\n",
       "    </tr>\n",
       "  </thead>\n",
       "  <tbody>\n",
       "    <tr>\n",
       "      <th>0</th>\n",
       "      <td>None</td>\n",
       "      <td>0</td>\n",
       "      <td>1.0</td>\n",
       "      <td>0.0</td>\n",
       "      <td>True</td>\n",
       "    </tr>\n",
       "  </tbody>\n",
       "</table>\n",
       "</div>"
      ],
      "text/plain": [
       "   name  bus  vm_pu  va_degree  in_service\n",
       "0  None    0    1.0        0.0        True"
      ]
     },
     "execution_count": 15,
     "metadata": {},
     "output_type": "execute_result"
    }
   ],
   "source": [
    "net.ext_grid"
   ]
  },
  {
   "cell_type": "code",
   "execution_count": null,
   "id": "registered-telling",
   "metadata": {},
   "outputs": [],
   "source": [
    "net.ext_grid.__class__"
   ]
  },
  {
   "cell_type": "code",
   "execution_count": null,
   "id": "casual-macintosh",
   "metadata": {},
   "outputs": [],
   "source": [
    "net.load.__class__"
   ]
  },
  {
   "cell_type": "code",
   "execution_count": null,
   "id": "emotional-bernard",
   "metadata": {},
   "outputs": [],
   "source": [
    "net.load.columns"
   ]
  },
  {
   "cell_type": "code",
   "execution_count": null,
   "id": "norman-membrane",
   "metadata": {},
   "outputs": [],
   "source": [
    "net.line"
   ]
  },
  {
   "cell_type": "code",
   "execution_count": 15,
   "id": "affecting-flash",
   "metadata": {},
   "outputs": [
    {
     "data": {
      "text/html": [
       "<div>\n",
       "<style scoped>\n",
       "    .dataframe tbody tr th:only-of-type {\n",
       "        vertical-align: middle;\n",
       "    }\n",
       "\n",
       "    .dataframe tbody tr th {\n",
       "        vertical-align: top;\n",
       "    }\n",
       "\n",
       "    .dataframe thead th {\n",
       "        text-align: right;\n",
       "    }\n",
       "</style>\n",
       "<table border=\"1\" class=\"dataframe\">\n",
       "  <thead>\n",
       "    <tr style=\"text-align: right;\">\n",
       "      <th></th>\n",
       "      <th>name</th>\n",
       "      <th>bus</th>\n",
       "      <th>p_mw</th>\n",
       "      <th>q_mvar</th>\n",
       "      <th>const_z_percent</th>\n",
       "      <th>const_i_percent</th>\n",
       "      <th>sn_mva</th>\n",
       "      <th>scaling</th>\n",
       "      <th>in_service</th>\n",
       "      <th>type</th>\n",
       "    </tr>\n",
       "  </thead>\n",
       "  <tbody>\n",
       "    <tr>\n",
       "      <th>0</th>\n",
       "      <td>None</td>\n",
       "      <td>2</td>\n",
       "      <td>0.35</td>\n",
       "      <td>0.0</td>\n",
       "      <td>0.0</td>\n",
       "      <td>0.0</td>\n",
       "      <td>NaN</td>\n",
       "      <td>1.0</td>\n",
       "      <td>True</td>\n",
       "      <td>wye</td>\n",
       "    </tr>\n",
       "  </tbody>\n",
       "</table>\n",
       "</div>"
      ],
      "text/plain": [
       "   name  bus  p_mw  q_mvar  const_z_percent  const_i_percent  sn_mva  scaling  \\\n",
       "0  None    2  0.35     0.0              0.0              0.0     NaN      1.0   \n",
       "\n",
       "   in_service type  \n",
       "0        True  wye  "
      ]
     },
     "execution_count": 15,
     "metadata": {},
     "output_type": "execute_result"
    }
   ],
   "source": [
    "net.load"
   ]
  },
  {
   "cell_type": "code",
   "execution_count": 19,
   "id": "fifteen-burns",
   "metadata": {},
   "outputs": [
    {
     "data": {
      "text/plain": [
       "2"
      ]
     },
     "execution_count": 19,
     "metadata": {},
     "output_type": "execute_result"
    }
   ],
   "source": [
    "net.load['bus'][0]"
   ]
  },
  {
   "cell_type": "code",
   "execution_count": 35,
   "id": "automatic-while",
   "metadata": {},
   "outputs": [
    {
     "data": {
      "text/plain": [
       "18.2"
      ]
     },
     "execution_count": 35,
     "metadata": {},
     "output_type": "execute_result"
    }
   ],
   "source": [
    "net.bus.loc[2]['vn_kv']+5"
   ]
  },
  {
   "cell_type": "code",
   "execution_count": null,
   "id": "intellectual-malpractice",
   "metadata": {},
   "outputs": [],
   "source": [
    "net.load['ap_mw']=net.load['p_mw']"
   ]
  },
  {
   "cell_type": "code",
   "execution_count": null,
   "id": "generic-opinion",
   "metadata": {},
   "outputs": [],
   "source": [
    "net.load"
   ]
  },
  {
   "cell_type": "code",
   "execution_count": null,
   "id": "thermal-fever",
   "metadata": {},
   "outputs": [],
   "source": [
    "net.load['name'][0]='Carga'"
   ]
  },
  {
   "cell_type": "code",
   "execution_count": null,
   "id": "prostate-memphis",
   "metadata": {},
   "outputs": [],
   "source": [
    "net.load"
   ]
  },
  {
   "cell_type": "code",
   "execution_count": null,
   "id": "challenging-amateur",
   "metadata": {},
   "outputs": [],
   "source": [
    "net.ext_grid"
   ]
  },
  {
   "cell_type": "code",
   "execution_count": null,
   "id": "theoretical-alcohol",
   "metadata": {},
   "outputs": [],
   "source": [
    "net.switch"
   ]
  },
  {
   "cell_type": "code",
   "execution_count": null,
   "id": "joint-relay",
   "metadata": {},
   "outputs": [],
   "source": []
  }
 ],
 "metadata": {
  "kernelspec": {
   "display_name": "Python 3",
   "language": "python",
   "name": "python3"
  },
  "language_info": {
   "codemirror_mode": {
    "name": "ipython",
    "version": 3
   },
   "file_extension": ".py",
   "mimetype": "text/x-python",
   "name": "python",
   "nbconvert_exporter": "python",
   "pygments_lexer": "ipython3",
   "version": "3.8.8"
  }
 },
 "nbformat": 4,
 "nbformat_minor": 5
}
