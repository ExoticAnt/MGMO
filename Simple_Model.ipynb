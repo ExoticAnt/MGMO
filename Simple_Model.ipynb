{
 "cells": [
  {
   "cell_type": "markdown",
   "id": "banner-tissue",
   "metadata": {
    "id": "addressed-terrorism"
   },
   "source": [
    "## Prueba de modelos ##\n",
    "\n",
    "### Version 4: Modelo con 2 DER, planificación anual, granularidad horaria ###\n",
    "\n",
    "Si el modelo tiene que optimizar el balance por horas, tiene 8640 VD, pero sigue teniendo 2 VD binarias"
   ]
  },
  {
   "cell_type": "code",
   "execution_count": 1,
   "id": "cardiac-indication",
   "metadata": {},
   "outputs": [],
   "source": [
    "%load_ext autoreload"
   ]
  },
  {
   "cell_type": "code",
   "execution_count": 2,
   "id": "passive-planning",
   "metadata": {},
   "outputs": [],
   "source": [
    "%autoreload 2"
   ]
  },
  {
   "cell_type": "code",
   "execution_count": 3,
   "id": "rough-campbell",
   "metadata": {
    "executionInfo": {
     "elapsed": 5552,
     "status": "ok",
     "timestamp": 1620005659685,
     "user": {
      "displayName": "Juan Sardón",
      "photoUrl": "https://lh3.googleusercontent.com/a-/AOh14Gh0hE4Hw8M0I17k-o2PXxLB5i6gNZV_oUTpZlyJ3Q=s64",
      "userId": "08267034058673099115"
     },
     "user_tz": 180
    },
    "id": "aboriginal-joshua"
   },
   "outputs": [],
   "source": [
    "import pandapower as pp"
   ]
  },
  {
   "cell_type": "code",
   "execution_count": 44,
   "id": "sound-legislature",
   "metadata": {
    "executionInfo": {
     "elapsed": 4248,
     "status": "ok",
     "timestamp": 1620005659688,
     "user": {
      "displayName": "Juan Sardón",
      "photoUrl": "https://lh3.googleusercontent.com/a-/AOh14Gh0hE4Hw8M0I17k-o2PXxLB5i6gNZV_oUTpZlyJ3Q=s64",
      "userId": "08267034058673099115"
     },
     "user_tz": 180
    },
    "id": "collectible-innocent"
   },
   "outputs": [],
   "source": [
    "import pyomo.environ as pe"
   ]
  },
  {
   "cell_type": "code",
   "execution_count": 53,
   "id": "environmental-contemporary",
   "metadata": {
    "executionInfo": {
     "elapsed": 3074,
     "status": "ok",
     "timestamp": 1620005659693,
     "user": {
      "displayName": "Juan Sardón",
      "photoUrl": "https://lh3.googleusercontent.com/a-/AOh14Gh0hE4Hw8M0I17k-o2PXxLB5i6gNZV_oUTpZlyJ3Q=s64",
      "userId": "08267034058673099115"
     },
     "user_tz": 180
    },
    "id": "united-bronze"
   },
   "outputs": [],
   "source": [
    "import matplotlib.pyplot as plt"
   ]
  },
  {
   "cell_type": "code",
   "execution_count": 4,
   "id": "human-variety",
   "metadata": {},
   "outputs": [],
   "source": [
    "import ModelWriters as mw"
   ]
  },
  {
   "cell_type": "code",
   "execution_count": 21,
   "id": "distinct-reporter",
   "metadata": {},
   "outputs": [],
   "source": [
    "import ModelWriters.Scenes as Scenes"
   ]
  },
  {
   "cell_type": "code",
   "execution_count": 30,
   "id": "proper-athletics",
   "metadata": {},
   "outputs": [],
   "source": [
    "import ModelWriters.Resources as Resources"
   ]
  },
  {
   "cell_type": "code",
   "execution_count": 394,
   "id": "accurate-fault",
   "metadata": {
    "colab": {
     "base_uri": "https://localhost:8080/"
    },
    "executionInfo": {
     "elapsed": 2223,
     "status": "ok",
     "timestamp": 1620005659694,
     "user": {
      "displayName": "Juan Sardón",
      "photoUrl": "https://lh3.googleusercontent.com/a-/AOh14Gh0hE4Hw8M0I17k-o2PXxLB5i6gNZV_oUTpZlyJ3Q=s64",
      "userId": "08267034058673099115"
     },
     "user_tz": 180
    },
    "id": "corrected-friendly",
    "outputId": "bdf4d701-1857-4ce0-be28-267a95d8d74a"
   },
   "outputs": [
    {
     "data": {
      "text/plain": [
       "2"
      ]
     },
     "execution_count": 394,
     "metadata": {},
     "output_type": "execute_result"
    }
   ],
   "source": [
    "net = pp.create_empty_network() \n",
    "b0 = pp.create_bus(net, vn_kv=13.2)\n",
    "\n",
    "pp.create_ext_grid(net, bus=b0)\n",
    "\n",
    "#ramal 1\n",
    "b11 = pp.create_bus(net, vn_kv=13.2)\n",
    "b12 = pp.create_bus(net, vn_kv=13.2)\n",
    "\n",
    "pp.create_line(net, from_bus=b0, to_bus=b11, length_km=0.8, std_type=\"NAYY 4x50 SE\")\n",
    "pp.create_line(net, from_bus=b11, to_bus=b12, length_km=2.1, std_type=\"NAYY 4x50 SE\")\n",
    "\n",
    "pp.create_sgen(net, b11, p_mw=0.075, q_mvar=0.025, max_p_mw=0.15, max_q_mvar=0.15)\n",
    "pp.create_load(net, bus=b12, p_mw=0.350)\n",
    "\n",
    "#ramal 2\n",
    "b21 = pp.create_bus(net, vn_kv=13.2)\n",
    "pp.create_line(net, from_bus=b0, to_bus=b21, length_km=5.0, std_type=\"NAYY 4x50 SE\")\n",
    "pp.create_sgen(net, b21, p_mw=0.15, q_mvar=0.00, max_p_mw=0.40, max_q_mvar=0.10)\n",
    "pp.create_storage(net, bus=b21, p_mw=0.25, q_mvar=0.1, max_e_mwh = 3.0)\n",
    "\n",
    "#ramal 3\n",
    "b31 = pp.create_bus(net, vn_kv=13.2)\n",
    "b32 = pp.create_bus(net, vn_kv=13.2)\n",
    "pp.create_line(net, from_bus=b0, to_bus=b31, length_km=0.5, std_type=\"NAYY 4x50 SE\")\n",
    "pp.create_line(net, from_bus=b31, to_bus=b32, length_km=1.5, std_type=\"NAYY 4x50 SE\")\n",
    "pp.create_sgen(net, b31, p_mw=0.08, q_mvar=0.00, max_p_mw=0.30, max_q_mvar=0.10)\n",
    "pp.create_load(net, bus=b32, p_mw=0.85, q_mvar=0.33)\n",
    "\n",
    "\n",
    "#ramal 4\n",
    "b41 = pp.create_bus(net, vn_kv=13.2)\n",
    "pp.create_line(net, from_bus=b0, to_bus=b41, length_km=0.5, std_type=\"NAYY 4x50 SE\")\n",
    "pp.create_load(net, bus=b41, p_mw=0.22, q_mvar=0.05)\n",
    "#pp.create_storage(net, bus=b41, p_mw=0.5, q_mvar=0.1, max_e_mwh = 5.0)\n",
    "\n"
   ]
  },
  {
   "cell_type": "code",
   "execution_count": 393,
   "id": "capable-bread",
   "metadata": {},
   "outputs": [
    {
     "data": {
      "text/html": [
       "<div>\n",
       "<style scoped>\n",
       "    .dataframe tbody tr th:only-of-type {\n",
       "        vertical-align: middle;\n",
       "    }\n",
       "\n",
       "    .dataframe tbody tr th {\n",
       "        vertical-align: top;\n",
       "    }\n",
       "\n",
       "    .dataframe thead th {\n",
       "        text-align: right;\n",
       "    }\n",
       "</style>\n",
       "<table border=\"1\" class=\"dataframe\">\n",
       "  <thead>\n",
       "    <tr style=\"text-align: right;\">\n",
       "      <th></th>\n",
       "      <th>name</th>\n",
       "      <th>bus</th>\n",
       "      <th>p_mw</th>\n",
       "      <th>q_mvar</th>\n",
       "      <th>sn_mva</th>\n",
       "      <th>scaling</th>\n",
       "      <th>in_service</th>\n",
       "      <th>type</th>\n",
       "      <th>current_source</th>\n",
       "      <th>max_p_mw</th>\n",
       "      <th>max_q_mvar</th>\n",
       "    </tr>\n",
       "  </thead>\n",
       "  <tbody>\n",
       "    <tr>\n",
       "      <th>0</th>\n",
       "      <td>None</td>\n",
       "      <td>1</td>\n",
       "      <td>0.075</td>\n",
       "      <td>0.025</td>\n",
       "      <td>NaN</td>\n",
       "      <td>1.0</td>\n",
       "      <td>True</td>\n",
       "      <td>wye</td>\n",
       "      <td>True</td>\n",
       "      <td>0.15</td>\n",
       "      <td>0.15</td>\n",
       "    </tr>\n",
       "    <tr>\n",
       "      <th>1</th>\n",
       "      <td>None</td>\n",
       "      <td>3</td>\n",
       "      <td>0.150</td>\n",
       "      <td>0.000</td>\n",
       "      <td>NaN</td>\n",
       "      <td>1.0</td>\n",
       "      <td>True</td>\n",
       "      <td>wye</td>\n",
       "      <td>True</td>\n",
       "      <td>0.40</td>\n",
       "      <td>0.10</td>\n",
       "    </tr>\n",
       "    <tr>\n",
       "      <th>2</th>\n",
       "      <td>None</td>\n",
       "      <td>4</td>\n",
       "      <td>0.080</td>\n",
       "      <td>0.000</td>\n",
       "      <td>NaN</td>\n",
       "      <td>1.0</td>\n",
       "      <td>True</td>\n",
       "      <td>wye</td>\n",
       "      <td>True</td>\n",
       "      <td>0.30</td>\n",
       "      <td>0.10</td>\n",
       "    </tr>\n",
       "  </tbody>\n",
       "</table>\n",
       "</div>"
      ],
      "text/plain": [
       "   name  bus   p_mw  q_mvar  sn_mva  scaling  in_service type  current_source  \\\n",
       "0  None    1  0.075   0.025     NaN      1.0        True  wye            True   \n",
       "1  None    3  0.150   0.000     NaN      1.0        True  wye            True   \n",
       "2  None    4  0.080   0.000     NaN      1.0        True  wye            True   \n",
       "\n",
       "   max_p_mw  max_q_mvar  \n",
       "0      0.15        0.15  \n",
       "1      0.40        0.10  \n",
       "2      0.30        0.10  "
      ]
     },
     "execution_count": 393,
     "metadata": {},
     "output_type": "execute_result"
    }
   ],
   "source": [
    "net.sgen"
   ]
  },
  {
   "cell_type": "code",
   "execution_count": 6,
   "id": "agricultural-stomach",
   "metadata": {
    "executionInfo": {
     "elapsed": 2125,
     "status": "ok",
     "timestamp": 1620005662287,
     "user": {
      "displayName": "Juan Sardón",
      "photoUrl": "https://lh3.googleusercontent.com/a-/AOh14Gh0hE4Hw8M0I17k-o2PXxLB5i6gNZV_oUTpZlyJ3Q=s64",
      "userId": "08267034058673099115"
     },
     "user_tz": 180
    },
    "id": "junior-abraham"
   },
   "outputs": [],
   "source": [
    " pp.runpp(net)"
   ]
  },
  {
   "cell_type": "code",
   "execution_count": 7,
   "id": "comic-tower",
   "metadata": {
    "colab": {
     "base_uri": "https://localhost:8080/"
    },
    "executionInfo": {
     "elapsed": 1619,
     "status": "ok",
     "timestamp": 1620005663021,
     "user": {
      "displayName": "Juan Sardón",
      "photoUrl": "https://lh3.googleusercontent.com/a-/AOh14Gh0hE4Hw8M0I17k-o2PXxLB5i6gNZV_oUTpZlyJ3Q=s64",
      "userId": "08267034058673099115"
     },
     "user_tz": 180
    },
    "id": "biological-emergency",
    "outputId": "ff9a4063-32b3-467c-c916-afc6f5140231"
   },
   "outputs": [
    {
     "name": "stdout",
     "output_type": "stream",
     "text": [
      "0    1.000000\n",
      "1    0.998975\n",
      "2    0.996269\n",
      "3    1.000068\n",
      "4    0.998349\n",
      "5    0.993388\n",
      "6    0.999583\n",
      "Name: vm_pu, dtype: float64\n",
      "   p_from_mw  q_from_mvar       p_to_mw     q_to_mvar     pl_mw   ql_mvar  \\\n",
      "0   0.351322    -0.033041 -3.509561e-01  2.390172e-02  0.000366 -0.009139   \n",
      "1   0.350956    -0.023902 -3.500000e-01 -2.534783e-15  0.000956 -0.023902   \n",
      "2   0.000015    -0.057478 -1.421276e-14 -1.768953e-15  0.000015 -0.057478   \n",
      "3   0.856154     0.307957 -8.546254e-01 -3.134972e-01  0.001528 -0.005541   \n",
      "4   0.854625     0.313497 -8.500000e-01 -3.300000e-01  0.004625 -0.016503   \n",
      "5   0.220093     0.044267 -2.200000e-01 -5.000000e-02  0.000093 -0.005733   \n",
      "\n",
      "   i_from_ka       i_to_ka      i_ka  vm_from_pu  va_from_degree  vm_to_pu  \\\n",
      "0   0.015434  1.540169e-02  0.015434    1.000000        0.000000  0.998975   \n",
      "1   0.015402  1.536586e-02  0.015402    0.998975       -0.012487  0.996269   \n",
      "2   0.002514  6.264008e-16  0.002514    1.000000        0.000000  1.000068   \n",
      "3   0.039796  3.988161e-02  0.039882    1.000000        0.000000  0.998349   \n",
      "4   0.039882  4.014687e-02  0.040147    0.998349        0.021161  0.993388   \n",
      "5   0.009819  9.872004e-03  0.009872    1.000000        0.000000  0.999583   \n",
      "\n",
      "   va_to_degree  loading_percent  \n",
      "0     -0.012487        10.869136  \n",
      "1     -0.037980        10.846259  \n",
      "2     -0.030337         1.770431  \n",
      "3      0.021161        28.085640  \n",
      "4      0.088726        28.272442  \n",
      "5      0.001973         6.952116  \n"
     ]
    }
   ],
   "source": [
    "print(net.res_bus.vm_pu)\n",
    "print(net.res_line)"
   ]
  },
  {
   "cell_type": "code",
   "execution_count": 8,
   "id": "tamil-private",
   "metadata": {
    "colab": {
     "base_uri": "https://localhost:8080/"
    },
    "executionInfo": {
     "elapsed": 885,
     "status": "ok",
     "timestamp": 1620005663021,
     "user": {
      "displayName": "Juan Sardón",
      "photoUrl": "https://lh3.googleusercontent.com/a-/AOh14Gh0hE4Hw8M0I17k-o2PXxLB5i6gNZV_oUTpZlyJ3Q=s64",
      "userId": "08267034058673099115"
     },
     "user_tz": 180
    },
    "id": "norwegian-dover",
    "outputId": "f1a78284-1d03-4323-8253-e779b726a433"
   },
   "outputs": [
    {
     "name": "stdout",
     "output_type": "stream",
     "text": [
      "This pandapower network includes the following parameter tables:\n",
      "   - bus (7 elements)\n",
      "   - load (3 elements)\n",
      "   - ext_grid (1 element)\n",
      "   - line (6 elements)\n",
      " and the following results tables:\n",
      "   - res_bus (7 elements)\n",
      "   - res_line (6 elements)\n",
      "   - res_ext_grid (1 element)\n",
      "   - res_load (3 elements)\n"
     ]
    }
   ],
   "source": [
    "print(net)"
   ]
  },
  {
   "cell_type": "markdown",
   "id": "finnish-median",
   "metadata": {
    "id": "pTK9BGaY4BEu"
   },
   "source": [
    "## Construcción de Escenarios"
   ]
  },
  {
   "cell_type": "code",
   "execution_count": 436,
   "id": "considered-sheep",
   "metadata": {},
   "outputs": [
    {
     "data": {
      "text/html": [
       "<div>\n",
       "<style scoped>\n",
       "    .dataframe tbody tr th:only-of-type {\n",
       "        vertical-align: middle;\n",
       "    }\n",
       "\n",
       "    .dataframe tbody tr th {\n",
       "        vertical-align: top;\n",
       "    }\n",
       "\n",
       "    .dataframe thead th {\n",
       "        text-align: right;\n",
       "    }\n",
       "</style>\n",
       "<table border=\"1\" class=\"dataframe\">\n",
       "  <thead>\n",
       "    <tr style=\"text-align: right;\">\n",
       "      <th></th>\n",
       "      <th>year</th>\n",
       "      <th>day</th>\n",
       "      <th>dd</th>\n",
       "      <th>hour</th>\n",
       "      <th>dt</th>\n",
       "      <th>growth</th>\n",
       "      <th>discount</th>\n",
       "      <th>solar_irradiance</th>\n",
       "      <th>wind_speed</th>\n",
       "    </tr>\n",
       "  </thead>\n",
       "  <tbody>\n",
       "    <tr>\n",
       "      <th>0</th>\n",
       "      <td>0.0</td>\n",
       "      <td>0.0</td>\n",
       "      <td>30.416667</td>\n",
       "      <td>0.0</td>\n",
       "      <td>1.0</td>\n",
       "      <td>1.00000</td>\n",
       "      <td>1.000000</td>\n",
       "      <td>0.0</td>\n",
       "      <td>0.824324</td>\n",
       "    </tr>\n",
       "    <tr>\n",
       "      <th>1</th>\n",
       "      <td>0.0</td>\n",
       "      <td>0.0</td>\n",
       "      <td>30.416667</td>\n",
       "      <td>1.0</td>\n",
       "      <td>1.0</td>\n",
       "      <td>1.00000</td>\n",
       "      <td>1.000000</td>\n",
       "      <td>0.0</td>\n",
       "      <td>1.292458</td>\n",
       "    </tr>\n",
       "    <tr>\n",
       "      <th>2</th>\n",
       "      <td>0.0</td>\n",
       "      <td>0.0</td>\n",
       "      <td>30.416667</td>\n",
       "      <td>2.0</td>\n",
       "      <td>1.0</td>\n",
       "      <td>1.00000</td>\n",
       "      <td>1.000000</td>\n",
       "      <td>0.0</td>\n",
       "      <td>2.229691</td>\n",
       "    </tr>\n",
       "    <tr>\n",
       "      <th>3</th>\n",
       "      <td>0.0</td>\n",
       "      <td>0.0</td>\n",
       "      <td>30.416667</td>\n",
       "      <td>3.0</td>\n",
       "      <td>1.0</td>\n",
       "      <td>1.00000</td>\n",
       "      <td>1.000000</td>\n",
       "      <td>0.0</td>\n",
       "      <td>2.664774</td>\n",
       "    </tr>\n",
       "    <tr>\n",
       "      <th>4</th>\n",
       "      <td>0.0</td>\n",
       "      <td>0.0</td>\n",
       "      <td>30.416667</td>\n",
       "      <td>4.0</td>\n",
       "      <td>1.0</td>\n",
       "      <td>1.00000</td>\n",
       "      <td>1.000000</td>\n",
       "      <td>0.0</td>\n",
       "      <td>3.132269</td>\n",
       "    </tr>\n",
       "    <tr>\n",
       "      <th>...</th>\n",
       "      <td>...</td>\n",
       "      <td>...</td>\n",
       "      <td>...</td>\n",
       "      <td>...</td>\n",
       "      <td>...</td>\n",
       "      <td>...</td>\n",
       "      <td>...</td>\n",
       "      <td>...</td>\n",
       "      <td>...</td>\n",
       "    </tr>\n",
       "    <tr>\n",
       "      <th>5755</th>\n",
       "      <td>19.0</td>\n",
       "      <td>330.0</td>\n",
       "      <td>30.416667</td>\n",
       "      <td>19.0</td>\n",
       "      <td>1.0</td>\n",
       "      <td>1.59865</td>\n",
       "      <td>0.570286</td>\n",
       "      <td>0.0</td>\n",
       "      <td>8.168995</td>\n",
       "    </tr>\n",
       "    <tr>\n",
       "      <th>5756</th>\n",
       "      <td>19.0</td>\n",
       "      <td>330.0</td>\n",
       "      <td>30.416667</td>\n",
       "      <td>20.0</td>\n",
       "      <td>1.0</td>\n",
       "      <td>1.59865</td>\n",
       "      <td>0.570286</td>\n",
       "      <td>0.0</td>\n",
       "      <td>7.279864</td>\n",
       "    </tr>\n",
       "    <tr>\n",
       "      <th>5757</th>\n",
       "      <td>19.0</td>\n",
       "      <td>330.0</td>\n",
       "      <td>30.416667</td>\n",
       "      <td>21.0</td>\n",
       "      <td>1.0</td>\n",
       "      <td>1.59865</td>\n",
       "      <td>0.570286</td>\n",
       "      <td>0.0</td>\n",
       "      <td>7.101687</td>\n",
       "    </tr>\n",
       "    <tr>\n",
       "      <th>5758</th>\n",
       "      <td>19.0</td>\n",
       "      <td>330.0</td>\n",
       "      <td>30.416667</td>\n",
       "      <td>22.0</td>\n",
       "      <td>1.0</td>\n",
       "      <td>1.59865</td>\n",
       "      <td>0.570286</td>\n",
       "      <td>0.0</td>\n",
       "      <td>7.505210</td>\n",
       "    </tr>\n",
       "    <tr>\n",
       "      <th>5759</th>\n",
       "      <td>19.0</td>\n",
       "      <td>330.0</td>\n",
       "      <td>30.416667</td>\n",
       "      <td>23.0</td>\n",
       "      <td>1.0</td>\n",
       "      <td>1.59865</td>\n",
       "      <td>0.570286</td>\n",
       "      <td>0.0</td>\n",
       "      <td>7.440735</td>\n",
       "    </tr>\n",
       "  </tbody>\n",
       "</table>\n",
       "<p>5760 rows × 9 columns</p>\n",
       "</div>"
      ],
      "text/plain": [
       "      year    day         dd  hour   dt   growth  discount  solar_irradiance  \\\n",
       "0      0.0    0.0  30.416667   0.0  1.0  1.00000  1.000000               0.0   \n",
       "1      0.0    0.0  30.416667   1.0  1.0  1.00000  1.000000               0.0   \n",
       "2      0.0    0.0  30.416667   2.0  1.0  1.00000  1.000000               0.0   \n",
       "3      0.0    0.0  30.416667   3.0  1.0  1.00000  1.000000               0.0   \n",
       "4      0.0    0.0  30.416667   4.0  1.0  1.00000  1.000000               0.0   \n",
       "...    ...    ...        ...   ...  ...      ...       ...               ...   \n",
       "5755  19.0  330.0  30.416667  19.0  1.0  1.59865  0.570286               0.0   \n",
       "5756  19.0  330.0  30.416667  20.0  1.0  1.59865  0.570286               0.0   \n",
       "5757  19.0  330.0  30.416667  21.0  1.0  1.59865  0.570286               0.0   \n",
       "5758  19.0  330.0  30.416667  22.0  1.0  1.59865  0.570286               0.0   \n",
       "5759  19.0  330.0  30.416667  23.0  1.0  1.59865  0.570286               0.0   \n",
       "\n",
       "      wind_speed  \n",
       "0       0.824324  \n",
       "1       1.292458  \n",
       "2       2.229691  \n",
       "3       2.664774  \n",
       "4       3.132269  \n",
       "...          ...  \n",
       "5755    8.168995  \n",
       "5756    7.279864  \n",
       "5757    7.101687  \n",
       "5758    7.505210  \n",
       "5759    7.440735  \n",
       "\n",
       "[5760 rows x 9 columns]"
      ]
     },
     "execution_count": 436,
     "metadata": {},
     "output_type": "execute_result"
    }
   ],
   "source": [
    "#s = Scenes.SceneBuilder(years = 4, subperiods = 1, days_in_subperiods = 1, dt=12, growth_rate = 0.025, discount_rate = 0.05)\n",
    "#s = Scenes.SceneBuilder(years = 20, subperiods = 12, days_in_subperiods = 1, growth_rate = 0.025, discount_rate = 0.03)\n",
    "s = Scenes.SceneBuilder(years = 20, subperiods = 12, days_in_subperiods = 1, growth_rate = 0.025, discount_rate = 0.03)\n",
    "scenes = s.build_scenes()\n",
    "scenes"
   ]
  },
  {
   "cell_type": "markdown",
   "id": "funny-providence",
   "metadata": {
    "id": "DrtD-E834lhY"
   },
   "source": [
    "## Model Construction"
   ]
  },
  {
   "cell_type": "markdown",
   "id": "threaded-helena",
   "metadata": {
    "id": "spiritual-luxembourg"
   },
   "source": [
    "Construccion automatica del modelo\n",
    "Es un modelo de dimensionamiento de 3 DERs (WT+PV)"
   ]
  },
  {
   "cell_type": "code",
   "execution_count": 437,
   "id": "homeless-graduation",
   "metadata": {},
   "outputs": [],
   "source": [
    "model_writer = mw.SimpleModelWriter(net, scenes)"
   ]
  },
  {
   "cell_type": "code",
   "execution_count": 438,
   "id": "demographic-voluntary",
   "metadata": {},
   "outputs": [],
   "source": [
    "net.ext_grid['model'][0] = Resources.ExtGrid('SET', pr_mw = 5.0, peak_value=200, valley_value=120, rest_value=160)\n",
    "#net.ext_grid['model'][0] = Resources.ExtGrid('SET', pr_mw = 5.0, peak_value=2000, valley_value=1500, rest_value=1000)"
   ]
  },
  {
   "cell_type": "code",
   "execution_count": 439,
   "id": "fitting-chess",
   "metadata": {},
   "outputs": [],
   "source": [
    "net.load['model'][0] = Resources.Load('Tornquinst', pr_mw = 0.35)\n",
    "net.load['model'][1] = Resources.Load('Bell Ville', pr_mw = 0.85)\n",
    "net.load['model'][2] = Resources.Load('City Bell', pr_mw = 0.22)"
   ]
  },
  {
   "cell_type": "code",
   "execution_count": 440,
   "id": "usual-chess",
   "metadata": {},
   "outputs": [],
   "source": [
    "net.sgen['model'][0] = Resources.PVGenerator('PV1', ic_0_mu = 0.0, ic_1_mu = 1.02e6, oc_0_mu = 1.02, oc_1_mu = 0.0)\n",
    "net.sgen['model'][1] = Resources.WTGeneratorDiscrete('WT1', unit_size_mw = 0.19, unit_cost_mu = 541e3, oc_0_mu = 0.00, oc_1_mu = 1.70)\n",
    "net.sgen['model'][2] = Resources.PVGeneratorDiscrete('PV2', unit_size_mw = 0.05, unit_cost_mu = 51e3, oc_0_mu = 0.03, oc_1_mu = 0.0)"
   ]
  },
  {
   "cell_type": "code",
   "execution_count": 441,
   "id": "elder-kelly",
   "metadata": {},
   "outputs": [],
   "source": [
    "net.storage['model'][0] = Resources.Storage('ST1', ic_1_mu = 554e3, ic_1_mu_cap = 330e3, oc_1_mu = 2.28*4, eta_bb = 0.8, sigma = 2.1e-3)"
   ]
  },
  {
   "cell_type": "markdown",
   "id": "atlantic-mainland",
   "metadata": {},
   "source": [
    "## Resolution"
   ]
  },
  {
   "cell_type": "code",
   "execution_count": 442,
   "id": "gorgeous-royal",
   "metadata": {},
   "outputs": [],
   "source": [
    "model = model_writer.create_model()"
   ]
  },
  {
   "cell_type": "code",
   "execution_count": 443,
   "id": "excessive-article",
   "metadata": {},
   "outputs": [],
   "source": [
    "#model.pprint()"
   ]
  },
  {
   "cell_type": "code",
   "execution_count": 444,
   "id": "fantastic-manchester",
   "metadata": {},
   "outputs": [
    {
     "name": "stdout",
     "output_type": "stream",
     "text": [
      "\n",
      "Welcome to IBM(R) ILOG(R) CPLEX(R) Interactive Optimizer 20.1.0.0\n",
      "  with Simplex, Mixed Integer & Barrier Optimizers\n",
      "5725-A06 5725-A29 5724-Y48 5724-Y49 5724-Y54 5724-Y55 5655-Y21\n",
      "Copyright IBM Corp. 1988, 2020.  All Rights Reserved.\n",
      "\n",
      "Type 'help' for a list of available commands.\n",
      "Type 'help' followed by a command name for more\n",
      "information on commands.\n",
      "\n",
      "CPLEX> Logfile 'cplex.log' closed.\n",
      "Logfile 'C:\\Users\\jmsar\\AppData\\Local\\Temp\\tmp1ytp5for.cplex.log' open.\n",
      "CPLEX> Problem 'C:\\Users\\jmsar\\AppData\\Local\\Temp\\tmpv6l6cd2x.pyomo.lp' read.\n",
      "Read time = 0.11 sec. (5.00 ticks)\n",
      "CPLEX> Problem name         : C:\\Users\\jmsar\\AppData\\Local\\Temp\\tmpv6l6cd2x.pyomo.lp\n",
      "Objective sense      : Minimize\n",
      "Variables            :   34572  [Nneg: 23046,  Box: 5760,  Free: 5760,\n",
      "                                 Binary: 4,  General Integer: 2]\n",
      "Objective nonzeros   :   17286\n",
      "Linear constraints   :   51848  [Less: 40325,  Equal: 11523]\n",
      "  Nonzeros           :  120932\n",
      "  RHS nonzeros       :    5761\n",
      "\n",
      "Variables            : Min LB: 0.000000         Max UB: 5.000000       \n",
      "Objective nonzeros   : Min   : 29.48854         Max   : 1020000.       \n",
      "Linear constraints   :\n",
      "  Nonzeros           : Min   : 6.794551e-06     Max   : 1000.000       \n",
      "  RHS nonzeros       : Min   : 0.1825190        Max   : 3.279307       \n",
      "CPLEX> Version identifier: 20.1.0.0 | 2020-11-10 | 9bedb6d68\n",
      "Found incumbent of value 1.9600371e+07 after 0.00 sec. (2.34 ticks)\n",
      "Tried aggregator 2 times.\n",
      "MIP Presolve eliminated 5885 rows and 5879 columns.\n",
      "Aggregator did 3 substitutions.\n",
      "Reduced MIP has 45960 rows, 28690 columns, and 109157 nonzeros.\n",
      "Reduced MIP has 0 binaries, 2 generals, 0 SOSs, and 0 indicators.\n",
      "Presolve time = 0.16 sec. (84.81 ticks)\n",
      "Tried aggregator 1 time.\n",
      "Detecting symmetries...\n",
      "Reduced MIP has 45960 rows, 28690 columns, and 109157 nonzeros.\n",
      "Reduced MIP has 0 binaries, 2 generals, 0 SOSs, and 0 indicators.\n",
      "Presolve time = 0.13 sec. (53.19 ticks)\n",
      "MIP emphasis: balance optimality and feasibility.\n",
      "MIP search method: dynamic search.\n",
      "Parallel mode: deterministic, using up to 4 threads.\n",
      "Root relaxation solution time = 3.41 sec. (1205.27 ticks)\n",
      "\n",
      "        Nodes                                         Cuts/\n",
      "   Node  Left     Objective  IInf  Best Integer    Best Bound    ItCnt     Gap\n",
      "\n",
      "*     0+    0                       1.96004e+07  -3.33468e+08              --- \n",
      "      0     0   1.10484e+07     1   1.96004e+07   1.10484e+07       48   43.63%\n",
      "*     0+    0                       1.10912e+07   1.10484e+07             0.39%\n",
      "*     0+    0                       1.10484e+07   1.10484e+07             0.00%\n",
      "      0     0        cutoff         1.10484e+07   1.10484e+07       48    0.00%\n",
      "Elapsed time = 4.30 sec. (1459.53 ticks, tree = 0.01 MB, solutions = 2)\n",
      "\n",
      "Root node processing (before b&c):\n",
      "  Real time             =    4.31 sec. (1461.74 ticks)\n",
      "Parallel b&c, 4 threads:\n",
      "  Real time             =    0.00 sec. (0.00 ticks)\n",
      "  Sync time (average)   =    0.00 sec.\n",
      "  Wait time (average)   =    0.00 sec.\n",
      "                          ------------\n",
      "Total (root+branch&cut) =    4.31 sec. (1461.74 ticks)\n",
      "\n",
      "Solution pool: 3 solutions saved.\n",
      "\n",
      "MIP - Integer optimal solution:  Objective =  1.1048355083e+07\n",
      "Solution time =    4.31 sec.  Iterations = 48  Nodes = 0\n",
      "Deterministic time = 1461.84 ticks  (338.94 ticks/sec)\n",
      "\n",
      "CPLEX> Incumbent solution written to file 'C:\\Users\\jmsar\\AppData\\Local\\Temp\\tmple4psyji.cplex.sol'.\n",
      "CPLEX> "
     ]
    }
   ],
   "source": [
    "#solver_manager = pe.SolverManagerFactory('neos')\n",
    "#result_obj = solver_manager.solve(model.model, opt='cplex')\n",
    "\n",
    "opt = pe.SolverFactory('cplex')\n",
    "#opt = pe.SolverFactory('glpk')\n",
    "result_obj= opt.solve(model, tee=True)"
   ]
  },
  {
   "cell_type": "code",
   "execution_count": 445,
   "id": "obvious-munich",
   "metadata": {},
   "outputs": [],
   "source": [
    "model_writer.backconfigure_network()"
   ]
  },
  {
   "cell_type": "code",
   "execution_count": 446,
   "id": "altered-bullet",
   "metadata": {},
   "outputs": [
    {
     "data": {
      "text/html": [
       "<div>\n",
       "<style scoped>\n",
       "    .dataframe tbody tr th:only-of-type {\n",
       "        vertical-align: middle;\n",
       "    }\n",
       "\n",
       "    .dataframe tbody tr th {\n",
       "        vertical-align: top;\n",
       "    }\n",
       "\n",
       "    .dataframe thead th {\n",
       "        text-align: right;\n",
       "    }\n",
       "</style>\n",
       "<table border=\"1\" class=\"dataframe\">\n",
       "  <thead>\n",
       "    <tr style=\"text-align: right;\">\n",
       "      <th></th>\n",
       "      <th>name</th>\n",
       "      <th>bus</th>\n",
       "      <th>p_mw</th>\n",
       "      <th>q_mvar</th>\n",
       "      <th>sn_mva</th>\n",
       "      <th>scaling</th>\n",
       "      <th>in_service</th>\n",
       "      <th>type</th>\n",
       "      <th>current_source</th>\n",
       "      <th>max_p_mw</th>\n",
       "      <th>max_q_mvar</th>\n",
       "      <th>model</th>\n",
       "    </tr>\n",
       "  </thead>\n",
       "  <tbody>\n",
       "    <tr>\n",
       "      <th>0</th>\n",
       "      <td>None</td>\n",
       "      <td>1</td>\n",
       "      <td>0.075</td>\n",
       "      <td>0.025</td>\n",
       "      <td>NaN</td>\n",
       "      <td>1.0</td>\n",
       "      <td>True</td>\n",
       "      <td>wye</td>\n",
       "      <td>True</td>\n",
       "      <td>2.029518</td>\n",
       "      <td>1.014759</td>\n",
       "      <td>Resource: PV1</td>\n",
       "    </tr>\n",
       "    <tr>\n",
       "      <th>1</th>\n",
       "      <td>None</td>\n",
       "      <td>3</td>\n",
       "      <td>0.150</td>\n",
       "      <td>0.000</td>\n",
       "      <td>NaN</td>\n",
       "      <td>1.0</td>\n",
       "      <td>True</td>\n",
       "      <td>wye</td>\n",
       "      <td>True</td>\n",
       "      <td>0.000000</td>\n",
       "      <td>0.000000</td>\n",
       "      <td>Resource: WT1</td>\n",
       "    </tr>\n",
       "    <tr>\n",
       "      <th>2</th>\n",
       "      <td>None</td>\n",
       "      <td>4</td>\n",
       "      <td>0.080</td>\n",
       "      <td>0.000</td>\n",
       "      <td>NaN</td>\n",
       "      <td>1.0</td>\n",
       "      <td>True</td>\n",
       "      <td>wye</td>\n",
       "      <td>True</td>\n",
       "      <td>1.950000</td>\n",
       "      <td>0.975000</td>\n",
       "      <td>Resource: PV2</td>\n",
       "    </tr>\n",
       "  </tbody>\n",
       "</table>\n",
       "</div>"
      ],
      "text/plain": [
       "   name  bus   p_mw  q_mvar  sn_mva  scaling  in_service type  current_source  \\\n",
       "0  None    1  0.075   0.025     NaN      1.0        True  wye            True   \n",
       "1  None    3  0.150   0.000     NaN      1.0        True  wye            True   \n",
       "2  None    4  0.080   0.000     NaN      1.0        True  wye            True   \n",
       "\n",
       "   max_p_mw  max_q_mvar          model  \n",
       "0  2.029518    1.014759  Resource: PV1  \n",
       "1  0.000000    0.000000  Resource: WT1  \n",
       "2  1.950000    0.975000  Resource: PV2  "
      ]
     },
     "execution_count": 446,
     "metadata": {},
     "output_type": "execute_result"
    }
   ],
   "source": [
    "model_writer.net.sgen"
   ]
  },
  {
   "cell_type": "code",
   "execution_count": 447,
   "id": "attended-relations",
   "metadata": {},
   "outputs": [
    {
     "data": {
      "text/plain": [
       "-0.0"
      ]
     },
     "execution_count": 447,
     "metadata": {},
     "output_type": "execute_result"
    }
   ],
   "source": [
    "net.sgen['model'][1].units.value"
   ]
  },
  {
   "cell_type": "code",
   "execution_count": 448,
   "id": "wireless-chocolate",
   "metadata": {},
   "outputs": [
    {
     "data": {
      "text/html": [
       "<div>\n",
       "<style scoped>\n",
       "    .dataframe tbody tr th:only-of-type {\n",
       "        vertical-align: middle;\n",
       "    }\n",
       "\n",
       "    .dataframe tbody tr th {\n",
       "        vertical-align: top;\n",
       "    }\n",
       "\n",
       "    .dataframe thead th {\n",
       "        text-align: right;\n",
       "    }\n",
       "</style>\n",
       "<table border=\"1\" class=\"dataframe\">\n",
       "  <thead>\n",
       "    <tr style=\"text-align: right;\">\n",
       "      <th></th>\n",
       "      <th>name</th>\n",
       "      <th>bus</th>\n",
       "      <th>p_mw</th>\n",
       "      <th>q_mvar</th>\n",
       "      <th>sn_mva</th>\n",
       "      <th>soc_percent</th>\n",
       "      <th>min_e_mwh</th>\n",
       "      <th>max_e_mwh</th>\n",
       "      <th>scaling</th>\n",
       "      <th>in_service</th>\n",
       "      <th>type</th>\n",
       "      <th>model</th>\n",
       "    </tr>\n",
       "  </thead>\n",
       "  <tbody>\n",
       "    <tr>\n",
       "      <th>0</th>\n",
       "      <td>None</td>\n",
       "      <td>3</td>\n",
       "      <td>0.25</td>\n",
       "      <td>0.1</td>\n",
       "      <td>NaN</td>\n",
       "      <td>NaN</td>\n",
       "      <td>0.0</td>\n",
       "      <td>7.474662</td>\n",
       "      <td>1.0</td>\n",
       "      <td>True</td>\n",
       "      <td>None</td>\n",
       "      <td>Resource: ST1</td>\n",
       "    </tr>\n",
       "  </tbody>\n",
       "</table>\n",
       "</div>"
      ],
      "text/plain": [
       "   name  bus  p_mw  q_mvar  sn_mva  soc_percent  min_e_mwh  max_e_mwh  \\\n",
       "0  None    3  0.25     0.1     NaN          NaN        0.0   7.474662   \n",
       "\n",
       "   scaling  in_service  type          model  \n",
       "0      1.0        True  None  Resource: ST1  "
      ]
     },
     "execution_count": 448,
     "metadata": {},
     "output_type": "execute_result"
    }
   ],
   "source": [
    "model_writer.net.storage"
   ]
  },
  {
   "cell_type": "code",
   "execution_count": 449,
   "id": "conscious-scoop",
   "metadata": {
    "tags": []
   },
   "outputs": [],
   "source": [
    "Resultados = model_writer.get_scenes_results()"
   ]
  },
  {
   "cell_type": "code",
   "execution_count": 450,
   "id": "judicial-heather",
   "metadata": {
    "colab": {
     "base_uri": "https://localhost:8080/",
     "height": 424
    },
    "executionInfo": {
     "elapsed": 699,
     "status": "ok",
     "timestamp": 1619873491559,
     "user": {
      "displayName": "Juan Sardón",
      "photoUrl": "https://lh3.googleusercontent.com/a-/AOh14Gh0hE4Hw8M0I17k-o2PXxLB5i6gNZV_oUTpZlyJ3Q=s64",
      "userId": "08267034058673099115"
     },
     "user_tz": 180
    },
    "id": "tropical-completion",
    "outputId": "082e0a6f-0230-4e8e-b532-e95c63049c68"
   },
   "outputs": [
    {
     "data": {
      "text/html": [
       "<div>\n",
       "<style scoped>\n",
       "    .dataframe tbody tr th:only-of-type {\n",
       "        vertical-align: middle;\n",
       "    }\n",
       "\n",
       "    .dataframe tbody tr th {\n",
       "        vertical-align: top;\n",
       "    }\n",
       "\n",
       "    .dataframe thead th {\n",
       "        text-align: right;\n",
       "    }\n",
       "</style>\n",
       "<table border=\"1\" class=\"dataframe\">\n",
       "  <thead>\n",
       "    <tr style=\"text-align: right;\">\n",
       "      <th></th>\n",
       "      <th>SET_p_mw</th>\n",
       "      <th>Tornquinst_p_mw</th>\n",
       "      <th>Bell Ville_p_mw</th>\n",
       "      <th>City Bell_p_mw</th>\n",
       "      <th>PV1_p_mw</th>\n",
       "      <th>WT1_p_mw</th>\n",
       "      <th>PV2_p_mw</th>\n",
       "      <th>ST1_p_mw</th>\n",
       "      <th>ST1_soc_mwh</th>\n",
       "    </tr>\n",
       "  </thead>\n",
       "  <tbody>\n",
       "    <tr>\n",
       "      <th>0</th>\n",
       "      <td>0.307360</td>\n",
       "      <td>-0.082689</td>\n",
       "      <td>-0.171862</td>\n",
       "      <td>-0.052809</td>\n",
       "      <td>0.0</td>\n",
       "      <td>0.0</td>\n",
       "      <td>0.0</td>\n",
       "      <td>0.000000</td>\n",
       "      <td>0.000000</td>\n",
       "    </tr>\n",
       "    <tr>\n",
       "      <th>1</th>\n",
       "      <td>2.071969</td>\n",
       "      <td>-0.085531</td>\n",
       "      <td>-0.210548</td>\n",
       "      <td>-0.054848</td>\n",
       "      <td>0.0</td>\n",
       "      <td>0.0</td>\n",
       "      <td>0.0</td>\n",
       "      <td>-1.721043</td>\n",
       "      <td>1.376834</td>\n",
       "    </tr>\n",
       "    <tr>\n",
       "      <th>2</th>\n",
       "      <td>2.076887</td>\n",
       "      <td>-0.090090</td>\n",
       "      <td>-0.220990</td>\n",
       "      <td>-0.044764</td>\n",
       "      <td>0.0</td>\n",
       "      <td>0.0</td>\n",
       "      <td>0.0</td>\n",
       "      <td>-1.721043</td>\n",
       "      <td>2.750777</td>\n",
       "    </tr>\n",
       "    <tr>\n",
       "      <th>3</th>\n",
       "      <td>2.003196</td>\n",
       "      <td>-0.073152</td>\n",
       "      <td>-0.166209</td>\n",
       "      <td>-0.042792</td>\n",
       "      <td>0.0</td>\n",
       "      <td>0.0</td>\n",
       "      <td>0.0</td>\n",
       "      <td>-1.721043</td>\n",
       "      <td>4.121834</td>\n",
       "    </tr>\n",
       "    <tr>\n",
       "      <th>4</th>\n",
       "      <td>2.058280</td>\n",
       "      <td>-0.082384</td>\n",
       "      <td>-0.203492</td>\n",
       "      <td>-0.051362</td>\n",
       "      <td>0.0</td>\n",
       "      <td>0.0</td>\n",
       "      <td>0.0</td>\n",
       "      <td>-1.721043</td>\n",
       "      <td>5.490013</td>\n",
       "    </tr>\n",
       "    <tr>\n",
       "      <th>...</th>\n",
       "      <td>...</td>\n",
       "      <td>...</td>\n",
       "      <td>...</td>\n",
       "      <td>...</td>\n",
       "      <td>...</td>\n",
       "      <td>...</td>\n",
       "      <td>...</td>\n",
       "      <td>...</td>\n",
       "      <td>...</td>\n",
       "    </tr>\n",
       "    <tr>\n",
       "      <th>5755</th>\n",
       "      <td>0.856575</td>\n",
       "      <td>-0.580641</td>\n",
       "      <td>-1.547390</td>\n",
       "      <td>-0.449587</td>\n",
       "      <td>0.0</td>\n",
       "      <td>0.0</td>\n",
       "      <td>0.0</td>\n",
       "      <td>1.721043</td>\n",
       "      <td>3.104396</td>\n",
       "    </tr>\n",
       "    <tr>\n",
       "      <th>5756</th>\n",
       "      <td>1.058394</td>\n",
       "      <td>-0.625637</td>\n",
       "      <td>-1.685302</td>\n",
       "      <td>-0.468498</td>\n",
       "      <td>0.0</td>\n",
       "      <td>0.0</td>\n",
       "      <td>0.0</td>\n",
       "      <td>1.721043</td>\n",
       "      <td>1.721043</td>\n",
       "    </tr>\n",
       "    <tr>\n",
       "      <th>5757</th>\n",
       "      <td>1.773179</td>\n",
       "      <td>-0.633382</td>\n",
       "      <td>-1.619706</td>\n",
       "      <td>-0.474217</td>\n",
       "      <td>0.0</td>\n",
       "      <td>0.0</td>\n",
       "      <td>0.0</td>\n",
       "      <td>0.954127</td>\n",
       "      <td>0.954127</td>\n",
       "    </tr>\n",
       "    <tr>\n",
       "      <th>5758</th>\n",
       "      <td>0.184808</td>\n",
       "      <td>-0.210070</td>\n",
       "      <td>-0.374744</td>\n",
       "      <td>-0.128951</td>\n",
       "      <td>0.0</td>\n",
       "      <td>0.0</td>\n",
       "      <td>0.0</td>\n",
       "      <td>0.528957</td>\n",
       "      <td>0.528957</td>\n",
       "    </tr>\n",
       "    <tr>\n",
       "      <th>5759</th>\n",
       "      <td>0.429870</td>\n",
       "      <td>-0.222172</td>\n",
       "      <td>-0.376239</td>\n",
       "      <td>-0.124707</td>\n",
       "      <td>0.0</td>\n",
       "      <td>0.0</td>\n",
       "      <td>0.0</td>\n",
       "      <td>0.293248</td>\n",
       "      <td>0.293248</td>\n",
       "    </tr>\n",
       "  </tbody>\n",
       "</table>\n",
       "<p>5760 rows × 9 columns</p>\n",
       "</div>"
      ],
      "text/plain": [
       "      SET_p_mw  Tornquinst_p_mw  Bell Ville_p_mw  City Bell_p_mw  PV1_p_mw  \\\n",
       "0     0.307360        -0.082689        -0.171862       -0.052809       0.0   \n",
       "1     2.071969        -0.085531        -0.210548       -0.054848       0.0   \n",
       "2     2.076887        -0.090090        -0.220990       -0.044764       0.0   \n",
       "3     2.003196        -0.073152        -0.166209       -0.042792       0.0   \n",
       "4     2.058280        -0.082384        -0.203492       -0.051362       0.0   \n",
       "...        ...              ...              ...             ...       ...   \n",
       "5755  0.856575        -0.580641        -1.547390       -0.449587       0.0   \n",
       "5756  1.058394        -0.625637        -1.685302       -0.468498       0.0   \n",
       "5757  1.773179        -0.633382        -1.619706       -0.474217       0.0   \n",
       "5758  0.184808        -0.210070        -0.374744       -0.128951       0.0   \n",
       "5759  0.429870        -0.222172        -0.376239       -0.124707       0.0   \n",
       "\n",
       "      WT1_p_mw  PV2_p_mw  ST1_p_mw  ST1_soc_mwh  \n",
       "0          0.0       0.0  0.000000     0.000000  \n",
       "1          0.0       0.0 -1.721043     1.376834  \n",
       "2          0.0       0.0 -1.721043     2.750777  \n",
       "3          0.0       0.0 -1.721043     4.121834  \n",
       "4          0.0       0.0 -1.721043     5.490013  \n",
       "...        ...       ...       ...          ...  \n",
       "5755       0.0       0.0  1.721043     3.104396  \n",
       "5756       0.0       0.0  1.721043     1.721043  \n",
       "5757       0.0       0.0  0.954127     0.954127  \n",
       "5758       0.0       0.0  0.528957     0.528957  \n",
       "5759       0.0       0.0  0.293248     0.293248  \n",
       "\n",
       "[5760 rows x 9 columns]"
      ]
     },
     "execution_count": 450,
     "metadata": {},
     "output_type": "execute_result"
    }
   ],
   "source": [
    "Resultados"
   ]
  },
  {
   "cell_type": "code",
   "execution_count": 451,
   "id": "monthly-mouth",
   "metadata": {
    "colab": {
     "base_uri": "https://localhost:8080/",
     "height": 388
    },
    "executionInfo": {
     "elapsed": 1336,
     "status": "ok",
     "timestamp": 1619873495814,
     "user": {
      "displayName": "Juan Sardón",
      "photoUrl": "https://lh3.googleusercontent.com/a-/AOh14Gh0hE4Hw8M0I17k-o2PXxLB5i6gNZV_oUTpZlyJ3Q=s64",
      "userId": "08267034058673099115"
     },
     "user_tz": 180
    },
    "id": "planned-memorial",
    "outputId": "11488d44-f6a7-46f5-dd15-9afe980a328c"
   },
   "outputs": [
    {
     "data": {
      "image/png": "[encoded data removed]",
      "text/plain": [
       "<Figure size 720x432 with 1 Axes>"
      ]
     },
     "metadata": {
      "needs_background": "light"
     },
     "output_type": "display_data"
    }
   ],
   "source": [
    "# Set the plot curve with markers and a title\n",
    "fig, ax = plt.subplots(1, 1)\n",
    "\n",
    "fig.set_size_inches(10,6)\n",
    "#a=180*24\n",
    "#b=360\n",
    "#b=180*24+5*24\n",
    "a=0\n",
    "b=240\n",
    "for col in Resultados:\n",
    "    ax.plot(Resultados[col][a:b], label = col)\n",
    "\n",
    "ax.set_xlabel('time')\n",
    "ax.set_ylabel('P[mw]')\n",
    "\n",
    "ax.legend()\n",
    "\n",
    "ax.grid(True)\n",
    "\n",
    "\n",
    "plt.show()"
   ]
  },
  {
   "cell_type": "code",
   "execution_count": null,
   "id": "nearby-compact",
   "metadata": {},
   "outputs": [],
   "source": []
  }
 ],
 "metadata": {
  "colab": {
   "name": "Prueba PP-Pyomo-4.ipynb",
   "provenance": []
  },
  "kernelspec": {
   "display_name": "Python 3",
   "language": "python",
   "name": "python3"
  },
  "language_info": {
   "codemirror_mode": {
    "name": "ipython",
    "version": 3
   },
   "file_extension": ".py",
   "mimetype": "text/x-python",
   "name": "python",
   "nbconvert_exporter": "python",
   "pygments_lexer": "ipython3",
   "version": "3.8.8"
  }
 },
 "nbformat": 4,
 "nbformat_minor": 5
}
