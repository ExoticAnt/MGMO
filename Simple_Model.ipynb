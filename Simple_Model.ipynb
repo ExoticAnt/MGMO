{
 "cells": [
  {
   "cell_type": "markdown",
   "id": "limited-setting",
   "metadata": {
    "id": "addressed-terrorism"
   },
   "source": [
    "## Prueba de modelos ##\n",
    "\n",
    "### Version 4: Modelo con 2 DER, planificación anual, granularidad horaria ###\n",
    "\n",
    "Si el modelo tiene que optimizar el balance por horas, tiene 8640 VD, pero sigue teniendo 2 VD binarias"
   ]
  },
  {
   "cell_type": "code",
   "execution_count": 1,
   "id": "flexible-comedy",
   "metadata": {},
   "outputs": [],
   "source": [
    "%load_ext autoreload"
   ]
  },
  {
   "cell_type": "code",
   "execution_count": 2,
   "id": "polyphonic-wrong",
   "metadata": {},
   "outputs": [],
   "source": [
    "%autoreload 2"
   ]
  },
  {
   "cell_type": "code",
   "execution_count": 3,
   "id": "dated-delight",
   "metadata": {
    "executionInfo": {
     "elapsed": 5552,
     "status": "ok",
     "timestamp": 1620005659685,
     "user": {
      "displayName": "Juan Sardón",
      "photoUrl": "https://lh3.googleusercontent.com/a-/AOh14Gh0hE4Hw8M0I17k-o2PXxLB5i6gNZV_oUTpZlyJ3Q=s64",
      "userId": "08267034058673099115"
     },
     "user_tz": 180
    },
    "id": "aboriginal-joshua"
   },
   "outputs": [],
   "source": [
    "import pandapower as pp"
   ]
  },
  {
   "cell_type": "code",
   "execution_count": 4,
   "id": "armed-excuse",
   "metadata": {
    "executionInfo": {
     "elapsed": 5006,
     "status": "ok",
     "timestamp": 1620005659686,
     "user": {
      "displayName": "Juan Sardón",
      "photoUrl": "https://lh3.googleusercontent.com/a-/AOh14Gh0hE4Hw8M0I17k-o2PXxLB5i6gNZV_oUTpZlyJ3Q=s64",
      "userId": "08267034058673099115"
     },
     "user_tz": 180
    },
    "id": "YkmoER_O9JGU"
   },
   "outputs": [],
   "source": [
    "import os"
   ]
  },
  {
   "cell_type": "code",
   "execution_count": 5,
   "id": "suburban-theater",
   "metadata": {
    "executionInfo": {
     "elapsed": 4628,
     "status": "ok",
     "timestamp": 1620005659687,
     "user": {
      "displayName": "Juan Sardón",
      "photoUrl": "https://lh3.googleusercontent.com/a-/AOh14Gh0hE4Hw8M0I17k-o2PXxLB5i6gNZV_oUTpZlyJ3Q=s64",
      "userId": "08267034058673099115"
     },
     "user_tz": 180
    },
    "id": "narrative-census"
   },
   "outputs": [],
   "source": [
    "import pandas as pd"
   ]
  },
  {
   "cell_type": "code",
   "execution_count": 6,
   "id": "connected-classic",
   "metadata": {
    "executionInfo": {
     "elapsed": 4248,
     "status": "ok",
     "timestamp": 1620005659688,
     "user": {
      "displayName": "Juan Sardón",
      "photoUrl": "https://lh3.googleusercontent.com/a-/AOh14Gh0hE4Hw8M0I17k-o2PXxLB5i6gNZV_oUTpZlyJ3Q=s64",
      "userId": "08267034058673099115"
     },
     "user_tz": 180
    },
    "id": "collectible-innocent"
   },
   "outputs": [],
   "source": [
    "import pyomo.environ as pe"
   ]
  },
  {
   "cell_type": "code",
   "execution_count": 7,
   "id": "correct-sound",
   "metadata": {
    "executionInfo": {
     "elapsed": 3906,
     "status": "ok",
     "timestamp": 1620005659690,
     "user": {
      "displayName": "Juan Sardón",
      "photoUrl": "https://lh3.googleusercontent.com/a-/AOh14Gh0hE4Hw8M0I17k-o2PXxLB5i6gNZV_oUTpZlyJ3Q=s64",
      "userId": "08267034058673099115"
     },
     "user_tz": 180
    },
    "id": "handled-baltimore"
   },
   "outputs": [],
   "source": [
    "import math"
   ]
  },
  {
   "cell_type": "code",
   "execution_count": 8,
   "id": "coordinated-plate",
   "metadata": {
    "executionInfo": {
     "elapsed": 3594,
     "status": "ok",
     "timestamp": 1620005659691,
     "user": {
      "displayName": "Juan Sardón",
      "photoUrl": "https://lh3.googleusercontent.com/a-/AOh14Gh0hE4Hw8M0I17k-o2PXxLB5i6gNZV_oUTpZlyJ3Q=s64",
      "userId": "08267034058673099115"
     },
     "user_tz": 180
    },
    "id": "substantial-payroll"
   },
   "outputs": [],
   "source": [
    "import random"
   ]
  },
  {
   "cell_type": "code",
   "execution_count": 9,
   "id": "recorded-charter",
   "metadata": {
    "executionInfo": {
     "elapsed": 3285,
     "status": "ok",
     "timestamp": 1620005659691,
     "user": {
      "displayName": "Juan Sardón",
      "photoUrl": "https://lh3.googleusercontent.com/a-/AOh14Gh0hE4Hw8M0I17k-o2PXxLB5i6gNZV_oUTpZlyJ3Q=s64",
      "userId": "08267034058673099115"
     },
     "user_tz": 180
    },
    "id": "c0X5ABkvJYuo"
   },
   "outputs": [],
   "source": [
    "import itertools"
   ]
  },
  {
   "cell_type": "code",
   "execution_count": 10,
   "id": "catholic-fishing",
   "metadata": {
    "executionInfo": {
     "elapsed": 3074,
     "status": "ok",
     "timestamp": 1620005659693,
     "user": {
      "displayName": "Juan Sardón",
      "photoUrl": "https://lh3.googleusercontent.com/a-/AOh14Gh0hE4Hw8M0I17k-o2PXxLB5i6gNZV_oUTpZlyJ3Q=s64",
      "userId": "08267034058673099115"
     },
     "user_tz": 180
    },
    "id": "united-bronze"
   },
   "outputs": [],
   "source": [
    "import matplotlib.pyplot as plt"
   ]
  },
  {
   "cell_type": "code",
   "execution_count": 11,
   "id": "experienced-blond",
   "metadata": {},
   "outputs": [],
   "source": [
    "import numpy as np"
   ]
  },
  {
   "cell_type": "code",
   "execution_count": 45,
   "id": "quiet-necessity",
   "metadata": {},
   "outputs": [],
   "source": [
    "import ModelWriters.simple_busbar_model "
   ]
  },
  {
   "cell_type": "code",
   "execution_count": 271,
   "id": "exempt-emission",
   "metadata": {
    "colab": {
     "base_uri": "https://localhost:8080/"
    },
    "executionInfo": {
     "elapsed": 2223,
     "status": "ok",
     "timestamp": 1620005659694,
     "user": {
      "displayName": "Juan Sardón",
      "photoUrl": "https://lh3.googleusercontent.com/a-/AOh14Gh0hE4Hw8M0I17k-o2PXxLB5i6gNZV_oUTpZlyJ3Q=s64",
      "userId": "08267034058673099115"
     },
     "user_tz": 180
    },
    "id": "corrected-friendly",
    "outputId": "bdf4d701-1857-4ce0-be28-267a95d8d74a"
   },
   "outputs": [
    {
     "data": {
      "text/plain": [
       "2"
      ]
     },
     "execution_count": 271,
     "metadata": {},
     "output_type": "execute_result"
    }
   ],
   "source": [
    "net = pp.create_empty_network() \n",
    "b0 = pp.create_bus(net, vn_kv=13.2)\n",
    "\n",
    "pp.create_ext_grid(net, bus=b0)\n",
    "\n",
    "#ramal 1\n",
    "b11 = pp.create_bus(net, vn_kv=13.2)\n",
    "b12 = pp.create_bus(net, vn_kv=13.2)\n",
    "\n",
    "pp.create_line(net, from_bus=b0, to_bus=b11, length_km=0.8, std_type=\"NAYY 4x50 SE\")\n",
    "pp.create_line(net, from_bus=b11, to_bus=b12, length_km=2.1, std_type=\"NAYY 4x50 SE\")\n",
    "\n",
    "##pp.create_sgen(net, b11, p_mw=0.075, q_mvar=0.025, max_p_mw=0.15, max_q_mvar=0.15)\n",
    "pp.create_load(net, bus=b12, p_mw=0.350)\n",
    "\n",
    "#ramal 2\n",
    "b21 = pp.create_bus(net, vn_kv=13.2)\n",
    "pp.create_line(net, from_bus=b0, to_bus=b21, length_km=5.0, std_type=\"NAYY 4x50 SE\")\n",
    "##pp.create_sgen(net, b21, p_mw=0.15, q_mvar=0.00, max_p_mw=0.40, max_q_mvar=0.10)\n",
    "##pp.create_storage(net, bus=b21, p_mw=0.25, q_mvar=0.1, max_e_mwh = 3.0)\n",
    "\n",
    "#ramal 3\n",
    "b31 = pp.create_bus(net, vn_kv=13.2)\n",
    "b32 = pp.create_bus(net, vn_kv=13.2)\n",
    "pp.create_line(net, from_bus=b0, to_bus=b31, length_km=0.5, std_type=\"NAYY 4x50 SE\")\n",
    "pp.create_line(net, from_bus=b31, to_bus=b32, length_km=1.5, std_type=\"NAYY 4x50 SE\")\n",
    "##pp.create_sgen(net, b31, p_mw=0.08, q_mvar=0.00, max_p_mw=0.30, max_q_mvar=0.10)\n",
    "pp.create_load(net, bus=b32, p_mw=0.85, q_mvar=0.33)\n",
    "\n",
    "\n",
    "#ramal 4\n",
    "b41 = pp.create_bus(net, vn_kv=13.2)\n",
    "pp.create_line(net, from_bus=b0, to_bus=b41, length_km=0.5, std_type=\"NAYY 4x50 SE\")\n",
    "pp.create_load(net, bus=b41, p_mw=0.22, q_mvar=0.05)\n",
    "##pp.create_storage(net, bus=b41, p_mw=0.5, q_mvar=0.1, max_e_mwh = 5.0)\n",
    "\n"
   ]
  },
  {
   "cell_type": "code",
   "execution_count": 272,
   "id": "polar-montana",
   "metadata": {
    "executionInfo": {
     "elapsed": 2125,
     "status": "ok",
     "timestamp": 1620005662287,
     "user": {
      "displayName": "Juan Sardón",
      "photoUrl": "https://lh3.googleusercontent.com/a-/AOh14Gh0hE4Hw8M0I17k-o2PXxLB5i6gNZV_oUTpZlyJ3Q=s64",
      "userId": "08267034058673099115"
     },
     "user_tz": 180
    },
    "id": "junior-abraham"
   },
   "outputs": [],
   "source": [
    " pp.runpp(net)"
   ]
  },
  {
   "cell_type": "code",
   "execution_count": null,
   "id": "settled-incident",
   "metadata": {
    "executionInfo": {
     "elapsed": 1503,
     "status": "ok",
     "timestamp": 1620005662288,
     "user": {
      "displayName": "Juan Sardón",
      "photoUrl": "https://lh3.googleusercontent.com/a-/AOh14Gh0hE4Hw8M0I17k-o2PXxLB5i6gNZV_oUTpZlyJ3Q=s64",
      "userId": "08267034058673099115"
     },
     "user_tz": 180
    },
    "id": "conventional-colombia"
   },
   "outputs": [],
   "source": []
  },
  {
   "cell_type": "code",
   "execution_count": 273,
   "id": "international-secret",
   "metadata": {
    "colab": {
     "base_uri": "https://localhost:8080/"
    },
    "executionInfo": {
     "elapsed": 1619,
     "status": "ok",
     "timestamp": 1620005663021,
     "user": {
      "displayName": "Juan Sardón",
      "photoUrl": "https://lh3.googleusercontent.com/a-/AOh14Gh0hE4Hw8M0I17k-o2PXxLB5i6gNZV_oUTpZlyJ3Q=s64",
      "userId": "08267034058673099115"
     },
     "user_tz": 180
    },
    "id": "biological-emergency",
    "outputId": "ff9a4063-32b3-467c-c916-afc6f5140231"
   },
   "outputs": [
    {
     "name": "stdout",
     "output_type": "stream",
     "text": [
      "0    1.000000\n",
      "1    0.998975\n",
      "2    0.996269\n",
      "3    1.000068\n",
      "4    0.998349\n",
      "5    0.993388\n",
      "6    0.999583\n",
      "Name: vm_pu, dtype: float64\n",
      "   p_from_mw  q_from_mvar       p_to_mw     q_to_mvar     pl_mw   ql_mvar  \\\n",
      "0   0.351322    -0.033041 -3.509561e-01  2.390172e-02  0.000366 -0.009139   \n",
      "1   0.350956    -0.023902 -3.500000e-01 -2.534783e-15  0.000956 -0.023902   \n",
      "2   0.000015    -0.057478 -1.421276e-14 -1.768953e-15  0.000015 -0.057478   \n",
      "3   0.856154     0.307957 -8.546254e-01 -3.134972e-01  0.001528 -0.005541   \n",
      "4   0.854625     0.313497 -8.500000e-01 -3.300000e-01  0.004625 -0.016503   \n",
      "5   0.220093     0.044267 -2.200000e-01 -5.000000e-02  0.000093 -0.005733   \n",
      "\n",
      "   i_from_ka       i_to_ka      i_ka  vm_from_pu  va_from_degree  vm_to_pu  \\\n",
      "0   0.015434  1.540169e-02  0.015434    1.000000        0.000000  0.998975   \n",
      "1   0.015402  1.536586e-02  0.015402    0.998975       -0.012487  0.996269   \n",
      "2   0.002514  6.264008e-16  0.002514    1.000000        0.000000  1.000068   \n",
      "3   0.039796  3.988161e-02  0.039882    1.000000        0.000000  0.998349   \n",
      "4   0.039882  4.014687e-02  0.040147    0.998349        0.021161  0.993388   \n",
      "5   0.009819  9.872004e-03  0.009872    1.000000        0.000000  0.999583   \n",
      "\n",
      "   va_to_degree  loading_percent  \n",
      "0     -0.012487        10.869136  \n",
      "1     -0.037980        10.846259  \n",
      "2     -0.030337         1.770431  \n",
      "3      0.021161        28.085640  \n",
      "4      0.088726        28.272442  \n",
      "5      0.001973         6.952116  \n"
     ]
    }
   ],
   "source": [
    "print(net.res_bus.vm_pu)\n",
    "print(net.res_line)"
   ]
  },
  {
   "cell_type": "code",
   "execution_count": 274,
   "id": "amazing-modem",
   "metadata": {
    "colab": {
     "base_uri": "https://localhost:8080/"
    },
    "executionInfo": {
     "elapsed": 885,
     "status": "ok",
     "timestamp": 1620005663021,
     "user": {
      "displayName": "Juan Sardón",
      "photoUrl": "https://lh3.googleusercontent.com/a-/AOh14Gh0hE4Hw8M0I17k-o2PXxLB5i6gNZV_oUTpZlyJ3Q=s64",
      "userId": "08267034058673099115"
     },
     "user_tz": 180
    },
    "id": "norwegian-dover",
    "outputId": "f1a78284-1d03-4323-8253-e779b726a433"
   },
   "outputs": [
    {
     "name": "stdout",
     "output_type": "stream",
     "text": [
      "This pandapower network includes the following parameter tables:\n",
      "   - bus (7 elements)\n",
      "   - load (3 elements)\n",
      "   - ext_grid (1 element)\n",
      "   - line (6 elements)\n",
      " and the following results tables:\n",
      "   - res_bus (7 elements)\n",
      "   - res_line (6 elements)\n",
      "   - res_ext_grid (1 element)\n",
      "   - res_load (3 elements)\n"
     ]
    }
   ],
   "source": [
    "print(net)"
   ]
  },
  {
   "cell_type": "code",
   "execution_count": 275,
   "id": "graphic-montgomery",
   "metadata": {
    "colab": {
     "base_uri": "https://localhost:8080/",
     "height": 143
    },
    "executionInfo": {
     "elapsed": 877,
     "status": "ok",
     "timestamp": 1620005663401,
     "user": {
      "displayName": "Juan Sardón",
      "photoUrl": "https://lh3.googleusercontent.com/a-/AOh14Gh0hE4Hw8M0I17k-o2PXxLB5i6gNZV_oUTpZlyJ3Q=s64",
      "userId": "08267034058673099115"
     },
     "user_tz": 180
    },
    "id": "seven-international",
    "outputId": "bce17dc0-a6df-4860-fe28-db924addc855"
   },
   "outputs": [
    {
     "data": {
      "text/html": [
       "<div>\n",
       "<style scoped>\n",
       "    .dataframe tbody tr th:only-of-type {\n",
       "        vertical-align: middle;\n",
       "    }\n",
       "\n",
       "    .dataframe tbody tr th {\n",
       "        vertical-align: top;\n",
       "    }\n",
       "\n",
       "    .dataframe thead th {\n",
       "        text-align: right;\n",
       "    }\n",
       "</style>\n",
       "<table border=\"1\" class=\"dataframe\">\n",
       "  <thead>\n",
       "    <tr style=\"text-align: right;\">\n",
       "      <th></th>\n",
       "      <th>name</th>\n",
       "      <th>bus</th>\n",
       "      <th>p_mw</th>\n",
       "      <th>q_mvar</th>\n",
       "      <th>sn_mva</th>\n",
       "      <th>scaling</th>\n",
       "      <th>in_service</th>\n",
       "      <th>type</th>\n",
       "      <th>current_source</th>\n",
       "    </tr>\n",
       "  </thead>\n",
       "  <tbody>\n",
       "  </tbody>\n",
       "</table>\n",
       "</div>"
      ],
      "text/plain": [
       "Empty DataFrame\n",
       "Columns: [name, bus, p_mw, q_mvar, sn_mva, scaling, in_service, type, current_source]\n",
       "Index: []"
      ]
     },
     "execution_count": 275,
     "metadata": {},
     "output_type": "execute_result"
    }
   ],
   "source": [
    "net.sgen"
   ]
  },
  {
   "cell_type": "code",
   "execution_count": 276,
   "id": "other-summary",
   "metadata": {},
   "outputs": [
    {
     "data": {
      "text/html": [
       "<div>\n",
       "<style scoped>\n",
       "    .dataframe tbody tr th:only-of-type {\n",
       "        vertical-align: middle;\n",
       "    }\n",
       "\n",
       "    .dataframe tbody tr th {\n",
       "        vertical-align: top;\n",
       "    }\n",
       "\n",
       "    .dataframe thead th {\n",
       "        text-align: right;\n",
       "    }\n",
       "</style>\n",
       "<table border=\"1\" class=\"dataframe\">\n",
       "  <thead>\n",
       "    <tr style=\"text-align: right;\">\n",
       "      <th></th>\n",
       "      <th>name</th>\n",
       "      <th>bus</th>\n",
       "      <th>p_mw</th>\n",
       "      <th>q_mvar</th>\n",
       "      <th>sn_mva</th>\n",
       "      <th>soc_percent</th>\n",
       "      <th>min_e_mwh</th>\n",
       "      <th>max_e_mwh</th>\n",
       "      <th>scaling</th>\n",
       "      <th>in_service</th>\n",
       "      <th>type</th>\n",
       "    </tr>\n",
       "  </thead>\n",
       "  <tbody>\n",
       "  </tbody>\n",
       "</table>\n",
       "</div>"
      ],
      "text/plain": [
       "Empty DataFrame\n",
       "Columns: [name, bus, p_mw, q_mvar, sn_mva, soc_percent, min_e_mwh, max_e_mwh, scaling, in_service, type]\n",
       "Index: []"
      ]
     },
     "execution_count": 276,
     "metadata": {},
     "output_type": "execute_result"
    }
   ],
   "source": [
    "net.storage"
   ]
  },
  {
   "cell_type": "markdown",
   "id": "infrared-yellow",
   "metadata": {
    "id": "alike-greensboro"
   },
   "source": [
    "Agregamos los parámetros del modelo a los elementos de la red."
   ]
  },
  {
   "cell_type": "code",
   "execution_count": 277,
   "id": "younger-drink",
   "metadata": {
    "executionInfo": {
     "elapsed": 1677,
     "status": "ok",
     "timestamp": 1620005665253,
     "user": {
      "displayName": "Juan Sardón",
      "photoUrl": "https://lh3.googleusercontent.com/a-/AOh14Gh0hE4Hw8M0I17k-o2PXxLB5i6gNZV_oUTpZlyJ3Q=s64",
      "userId": "08267034058673099115"
     },
     "user_tz": 180
    },
    "id": "circular-simpson"
   },
   "outputs": [],
   "source": [
    "def net_add_optfw(net):\n",
    "    #agregamos parámetros para el costo inicial en forma de un valor constante ic_0 y un valor función lineal de la potencia ic_1\n",
    "    tables = [net.ext_grid, net.load, net.sgen, net.storage]\n",
    "\n",
    "    for t in tables: \n",
    "        #initial cost\n",
    "        t['ic_0_mu'] = 0.0\n",
    "        t['ic_1_mu'] = 0.0\n",
    "        #idem para costo operativo\n",
    "        t['oc_0_mu'] = 0.0\n",
    "        t['oc_1_mu'] = 0.0\n",
    "        #power rating:\n",
    "        t['pr_mw'] = 1.0\n",
    "        #available power, per unit of power rating\n",
    "        t['pa_pu'] = 1.0\n",
    "        #operating (actual) power\n",
    "        t['po_mw'] = 0.0\n",
    "        #Must be optimized?\n",
    "        t['sizeable'] = False\n",
    "        #model\n",
    "        t['model'] = None\n",
    "        #las restricciones pueden ser ninguna, o una lista de restricciones tipo pyomo\n",
    "        t['constraints'] = None\n",
    "\n",
    "    net.storage['sigma'] = 0.05/24  #hourly discharge\n",
    "    net.storage['eta_bb'] = 0.80    #roudtrip efficiency\n",
    "    net.storage['ic_1_mu_cap'] = 1.0  #initial cost in monetary units per unit of capacity"
   ]
  },
  {
   "cell_type": "code",
   "execution_count": 278,
   "id": "outside-protection",
   "metadata": {
    "executionInfo": {
     "elapsed": 500,
     "status": "ok",
     "timestamp": 1620005665256,
     "user": {
      "displayName": "Juan Sardón",
      "photoUrl": "https://lh3.googleusercontent.com/a-/AOh14Gh0hE4Hw8M0I17k-o2PXxLB5i6gNZV_oUTpZlyJ3Q=s64",
      "userId": "08267034058673099115"
     },
     "user_tz": 180
    },
    "id": "respiratory-transport"
   },
   "outputs": [],
   "source": [
    "net_add_optfw(net)"
   ]
  },
  {
   "cell_type": "markdown",
   "id": "outstanding-china",
   "metadata": {
    "id": "elder-launch"
   },
   "source": [
    "Vemos como queda por ejemplo el elemento de red externa:"
   ]
  },
  {
   "cell_type": "code",
   "execution_count": 279,
   "id": "finished-paintball",
   "metadata": {
    "colab": {
     "base_uri": "https://localhost:8080/",
     "height": 81
    },
    "executionInfo": {
     "elapsed": 756,
     "status": "ok",
     "timestamp": 1620005667085,
     "user": {
      "displayName": "Juan Sardón",
      "photoUrl": "https://lh3.googleusercontent.com/a-/AOh14Gh0hE4Hw8M0I17k-o2PXxLB5i6gNZV_oUTpZlyJ3Q=s64",
      "userId": "08267034058673099115"
     },
     "user_tz": 180
    },
    "id": "overhead-delivery",
    "outputId": "49d17487-cbc3-4a10-e762-1965600f731a"
   },
   "outputs": [
    {
     "data": {
      "text/html": [
       "<div>\n",
       "<style scoped>\n",
       "    .dataframe tbody tr th:only-of-type {\n",
       "        vertical-align: middle;\n",
       "    }\n",
       "\n",
       "    .dataframe tbody tr th {\n",
       "        vertical-align: top;\n",
       "    }\n",
       "\n",
       "    .dataframe thead th {\n",
       "        text-align: right;\n",
       "    }\n",
       "</style>\n",
       "<table border=\"1\" class=\"dataframe\">\n",
       "  <thead>\n",
       "    <tr style=\"text-align: right;\">\n",
       "      <th></th>\n",
       "      <th>name</th>\n",
       "      <th>bus</th>\n",
       "      <th>vm_pu</th>\n",
       "      <th>va_degree</th>\n",
       "      <th>in_service</th>\n",
       "      <th>ic_0_mu</th>\n",
       "      <th>ic_1_mu</th>\n",
       "      <th>oc_0_mu</th>\n",
       "      <th>oc_1_mu</th>\n",
       "      <th>pr_mw</th>\n",
       "      <th>pa_pu</th>\n",
       "      <th>po_mw</th>\n",
       "      <th>sizeable</th>\n",
       "      <th>model</th>\n",
       "      <th>constraints</th>\n",
       "    </tr>\n",
       "  </thead>\n",
       "  <tbody>\n",
       "    <tr>\n",
       "      <th>0</th>\n",
       "      <td>None</td>\n",
       "      <td>0</td>\n",
       "      <td>1.0</td>\n",
       "      <td>0.0</td>\n",
       "      <td>True</td>\n",
       "      <td>0.0</td>\n",
       "      <td>0.0</td>\n",
       "      <td>0.0</td>\n",
       "      <td>0.0</td>\n",
       "      <td>1.0</td>\n",
       "      <td>1.0</td>\n",
       "      <td>0.0</td>\n",
       "      <td>False</td>\n",
       "      <td>None</td>\n",
       "      <td>None</td>\n",
       "    </tr>\n",
       "  </tbody>\n",
       "</table>\n",
       "</div>"
      ],
      "text/plain": [
       "   name  bus  vm_pu  va_degree  in_service  ic_0_mu  ic_1_mu  oc_0_mu  \\\n",
       "0  None    0    1.0        0.0        True      0.0      0.0      0.0   \n",
       "\n",
       "   oc_1_mu  pr_mw  pa_pu  po_mw  sizeable model constraints  \n",
       "0      0.0    1.0    1.0    0.0     False  None        None  "
      ]
     },
     "execution_count": 279,
     "metadata": {},
     "output_type": "execute_result"
    }
   ],
   "source": [
    "net.ext_grid"
   ]
  },
  {
   "cell_type": "markdown",
   "id": "vanilla-evolution",
   "metadata": {
    "id": "insured-marking"
   },
   "source": [
    "Defino una función normal de Python para que nos va a dar la componente lineal del costo de la energía"
   ]
  },
  {
   "cell_type": "markdown",
   "id": "negative-bibliography",
   "metadata": {
    "id": "fifteen-pakistan"
   },
   "source": [
    "Variables que define el modelo:\n",
    "\n",
    "y para el año\n",
    "\n",
    "d para el día del año\n",
    "\n",
    "h para la hora del día\n",
    "\n",
    "dt la granularidad del modelo, en horas\n",
    "\n",
    "\n",
    "temp la temperatura\n",
    "\n",
    "wv la velocidad del viento\n",
    "\n",
    "I la irradiación solar\n",
    "\n",
    "\n",
    "eg el crecimiento económico en pu respecto al año 0\n",
    "\n",
    "\n",
    "Estas variables llegan como parámetros en forma de diccionario en el argumento 'model_status' (ver este nombre)\n",
    "\n",
    "Todas las funciones reciben este argumento, la lógica de la función indica que valor retorna. Pr ejemplo, si la granularidad es 24 h, debe retornar el valor medio del parámetro producido."
   ]
  },
  {
   "cell_type": "code",
   "execution_count": 280,
   "id": "sound-municipality",
   "metadata": {
    "executionInfo": {
     "elapsed": 685,
     "status": "ok",
     "timestamp": 1620005669662,
     "user": {
      "displayName": "Juan Sardón",
      "photoUrl": "https://lh3.googleusercontent.com/a-/AOh14Gh0hE4Hw8M0I17k-o2PXxLB5i6gNZV_oUTpZlyJ3Q=s64",
      "userId": "08267034058673099115"
     },
     "user_tz": 180
    },
    "id": "ranging-smooth"
   },
   "outputs": [],
   "source": [
    "def oc_1_ext_grid(model_status={}):\n",
    "    #modelo sencillo con dos precios, uno entre 0 a 18 y otro de 18 a 24\n",
    "    res = 0.0\n",
    "    sx = 1e-6\n",
    "    if 'h' in model_status:\n",
    "        h = model_status['h']\n",
    "        if 0.0 <= h and h < 18.0:\n",
    "            res = 3600.0*sx\n",
    "        elif 18 <= h and h < 24.0:\n",
    "            res = 5400.0*sx\n",
    "        else:\n",
    "            raise ValueError(\"Hour outside model range\")\n",
    "    else:\n",
    "        raise ValueError(\"Hour not defined\")\n",
    "    \n",
    "    return res"
   ]
  },
  {
   "cell_type": "code",
   "execution_count": 281,
   "id": "organized-banner",
   "metadata": {
    "executionInfo": {
     "elapsed": 505,
     "status": "ok",
     "timestamp": 1620005671131,
     "user": {
      "displayName": "Juan Sardón",
      "photoUrl": "https://lh3.googleusercontent.com/a-/AOh14Gh0hE4Hw8M0I17k-o2PXxLB5i6gNZV_oUTpZlyJ3Q=s64",
      "userId": "08267034058673099115"
     },
     "user_tz": 180
    },
    "id": "ultimate-invention"
   },
   "outputs": [],
   "source": [
    "#test:\n",
    "#m_s = {'y': 0, 'd': 180, 'h': 14.0, 'dt': 1.0, 'temp': 12.0, 'wv': 10.0, 'eg': 1.0}\n",
    "\n",
    "#oc_1_ext_grid(m_s)"
   ]
  },
  {
   "cell_type": "code",
   "execution_count": 282,
   "id": "italian-camping",
   "metadata": {
    "executionInfo": {
     "elapsed": 1580,
     "status": "ok",
     "timestamp": 1620005672679,
     "user": {
      "displayName": "Juan Sardón",
      "photoUrl": "https://lh3.googleusercontent.com/a-/AOh14Gh0hE4Hw8M0I17k-o2PXxLB5i6gNZV_oUTpZlyJ3Q=s64",
      "userId": "08267034058673099115"
     },
     "user_tz": 180
    },
    "id": "developed-sapphire"
   },
   "outputs": [],
   "source": [
    "#20 hs: 5400\n",
    "#m_s['h'] = 20.5\n",
    "#oc_1_ext_grid(m_s)"
   ]
  },
  {
   "cell_type": "code",
   "execution_count": 283,
   "id": "opposed-croatia",
   "metadata": {
    "executionInfo": {
     "elapsed": 1854,
     "status": "ok",
     "timestamp": 1620005673342,
     "user": {
      "displayName": "Juan Sardón",
      "photoUrl": "https://lh3.googleusercontent.com/a-/AOh14Gh0hE4Hw8M0I17k-o2PXxLB5i6gNZV_oUTpZlyJ3Q=s64",
      "userId": "08267034058673099115"
     },
     "user_tz": 180
    },
    "id": "committed-egyptian"
   },
   "outputs": [],
   "source": [
    "#25 hs: error\n",
    "#m_s['h'] = 25\n",
    "#oc_1_ext_grid(m_s)"
   ]
  },
  {
   "cell_type": "code",
   "execution_count": 284,
   "id": "collective-macintosh",
   "metadata": {
    "executionInfo": {
     "elapsed": 976,
     "status": "ok",
     "timestamp": 1620005674196,
     "user": {
      "displayName": "Juan Sardón",
      "photoUrl": "https://lh3.googleusercontent.com/a-/AOh14Gh0hE4Hw8M0I17k-o2PXxLB5i6gNZV_oUTpZlyJ3Q=s64",
      "userId": "08267034058673099115"
     },
     "user_tz": 180
    },
    "id": "marine-rescue"
   },
   "outputs": [],
   "source": [
    "net.ext_grid['oc_1_mu'][0] = oc_1_ext_grid\n",
    "net.ext_grid['name'][0] = 'SET'\n",
    "#net.ext_grid['pr_mw'][0] = 1.5\n",
    "net.ext_grid['pr_mw'][0] = 5.0\n"
   ]
  },
  {
   "cell_type": "code",
   "execution_count": 285,
   "id": "liquid-solid",
   "metadata": {
    "colab": {
     "base_uri": "https://localhost:8080/",
     "height": 98
    },
    "executionInfo": {
     "elapsed": 728,
     "status": "ok",
     "timestamp": 1620005676371,
     "user": {
      "displayName": "Juan Sardón",
      "photoUrl": "https://lh3.googleusercontent.com/a-/AOh14Gh0hE4Hw8M0I17k-o2PXxLB5i6gNZV_oUTpZlyJ3Q=s64",
      "userId": "08267034058673099115"
     },
     "user_tz": 180
    },
    "id": "accredited-horse",
    "outputId": "f44ded0f-df37-4315-d07f-e140fb231d3a"
   },
   "outputs": [
    {
     "data": {
      "text/html": [
       "<div>\n",
       "<style scoped>\n",
       "    .dataframe tbody tr th:only-of-type {\n",
       "        vertical-align: middle;\n",
       "    }\n",
       "\n",
       "    .dataframe tbody tr th {\n",
       "        vertical-align: top;\n",
       "    }\n",
       "\n",
       "    .dataframe thead th {\n",
       "        text-align: right;\n",
       "    }\n",
       "</style>\n",
       "<table border=\"1\" class=\"dataframe\">\n",
       "  <thead>\n",
       "    <tr style=\"text-align: right;\">\n",
       "      <th></th>\n",
       "      <th>name</th>\n",
       "      <th>bus</th>\n",
       "      <th>vm_pu</th>\n",
       "      <th>va_degree</th>\n",
       "      <th>in_service</th>\n",
       "      <th>ic_0_mu</th>\n",
       "      <th>ic_1_mu</th>\n",
       "      <th>oc_0_mu</th>\n",
       "      <th>oc_1_mu</th>\n",
       "      <th>pr_mw</th>\n",
       "      <th>pa_pu</th>\n",
       "      <th>po_mw</th>\n",
       "      <th>sizeable</th>\n",
       "      <th>model</th>\n",
       "      <th>constraints</th>\n",
       "    </tr>\n",
       "  </thead>\n",
       "  <tbody>\n",
       "    <tr>\n",
       "      <th>0</th>\n",
       "      <td>SET</td>\n",
       "      <td>0</td>\n",
       "      <td>1.0</td>\n",
       "      <td>0.0</td>\n",
       "      <td>True</td>\n",
       "      <td>0.0</td>\n",
       "      <td>0.0</td>\n",
       "      <td>0.0</td>\n",
       "      <td>&lt;function oc_1_ext_grid at 0x00000180BE663670&gt;</td>\n",
       "      <td>5.0</td>\n",
       "      <td>1.0</td>\n",
       "      <td>0.0</td>\n",
       "      <td>False</td>\n",
       "      <td>None</td>\n",
       "      <td>None</td>\n",
       "    </tr>\n",
       "  </tbody>\n",
       "</table>\n",
       "</div>"
      ],
      "text/plain": [
       "  name  bus  vm_pu  va_degree  in_service  ic_0_mu  ic_1_mu  oc_0_mu  \\\n",
       "0  SET    0    1.0        0.0        True      0.0      0.0      0.0   \n",
       "\n",
       "                                          oc_1_mu  pr_mw  pa_pu  po_mw  \\\n",
       "0  <function oc_1_ext_grid at 0x00000180BE663670>    5.0    1.0    0.0   \n",
       "\n",
       "   sizeable model constraints  \n",
       "0     False  None        None  "
      ]
     },
     "execution_count": 285,
     "metadata": {},
     "output_type": "execute_result"
    }
   ],
   "source": [
    "net.ext_grid"
   ]
  },
  {
   "cell_type": "code",
   "execution_count": 286,
   "id": "meaningful-equality",
   "metadata": {
    "executionInfo": {
     "elapsed": 1648,
     "status": "ok",
     "timestamp": 1620005683671,
     "user": {
      "displayName": "Juan Sardón",
      "photoUrl": "https://lh3.googleusercontent.com/a-/AOh14Gh0hE4Hw8M0I17k-o2PXxLB5i6gNZV_oUTpZlyJ3Q=s64",
      "userId": "08267034058673099115"
     },
     "user_tz": 180
    },
    "id": "secure-message"
   },
   "outputs": [],
   "source": [
    "def demand(model_status={}):\n",
    "    #modelo sencillo en forma de escalones\n",
    "    #devuelvr la fracción de la carga empleada\n",
    "    #se considera que la carga tiene una variabilidad aleatoria de un 20% y es mayor en verano e invierno en un 30%\n",
    "    #la variabilidad total puede ser 1.3*1.2=1.56 verano-invierno o 0.7*0.8 = 0.56 otoño-primavera, \n",
    "    res = 0.0\n",
    "    if 'h' in model_status:\n",
    "        h = model_status['h']\n",
    "        if 0.0 <= h and h < 6.0:\n",
    "            res = 0.2\n",
    "        elif 6.0 <= h and h < 8.0:\n",
    "            res = 0.4\n",
    "        elif 8.0 <= h and h < 18.0:\n",
    "            res = 0.5\n",
    "        elif 18.0 <= h and h < 22.0:\n",
    "            res = 1.0\n",
    "        elif 22.0 <= h and h < 24.0:\n",
    "            res = 0.3            \n",
    "        else:\n",
    "            raise ValueError(\"Hour outside model range\")\n",
    "    else:\n",
    "        raise ValueError(\"Hour not defined\")\n",
    "    \n",
    "    #estacionalidad\n",
    "    if 'd' in model_status:\n",
    "        d = model_status['d']\n",
    "        #se asume que el día de mayor consumo es el inicio del verano y del invierno (21/12 y 21/07), por eso sumo 10 días el dia 0\n",
    "        #divido por 180 porque hay dos picos en el año y paso a radianes\n",
    "        estacionalidad = 1 + 0.3*math.cos((d + 10.0)/180.0*2*math.pi)  \n",
    "    else:\n",
    "        raise ValueError(\"Day not defined\")\n",
    "    res = res * estacionalidad\n",
    "    \n",
    "    #Aleatoriedad:\n",
    "    res = res*random.uniform(0.8, 1.2)\n",
    "    return res"
   ]
  },
  {
   "cell_type": "code",
   "execution_count": 287,
   "id": "statutory-picnic",
   "metadata": {
    "executionInfo": {
     "elapsed": 945,
     "status": "ok",
     "timestamp": 1620005684448,
     "user": {
      "displayName": "Juan Sardón",
      "photoUrl": "https://lh3.googleusercontent.com/a-/AOh14Gh0hE4Hw8M0I17k-o2PXxLB5i6gNZV_oUTpZlyJ3Q=s64",
      "userId": "08267034058673099115"
     },
     "user_tz": 180
    },
    "id": "decreased-chorus"
   },
   "outputs": [],
   "source": [
    "net.load['pr_mw'][0] = net.load['p_mw'][0]\n",
    "net.load['pa_pu'][0] = demand\n",
    "net.load['name'][0] = 'Tornquinst'\n",
    "net.load['pr_mw'][1] = net.load['p_mw'][1]\n",
    "net.load['pa_pu'][1] = demand\n",
    "net.load['name'][1] = 'Bell Ville'\n",
    "net.load['pr_mw'][2] = net.load['p_mw'][2]\n",
    "net.load['pa_pu'][2] = demand\n",
    "net.load['name'][2] = 'City Bell'\n"
   ]
  },
  {
   "cell_type": "code",
   "execution_count": 288,
   "id": "fourth-ground",
   "metadata": {
    "colab": {
     "base_uri": "https://localhost:8080/",
     "height": 268
    },
    "executionInfo": {
     "elapsed": 857,
     "status": "ok",
     "timestamp": 1620005686825,
     "user": {
      "displayName": "Juan Sardón",
      "photoUrl": "https://lh3.googleusercontent.com/a-/AOh14Gh0hE4Hw8M0I17k-o2PXxLB5i6gNZV_oUTpZlyJ3Q=s64",
      "userId": "08267034058673099115"
     },
     "user_tz": 180
    },
    "id": "qualified-zimbabwe",
    "outputId": "fada93b3-2839-4bad-fcba-16ba0f043a7c"
   },
   "outputs": [
    {
     "data": {
      "text/html": [
       "<div>\n",
       "<style scoped>\n",
       "    .dataframe tbody tr th:only-of-type {\n",
       "        vertical-align: middle;\n",
       "    }\n",
       "\n",
       "    .dataframe tbody tr th {\n",
       "        vertical-align: top;\n",
       "    }\n",
       "\n",
       "    .dataframe thead th {\n",
       "        text-align: right;\n",
       "    }\n",
       "</style>\n",
       "<table border=\"1\" class=\"dataframe\">\n",
       "  <thead>\n",
       "    <tr style=\"text-align: right;\">\n",
       "      <th></th>\n",
       "      <th>name</th>\n",
       "      <th>bus</th>\n",
       "      <th>p_mw</th>\n",
       "      <th>q_mvar</th>\n",
       "      <th>const_z_percent</th>\n",
       "      <th>const_i_percent</th>\n",
       "      <th>sn_mva</th>\n",
       "      <th>scaling</th>\n",
       "      <th>in_service</th>\n",
       "      <th>type</th>\n",
       "      <th>ic_0_mu</th>\n",
       "      <th>ic_1_mu</th>\n",
       "      <th>oc_0_mu</th>\n",
       "      <th>oc_1_mu</th>\n",
       "      <th>pr_mw</th>\n",
       "      <th>pa_pu</th>\n",
       "      <th>po_mw</th>\n",
       "      <th>sizeable</th>\n",
       "      <th>model</th>\n",
       "      <th>constraints</th>\n",
       "    </tr>\n",
       "  </thead>\n",
       "  <tbody>\n",
       "    <tr>\n",
       "      <th>0</th>\n",
       "      <td>Tornquinst</td>\n",
       "      <td>2</td>\n",
       "      <td>0.35</td>\n",
       "      <td>0.00</td>\n",
       "      <td>0.0</td>\n",
       "      <td>0.0</td>\n",
       "      <td>NaN</td>\n",
       "      <td>1.0</td>\n",
       "      <td>True</td>\n",
       "      <td>wye</td>\n",
       "      <td>0.0</td>\n",
       "      <td>0.0</td>\n",
       "      <td>0.0</td>\n",
       "      <td>0.0</td>\n",
       "      <td>0.35</td>\n",
       "      <td>&lt;function demand at 0x00000180A52EA3A0&gt;</td>\n",
       "      <td>0.0</td>\n",
       "      <td>False</td>\n",
       "      <td>None</td>\n",
       "      <td>None</td>\n",
       "    </tr>\n",
       "    <tr>\n",
       "      <th>1</th>\n",
       "      <td>Bell Ville</td>\n",
       "      <td>5</td>\n",
       "      <td>0.85</td>\n",
       "      <td>0.33</td>\n",
       "      <td>0.0</td>\n",
       "      <td>0.0</td>\n",
       "      <td>NaN</td>\n",
       "      <td>1.0</td>\n",
       "      <td>True</td>\n",
       "      <td>wye</td>\n",
       "      <td>0.0</td>\n",
       "      <td>0.0</td>\n",
       "      <td>0.0</td>\n",
       "      <td>0.0</td>\n",
       "      <td>0.85</td>\n",
       "      <td>&lt;function demand at 0x00000180A52EA3A0&gt;</td>\n",
       "      <td>0.0</td>\n",
       "      <td>False</td>\n",
       "      <td>None</td>\n",
       "      <td>None</td>\n",
       "    </tr>\n",
       "    <tr>\n",
       "      <th>2</th>\n",
       "      <td>City Bell</td>\n",
       "      <td>6</td>\n",
       "      <td>0.22</td>\n",
       "      <td>0.05</td>\n",
       "      <td>0.0</td>\n",
       "      <td>0.0</td>\n",
       "      <td>NaN</td>\n",
       "      <td>1.0</td>\n",
       "      <td>True</td>\n",
       "      <td>wye</td>\n",
       "      <td>0.0</td>\n",
       "      <td>0.0</td>\n",
       "      <td>0.0</td>\n",
       "      <td>0.0</td>\n",
       "      <td>0.22</td>\n",
       "      <td>&lt;function demand at 0x00000180A52EA3A0&gt;</td>\n",
       "      <td>0.0</td>\n",
       "      <td>False</td>\n",
       "      <td>None</td>\n",
       "      <td>None</td>\n",
       "    </tr>\n",
       "  </tbody>\n",
       "</table>\n",
       "</div>"
      ],
      "text/plain": [
       "         name  bus  p_mw  q_mvar  const_z_percent  const_i_percent  sn_mva  \\\n",
       "0  Tornquinst    2  0.35    0.00              0.0              0.0     NaN   \n",
       "1  Bell Ville    5  0.85    0.33              0.0              0.0     NaN   \n",
       "2   City Bell    6  0.22    0.05              0.0              0.0     NaN   \n",
       "\n",
       "   scaling  in_service type  ic_0_mu  ic_1_mu  oc_0_mu  oc_1_mu  pr_mw  \\\n",
       "0      1.0        True  wye      0.0      0.0      0.0      0.0   0.35   \n",
       "1      1.0        True  wye      0.0      0.0      0.0      0.0   0.85   \n",
       "2      1.0        True  wye      0.0      0.0      0.0      0.0   0.22   \n",
       "\n",
       "                                     pa_pu  po_mw  sizeable model constraints  \n",
       "0  <function demand at 0x00000180A52EA3A0>    0.0     False  None        None  \n",
       "1  <function demand at 0x00000180A52EA3A0>    0.0     False  None        None  \n",
       "2  <function demand at 0x00000180A52EA3A0>    0.0     False  None        None  "
      ]
     },
     "execution_count": 288,
     "metadata": {},
     "output_type": "execute_result"
    }
   ],
   "source": [
    "net.load"
   ]
  },
  {
   "cell_type": "code",
   "execution_count": 97,
   "id": "therapeutic-medium",
   "metadata": {
    "executionInfo": {
     "elapsed": 770,
     "status": "ok",
     "timestamp": 1620005689716,
     "user": {
      "displayName": "Juan Sardón",
      "photoUrl": "https://lh3.googleusercontent.com/a-/AOh14Gh0hE4Hw8M0I17k-o2PXxLB5i6gNZV_oUTpZlyJ3Q=s64",
      "userId": "08267034058673099115"
     },
     "user_tz": 180
    },
    "id": "continuing-cover"
   },
   "outputs": [],
   "source": [
    "def solar_output(model_status={}):\n",
    "    #modelo sencillo\n",
    "    #usando los datos de radiacion solar entregada por el modelo\n",
    "    #considero el valor normal 1000 W/m2\n",
    "    res = 0.0\n",
    "    if 'I' in model_status:\n",
    "        I = model_status['I']\n",
    "        if 0.0 <= I and I < 1200:\n",
    "            res = I / 1000.0\n",
    "        else:\n",
    "            raise ValueError(\"Solar radiation outside model range\")\n",
    "    else:\n",
    "        raise ValueError(\"Solar radiation not defined\")\n",
    "    \n",
    "    return res"
   ]
  },
  {
   "cell_type": "code",
   "execution_count": 98,
   "id": "superb-ethiopia",
   "metadata": {
    "executionInfo": {
     "elapsed": 441,
     "status": "ok",
     "timestamp": 1620005690905,
     "user": {
      "displayName": "Juan Sardón",
      "photoUrl": "https://lh3.googleusercontent.com/a-/AOh14Gh0hE4Hw8M0I17k-o2PXxLB5i6gNZV_oUTpZlyJ3Q=s64",
      "userId": "08267034058673099115"
     },
     "user_tz": 180
    },
    "id": "rolled-loading"
   },
   "outputs": [],
   "source": [
    "#test:\n",
    "##m_s = {'y': 0, 'd': 180, 'h': 43.0, 'dt': 1.0, 'temp': 12.0, 'I':950.0,  'wv': 10.0, 'eg': 1.0}\n",
    "##solar_output(m_s)"
   ]
  },
  {
   "cell_type": "code",
   "execution_count": 99,
   "id": "growing-underwear",
   "metadata": {
    "executionInfo": {
     "elapsed": 675,
     "status": "ok",
     "timestamp": 1620005692160,
     "user": {
      "displayName": "Juan Sardón",
      "photoUrl": "https://lh3.googleusercontent.com/a-/AOh14Gh0hE4Hw8M0I17k-o2PXxLB5i6gNZV_oUTpZlyJ3Q=s64",
      "userId": "08267034058673099115"
     },
     "user_tz": 180
    },
    "id": "correct-patrol"
   },
   "outputs": [],
   "source": [
    "net.sgen['name'][0] = 'PV1'\n",
    "net.sgen['pa_pu'][0] = solar_output\n",
    "net.sgen['ic_0_mu'][0] = 2\n",
    "net.sgen['ic_1_mu'][0] = 0.75\n",
    "net.sgen['oc_0_mu'][0] = 0.0\n",
    "net.sgen['oc_1_mu'][0] = 500e-6\n",
    "net.sgen['sizeable'][0] = True\n",
    "\n",
    "\n",
    "net.sgen['name'][2] = 'PV2'\n",
    "net.sgen['pa_pu'][2] = solar_output\n",
    "net.sgen['ic_0_mu'][2] = 2\n",
    "net.sgen['ic_1_mu'][2] = 0.75\n",
    "net.sgen['oc_0_mu'][2] = 0.0\n",
    "net.sgen['oc_1_mu'][2] = 500e-6\n",
    "net.sgen['sizeable'][2] = True\n"
   ]
  },
  {
   "cell_type": "code",
   "execution_count": 100,
   "id": "minimal-frontier",
   "metadata": {
    "executionInfo": {
     "elapsed": 826,
     "status": "ok",
     "timestamp": 1620005693982,
     "user": {
      "displayName": "Juan Sardón",
      "photoUrl": "https://lh3.googleusercontent.com/a-/AOh14Gh0hE4Hw8M0I17k-o2PXxLB5i6gNZV_oUTpZlyJ3Q=s64",
      "userId": "08267034058673099115"
     },
     "user_tz": 180
    },
    "id": "broken-archives"
   },
   "outputs": [],
   "source": [
    "def wind_output(model_status={}):\n",
    "    #modelo sencillo\n",
    "    #devuelvr la fracción de la potencia entregada en función del tiempo\n",
    "    #no toma en cuenta la radicación solar ni la temperatura\n",
    "    res = 0.0\n",
    "    if 'wv' in model_status:\n",
    "        wv = model_status['wv']\n",
    "        if 0.0 <= wv and wv < 3.0:\n",
    "            res = 0.0\n",
    "        elif 3.0 <= wv and wv < 15.0:\n",
    "            res = (wv-3.0)/(15.0-3.0)\n",
    "        elif 15.0 <= wv and wv < 25.0:\n",
    "            res = 1.0\n",
    "        else:\n",
    "            res = 0.0\n",
    "    else:\n",
    "        raise ValueError(\"Wind Velocity not defined\")\n",
    "    \n",
    "    return res"
   ]
  },
  {
   "cell_type": "code",
   "execution_count": 101,
   "id": "leading-blackjack",
   "metadata": {
    "executionInfo": {
     "elapsed": 813,
     "status": "ok",
     "timestamp": 1620005695507,
     "user": {
      "displayName": "Juan Sardón",
      "photoUrl": "https://lh3.googleusercontent.com/a-/AOh14Gh0hE4Hw8M0I17k-o2PXxLB5i6gNZV_oUTpZlyJ3Q=s64",
      "userId": "08267034058673099115"
     },
     "user_tz": 180
    },
    "id": "composite-absorption"
   },
   "outputs": [],
   "source": [
    "\n",
    "net.sgen['name'][1] = 'WT1'\n",
    "net.sgen['pa_pu'][1] = wind_output\n",
    "net.sgen['ic_0_mu'][1] = 5.0\n",
    "net.sgen['ic_1_mu'][1] = 3.0\n",
    "net.sgen['oc_0_mu'][1] = 0.0\n",
    "net.sgen['oc_1_mu'][1] = 700e-6\n",
    "net.sgen['sizeable'][1] = True"
   ]
  },
  {
   "cell_type": "code",
   "execution_count": 102,
   "id": "champion-celebration",
   "metadata": {
    "colab": {
     "base_uri": "https://localhost:8080/",
     "height": 268
    },
    "executionInfo": {
     "elapsed": 551,
     "status": "ok",
     "timestamp": 1620005696937,
     "user": {
      "displayName": "Juan Sardón",
      "photoUrl": "https://lh3.googleusercontent.com/a-/AOh14Gh0hE4Hw8M0I17k-o2PXxLB5i6gNZV_oUTpZlyJ3Q=s64",
      "userId": "08267034058673099115"
     },
     "user_tz": 180
    },
    "id": "electronic-starter",
    "outputId": "ceda59be-4d12-4cb9-c914-e3ee22ce3a80"
   },
   "outputs": [
    {
     "data": {
      "text/html": [
       "<div>\n",
       "<style scoped>\n",
       "    .dataframe tbody tr th:only-of-type {\n",
       "        vertical-align: middle;\n",
       "    }\n",
       "\n",
       "    .dataframe tbody tr th {\n",
       "        vertical-align: top;\n",
       "    }\n",
       "\n",
       "    .dataframe thead th {\n",
       "        text-align: right;\n",
       "    }\n",
       "</style>\n",
       "<table border=\"1\" class=\"dataframe\">\n",
       "  <thead>\n",
       "    <tr style=\"text-align: right;\">\n",
       "      <th></th>\n",
       "      <th>name</th>\n",
       "      <th>bus</th>\n",
       "      <th>p_mw</th>\n",
       "      <th>q_mvar</th>\n",
       "      <th>sn_mva</th>\n",
       "      <th>scaling</th>\n",
       "      <th>in_service</th>\n",
       "      <th>type</th>\n",
       "      <th>current_source</th>\n",
       "      <th>max_p_mw</th>\n",
       "      <th>...</th>\n",
       "      <th>ic_0_mu</th>\n",
       "      <th>ic_1_mu</th>\n",
       "      <th>oc_0_mu</th>\n",
       "      <th>oc_1_mu</th>\n",
       "      <th>pr_mw</th>\n",
       "      <th>pa_pu</th>\n",
       "      <th>po_mw</th>\n",
       "      <th>sizeable</th>\n",
       "      <th>model</th>\n",
       "      <th>constraints</th>\n",
       "    </tr>\n",
       "  </thead>\n",
       "  <tbody>\n",
       "    <tr>\n",
       "      <th>0</th>\n",
       "      <td>PV1</td>\n",
       "      <td>1</td>\n",
       "      <td>0.075</td>\n",
       "      <td>0.025</td>\n",
       "      <td>NaN</td>\n",
       "      <td>1.0</td>\n",
       "      <td>True</td>\n",
       "      <td>wye</td>\n",
       "      <td>True</td>\n",
       "      <td>0.15</td>\n",
       "      <td>...</td>\n",
       "      <td>2.0</td>\n",
       "      <td>0.75</td>\n",
       "      <td>0.0</td>\n",
       "      <td>0.0005</td>\n",
       "      <td>1.0</td>\n",
       "      <td>&lt;function solar_output at 0x00000180A541C280&gt;</td>\n",
       "      <td>0.0</td>\n",
       "      <td>True</td>\n",
       "      <td>None</td>\n",
       "      <td>None</td>\n",
       "    </tr>\n",
       "    <tr>\n",
       "      <th>1</th>\n",
       "      <td>WT1</td>\n",
       "      <td>3</td>\n",
       "      <td>0.150</td>\n",
       "      <td>0.000</td>\n",
       "      <td>NaN</td>\n",
       "      <td>1.0</td>\n",
       "      <td>True</td>\n",
       "      <td>wye</td>\n",
       "      <td>True</td>\n",
       "      <td>0.40</td>\n",
       "      <td>...</td>\n",
       "      <td>5.0</td>\n",
       "      <td>3.00</td>\n",
       "      <td>0.0</td>\n",
       "      <td>0.0007</td>\n",
       "      <td>1.0</td>\n",
       "      <td>&lt;function wind_output at 0x00000180A53AF940&gt;</td>\n",
       "      <td>0.0</td>\n",
       "      <td>True</td>\n",
       "      <td>None</td>\n",
       "      <td>None</td>\n",
       "    </tr>\n",
       "    <tr>\n",
       "      <th>2</th>\n",
       "      <td>PV2</td>\n",
       "      <td>4</td>\n",
       "      <td>0.080</td>\n",
       "      <td>0.000</td>\n",
       "      <td>NaN</td>\n",
       "      <td>1.0</td>\n",
       "      <td>True</td>\n",
       "      <td>wye</td>\n",
       "      <td>True</td>\n",
       "      <td>0.30</td>\n",
       "      <td>...</td>\n",
       "      <td>2.0</td>\n",
       "      <td>0.75</td>\n",
       "      <td>0.0</td>\n",
       "      <td>0.0005</td>\n",
       "      <td>1.0</td>\n",
       "      <td>&lt;function solar_output at 0x00000180A541C280&gt;</td>\n",
       "      <td>0.0</td>\n",
       "      <td>True</td>\n",
       "      <td>None</td>\n",
       "      <td>None</td>\n",
       "    </tr>\n",
       "  </tbody>\n",
       "</table>\n",
       "<p>3 rows × 21 columns</p>\n",
       "</div>"
      ],
      "text/plain": [
       "  name  bus   p_mw  q_mvar  sn_mva  scaling  in_service type  current_source  \\\n",
       "0  PV1    1  0.075   0.025     NaN      1.0        True  wye            True   \n",
       "1  WT1    3  0.150   0.000     NaN      1.0        True  wye            True   \n",
       "2  PV2    4  0.080   0.000     NaN      1.0        True  wye            True   \n",
       "\n",
       "   max_p_mw  ...  ic_0_mu  ic_1_mu  oc_0_mu  oc_1_mu  pr_mw  \\\n",
       "0      0.15  ...      2.0     0.75      0.0   0.0005    1.0   \n",
       "1      0.40  ...      5.0     3.00      0.0   0.0007    1.0   \n",
       "2      0.30  ...      2.0     0.75      0.0   0.0005    1.0   \n",
       "\n",
       "                                           pa_pu po_mw  sizeable  model  \\\n",
       "0  <function solar_output at 0x00000180A541C280>   0.0      True   None   \n",
       "1   <function wind_output at 0x00000180A53AF940>   0.0      True   None   \n",
       "2  <function solar_output at 0x00000180A541C280>   0.0      True   None   \n",
       "\n",
       "  constraints  \n",
       "0        None  \n",
       "1        None  \n",
       "2        None  \n",
       "\n",
       "[3 rows x 21 columns]"
      ]
     },
     "execution_count": 102,
     "metadata": {},
     "output_type": "execute_result"
    }
   ],
   "source": [
    "net.sgen"
   ]
  },
  {
   "cell_type": "code",
   "execution_count": 238,
   "id": "geological-significance",
   "metadata": {},
   "outputs": [],
   "source": [
    "net.storage['name'][0] = 'ST1'\n",
    "net.storage['pa_pu'][0] = 1.0\n",
    "net.storage['ic_0_mu'][0] = 0.5\n",
    "net.storage['ic_1_mu'][0] = 1.0\n",
    "net.storage['ic_1_mu_cap'][0] = 0.5\n",
    "net.storage['oc_0_mu'][0] = 0.0\n",
    "net.storage['oc_1_mu'][0] = 1200e-6\n",
    "net.storage['sizeable'][0] = True\n",
    "\n",
    "net.storage['name'][1] = 'ST2'\n",
    "net.storage['pa_pu'][1] = 1.0\n",
    "net.storage['ic_0_mu'][1] = 0.5\n",
    "net.storage['ic_1_mu'][1] = 2.0\n",
    "net.storage['ic_1_mu_cap'][1] = 7.0\n",
    "net.storage['oc_0_mu'][1] = 0.0\n",
    "net.storage['oc_1_mu'][1] = 1400e-6\n",
    "net.storage['sizeable'][1] = True"
   ]
  },
  {
   "cell_type": "code",
   "execution_count": 239,
   "id": "departmental-seafood",
   "metadata": {},
   "outputs": [
    {
     "data": {
      "text/html": [
       "<div>\n",
       "<style scoped>\n",
       "    .dataframe tbody tr th:only-of-type {\n",
       "        vertical-align: middle;\n",
       "    }\n",
       "\n",
       "    .dataframe tbody tr th {\n",
       "        vertical-align: top;\n",
       "    }\n",
       "\n",
       "    .dataframe thead th {\n",
       "        text-align: right;\n",
       "    }\n",
       "</style>\n",
       "<table border=\"1\" class=\"dataframe\">\n",
       "  <thead>\n",
       "    <tr style=\"text-align: right;\">\n",
       "      <th></th>\n",
       "      <th>name</th>\n",
       "      <th>bus</th>\n",
       "      <th>p_mw</th>\n",
       "      <th>q_mvar</th>\n",
       "      <th>sn_mva</th>\n",
       "      <th>soc_percent</th>\n",
       "      <th>min_e_mwh</th>\n",
       "      <th>max_e_mwh</th>\n",
       "      <th>scaling</th>\n",
       "      <th>in_service</th>\n",
       "      <th>...</th>\n",
       "      <th>pr_mw</th>\n",
       "      <th>pa_pu</th>\n",
       "      <th>po_mw</th>\n",
       "      <th>sizeable</th>\n",
       "      <th>model</th>\n",
       "      <th>constraints</th>\n",
       "      <th>sigma</th>\n",
       "      <th>eta_bb</th>\n",
       "      <th>ic_1_mu_cap</th>\n",
       "      <th>oc_1_mu_cap</th>\n",
       "    </tr>\n",
       "  </thead>\n",
       "  <tbody>\n",
       "    <tr>\n",
       "      <th>0</th>\n",
       "      <td>ST1</td>\n",
       "      <td>3</td>\n",
       "      <td>0.25</td>\n",
       "      <td>0.1</td>\n",
       "      <td>NaN</td>\n",
       "      <td>NaN</td>\n",
       "      <td>0.0</td>\n",
       "      <td>6.427981</td>\n",
       "      <td>1.0</td>\n",
       "      <td>True</td>\n",
       "      <td>...</td>\n",
       "      <td>1.546631</td>\n",
       "      <td>1.0</td>\n",
       "      <td>0.0</td>\n",
       "      <td>True</td>\n",
       "      <td>None</td>\n",
       "      <td>None</td>\n",
       "      <td>0.002083</td>\n",
       "      <td>0.8</td>\n",
       "      <td>0.5</td>\n",
       "      <td>0.0</td>\n",
       "    </tr>\n",
       "    <tr>\n",
       "      <th>1</th>\n",
       "      <td>ST2</td>\n",
       "      <td>6</td>\n",
       "      <td>0.50</td>\n",
       "      <td>0.1</td>\n",
       "      <td>NaN</td>\n",
       "      <td>NaN</td>\n",
       "      <td>0.0</td>\n",
       "      <td>0.000000</td>\n",
       "      <td>1.0</td>\n",
       "      <td>False</td>\n",
       "      <td>...</td>\n",
       "      <td>0.000000</td>\n",
       "      <td>1.0</td>\n",
       "      <td>0.0</td>\n",
       "      <td>True</td>\n",
       "      <td>None</td>\n",
       "      <td>None</td>\n",
       "      <td>0.002083</td>\n",
       "      <td>0.8</td>\n",
       "      <td>7.0</td>\n",
       "      <td>0.0</td>\n",
       "    </tr>\n",
       "  </tbody>\n",
       "</table>\n",
       "<p>2 rows × 25 columns</p>\n",
       "</div>"
      ],
      "text/plain": [
       "  name  bus  p_mw  q_mvar  sn_mva  soc_percent  min_e_mwh  max_e_mwh  scaling  \\\n",
       "0  ST1    3  0.25     0.1     NaN          NaN        0.0   6.427981      1.0   \n",
       "1  ST2    6  0.50     0.1     NaN          NaN        0.0   0.000000      1.0   \n",
       "\n",
       "   in_service  ...     pr_mw  pa_pu  po_mw  sizeable  model  constraints  \\\n",
       "0        True  ...  1.546631    1.0    0.0      True   None         None   \n",
       "1       False  ...  0.000000    1.0    0.0      True   None         None   \n",
       "\n",
       "      sigma  eta_bb  ic_1_mu_cap oc_1_mu_cap  \n",
       "0  0.002083     0.8          0.5         0.0  \n",
       "1  0.002083     0.8          7.0         0.0  \n",
       "\n",
       "[2 rows x 25 columns]"
      ]
     },
     "execution_count": 239,
     "metadata": {},
     "output_type": "execute_result"
    }
   ],
   "source": [
    "net.storage"
   ]
  },
  {
   "cell_type": "markdown",
   "id": "sustainable-commerce",
   "metadata": {
    "id": "pTK9BGaY4BEu"
   },
   "source": [
    "## Construcción de Escenarios"
   ]
  },
  {
   "cell_type": "code",
   "execution_count": 289,
   "id": "numeric-sally",
   "metadata": {
    "executionInfo": {
     "elapsed": 1184,
     "status": "ok",
     "timestamp": 1620006589608,
     "user": {
      "displayName": "Juan Sardón",
      "photoUrl": "https://lh3.googleusercontent.com/a-/AOh14Gh0hE4Hw8M0I17k-o2PXxLB5i6gNZV_oUTpZlyJ3Q=s64",
      "userId": "08267034058673099115"
     },
     "user_tz": 180
    },
    "id": "posted-description"
   },
   "outputs": [],
   "source": [
    "dias = 50\n",
    "años = 5"
   ]
  },
  {
   "cell_type": "code",
   "execution_count": 290,
   "id": "individual-trailer",
   "metadata": {
    "executionInfo": {
     "elapsed": 804,
     "status": "ok",
     "timestamp": 1620006591214,
     "user": {
      "displayName": "Juan Sardón",
      "photoUrl": "https://lh3.googleusercontent.com/a-/AOh14Gh0hE4Hw8M0I17k-o2PXxLB5i6gNZV_oUTpZlyJ3Q=s64",
      "userId": "08267034058673099115"
     },
     "user_tz": 180
    },
    "id": "intelligent-terrace"
   },
   "outputs": [],
   "source": [
    "#el rango de horas:\n",
    "T_i = range(24)\n",
    "\n",
    "#el rango de dias:\n",
    "Dias_i = range(dias)\n",
    "\n",
    "Escenarios_i = range(len(T_i)*len(Dias_i))"
   ]
  },
  {
   "cell_type": "code",
   "execution_count": 291,
   "id": "corrected-universal",
   "metadata": {
    "executionInfo": {
     "elapsed": 957,
     "status": "ok",
     "timestamp": 1620006593285,
     "user": {
      "displayName": "Juan Sardón",
      "photoUrl": "https://lh3.googleusercontent.com/a-/AOh14Gh0hE4Hw8M0I17k-o2PXxLB5i6gNZV_oUTpZlyJ3Q=s64",
      "userId": "08267034058673099115"
     },
     "user_tz": 180
    },
    "id": "complimentary-harvard"
   },
   "outputs": [],
   "source": [
    "def solar_irradiance_simulation(d, h):\n",
    "    #simula las horas de sol, la intensidad y los dias multiplos de 5 esta nublado, con un 20% de la radiacion\n",
    "    #a todo esto se le aplica una aleatoriedad del 80 al 100%\n",
    "    #los coeficientes son aproximados para Buenos Aires\n",
    "    radiacion = 1000.0\n",
    "    \n",
    "    estacionalidad = 0.75 + 0.25*math.cos((d + 10.0)/365.0*2*math.pi)  \n",
    "    \n",
    "    if d % 5 == 0 :\n",
    "        nubosidad = 0.2\n",
    "    else:\n",
    "        nubosidad = 1.0\n",
    "        \n",
    "    aleatoriedad = random.uniform(0.8, 1.0)\n",
    "    \n",
    "    salida = 7.0 - 1.1*math.cos((d + 10.0)/365.0*2*math.pi)    #es una aproximacion, no basada en modelos matematicos\n",
    "    puesta = 19.0 + 1.1*math.cos((d + 10.0)/365.0*2*math.pi)\n",
    "    \n",
    "    temporalidad = 0.0\n",
    "    if salida <= h and h <= puesta:\n",
    "        temporalidad = math.sin((h-salida)/(puesta-salida)*math.pi)\n",
    "        \n",
    "    return radiacion*estacionalidad*nubosidad*aleatoriedad*temporalidad"
   ]
  },
  {
   "cell_type": "code",
   "execution_count": 292,
   "id": "speaking-acceptance",
   "metadata": {
    "executionInfo": {
     "elapsed": 740,
     "status": "ok",
     "timestamp": 1620006594076,
     "user": {
      "displayName": "Juan Sardón",
      "photoUrl": "https://lh3.googleusercontent.com/a-/AOh14Gh0hE4Hw8M0I17k-o2PXxLB5i6gNZV_oUTpZlyJ3Q=s64",
      "userId": "08267034058673099115"
     },
     "user_tz": 180
    },
    "id": "rotary-traffic"
   },
   "outputs": [],
   "source": [
    "m_s_base = [{'y': 0, 'd': 0, 'dd':1.0, 'h': 0.0, 'dt': 1.0, 'temp': 20.0, 'I':1000.0, 'wv': 10.0, 'eg': 1.0}]\n",
    "\n",
    "registros = len(Dias_i)*len(T_i)\n",
    "\n",
    "Escenarios =  pd.DataFrame(m_s_base, index = Escenarios_i)\n",
    "\n",
    "reg = 0\n",
    "for d in Dias_i:\n",
    "    for h in T_i:\n",
    "        Escenarios['d'][reg] = d\n",
    "        Escenarios['h'][reg] = h\n",
    "        Escenarios['I'][reg] = solar_irradiance_simulation(d, h)\n",
    "        Escenarios['wv'][reg] = random.uniform(1.0, 20.0)\n",
    "        reg += 1"
   ]
  },
  {
   "cell_type": "code",
   "execution_count": 293,
   "id": "technical-finish",
   "metadata": {
    "colab": {
     "base_uri": "https://localhost:8080/",
     "height": 424
    },
    "executionInfo": {
     "elapsed": 940,
     "status": "ok",
     "timestamp": 1620006595909,
     "user": {
      "displayName": "Juan Sardón",
      "photoUrl": "https://lh3.googleusercontent.com/a-/AOh14Gh0hE4Hw8M0I17k-o2PXxLB5i6gNZV_oUTpZlyJ3Q=s64",
      "userId": "08267034058673099115"
     },
     "user_tz": 180
    },
    "id": "rztNfB1f4udd",
    "outputId": "9d65516d-715a-4f75-a9e9-b820fa6643be"
   },
   "outputs": [
    {
     "data": {
      "text/html": [
       "<div>\n",
       "<style scoped>\n",
       "    .dataframe tbody tr th:only-of-type {\n",
       "        vertical-align: middle;\n",
       "    }\n",
       "\n",
       "    .dataframe tbody tr th {\n",
       "        vertical-align: top;\n",
       "    }\n",
       "\n",
       "    .dataframe thead th {\n",
       "        text-align: right;\n",
       "    }\n",
       "</style>\n",
       "<table border=\"1\" class=\"dataframe\">\n",
       "  <thead>\n",
       "    <tr style=\"text-align: right;\">\n",
       "      <th></th>\n",
       "      <th>y</th>\n",
       "      <th>d</th>\n",
       "      <th>dd</th>\n",
       "      <th>h</th>\n",
       "      <th>dt</th>\n",
       "      <th>temp</th>\n",
       "      <th>I</th>\n",
       "      <th>wv</th>\n",
       "      <th>eg</th>\n",
       "    </tr>\n",
       "  </thead>\n",
       "  <tbody>\n",
       "    <tr>\n",
       "      <th>0</th>\n",
       "      <td>0</td>\n",
       "      <td>0</td>\n",
       "      <td>1.0</td>\n",
       "      <td>0.0</td>\n",
       "      <td>1.0</td>\n",
       "      <td>20.0</td>\n",
       "      <td>0.000000</td>\n",
       "      <td>1.780249</td>\n",
       "      <td>1.0</td>\n",
       "    </tr>\n",
       "    <tr>\n",
       "      <th>1</th>\n",
       "      <td>0</td>\n",
       "      <td>0</td>\n",
       "      <td>1.0</td>\n",
       "      <td>1.0</td>\n",
       "      <td>1.0</td>\n",
       "      <td>20.0</td>\n",
       "      <td>0.000000</td>\n",
       "      <td>8.915682</td>\n",
       "      <td>1.0</td>\n",
       "    </tr>\n",
       "    <tr>\n",
       "      <th>2</th>\n",
       "      <td>0</td>\n",
       "      <td>0</td>\n",
       "      <td>1.0</td>\n",
       "      <td>2.0</td>\n",
       "      <td>1.0</td>\n",
       "      <td>20.0</td>\n",
       "      <td>0.000000</td>\n",
       "      <td>10.933806</td>\n",
       "      <td>1.0</td>\n",
       "    </tr>\n",
       "    <tr>\n",
       "      <th>3</th>\n",
       "      <td>0</td>\n",
       "      <td>0</td>\n",
       "      <td>1.0</td>\n",
       "      <td>3.0</td>\n",
       "      <td>1.0</td>\n",
       "      <td>20.0</td>\n",
       "      <td>0.000000</td>\n",
       "      <td>4.692312</td>\n",
       "      <td>1.0</td>\n",
       "    </tr>\n",
       "    <tr>\n",
       "      <th>4</th>\n",
       "      <td>0</td>\n",
       "      <td>0</td>\n",
       "      <td>1.0</td>\n",
       "      <td>4.0</td>\n",
       "      <td>1.0</td>\n",
       "      <td>20.0</td>\n",
       "      <td>0.000000</td>\n",
       "      <td>10.965021</td>\n",
       "      <td>1.0</td>\n",
       "    </tr>\n",
       "    <tr>\n",
       "      <th>...</th>\n",
       "      <td>...</td>\n",
       "      <td>...</td>\n",
       "      <td>...</td>\n",
       "      <td>...</td>\n",
       "      <td>...</td>\n",
       "      <td>...</td>\n",
       "      <td>...</td>\n",
       "      <td>...</td>\n",
       "      <td>...</td>\n",
       "    </tr>\n",
       "    <tr>\n",
       "      <th>1195</th>\n",
       "      <td>0</td>\n",
       "      <td>49</td>\n",
       "      <td>1.0</td>\n",
       "      <td>19.0</td>\n",
       "      <td>1.0</td>\n",
       "      <td>20.0</td>\n",
       "      <td>105.796125</td>\n",
       "      <td>15.321121</td>\n",
       "      <td>1.0</td>\n",
       "    </tr>\n",
       "    <tr>\n",
       "      <th>1196</th>\n",
       "      <td>0</td>\n",
       "      <td>49</td>\n",
       "      <td>1.0</td>\n",
       "      <td>20.0</td>\n",
       "      <td>1.0</td>\n",
       "      <td>20.0</td>\n",
       "      <td>0.000000</td>\n",
       "      <td>12.997026</td>\n",
       "      <td>1.0</td>\n",
       "    </tr>\n",
       "    <tr>\n",
       "      <th>1197</th>\n",
       "      <td>0</td>\n",
       "      <td>49</td>\n",
       "      <td>1.0</td>\n",
       "      <td>21.0</td>\n",
       "      <td>1.0</td>\n",
       "      <td>20.0</td>\n",
       "      <td>0.000000</td>\n",
       "      <td>8.122431</td>\n",
       "      <td>1.0</td>\n",
       "    </tr>\n",
       "    <tr>\n",
       "      <th>1198</th>\n",
       "      <td>0</td>\n",
       "      <td>49</td>\n",
       "      <td>1.0</td>\n",
       "      <td>22.0</td>\n",
       "      <td>1.0</td>\n",
       "      <td>20.0</td>\n",
       "      <td>0.000000</td>\n",
       "      <td>4.094226</td>\n",
       "      <td>1.0</td>\n",
       "    </tr>\n",
       "    <tr>\n",
       "      <th>1199</th>\n",
       "      <td>0</td>\n",
       "      <td>49</td>\n",
       "      <td>1.0</td>\n",
       "      <td>23.0</td>\n",
       "      <td>1.0</td>\n",
       "      <td>20.0</td>\n",
       "      <td>0.000000</td>\n",
       "      <td>5.775620</td>\n",
       "      <td>1.0</td>\n",
       "    </tr>\n",
       "  </tbody>\n",
       "</table>\n",
       "<p>1200 rows × 9 columns</p>\n",
       "</div>"
      ],
      "text/plain": [
       "      y   d   dd     h   dt  temp           I         wv   eg\n",
       "0     0   0  1.0   0.0  1.0  20.0    0.000000   1.780249  1.0\n",
       "1     0   0  1.0   1.0  1.0  20.0    0.000000   8.915682  1.0\n",
       "2     0   0  1.0   2.0  1.0  20.0    0.000000  10.933806  1.0\n",
       "3     0   0  1.0   3.0  1.0  20.0    0.000000   4.692312  1.0\n",
       "4     0   0  1.0   4.0  1.0  20.0    0.000000  10.965021  1.0\n",
       "...  ..  ..  ...   ...  ...   ...         ...        ...  ...\n",
       "1195  0  49  1.0  19.0  1.0  20.0  105.796125  15.321121  1.0\n",
       "1196  0  49  1.0  20.0  1.0  20.0    0.000000  12.997026  1.0\n",
       "1197  0  49  1.0  21.0  1.0  20.0    0.000000   8.122431  1.0\n",
       "1198  0  49  1.0  22.0  1.0  20.0    0.000000   4.094226  1.0\n",
       "1199  0  49  1.0  23.0  1.0  20.0    0.000000   5.775620  1.0\n",
       "\n",
       "[1200 rows x 9 columns]"
      ]
     },
     "execution_count": 293,
     "metadata": {},
     "output_type": "execute_result"
    }
   ],
   "source": [
    "Escenarios"
   ]
  },
  {
   "cell_type": "markdown",
   "id": "classical-mixer",
   "metadata": {
    "id": "DrtD-E834lhY"
   },
   "source": [
    "## Construcción del Modelo"
   ]
  },
  {
   "cell_type": "markdown",
   "id": "cellular-train",
   "metadata": {
    "id": "spiritual-luxembourg"
   },
   "source": [
    "Construccion automatica del modelo\n",
    "Es un modelo de dimensionamiento de 3 DERs (WT+PV)"
   ]
  },
  {
   "cell_type": "code",
   "execution_count": 294,
   "id": "activated-entrepreneur",
   "metadata": {},
   "outputs": [],
   "source": [
    "model_writer = ModelWriters.simple_busbar_model.SimpleModelWriter(net, Escenarios)"
   ]
  },
  {
   "cell_type": "code",
   "execution_count": 295,
   "id": "thirty-system",
   "metadata": {},
   "outputs": [],
   "source": [
    "model = model_writer.create_model()"
   ]
  },
  {
   "cell_type": "code",
   "execution_count": 296,
   "id": "sublime-coating",
   "metadata": {},
   "outputs": [],
   "source": [
    "#model.pprint()"
   ]
  },
  {
   "cell_type": "code",
   "execution_count": 297,
   "id": "frozen-express",
   "metadata": {},
   "outputs": [
    {
     "name": "stdout",
     "output_type": "stream",
     "text": [
      "\n",
      "Welcome to IBM(R) ILOG(R) CPLEX(R) Interactive Optimizer 20.1.0.0\n",
      "  with Simplex, Mixed Integer & Barrier Optimizers\n",
      "5725-A06 5725-A29 5724-Y48 5724-Y49 5724-Y54 5724-Y55 5655-Y21\n",
      "Copyright IBM Corp. 1988, 2020.  All Rights Reserved.\n",
      "\n",
      "Type 'help' for a list of available commands.\n",
      "Type 'help' followed by a command name for more\n",
      "information on commands.\n",
      "\n",
      "CPLEX> Logfile 'cplex.log' closed.\n",
      "Logfile 'C:\\Users\\jmsar\\AppData\\Local\\Temp\\tmp7ztam8qo.cplex.log' open.\n",
      "CPLEX> Problem 'C:\\Users\\jmsar\\AppData\\Local\\Temp\\tmpgwitbvv9.pyomo.lp' read.\n",
      "Read time = 0.01 sec. (0.08 ticks)\n",
      "CPLEX> Problem name         : C:\\Users\\jmsar\\AppData\\Local\\Temp\\tmpgwitbvv9.pyomo.lp\n",
      "Objective sense      : Minimize\n",
      "Variables            :    1201  [Nneg: 1,  Box: 1200]\n",
      "Objective nonzeros   :    1200\n",
      "Linear constraints   :    1201  [Equal: 1201]\n",
      "  Nonzeros           :    1201\n",
      "  RHS nonzeros       :    1201\n",
      "\n",
      "Variables            : Min LB: 0.000000         Max UB: 5.000000       \n",
      "Objective nonzeros   : Min   : 0.003600000      Max   : 0.005400000    \n",
      "Linear constraints   :\n",
      "  Nonzeros           : Min   : 1.000000         Max   : 1.000000       \n",
      "  RHS nonzeros       : Min   : 0.2103981        Max   : 2.019298       \n",
      "CPLEX> Version identifier: 20.1.0.0 | 2020-11-10 | 9bedb6d68\n",
      "Tried aggregator 1 time.\n",
      "LP Presolve eliminated 1201 rows and 1201 columns.\n",
      "All rows and columns eliminated.\n",
      "Presolve time = 0.00 sec. (0.39 ticks)\n",
      "\n",
      "Dual simplex - Optimal:  Objective =  3.8840676196e+00\n",
      "Solution time =    0.00 sec.  Iterations = 0 (0)\n",
      "Deterministic time = 0.68 ticks  (682.63 ticks/sec)\n",
      "\n",
      "CPLEX> Solution written to file 'C:\\Users\\jmsar\\AppData\\Local\\Temp\\tmper4f2wft.cplex.sol'.\n",
      "CPLEX> "
     ]
    }
   ],
   "source": [
    "#solver_manager = pe.SolverManagerFactory('neos')\n",
    "#result_obj = solver_manager.solve(model.model, opt='cplex')\n",
    "\n",
    "opt = pe.SolverFactory('cplex')\n",
    "#opt = pe.SolverFactory('glpk')\n",
    "result_obj= opt.solve(model, tee=True)"
   ]
  },
  {
   "cell_type": "code",
   "execution_count": 298,
   "id": "organic-palestinian",
   "metadata": {},
   "outputs": [],
   "source": [
    "model_writer.backconfigure_network()"
   ]
  },
  {
   "cell_type": "code",
   "execution_count": 299,
   "id": "urban-testament",
   "metadata": {},
   "outputs": [
    {
     "data": {
      "text/html": [
       "<div>\n",
       "<style scoped>\n",
       "    .dataframe tbody tr th:only-of-type {\n",
       "        vertical-align: middle;\n",
       "    }\n",
       "\n",
       "    .dataframe tbody tr th {\n",
       "        vertical-align: top;\n",
       "    }\n",
       "\n",
       "    .dataframe thead th {\n",
       "        text-align: right;\n",
       "    }\n",
       "</style>\n",
       "<table border=\"1\" class=\"dataframe\">\n",
       "  <thead>\n",
       "    <tr style=\"text-align: right;\">\n",
       "      <th></th>\n",
       "      <th>name</th>\n",
       "      <th>bus</th>\n",
       "      <th>p_mw</th>\n",
       "      <th>q_mvar</th>\n",
       "      <th>sn_mva</th>\n",
       "      <th>scaling</th>\n",
       "      <th>in_service</th>\n",
       "      <th>type</th>\n",
       "      <th>current_source</th>\n",
       "      <th>ic_0_mu</th>\n",
       "      <th>ic_1_mu</th>\n",
       "      <th>oc_0_mu</th>\n",
       "      <th>oc_1_mu</th>\n",
       "      <th>pr_mw</th>\n",
       "      <th>pa_pu</th>\n",
       "      <th>po_mw</th>\n",
       "      <th>sizeable</th>\n",
       "      <th>model</th>\n",
       "      <th>constraints</th>\n",
       "    </tr>\n",
       "  </thead>\n",
       "  <tbody>\n",
       "  </tbody>\n",
       "</table>\n",
       "</div>"
      ],
      "text/plain": [
       "Empty DataFrame\n",
       "Columns: [name, bus, p_mw, q_mvar, sn_mva, scaling, in_service, type, current_source, ic_0_mu, ic_1_mu, oc_0_mu, oc_1_mu, pr_mw, pa_pu, po_mw, sizeable, model, constraints]\n",
       "Index: []"
      ]
     },
     "execution_count": 299,
     "metadata": {},
     "output_type": "execute_result"
    }
   ],
   "source": [
    "model_writer.net.sgen"
   ]
  },
  {
   "cell_type": "code",
   "execution_count": 300,
   "id": "authentic-reach",
   "metadata": {},
   "outputs": [
    {
     "data": {
      "text/html": [
       "<div>\n",
       "<style scoped>\n",
       "    .dataframe tbody tr th:only-of-type {\n",
       "        vertical-align: middle;\n",
       "    }\n",
       "\n",
       "    .dataframe tbody tr th {\n",
       "        vertical-align: top;\n",
       "    }\n",
       "\n",
       "    .dataframe thead th {\n",
       "        text-align: right;\n",
       "    }\n",
       "</style>\n",
       "<table border=\"1\" class=\"dataframe\">\n",
       "  <thead>\n",
       "    <tr style=\"text-align: right;\">\n",
       "      <th></th>\n",
       "      <th>name</th>\n",
       "      <th>bus</th>\n",
       "      <th>p_mw</th>\n",
       "      <th>q_mvar</th>\n",
       "      <th>sn_mva</th>\n",
       "      <th>soc_percent</th>\n",
       "      <th>min_e_mwh</th>\n",
       "      <th>max_e_mwh</th>\n",
       "      <th>scaling</th>\n",
       "      <th>in_service</th>\n",
       "      <th>...</th>\n",
       "      <th>oc_1_mu</th>\n",
       "      <th>pr_mw</th>\n",
       "      <th>pa_pu</th>\n",
       "      <th>po_mw</th>\n",
       "      <th>sizeable</th>\n",
       "      <th>model</th>\n",
       "      <th>constraints</th>\n",
       "      <th>sigma</th>\n",
       "      <th>eta_bb</th>\n",
       "      <th>ic_1_mu_cap</th>\n",
       "    </tr>\n",
       "  </thead>\n",
       "  <tbody>\n",
       "  </tbody>\n",
       "</table>\n",
       "<p>0 rows × 24 columns</p>\n",
       "</div>"
      ],
      "text/plain": [
       "Empty DataFrame\n",
       "Columns: [name, bus, p_mw, q_mvar, sn_mva, soc_percent, min_e_mwh, max_e_mwh, scaling, in_service, type, ic_0_mu, ic_1_mu, oc_0_mu, oc_1_mu, pr_mw, pa_pu, po_mw, sizeable, model, constraints, sigma, eta_bb, ic_1_mu_cap]\n",
       "Index: []\n",
       "\n",
       "[0 rows x 24 columns]"
      ]
     },
     "execution_count": 300,
     "metadata": {},
     "output_type": "execute_result"
    }
   ],
   "source": [
    "model_writer.net.storage"
   ]
  },
  {
   "cell_type": "code",
   "execution_count": 301,
   "id": "rotary-winter",
   "metadata": {
    "tags": []
   },
   "outputs": [],
   "source": [
    "Resultados = model_writer.get_scenes_results()"
   ]
  },
  {
   "cell_type": "code",
   "execution_count": 302,
   "id": "chicken-meter",
   "metadata": {
    "colab": {
     "base_uri": "https://localhost:8080/",
     "height": 424
    },
    "executionInfo": {
     "elapsed": 699,
     "status": "ok",
     "timestamp": 1619873491559,
     "user": {
      "displayName": "Juan Sardón",
      "photoUrl": "https://lh3.googleusercontent.com/a-/AOh14Gh0hE4Hw8M0I17k-o2PXxLB5i6gNZV_oUTpZlyJ3Q=s64",
      "userId": "08267034058673099115"
     },
     "user_tz": 180
    },
    "id": "tropical-completion",
    "outputId": "082e0a6f-0230-4e8e-b532-e95c63049c68"
   },
   "outputs": [
    {
     "data": {
      "text/html": [
       "<div>\n",
       "<style scoped>\n",
       "    .dataframe tbody tr th:only-of-type {\n",
       "        vertical-align: middle;\n",
       "    }\n",
       "\n",
       "    .dataframe tbody tr th {\n",
       "        vertical-align: top;\n",
       "    }\n",
       "\n",
       "    .dataframe thead th {\n",
       "        text-align: right;\n",
       "    }\n",
       "</style>\n",
       "<table border=\"1\" class=\"dataframe\">\n",
       "  <thead>\n",
       "    <tr style=\"text-align: right;\">\n",
       "      <th></th>\n",
       "      <th>SET</th>\n",
       "      <th>Tornquinst</th>\n",
       "      <th>Bell Ville</th>\n",
       "      <th>City Bell</th>\n",
       "    </tr>\n",
       "  </thead>\n",
       "  <tbody>\n",
       "    <tr>\n",
       "      <th>0</th>\n",
       "      <td>0.315586</td>\n",
       "      <td>0.082694</td>\n",
       "      <td>0.186557</td>\n",
       "      <td>0.046334</td>\n",
       "    </tr>\n",
       "    <tr>\n",
       "      <th>1</th>\n",
       "      <td>0.388139</td>\n",
       "      <td>0.082489</td>\n",
       "      <td>0.238808</td>\n",
       "      <td>0.066842</td>\n",
       "    </tr>\n",
       "    <tr>\n",
       "      <th>2</th>\n",
       "      <td>0.391135</td>\n",
       "      <td>0.095973</td>\n",
       "      <td>0.243530</td>\n",
       "      <td>0.051632</td>\n",
       "    </tr>\n",
       "    <tr>\n",
       "      <th>3</th>\n",
       "      <td>0.382270</td>\n",
       "      <td>0.080242</td>\n",
       "      <td>0.255033</td>\n",
       "      <td>0.046995</td>\n",
       "    </tr>\n",
       "    <tr>\n",
       "      <th>4</th>\n",
       "      <td>0.353550</td>\n",
       "      <td>0.104438</td>\n",
       "      <td>0.191900</td>\n",
       "      <td>0.057213</td>\n",
       "    </tr>\n",
       "    <tr>\n",
       "      <th>...</th>\n",
       "      <td>...</td>\n",
       "      <td>...</td>\n",
       "      <td>...</td>\n",
       "      <td>...</td>\n",
       "    </tr>\n",
       "    <tr>\n",
       "      <th>1195</th>\n",
       "      <td>1.187406</td>\n",
       "      <td>0.254770</td>\n",
       "      <td>0.761005</td>\n",
       "      <td>0.171630</td>\n",
       "    </tr>\n",
       "    <tr>\n",
       "      <th>1196</th>\n",
       "      <td>1.199749</td>\n",
       "      <td>0.255694</td>\n",
       "      <td>0.771379</td>\n",
       "      <td>0.172675</td>\n",
       "    </tr>\n",
       "    <tr>\n",
       "      <th>1197</th>\n",
       "      <td>1.264755</td>\n",
       "      <td>0.296042</td>\n",
       "      <td>0.781173</td>\n",
       "      <td>0.187540</td>\n",
       "    </tr>\n",
       "    <tr>\n",
       "      <th>1198</th>\n",
       "      <td>0.385553</td>\n",
       "      <td>0.094646</td>\n",
       "      <td>0.227316</td>\n",
       "      <td>0.063591</td>\n",
       "    </tr>\n",
       "    <tr>\n",
       "      <th>1199</th>\n",
       "      <td>0.342878</td>\n",
       "      <td>0.088412</td>\n",
       "      <td>0.206613</td>\n",
       "      <td>0.047854</td>\n",
       "    </tr>\n",
       "  </tbody>\n",
       "</table>\n",
       "<p>1200 rows × 4 columns</p>\n",
       "</div>"
      ],
      "text/plain": [
       "           SET  Tornquinst  Bell Ville  City Bell\n",
       "0     0.315586    0.082694    0.186557   0.046334\n",
       "1     0.388139    0.082489    0.238808   0.066842\n",
       "2     0.391135    0.095973    0.243530   0.051632\n",
       "3     0.382270    0.080242    0.255033   0.046995\n",
       "4     0.353550    0.104438    0.191900   0.057213\n",
       "...        ...         ...         ...        ...\n",
       "1195  1.187406    0.254770    0.761005   0.171630\n",
       "1196  1.199749    0.255694    0.771379   0.172675\n",
       "1197  1.264755    0.296042    0.781173   0.187540\n",
       "1198  0.385553    0.094646    0.227316   0.063591\n",
       "1199  0.342878    0.088412    0.206613   0.047854\n",
       "\n",
       "[1200 rows x 4 columns]"
      ]
     },
     "execution_count": 302,
     "metadata": {},
     "output_type": "execute_result"
    }
   ],
   "source": [
    "Resultados"
   ]
  },
  {
   "cell_type": "code",
   "execution_count": 253,
   "id": "specialized-dialogue",
   "metadata": {
    "colab": {
     "base_uri": "https://localhost:8080/",
     "height": 388
    },
    "executionInfo": {
     "elapsed": 1336,
     "status": "ok",
     "timestamp": 1619873495814,
     "user": {
      "displayName": "Juan Sardón",
      "photoUrl": "https://lh3.googleusercontent.com/a-/AOh14Gh0hE4Hw8M0I17k-o2PXxLB5i6gNZV_oUTpZlyJ3Q=s64",
      "userId": "08267034058673099115"
     },
     "user_tz": 180
    },
    "id": "planned-memorial",
    "outputId": "11488d44-f6a7-46f5-dd15-9afe980a328c"
   },
   "outputs": [
    {
     "data": {
      "image/png": "[encoded data removed]",
      "text/plain": [
       "<Figure size 720x432 with 1 Axes>"
      ]
     },
     "metadata": {
      "needs_background": "light"
     },
     "output_type": "display_data"
    }
   ],
   "source": [
    "# Set the plot curve with markers and a title\n",
    "fig, ax = plt.subplots(1, 1)\n",
    "\n",
    "fig.set_size_inches(10,6)\n",
    "a=180*24\n",
    "#b=360\n",
    "b=180*24+5*24\n",
    "ax.plot(Resultados['SET'][a:b], label = 'P Ext')\n",
    "ax.plot(Resultados['PV2'][a:b], label = 'PV')\n",
    "ax.plot(Resultados['ST1'][a:b], label = 'ST')\n",
    "ax.plot(Resultados['E_ST1'][a:b], label = 'E_ST')\n",
    "ax.plot(Resultados['Tornquinst'][a:b]+Resultados['Bell Ville'][a:b]+Resultados['City Bell'][a:b], label = 'Load')\n",
    "\n",
    "#ax.plot(Resultados['time'][240:360], Resultados['p_mw_PV'][240:360], label = 'PV')\n",
    "#ax.plot(Resultados['time'][240:360], Resultados['p_mw_Load'][240:360], label = 'Load')\n",
    "\n",
    "ax.set_xlabel('time')\n",
    "ax.set_ylabel('P[mw]')\n",
    "\n",
    "ax.legend()\n",
    "\n",
    "ax.grid(True)\n",
    "\n",
    "\n",
    "plt.show()"
   ]
  },
  {
   "cell_type": "code",
   "execution_count": null,
   "id": "healthy-respondent",
   "metadata": {},
   "outputs": [],
   "source": []
  },
  {
   "cell_type": "code",
   "execution_count": null,
   "id": "broadband-taylor",
   "metadata": {},
   "outputs": [],
   "source": []
  },
  {
   "cell_type": "code",
   "execution_count": null,
   "id": "positive-grounds",
   "metadata": {},
   "outputs": [],
   "source": []
  }
 ],
 "metadata": {
  "colab": {
   "name": "Prueba PP-Pyomo-4.ipynb",
   "provenance": []
  },
  "kernelspec": {
   "display_name": "Python 3",
   "language": "python",
   "name": "python3"
  },
  "language_info": {
   "codemirror_mode": {
    "name": "ipython",
    "version": 3
   },
   "file_extension": ".py",
   "mimetype": "text/x-python",
   "name": "python",
   "nbconvert_exporter": "python",
   "pygments_lexer": "ipython3",
   "version": "3.8.8"
  }
 },
 "nbformat": 4,
 "nbformat_minor": 5
}
