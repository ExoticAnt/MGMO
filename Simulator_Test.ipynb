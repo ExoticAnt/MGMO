{
 "cells": [
  {
   "cell_type": "code",
   "execution_count": 1,
   "id": "outdoor-delay",
   "metadata": {},
   "outputs": [],
   "source": [
    "%load_ext autoreload"
   ]
  },
  {
   "cell_type": "code",
   "execution_count": 2,
   "id": "documentary-thong",
   "metadata": {},
   "outputs": [],
   "source": [
    "%autoreload 2"
   ]
  },
  {
   "cell_type": "code",
   "execution_count": 3,
   "id": "linear-rings",
   "metadata": {},
   "outputs": [],
   "source": [
    "import ModelWriters.Simulation.BaseSimulator as BS"
   ]
  },
  {
   "cell_type": "code",
   "execution_count": 4,
   "id": "addressed-tourism",
   "metadata": {},
   "outputs": [],
   "source": [
    "import ModelWriters.Simulation as Simulation"
   ]
  },
  {
   "cell_type": "code",
   "execution_count": 5,
   "id": "derived-hunter",
   "metadata": {},
   "outputs": [],
   "source": [
    "import matplotlib.pyplot as plt"
   ]
  },
  {
   "cell_type": "code",
   "execution_count": 6,
   "id": "extreme-bottom",
   "metadata": {},
   "outputs": [],
   "source": [
    "import numpy as np"
   ]
  },
  {
   "cell_type": "code",
   "execution_count": 7,
   "id": "conservative-pittsburgh",
   "metadata": {},
   "outputs": [],
   "source": [
    "import math"
   ]
  },
  {
   "cell_type": "code",
   "execution_count": null,
   "id": "beautiful-lancaster",
   "metadata": {},
   "outputs": [],
   "source": [
    "base_sim = BS.BaseSimulator(model = 'linear')"
   ]
  },
  {
   "cell_type": "code",
   "execution_count": null,
   "id": "anticipated-spine",
   "metadata": {},
   "outputs": [],
   "source": [
    "base_sim.a_hourly = 1.0\n",
    "base_sim.a_daily = 100.0"
   ]
  },
  {
   "cell_type": "code",
   "execution_count": null,
   "id": "ultimate-digit",
   "metadata": {},
   "outputs": [],
   "source": [
    "s = {}\n",
    "s['day'] = 10\n",
    "s['hour'] = 15"
   ]
  },
  {
   "cell_type": "code",
   "execution_count": null,
   "id": "manual-minimum",
   "metadata": {},
   "outputs": [],
   "source": [
    "base_sim.simulate(s)"
   ]
  },
  {
   "cell_type": "code",
   "execution_count": null,
   "id": "indirect-hopkins",
   "metadata": {},
   "outputs": [],
   "source": [
    "base_sim = BS.BaseSimulator(model = 'piecewise', post_random_model = 'gauss', post_random_up = 0.1, post_random_down=0.05)"
   ]
  },
  {
   "cell_type": "code",
   "execution_count": null,
   "id": "interpreted-hotel",
   "metadata": {},
   "outputs": [],
   "source": [
    "for h in range(24):\n",
    "    s['hour'] = h\n",
    "    print(10*base_sim.simulate(s))"
   ]
  },
  {
   "cell_type": "code",
   "execution_count": null,
   "id": "arranged-affairs",
   "metadata": {},
   "outputs": [],
   "source": [
    "import ModelWriters.Simulation.Demand as DS"
   ]
  },
  {
   "cell_type": "code",
   "execution_count": null,
   "id": "unique-incident",
   "metadata": {},
   "outputs": [],
   "source": [
    "demand = DS.DemandSimulator(post_random_up = 0.2, post_random_down = 0.2)"
   ]
  },
  {
   "cell_type": "code",
   "execution_count": null,
   "id": "universal-palmer",
   "metadata": {},
   "outputs": [],
   "source": [
    "dias = [355, 100, 172, 250]\n",
    "horas = range(24)\n",
    "\n",
    "scenes = []\n",
    "\n",
    "for d in dias:\n",
    "    for h in horas:\n",
    "        scenes.append({'day': d, 'hour': h})"
   ]
  },
  {
   "cell_type": "code",
   "execution_count": null,
   "id": "approximate-examination",
   "metadata": {},
   "outputs": [],
   "source": [
    "demand_sim = []\n",
    "\n",
    "for s in scenes:\n",
    "    demand_sim.append(demand.simulate(s))"
   ]
  },
  {
   "cell_type": "code",
   "execution_count": null,
   "id": "sensitive-wales",
   "metadata": {},
   "outputs": [],
   "source": [
    "# Set the plot curve with markers and a title\n",
    "fig, ax = plt.subplots(1, 1)\n",
    "\n",
    "fig.set_size_inches(10,6)\n",
    "##a=180*24\n",
    "#b=360\n",
    "##b=180*24+5*24\n",
    "a=0\n",
    "b=24\n",
    "#for col in Resultados:\n",
    "#    ax.plot(Resultados[col][a:b], label = col)\n",
    "\n",
    "ax.plot(demand_sim, label = 'Load')\n",
    "\n",
    "#ax.plot(Resultados['time'][240:360], Resultados['p_mw_PV'][240:360], label = 'PV')\n",
    "#ax.plot(Resultados['time'][240:360], Resultados['p_mw_Load'][240:360], label = 'Load')\n",
    "\n",
    "ax.set_xlabel('time')\n",
    "ax.set_ylabel('P[mw]')\n",
    "\n",
    "ax.legend()\n",
    "\n",
    "ax.grid(True)\n",
    "\n",
    "\n",
    "plt.show()"
   ]
  },
  {
   "cell_type": "code",
   "execution_count": null,
   "id": "derived-canon",
   "metadata": {},
   "outputs": [],
   "source": [
    "demand = DS.DemandSimulator(post_random_up = 0.15, post_random_down = 0.15, summer_peak = 0.1, winter_peak=0.2)\n",
    "\n",
    "scenes = []\n",
    "\n",
    "for d in range(365):\n",
    "    for h in horas:\n",
    "        scenes.append({'day': d, 'hour': 21.0})\n",
    "        \n",
    "demand_sim = []\n",
    "\n",
    "for s in scenes:\n",
    "    demand_sim.append(demand.simulate(s))"
   ]
  },
  {
   "cell_type": "code",
   "execution_count": null,
   "id": "little-romania",
   "metadata": {},
   "outputs": [],
   "source": [
    "\n",
    "fig, ax = plt.subplots(1, 1)\n",
    "\n",
    "fig.set_size_inches(10,6)\n",
    "ax.plot(demand_sim, label = 'Picos en el anno')\n",
    "ax.set_xlabel('dia')\n",
    "ax.set_ylabel('P[mw]')\n",
    "\n",
    "ax.legend()\n",
    "\n",
    "ax.grid(True)\n",
    "\n",
    "\n",
    "plt.show()"
   ]
  },
  {
   "cell_type": "code",
   "execution_count": null,
   "id": "adequate-stone",
   "metadata": {},
   "outputs": [],
   "source": [
    "import ModelWriters.Simulation.Solar as SS "
   ]
  },
  {
   "cell_type": "code",
   "execution_count": null,
   "id": "informative-portal",
   "metadata": {},
   "outputs": [],
   "source": [
    "demand = SS.SolarIrradianceSimulator()\n",
    "\n",
    "dias = [355, 100, 172, 250]\n",
    "horas = range(24)\n",
    "\n",
    "scenes = []\n",
    "\n",
    "for d in dias:\n",
    "    for h in horas:\n",
    "        scenes.append({'day': d, 'hour': h})\n",
    "        \n",
    "demand_sim = []\n",
    "\n",
    "for s in scenes:\n",
    "    demand_sim.append(demand.simulate(s))\n",
    "    \n",
    "fig, ax = plt.subplots(1, 1)\n",
    "\n",
    "fig.set_size_inches(10,6)\n",
    "\n",
    "ax.plot(demand_sim, label = 'Irradiation')\n",
    "\n",
    "ax.set_xlabel('time')\n",
    "ax.set_ylabel('I[w/m2]')\n",
    "\n",
    "ax.legend()\n",
    "\n",
    "ax.grid(True)\n",
    "\n",
    "\n",
    "plt.show()\n",
    "    "
   ]
  },
  {
   "cell_type": "code",
   "execution_count": null,
   "id": "editorial-gender",
   "metadata": {},
   "outputs": [],
   "source": [
    "sun = SS.SolarIrradianceSimulator()\n",
    "\n",
    "scenes = []\n",
    "days = [d for d in range(365)]\n",
    "for d in days:\n",
    "        scenes.append({'day': d, 'hour': 13.0})\n",
    "        \n",
    "sun_sim = []\n",
    "\n",
    "for s in scenes:\n",
    "    sun_sim.append(sun.simulate(s))\n",
    "\n",
    "fig, ax = plt.subplots(1, 1)\n",
    "\n",
    "fig.set_size_inches(10,6)\n",
    "ax.plot(days, sun_sim, label = 'Noon irradiance')\n",
    "ax.set_xlabel('day')\n",
    "ax.set_ylabel('I[W/m2]')\n",
    "\n",
    "ax.legend()\n",
    "\n",
    "ax.grid(True)\n",
    "\n",
    "\n",
    "plt.show()"
   ]
  },
  {
   "cell_type": "code",
   "execution_count": null,
   "id": "authentic-mapping",
   "metadata": {},
   "outputs": [],
   "source": [
    "import math"
   ]
  },
  {
   "cell_type": "code",
   "execution_count": null,
   "id": "informational-rapid",
   "metadata": {},
   "outputs": [],
   "source": [
    "math.exp(1)"
   ]
  },
  {
   "cell_type": "code",
   "execution_count": null,
   "id": "grand-sterling",
   "metadata": {},
   "outputs": [],
   "source": [
    "math.floor(363/30)"
   ]
  },
  {
   "cell_type": "code",
   "execution_count": null,
   "id": "rural-holder",
   "metadata": {},
   "outputs": [],
   "source": [
    "month = math.floor(363/30)"
   ]
  },
  {
   "cell_type": "code",
   "execution_count": null,
   "id": "demanding-training",
   "metadata": {},
   "outputs": [],
   "source": [
    "month = 11 if month >= 12 else month\n",
    "month"
   ]
  },
  {
   "cell_type": "code",
   "execution_count": null,
   "id": "exclusive-sodium",
   "metadata": {},
   "outputs": [],
   "source": [
    "import ModelWriters.Simulation.Economics as Economics"
   ]
  },
  {
   "cell_type": "code",
   "execution_count": null,
   "id": "billion-tobacco",
   "metadata": {},
   "outputs": [],
   "source": [
    "npv = Economics.DeterministicGrowthSimulator(annual_rate = 0.1)\n",
    "\n",
    "npv.base = 1.5\n",
    "npv.monthly_rate = 0.005\n",
    "scenes = []\n",
    "days = [d for d in range(365)]\n",
    "years = [y for y in range(20)]\n",
    "for y in years:\n",
    "    for d in days:\n",
    "        scenes.append({'year': y, 'day': d, 'hour': 13.0})\n",
    "        \n",
    "sim = []\n",
    "\n",
    "for s in scenes:\n",
    "    sim.append(npv.simulate(s))\n",
    "\n",
    "fig, ax = plt.subplots(1, 1)\n",
    "\n",
    "fig.set_size_inches(10,6)\n",
    "ax.plot(sim, label = 'V')\n",
    "ax.set_xlabel('day')\n",
    "ax.set_ylabel('Value')\n",
    "\n",
    "ax.legend()\n",
    "\n",
    "ax.grid(True)\n",
    "\n",
    "\n",
    "plt.show()"
   ]
  },
  {
   "cell_type": "code",
   "execution_count": null,
   "id": "median-replacement",
   "metadata": {},
   "outputs": [],
   "source": [
    "npv = Economics.PVSimulator(annual_rate = 0.1, base = 5.0)\n",
    "\n",
    "scenes = []\n",
    "days = [d for d in range(365)]\n",
    "years = [y for y in range(20)]\n",
    "for y in years:\n",
    "    for d in days:\n",
    "        scenes.append({'year': y, 'day': d, 'hour': 13.0})\n",
    "        \n",
    "sim = []\n",
    "\n",
    "for s in scenes:\n",
    "    sim.append(npv.simulate(s))\n",
    "\n",
    "fig, ax = plt.subplots(1, 1)\n",
    "\n",
    "fig.set_size_inches(10,6)\n",
    "ax.plot(sim, label = 'NPV')\n",
    "ax.set_xlabel('day')\n",
    "ax.set_ylabel('Discount Rate')\n",
    "\n",
    "ax.legend()\n",
    "\n",
    "ax.grid(True)\n",
    "\n",
    "\n",
    "plt.show()"
   ]
  },
  {
   "cell_type": "code",
   "execution_count": null,
   "id": "spectacular-producer",
   "metadata": {},
   "outputs": [],
   "source": [
    "npv = Economics.PVSimulator(annual_rate = 0.0, daily_rate = 0.1/365)\n",
    "\n",
    "scenes = []\n",
    "days = [d for d in range(365)]\n",
    "years = [y for y in range(20)]\n",
    "for y in years:\n",
    "    for d in days:\n",
    "        scenes.append({'year': y, 'day': d, 'hour': 13.0})\n",
    "        \n",
    "sim = []\n",
    "\n",
    "for s in scenes:\n",
    "    sim.append(npv.simulate(s))\n",
    "\n",
    "fig, ax = plt.subplots(1, 1)\n",
    "\n",
    "fig.set_size_inches(10,6)\n",
    "ax.plot(sim, label = 'NPV')\n",
    "ax.set_xlabel('day')\n",
    "ax.set_ylabel('Discount Rate')\n",
    "\n",
    "ax.legend()\n",
    "\n",
    "ax.grid(True)\n",
    "\n",
    "\n",
    "plt.show()\n",
    "\n",
    "print(\"DR: {0} YR: {1}\".format(npv.daily_rate, npv.annual_rate))"
   ]
  },
  {
   "cell_type": "code",
   "execution_count": null,
   "id": "primary-impossible",
   "metadata": {},
   "outputs": [],
   "source": [
    "v = Economics.ElectricityCostSimulator()\n",
    "\n",
    "scenes = []\n",
    "days = [d for d in range(3)]\n",
    "years = [y for y in range(1)]\n",
    "for y in years:\n",
    "    for d in days:\n",
    "        for h in range(24):\n",
    "            scenes.append({'year': y, 'day': d, 'hour': h})\n",
    "        \n",
    "sim = []\n",
    "\n",
    "for s in scenes:\n",
    "    sim.append(v.simulate(s))\n",
    "\n",
    "fig, ax = plt.subplots(1, 1)\n",
    "\n",
    "fig.set_size_inches(10,6)\n",
    "ax.plot(sim, label = 'Electricity Cost (Client)')\n",
    "ax.set_xlabel('hour')\n",
    "ax.set_ylabel('Price')\n",
    "\n",
    "ax.legend()\n",
    "\n",
    "ax.grid(True)\n",
    "\n",
    "\n",
    "plt.show()"
   ]
  },
  {
   "cell_type": "code",
   "execution_count": null,
   "id": "circular-italian",
   "metadata": {},
   "outputs": [],
   "source": [
    "#Weibull parameters\n",
    "c = 7.8/0.886\n",
    "k = 2.0"
   ]
  },
  {
   "cell_type": "code",
   "execution_count": null,
   "id": "weird-proposition",
   "metadata": {},
   "outputs": [],
   "source": [
    "import ModelWriters.Simulation.Wind as Wind"
   ]
  },
  {
   "cell_type": "markdown",
   "id": "commercial-salon",
   "metadata": {},
   "source": [
    "Pure Weibull"
   ]
  },
  {
   "cell_type": "code",
   "execution_count": null,
   "id": "basic-psychology",
   "metadata": {},
   "outputs": [],
   "source": [
    "w = Wind.Weibull(c, k)\n",
    "\n",
    "scenes = []\n",
    "days = [d for d in range(10)]\n",
    "years = [y for y in range(1)]\n",
    "for y in years:\n",
    "    for d in days:\n",
    "        for h in range(24):\n",
    "            scenes.append({'year': y, 'day': d, 'hour': h})\n",
    "        \n",
    "sim = []\n",
    "v = 0.0\n",
    "for s in scenes:\n",
    "    v = w.simulate(s)\n",
    "    sim.append(v)\n",
    "\n",
    "fig, ax = plt.subplots(1, 1)\n",
    "\n",
    "fig.set_size_inches(10,6)\n",
    "ax.plot(sim, label = 'Wind Speed')\n",
    "ax.set_xlabel('hour')\n",
    "ax.set_ylabel('v')\n",
    "\n",
    "ax.legend()\n",
    "\n",
    "ax.grid(True)\n",
    "\n",
    "\n",
    "plt.show()"
   ]
  },
  {
   "cell_type": "code",
   "execution_count": null,
   "id": "recorded-reynolds",
   "metadata": {},
   "outputs": [],
   "source": [
    "w = Wind.CorrelatedWeibull(c, k)\n",
    "\n",
    "scenes = []\n",
    "days = [d for d in range(365)]\n",
    "years = [y for y in range(1)]\n",
    "for y in years:\n",
    "    for d in days:\n",
    "        for h in range(24):\n",
    "            scenes.append({'year': y, 'day': d, 'hour': h})\n",
    "        \n",
    "sim = []\n",
    "hg = [0 for i in range(100)]\n",
    "delta = 0.5\n",
    "\n",
    "v = 0.0\n",
    "for s in scenes:\n",
    "    v = w.simulate(s)\n",
    "    b = math.floor(v/delta)\n",
    "    hg[b] = hg[b] + 1\n",
    "    sim.append(v)\n",
    "\n",
    "fig, ax = plt.subplots(1, 1)\n",
    "\n",
    "fig.set_size_inches(10,6)\n",
    "ax.plot(hg, label = 'Wind Speed')\n",
    "ax.set_xlabel('hour')\n",
    "ax.set_ylabel('v')\n",
    "\n",
    "ax.legend()\n",
    "\n",
    "ax.grid(True)\n",
    "\n",
    "\n",
    "plt.show()\n",
    "\n",
    "print(sum(sim)/len(sim))"
   ]
  },
  {
   "cell_type": "markdown",
   "id": "baking-payday",
   "metadata": {},
   "source": [
    "Temporally-correlated Weibull"
   ]
  },
  {
   "cell_type": "code",
   "execution_count": null,
   "id": "stainless-campbell",
   "metadata": {},
   "outputs": [],
   "source": [
    "w = Wind.CorrelatedWeibull(c, k)\n",
    "\n",
    "scenes = []\n",
    "days = [d for d in range(10)]\n",
    "years = [y for y in range(1)]\n",
    "for y in years:\n",
    "    for d in days:\n",
    "        for h in range(24):\n",
    "            scenes.append({'year': y, 'day': d, 'hour': h})\n",
    "        \n",
    "sim = []\n",
    "v = 0.0\n",
    "for s in scenes:\n",
    "    v = w.simulate(s)\n",
    "    sim.append(v)\n",
    "\n",
    "fig, ax = plt.subplots(1, 1)\n",
    "\n",
    "fig.set_size_inches(10,6)\n",
    "ax.plot(sim, label = 'Wind Speed')\n",
    "ax.set_xlabel('hour')\n",
    "ax.set_ylabel('v')\n",
    "\n",
    "ax.legend()\n",
    "\n",
    "ax.grid(True)\n",
    "\n",
    "\n",
    "plt.show()"
   ]
  },
  {
   "cell_type": "code",
   "execution_count": null,
   "id": "gorgeous-lying",
   "metadata": {},
   "outputs": [],
   "source": [
    "w = Wind.CorrelatedWeibull(c, k)\n",
    "\n",
    "scenes = []\n",
    "days = [d for d in range(365)]\n",
    "years = [y for y in range(1)]\n",
    "for y in years:\n",
    "    for d in days:\n",
    "        for h in range(24):\n",
    "            scenes.append({'year': y, 'day': d, 'hour': h})\n",
    "        \n",
    "sim = []\n",
    "hg = [0 for i in range(100)]\n",
    "delta = 0.5\n",
    "\n",
    "v = 0.0\n",
    "for s in scenes:\n",
    "    v = w.simulate(s)\n",
    "    b = math.floor(v/delta)\n",
    "    hg[b] = hg[b] + 1\n",
    "    sim.append(v)\n",
    "\n",
    "fig, ax = plt.subplots(1, 1)\n",
    "\n",
    "fig.set_size_inches(10,6)\n",
    "ax.plot(hg, label = 'Wind Speed')\n",
    "ax.set_xlabel('hour')\n",
    "ax.set_ylabel('v')\n",
    "\n",
    "ax.legend()\n",
    "\n",
    "ax.grid(True)\n",
    "\n",
    "\n",
    "plt.show()\n",
    "\n",
    "print(sum(sim)/len(sim))"
   ]
  },
  {
   "cell_type": "code",
   "execution_count": null,
   "id": "extended-money",
   "metadata": {},
   "outputs": [],
   "source": [
    "int(5.99)"
   ]
  },
  {
   "cell_type": "code",
   "execution_count": null,
   "id": "likely-captain",
   "metadata": {},
   "outputs": [],
   "source": []
  },
  {
   "cell_type": "code",
   "execution_count": null,
   "id": "minus-richardson",
   "metadata": {},
   "outputs": [],
   "source": [
    "user_summer = pd.read_csv('.\\\\Data\\\\UserComSum.csv', header = None, squeeze = True) "
   ]
  },
  {
   "cell_type": "code",
   "execution_count": null,
   "id": "latin-release",
   "metadata": {},
   "outputs": [],
   "source": [
    "user_summer"
   ]
  },
  {
   "cell_type": "code",
   "execution_count": null,
   "id": "freelance-equivalent",
   "metadata": {},
   "outputs": [],
   "source": [
    "fig, ax = plt.subplots(1, 1)\n",
    "\n",
    "fig.set_size_inches(10,6)\n",
    "    \n",
    "ax.plot(user_summer)\n",
    "    \n",
    "ax.set_xlabel('time')\n",
    "ax.set_ylabel('P[mw]')\n",
    "\n",
    "ax.legend()\n",
    "\n",
    "ax.grid(True)\n",
    "\n",
    "\n",
    "plt.show()"
   ]
  },
  {
   "cell_type": "code",
   "execution_count": null,
   "id": "native-enhancement",
   "metadata": {},
   "outputs": [],
   "source": [
    "di = Simulation.DailyInterpolator()"
   ]
  },
  {
   "cell_type": "code",
   "execution_count": null,
   "id": "uniform-plane",
   "metadata": {},
   "outputs": [],
   "source": [
    "di.simulate(scenes.iloc[100])"
   ]
  },
  {
   "cell_type": "code",
   "execution_count": null,
   "id": "outer-concern",
   "metadata": {},
   "outputs": [],
   "source": [
    "di.add_day(355, [h for h in range(len(user_summer))], user_summer)"
   ]
  },
  {
   "cell_type": "code",
   "execution_count": null,
   "id": "conventional-remark",
   "metadata": {},
   "outputs": [],
   "source": [
    "di.simulate(scenes.iloc[100])"
   ]
  },
  {
   "cell_type": "code",
   "execution_count": null,
   "id": "minute-acceptance",
   "metadata": {},
   "outputs": [],
   "source": [
    "res = [di.simulate(scenes.iloc[i]) for i in range(len(scenes))]"
   ]
  },
  {
   "cell_type": "code",
   "execution_count": null,
   "id": "smart-visit",
   "metadata": {},
   "outputs": [],
   "source": [
    "fig, ax = plt.subplots(1, 1)\n",
    "\n",
    "fig.set_size_inches(10,6)\n",
    "    \n",
    "ax.plot(res[240:240+48])\n",
    "    \n",
    "ax.set_xlabel('time')\n",
    "ax.set_ylabel('P[mw]')\n",
    "\n",
    "ax.legend()\n",
    "\n",
    "ax.grid(True)\n",
    "\n",
    "\n",
    "plt.show()"
   ]
  },
  {
   "cell_type": "code",
   "execution_count": null,
   "id": "hindu-granny",
   "metadata": {},
   "outputs": [],
   "source": [
    "user_winter = pd.read_csv('.\\\\Data\\\\UserComWin.csv', header = None, squeeze = True)\n",
    "user_winter"
   ]
  },
  {
   "cell_type": "code",
   "execution_count": null,
   "id": "innocent-westminster",
   "metadata": {},
   "outputs": [],
   "source": [
    "di = Simulation.DailyInterpolator()"
   ]
  },
  {
   "cell_type": "code",
   "execution_count": null,
   "id": "nutritional-peace",
   "metadata": {},
   "outputs": [],
   "source": [
    "di.add_day(81, [h for h in range(len(user_summer))], user_summer*0.5)"
   ]
  },
  {
   "cell_type": "code",
   "execution_count": null,
   "id": "executive-organization",
   "metadata": {},
   "outputs": [],
   "source": [
    "di.add_day(172, [h for h in range(len(user_summer))], user_summer)"
   ]
  },
  {
   "cell_type": "code",
   "execution_count": null,
   "id": "adolescent-middle",
   "metadata": {},
   "outputs": [],
   "source": [
    "di.add_day(264, [h for h in range(len(user_summer))], -0.5*user_summer)"
   ]
  },
  {
   "cell_type": "code",
   "execution_count": null,
   "id": "arranged-shepherd",
   "metadata": {},
   "outputs": [],
   "source": [
    "di.add_day(355, [h for h in range(len(user_summer))], -1.0*user_summer)"
   ]
  },
  {
   "cell_type": "code",
   "execution_count": null,
   "id": "stuck-providence",
   "metadata": {},
   "outputs": [],
   "source": [
    "#di.data_days"
   ]
  },
  {
   "cell_type": "code",
   "execution_count": null,
   "id": "exclusive-jungle",
   "metadata": {},
   "outputs": [],
   "source": [
    "di.simulate({'day': 81, 'hour': 12})"
   ]
  },
  {
   "cell_type": "code",
   "execution_count": null,
   "id": "adolescent-skiing",
   "metadata": {},
   "outputs": [],
   "source": [
    "res = [di.simulate({'day':i, 'hour': 15}) for i in range(366)]"
   ]
  },
  {
   "cell_type": "code",
   "execution_count": null,
   "id": "cross-philosophy",
   "metadata": {},
   "outputs": [],
   "source": [
    "fig, ax = plt.subplots(1, 1)\n",
    "\n",
    "fig.set_size_inches(10,6)\n",
    "    \n",
    "ax.plot(res)\n",
    "    \n",
    "ax.set_xlabel('time')\n",
    "ax.set_ylabel('P[mw]')\n",
    "\n",
    "ax.legend()\n",
    "\n",
    "ax.grid(True)\n",
    "\n",
    "\n",
    "plt.show()"
   ]
  },
  {
   "cell_type": "code",
   "execution_count": null,
   "id": "certain-boring",
   "metadata": {},
   "outputs": [],
   "source": [
    "d = {6: 2, 7: 3, 5: 1, 2:2}"
   ]
  },
  {
   "cell_type": "code",
   "execution_count": null,
   "id": "vocal-cancellation",
   "metadata": {},
   "outputs": [],
   "source": [
    "import math"
   ]
  },
  {
   "cell_type": "code",
   "execution_count": null,
   "id": "practical-secretary",
   "metadata": {},
   "outputs": [],
   "source": [
    "math.asin(0.5)*180/math.pi"
   ]
  },
  {
   "cell_type": "code",
   "execution_count": null,
   "id": "massive-divorce",
   "metadata": {},
   "outputs": [],
   "source": []
  },
  {
   "cell_type": "code",
   "execution_count": null,
   "id": "several-diagnosis",
   "metadata": {},
   "outputs": [],
   "source": [
    "calculate_sunrise_sunset(lat=-34.88, long=-58.58, day=198, sunrise = False, text = True)"
   ]
  },
  {
   "cell_type": "code",
   "execution_count": null,
   "id": "eligible-scholarship",
   "metadata": {},
   "outputs": [],
   "source": [
    "[15 + math.floor(365.0/12.0*i)  for i in range(12)]"
   ]
  },
  {
   "cell_type": "code",
   "execution_count": null,
   "id": "naughty-italian",
   "metadata": {},
   "outputs": [],
   "source": [
    "5/3"
   ]
  },
  {
   "cell_type": "code",
   "execution_count": 22,
   "id": "czech-worry",
   "metadata": {},
   "outputs": [],
   "source": [
    "ssim = Simulation.MonthlySolarIrradianceSimulator()"
   ]
  },
  {
   "cell_type": "code",
   "execution_count": 23,
   "id": "colored-lodge",
   "metadata": {},
   "outputs": [],
   "source": [
    "msi = [7.5e3, 7.2e3, 6.5e3, 5.5e3, 4.5e3, 3.5e3, 2.5e3, 3.5e3, 4.5e3, 6.0e3, 7.0e3, 8.5e3]"
   ]
  },
  {
   "cell_type": "code",
   "execution_count": 24,
   "id": "sudden-number",
   "metadata": {},
   "outputs": [],
   "source": [
    "ssim.set_monthly_coefficients(msi)"
   ]
  },
  {
   "cell_type": "code",
   "execution_count": 25,
   "id": "nuclear-member",
   "metadata": {},
   "outputs": [
    {
     "data": {
      "text/plain": [
       "[0.8450470492508327,\n",
       " 0.9478979826292501,\n",
       " 0.855741234318073,\n",
       " 0.8711144217849497,\n",
       " 0.7934714131880923,\n",
       " 0.6171444324796274,\n",
       " 0.3959611008113407,\n",
       " 0.5543455411358771,\n",
       " 0.6470023229773799,\n",
       " 0.7899149855243751,\n",
       " 0.8499538825558236,\n",
       " 0.9577199891509437]"
      ]
     },
     "execution_count": 25,
     "metadata": {},
     "output_type": "execute_result"
    }
   ],
   "source": [
    "ssim.monthly_coefficients"
   ]
  },
  {
   "cell_type": "code",
   "execution_count": 26,
   "id": "italian-survival",
   "metadata": {},
   "outputs": [
    {
     "data": {
      "text/plain": [
       "0.2"
      ]
     },
     "execution_count": 26,
     "metadata": {},
     "output_type": "execute_result"
    }
   ],
   "source": [
    "ssim.model_a"
   ]
  },
  {
   "cell_type": "code",
   "execution_count": 27,
   "id": "sticky-steel",
   "metadata": {},
   "outputs": [
    {
     "data": {
      "text/plain": [
       "1.0"
      ]
     },
     "execution_count": 27,
     "metadata": {},
     "output_type": "execute_result"
    }
   ],
   "source": [
    "ssim.model_b"
   ]
  },
  {
   "cell_type": "code",
   "execution_count": 28,
   "id": "canadian-graduate",
   "metadata": {},
   "outputs": [
    {
     "data": {
      "text/plain": [
       "[1.335141147752498,\n",
       " 1.64369394788775,\n",
       " 1.367223702954219,\n",
       " 1.413343265354849,\n",
       " 1.1804142395642767,\n",
       " 0.6514332974388821,\n",
       " -0.012116697565977885,\n",
       " 0.4630366234076313,\n",
       " 0.7410069689321397,\n",
       " 1.1697449565731253,\n",
       " 1.3498616476674705,\n",
       " 1.6731599674528308]"
      ]
     },
     "execution_count": 28,
     "metadata": {},
     "output_type": "execute_result"
    }
   ],
   "source": [
    "ssim.model_c"
   ]
  },
  {
   "cell_type": "code",
   "execution_count": 29,
   "id": "medium-venue",
   "metadata": {},
   "outputs": [
    {
     "data": {
      "text/plain": [
       "0.8784432293423043"
      ]
     },
     "execution_count": 29,
     "metadata": {},
     "output_type": "execute_result"
    }
   ],
   "source": [
    "ssim.simulate_day_coefficient(15)"
   ]
  },
  {
   "cell_type": "code",
   "execution_count": 30,
   "id": "biological-comparative",
   "metadata": {},
   "outputs": [],
   "source": [
    "data = [ssim.simulate_day_coefficient(355) for i in range(10000)]"
   ]
  },
  {
   "cell_type": "code",
   "execution_count": 31,
   "id": "injured-activity",
   "metadata": {},
   "outputs": [
    {
     "data": {
      "text/plain": [
       "1.0999993543617088"
      ]
     },
     "execution_count": 31,
     "metadata": {},
     "output_type": "execute_result"
    }
   ],
   "source": [
    "max(data)"
   ]
  },
  {
   "cell_type": "code",
   "execution_count": 32,
   "id": "plain-solid",
   "metadata": {},
   "outputs": [],
   "source": [
    "bines = 20\n",
    "maxx = 1.5\n",
    "delta = maxx/bines\n",
    "histo = [0.0 for i in range(bines)]\n",
    "for d in data:\n",
    "    try:\n",
    "        b = math.floor(d/delta)\n",
    "        histo[b] += 1/bines\n",
    "    except:\n",
    "        print(d, b)"
   ]
  },
  {
   "cell_type": "code",
   "execution_count": 33,
   "id": "normal-airline",
   "metadata": {},
   "outputs": [
    {
     "data": {
      "image/png": "[encoded data removed]",
      "text/plain": [
       "<Figure size 720x432 with 1 Axes>"
      ]
     },
     "metadata": {
      "needs_background": "light"
     },
     "output_type": "display_data"
    }
   ],
   "source": [
    "fig, ax = plt.subplots(1, 1)\n",
    "\n",
    "fig.set_size_inches(10,6)\n",
    "    \n",
    "ax.plot(histo)\n",
    "\n",
    "ax.grid(True)\n",
    "\n",
    "\n",
    "plt.show()"
   ]
  },
  {
   "cell_type": "code",
   "execution_count": null,
   "id": "fitted-violence",
   "metadata": {
    "tags": []
   },
   "outputs": [],
   "source": []
  },
  {
   "cell_type": "code",
   "execution_count": 34,
   "id": "corporate-missile",
   "metadata": {},
   "outputs": [
    {
     "data": {
      "image/png": "[encoded data removed]",
      "text/plain": [
       "<Figure size 720x432 with 1 Axes>"
      ]
     },
     "metadata": {
      "needs_background": "light"
     },
     "output_type": "display_data"
    }
   ],
   "source": [
    "dias = [355, 100, 172, 250]\n",
    "horas = range(24)\n",
    "\n",
    "scenes = []\n",
    "\n",
    "for d in dias:\n",
    "    for h in horas:\n",
    "        scenes.append({'day': d, 'hour': h})\n",
    "        \n",
    "demand_sim = []\n",
    "\n",
    "for s in scenes:\n",
    "    demand_sim.append(ssim.simulate(s))\n",
    "    \n",
    "fig, ax = plt.subplots(1, 1)\n",
    "\n",
    "fig.set_size_inches(10,6)\n",
    "\n",
    "ax.plot(demand_sim, label = 'Irradiation')\n",
    "\n",
    "ax.set_xlabel('time')\n",
    "ax.set_ylabel('I[w/m2]')\n",
    "\n",
    "ax.legend()\n",
    "\n",
    "ax.grid(True)\n",
    "\n",
    "\n",
    "plt.show()\n",
    "    "
   ]
  },
  {
   "cell_type": "code",
   "execution_count": 35,
   "id": "adjustable-design",
   "metadata": {},
   "outputs": [
    {
     "data": {
      "image/png": "[encoded data removed]",
      "text/plain": [
       "<Figure size 720x432 with 1 Axes>"
      ]
     },
     "metadata": {
      "needs_background": "light"
     },
     "output_type": "display_data"
    }
   ],
   "source": [
    "\n",
    "\n",
    "scenes = []\n",
    "days = [d for d in range(365)]\n",
    "for d in days:\n",
    "        scenes.append({'day': d, 'hour': 13.0})\n",
    "        \n",
    "sun_sim = []\n",
    "\n",
    "for s in scenes:\n",
    "    sun_sim.append(ssim.simulate(s))\n",
    "\n",
    "fig, ax = plt.subplots(1, 1)\n",
    "\n",
    "fig.set_size_inches(10,6)\n",
    "ax.plot(days, sun_sim, label = 'Noon irradiance')\n",
    "ax.set_xlabel('day')\n",
    "ax.set_ylabel('I[W/m2]')\n",
    "\n",
    "ax.legend()\n",
    "\n",
    "ax.grid(True)\n",
    "\n",
    "\n",
    "plt.show()"
   ]
  },
  {
   "cell_type": "code",
   "execution_count": null,
   "id": "emerging-albania",
   "metadata": {},
   "outputs": [],
   "source": []
  }
 ],
 "metadata": {
  "kernelspec": {
   "display_name": "Python 3",
   "language": "python",
   "name": "python3"
  },
  "language_info": {
   "codemirror_mode": {
    "name": "ipython",
    "version": 3
   },
   "file_extension": ".py",
   "mimetype": "text/x-python",
   "name": "python",
   "nbconvert_exporter": "python",
   "pygments_lexer": "ipython3",
   "version": "3.8.8"
  }
 },
 "nbformat": 4,
 "nbformat_minor": 5
}
